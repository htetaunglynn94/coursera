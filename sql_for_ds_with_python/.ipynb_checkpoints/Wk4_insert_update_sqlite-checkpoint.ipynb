{
 "cells": [
  {
   "cell_type": "code",
   "execution_count": 1,
   "id": "96fa989b-ed21-43b3-ad3a-057d708a89f9",
   "metadata": {
    "tags": []
   },
   "outputs": [],
   "source": [
    "import sqlite3 as sq3"
   ]
  },
  {
   "cell_type": "markdown",
   "id": "7b39c6bf-827d-411d-b637-96a6f901360a",
   "metadata": {},
   "source": [
    "# Create database using SQLite"
   ]
  },
  {
   "cell_type": "code",
   "execution_count": 2,
   "id": "7958b79e-8026-462a-8691-a120c305f733",
   "metadata": {
    "tags": []
   },
   "outputs": [],
   "source": [
    "conn = sq3.connect('INSTRUCTOR.db')\n",
    "cursor = conn.cursor()"
   ]
  },
  {
   "cell_type": "markdown",
   "id": "4199ec19-fd4b-4952-bcbc-fc02cad95551",
   "metadata": {},
   "source": [
    "# Create a table in the database"
   ]
  },
  {
   "cell_type": "code",
   "execution_count": 3,
   "id": "bad792fe-d9cc-4c5a-aa38-1fae05b1d7d5",
   "metadata": {
    "tags": []
   },
   "outputs": [
    {
     "data": {
      "text/plain": [
       "<sqlite3.Cursor at 0x72bf4b7b2c40>"
      ]
     },
     "execution_count": 3,
     "metadata": {},
     "output_type": "execute_result"
    }
   ],
   "source": [
    "cursor.execute('DROP TABLE IF EXISTS INSTRUCTOR')"
   ]
  },
  {
   "cell_type": "code",
   "execution_count": 4,
   "id": "677fd99e-dfa9-4cb6-ae01-991057061458",
   "metadata": {
    "tags": []
   },
   "outputs": [
    {
     "name": "stdout",
     "output_type": "stream",
     "text": [
      "Table is ready.\n"
     ]
    }
   ],
   "source": [
    "# creating table\n",
    "script = \"\"\"\n",
    "            CREATE TABLE IF NOT EXISTS INSTRUCTOR\n",
    "            (ID INTEGER PRIMARY KEY NOT NULL,\n",
    "             FNAME VARCHAR(20),\n",
    "             LNAME VARCHAR(20),\n",
    "             CITY VARCHAR(20),\n",
    "             CCODE CHAR(2));\n",
    "        \"\"\"\n",
    "cursor.execute(script)\n",
    "print(\"Table is ready.\")"
   ]
  },
  {
   "cell_type": "markdown",
   "id": "963cb25b-3b2f-44c6-84a0-a762e5f772d2",
   "metadata": {},
   "source": [
    "# Insert data into table"
   ]
  },
  {
   "cell_type": "code",
   "execution_count": 5,
   "id": "52d9df79-2bc4-47d3-bf76-d39d7f8f8c87",
   "metadata": {
    "tags": []
   },
   "outputs": [
    {
     "data": {
      "text/plain": [
       "<sqlite3.Cursor at 0x72bf4b7b2c40>"
      ]
     },
     "execution_count": 5,
     "metadata": {},
     "output_type": "execute_result"
    }
   ],
   "source": [
    "cursor.execute('''\n",
    "                INSERT INTO INSTRUCTOR\n",
    "                VALUES (1, 'Rav', 'Ahuja', 'TORONTO', 'CA')\n",
    "                ''')"
   ]
  },
  {
   "cell_type": "code",
   "execution_count": 6,
   "id": "631c4bba-fbcf-4e39-bc91-768aad7e82a6",
   "metadata": {
    "tags": []
   },
   "outputs": [
    {
     "data": {
      "text/plain": [
       "<sqlite3.Cursor at 0x72bf4b7b2c40>"
      ]
     },
     "execution_count": 6,
     "metadata": {},
     "output_type": "execute_result"
    }
   ],
   "source": [
    "cursor.execute('''\n",
    "                INSERT INTO INSTRUCTOR VALUES \n",
    "                (2, 'Raul', 'Chong', 'Markham', 'CA'), \n",
    "                (3, 'Hima', 'Vasudevan', 'Chicago', 'US')\n",
    "                ''')"
   ]
  },
  {
   "cell_type": "markdown",
   "id": "226c9b6b-9474-4897-8120-21d77c31e4f8",
   "metadata": {},
   "source": [
    "# Query data in the table"
   ]
  },
  {
   "cell_type": "code",
   "execution_count": 9,
   "id": "0d1eab5f-f337-471e-a769-d7887495954f",
   "metadata": {
    "tags": []
   },
   "outputs": [
    {
     "name": "stdout",
     "output_type": "stream",
     "text": [
      "All the data\n"
     ]
    },
    {
     "data": {
      "text/plain": [
       "[(1, 'Rav', 'Ahuja', 'TORONTO', 'CA'),\n",
       " (2, 'Raul', 'Chong', 'Markham', 'CA'),\n",
       " (3, 'Hima', 'Vasudevan', 'Chicago', 'US')]"
      ]
     },
     "metadata": {},
     "output_type": "display_data"
    },
    {
     "name": "stdout",
     "output_type": "stream",
     "text": [
      "(1, 'Rav', 'Ahuja', 'TORONTO', 'CA')\n",
      "(2, 'Raul', 'Chong', 'Markham', 'CA')\n",
      "(3, 'Hima', 'Vasudevan', 'Chicago', 'US')\n"
     ]
    }
   ],
   "source": [
    "statement = '''SELECT * FROM INSTRUCTOR'''\n",
    "cursor.execute(statement)\n",
    "\n",
    "print('All the data')\n",
    "output_all = cursor.fetchall()   # fetch all rows\n",
    "display(output_all)\n",
    "for row in output_all:\n",
    "    print(row)"
   ]
  },
  {
   "cell_type": "code",
   "execution_count": 12,
   "id": "c7b39336-b112-4d8c-8ec4-41cee4489702",
   "metadata": {
    "tags": []
   },
   "outputs": [
    {
     "name": "stdout",
     "output_type": "stream",
     "text": [
      "All data\n",
      "(1, 'Rav', 'Ahuja', 'TORONTO', 'CA')\n",
      "(2, 'Raul', 'Chong', 'Markham', 'CA')\n"
     ]
    }
   ],
   "source": [
    "# fetch few rows from the table\n",
    "statement = '''SELECT * FROM INSTRUCTOR'''\n",
    "cursor.execute(statement)\n",
    "\n",
    "print('All data')\n",
    "output_many = cursor.fetchmany(2)    # fetch 2 rows\n",
    "for row in output_many:\n",
    "    print(row)"
   ]
  },
  {
   "cell_type": "code",
   "execution_count": 13,
   "id": "d43a53e7-7d78-4210-b44b-f1d8578e23dc",
   "metadata": {
    "tags": []
   },
   "outputs": [
    {
     "name": "stdout",
     "output_type": "stream",
     "text": [
      "All data\n",
      "('Rav',)\n",
      "('Raul',)\n",
      "('Hima',)\n"
     ]
    }
   ],
   "source": [
    "# fetch only FNAME from the table\n",
    "statement = 'SELECT FNAME FROM INSTRUCTOR'\n",
    "cursor.execute(statement)\n",
    "\n",
    "print('All data')\n",
    "output_col = cursor.fetchall()\n",
    "for row in output_col:\n",
    "    print(row)"
   ]
  },
  {
   "cell_type": "markdown",
   "id": "e53049f2-ccb4-4ab8-970a-976755f0a2aa",
   "metadata": {},
   "source": [
    " Write and execute an update statement that changes the Rav's CITY to MOOSETOWN"
   ]
  },
  {
   "cell_type": "code",
   "execution_count": 14,
   "id": "bf756936-3528-428e-92db-0a7fc9ab2595",
   "metadata": {
    "tags": []
   },
   "outputs": [
    {
     "name": "stdout",
     "output_type": "stream",
     "text": [
      "(1, 'Rav', 'Ahuja', 'MOOSETOWN', 'CA')\n",
      "(2, 'Raul', 'Chong', 'Markham', 'CA')\n",
      "(3, 'Hima', 'Vasudevan', 'Chicago', 'US')\n"
     ]
    }
   ],
   "source": [
    "update = \"UPDATE INSTRUCTOR SET CITY = 'MOOSETOWN' WHERE FNAME = 'Rav'\"\n",
    "cursor.execute(update)\n",
    "\n",
    "output = cursor.execute('SELECT * FROM INSTRUCTOR')\n",
    "for row in cursor.fetchall():\n",
    "    print(row)"
   ]
  },
  {
   "cell_type": "markdown",
   "id": "71df9155-ba0a-4060-84b1-8237a797d04d",
   "metadata": {},
   "source": [
    "# Retrieve data in to Pandas"
   ]
  },
  {
   "cell_type": "code",
   "execution_count": 15,
   "id": "7557314b-e56a-4ffa-ba92-5ad6158ef9b4",
   "metadata": {
    "tags": []
   },
   "outputs": [
    {
     "data": {
      "text/html": [
       "<div>\n",
       "<style scoped>\n",
       "    .dataframe tbody tr th:only-of-type {\n",
       "        vertical-align: middle;\n",
       "    }\n",
       "\n",
       "    .dataframe tbody tr th {\n",
       "        vertical-align: top;\n",
       "    }\n",
       "\n",
       "    .dataframe thead th {\n",
       "        text-align: right;\n",
       "    }\n",
       "</style>\n",
       "<table border=\"1\" class=\"dataframe\">\n",
       "  <thead>\n",
       "    <tr style=\"text-align: right;\">\n",
       "      <th></th>\n",
       "      <th>ID</th>\n",
       "      <th>FNAME</th>\n",
       "      <th>LNAME</th>\n",
       "      <th>CITY</th>\n",
       "      <th>CCODE</th>\n",
       "    </tr>\n",
       "  </thead>\n",
       "  <tbody>\n",
       "    <tr>\n",
       "      <th>0</th>\n",
       "      <td>1</td>\n",
       "      <td>Rav</td>\n",
       "      <td>Ahuja</td>\n",
       "      <td>MOOSETOWN</td>\n",
       "      <td>CA</td>\n",
       "    </tr>\n",
       "    <tr>\n",
       "      <th>1</th>\n",
       "      <td>2</td>\n",
       "      <td>Raul</td>\n",
       "      <td>Chong</td>\n",
       "      <td>Markham</td>\n",
       "      <td>CA</td>\n",
       "    </tr>\n",
       "    <tr>\n",
       "      <th>2</th>\n",
       "      <td>3</td>\n",
       "      <td>Hima</td>\n",
       "      <td>Vasudevan</td>\n",
       "      <td>Chicago</td>\n",
       "      <td>US</td>\n",
       "    </tr>\n",
       "  </tbody>\n",
       "</table>\n",
       "</div>"
      ],
      "text/plain": [
       "   ID FNAME      LNAME       CITY CCODE\n",
       "0   1   Rav      Ahuja  MOOSETOWN    CA\n",
       "1   2  Raul      Chong    Markham    CA\n",
       "2   3  Hima  Vasudevan    Chicago    US"
      ]
     },
     "execution_count": 15,
     "metadata": {},
     "output_type": "execute_result"
    }
   ],
   "source": [
    "import pandas as pd\n",
    "df = pd.read_sql_query('SELECT * FROM INSTRUCTOR', conn)\n",
    "df"
   ]
  },
  {
   "cell_type": "code",
   "execution_count": 16,
   "id": "8f2eb9d6-ff36-496c-bd88-cdad91723ae3",
   "metadata": {
    "tags": []
   },
   "outputs": [
    {
     "data": {
      "text/plain": [
       "'Ahuja'"
      ]
     },
     "execution_count": 16,
     "metadata": {},
     "output_type": "execute_result"
    }
   ],
   "source": [
    "df.LNAME[0]"
   ]
  },
  {
   "cell_type": "code",
   "execution_count": 17,
   "id": "9af2822b-2c5d-4d58-9cd8-5867813f5693",
   "metadata": {
    "tags": []
   },
   "outputs": [
    {
     "data": {
      "text/plain": [
       "(3, 5)"
      ]
     },
     "execution_count": 17,
     "metadata": {},
     "output_type": "execute_result"
    }
   ],
   "source": [
    "df.shape"
   ]
  },
  {
   "cell_type": "code",
   "execution_count": 18,
   "id": "f85170dc-a20a-4a65-89e7-1d6a5084aace",
   "metadata": {
    "tags": []
   },
   "outputs": [],
   "source": [
    "conn.close()"
   ]
  },
  {
   "cell_type": "code",
   "execution_count": null,
   "id": "7b78d148-647a-4331-8341-26ef63d7f662",
   "metadata": {},
   "outputs": [],
   "source": []
  }
 ],
 "metadata": {
  "kernelspec": {
   "display_name": "Python 3 (ipykernel)",
   "language": "python",
   "name": "python3"
  },
  "language_info": {
   "codemirror_mode": {
    "name": "ipython",
    "version": 3
   },
   "file_extension": ".py",
   "mimetype": "text/x-python",
   "name": "python",
   "nbconvert_exporter": "python",
   "pygments_lexer": "ipython3",
   "version": "3.11.5"
  }
 },
 "nbformat": 4,
 "nbformat_minor": 5
}
