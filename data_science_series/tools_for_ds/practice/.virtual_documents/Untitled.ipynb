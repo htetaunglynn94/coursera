


import pandas as pd
import numpy as np
import matplotlib.pyplot as plt
import seaborn as sns
%matplotlib inline
sns.set(color_codes=True)





df = pd.read_csv('data.csv')
df.head()


df.tail()








df.dtypes








df = df.drop(['Engine Fuel Type','Market Category','Vehicle Style','Popularity','Number of Doors','Vehicle Size'], axis=1)
df.head(5)








df = df.rename(columns={"Engine HP": "HP", "Engine Cylinders": "Cylinders", "Transmission Type": "Transmission", "Driven_Wheels": "Drive Mode","highway MPG": "MPG-H", "city mpg": "MPG-C", "MSRP": "Price" })
df.head(5)








df.shape


duplicated_rows = df[df.duplicated()]
print("number of duplicate rows: ", duplicated_rows.shape[0])





df.count()


df = df.drop_duplicates()
df.head()


df.count()








df.isnull().sum()





df = df.dropna()
df.count()





df.isnull().sum()









