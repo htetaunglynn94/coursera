{
 "cells": [
  {
   "cell_type": "markdown",
   "id": "7aa94be8-82d3-4868-9327-4426e8a43c13",
   "metadata": {},
   "source": [
    "**Exercise 1: Create a Jupyter Notebook**"
   ]
  },
  {
   "cell_type": "markdown",
   "id": "d9ad3398-8903-42ea-a353-2ddabd675575",
   "metadata": {},
   "source": [
    "**Exercise 2: Create markdown cell with title of the notebook**"
   ]
  },
  {
   "cell_type": "markdown",
   "id": "a65acf19-a1e1-48a1-b08f-65774f903320",
   "metadata": {},
   "source": [
    "# Data Science Tools and Ecosystem"
   ]
  },
  {
   "cell_type": "markdown",
   "id": "62f96cd7-d5c3-4a93-9c4e-6976b0c73277",
   "metadata": {},
   "source": [
    "**Exercise 3 - Create a markdown cell for an introduction**"
   ]
  },
  {
   "cell_type": "markdown",
   "id": "eb723961-b286-433e-9be7-91e76d356c4f",
   "metadata": {},
   "source": [
    "In this notebook, Data Science Tools and Ecosystem are summarized."
   ]
  },
  {
   "cell_type": "markdown",
   "id": "6099dc7b-0839-4bef-93af-a94e4e65581f",
   "metadata": {},
   "source": [
    "**Exercise 4 - Create a markdown cell to list data science languages**"
   ]
  },
  {
   "cell_type": "markdown",
   "id": "180e6b20-63ac-43e3-976e-e09909b9e74d",
   "metadata": {},
   "source": [
    "Some of the popular languages that Data Scientists use are:  \n",
    "1. Python\n",
    "2. R\n",
    "3. SQL and\n",
    "4. so on ..."
   ]
  },
  {
   "cell_type": "markdown",
   "id": "8cf4d1ac-8775-4c0a-a95d-c77c13a00128",
   "metadata": {},
   "source": [
    "**Exercise 5 - Create a markdown cell to list data science libraries**"
   ]
  },
  {
   "cell_type": "markdown",
   "id": "fcb3389c-362d-4882-b73f-66d781edf8a4",
   "metadata": {},
   "source": [
    "Some of the commonly used libraries used by Data Scientists include:  \n",
    "1. Numpy\n",
    "2. Pandas\n",
    "3. matplotlib and\n",
    "4. so on ..."
   ]
  },
  {
   "cell_type": "markdown",
   "id": "b675be8f-f134-443a-8c8e-43792ce18d63",
   "metadata": {},
   "source": [
    "**Exercise 6 - Create a markdown cell with a table of Data Science tools**"
   ]
  },
  {
   "cell_type": "markdown",
   "id": "fca1ce0d-bca7-451d-8f2c-57d944b151ce",
   "metadata": {},
   "source": [
    "| Data Science Tools |\n",
    "|--------------------|\n",
    "| Jupyter Notebook   |\n",
    "| Jupyter Lab        |\n",
    "| Visual Studio Code |"
   ]
  },
  {
   "cell_type": "markdown",
   "id": "dfd1040a-38cc-481b-84e9-dc95c2f69ea9",
   "metadata": {},
   "source": [
    "**Exercise 7 - Create a markdown cell introducing arithmetic expression examples**"
   ]
  },
  {
   "cell_type": "markdown",
   "id": "d852a2c2-56e8-463b-b2da-7f153d90fcc2",
   "metadata": {},
   "source": [
    "### Below are a few examples of evaluating arithmetic expressions in Python  \n"
   ]
  },
  {
   "cell_type": "markdown",
   "id": "dfa3ec22-1f5b-45ce-8741-33440e286b41",
   "metadata": {},
   "source": [
    "__Exercise 8 - Create a code cell to multiply and add numbers__"
   ]
  },
  {
   "cell_type": "code",
   "execution_count": 3,
   "id": "d8cd4641-2ce1-43f5-81ab-d76171c5feab",
   "metadata": {},
   "outputs": [
    {
     "data": {
      "text/plain": [
       "17"
      ]
     },
     "execution_count": 3,
     "metadata": {},
     "output_type": "execute_result"
    }
   ],
   "source": [
    "# This a simple arithmetic expression to mutiply then add integers\n",
    "\n",
    "(3*4)+5"
   ]
  },
  {
   "cell_type": "markdown",
   "id": "aef510bd-c4e1-4c14-8a34-97dfcc291a91",
   "metadata": {},
   "source": [
    "**Exercise 9 - Create a code cell to convert minutes to hours**"
   ]
  },
  {
   "cell_type": "code",
   "execution_count": 6,
   "id": "a29c36e8-c020-470b-8903-2d9c822c0e0e",
   "metadata": {},
   "outputs": [
    {
     "name": "stdout",
     "output_type": "stream",
     "text": [
      "200 minutes into hours: 3.3333333333333335 hours\n"
     ]
    }
   ],
   "source": [
    "# This will convert 200 minutes to hours by diving by 60\n",
    "\n",
    "print(\"200 minutes into hours:\", 200/ 60, \"hours\")"
   ]
  },
  {
   "cell_type": "markdown",
   "id": "1425a07f-bd41-4da3-9a61-d662e1db6b57",
   "metadata": {},
   "source": [
    "**Exercise 10 - Insert a markdown cell to list Objectives**"
   ]
  },
  {
   "cell_type": "markdown",
   "id": "e98d9f7e-3486-4d10-b651-2cfdf908fbcd",
   "metadata": {},
   "source": [
    "**Objective:**  \n",
    "List popular languages for Data Science   \n",
    "* Python\n",
    "* R\n",
    "* SQL and\n",
    "* so on ..."
   ]
  },
  {
   "cell_type": "markdown",
   "id": "c8954774-5e05-4a53-b32a-82b872967b17",
   "metadata": {},
   "source": [
    "**Exercise 11 - Create a markdown cell to indicate the Author's name**"
   ]
  },
  {
   "cell_type": "markdown",
   "id": "b987c075-c35e-4622-97fa-1709dc29c2ca",
   "metadata": {},
   "source": [
    "## Author\n",
    " Htet Aung Lynn"
   ]
  },
  {
   "cell_type": "markdown",
   "id": "e95dbc89-ecef-4c6a-a8a8-c03683e03495",
   "metadata": {},
   "source": [
    "**Exercise 12 - Share your notebook through GitHub**"
   ]
  },
  {
   "cell_type": "markdown",
   "id": "cd496779-5f96-4966-8bd8-616842991c45",
   "metadata": {},
   "source": [
    "GitHub | [LINK](https://github.com/htetaunglynn94/coursera/blob/main/data_science_series/tools_for_ds/module_6/DataScienceEcosystem.ipynb)"
   ]
  },
  {
   "cell_type": "markdown",
   "id": "1272f14c-da10-41ae-9b68-ff3aebb1b3b6",
   "metadata": {},
   "source": [
    "__Exercise 13 -Take a screenshot of the first page of the notebook and save it__"
   ]
  }
 ],
 "metadata": {
  "kernelspec": {
   "display_name": "Python 3 (ipykernel)",
   "language": "python",
   "name": "python3"
  },
  "language_info": {
   "codemirror_mode": {
    "name": "ipython",
    "version": 3
   },
   "file_extension": ".py",
   "mimetype": "text/x-python",
   "name": "python",
   "nbconvert_exporter": "python",
   "pygments_lexer": "ipython3",
   "version": "3.11.7"
  }
 },
 "nbformat": 4,
 "nbformat_minor": 5
}
