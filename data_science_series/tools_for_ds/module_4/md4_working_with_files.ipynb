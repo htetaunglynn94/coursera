{
  "metadata": {
    "kernelspec": {
      "name": "python",
      "display_name": "Python (Pyodide)",
      "language": "python"
    },
    "language_info": {
      "codemirror_mode": {
        "name": "python",
        "version": 3
      },
      "file_extension": ".py",
      "mimetype": "text/x-python",
      "name": "python",
      "nbconvert_exporter": "python",
      "pygments_lexer": "ipython3",
      "version": "3.8"
    },
    "prev_pub_hash": "21b0d8f190cdbd1a34d5d6a486042fade70b11f13353834a1fef2c5af36428fa"
  },
  "nbformat_minor": 4,
  "nbformat": 4,
  "cells": [
    {
      "cell_type": "markdown",
      "source": "  <p style=\"text-align:center\">\n    <a href=\"https://skills.network/?utm_medium=Exinfluencer&utm_source=Exinfluencer&utm_content=000026UJ&utm_term=10006555&utm_id=NA-SkillsNetwork-Channel-SkillsNetworkCoursesIBMDeveloperSkillsNetworkPY0101ENSkillsNetwork19487395-2022-01-01\" target=\"_blank\">\n    <img src=\"https://cf-courses-data.s3.us.cloud-object-storage.appdomain.cloud/assets/logos/SN_web_lightmode.png\" width=\"200\" alt=\"Skills Network Logo\">\n    </a>\n</p>\n\n# Lab: Working with files in Jupyter Notebooks\n\nEstimated time needed: **15** minutes\n\n## Objectives\n\nAfter completing this lab, you will be able to:\n*   Explore different Run Options\n*   Rename your notebook\n*   Shutdown your notebook\n*   Save and download the notebook\n*   Upload the downloaded notebook \n*   Work with multiple notebooks\n",
      "metadata": {}
    },
    {
      "cell_type": "markdown",
      "source": "## Exercise 1\n### Explore different Run Options\n\nYou can explore the various run options under the **Run** menu such as <strong>Run Selected Cells, Run All cells, Run Selected Cells and Insert Below</strong> and many more.<br/>\n\n***One such option to execute all cells by choosing <kbd>Run All cells</kbd> option from the  Run menu is illustrated below:***\n\n<img src=\"https://cf-courses-data.s3.us.cloud-object-storage.appdomain.cloud/IBMDeveloperSkillsNetwork-DS0105EN-SkillsNetwork/labs/Labs_V4/images/runallcells.png\" alt=\"Skills Network Labs, Run menu, select Run All Cells\">\n\n*  Enter the following  **expression** <code>11+4</code> in the cell below and **execute** it by using the **Run Selected Cells** option.\n",
      "metadata": {}
    },
    {
      "cell_type": "code",
      "source": "## Click here and use Run Selected Cells to execute it.\n11+4",
      "metadata": {
        "trusted": true
      },
      "outputs": [
        {
          "execution_count": 1,
          "output_type": "execute_result",
          "data": {
            "text/plain": "15"
          },
          "metadata": {}
        }
      ],
      "execution_count": 1
    },
    {
      "cell_type": "markdown",
      "source": "<details><summary>Click here for the solution</summary>\n\n```python\n11+4\n\n```\n\nThe output looks as:\n\n<img src=\"https://cf-courses-data.s3.us.cloud-object-storage.appdomain.cloud/IBMDeveloperSkillsNetwork-DS0105EN-SkillsNetwork/labs/Labs_V4/images/runselectedcells.png\">\n\n</details>\n",
      "metadata": {}
    },
    {
      "cell_type": "markdown",
      "source": "You can insert a cell automatically after the execution of the code using the **Run Selected Cells and Insert Below**\n* Enter the following **expression** <code>150*50</code> in the cell below and **execute** it by using the **Run Selected Cells and Insert Below**\n",
      "metadata": {}
    },
    {
      "cell_type": "code",
      "source": "## Click here and use Run Selected Cells to execute it.\n150*50",
      "metadata": {
        "trusted": true
      },
      "outputs": [
        {
          "execution_count": 2,
          "output_type": "execute_result",
          "data": {
            "text/plain": "7500"
          },
          "metadata": {}
        }
      ],
      "execution_count": 2
    },
    {
      "cell_type": "code",
      "source": "",
      "metadata": {
        "trusted": true
      },
      "outputs": [],
      "execution_count": null
    },
    {
      "cell_type": "markdown",
      "source": "<details><summary>Click here for the solution</summary>\n\n```python\n150*50\n\n```\n\nThe output looks as:\n\n<img src=\"https://cf-courses-data.s3.us.cloud-object-storage.appdomain.cloud/IBMDeveloperSkillsNetwork-DS0105EN-SkillsNetwork/labs/Labs_V4/images/runselectedcells1.png\" alt=\"Skills Network Labs, Run menu select Run Selected Cells\">\n\n</details>\n",
      "metadata": {}
    },
    {
      "cell_type": "markdown",
      "source": "## Exercise 2\n### Rename your notebook\n\nYou can now rename your notebook to your preferred name as follows:<br/>\n\n1. Open the **Lab: Getting Started with Jupyter Notebooks** in Skills Network Labs by following these steps:\n\n   * Click **File** menu,and select **Open From URL** option.\n   *  Enter the notebook URL _https://cf-courses-data.s3.us.cloud-object-storage.appdomain.cloud/IBMDeveloperSkillsNetwork-DS0105EN-SkillsNetwork/labs/Labs_V4/Getting_Started_with_JupyterNotebook.ipynb_ in the prompt window, and then click **Open** on the Open URL window.  \n   \n     <img src=\"https://cf-courses-data.s3.us.cloud-object-storage.appdomain.cloud/IBMDeveloperSkillsNetwork-DS0105EN-SkillsNetwork/labs/Labs_V4/images/openurl1.png\" alt=\"Skills Network Labs, File menu, select Open from URL\"><br/>\n   \n     <img src=\"https://cf-courses-data.s3.us.cloud-object-storage.appdomain.cloud/IBMDeveloperSkillsNetwork-DS0105EN-SkillsNetwork/labs/Labs_V4/images/openfromurl11.png\" alt=\"Skills Network Labs, Open URL window, click Open\"><br/>\n     \n   * The notebook will be loaded and opened in your lab environment.\n\n 2. Create a new code cell before **Exercise 3** and add <code>2+9</code>. Execute the code cell and save the notebook using  **Save Notebook** or **Save Notebook as** option from the **File** menu.\n \n 3. Click the **File** menu and select **Rename Notebook** to rename your notebook. \n\n       <img src=\"https://cf-courses-data.s3.us.cloud-object-storage.appdomain.cloud/IBMDeveloperSkillsNetwork-DS0105EN-SkillsNetwork/labs/Labs_V4/images/renamenote.png\" alt=\"Skills Network Labs File menu, select Rename Notebook\"><br/>\n  * Rename the file as  **My_Notebook.ipynb**.\n\n      <img src=\"https://cf-courses-data.s3.us.cloud-object-storage.appdomain.cloud/IBMDeveloperSkillsNetwork-DS0105EN-SkillsNetwork/labs/Labs_V4/images/newname.png\" alt=\"Rename the file as My_Notebook.ipynb and click Rename\">\n\n",
      "metadata": {
        "jp-MarkdownHeadingCollapsed": true
      }
    },
    {
      "cell_type": "markdown",
      "source": "## Exercise 3\n### Shutdown your notebook\nYou can shut down the notebook session as follows:<br/>\n\n1. You can view the existing running sessions by clicking the **Running Terminals and Kernels** in the left navigation pane.\n\n<img src=\"https://cf-courses-data.s3.us.cloud-object-storage.appdomain.cloud/3x7l-SgJTHeTL8uKBAe2RA/shutdownseessions1.png\" alt=\"Click Running Terminals and Kernels in left navigation pane\">\n\n2. Click the **Shut Down All** option to shut down all notebook sessions.\n\n3. To shutdown the individual notebook, click the **Shut Down** option below the cross button **(X)** next to the notebook. This helps free up the memory that the notebook is using.\n\n<img src=\"https://cf-courses-data.s3.us.cloud-object-storage.appdomain.cloud/_jc2xeuyhP_VZdIgUGnBDA/shutdownseessions2.png\" alt=\"Left navigation pane shows the running terminals and kernels, next to it click Shut Down All, and then click X\">\n",
      "metadata": {}
    },
    {
      "cell_type": "markdown",
      "source": "## Exercise 4\n\n###  Save and Download the notebook\n\nOpen the **Lab:Using Markdowns in Jupyter Notebooks** in Skills Network Labs by following these steps:\n\n   * Click the **File** menu,and select **Open From URL** option.\n   * Enter the notebook URL _https://cf-courses-data.s3.us.cloud-object-storage.appdomain.cloud/IBMDeveloperSkillsNetwork-DS0105EN-SkillsNetwork/labs/Labs_V4/Using_markdowns.ipynb_ in the prompt window, and then click the **Open** button. \nAlthough your notebooks and data are preserved in your account after logging out, sometimes you may want to download your notebook to your computer.\n\n- To save, click the **Save Notebook** or **Save Notebook as** button from the **File** menu.\n\n\nOnce you complete the lab, you can **download** the notebook as follows:\n\n*   Select the notebook displayed in the left **Navigation pane**.\n\n*   Right-click and select **Download** on he menu.\n\n <img src=\"https://cf-courses-data.s3.us.cloud-object-storage.appdomain.cloud/IBMDeveloperSkillsNetwork-DS0105EN-SkillsNetwork/labs/Labs_V4/images/downloadnotebook.png\" alt=\"Select the notebook shown in left navigation pane and right-click the notebook and select Download\">\n \n *   Your notebook is downloaded to your local machine.\n",
      "metadata": {}
    },
    {
      "cell_type": "markdown",
      "source": "## Exercise 5\n\n\n\n###  Upload the downloaded notebook \n\nIn the previous exercise, we learned how to save and download a notebook. Now we will learn to upload a notebook to Skills Network Labs. \n\nTo upload the notebook we have two options:\n\n**1. Upload files option.**\n\n**2. Drag and drop option.**\n\n#### 1. Upload files option\n\n* Click **Upload Files** to upload the notebook, which you had downloaded in **Exercise 2** to Skills Network.\n\n* Browse for the notebook in your local machine and select it.\n\n<img src=\"https://cf-courses-data.s3.us.cloud-object-storage.appdomain.cloud/IBMDeveloperSkillsNetwork-DS0105EN-SkillsNetwork/labs/Labs_V4/images/uploadfilestosnlabs.png\" width=\"60%/\" alt=\"Find the notebook to upload on your local computer\">\n\n* Once the upload is complete, the notebook will appear in the Skills Network Labs left navigation pane.\n\n* Double-click on the notebook to open and view its contents.\n\n#### 2. Drag and drop option\n\n* Go to file manager of your local system to view the downloaded file.\n\n* Select the notebook and drag the file into the **file explorer** of Skills Network Labs.\n\n<img src=\"https://cf-courses-data.s3.us.cloud-object-storage.appdomain.cloud/IBMDeveloperSkillsNetwork-DS0105EN-SkillsNetwork/labs/Labs_V4/images/dragandrop1.png\" width=\"60%/\" alt=\"Place your cursor on the notbook and drag and drop it on the Skills Network Labs navigation pane\">\n\n \n * The notebook now appears in the left panel of the Skills Network Labs environment.\n \n * Double click on the notebook to open and view its contents.\n\n<img src=\"https://cf-courses-data.s3.us.cloud-object-storage.appdomain.cloud/IBMDeveloperSkillsNetwork-DS0105EN-SkillsNetwork/labs/Labs_V4/images/view_notebook.png\" width=\"60%/\" alt=\"Double-click the lab in left navigation pane to open it\"><br/>\n\n\n\n\n",
      "metadata": {}
    },
    {
      "cell_type": "markdown",
      "source": "## Exercise 6\n\n### Work with multiple notebooks\n\nYou can now view your notebooks at the same time as follows:<br/>\n\n   * Click **File** menu, and select **New view for notebook** option.  \n   \n     <img src=\"https://cf-courses-data.s3.us.cloud-object-storage.appdomain.cloud/IBMDeveloperSkillsNetwork-DS0105EN-SkillsNetwork/labs/Labs_V4/images/splitnotebook1.png\" alt=\"Click File and on the menu select New view for notebook\"><br/>\n     \n  \n   * You can now view the notebooks side-by-side and update it.\n     \n   \n     <img src=\"https://cf-courses-data.s3.us.cloud-object-storage.appdomain.cloud/IBMDeveloperSkillsNetwork-DS0105EN-SkillsNetwork/labs/Labs_V4/images/splitnotebook2.png\" alt=\"Skills Network Lab now shows your notbooks side-by-side\"><br/>\n     \n",
      "metadata": {}
    },
    {
      "cell_type": "markdown",
      "source": "###  Thank you for completing this lab!\n",
      "metadata": {}
    },
    {
      "cell_type": "markdown",
      "source": "## Author(s)\n\n[Niveditha Pandith](https://www.linkedin.com/in/niveditha-pandith-53a057231/)\n\nOther Contributor(s)\n\n[Lakshmi Holla](https://www.linkedin.com/in/lakshmi-holla-b39062149/) \n\n[Malika Singla](https://www.linkedin.com/in/malika-goyal-04798622/)\n",
      "metadata": {}
    },
    {
      "cell_type": "markdown",
      "source": "## Change log\n| Date | Version | Changed by | Change Description |\n|------|---------|------------|--------------------|\n| 2022-12-16 | 0.3 | Steve Hord  | QA pass |\n|2022-10-07 | 0.2 | Pam Glazier | Revised | \n|2022-10-07 | 0.1 | Niveditha Pandith | Created initial version | \n\n\n## <h3 align=\"center\"> © IBM Corporation 2022. All rights reserved. <h3/>\n\n",
      "metadata": {}
    }
  ]
}