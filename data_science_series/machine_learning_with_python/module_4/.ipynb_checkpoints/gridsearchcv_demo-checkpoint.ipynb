{
  "metadata": {
    "kernelspec": {
      "name": "python",
      "display_name": "Python (Pyodide)",
      "language": "python"
    },
    "language_info": {
      "codemirror_mode": {
        "name": "python",
        "version": 3
      },
      "file_extension": ".py",
      "mimetype": "text/x-python",
      "name": "python",
      "nbconvert_exporter": "python",
      "pygments_lexer": "ipython3",
      "version": "3.8"
    }
  },
  "nbformat_minor": 4,
  "nbformat": 4,
  "cells": [
    {
      "cell_type": "markdown",
      "source": "# GridSearchCV Demonstration",
      "metadata": {}
    },
    {
      "cell_type": "code",
      "source": "import numpy as np\nimport pandas as pd\nfrom sklearn.datasets import load_iris\nfrom sklearn.model_selection  import train_test_split, GridSearchCV\nfrom sklearn.svm import SVC\nfrom sklearn.metrics import classification_report, log_loss\nfrom sklearn.metrics import jaccard_score, confusion_matrix\nimport warnings\nwarnings.filterwarnings('ignore')",
      "metadata": {
        "trusted": true
      },
      "outputs": [],
      "execution_count": 41
    },
    {
      "cell_type": "code",
      "source": "iris = load_iris()",
      "metadata": {
        "trusted": true
      },
      "outputs": [],
      "execution_count": 3
    },
    {
      "cell_type": "code",
      "source": "type(iris)",
      "metadata": {
        "trusted": true
      },
      "outputs": [
        {
          "execution_count": 4,
          "output_type": "execute_result",
          "data": {
            "text/plain": "sklearn.utils._bunch.Bunch"
          },
          "metadata": {}
        }
      ],
      "execution_count": 4
    },
    {
      "cell_type": "code",
      "source": "iris.feature_names",
      "metadata": {
        "trusted": true
      },
      "outputs": [
        {
          "execution_count": 5,
          "output_type": "execute_result",
          "data": {
            "text/plain": "['sepal length (cm)',\n 'sepal width (cm)',\n 'petal length (cm)',\n 'petal width (cm)']"
          },
          "metadata": {}
        }
      ],
      "execution_count": 5
    },
    {
      "cell_type": "code",
      "source": "iris.target_names",
      "metadata": {
        "trusted": true
      },
      "outputs": [
        {
          "execution_count": 6,
          "output_type": "execute_result",
          "data": {
            "text/plain": "array(['setosa', 'versicolor', 'virginica'], dtype='<U10')"
          },
          "metadata": {}
        }
      ],
      "execution_count": 6
    },
    {
      "cell_type": "code",
      "source": "iris.data",
      "metadata": {
        "trusted": true
      },
      "outputs": [
        {
          "execution_count": 7,
          "output_type": "execute_result",
          "data": {
            "text/plain": "array([[5.1, 3.5, 1.4, 0.2],\n       [4.9, 3. , 1.4, 0.2],\n       [4.7, 3.2, 1.3, 0.2],\n       [4.6, 3.1, 1.5, 0.2],\n       [5. , 3.6, 1.4, 0.2],\n       [5.4, 3.9, 1.7, 0.4],\n       [4.6, 3.4, 1.4, 0.3],\n       [5. , 3.4, 1.5, 0.2],\n       [4.4, 2.9, 1.4, 0.2],\n       [4.9, 3.1, 1.5, 0.1],\n       [5.4, 3.7, 1.5, 0.2],\n       [4.8, 3.4, 1.6, 0.2],\n       [4.8, 3. , 1.4, 0.1],\n       [4.3, 3. , 1.1, 0.1],\n       [5.8, 4. , 1.2, 0.2],\n       [5.7, 4.4, 1.5, 0.4],\n       [5.4, 3.9, 1.3, 0.4],\n       [5.1, 3.5, 1.4, 0.3],\n       [5.7, 3.8, 1.7, 0.3],\n       [5.1, 3.8, 1.5, 0.3],\n       [5.4, 3.4, 1.7, 0.2],\n       [5.1, 3.7, 1.5, 0.4],\n       [4.6, 3.6, 1. , 0.2],\n       [5.1, 3.3, 1.7, 0.5],\n       [4.8, 3.4, 1.9, 0.2],\n       [5. , 3. , 1.6, 0.2],\n       [5. , 3.4, 1.6, 0.4],\n       [5.2, 3.5, 1.5, 0.2],\n       [5.2, 3.4, 1.4, 0.2],\n       [4.7, 3.2, 1.6, 0.2],\n       [4.8, 3.1, 1.6, 0.2],\n       [5.4, 3.4, 1.5, 0.4],\n       [5.2, 4.1, 1.5, 0.1],\n       [5.5, 4.2, 1.4, 0.2],\n       [4.9, 3.1, 1.5, 0.2],\n       [5. , 3.2, 1.2, 0.2],\n       [5.5, 3.5, 1.3, 0.2],\n       [4.9, 3.6, 1.4, 0.1],\n       [4.4, 3. , 1.3, 0.2],\n       [5.1, 3.4, 1.5, 0.2],\n       [5. , 3.5, 1.3, 0.3],\n       [4.5, 2.3, 1.3, 0.3],\n       [4.4, 3.2, 1.3, 0.2],\n       [5. , 3.5, 1.6, 0.6],\n       [5.1, 3.8, 1.9, 0.4],\n       [4.8, 3. , 1.4, 0.3],\n       [5.1, 3.8, 1.6, 0.2],\n       [4.6, 3.2, 1.4, 0.2],\n       [5.3, 3.7, 1.5, 0.2],\n       [5. , 3.3, 1.4, 0.2],\n       [7. , 3.2, 4.7, 1.4],\n       [6.4, 3.2, 4.5, 1.5],\n       [6.9, 3.1, 4.9, 1.5],\n       [5.5, 2.3, 4. , 1.3],\n       [6.5, 2.8, 4.6, 1.5],\n       [5.7, 2.8, 4.5, 1.3],\n       [6.3, 3.3, 4.7, 1.6],\n       [4.9, 2.4, 3.3, 1. ],\n       [6.6, 2.9, 4.6, 1.3],\n       [5.2, 2.7, 3.9, 1.4],\n       [5. , 2. , 3.5, 1. ],\n       [5.9, 3. , 4.2, 1.5],\n       [6. , 2.2, 4. , 1. ],\n       [6.1, 2.9, 4.7, 1.4],\n       [5.6, 2.9, 3.6, 1.3],\n       [6.7, 3.1, 4.4, 1.4],\n       [5.6, 3. , 4.5, 1.5],\n       [5.8, 2.7, 4.1, 1. ],\n       [6.2, 2.2, 4.5, 1.5],\n       [5.6, 2.5, 3.9, 1.1],\n       [5.9, 3.2, 4.8, 1.8],\n       [6.1, 2.8, 4. , 1.3],\n       [6.3, 2.5, 4.9, 1.5],\n       [6.1, 2.8, 4.7, 1.2],\n       [6.4, 2.9, 4.3, 1.3],\n       [6.6, 3. , 4.4, 1.4],\n       [6.8, 2.8, 4.8, 1.4],\n       [6.7, 3. , 5. , 1.7],\n       [6. , 2.9, 4.5, 1.5],\n       [5.7, 2.6, 3.5, 1. ],\n       [5.5, 2.4, 3.8, 1.1],\n       [5.5, 2.4, 3.7, 1. ],\n       [5.8, 2.7, 3.9, 1.2],\n       [6. , 2.7, 5.1, 1.6],\n       [5.4, 3. , 4.5, 1.5],\n       [6. , 3.4, 4.5, 1.6],\n       [6.7, 3.1, 4.7, 1.5],\n       [6.3, 2.3, 4.4, 1.3],\n       [5.6, 3. , 4.1, 1.3],\n       [5.5, 2.5, 4. , 1.3],\n       [5.5, 2.6, 4.4, 1.2],\n       [6.1, 3. , 4.6, 1.4],\n       [5.8, 2.6, 4. , 1.2],\n       [5. , 2.3, 3.3, 1. ],\n       [5.6, 2.7, 4.2, 1.3],\n       [5.7, 3. , 4.2, 1.2],\n       [5.7, 2.9, 4.2, 1.3],\n       [6.2, 2.9, 4.3, 1.3],\n       [5.1, 2.5, 3. , 1.1],\n       [5.7, 2.8, 4.1, 1.3],\n       [6.3, 3.3, 6. , 2.5],\n       [5.8, 2.7, 5.1, 1.9],\n       [7.1, 3. , 5.9, 2.1],\n       [6.3, 2.9, 5.6, 1.8],\n       [6.5, 3. , 5.8, 2.2],\n       [7.6, 3. , 6.6, 2.1],\n       [4.9, 2.5, 4.5, 1.7],\n       [7.3, 2.9, 6.3, 1.8],\n       [6.7, 2.5, 5.8, 1.8],\n       [7.2, 3.6, 6.1, 2.5],\n       [6.5, 3.2, 5.1, 2. ],\n       [6.4, 2.7, 5.3, 1.9],\n       [6.8, 3. , 5.5, 2.1],\n       [5.7, 2.5, 5. , 2. ],\n       [5.8, 2.8, 5.1, 2.4],\n       [6.4, 3.2, 5.3, 2.3],\n       [6.5, 3. , 5.5, 1.8],\n       [7.7, 3.8, 6.7, 2.2],\n       [7.7, 2.6, 6.9, 2.3],\n       [6. , 2.2, 5. , 1.5],\n       [6.9, 3.2, 5.7, 2.3],\n       [5.6, 2.8, 4.9, 2. ],\n       [7.7, 2.8, 6.7, 2. ],\n       [6.3, 2.7, 4.9, 1.8],\n       [6.7, 3.3, 5.7, 2.1],\n       [7.2, 3.2, 6. , 1.8],\n       [6.2, 2.8, 4.8, 1.8],\n       [6.1, 3. , 4.9, 1.8],\n       [6.4, 2.8, 5.6, 2.1],\n       [7.2, 3. , 5.8, 1.6],\n       [7.4, 2.8, 6.1, 1.9],\n       [7.9, 3.8, 6.4, 2. ],\n       [6.4, 2.8, 5.6, 2.2],\n       [6.3, 2.8, 5.1, 1.5],\n       [6.1, 2.6, 5.6, 1.4],\n       [7.7, 3. , 6.1, 2.3],\n       [6.3, 3.4, 5.6, 2.4],\n       [6.4, 3.1, 5.5, 1.8],\n       [6. , 3. , 4.8, 1.8],\n       [6.9, 3.1, 5.4, 2.1],\n       [6.7, 3.1, 5.6, 2.4],\n       [6.9, 3.1, 5.1, 2.3],\n       [5.8, 2.7, 5.1, 1.9],\n       [6.8, 3.2, 5.9, 2.3],\n       [6.7, 3.3, 5.7, 2.5],\n       [6.7, 3. , 5.2, 2.3],\n       [6.3, 2.5, 5. , 1.9],\n       [6.5, 3. , 5.2, 2. ],\n       [6.2, 3.4, 5.4, 2.3],\n       [5.9, 3. , 5.1, 1.8]])"
          },
          "metadata": {}
        }
      ],
      "execution_count": 7
    },
    {
      "cell_type": "code",
      "source": "iris.target",
      "metadata": {
        "trusted": true
      },
      "outputs": [
        {
          "execution_count": 8,
          "output_type": "execute_result",
          "data": {
            "text/plain": "array([0, 0, 0, 0, 0, 0, 0, 0, 0, 0, 0, 0, 0, 0, 0, 0, 0, 0, 0, 0, 0, 0,\n       0, 0, 0, 0, 0, 0, 0, 0, 0, 0, 0, 0, 0, 0, 0, 0, 0, 0, 0, 0, 0, 0,\n       0, 0, 0, 0, 0, 0, 1, 1, 1, 1, 1, 1, 1, 1, 1, 1, 1, 1, 1, 1, 1, 1,\n       1, 1, 1, 1, 1, 1, 1, 1, 1, 1, 1, 1, 1, 1, 1, 1, 1, 1, 1, 1, 1, 1,\n       1, 1, 1, 1, 1, 1, 1, 1, 1, 1, 1, 1, 2, 2, 2, 2, 2, 2, 2, 2, 2, 2,\n       2, 2, 2, 2, 2, 2, 2, 2, 2, 2, 2, 2, 2, 2, 2, 2, 2, 2, 2, 2, 2, 2,\n       2, 2, 2, 2, 2, 2, 2, 2, 2, 2, 2, 2, 2, 2, 2, 2, 2, 2])"
          },
          "metadata": {}
        }
      ],
      "execution_count": 8
    },
    {
      "cell_type": "code",
      "source": "X = iris.data   # features (sepal length, sepal width, petal length, petal width)\nY = iris.target # 3 species of iris (setosa, versicolor, virginica)",
      "metadata": {
        "trusted": true
      },
      "outputs": [],
      "execution_count": 9
    },
    {
      "cell_type": "code",
      "source": "Xtrain, Xtest, Ytrain, Ytest = train_test_split(X, Y, test_size=0.2, random_state=42)",
      "metadata": {
        "trusted": true
      },
      "outputs": [],
      "execution_count": 10
    },
    {
      "cell_type": "code",
      "source": "param_grid = {'C' : [0.1, 1, 10, 100],            # regularization\n              'gamma' : [1,0.1,0.01,0.001],       # kernel coefficient\n              'kernel' : ['linear','rbf','poly']} # type of kernel",
      "metadata": {
        "trusted": true
      },
      "outputs": [],
      "execution_count": 11
    },
    {
      "cell_type": "code",
      "source": "svc = SVC()",
      "metadata": {
        "trusted": true
      },
      "outputs": [],
      "execution_count": 12
    },
    {
      "cell_type": "code",
      "source": "grid_search = GridSearchCV(estimator = svc,           # model name\n                           param_grid = param_grid,   # grid of parameters\n                           scoring = 'accuracy',      # model's performance metric\n                           cv = 5,                    # 5-fold cross-validation\n                           n_jobs = -1,               # use all available processors\n                           verbose = 2)               # show detailed ouput during searching",
      "metadata": {
        "trusted": true
      },
      "outputs": [],
      "execution_count": 13
    },
    {
      "cell_type": "code",
      "source": "grid_search.fit(Xtrain, Ytrain)",
      "metadata": {
        "trusted": true
      },
      "outputs": [
        {
          "name": "stdout",
          "text": "Fitting 5 folds for each of 48 candidates, totalling 240 fits\n[CV] END ......................C=0.1, gamma=1, kernel=linear; total time=   0.0s\n[CV] END ......................C=0.1, gamma=1, kernel=linear; total time=   0.0s\n[CV] END ......................C=0.1, gamma=1, kernel=linear; total time=   0.0s\n[CV] END ......................C=0.1, gamma=1, kernel=linear; total time=   0.0s\n[CV] END ......................C=0.1, gamma=1, kernel=linear; total time=   0.0s\n[CV] END .........................C=0.1, gamma=1, kernel=rbf; total time=   0.0s\n[CV] END .........................C=0.1, gamma=1, kernel=rbf; total time=   0.0s\n[CV] END .........................C=0.1, gamma=1, kernel=rbf; total time=   0.0s\n[CV] END .........................C=0.1, gamma=1, kernel=rbf; total time=   0.0s\n[CV] END .........................C=0.1, gamma=1, kernel=rbf; total time=   0.0s\n[CV] END ........................C=0.1, gamma=1, kernel=poly; total time=   0.0s\n[CV] END ........................C=0.1, gamma=1, kernel=poly; total time=   0.0s\n[CV] END ........................C=0.1, gamma=1, kernel=poly; total time=   0.0s\n[CV] END ........................C=0.1, gamma=1, kernel=poly; total time=   0.0s\n[CV] END ........................C=0.1, gamma=1, kernel=poly; total time=   0.0s\n[CV] END ....................C=0.1, gamma=0.1, kernel=linear; total time=   0.0s\n[CV] END ....................C=0.1, gamma=0.1, kernel=linear; total time=   0.0s\n[CV] END ....................C=0.1, gamma=0.1, kernel=linear; total time=   0.0s\n[CV] END ....................C=0.1, gamma=0.1, kernel=linear; total time=   0.0s\n[CV] END ....................C=0.1, gamma=0.1, kernel=linear; total time=   0.0s\n[CV] END .......................C=0.1, gamma=0.1, kernel=rbf; total time=   0.0s\n[CV] END .......................C=0.1, gamma=0.1, kernel=rbf; total time=   0.0s\n[CV] END .......................C=0.1, gamma=0.1, kernel=rbf; total time=   0.0s\n[CV] END .......................C=0.1, gamma=0.1, kernel=rbf; total time=   0.0s\n[CV] END .......................C=0.1, gamma=0.1, kernel=rbf; total time=   0.0s\n[CV] END ......................C=0.1, gamma=0.1, kernel=poly; total time=   0.0s\n[CV] END ......................C=0.1, gamma=0.1, kernel=poly; total time=   0.0s\n[CV] END ......................C=0.1, gamma=0.1, kernel=poly; total time=   0.0s\n[CV] END ......................C=0.1, gamma=0.1, kernel=poly; total time=   0.0s\n[CV] END ......................C=0.1, gamma=0.1, kernel=poly; total time=   0.0s\n[CV] END ...................C=0.1, gamma=0.01, kernel=linear; total time=   0.0s\n[CV] END ...................C=0.1, gamma=0.01, kernel=linear; total time=   0.0s\n[CV] END ...................C=0.1, gamma=0.01, kernel=linear; total time=   0.0s\n[CV] END ...................C=0.1, gamma=0.01, kernel=linear; total time=   0.0s\n[CV] END ...................C=0.1, gamma=0.01, kernel=linear; total time=   0.0s\n[CV] END ......................C=0.1, gamma=0.01, kernel=rbf; total time=   0.0s\n[CV] END ......................C=0.1, gamma=0.01, kernel=rbf; total time=   0.0s\n[CV] END ......................C=0.1, gamma=0.01, kernel=rbf; total time=   0.0s\n[CV] END ......................C=0.1, gamma=0.01, kernel=rbf; total time=   0.0s\n[CV] END ......................C=0.1, gamma=0.01, kernel=rbf; total time=   0.0s\n[CV] END .....................C=0.1, gamma=0.01, kernel=poly; total time=   0.0s\n[CV] END .....................C=0.1, gamma=0.01, kernel=poly; total time=   0.0s\n[CV] END .....................C=0.1, gamma=0.01, kernel=poly; total time=   0.0s\n[CV] END .....................C=0.1, gamma=0.01, kernel=poly; total time=   0.0s\n[CV] END .....................C=0.1, gamma=0.01, kernel=poly; total time=   0.0s\n[CV] END ..................C=0.1, gamma=0.001, kernel=linear; total time=   0.0s\n[CV] END ..................C=0.1, gamma=0.001, kernel=linear; total time=   0.0s\n[CV] END ..................C=0.1, gamma=0.001, kernel=linear; total time=   0.0s\n[CV] END ..................C=0.1, gamma=0.001, kernel=linear; total time=   0.0s\n[CV] END ..................C=0.1, gamma=0.001, kernel=linear; total time=   0.0s\n[CV] END .....................C=0.1, gamma=0.001, kernel=rbf; total time=   0.0s\n[CV] END .....................C=0.1, gamma=0.001, kernel=rbf; total time=   0.0s\n[CV] END .....................C=0.1, gamma=0.001, kernel=rbf; total time=   0.0s\n[CV] END .....................C=0.1, gamma=0.001, kernel=rbf; total time=   0.0s\n[CV] END .....................C=0.1, gamma=0.001, kernel=rbf; total time=   0.0s\n[CV] END ....................C=0.1, gamma=0.001, kernel=poly; total time=   0.0s\n[CV] END ....................C=0.1, gamma=0.001, kernel=poly; total time=   0.0s\n[CV] END ....................C=0.1, gamma=0.001, kernel=poly; total time=   0.0s\n[CV] END ....................C=0.1, gamma=0.001, kernel=poly; total time=   0.0s\n[CV] END ....................C=0.1, gamma=0.001, kernel=poly; total time=   0.0s\n[CV] END ........................C=1, gamma=1, kernel=linear; total time=   0.0s\n[CV] END ........................C=1, gamma=1, kernel=linear; total time=   0.0s\n[CV] END ........................C=1, gamma=1, kernel=linear; total time=   0.0s\n[CV] END ........................C=1, gamma=1, kernel=linear; total time=   0.0s\n[CV] END ........................C=1, gamma=1, kernel=linear; total time=   0.0s\n[CV] END ...........................C=1, gamma=1, kernel=rbf; total time=   0.0s\n[CV] END ...........................C=1, gamma=1, kernel=rbf; total time=   0.0s\n[CV] END ...........................C=1, gamma=1, kernel=rbf; total time=   0.0s\n[CV] END ...........................C=1, gamma=1, kernel=rbf; total time=   0.0s\n[CV] END ...........................C=1, gamma=1, kernel=rbf; total time=   0.0s\n[CV] END ..........................C=1, gamma=1, kernel=poly; total time=   0.0s\n[CV] END ..........................C=1, gamma=1, kernel=poly; total time=   0.0s\n[CV] END ..........................C=1, gamma=1, kernel=poly; total time=   0.0s\n[CV] END ..........................C=1, gamma=1, kernel=poly; total time=   0.0s\n[CV] END ..........................C=1, gamma=1, kernel=poly; total time=   0.0s\n[CV] END ......................C=1, gamma=0.1, kernel=linear; total time=   0.0s\n[CV] END ......................C=1, gamma=0.1, kernel=linear; total time=   0.0s\n[CV] END ......................C=1, gamma=0.1, kernel=linear; total time=   0.0s\n[CV] END ......................C=1, gamma=0.1, kernel=linear; total time=   0.0s\n[CV] END ......................C=1, gamma=0.1, kernel=linear; total time=   0.0s\n[CV] END .........................C=1, gamma=0.1, kernel=rbf; total time=   0.0s\n[CV] END .........................C=1, gamma=0.1, kernel=rbf; total time=   0.0s\n[CV] END .........................C=1, gamma=0.1, kernel=rbf; total time=   0.0s\n[CV] END .........................C=1, gamma=0.1, kernel=rbf; total time=   0.0s\n[CV] END .........................C=1, gamma=0.1, kernel=rbf; total time=   0.0s\n[CV] END ........................C=1, gamma=0.1, kernel=poly; total time=   0.0s\n[CV] END ........................C=1, gamma=0.1, kernel=poly; total time=   0.0s\n[CV] END ........................C=1, gamma=0.1, kernel=poly; total time=   0.0s\n[CV] END ........................C=1, gamma=0.1, kernel=poly; total time=   0.0s\n[CV] END ........................C=1, gamma=0.1, kernel=poly; total time=   0.0s\n[CV] END .....................C=1, gamma=0.01, kernel=linear; total time=   0.0s\n[CV] END .....................C=1, gamma=0.01, kernel=linear; total time=   0.0s\n[CV] END .....................C=1, gamma=0.01, kernel=linear; total time=   0.0s\n[CV] END .....................C=1, gamma=0.01, kernel=linear; total time=   0.0s\n[CV] END .....................C=1, gamma=0.01, kernel=linear; total time=   0.0s\n[CV] END ........................C=1, gamma=0.01, kernel=rbf; total time=   0.0s\n[CV] END ........................C=1, gamma=0.01, kernel=rbf; total time=   0.0s\n[CV] END ........................C=1, gamma=0.01, kernel=rbf; total time=   0.0s\n[CV] END ........................C=1, gamma=0.01, kernel=rbf; total time=   0.0s\n[CV] END ........................C=1, gamma=0.01, kernel=rbf; total time=   0.0s\n[CV] END .......................C=1, gamma=0.01, kernel=poly; total time=   0.0s\n[CV] END .......................C=1, gamma=0.01, kernel=poly; total time=   0.0s\n[CV] END .......................C=1, gamma=0.01, kernel=poly; total time=   0.0s\n[CV] END .......................C=1, gamma=0.01, kernel=poly; total time=   0.0s\n[CV] END .......................C=1, gamma=0.01, kernel=poly; total time=   0.0s\n[CV] END ....................C=1, gamma=0.001, kernel=linear; total time=   0.0s\n[CV] END ....................C=1, gamma=0.001, kernel=linear; total time=   0.0s\n[CV] END ....................C=1, gamma=0.001, kernel=linear; total time=   0.0s\n[CV] END ....................C=1, gamma=0.001, kernel=linear; total time=   0.0s\n[CV] END ....................C=1, gamma=0.001, kernel=linear; total time=   0.0s\n[CV] END .......................C=1, gamma=0.001, kernel=rbf; total time=   0.0s\n[CV] END .......................C=1, gamma=0.001, kernel=rbf; total time=   0.0s\n[CV] END .......................C=1, gamma=0.001, kernel=rbf; total time=   0.0s\n[CV] END .......................C=1, gamma=0.001, kernel=rbf; total time=   0.0s\n[CV] END .......................C=1, gamma=0.001, kernel=rbf; total time=   0.0s\n[CV] END ......................C=1, gamma=0.001, kernel=poly; total time=   0.0s\n[CV] END ......................C=1, gamma=0.001, kernel=poly; total time=   0.0s\n[CV] END ......................C=1, gamma=0.001, kernel=poly; total time=   0.0s\n[CV] END ......................C=1, gamma=0.001, kernel=poly; total time=   0.0s\n[CV] END ......................C=1, gamma=0.001, kernel=poly; total time=   0.0s\n[CV] END .......................C=10, gamma=1, kernel=linear; total time=   0.0s\n[CV] END .......................C=10, gamma=1, kernel=linear; total time=   0.0s\n[CV] END .......................C=10, gamma=1, kernel=linear; total time=   0.0s\n[CV] END .......................C=10, gamma=1, kernel=linear; total time=   0.0s\n[CV] END .......................C=10, gamma=1, kernel=linear; total time=   0.0s\n[CV] END ..........................C=10, gamma=1, kernel=rbf; total time=   0.0s\n[CV] END ..........................C=10, gamma=1, kernel=rbf; total time=   0.0s\n[CV] END ..........................C=10, gamma=1, kernel=rbf; total time=   0.0s\n[CV] END ..........................C=10, gamma=1, kernel=rbf; total time=   0.0s\n[CV] END ..........................C=10, gamma=1, kernel=rbf; total time=   0.0s\n[CV] END .........................C=10, gamma=1, kernel=poly; total time=   0.0s\n[CV] END .........................C=10, gamma=1, kernel=poly; total time=   0.0s\n[CV] END .........................C=10, gamma=1, kernel=poly; total time=   0.0s\n[CV] END .........................C=10, gamma=1, kernel=poly; total time=   0.1s\n[CV] END .........................C=10, gamma=1, kernel=poly; total time=   0.0s\n[CV] END .....................C=10, gamma=0.1, kernel=linear; total time=   0.0s\n[CV] END .....................C=10, gamma=0.1, kernel=linear; total time=   0.0s\n[CV] END .....................C=10, gamma=0.1, kernel=linear; total time=   0.0s\n[CV] END .....................C=10, gamma=0.1, kernel=linear; total time=   0.0s\n[CV] END .....................C=10, gamma=0.1, kernel=linear; total time=   0.0s\n[CV] END ........................C=10, gamma=0.1, kernel=rbf; total time=   0.0s\n[CV] END ........................C=10, gamma=0.1, kernel=rbf; total time=   0.0s\n[CV] END ........................C=10, gamma=0.1, kernel=rbf; total time=   0.0s\n[CV] END ........................C=10, gamma=0.1, kernel=rbf; total time=   0.0s\n[CV] END ........................C=10, gamma=0.1, kernel=rbf; total time=   0.0s\n[CV] END .......................C=10, gamma=0.1, kernel=poly; total time=   0.0s\n[CV] END .......................C=10, gamma=0.1, kernel=poly; total time=   0.0s\n[CV] END .......................C=10, gamma=0.1, kernel=poly; total time=   0.0s\n[CV] END .......................C=10, gamma=0.1, kernel=poly; total time=   0.0s\n[CV] END .......................C=10, gamma=0.1, kernel=poly; total time=   0.0s\n[CV] END ....................C=10, gamma=0.01, kernel=linear; total time=   0.0s\n[CV] END ....................C=10, gamma=0.01, kernel=linear; total time=   0.0s\n[CV] END ....................C=10, gamma=0.01, kernel=linear; total time=   0.0s\n[CV] END ....................C=10, gamma=0.01, kernel=linear; total time=   0.0s\n[CV] END ....................C=10, gamma=0.01, kernel=linear; total time=   0.0s\n[CV] END .......................C=10, gamma=0.01, kernel=rbf; total time=   0.0s\n[CV] END .......................C=10, gamma=0.01, kernel=rbf; total time=   0.0s\n[CV] END .......................C=10, gamma=0.01, kernel=rbf; total time=   0.0s\n[CV] END .......................C=10, gamma=0.01, kernel=rbf; total time=   0.0s\n[CV] END .......................C=10, gamma=0.01, kernel=rbf; total time=   0.0s\n[CV] END ......................C=10, gamma=0.01, kernel=poly; total time=   0.0s\n[CV] END ......................C=10, gamma=0.01, kernel=poly; total time=   0.0s\n[CV] END ......................C=10, gamma=0.01, kernel=poly; total time=   0.0s\n[CV] END ......................C=10, gamma=0.01, kernel=poly; total time=   0.0s\n[CV] END ......................C=10, gamma=0.01, kernel=poly; total time=   0.0s\n[CV] END ...................C=10, gamma=0.001, kernel=linear; total time=   0.0s\n[CV] END ...................C=10, gamma=0.001, kernel=linear; total time=   0.0s\n[CV] END ...................C=10, gamma=0.001, kernel=linear; total time=   0.0s\n[CV] END ...................C=10, gamma=0.001, kernel=linear; total time=   0.0s\n[CV] END ...................C=10, gamma=0.001, kernel=linear; total time=   0.0s\n[CV] END ......................C=10, gamma=0.001, kernel=rbf; total time=   0.0s\n[CV] END ......................C=10, gamma=0.001, kernel=rbf; total time=   0.0s\n[CV] END ......................C=10, gamma=0.001, kernel=rbf; total time=   0.0s\n[CV] END ......................C=10, gamma=0.001, kernel=rbf; total time=   0.0s\n[CV] END ......................C=10, gamma=0.001, kernel=rbf; total time=   0.0s\n[CV] END .....................C=10, gamma=0.001, kernel=poly; total time=   0.0s\n[CV] END .....................C=10, gamma=0.001, kernel=poly; total time=   0.0s\n[CV] END .....................C=10, gamma=0.001, kernel=poly; total time=   0.0s\n[CV] END .....................C=10, gamma=0.001, kernel=poly; total time=   0.0s\n[CV] END .....................C=10, gamma=0.001, kernel=poly; total time=   0.0s\n[CV] END ......................C=100, gamma=1, kernel=linear; total time=   0.0s\n[CV] END ......................C=100, gamma=1, kernel=linear; total time=   0.0s\n[CV] END ......................C=100, gamma=1, kernel=linear; total time=   0.0s\n[CV] END ......................C=100, gamma=1, kernel=linear; total time=   0.0s\n[CV] END ......................C=100, gamma=1, kernel=linear; total time=   0.0s\n[CV] END .........................C=100, gamma=1, kernel=rbf; total time=   0.0s\n[CV] END .........................C=100, gamma=1, kernel=rbf; total time=   0.0s\n[CV] END .........................C=100, gamma=1, kernel=rbf; total time=   0.0s\n[CV] END .........................C=100, gamma=1, kernel=rbf; total time=   0.0s\n[CV] END .........................C=100, gamma=1, kernel=rbf; total time=   0.0s\n[CV] END ........................C=100, gamma=1, kernel=poly; total time=   0.0s\n[CV] END ........................C=100, gamma=1, kernel=poly; total time=   0.5s\n[CV] END ........................C=100, gamma=1, kernel=poly; total time=   0.0s\n[CV] END ........................C=100, gamma=1, kernel=poly; total time=   0.2s\n[CV] END ........................C=100, gamma=1, kernel=poly; total time=   0.0s\n[CV] END ....................C=100, gamma=0.1, kernel=linear; total time=   0.0s\n[CV] END ....................C=100, gamma=0.1, kernel=linear; total time=   0.0s\n[CV] END ....................C=100, gamma=0.1, kernel=linear; total time=   0.0s\n[CV] END ....................C=100, gamma=0.1, kernel=linear; total time=   0.0s\n[CV] END ....................C=100, gamma=0.1, kernel=linear; total time=   0.0s\n[CV] END .......................C=100, gamma=0.1, kernel=rbf; total time=   0.0s\n[CV] END .......................C=100, gamma=0.1, kernel=rbf; total time=   0.0s\n[CV] END .......................C=100, gamma=0.1, kernel=rbf; total time=   0.0s\n[CV] END .......................C=100, gamma=0.1, kernel=rbf; total time=   0.0s\n[CV] END .......................C=100, gamma=0.1, kernel=rbf; total time=   0.0s\n[CV] END ......................C=100, gamma=0.1, kernel=poly; total time=   0.0s\n[CV] END ......................C=100, gamma=0.1, kernel=poly; total time=   0.0s\n[CV] END ......................C=100, gamma=0.1, kernel=poly; total time=   0.0s\n[CV] END ......................C=100, gamma=0.1, kernel=poly; total time=   0.0s\n[CV] END ......................C=100, gamma=0.1, kernel=poly; total time=   0.0s\n[CV] END ...................C=100, gamma=0.01, kernel=linear; total time=   0.0s\n[CV] END ...................C=100, gamma=0.01, kernel=linear; total time=   0.0s\n[CV] END ...................C=100, gamma=0.01, kernel=linear; total time=   0.0s\n[CV] END ...................C=100, gamma=0.01, kernel=linear; total time=   0.0s\n[CV] END ...................C=100, gamma=0.01, kernel=linear; total time=   0.0s\n[CV] END ......................C=100, gamma=0.01, kernel=rbf; total time=   0.0s\n[CV] END ......................C=100, gamma=0.01, kernel=rbf; total time=   0.0s\n[CV] END ......................C=100, gamma=0.01, kernel=rbf; total time=   0.0s\n[CV] END ......................C=100, gamma=0.01, kernel=rbf; total time=   0.0s\n[CV] END ......................C=100, gamma=0.01, kernel=rbf; total time=   0.0s\n[CV] END .....................C=100, gamma=0.01, kernel=poly; total time=   0.0s\n[CV] END .....................C=100, gamma=0.01, kernel=poly; total time=   0.0s\n[CV] END .....................C=100, gamma=0.01, kernel=poly; total time=   0.0s\n[CV] END .....................C=100, gamma=0.01, kernel=poly; total time=   0.0s\n[CV] END .....................C=100, gamma=0.01, kernel=poly; total time=   0.0s\n[CV] END ..................C=100, gamma=0.001, kernel=linear; total time=   0.0s\n[CV] END ..................C=100, gamma=0.001, kernel=linear; total time=   0.0s\n[CV] END ..................C=100, gamma=0.001, kernel=linear; total time=   0.0s\n[CV] END ..................C=100, gamma=0.001, kernel=linear; total time=   0.0s\n[CV] END ..................C=100, gamma=0.001, kernel=linear; total time=   0.0s\n[CV] END .....................C=100, gamma=0.001, kernel=rbf; total time=   0.0s\n[CV] END .....................C=100, gamma=0.001, kernel=rbf; total time=   0.0s\n[CV] END .....................C=100, gamma=0.001, kernel=rbf; total time=   0.0s\n[CV] END .....................C=100, gamma=0.001, kernel=rbf; total time=   0.0s\n[CV] END .....................C=100, gamma=0.001, kernel=rbf; total time=   0.0s\n[CV] END ....................C=100, gamma=0.001, kernel=poly; total time=   0.0s\n[CV] END ....................C=100, gamma=0.001, kernel=poly; total time=   0.0s\n[CV] END ....................C=100, gamma=0.001, kernel=poly; total time=   0.0s\n[CV] END ....................C=100, gamma=0.001, kernel=poly; total time=   0.0s\n[CV] END ....................C=100, gamma=0.001, kernel=poly; total time=   0.0s\n",
          "output_type": "stream"
        },
        {
          "execution_count": 14,
          "output_type": "execute_result",
          "data": {
            "text/plain": "GridSearchCV(cv=5, estimator=SVC(), n_jobs=-1,\n             param_grid={'C': [0.1, 1, 10, 100], 'gamma': [1, 0.1, 0.01, 0.001],\n                         'kernel': ['linear', 'rbf', 'poly']},\n             scoring='accuracy', verbose=2)",
            "text/html": "<style>#sk-container-id-1 {\n  /* Definition of color scheme common for light and dark mode */\n  --sklearn-color-text: black;\n  --sklearn-color-line: gray;\n  /* Definition of color scheme for unfitted estimators */\n  --sklearn-color-unfitted-level-0: #fff5e6;\n  --sklearn-color-unfitted-level-1: #f6e4d2;\n  --sklearn-color-unfitted-level-2: #ffe0b3;\n  --sklearn-color-unfitted-level-3: chocolate;\n  /* Definition of color scheme for fitted estimators */\n  --sklearn-color-fitted-level-0: #f0f8ff;\n  --sklearn-color-fitted-level-1: #d4ebff;\n  --sklearn-color-fitted-level-2: #b3dbfd;\n  --sklearn-color-fitted-level-3: cornflowerblue;\n\n  /* Specific color for light theme */\n  --sklearn-color-text-on-default-background: var(--sg-text-color, var(--theme-code-foreground, var(--jp-content-font-color1, black)));\n  --sklearn-color-background: var(--sg-background-color, var(--theme-background, var(--jp-layout-color0, white)));\n  --sklearn-color-border-box: var(--sg-text-color, var(--theme-code-foreground, var(--jp-content-font-color1, black)));\n  --sklearn-color-icon: #696969;\n\n  @media (prefers-color-scheme: dark) {\n    /* Redefinition of color scheme for dark theme */\n    --sklearn-color-text-on-default-background: var(--sg-text-color, var(--theme-code-foreground, var(--jp-content-font-color1, white)));\n    --sklearn-color-background: var(--sg-background-color, var(--theme-background, var(--jp-layout-color0, #111)));\n    --sklearn-color-border-box: var(--sg-text-color, var(--theme-code-foreground, var(--jp-content-font-color1, white)));\n    --sklearn-color-icon: #878787;\n  }\n}\n\n#sk-container-id-1 {\n  color: var(--sklearn-color-text);\n}\n\n#sk-container-id-1 pre {\n  padding: 0;\n}\n\n#sk-container-id-1 input.sk-hidden--visually {\n  border: 0;\n  clip: rect(1px 1px 1px 1px);\n  clip: rect(1px, 1px, 1px, 1px);\n  height: 1px;\n  margin: -1px;\n  overflow: hidden;\n  padding: 0;\n  position: absolute;\n  width: 1px;\n}\n\n#sk-container-id-1 div.sk-dashed-wrapped {\n  border: 1px dashed var(--sklearn-color-line);\n  margin: 0 0.4em 0.5em 0.4em;\n  box-sizing: border-box;\n  padding-bottom: 0.4em;\n  background-color: var(--sklearn-color-background);\n}\n\n#sk-container-id-1 div.sk-container {\n  /* jupyter's `normalize.less` sets `[hidden] { display: none; }`\n     but bootstrap.min.css set `[hidden] { display: none !important; }`\n     so we also need the `!important` here to be able to override the\n     default hidden behavior on the sphinx rendered scikit-learn.org.\n     See: https://github.com/scikit-learn/scikit-learn/issues/21755 */\n  display: inline-block !important;\n  position: relative;\n}\n\n#sk-container-id-1 div.sk-text-repr-fallback {\n  display: none;\n}\n\ndiv.sk-parallel-item,\ndiv.sk-serial,\ndiv.sk-item {\n  /* draw centered vertical line to link estimators */\n  background-image: linear-gradient(var(--sklearn-color-text-on-default-background), var(--sklearn-color-text-on-default-background));\n  background-size: 2px 100%;\n  background-repeat: no-repeat;\n  background-position: center center;\n}\n\n/* Parallel-specific style estimator block */\n\n#sk-container-id-1 div.sk-parallel-item::after {\n  content: \"\";\n  width: 100%;\n  border-bottom: 2px solid var(--sklearn-color-text-on-default-background);\n  flex-grow: 1;\n}\n\n#sk-container-id-1 div.sk-parallel {\n  display: flex;\n  align-items: stretch;\n  justify-content: center;\n  background-color: var(--sklearn-color-background);\n  position: relative;\n}\n\n#sk-container-id-1 div.sk-parallel-item {\n  display: flex;\n  flex-direction: column;\n}\n\n#sk-container-id-1 div.sk-parallel-item:first-child::after {\n  align-self: flex-end;\n  width: 50%;\n}\n\n#sk-container-id-1 div.sk-parallel-item:last-child::after {\n  align-self: flex-start;\n  width: 50%;\n}\n\n#sk-container-id-1 div.sk-parallel-item:only-child::after {\n  width: 0;\n}\n\n/* Serial-specific style estimator block */\n\n#sk-container-id-1 div.sk-serial {\n  display: flex;\n  flex-direction: column;\n  align-items: center;\n  background-color: var(--sklearn-color-background);\n  padding-right: 1em;\n  padding-left: 1em;\n}\n\n\n/* Toggleable style: style used for estimator/Pipeline/ColumnTransformer box that is\nclickable and can be expanded/collapsed.\n- Pipeline and ColumnTransformer use this feature and define the default style\n- Estimators will overwrite some part of the style using the `sk-estimator` class\n*/\n\n/* Pipeline and ColumnTransformer style (default) */\n\n#sk-container-id-1 div.sk-toggleable {\n  /* Default theme specific background. It is overwritten whether we have a\n  specific estimator or a Pipeline/ColumnTransformer */\n  background-color: var(--sklearn-color-background);\n}\n\n/* Toggleable label */\n#sk-container-id-1 label.sk-toggleable__label {\n  cursor: pointer;\n  display: block;\n  width: 100%;\n  margin-bottom: 0;\n  padding: 0.5em;\n  box-sizing: border-box;\n  text-align: center;\n}\n\n#sk-container-id-1 label.sk-toggleable__label-arrow:before {\n  /* Arrow on the left of the label */\n  content: \"▸\";\n  float: left;\n  margin-right: 0.25em;\n  color: var(--sklearn-color-icon);\n}\n\n#sk-container-id-1 label.sk-toggleable__label-arrow:hover:before {\n  color: var(--sklearn-color-text);\n}\n\n/* Toggleable content - dropdown */\n\n#sk-container-id-1 div.sk-toggleable__content {\n  max-height: 0;\n  max-width: 0;\n  overflow: hidden;\n  text-align: left;\n  /* unfitted */\n  background-color: var(--sklearn-color-unfitted-level-0);\n}\n\n#sk-container-id-1 div.sk-toggleable__content.fitted {\n  /* fitted */\n  background-color: var(--sklearn-color-fitted-level-0);\n}\n\n#sk-container-id-1 div.sk-toggleable__content pre {\n  margin: 0.2em;\n  border-radius: 0.25em;\n  color: var(--sklearn-color-text);\n  /* unfitted */\n  background-color: var(--sklearn-color-unfitted-level-0);\n}\n\n#sk-container-id-1 div.sk-toggleable__content.fitted pre {\n  /* unfitted */\n  background-color: var(--sklearn-color-fitted-level-0);\n}\n\n#sk-container-id-1 input.sk-toggleable__control:checked~div.sk-toggleable__content {\n  /* Expand drop-down */\n  max-height: 200px;\n  max-width: 100%;\n  overflow: auto;\n}\n\n#sk-container-id-1 input.sk-toggleable__control:checked~label.sk-toggleable__label-arrow:before {\n  content: \"▾\";\n}\n\n/* Pipeline/ColumnTransformer-specific style */\n\n#sk-container-id-1 div.sk-label input.sk-toggleable__control:checked~label.sk-toggleable__label {\n  color: var(--sklearn-color-text);\n  background-color: var(--sklearn-color-unfitted-level-2);\n}\n\n#sk-container-id-1 div.sk-label.fitted input.sk-toggleable__control:checked~label.sk-toggleable__label {\n  background-color: var(--sklearn-color-fitted-level-2);\n}\n\n/* Estimator-specific style */\n\n/* Colorize estimator box */\n#sk-container-id-1 div.sk-estimator input.sk-toggleable__control:checked~label.sk-toggleable__label {\n  /* unfitted */\n  background-color: var(--sklearn-color-unfitted-level-2);\n}\n\n#sk-container-id-1 div.sk-estimator.fitted input.sk-toggleable__control:checked~label.sk-toggleable__label {\n  /* fitted */\n  background-color: var(--sklearn-color-fitted-level-2);\n}\n\n#sk-container-id-1 div.sk-label label.sk-toggleable__label,\n#sk-container-id-1 div.sk-label label {\n  /* The background is the default theme color */\n  color: var(--sklearn-color-text-on-default-background);\n}\n\n/* On hover, darken the color of the background */\n#sk-container-id-1 div.sk-label:hover label.sk-toggleable__label {\n  color: var(--sklearn-color-text);\n  background-color: var(--sklearn-color-unfitted-level-2);\n}\n\n/* Label box, darken color on hover, fitted */\n#sk-container-id-1 div.sk-label.fitted:hover label.sk-toggleable__label.fitted {\n  color: var(--sklearn-color-text);\n  background-color: var(--sklearn-color-fitted-level-2);\n}\n\n/* Estimator label */\n\n#sk-container-id-1 div.sk-label label {\n  font-family: monospace;\n  font-weight: bold;\n  display: inline-block;\n  line-height: 1.2em;\n}\n\n#sk-container-id-1 div.sk-label-container {\n  text-align: center;\n}\n\n/* Estimator-specific */\n#sk-container-id-1 div.sk-estimator {\n  font-family: monospace;\n  border: 1px dotted var(--sklearn-color-border-box);\n  border-radius: 0.25em;\n  box-sizing: border-box;\n  margin-bottom: 0.5em;\n  /* unfitted */\n  background-color: var(--sklearn-color-unfitted-level-0);\n}\n\n#sk-container-id-1 div.sk-estimator.fitted {\n  /* fitted */\n  background-color: var(--sklearn-color-fitted-level-0);\n}\n\n/* on hover */\n#sk-container-id-1 div.sk-estimator:hover {\n  /* unfitted */\n  background-color: var(--sklearn-color-unfitted-level-2);\n}\n\n#sk-container-id-1 div.sk-estimator.fitted:hover {\n  /* fitted */\n  background-color: var(--sklearn-color-fitted-level-2);\n}\n\n/* Specification for estimator info (e.g. \"i\" and \"?\") */\n\n/* Common style for \"i\" and \"?\" */\n\n.sk-estimator-doc-link,\na:link.sk-estimator-doc-link,\na:visited.sk-estimator-doc-link {\n  float: right;\n  font-size: smaller;\n  line-height: 1em;\n  font-family: monospace;\n  background-color: var(--sklearn-color-background);\n  border-radius: 1em;\n  height: 1em;\n  width: 1em;\n  text-decoration: none !important;\n  margin-left: 1ex;\n  /* unfitted */\n  border: var(--sklearn-color-unfitted-level-1) 1pt solid;\n  color: var(--sklearn-color-unfitted-level-1);\n}\n\n.sk-estimator-doc-link.fitted,\na:link.sk-estimator-doc-link.fitted,\na:visited.sk-estimator-doc-link.fitted {\n  /* fitted */\n  border: var(--sklearn-color-fitted-level-1) 1pt solid;\n  color: var(--sklearn-color-fitted-level-1);\n}\n\n/* On hover */\ndiv.sk-estimator:hover .sk-estimator-doc-link:hover,\n.sk-estimator-doc-link:hover,\ndiv.sk-label-container:hover .sk-estimator-doc-link:hover,\n.sk-estimator-doc-link:hover {\n  /* unfitted */\n  background-color: var(--sklearn-color-unfitted-level-3);\n  color: var(--sklearn-color-background);\n  text-decoration: none;\n}\n\ndiv.sk-estimator.fitted:hover .sk-estimator-doc-link.fitted:hover,\n.sk-estimator-doc-link.fitted:hover,\ndiv.sk-label-container:hover .sk-estimator-doc-link.fitted:hover,\n.sk-estimator-doc-link.fitted:hover {\n  /* fitted */\n  background-color: var(--sklearn-color-fitted-level-3);\n  color: var(--sklearn-color-background);\n  text-decoration: none;\n}\n\n/* Span, style for the box shown on hovering the info icon */\n.sk-estimator-doc-link span {\n  display: none;\n  z-index: 9999;\n  position: relative;\n  font-weight: normal;\n  right: .2ex;\n  padding: .5ex;\n  margin: .5ex;\n  width: min-content;\n  min-width: 20ex;\n  max-width: 50ex;\n  color: var(--sklearn-color-text);\n  box-shadow: 2pt 2pt 4pt #999;\n  /* unfitted */\n  background: var(--sklearn-color-unfitted-level-0);\n  border: .5pt solid var(--sklearn-color-unfitted-level-3);\n}\n\n.sk-estimator-doc-link.fitted span {\n  /* fitted */\n  background: var(--sklearn-color-fitted-level-0);\n  border: var(--sklearn-color-fitted-level-3);\n}\n\n.sk-estimator-doc-link:hover span {\n  display: block;\n}\n\n/* \"?\"-specific style due to the `<a>` HTML tag */\n\n#sk-container-id-1 a.estimator_doc_link {\n  float: right;\n  font-size: 1rem;\n  line-height: 1em;\n  font-family: monospace;\n  background-color: var(--sklearn-color-background);\n  border-radius: 1rem;\n  height: 1rem;\n  width: 1rem;\n  text-decoration: none;\n  /* unfitted */\n  color: var(--sklearn-color-unfitted-level-1);\n  border: var(--sklearn-color-unfitted-level-1) 1pt solid;\n}\n\n#sk-container-id-1 a.estimator_doc_link.fitted {\n  /* fitted */\n  border: var(--sklearn-color-fitted-level-1) 1pt solid;\n  color: var(--sklearn-color-fitted-level-1);\n}\n\n/* On hover */\n#sk-container-id-1 a.estimator_doc_link:hover {\n  /* unfitted */\n  background-color: var(--sklearn-color-unfitted-level-3);\n  color: var(--sklearn-color-background);\n  text-decoration: none;\n}\n\n#sk-container-id-1 a.estimator_doc_link.fitted:hover {\n  /* fitted */\n  background-color: var(--sklearn-color-fitted-level-3);\n}\n</style><div id=\"sk-container-id-1\" class=\"sk-top-container\"><div class=\"sk-text-repr-fallback\"><pre>GridSearchCV(cv=5, estimator=SVC(), n_jobs=-1,\n             param_grid={&#x27;C&#x27;: [0.1, 1, 10, 100], &#x27;gamma&#x27;: [1, 0.1, 0.01, 0.001],\n                         &#x27;kernel&#x27;: [&#x27;linear&#x27;, &#x27;rbf&#x27;, &#x27;poly&#x27;]},\n             scoring=&#x27;accuracy&#x27;, verbose=2)</pre><b>In a Jupyter environment, please rerun this cell to show the HTML representation or trust the notebook. <br />On GitHub, the HTML representation is unable to render, please try loading this page with nbviewer.org.</b></div><div class=\"sk-container\" hidden><div class=\"sk-item sk-dashed-wrapped\"><div class=\"sk-label-container\"><div class=\"sk-label fitted sk-toggleable\"><input class=\"sk-toggleable__control sk-hidden--visually\" id=\"sk-estimator-id-1\" type=\"checkbox\" ><label for=\"sk-estimator-id-1\" class=\"sk-toggleable__label fitted sk-toggleable__label-arrow fitted\">&nbsp;&nbsp;GridSearchCV<a class=\"sk-estimator-doc-link fitted\" rel=\"noreferrer\" target=\"_blank\" href=\"https://scikit-learn.org/1.4/modules/generated/sklearn.model_selection.GridSearchCV.html\">?<span>Documentation for GridSearchCV</span></a><span class=\"sk-estimator-doc-link fitted\">i<span>Fitted</span></span></label><div class=\"sk-toggleable__content fitted\"><pre>GridSearchCV(cv=5, estimator=SVC(), n_jobs=-1,\n             param_grid={&#x27;C&#x27;: [0.1, 1, 10, 100], &#x27;gamma&#x27;: [1, 0.1, 0.01, 0.001],\n                         &#x27;kernel&#x27;: [&#x27;linear&#x27;, &#x27;rbf&#x27;, &#x27;poly&#x27;]},\n             scoring=&#x27;accuracy&#x27;, verbose=2)</pre></div> </div></div><div class=\"sk-parallel\"><div class=\"sk-parallel-item\"><div class=\"sk-item\"><div class=\"sk-label-container\"><div class=\"sk-label fitted sk-toggleable\"><input class=\"sk-toggleable__control sk-hidden--visually\" id=\"sk-estimator-id-2\" type=\"checkbox\" ><label for=\"sk-estimator-id-2\" class=\"sk-toggleable__label fitted sk-toggleable__label-arrow fitted\">estimator: SVC</label><div class=\"sk-toggleable__content fitted\"><pre>SVC()</pre></div> </div></div><div class=\"sk-serial\"><div class=\"sk-item\"><div class=\"sk-estimator fitted sk-toggleable\"><input class=\"sk-toggleable__control sk-hidden--visually\" id=\"sk-estimator-id-3\" type=\"checkbox\" ><label for=\"sk-estimator-id-3\" class=\"sk-toggleable__label fitted sk-toggleable__label-arrow fitted\">&nbsp;SVC<a class=\"sk-estimator-doc-link fitted\" rel=\"noreferrer\" target=\"_blank\" href=\"https://scikit-learn.org/1.4/modules/generated/sklearn.svm.SVC.html\">?<span>Documentation for SVC</span></a></label><div class=\"sk-toggleable__content fitted\"><pre>SVC()</pre></div> </div></div></div></div></div></div></div></div></div>"
          },
          "metadata": {}
        }
      ],
      "execution_count": 14
    },
    {
      "cell_type": "code",
      "source": "print(\"Best parameters found:\", grid_search.best_params_)\nprint(\"Best estimator: \", grid_search.best_estimator_)",
      "metadata": {
        "trusted": true
      },
      "outputs": [
        {
          "name": "stdout",
          "text": "Best parameters found: {'C': 0.1, 'gamma': 0.1, 'kernel': 'poly'}\nBest estimator:  SVC(C=0.1, gamma=0.1, kernel='poly')\n",
          "output_type": "stream"
        }
      ],
      "execution_count": 15
    },
    {
      "cell_type": "code",
      "source": "ypred = grid_search.best_estimator_.predict(Xtest)",
      "metadata": {
        "trusted": true
      },
      "outputs": [],
      "execution_count": 16
    },
    {
      "cell_type": "code",
      "source": "print(classification_report(Ytest, ypred))",
      "metadata": {
        "trusted": true
      },
      "outputs": [
        {
          "name": "stdout",
          "text": "              precision    recall  f1-score   support\n\n           0       1.00      1.00      1.00        10\n           1       1.00      1.00      1.00         9\n           2       1.00      1.00      1.00        11\n\n    accuracy                           1.00        30\n   macro avg       1.00      1.00      1.00        30\nweighted avg       1.00      1.00      1.00        30\n\n",
          "output_type": "stream"
        }
      ],
      "execution_count": 17
    },
    {
      "cell_type": "markdown",
      "source": "## Test with Logistic Regression",
      "metadata": {}
    },
    {
      "cell_type": "code",
      "source": "import pandas as pd\nimport numpy as np\nfrom sklearn import preprocessing\nfrom sklearn.linear_model import LogisticRegression\nfrom sklearn.datasets import load_iris\nfrom sklearn.model_selection  import train_test_split, GridSearchCV\nfrom sklearn.svm import SVC\nfrom sklearn.metrics import classification_report\nimport warnings\nwarnings.filterwarnings('ignore')",
      "metadata": {
        "trusted": true
      },
      "outputs": [],
      "execution_count": 18
    },
    {
      "cell_type": "code",
      "source": "df = pd.read_csv('ChurnData.csv')\ndf.head()",
      "metadata": {
        "trusted": true
      },
      "outputs": [
        {
          "execution_count": 19,
          "output_type": "execute_result",
          "data": {
            "text/plain": "   tenure   age  address  income   ed  employ  equip  callcard  wireless  \\\n0    11.0  33.0      7.0   136.0  5.0     5.0    0.0       1.0       1.0   \n1    33.0  33.0     12.0    33.0  2.0     0.0    0.0       0.0       0.0   \n2    23.0  30.0      9.0    30.0  1.0     2.0    0.0       0.0       0.0   \n3    38.0  35.0      5.0    76.0  2.0    10.0    1.0       1.0       1.0   \n4     7.0  35.0     14.0    80.0  2.0    15.0    0.0       1.0       0.0   \n\n   longmon  ...  pager  internet  callwait  confer  ebill  loglong  logtoll  \\\n0     4.40  ...    1.0       0.0       1.0     1.0    0.0    1.482    3.033   \n1     9.45  ...    0.0       0.0       0.0     0.0    0.0    2.246    3.240   \n2     6.30  ...    0.0       0.0       0.0     1.0    0.0    1.841    3.240   \n3     6.05  ...    1.0       1.0       1.0     1.0    1.0    1.800    3.807   \n4     7.10  ...    0.0       0.0       1.0     1.0    0.0    1.960    3.091   \n\n   lninc  custcat  churn  \n0  4.913      4.0    1.0  \n1  3.497      1.0    1.0  \n2  3.401      3.0    0.0  \n3  4.331      4.0    0.0  \n4  4.382      3.0    0.0  \n\n[5 rows x 28 columns]",
            "text/html": "<div>\n<style scoped>\n    .dataframe tbody tr th:only-of-type {\n        vertical-align: middle;\n    }\n\n    .dataframe tbody tr th {\n        vertical-align: top;\n    }\n\n    .dataframe thead th {\n        text-align: right;\n    }\n</style>\n<table border=\"1\" class=\"dataframe\">\n  <thead>\n    <tr style=\"text-align: right;\">\n      <th></th>\n      <th>tenure</th>\n      <th>age</th>\n      <th>address</th>\n      <th>income</th>\n      <th>ed</th>\n      <th>employ</th>\n      <th>equip</th>\n      <th>callcard</th>\n      <th>wireless</th>\n      <th>longmon</th>\n      <th>...</th>\n      <th>pager</th>\n      <th>internet</th>\n      <th>callwait</th>\n      <th>confer</th>\n      <th>ebill</th>\n      <th>loglong</th>\n      <th>logtoll</th>\n      <th>lninc</th>\n      <th>custcat</th>\n      <th>churn</th>\n    </tr>\n  </thead>\n  <tbody>\n    <tr>\n      <th>0</th>\n      <td>11.0</td>\n      <td>33.0</td>\n      <td>7.0</td>\n      <td>136.0</td>\n      <td>5.0</td>\n      <td>5.0</td>\n      <td>0.0</td>\n      <td>1.0</td>\n      <td>1.0</td>\n      <td>4.40</td>\n      <td>...</td>\n      <td>1.0</td>\n      <td>0.0</td>\n      <td>1.0</td>\n      <td>1.0</td>\n      <td>0.0</td>\n      <td>1.482</td>\n      <td>3.033</td>\n      <td>4.913</td>\n      <td>4.0</td>\n      <td>1.0</td>\n    </tr>\n    <tr>\n      <th>1</th>\n      <td>33.0</td>\n      <td>33.0</td>\n      <td>12.0</td>\n      <td>33.0</td>\n      <td>2.0</td>\n      <td>0.0</td>\n      <td>0.0</td>\n      <td>0.0</td>\n      <td>0.0</td>\n      <td>9.45</td>\n      <td>...</td>\n      <td>0.0</td>\n      <td>0.0</td>\n      <td>0.0</td>\n      <td>0.0</td>\n      <td>0.0</td>\n      <td>2.246</td>\n      <td>3.240</td>\n      <td>3.497</td>\n      <td>1.0</td>\n      <td>1.0</td>\n    </tr>\n    <tr>\n      <th>2</th>\n      <td>23.0</td>\n      <td>30.0</td>\n      <td>9.0</td>\n      <td>30.0</td>\n      <td>1.0</td>\n      <td>2.0</td>\n      <td>0.0</td>\n      <td>0.0</td>\n      <td>0.0</td>\n      <td>6.30</td>\n      <td>...</td>\n      <td>0.0</td>\n      <td>0.0</td>\n      <td>0.0</td>\n      <td>1.0</td>\n      <td>0.0</td>\n      <td>1.841</td>\n      <td>3.240</td>\n      <td>3.401</td>\n      <td>3.0</td>\n      <td>0.0</td>\n    </tr>\n    <tr>\n      <th>3</th>\n      <td>38.0</td>\n      <td>35.0</td>\n      <td>5.0</td>\n      <td>76.0</td>\n      <td>2.0</td>\n      <td>10.0</td>\n      <td>1.0</td>\n      <td>1.0</td>\n      <td>1.0</td>\n      <td>6.05</td>\n      <td>...</td>\n      <td>1.0</td>\n      <td>1.0</td>\n      <td>1.0</td>\n      <td>1.0</td>\n      <td>1.0</td>\n      <td>1.800</td>\n      <td>3.807</td>\n      <td>4.331</td>\n      <td>4.0</td>\n      <td>0.0</td>\n    </tr>\n    <tr>\n      <th>4</th>\n      <td>7.0</td>\n      <td>35.0</td>\n      <td>14.0</td>\n      <td>80.0</td>\n      <td>2.0</td>\n      <td>15.0</td>\n      <td>0.0</td>\n      <td>1.0</td>\n      <td>0.0</td>\n      <td>7.10</td>\n      <td>...</td>\n      <td>0.0</td>\n      <td>0.0</td>\n      <td>1.0</td>\n      <td>1.0</td>\n      <td>0.0</td>\n      <td>1.960</td>\n      <td>3.091</td>\n      <td>4.382</td>\n      <td>3.0</td>\n      <td>0.0</td>\n    </tr>\n  </tbody>\n</table>\n<p>5 rows × 28 columns</p>\n</div>"
          },
          "metadata": {}
        }
      ],
      "execution_count": 19
    },
    {
      "cell_type": "code",
      "source": "df = df[['tenure', 'age', 'address', 'income',\n        'ed', 'employ', 'equip',   'callcard', \n        'wireless','churn']]",
      "metadata": {
        "trusted": true
      },
      "outputs": [],
      "execution_count": 20
    },
    {
      "cell_type": "code",
      "source": "X = df[['tenure', 'age', 'address', 'income',\n        'ed', 'employ', 'equip',   'callcard', \n        'wireless',]].to_numpy()\nX[:3]",
      "metadata": {
        "trusted": true
      },
      "outputs": [
        {
          "execution_count": 21,
          "output_type": "execute_result",
          "data": {
            "text/plain": "array([[ 11.,  33.,   7., 136.,   5.,   5.,   0.,   1.,   1.],\n       [ 33.,  33.,  12.,  33.,   2.,   0.,   0.,   0.,   0.],\n       [ 23.,  30.,   9.,  30.,   1.,   2.,   0.,   0.,   0.]])"
          },
          "metadata": {}
        }
      ],
      "execution_count": 21
    },
    {
      "cell_type": "code",
      "source": "X = preprocessing.StandardScaler().fit_transform(X)\nX[:3]",
      "metadata": {
        "trusted": true
      },
      "outputs": [
        {
          "execution_count": 22,
          "output_type": "execute_result",
          "data": {
            "text/plain": "array([[-1.13518441, -0.62595491, -0.4588971 ,  0.4751423 ,  1.6961288 ,\n        -0.58477841, -0.85972695,  0.64686916,  1.56469673],\n       [-0.11604313, -0.62595491,  0.03454064, -0.32886061, -0.6433592 ,\n        -1.14437497, -0.85972695, -1.54590766, -0.63910148],\n       [-0.57928917, -0.85594447, -0.261522  , -0.35227817, -1.42318853,\n        -0.92053635, -0.85972695, -1.54590766, -0.63910148]])"
          },
          "metadata": {}
        }
      ],
      "execution_count": 22
    },
    {
      "cell_type": "code",
      "source": "Y = df['churn'].to_numpy()\nY[:3]",
      "metadata": {
        "trusted": true
      },
      "outputs": [
        {
          "execution_count": 23,
          "output_type": "execute_result",
          "data": {
            "text/plain": "array([1., 1., 0.])"
          },
          "metadata": {}
        }
      ],
      "execution_count": 23
    },
    {
      "cell_type": "code",
      "source": "Xtrain, Xtest, Ytrain, Ytest = train_test_split(X, Y, test_size=0.2, random_state=41)\nXtrain.shape, Xtest.shape, Ytrain.shape, Ytest.shape",
      "metadata": {
        "trusted": true
      },
      "outputs": [
        {
          "execution_count": 24,
          "output_type": "execute_result",
          "data": {
            "text/plain": "((160, 9), (40, 9), (160,), (40,))"
          },
          "metadata": {}
        }
      ],
      "execution_count": 24
    },
    {
      "cell_type": "code",
      "source": "lr = LogisticRegression()",
      "metadata": {
        "trusted": true
      },
      "outputs": [],
      "execution_count": 25
    },
    {
      "cell_type": "code",
      "source": "hyparameters = {'C' : [0.01, 0.1, 1],\n                'solver' : ['lbfgs','liblinear','newton-cg','sag','saga']}\n\ngrid_search = GridSearchCV(estimator = lr,              # model name\n                           param_grid = hyparameters,   # grid of parameters\n                           scoring = 'accuracy',        # model's performance metric\n                           cv = 5,                      # 5-fold cross-validation\n                           n_jobs = -1,                 # use all available processors\n                           verbose = 2)                 # show detailed ouput during searching",
      "metadata": {
        "trusted": true
      },
      "outputs": [],
      "execution_count": 26
    },
    {
      "cell_type": "code",
      "source": "grid_search.fit(Xtrain, Ytrain)",
      "metadata": {
        "trusted": true
      },
      "outputs": [
        {
          "name": "stdout",
          "text": "Fitting 5 folds for each of 15 candidates, totalling 75 fits\n[CV] END ...............................C=0.01, solver=lbfgs; total time=   0.0s\n[CV] END ...............................C=0.01, solver=lbfgs; total time=   0.0s\n[CV] END ...............................C=0.01, solver=lbfgs; total time=   0.0s\n[CV] END ...............................C=0.01, solver=lbfgs; total time=   0.0s\n[CV] END ...............................C=0.01, solver=lbfgs; total time=   0.0s\n[CV] END ...........................C=0.01, solver=liblinear; total time=   0.0s\n[CV] END ...........................C=0.01, solver=liblinear; total time=   0.0s\n[CV] END ...........................C=0.01, solver=liblinear; total time=   0.0s\n[CV] END ...........................C=0.01, solver=liblinear; total time=   0.0s\n[CV] END ...........................C=0.01, solver=liblinear; total time=   0.0s\n[CV] END ...........................C=0.01, solver=newton-cg; total time=   0.0s\n[CV] END ...........................C=0.01, solver=newton-cg; total time=   0.0s\n[CV] END ...........................C=0.01, solver=newton-cg; total time=   0.0s\n[CV] END ...........................C=0.01, solver=newton-cg; total time=   0.0s\n[CV] END ...........................C=0.01, solver=newton-cg; total time=   0.0s\n[CV] END .................................C=0.01, solver=sag; total time=   0.0s\n[CV] END .................................C=0.01, solver=sag; total time=   0.0s\n[CV] END .................................C=0.01, solver=sag; total time=   0.0s\n[CV] END .................................C=0.01, solver=sag; total time=   0.0s\n[CV] END .................................C=0.01, solver=sag; total time=   0.0s\n[CV] END ................................C=0.01, solver=saga; total time=   0.0s\n[CV] END ................................C=0.01, solver=saga; total time=   0.0s\n[CV] END ................................C=0.01, solver=saga; total time=   0.0s\n[CV] END ................................C=0.01, solver=saga; total time=   0.0s\n[CV] END ................................C=0.01, solver=saga; total time=   0.0s\n[CV] END ................................C=0.1, solver=lbfgs; total time=   0.0s\n[CV] END ................................C=0.1, solver=lbfgs; total time=   0.0s\n[CV] END ................................C=0.1, solver=lbfgs; total time=   0.0s\n[CV] END ................................C=0.1, solver=lbfgs; total time=   0.0s\n[CV] END ................................C=0.1, solver=lbfgs; total time=   0.0s\n[CV] END ............................C=0.1, solver=liblinear; total time=   0.0s\n[CV] END ............................C=0.1, solver=liblinear; total time=   0.0s\n[CV] END ............................C=0.1, solver=liblinear; total time=   0.0s\n[CV] END ............................C=0.1, solver=liblinear; total time=   0.0s\n[CV] END ............................C=0.1, solver=liblinear; total time=   0.0s\n[CV] END ............................C=0.1, solver=newton-cg; total time=   0.0s\n[CV] END ............................C=0.1, solver=newton-cg; total time=   0.0s\n[CV] END ............................C=0.1, solver=newton-cg; total time=   0.0s\n[CV] END ............................C=0.1, solver=newton-cg; total time=   0.0s\n[CV] END ............................C=0.1, solver=newton-cg; total time=   0.0s\n[CV] END ..................................C=0.1, solver=sag; total time=   0.0s\n[CV] END ..................................C=0.1, solver=sag; total time=   0.0s\n[CV] END ..................................C=0.1, solver=sag; total time=   0.0s\n[CV] END ..................................C=0.1, solver=sag; total time=   0.0s\n[CV] END ..................................C=0.1, solver=sag; total time=   0.0s\n[CV] END .................................C=0.1, solver=saga; total time=   0.0s\n[CV] END .................................C=0.1, solver=saga; total time=   0.0s\n[CV] END .................................C=0.1, solver=saga; total time=   0.0s\n[CV] END .................................C=0.1, solver=saga; total time=   0.0s\n[CV] END .................................C=0.1, solver=saga; total time=   0.0s\n[CV] END ..................................C=1, solver=lbfgs; total time=   0.0s\n[CV] END ..................................C=1, solver=lbfgs; total time=   0.0s\n[CV] END ..................................C=1, solver=lbfgs; total time=   0.0s\n[CV] END ..................................C=1, solver=lbfgs; total time=   0.0s\n[CV] END ..................................C=1, solver=lbfgs; total time=   0.0s\n[CV] END ..............................C=1, solver=liblinear; total time=   0.0s\n[CV] END ..............................C=1, solver=liblinear; total time=   0.0s\n[CV] END ..............................C=1, solver=liblinear; total time=   0.0s\n[CV] END ..............................C=1, solver=liblinear; total time=   0.0s\n[CV] END ..............................C=1, solver=liblinear; total time=   0.0s\n[CV] END ..............................C=1, solver=newton-cg; total time=   0.0s\n[CV] END ..............................C=1, solver=newton-cg; total time=   0.0s\n[CV] END ..............................C=1, solver=newton-cg; total time=   0.0s\n[CV] END ..............................C=1, solver=newton-cg; total time=   0.0s\n[CV] END ..............................C=1, solver=newton-cg; total time=   0.0s\n[CV] END ....................................C=1, solver=sag; total time=   0.0s\n[CV] END ....................................C=1, solver=sag; total time=   0.0s\n[CV] END ....................................C=1, solver=sag; total time=   0.0s\n[CV] END ....................................C=1, solver=sag; total time=   0.0s\n[CV] END ....................................C=1, solver=sag; total time=   0.0s\n[CV] END ...................................C=1, solver=saga; total time=   0.0s\n[CV] END ...................................C=1, solver=saga; total time=   0.0s\n[CV] END ...................................C=1, solver=saga; total time=   0.0s\n[CV] END ...................................C=1, solver=saga; total time=   0.0s\n[CV] END ...................................C=1, solver=saga; total time=   0.0s\n",
          "output_type": "stream"
        },
        {
          "execution_count": 27,
          "output_type": "execute_result",
          "data": {
            "text/plain": "GridSearchCV(cv=5, estimator=LogisticRegression(), n_jobs=-1,\n             param_grid={'C': [0.01, 0.1, 1],\n                         'solver': ['lbfgs', 'liblinear', 'newton-cg', 'sag',\n                                    'saga']},\n             scoring='accuracy', verbose=2)",
            "text/html": "<style>#sk-container-id-2 {\n  /* Definition of color scheme common for light and dark mode */\n  --sklearn-color-text: black;\n  --sklearn-color-line: gray;\n  /* Definition of color scheme for unfitted estimators */\n  --sklearn-color-unfitted-level-0: #fff5e6;\n  --sklearn-color-unfitted-level-1: #f6e4d2;\n  --sklearn-color-unfitted-level-2: #ffe0b3;\n  --sklearn-color-unfitted-level-3: chocolate;\n  /* Definition of color scheme for fitted estimators */\n  --sklearn-color-fitted-level-0: #f0f8ff;\n  --sklearn-color-fitted-level-1: #d4ebff;\n  --sklearn-color-fitted-level-2: #b3dbfd;\n  --sklearn-color-fitted-level-3: cornflowerblue;\n\n  /* Specific color for light theme */\n  --sklearn-color-text-on-default-background: var(--sg-text-color, var(--theme-code-foreground, var(--jp-content-font-color1, black)));\n  --sklearn-color-background: var(--sg-background-color, var(--theme-background, var(--jp-layout-color0, white)));\n  --sklearn-color-border-box: var(--sg-text-color, var(--theme-code-foreground, var(--jp-content-font-color1, black)));\n  --sklearn-color-icon: #696969;\n\n  @media (prefers-color-scheme: dark) {\n    /* Redefinition of color scheme for dark theme */\n    --sklearn-color-text-on-default-background: var(--sg-text-color, var(--theme-code-foreground, var(--jp-content-font-color1, white)));\n    --sklearn-color-background: var(--sg-background-color, var(--theme-background, var(--jp-layout-color0, #111)));\n    --sklearn-color-border-box: var(--sg-text-color, var(--theme-code-foreground, var(--jp-content-font-color1, white)));\n    --sklearn-color-icon: #878787;\n  }\n}\n\n#sk-container-id-2 {\n  color: var(--sklearn-color-text);\n}\n\n#sk-container-id-2 pre {\n  padding: 0;\n}\n\n#sk-container-id-2 input.sk-hidden--visually {\n  border: 0;\n  clip: rect(1px 1px 1px 1px);\n  clip: rect(1px, 1px, 1px, 1px);\n  height: 1px;\n  margin: -1px;\n  overflow: hidden;\n  padding: 0;\n  position: absolute;\n  width: 1px;\n}\n\n#sk-container-id-2 div.sk-dashed-wrapped {\n  border: 1px dashed var(--sklearn-color-line);\n  margin: 0 0.4em 0.5em 0.4em;\n  box-sizing: border-box;\n  padding-bottom: 0.4em;\n  background-color: var(--sklearn-color-background);\n}\n\n#sk-container-id-2 div.sk-container {\n  /* jupyter's `normalize.less` sets `[hidden] { display: none; }`\n     but bootstrap.min.css set `[hidden] { display: none !important; }`\n     so we also need the `!important` here to be able to override the\n     default hidden behavior on the sphinx rendered scikit-learn.org.\n     See: https://github.com/scikit-learn/scikit-learn/issues/21755 */\n  display: inline-block !important;\n  position: relative;\n}\n\n#sk-container-id-2 div.sk-text-repr-fallback {\n  display: none;\n}\n\ndiv.sk-parallel-item,\ndiv.sk-serial,\ndiv.sk-item {\n  /* draw centered vertical line to link estimators */\n  background-image: linear-gradient(var(--sklearn-color-text-on-default-background), var(--sklearn-color-text-on-default-background));\n  background-size: 2px 100%;\n  background-repeat: no-repeat;\n  background-position: center center;\n}\n\n/* Parallel-specific style estimator block */\n\n#sk-container-id-2 div.sk-parallel-item::after {\n  content: \"\";\n  width: 100%;\n  border-bottom: 2px solid var(--sklearn-color-text-on-default-background);\n  flex-grow: 1;\n}\n\n#sk-container-id-2 div.sk-parallel {\n  display: flex;\n  align-items: stretch;\n  justify-content: center;\n  background-color: var(--sklearn-color-background);\n  position: relative;\n}\n\n#sk-container-id-2 div.sk-parallel-item {\n  display: flex;\n  flex-direction: column;\n}\n\n#sk-container-id-2 div.sk-parallel-item:first-child::after {\n  align-self: flex-end;\n  width: 50%;\n}\n\n#sk-container-id-2 div.sk-parallel-item:last-child::after {\n  align-self: flex-start;\n  width: 50%;\n}\n\n#sk-container-id-2 div.sk-parallel-item:only-child::after {\n  width: 0;\n}\n\n/* Serial-specific style estimator block */\n\n#sk-container-id-2 div.sk-serial {\n  display: flex;\n  flex-direction: column;\n  align-items: center;\n  background-color: var(--sklearn-color-background);\n  padding-right: 1em;\n  padding-left: 1em;\n}\n\n\n/* Toggleable style: style used for estimator/Pipeline/ColumnTransformer box that is\nclickable and can be expanded/collapsed.\n- Pipeline and ColumnTransformer use this feature and define the default style\n- Estimators will overwrite some part of the style using the `sk-estimator` class\n*/\n\n/* Pipeline and ColumnTransformer style (default) */\n\n#sk-container-id-2 div.sk-toggleable {\n  /* Default theme specific background. It is overwritten whether we have a\n  specific estimator or a Pipeline/ColumnTransformer */\n  background-color: var(--sklearn-color-background);\n}\n\n/* Toggleable label */\n#sk-container-id-2 label.sk-toggleable__label {\n  cursor: pointer;\n  display: block;\n  width: 100%;\n  margin-bottom: 0;\n  padding: 0.5em;\n  box-sizing: border-box;\n  text-align: center;\n}\n\n#sk-container-id-2 label.sk-toggleable__label-arrow:before {\n  /* Arrow on the left of the label */\n  content: \"▸\";\n  float: left;\n  margin-right: 0.25em;\n  color: var(--sklearn-color-icon);\n}\n\n#sk-container-id-2 label.sk-toggleable__label-arrow:hover:before {\n  color: var(--sklearn-color-text);\n}\n\n/* Toggleable content - dropdown */\n\n#sk-container-id-2 div.sk-toggleable__content {\n  max-height: 0;\n  max-width: 0;\n  overflow: hidden;\n  text-align: left;\n  /* unfitted */\n  background-color: var(--sklearn-color-unfitted-level-0);\n}\n\n#sk-container-id-2 div.sk-toggleable__content.fitted {\n  /* fitted */\n  background-color: var(--sklearn-color-fitted-level-0);\n}\n\n#sk-container-id-2 div.sk-toggleable__content pre {\n  margin: 0.2em;\n  border-radius: 0.25em;\n  color: var(--sklearn-color-text);\n  /* unfitted */\n  background-color: var(--sklearn-color-unfitted-level-0);\n}\n\n#sk-container-id-2 div.sk-toggleable__content.fitted pre {\n  /* unfitted */\n  background-color: var(--sklearn-color-fitted-level-0);\n}\n\n#sk-container-id-2 input.sk-toggleable__control:checked~div.sk-toggleable__content {\n  /* Expand drop-down */\n  max-height: 200px;\n  max-width: 100%;\n  overflow: auto;\n}\n\n#sk-container-id-2 input.sk-toggleable__control:checked~label.sk-toggleable__label-arrow:before {\n  content: \"▾\";\n}\n\n/* Pipeline/ColumnTransformer-specific style */\n\n#sk-container-id-2 div.sk-label input.sk-toggleable__control:checked~label.sk-toggleable__label {\n  color: var(--sklearn-color-text);\n  background-color: var(--sklearn-color-unfitted-level-2);\n}\n\n#sk-container-id-2 div.sk-label.fitted input.sk-toggleable__control:checked~label.sk-toggleable__label {\n  background-color: var(--sklearn-color-fitted-level-2);\n}\n\n/* Estimator-specific style */\n\n/* Colorize estimator box */\n#sk-container-id-2 div.sk-estimator input.sk-toggleable__control:checked~label.sk-toggleable__label {\n  /* unfitted */\n  background-color: var(--sklearn-color-unfitted-level-2);\n}\n\n#sk-container-id-2 div.sk-estimator.fitted input.sk-toggleable__control:checked~label.sk-toggleable__label {\n  /* fitted */\n  background-color: var(--sklearn-color-fitted-level-2);\n}\n\n#sk-container-id-2 div.sk-label label.sk-toggleable__label,\n#sk-container-id-2 div.sk-label label {\n  /* The background is the default theme color */\n  color: var(--sklearn-color-text-on-default-background);\n}\n\n/* On hover, darken the color of the background */\n#sk-container-id-2 div.sk-label:hover label.sk-toggleable__label {\n  color: var(--sklearn-color-text);\n  background-color: var(--sklearn-color-unfitted-level-2);\n}\n\n/* Label box, darken color on hover, fitted */\n#sk-container-id-2 div.sk-label.fitted:hover label.sk-toggleable__label.fitted {\n  color: var(--sklearn-color-text);\n  background-color: var(--sklearn-color-fitted-level-2);\n}\n\n/* Estimator label */\n\n#sk-container-id-2 div.sk-label label {\n  font-family: monospace;\n  font-weight: bold;\n  display: inline-block;\n  line-height: 1.2em;\n}\n\n#sk-container-id-2 div.sk-label-container {\n  text-align: center;\n}\n\n/* Estimator-specific */\n#sk-container-id-2 div.sk-estimator {\n  font-family: monospace;\n  border: 1px dotted var(--sklearn-color-border-box);\n  border-radius: 0.25em;\n  box-sizing: border-box;\n  margin-bottom: 0.5em;\n  /* unfitted */\n  background-color: var(--sklearn-color-unfitted-level-0);\n}\n\n#sk-container-id-2 div.sk-estimator.fitted {\n  /* fitted */\n  background-color: var(--sklearn-color-fitted-level-0);\n}\n\n/* on hover */\n#sk-container-id-2 div.sk-estimator:hover {\n  /* unfitted */\n  background-color: var(--sklearn-color-unfitted-level-2);\n}\n\n#sk-container-id-2 div.sk-estimator.fitted:hover {\n  /* fitted */\n  background-color: var(--sklearn-color-fitted-level-2);\n}\n\n/* Specification for estimator info (e.g. \"i\" and \"?\") */\n\n/* Common style for \"i\" and \"?\" */\n\n.sk-estimator-doc-link,\na:link.sk-estimator-doc-link,\na:visited.sk-estimator-doc-link {\n  float: right;\n  font-size: smaller;\n  line-height: 1em;\n  font-family: monospace;\n  background-color: var(--sklearn-color-background);\n  border-radius: 1em;\n  height: 1em;\n  width: 1em;\n  text-decoration: none !important;\n  margin-left: 1ex;\n  /* unfitted */\n  border: var(--sklearn-color-unfitted-level-1) 1pt solid;\n  color: var(--sklearn-color-unfitted-level-1);\n}\n\n.sk-estimator-doc-link.fitted,\na:link.sk-estimator-doc-link.fitted,\na:visited.sk-estimator-doc-link.fitted {\n  /* fitted */\n  border: var(--sklearn-color-fitted-level-1) 1pt solid;\n  color: var(--sklearn-color-fitted-level-1);\n}\n\n/* On hover */\ndiv.sk-estimator:hover .sk-estimator-doc-link:hover,\n.sk-estimator-doc-link:hover,\ndiv.sk-label-container:hover .sk-estimator-doc-link:hover,\n.sk-estimator-doc-link:hover {\n  /* unfitted */\n  background-color: var(--sklearn-color-unfitted-level-3);\n  color: var(--sklearn-color-background);\n  text-decoration: none;\n}\n\ndiv.sk-estimator.fitted:hover .sk-estimator-doc-link.fitted:hover,\n.sk-estimator-doc-link.fitted:hover,\ndiv.sk-label-container:hover .sk-estimator-doc-link.fitted:hover,\n.sk-estimator-doc-link.fitted:hover {\n  /* fitted */\n  background-color: var(--sklearn-color-fitted-level-3);\n  color: var(--sklearn-color-background);\n  text-decoration: none;\n}\n\n/* Span, style for the box shown on hovering the info icon */\n.sk-estimator-doc-link span {\n  display: none;\n  z-index: 9999;\n  position: relative;\n  font-weight: normal;\n  right: .2ex;\n  padding: .5ex;\n  margin: .5ex;\n  width: min-content;\n  min-width: 20ex;\n  max-width: 50ex;\n  color: var(--sklearn-color-text);\n  box-shadow: 2pt 2pt 4pt #999;\n  /* unfitted */\n  background: var(--sklearn-color-unfitted-level-0);\n  border: .5pt solid var(--sklearn-color-unfitted-level-3);\n}\n\n.sk-estimator-doc-link.fitted span {\n  /* fitted */\n  background: var(--sklearn-color-fitted-level-0);\n  border: var(--sklearn-color-fitted-level-3);\n}\n\n.sk-estimator-doc-link:hover span {\n  display: block;\n}\n\n/* \"?\"-specific style due to the `<a>` HTML tag */\n\n#sk-container-id-2 a.estimator_doc_link {\n  float: right;\n  font-size: 1rem;\n  line-height: 1em;\n  font-family: monospace;\n  background-color: var(--sklearn-color-background);\n  border-radius: 1rem;\n  height: 1rem;\n  width: 1rem;\n  text-decoration: none;\n  /* unfitted */\n  color: var(--sklearn-color-unfitted-level-1);\n  border: var(--sklearn-color-unfitted-level-1) 1pt solid;\n}\n\n#sk-container-id-2 a.estimator_doc_link.fitted {\n  /* fitted */\n  border: var(--sklearn-color-fitted-level-1) 1pt solid;\n  color: var(--sklearn-color-fitted-level-1);\n}\n\n/* On hover */\n#sk-container-id-2 a.estimator_doc_link:hover {\n  /* unfitted */\n  background-color: var(--sklearn-color-unfitted-level-3);\n  color: var(--sklearn-color-background);\n  text-decoration: none;\n}\n\n#sk-container-id-2 a.estimator_doc_link.fitted:hover {\n  /* fitted */\n  background-color: var(--sklearn-color-fitted-level-3);\n}\n</style><div id=\"sk-container-id-2\" class=\"sk-top-container\"><div class=\"sk-text-repr-fallback\"><pre>GridSearchCV(cv=5, estimator=LogisticRegression(), n_jobs=-1,\n             param_grid={&#x27;C&#x27;: [0.01, 0.1, 1],\n                         &#x27;solver&#x27;: [&#x27;lbfgs&#x27;, &#x27;liblinear&#x27;, &#x27;newton-cg&#x27;, &#x27;sag&#x27;,\n                                    &#x27;saga&#x27;]},\n             scoring=&#x27;accuracy&#x27;, verbose=2)</pre><b>In a Jupyter environment, please rerun this cell to show the HTML representation or trust the notebook. <br />On GitHub, the HTML representation is unable to render, please try loading this page with nbviewer.org.</b></div><div class=\"sk-container\" hidden><div class=\"sk-item sk-dashed-wrapped\"><div class=\"sk-label-container\"><div class=\"sk-label fitted sk-toggleable\"><input class=\"sk-toggleable__control sk-hidden--visually\" id=\"sk-estimator-id-4\" type=\"checkbox\" ><label for=\"sk-estimator-id-4\" class=\"sk-toggleable__label fitted sk-toggleable__label-arrow fitted\">&nbsp;&nbsp;GridSearchCV<a class=\"sk-estimator-doc-link fitted\" rel=\"noreferrer\" target=\"_blank\" href=\"https://scikit-learn.org/1.4/modules/generated/sklearn.model_selection.GridSearchCV.html\">?<span>Documentation for GridSearchCV</span></a><span class=\"sk-estimator-doc-link fitted\">i<span>Fitted</span></span></label><div class=\"sk-toggleable__content fitted\"><pre>GridSearchCV(cv=5, estimator=LogisticRegression(), n_jobs=-1,\n             param_grid={&#x27;C&#x27;: [0.01, 0.1, 1],\n                         &#x27;solver&#x27;: [&#x27;lbfgs&#x27;, &#x27;liblinear&#x27;, &#x27;newton-cg&#x27;, &#x27;sag&#x27;,\n                                    &#x27;saga&#x27;]},\n             scoring=&#x27;accuracy&#x27;, verbose=2)</pre></div> </div></div><div class=\"sk-parallel\"><div class=\"sk-parallel-item\"><div class=\"sk-item\"><div class=\"sk-label-container\"><div class=\"sk-label fitted sk-toggleable\"><input class=\"sk-toggleable__control sk-hidden--visually\" id=\"sk-estimator-id-5\" type=\"checkbox\" ><label for=\"sk-estimator-id-5\" class=\"sk-toggleable__label fitted sk-toggleable__label-arrow fitted\">estimator: LogisticRegression</label><div class=\"sk-toggleable__content fitted\"><pre>LogisticRegression()</pre></div> </div></div><div class=\"sk-serial\"><div class=\"sk-item\"><div class=\"sk-estimator fitted sk-toggleable\"><input class=\"sk-toggleable__control sk-hidden--visually\" id=\"sk-estimator-id-6\" type=\"checkbox\" ><label for=\"sk-estimator-id-6\" class=\"sk-toggleable__label fitted sk-toggleable__label-arrow fitted\">&nbsp;LogisticRegression<a class=\"sk-estimator-doc-link fitted\" rel=\"noreferrer\" target=\"_blank\" href=\"https://scikit-learn.org/1.4/modules/generated/sklearn.linear_model.LogisticRegression.html\">?<span>Documentation for LogisticRegression</span></a></label><div class=\"sk-toggleable__content fitted\"><pre>LogisticRegression()</pre></div> </div></div></div></div></div></div></div></div></div>"
          },
          "metadata": {}
        }
      ],
      "execution_count": 27
    },
    {
      "cell_type": "code",
      "source": "print(\"Best parameters found:\", grid_search.best_params_)\nprint(\"Best estimator: \", grid_search.best_estimator_)",
      "metadata": {
        "trusted": true
      },
      "outputs": [
        {
          "name": "stdout",
          "text": "Best parameters found: {'C': 0.1, 'solver': 'lbfgs'}\nBest estimator:  LogisticRegression(C=0.1)\n",
          "output_type": "stream"
        }
      ],
      "execution_count": 28
    },
    {
      "cell_type": "code",
      "source": "ypred = grid_search.best_estimator_.predict(Xtest)",
      "metadata": {
        "trusted": true
      },
      "outputs": [],
      "execution_count": 29
    },
    {
      "cell_type": "markdown",
      "source": "**Classification Report**",
      "metadata": {}
    },
    {
      "cell_type": "code",
      "source": "print(classification_report(Ytest, ypred))",
      "metadata": {
        "trusted": true
      },
      "outputs": [
        {
          "name": "stdout",
          "text": "              precision    recall  f1-score   support\n\n         0.0       0.81      0.93      0.87        28\n         1.0       0.75      0.50      0.60        12\n\n    accuracy                           0.80        40\n   macro avg       0.78      0.71      0.73        40\nweighted avg       0.79      0.80      0.79        40\n\n",
          "output_type": "stream"
        }
      ],
      "execution_count": 30
    },
    {
      "cell_type": "code",
      "source": "ypred_proba = grid_search.best_estimator_.predict_proba(Xtest)\nypred_proba",
      "metadata": {
        "trusted": true
      },
      "outputs": [
        {
          "execution_count": 31,
          "output_type": "execute_result",
          "data": {
            "text/plain": "array([[0.9611448 , 0.0388552 ],\n       [0.73998515, 0.26001485],\n       [0.92748419, 0.07251581],\n       [0.85248706, 0.14751294],\n       [0.61352989, 0.38647011],\n       [0.94120862, 0.05879138],\n       [0.49610827, 0.50389173],\n       [0.4089698 , 0.5910302 ],\n       [0.68357948, 0.31642052],\n       [0.44605923, 0.55394077],\n       [0.85010967, 0.14989033],\n       [0.63572141, 0.36427859],\n       [0.64907342, 0.35092658],\n       [0.54523422, 0.45476578],\n       [0.84144982, 0.15855018],\n       [0.99431528, 0.00568472],\n       [0.53777129, 0.46222871],\n       [0.97277477, 0.02722523],\n       [0.86636209, 0.13363791],\n       [0.78205124, 0.21794876],\n       [0.96896309, 0.03103691],\n       [0.84414488, 0.15585512],\n       [0.90115787, 0.09884213],\n       [0.93340069, 0.06659931],\n       [0.37180332, 0.62819668],\n       [0.37361169, 0.62638831],\n       [0.87777917, 0.12222083],\n       [0.87232736, 0.12767264],\n       [0.78758877, 0.21241123],\n       [0.87784379, 0.12215621],\n       [0.95457943, 0.04542057],\n       [0.7973913 , 0.2026087 ],\n       [0.46821048, 0.53178952],\n       [0.27102257, 0.72897743],\n       [0.70634329, 0.29365671],\n       [0.77255678, 0.22744322],\n       [0.52898992, 0.47101008],\n       [0.85315983, 0.14684017],\n       [0.94690739, 0.05309261],\n       [0.45826381, 0.54173619]])"
          },
          "metadata": {}
        }
      ],
      "execution_count": 31
    },
    {
      "cell_type": "markdown",
      "source": "**Logloss value**",
      "metadata": {}
    },
    {
      "cell_type": "code",
      "source": "log_loss(Ytest, ypred_proba)",
      "metadata": {
        "trusted": true
      },
      "outputs": [
        {
          "execution_count": 35,
          "output_type": "execute_result",
          "data": {
            "text/plain": "0.5194785029392006"
          },
          "metadata": {}
        }
      ],
      "execution_count": 35
    },
    {
      "cell_type": "markdown",
      "source": "**Jaccard Score**",
      "metadata": {}
    },
    {
      "cell_type": "code",
      "source": "jaccard_score(Ytest, ypred, pos_label=0)",
      "metadata": {
        "trusted": true
      },
      "outputs": [
        {
          "execution_count": 39,
          "output_type": "execute_result",
          "data": {
            "text/plain": "0.7647058823529411"
          },
          "metadata": {}
        }
      ],
      "execution_count": 39
    },
    {
      "cell_type": "markdown",
      "source": "**Confusion Matrix**",
      "metadata": {}
    },
    {
      "cell_type": "code",
      "source": "cm = confusion_matrix(Ytest, ypred, labels=[1,0])\ncm",
      "metadata": {
        "trusted": true
      },
      "outputs": [
        {
          "execution_count": 79,
          "output_type": "execute_result",
          "data": {
            "text/plain": "array([[ 6,  6],\n       [ 2, 26]], dtype=int64)"
          },
          "metadata": {}
        }
      ],
      "execution_count": 79
    },
    {
      "cell_type": "code",
      "source": "cm[0,1]",
      "metadata": {
        "trusted": true
      },
      "outputs": [
        {
          "execution_count": 72,
          "output_type": "execute_result",
          "data": {
            "text/plain": "6"
          },
          "metadata": {}
        }
      ],
      "execution_count": 72
    },
    {
      "cell_type": "code",
      "source": "cm.shape",
      "metadata": {
        "trusted": true
      },
      "outputs": [
        {
          "execution_count": 63,
          "output_type": "execute_result",
          "data": {
            "text/plain": "(2, 2)"
          },
          "metadata": {}
        }
      ],
      "execution_count": 63
    },
    {
      "cell_type": "code",
      "source": "list(range(2)), list(range(2))",
      "metadata": {
        "trusted": true
      },
      "outputs": [
        {
          "execution_count": 66,
          "output_type": "execute_result",
          "data": {
            "text/plain": "([0, 1], [0, 1])"
          },
          "metadata": {}
        }
      ],
      "execution_count": 66
    },
    {
      "cell_type": "code",
      "source": "list(itertools.product(range(2),range(2)))",
      "metadata": {
        "trusted": true
      },
      "outputs": [
        {
          "execution_count": 61,
          "output_type": "execute_result",
          "data": {
            "text/plain": "[(0, 0), (0, 1), (1, 0), (1, 1)]"
          },
          "metadata": {}
        }
      ],
      "execution_count": 61
    },
    {
      "cell_type": "code",
      "source": "import itertools\nfor i, j in itertools.product(range(cm.shape[0]), range(cm.shape[1])):\n    print(i, j)\n    ",
      "metadata": {
        "trusted": true
      },
      "outputs": [
        {
          "name": "stdout",
          "text": "0 0\n0 1\n1 0\n1 1\n",
          "output_type": "stream"
        }
      ],
      "execution_count": 67
    },
    {
      "cell_type": "code",
      "source": "import matplotlib.pyplot as plt\nnp.set_printoptions(precision=2)\n\n# below code related with \"confusion_matrix(Ytest, ypred, labels=[1,0])\"\nclasses = ['churn = 1', 'churn = 0']\n\nplt.imshow(cm, interpolation='nearest', cmap = plt.cm.Blues)\n\nplt.title('Confusion Matrix')\nplt.ylabel('True label')\nplt.xlabel('Predicted label')\nticks = np.arange(len(classes))\nprint(ticks)\nplt.xticks(ticks=ticks, labels=classes, rotation=45)\nplt.yticks(ticks=ticks, labels=classes)\n\nfor i, j in itertools.product(range(cm.shape[0]), range(cm.shape[1])):\n    plt.text(x = j, \n             y = i, \n             s = cm[i, j],\n             horizontalalignment = 'center',\n             color = 'white' if cm[i,j]>cm.max()/2 else 'black')\n\nplt.colorbar()\nplt.tight_layout()\nplt.show()",
      "metadata": {
        "trusted": true
      },
      "outputs": [
        {
          "name": "stdout",
          "text": "[0 1]\n",
          "output_type": "stream"
        },
        {
          "output_type": "display_data",
          "data": {
            "text/plain": "<Figure size 640x480 with 2 Axes>",
            "image/png": "[encoded data removed]"
          },
          "metadata": {}
        }
      ],
      "execution_count": 82
    }
  ]
}