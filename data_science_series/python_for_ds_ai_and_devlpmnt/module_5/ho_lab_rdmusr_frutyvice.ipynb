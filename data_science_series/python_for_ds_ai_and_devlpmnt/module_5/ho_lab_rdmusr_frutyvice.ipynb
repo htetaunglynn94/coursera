{
 "cells": [
  {
   "cell_type": "markdown",
   "metadata": {},
   "source": [
    "<center>\n",
    "    <img src=\"https://cf-courses-data.s3.us.cloud-object-storage.appdomain.cloud/assets/logos/SN_web_lightmode.png\" width=\"300\" alt=\"cognitiveclass.ai logo\">\n",
    "</center>\n",
    "\n",
    "# Hands-on Lab: API Examples\n",
    "## Random User and Fruityvice API Examples\n",
    "\n",
    "\n",
    "Estimated time needed: **30** minutes\n",
    "\n",
    "## Objectives\n",
    "\n",
    "After completing this lab you will be able to:\n",
    "\n",
    "*   Load and use RandomUser API, using `RandomUser()` Python library\n",
    "*   Load and use Fruityvice API, using `requests` Python library\n",
    "*   Load and use Open-Joke-API, using `requests` Python library\n",
    "\n"
   ]
  },
  {
   "cell_type": "markdown",
   "metadata": {},
   "source": [
    "The purpose of this notebook is to provide more examples on how to use simple APIs. As you have already learned from previous videos and notebooks, API stands for Application Programming Interface and is a software intermediary that allows two applications to talk to each other. \n",
    "\n",
    "The advantages of using APIs:\n",
    " *   **Automation**. Less human effort is required and workflows can be easily updated to become faster and more      \n",
    "     productive.\n",
    " *   **Efficiency**. It allows to use the capabilities of one of the already developed APIs than to try to \n",
    "     independently implement some functionality from scratch.\n",
    " \n",
    "The disadvantage of using APIs:\n",
    " *   **Security**. If the API is poorly integrated, it means it will be vulnerable to attacks, resulting in data breeches or losses having financial or reputation implications.\n",
    "\n",
    "One of the applications we will use in this notebook is Random User Generator. RandomUser is an open-source, free API providing developers with randomly generated users to be used as placeholders for testing purposes. This makes the tool similar to Lorem Ipsum, but is a placeholder for people instead of text. The API can return multiple results, as well as specify generated user details such as gender, email, image, username, address, title, first and last name, and more. More information on [RandomUser](https://randomuser.me/documentation#intro) can be found here.\n",
    "\n",
    "Another example of simple API we will use in this notebook is Fruityvice application. The Fruityvice API web service which provides data for all kinds of fruit! You can use Fruityvice to find out interesting information about fruit and educate yourself. The web service is completely free to use and contribute to.\n"
   ]
  },
  {
   "cell_type": "markdown",
   "metadata": {},
   "source": [
    "## Example 1: RandomUser API\n",
    "Bellow are Get Methods parameters that we can generate. For more information on the parameters, please visit this [documentation](https://randomuser.me/documentation) page.\n"
   ]
  },
  {
   "cell_type": "markdown",
   "metadata": {},
   "source": [
    "## **Get Methods**\n",
    "\n",
    "- get_cell()\n",
    "- get_city()\n",
    "- get_dob()\n",
    "- get_email()\n",
    "- get_first_name()\n",
    "- get_full_name()\n",
    "- get_gender()\n",
    "- get_id()\n",
    "- get_id_number()\n",
    "- get_id_type()\n",
    "- get_info()\n",
    "- get_last_name()\n",
    "- get_login_md5()\n",
    "- get_login_salt()\n",
    "- get_login_sha1()\n",
    "- get_login_sha256()\n",
    "- get_nat()\n",
    "- get_password()\n",
    "- get_phone()\n",
    "- get_picture()\n",
    "- get_postcode()\n",
    "- get_registered()\n",
    "- get_state()\n",
    "- get_street()\n",
    "- get_username()\n",
    "- get_zipcode()\n"
   ]
  },
  {
   "cell_type": "markdown",
   "metadata": {},
   "source": [
    "To start using the API you can install the `randomuser` library running the `pip install` command.\n"
   ]
  },
  {
   "cell_type": "code",
   "execution_count": 2,
   "metadata": {
    "tags": []
   },
   "outputs": [
    {
     "name": "stdout",
     "output_type": "stream",
     "text": [
      "Collecting randomuser\n",
      "  Downloading randomuser-1.6.tar.gz (5.0 kB)\n",
      "  Preparing metadata (setup.py) ... \u001b[?25ldone\n",
      "\u001b[?25hBuilding wheels for collected packages: randomuser\n",
      "  Building wheel for randomuser (setup.py) ... \u001b[?25ldone\n",
      "\u001b[?25h  Created wheel for randomuser: filename=randomuser-1.6-py3-none-any.whl size=5066 sha256=ebb161ec5cc3c18c37bce3133a0124282a373d557c63bf4355fa91c9fc7f86cb\n",
      "  Stored in directory: /home/jupyterlab/.cache/pip/wheels/21/10/7b/c13bc3e24a3c1000a34554802ad8aa0ff27df56366998a0473\n",
      "Successfully built randomuser\n",
      "Installing collected packages: randomuser\n",
      "Successfully installed randomuser-1.6\n"
     ]
    }
   ],
   "source": [
    "!pip install randomuser"
   ]
  },
  {
   "cell_type": "markdown",
   "metadata": {},
   "source": [
    "Then, we will load the necessary libraries.\n"
   ]
  },
  {
   "cell_type": "code",
   "execution_count": 3,
   "metadata": {
    "tags": []
   },
   "outputs": [],
   "source": [
    "from randomuser import RandomUser\n",
    "import pandas as pd"
   ]
  },
  {
   "cell_type": "markdown",
   "metadata": {},
   "source": [
    "First, we will create a random user object, r.\n"
   ]
  },
  {
   "cell_type": "code",
   "execution_count": 4,
   "metadata": {
    "tags": []
   },
   "outputs": [],
   "source": [
    "r = RandomUser()"
   ]
  },
  {
   "cell_type": "markdown",
   "metadata": {},
   "source": [
    "Then, using `generate_users()` function, we get a list of random 10 users.\n"
   ]
  },
  {
   "cell_type": "code",
   "execution_count": 5,
   "metadata": {
    "tags": []
   },
   "outputs": [],
   "source": [
    "some_list = r.generate_users(10)"
   ]
  },
  {
   "cell_type": "code",
   "execution_count": 6,
   "metadata": {
    "tags": []
   },
   "outputs": [
    {
     "data": {
      "text/plain": [
       "[<randomuser.RandomUser at 0x7f58b7031ad0>,\n",
       " <randomuser.RandomUser at 0x7f58b7031b10>,\n",
       " <randomuser.RandomUser at 0x7f58b7031b50>,\n",
       " <randomuser.RandomUser at 0x7f58b7031b90>,\n",
       " <randomuser.RandomUser at 0x7f58b7031bd0>,\n",
       " <randomuser.RandomUser at 0x7f58b7031c50>,\n",
       " <randomuser.RandomUser at 0x7f58b7031c90>,\n",
       " <randomuser.RandomUser at 0x7f58b7031cd0>,\n",
       " <randomuser.RandomUser at 0x7f58b7031d10>,\n",
       " <randomuser.RandomUser at 0x7f58b7031c10>]"
      ]
     },
     "execution_count": 6,
     "metadata": {},
     "output_type": "execute_result"
    }
   ],
   "source": [
    "some_list"
   ]
  },
  {
   "cell_type": "markdown",
   "metadata": {},
   "source": [
    "The **\"Get Methods\"** functions mentioned at the beginning of this notebook, can generate the required parameters to construct a dataset. For example, to get full name, we call `get_full_name()` function.\n"
   ]
  },
  {
   "cell_type": "code",
   "execution_count": 7,
   "metadata": {
    "tags": []
   },
   "outputs": [
    {
     "data": {
      "text/plain": [
       "'Jonathan Ortiz'"
      ]
     },
     "execution_count": 7,
     "metadata": {},
     "output_type": "execute_result"
    }
   ],
   "source": [
    "name = r.get_full_name()\n",
    "name"
   ]
  },
  {
   "cell_type": "markdown",
   "metadata": {},
   "source": [
    "Let's say we only need 10 users with full names and their email addresses. We can write a \"for-loop\" to print these 10 users.\n"
   ]
  },
  {
   "cell_type": "code",
   "execution_count": 8,
   "metadata": {
    "tags": []
   },
   "outputs": [
    {
     "name": "stdout",
     "output_type": "stream",
     "text": [
      "Erin Schalkwijk   erin.schalkwijk@example.com\n",
      "John Cunningham   john.cunningham@example.com\n",
      "Joselaine das Neves   joselaine.dasneves@example.com\n",
      "Gül Tütüncü   gul.tutuncu@example.com\n",
      "Lilija Rödel   lilija.rodel@example.com\n",
      "Leah Wright   leah.wright@example.com\n",
      "Demie Soepboer   demie.soepboer@example.com\n",
      "Sander Nielsen   sander.nielsen@example.com\n",
      "Rocco Bischof   rocco.bischof@example.com\n",
      "Ehrentraud Kastl   ehrentraud.kastl@example.com\n"
     ]
    }
   ],
   "source": [
    "for user in some_list:\n",
    "    print (user.get_full_name(),\" \",user.get_email())"
   ]
  },
  {
   "cell_type": "markdown",
   "metadata": {},
   "source": [
    "## Exercise 1\n",
    "In this Exercise, generate photos of the random 10 users.\n"
   ]
  },
  {
   "cell_type": "code",
   "execution_count": 9,
   "metadata": {
    "tags": []
   },
   "outputs": [
    {
     "name": "stdout",
     "output_type": "stream",
     "text": [
      "https://randomuser.me/api/portraits/women/30.jpg\n",
      "https://randomuser.me/api/portraits/men/15.jpg\n",
      "https://randomuser.me/api/portraits/women/9.jpg\n",
      "https://randomuser.me/api/portraits/women/18.jpg\n",
      "https://randomuser.me/api/portraits/women/33.jpg\n",
      "https://randomuser.me/api/portraits/women/75.jpg\n",
      "https://randomuser.me/api/portraits/women/6.jpg\n",
      "https://randomuser.me/api/portraits/men/41.jpg\n",
      "https://randomuser.me/api/portraits/men/26.jpg\n",
      "https://randomuser.me/api/portraits/women/64.jpg\n"
     ]
    }
   ],
   "source": [
    "## Write your code here\n",
    "for user in some_list:\n",
    "    print(user.get_picture())"
   ]
  },
  {
   "cell_type": "markdown",
   "metadata": {},
   "source": [
    "<details><summary>Click here for the solution</summary>\n",
    "\n",
    "```python\n",
    "for user in some_list:\n",
    "    print (user.get_picture())\n",
    "```\n",
    "\n",
    "</details>\n"
   ]
  },
  {
   "cell_type": "markdown",
   "metadata": {},
   "source": [
    "To generate a table with information about the users, we can write a function containing all desirable parameters. For example, name, gender, city, etc. The parameters will depend on the requirements of the test to be performed. We call the Get Methods, listed at the beginning of this notebook. Then, we return pandas dataframe with the users.\n"
   ]
  },
  {
   "cell_type": "code",
   "execution_count": 14,
   "metadata": {
    "tags": []
   },
   "outputs": [],
   "source": [
    "def get_users():\n",
    "    users =[]\n",
    "     \n",
    "    for user in RandomUser.generate_users(10):\n",
    "        users.append({\"Name\":user.get_full_name(),\n",
    "                      \"Gender\":user.get_gender(),\n",
    "                      \"City\":user.get_city(),\n",
    "                      \"State\":user.get_state(),\n",
    "                      \"Email\":user.get_email(), \n",
    "                      \"DOB\":user.get_dob(),\n",
    "                      \"Picture\":user.get_picture()})\n",
    "      \n",
    "    return pd.DataFrame(users)     "
   ]
  },
  {
   "cell_type": "code",
   "execution_count": 15,
   "metadata": {
    "tags": []
   },
   "outputs": [
    {
     "data": {
      "text/html": [
       "<div>\n",
       "<style scoped>\n",
       "    .dataframe tbody tr th:only-of-type {\n",
       "        vertical-align: middle;\n",
       "    }\n",
       "\n",
       "    .dataframe tbody tr th {\n",
       "        vertical-align: top;\n",
       "    }\n",
       "\n",
       "    .dataframe thead th {\n",
       "        text-align: right;\n",
       "    }\n",
       "</style>\n",
       "<table border=\"1\" class=\"dataframe\">\n",
       "  <thead>\n",
       "    <tr style=\"text-align: right;\">\n",
       "      <th></th>\n",
       "      <th>Name</th>\n",
       "      <th>Gender</th>\n",
       "      <th>City</th>\n",
       "      <th>State</th>\n",
       "      <th>Email</th>\n",
       "      <th>DOB</th>\n",
       "      <th>Picture</th>\n",
       "    </tr>\n",
       "  </thead>\n",
       "  <tbody>\n",
       "    <tr>\n",
       "      <th>0</th>\n",
       "      <td>Kirk Daniels</td>\n",
       "      <td>male</td>\n",
       "      <td>Drogheda</td>\n",
       "      <td>Fingal</td>\n",
       "      <td>kirk.daniels@example.com</td>\n",
       "      <td>1989-12-25T19:40:38.364Z</td>\n",
       "      <td>https://randomuser.me/api/portraits/men/56.jpg</td>\n",
       "    </tr>\n",
       "    <tr>\n",
       "      <th>1</th>\n",
       "      <td>Patricia Smythe</td>\n",
       "      <td>female</td>\n",
       "      <td>Arklow</td>\n",
       "      <td>Donegal</td>\n",
       "      <td>patricia.smythe@example.com</td>\n",
       "      <td>1984-06-14T05:15:11.143Z</td>\n",
       "      <td>https://randomuser.me/api/portraits/women/2.jpg</td>\n",
       "    </tr>\n",
       "    <tr>\n",
       "      <th>2</th>\n",
       "      <td>Witold Boldt</td>\n",
       "      <td>male</td>\n",
       "      <td>Ravenstein</td>\n",
       "      <td>Mecklenburg-Vorpommern</td>\n",
       "      <td>witold.boldt@example.com</td>\n",
       "      <td>1970-12-16T01:42:05.828Z</td>\n",
       "      <td>https://randomuser.me/api/portraits/men/62.jpg</td>\n",
       "    </tr>\n",
       "    <tr>\n",
       "      <th>3</th>\n",
       "      <td>Tracey Sims</td>\n",
       "      <td>female</td>\n",
       "      <td>Edinburgh</td>\n",
       "      <td>Strathclyde</td>\n",
       "      <td>tracey.sims@example.com</td>\n",
       "      <td>1975-01-15T00:20:09.869Z</td>\n",
       "      <td>https://randomuser.me/api/portraits/women/63.jpg</td>\n",
       "    </tr>\n",
       "    <tr>\n",
       "      <th>4</th>\n",
       "      <td>Ariana Harris</td>\n",
       "      <td>female</td>\n",
       "      <td>New Plymouth</td>\n",
       "      <td>Hawke'S Bay</td>\n",
       "      <td>ariana.harris@example.com</td>\n",
       "      <td>1980-08-13T21:31:09.391Z</td>\n",
       "      <td>https://randomuser.me/api/portraits/women/6.jpg</td>\n",
       "    </tr>\n",
       "    <tr>\n",
       "      <th>5</th>\n",
       "      <td>Soraja Egelmeers</td>\n",
       "      <td>female</td>\n",
       "      <td>Hieslum</td>\n",
       "      <td>Overijssel</td>\n",
       "      <td>soraja.egelmeers@example.com</td>\n",
       "      <td>1949-06-09T18:10:41.160Z</td>\n",
       "      <td>https://randomuser.me/api/portraits/women/56.jpg</td>\n",
       "    </tr>\n",
       "    <tr>\n",
       "      <th>6</th>\n",
       "      <td>Silje Thomsen</td>\n",
       "      <td>female</td>\n",
       "      <td>Randers Nø</td>\n",
       "      <td>Syddanmark</td>\n",
       "      <td>silje.thomsen@example.com</td>\n",
       "      <td>1978-10-12T11:08:27.446Z</td>\n",
       "      <td>https://randomuser.me/api/portraits/women/54.jpg</td>\n",
       "    </tr>\n",
       "    <tr>\n",
       "      <th>7</th>\n",
       "      <td>Siegmund Haus</td>\n",
       "      <td>male</td>\n",
       "      <td>Weißensee</td>\n",
       "      <td>Brandenburg</td>\n",
       "      <td>siegmund.haus@example.com</td>\n",
       "      <td>1982-08-03T05:29:21.315Z</td>\n",
       "      <td>https://randomuser.me/api/portraits/men/19.jpg</td>\n",
       "    </tr>\n",
       "    <tr>\n",
       "      <th>8</th>\n",
       "      <td>Sami Gran</td>\n",
       "      <td>male</td>\n",
       "      <td>Kristiansund</td>\n",
       "      <td>Troms - Romsa</td>\n",
       "      <td>sami.gran@example.com</td>\n",
       "      <td>1948-09-05T11:11:50.696Z</td>\n",
       "      <td>https://randomuser.me/api/portraits/men/48.jpg</td>\n",
       "    </tr>\n",
       "    <tr>\n",
       "      <th>9</th>\n",
       "      <td>Madeleine Swoboda</td>\n",
       "      <td>female</td>\n",
       "      <td>Simbach am Inn</td>\n",
       "      <td>Rheinland-Pfalz</td>\n",
       "      <td>madeleine.swoboda@example.com</td>\n",
       "      <td>1985-12-17T02:13:28.321Z</td>\n",
       "      <td>https://randomuser.me/api/portraits/women/81.jpg</td>\n",
       "    </tr>\n",
       "  </tbody>\n",
       "</table>\n",
       "</div>"
      ],
      "text/plain": [
       "                Name  Gender            City                   State  \\\n",
       "0       Kirk Daniels    male        Drogheda                  Fingal   \n",
       "1    Patricia Smythe  female          Arklow                 Donegal   \n",
       "2       Witold Boldt    male      Ravenstein  Mecklenburg-Vorpommern   \n",
       "3        Tracey Sims  female       Edinburgh             Strathclyde   \n",
       "4      Ariana Harris  female    New Plymouth             Hawke'S Bay   \n",
       "5   Soraja Egelmeers  female         Hieslum              Overijssel   \n",
       "6      Silje Thomsen  female      Randers Nø              Syddanmark   \n",
       "7      Siegmund Haus    male       Weißensee             Brandenburg   \n",
       "8          Sami Gran    male    Kristiansund           Troms - Romsa   \n",
       "9  Madeleine Swoboda  female  Simbach am Inn         Rheinland-Pfalz   \n",
       "\n",
       "                           Email                       DOB  \\\n",
       "0       kirk.daniels@example.com  1989-12-25T19:40:38.364Z   \n",
       "1    patricia.smythe@example.com  1984-06-14T05:15:11.143Z   \n",
       "2       witold.boldt@example.com  1970-12-16T01:42:05.828Z   \n",
       "3        tracey.sims@example.com  1975-01-15T00:20:09.869Z   \n",
       "4      ariana.harris@example.com  1980-08-13T21:31:09.391Z   \n",
       "5   soraja.egelmeers@example.com  1949-06-09T18:10:41.160Z   \n",
       "6      silje.thomsen@example.com  1978-10-12T11:08:27.446Z   \n",
       "7      siegmund.haus@example.com  1982-08-03T05:29:21.315Z   \n",
       "8          sami.gran@example.com  1948-09-05T11:11:50.696Z   \n",
       "9  madeleine.swoboda@example.com  1985-12-17T02:13:28.321Z   \n",
       "\n",
       "                                            Picture  \n",
       "0    https://randomuser.me/api/portraits/men/56.jpg  \n",
       "1   https://randomuser.me/api/portraits/women/2.jpg  \n",
       "2    https://randomuser.me/api/portraits/men/62.jpg  \n",
       "3  https://randomuser.me/api/portraits/women/63.jpg  \n",
       "4   https://randomuser.me/api/portraits/women/6.jpg  \n",
       "5  https://randomuser.me/api/portraits/women/56.jpg  \n",
       "6  https://randomuser.me/api/portraits/women/54.jpg  \n",
       "7    https://randomuser.me/api/portraits/men/19.jpg  \n",
       "8    https://randomuser.me/api/portraits/men/48.jpg  \n",
       "9  https://randomuser.me/api/portraits/women/81.jpg  "
      ]
     },
     "execution_count": 15,
     "metadata": {},
     "output_type": "execute_result"
    }
   ],
   "source": [
    "get_users()"
   ]
  },
  {
   "cell_type": "code",
   "execution_count": 20,
   "metadata": {
    "tags": []
   },
   "outputs": [
    {
     "data": {
      "text/html": [
       "<div>\n",
       "<style scoped>\n",
       "    .dataframe tbody tr th:only-of-type {\n",
       "        vertical-align: middle;\n",
       "    }\n",
       "\n",
       "    .dataframe tbody tr th {\n",
       "        vertical-align: top;\n",
       "    }\n",
       "\n",
       "    .dataframe thead th {\n",
       "        text-align: right;\n",
       "    }\n",
       "</style>\n",
       "<table border=\"1\" class=\"dataframe\">\n",
       "  <thead>\n",
       "    <tr style=\"text-align: right;\">\n",
       "      <th></th>\n",
       "      <th>Name</th>\n",
       "      <th>Gender</th>\n",
       "      <th>City</th>\n",
       "      <th>State</th>\n",
       "      <th>Email</th>\n",
       "      <th>DOB</th>\n",
       "      <th>Picture</th>\n",
       "    </tr>\n",
       "  </thead>\n",
       "  <tbody>\n",
       "    <tr>\n",
       "      <th>0</th>\n",
       "      <td>Oliver Morris</td>\n",
       "      <td>male</td>\n",
       "      <td>Tauranga</td>\n",
       "      <td>West Coast</td>\n",
       "      <td>oliver.morris@example.com</td>\n",
       "      <td>1956-08-04T16:00:48.866Z</td>\n",
       "      <td>https://randomuser.me/api/portraits/men/34.jpg</td>\n",
       "    </tr>\n",
       "    <tr>\n",
       "      <th>1</th>\n",
       "      <td>Aksel Duong</td>\n",
       "      <td>male</td>\n",
       "      <td>Vardø</td>\n",
       "      <td>Vest-Agder</td>\n",
       "      <td>aksel.duong@example.com</td>\n",
       "      <td>1982-10-01T00:02:18.186Z</td>\n",
       "      <td>https://randomuser.me/api/portraits/men/90.jpg</td>\n",
       "    </tr>\n",
       "    <tr>\n",
       "      <th>2</th>\n",
       "      <td>Mathias Kristensen</td>\n",
       "      <td>male</td>\n",
       "      <td>Snertinge</td>\n",
       "      <td>Danmark</td>\n",
       "      <td>mathias.kristensen@example.com</td>\n",
       "      <td>1986-01-24T21:17:11.335Z</td>\n",
       "      <td>https://randomuser.me/api/portraits/men/21.jpg</td>\n",
       "    </tr>\n",
       "    <tr>\n",
       "      <th>3</th>\n",
       "      <td>Raphaël Dufour</td>\n",
       "      <td>male</td>\n",
       "      <td>Tours</td>\n",
       "      <td>Lot</td>\n",
       "      <td>raphael.dufour@example.com</td>\n",
       "      <td>1974-10-15T23:25:57.249Z</td>\n",
       "      <td>https://randomuser.me/api/portraits/men/36.jpg</td>\n",
       "    </tr>\n",
       "    <tr>\n",
       "      <th>4</th>\n",
       "      <td>Eleanor Gregory</td>\n",
       "      <td>female</td>\n",
       "      <td>Cork</td>\n",
       "      <td>Kerry</td>\n",
       "      <td>eleanor.gregory@example.com</td>\n",
       "      <td>1978-08-22T21:43:55.177Z</td>\n",
       "      <td>https://randomuser.me/api/portraits/women/86.jpg</td>\n",
       "    </tr>\n",
       "  </tbody>\n",
       "</table>\n",
       "</div>"
      ],
      "text/plain": [
       "                 Name  Gender       City       State  \\\n",
       "0       Oliver Morris    male   Tauranga  West Coast   \n",
       "1         Aksel Duong    male      Vardø  Vest-Agder   \n",
       "2  Mathias Kristensen    male  Snertinge     Danmark   \n",
       "3      Raphaël Dufour    male      Tours         Lot   \n",
       "4     Eleanor Gregory  female       Cork       Kerry   \n",
       "\n",
       "                            Email                       DOB  \\\n",
       "0       oliver.morris@example.com  1956-08-04T16:00:48.866Z   \n",
       "1         aksel.duong@example.com  1982-10-01T00:02:18.186Z   \n",
       "2  mathias.kristensen@example.com  1986-01-24T21:17:11.335Z   \n",
       "3      raphael.dufour@example.com  1974-10-15T23:25:57.249Z   \n",
       "4     eleanor.gregory@example.com  1978-08-22T21:43:55.177Z   \n",
       "\n",
       "                                            Picture  \n",
       "0    https://randomuser.me/api/portraits/men/34.jpg  \n",
       "1    https://randomuser.me/api/portraits/men/90.jpg  \n",
       "2    https://randomuser.me/api/portraits/men/21.jpg  \n",
       "3    https://randomuser.me/api/portraits/men/36.jpg  \n",
       "4  https://randomuser.me/api/portraits/women/86.jpg  "
      ]
     },
     "execution_count": 20,
     "metadata": {},
     "output_type": "execute_result"
    }
   ],
   "source": [
    "df1 = pd.DataFrame(get_users())  \n",
    "df1.head()"
   ]
  },
  {
   "cell_type": "code",
   "execution_count": 19,
   "metadata": {
    "tags": []
   },
   "outputs": [
    {
     "data": {
      "text/html": [
       "<div>\n",
       "<style scoped>\n",
       "    .dataframe tbody tr th:only-of-type {\n",
       "        vertical-align: middle;\n",
       "    }\n",
       "\n",
       "    .dataframe tbody tr th {\n",
       "        vertical-align: top;\n",
       "    }\n",
       "\n",
       "    .dataframe thead th {\n",
       "        text-align: right;\n",
       "    }\n",
       "</style>\n",
       "<table border=\"1\" class=\"dataframe\">\n",
       "  <thead>\n",
       "    <tr style=\"text-align: right;\">\n",
       "      <th></th>\n",
       "      <th>Name</th>\n",
       "      <th>Gender</th>\n",
       "      <th>City</th>\n",
       "      <th>State</th>\n",
       "      <th>Email</th>\n",
       "      <th>DOB</th>\n",
       "      <th>Picture</th>\n",
       "    </tr>\n",
       "  </thead>\n",
       "  <tbody>\n",
       "    <tr>\n",
       "      <th>0</th>\n",
       "      <td>Dylan Nguyen</td>\n",
       "      <td>male</td>\n",
       "      <td>Port Macquarie</td>\n",
       "      <td>Australian Capital Territory</td>\n",
       "      <td>dylan.nguyen@example.com</td>\n",
       "      <td>1969-04-21T09:04:17.924Z</td>\n",
       "      <td>https://randomuser.me/api/portraits/men/85.jpg</td>\n",
       "    </tr>\n",
       "    <tr>\n",
       "      <th>1</th>\n",
       "      <td>Gonca Beşerler</td>\n",
       "      <td>female</td>\n",
       "      <td>İzmir</td>\n",
       "      <td>Gümüşhane</td>\n",
       "      <td>gonca.beserler@example.com</td>\n",
       "      <td>1952-02-06T20:55:17.011Z</td>\n",
       "      <td>https://randomuser.me/api/portraits/women/58.jpg</td>\n",
       "    </tr>\n",
       "    <tr>\n",
       "      <th>2</th>\n",
       "      <td>Ernesto Santana</td>\n",
       "      <td>male</td>\n",
       "      <td>Elche</td>\n",
       "      <td>Galicia</td>\n",
       "      <td>ernesto.santana@example.com</td>\n",
       "      <td>1994-04-21T17:02:20.361Z</td>\n",
       "      <td>https://randomuser.me/api/portraits/men/61.jpg</td>\n",
       "    </tr>\n",
       "    <tr>\n",
       "      <th>3</th>\n",
       "      <td>Oona Ahola</td>\n",
       "      <td>female</td>\n",
       "      <td>Pello</td>\n",
       "      <td>Päijät-Häme</td>\n",
       "      <td>oona.ahola@example.com</td>\n",
       "      <td>1950-07-02T02:43:29.598Z</td>\n",
       "      <td>https://randomuser.me/api/portraits/women/49.jpg</td>\n",
       "    </tr>\n",
       "    <tr>\n",
       "      <th>4</th>\n",
       "      <td>Ezra Roberts</td>\n",
       "      <td>male</td>\n",
       "      <td>Tauranga</td>\n",
       "      <td>Bay of Plenty</td>\n",
       "      <td>ezra.roberts@example.com</td>\n",
       "      <td>1990-04-20T21:24:37.832Z</td>\n",
       "      <td>https://randomuser.me/api/portraits/men/68.jpg</td>\n",
       "    </tr>\n",
       "  </tbody>\n",
       "</table>\n",
       "</div>"
      ],
      "text/plain": [
       "              Name  Gender            City                         State  \\\n",
       "0     Dylan Nguyen    male  Port Macquarie  Australian Capital Territory   \n",
       "1   Gonca Beşerler  female           İzmir                     Gümüşhane   \n",
       "2  Ernesto Santana    male           Elche                       Galicia   \n",
       "3       Oona Ahola  female           Pello                   Päijät-Häme   \n",
       "4     Ezra Roberts    male        Tauranga                 Bay of Plenty   \n",
       "\n",
       "                         Email                       DOB  \\\n",
       "0     dylan.nguyen@example.com  1969-04-21T09:04:17.924Z   \n",
       "1   gonca.beserler@example.com  1952-02-06T20:55:17.011Z   \n",
       "2  ernesto.santana@example.com  1994-04-21T17:02:20.361Z   \n",
       "3       oona.ahola@example.com  1950-07-02T02:43:29.598Z   \n",
       "4     ezra.roberts@example.com  1990-04-20T21:24:37.832Z   \n",
       "\n",
       "                                            Picture  \n",
       "0    https://randomuser.me/api/portraits/men/85.jpg  \n",
       "1  https://randomuser.me/api/portraits/women/58.jpg  \n",
       "2    https://randomuser.me/api/portraits/men/61.jpg  \n",
       "3  https://randomuser.me/api/portraits/women/49.jpg  \n",
       "4    https://randomuser.me/api/portraits/men/68.jpg  "
      ]
     },
     "execution_count": 19,
     "metadata": {},
     "output_type": "execute_result"
    }
   ],
   "source": [
    "dfe = get_users()\n",
    "dfe.head()"
   ]
  },
  {
   "cell_type": "markdown",
   "metadata": {},
   "source": [
    "Now we have a *pandas* dataframe that can be used for any testing purposes that the tester might have.\n"
   ]
  },
  {
   "cell_type": "markdown",
   "metadata": {},
   "source": [
    "## Example 2: Fruityvice API\n",
    "\n",
    "Another, more common way to use APIs, is through `requests` library. The next lab, Requests and HTTP, will contain more information about requests.\n",
    "\n",
    "We will start by importing all required libraries.\n"
   ]
  },
  {
   "cell_type": "code",
   "execution_count": 21,
   "metadata": {
    "tags": []
   },
   "outputs": [],
   "source": [
    "import requests\n",
    "import json"
   ]
  },
  {
   "cell_type": "markdown",
   "metadata": {},
   "source": [
    "We will obtain the [fruityvice](https://www.fruityvice.com) API data using `requests.get(\"url\")` function. The data is in a json format.\n"
   ]
  },
  {
   "cell_type": "code",
   "execution_count": 22,
   "metadata": {
    "tags": []
   },
   "outputs": [],
   "source": [
    "data = requests.get(\"https://fruityvice.com/api/fruit/all\")"
   ]
  },
  {
   "cell_type": "markdown",
   "metadata": {},
   "source": [
    "We will retrieve results using `json.loads()` function.\n"
   ]
  },
  {
   "cell_type": "code",
   "execution_count": 23,
   "metadata": {
    "tags": []
   },
   "outputs": [
    {
     "data": {
      "text/plain": [
       "'[{\"name\":\"Persimmon\",\"id\":52,\"family\":\"Ebenaceae\",\"order\":\"Rosales\",\"genus\":\"Diospyros\",\"nutritions\":{\"calories\":81,\"fat\":0.0,\"sugar\":18.0,\"carbohydrates\":18.0,\"protein\":0.0}},{\"name\":\"Strawberry\",\"id\":3,\"family\":\"Rosaceae\",\"order\":\"Rosales\",\"genus\":\"Fragaria\",\"nutritions\":{\"calories\":29,\"fat\":0.4,\"sugar\":5.4,\"carbohydrates\":5.5,\"protein\":0.8}},{\"name\":\"Banana\",\"id\":1,\"family\":\"Musaceae\",\"order\":\"Zingiberales\",\"genus\":\"Musa\",\"nutritions\":{\"calories\":96,\"fat\":0.2,\"sugar\":17.2,\"carbohydrates\":22.0,\"protein\":1.0}},{\"name\":\"Tomato\",\"id\":5,\"family\":\"Solanaceae\",\"order\":\"Solanales\",\"genus\":\"Solanum\",\"nutritions\":{\"calories\":74,\"fat\":0.2,\"sugar\":2.6,\"carbohydrates\":3.9,\"protein\":0.9}},{\"name\":\"Pear\",\"id\":4,\"family\":\"Rosaceae\",\"order\":\"Rosales\",\"genus\":\"Pyrus\",\"nutritions\":{\"calories\":57,\"fat\":0.1,\"sugar\":10.0,\"carbohydrates\":15.0,\"protein\":0.4}},{\"name\":\"Durian\",\"id\":60,\"family\":\"Malvaceae\",\"order\":\"Malvales\",\"genus\":\"Durio\",\"nutritions\":{\"calories\":147,\"fat\":5.3,\"sugar\":6.75,\"carbohydrates\":27.1,\"protein\":1.5}},{\"name\":\"Blackberry\",\"id\":64,\"family\":\"Rosaceae\",\"order\":\"Rosales\",\"genus\":\"Rubus\",\"nutritions\":{\"calories\":40,\"fat\":0.4,\"sugar\":4.5,\"carbohydrates\":9.0,\"protein\":1.3}},{\"name\":\"Lingonberry\",\"id\":65,\"family\":\"Ericaceae\",\"order\":\"Ericales\",\"genus\":\"Vaccinium\",\"nutritions\":{\"calories\":50,\"fat\":0.34,\"sugar\":5.74,\"carbohydrates\":11.3,\"protein\":0.75}},{\"name\":\"Kiwi\",\"id\":66,\"family\":\"Actinidiaceae\",\"order\":\"Struthioniformes\",\"genus\":\"Apteryx\",\"nutritions\":{\"calories\":61,\"fat\":0.5,\"sugar\":9.0,\"carbohydrates\":15.0,\"protein\":1.1}},{\"name\":\"Lychee\",\"id\":67,\"family\":\"Sapindaceae\",\"order\":\"Sapindales\",\"genus\":\"Litchi\",\"nutritions\":{\"calories\":66,\"fat\":0.44,\"sugar\":15.0,\"carbohydrates\":17.0,\"protein\":0.8}},{\"name\":\"Pineapple\",\"id\":10,\"family\":\"Bromeliaceae\",\"order\":\"Poales\",\"genus\":\"Ananas\",\"nutritions\":{\"calories\":50,\"fat\":0.12,\"sugar\":9.85,\"carbohydrates\":13.12,\"protein\":0.54}},{\"name\":\"Fig\",\"id\":68,\"family\":\"Moraceae\",\"order\":\"Rosales\",\"genus\":\"Ficus\",\"nutritions\":{\"calories\":74,\"fat\":0.3,\"sugar\":16.0,\"carbohydrates\":19.0,\"protein\":0.8}},{\"name\":\"Gooseberry\",\"id\":69,\"family\":\"Grossulariaceae\",\"order\":\"Saxifragales\",\"genus\":\"Ribes\",\"nutritions\":{\"calories\":44,\"fat\":0.6,\"sugar\":0.0,\"carbohydrates\":10.0,\"protein\":0.9}},{\"name\":\"Passionfruit\",\"id\":70,\"family\":\"Passifloraceae\",\"order\":\"Malpighiales\",\"genus\":\"Passiflora\",\"nutritions\":{\"calories\":97,\"fat\":0.7,\"sugar\":11.2,\"carbohydrates\":22.4,\"protein\":2.2}},{\"name\":\"Plum\",\"id\":71,\"family\":\"Rosaceae\",\"order\":\"Rosales\",\"genus\":\"Prunus\",\"nutritions\":{\"calories\":46,\"fat\":0.28,\"sugar\":9.92,\"carbohydrates\":11.4,\"protein\":0.7}},{\"name\":\"Orange\",\"id\":2,\"family\":\"Rutaceae\",\"order\":\"Sapindales\",\"genus\":\"Citrus\",\"nutritions\":{\"calories\":43,\"fat\":0.2,\"sugar\":8.2,\"carbohydrates\":8.3,\"protein\":1.0}},{\"name\":\"GreenApple\",\"id\":72,\"family\":\"Rosaceae\",\"order\":\"Rosales\",\"genus\":\"Malus\",\"nutritions\":{\"calories\":21,\"fat\":0.1,\"sugar\":6.4,\"carbohydrates\":3.1,\"protein\":0.4}},{\"name\":\"Raspberry\",\"id\":23,\"family\":\"Rosaceae\",\"order\":\"Rosales\",\"genus\":\"Rubus\",\"nutritions\":{\"calories\":53,\"fat\":0.7,\"sugar\":4.4,\"carbohydrates\":12.0,\"protein\":1.2}},{\"name\":\"Watermelon\",\"id\":25,\"family\":\"Cucurbitaceae\",\"order\":\"Cucurbitales\",\"genus\":\"Citrullus\",\"nutritions\":{\"calories\":30,\"fat\":0.2,\"sugar\":6.0,\"carbohydrates\":8.0,\"protein\":0.6}},{\"name\":\"Lemon\",\"id\":26,\"family\":\"Rutaceae\",\"order\":\"Sapindales\",\"genus\":\"Citrus\",\"nutritions\":{\"calories\":29,\"fat\":0.3,\"sugar\":2.5,\"carbohydrates\":9.0,\"protein\":1.1}},{\"name\":\"Mango\",\"id\":27,\"family\":\"Anacardiaceae\",\"order\":\"Sapindales\",\"genus\":\"Mangifera\",\"nutritions\":{\"calories\":60,\"fat\":0.38,\"sugar\":13.7,\"carbohydrates\":15.0,\"protein\":0.82}},{\"name\":\"Blueberry\",\"id\":33,\"family\":\"Rosaceae\",\"order\":\"Rosales\",\"genus\":\"Fragaria\",\"nutritions\":{\"calories\":29,\"fat\":0.4,\"sugar\":5.4,\"carbohydrates\":5.5,\"protein\":0.0}},{\"name\":\"Apple\",\"id\":6,\"family\":\"Rosaceae\",\"order\":\"Rosales\",\"genus\":\"Malus\",\"nutritions\":{\"calories\":52,\"fat\":0.4,\"sugar\":10.3,\"carbohydrates\":11.4,\"protein\":0.3}},{\"name\":\"Guava\",\"id\":37,\"family\":\"Myrtaceae\",\"order\":\"Myrtales\",\"genus\":\"Psidium\",\"nutritions\":{\"calories\":68,\"fat\":1.0,\"sugar\":9.0,\"carbohydrates\":14.0,\"protein\":2.6}},{\"name\":\"Apricot\",\"id\":35,\"family\":\"Rosaceae\",\"order\":\"Rosales\",\"genus\":\"Prunus\",\"nutritions\":{\"calories\":15,\"fat\":0.1,\"sugar\":3.2,\"carbohydrates\":3.9,\"protein\":0.5}},{\"name\":\"Melon\",\"id\":41,\"family\":\"Cucurbitaceae\",\"order\":\"Cucurbitaceae\",\"genus\":\"Cucumis\",\"nutritions\":{\"calories\":34,\"fat\":0.0,\"sugar\":8.0,\"carbohydrates\":8.0,\"protein\":0.0}},{\"name\":\"Tangerine\",\"id\":77,\"family\":\"Rutaceae\",\"order\":\"Sapindales\",\"genus\":\"Citrus\",\"nutritions\":{\"calories\":45,\"fat\":0.4,\"sugar\":9.1,\"carbohydrates\":8.3,\"protein\":0.0}},{\"name\":\"Pitahaya\",\"id\":78,\"family\":\"Cactaceae\",\"order\":\"Caryophyllales\",\"genus\":\"Cactaceae\",\"nutritions\":{\"calories\":36,\"fat\":0.4,\"sugar\":3.0,\"carbohydrates\":7.0,\"protein\":1.0}},{\"name\":\"Lime\",\"id\":44,\"family\":\"Rutaceae\",\"order\":\"Sapindales\",\"genus\":\"Citrus\",\"nutritions\":{\"calories\":25,\"fat\":0.1,\"sugar\":1.7,\"carbohydrates\":8.4,\"protein\":0.3}},{\"name\":\"Pomegranate\",\"id\":79,\"family\":\"Lythraceae\",\"order\":\"Myrtales\",\"genus\":\"Punica\",\"nutritions\":{\"calories\":83,\"fat\":1.2,\"sugar\":13.7,\"carbohydrates\":18.7,\"protein\":1.7}},{\"name\":\"Dragonfruit\",\"id\":80,\"family\":\"Cactaceae\",\"order\":\"Caryophyllales\",\"genus\":\"Selenicereus\",\"nutritions\":{\"calories\":60,\"fat\":1.5,\"sugar\":8.0,\"carbohydrates\":9.0,\"protein\":9.0}},{\"name\":\"Grape\",\"id\":81,\"family\":\"Vitaceae\",\"order\":\"Vitales\",\"genus\":\"Vitis\",\"nutritions\":{\"calories\":69,\"fat\":0.16,\"sugar\":16.0,\"carbohydrates\":18.1,\"protein\":0.72}},{\"name\":\"Morus\",\"id\":82,\"family\":\"Moraceae\",\"order\":\"Rosales\",\"genus\":\"Morus\",\"nutritions\":{\"calories\":43,\"fat\":0.39,\"sugar\":8.1,\"carbohydrates\":9.8,\"protein\":1.44}},{\"name\":\"Feijoa\",\"id\":76,\"family\":\"Myrtaceae\",\"order\":\"Myrtoideae\",\"genus\":\"Sellowiana\",\"nutritions\":{\"calories\":44,\"fat\":0.4,\"sugar\":3.0,\"carbohydrates\":8.0,\"protein\":0.6}},{\"name\":\"Avocado\",\"id\":84,\"family\":\"Lauraceae\",\"order\":\"Laurales\",\"genus\":\"Persea\",\"nutritions\":{\"calories\":160,\"fat\":14.66,\"sugar\":0.66,\"carbohydrates\":8.53,\"protein\":2.0}},{\"name\":\"Kiwifruit\",\"id\":85,\"family\":\"Actinidiaceae\",\"order\":\"Ericales\",\"genus\":\"Actinidia\",\"nutritions\":{\"calories\":61,\"fat\":0.5,\"sugar\":8.9,\"carbohydrates\":14.6,\"protein\":1.14}},{\"name\":\"Cranberry\",\"id\":87,\"family\":\"Ericaceae\",\"order\":\"Ericales\",\"genus\":\"Vaccinium\",\"nutritions\":{\"calories\":46,\"fat\":0.1,\"sugar\":4.0,\"carbohydrates\":12.2,\"protein\":0.4}},{\"name\":\"Cherry\",\"id\":9,\"family\":\"Rosaceae\",\"order\":\"Rosales\",\"genus\":\"Prunus\",\"nutritions\":{\"calories\":50,\"fat\":0.3,\"sugar\":8.0,\"carbohydrates\":12.0,\"protein\":1.0}},{\"name\":\"Peach\",\"id\":86,\"family\":\"Rosaceae\",\"order\":\"Rosales\",\"genus\":\"Prunus\",\"nutritions\":{\"calories\":39,\"fat\":0.25,\"sugar\":8.4,\"carbohydrates\":9.5,\"protein\":0.9}},{\"name\":\"Jackfruit\",\"id\":94,\"family\":\"Moraceae\",\"order\":\"Rosales\",\"genus\":\"Artocarpus\",\"nutritions\":{\"calories\":95,\"fat\":0.0,\"sugar\":19.1,\"carbohydrates\":23.2,\"protein\":1.72}},{\"name\":\"Horned Melon\",\"id\":95,\"family\":\"Cucurbitaceae\",\"order\":\"Cucurbitales\",\"genus\":\"Cucumis\",\"nutritions\":{\"calories\":44,\"fat\":1.26,\"sugar\":0.5,\"carbohydrates\":7.56,\"protein\":1.78}},{\"name\":\"Hazelnut\",\"id\":96,\"family\":\"Betulaceae\",\"order\":\"Fagales\",\"genus\":\"Corylus\",\"nutritions\":{\"calories\":628,\"fat\":61.0,\"sugar\":4.3,\"carbohydrates\":17.0,\"protein\":15.0}},{\"name\":\"Pomelo\",\"id\":98,\"family\":\"Rutaceae\",\"order\":\"Sapindales\",\"genus\":\"Citrus\",\"nutritions\":{\"calories\":37,\"fat\":0.0,\"sugar\":8.5,\"carbohydrates\":9.67,\"protein\":0.82}},{\"name\":\"Mangosteen\",\"id\":99,\"family\":\"Clusiaceae\",\"order\":\"Malpighiales\",\"genus\":\"Garcinia\",\"nutritions\":{\"calories\":73,\"fat\":0.58,\"sugar\":16.11,\"carbohydrates\":17.91,\"protein\":0.41}},{\"name\":\"Pumpkin\",\"id\":100,\"family\":\"Cucurbitaceae\",\"order\":\"Cucurbitales\",\"genus\":\"Cucurbita\",\"nutritions\":{\"calories\":25,\"fat\":0.3,\"sugar\":3.3,\"carbohydrates\":4.6,\"protein\":1.1}},{\"name\":\"Japanese Persimmon\",\"id\":101,\"family\":\" Ebenaceae\",\"order\":\" Ericales\",\"genus\":\"Diospyros\",\"nutritions\":{\"calories\":70,\"fat\":0.2,\"sugar\":13.0,\"carbohydrates\":19.0,\"protein\":0.6}},{\"name\":\"Papaya\",\"id\":42,\"family\":\"Caricaceae\",\"order\":\"Brassicales\",\"genus\":\"Carica\",\"nutritions\":{\"calories\":39,\"fat\":0.3,\"sugar\":4.4,\"carbohydrates\":5.8,\"protein\":0.5}},{\"name\":\"Annona\",\"id\":103,\"family\":\"Annonaceae\",\"order\":\"Rosales\",\"genus\":\"Annonas\",\"nutritions\":{\"calories\":92,\"fat\":0.29,\"sugar\":3.4,\"carbohydrates\":19.1,\"protein\":1.5}},{\"name\":\"Ceylon Gooseberry\",\"id\":104,\"family\":\"Salicaceae\",\"order\":\"Malpighiales\",\"genus\":\"Dovyalis\",\"nutritions\":{\"calories\":47,\"fat\":0.3,\"sugar\":8.1,\"carbohydrates\":9.6,\"protein\":1.2}}]'"
      ]
     },
     "execution_count": 23,
     "metadata": {},
     "output_type": "execute_result"
    }
   ],
   "source": [
    "data.text"
   ]
  },
  {
   "cell_type": "code",
   "execution_count": 29,
   "metadata": {
    "tags": []
   },
   "outputs": [
    {
     "data": {
      "text/plain": [
       "list"
      ]
     },
     "execution_count": 29,
     "metadata": {},
     "output_type": "execute_result"
    }
   ],
   "source": [
    "results = json.loads(data.text)\n",
    "type(results)"
   ]
  },
  {
   "cell_type": "markdown",
   "metadata": {},
   "source": [
    "We will convert our json data into *pandas* data frame. \n"
   ]
  },
  {
   "cell_type": "code",
   "execution_count": 27,
   "metadata": {
    "tags": []
   },
   "outputs": [
    {
     "data": {
      "text/html": [
       "<div>\n",
       "<style scoped>\n",
       "    .dataframe tbody tr th:only-of-type {\n",
       "        vertical-align: middle;\n",
       "    }\n",
       "\n",
       "    .dataframe tbody tr th {\n",
       "        vertical-align: top;\n",
       "    }\n",
       "\n",
       "    .dataframe thead th {\n",
       "        text-align: right;\n",
       "    }\n",
       "</style>\n",
       "<table border=\"1\" class=\"dataframe\">\n",
       "  <thead>\n",
       "    <tr style=\"text-align: right;\">\n",
       "      <th></th>\n",
       "      <th>name</th>\n",
       "      <th>id</th>\n",
       "      <th>family</th>\n",
       "      <th>order</th>\n",
       "      <th>genus</th>\n",
       "      <th>nutritions</th>\n",
       "    </tr>\n",
       "  </thead>\n",
       "  <tbody>\n",
       "    <tr>\n",
       "      <th>0</th>\n",
       "      <td>Persimmon</td>\n",
       "      <td>52</td>\n",
       "      <td>Ebenaceae</td>\n",
       "      <td>Rosales</td>\n",
       "      <td>Diospyros</td>\n",
       "      <td>{'calories': 81, 'fat': 0.0, 'sugar': 18.0, 'c...</td>\n",
       "    </tr>\n",
       "    <tr>\n",
       "      <th>1</th>\n",
       "      <td>Strawberry</td>\n",
       "      <td>3</td>\n",
       "      <td>Rosaceae</td>\n",
       "      <td>Rosales</td>\n",
       "      <td>Fragaria</td>\n",
       "      <td>{'calories': 29, 'fat': 0.4, 'sugar': 5.4, 'ca...</td>\n",
       "    </tr>\n",
       "    <tr>\n",
       "      <th>2</th>\n",
       "      <td>Banana</td>\n",
       "      <td>1</td>\n",
       "      <td>Musaceae</td>\n",
       "      <td>Zingiberales</td>\n",
       "      <td>Musa</td>\n",
       "      <td>{'calories': 96, 'fat': 0.2, 'sugar': 17.2, 'c...</td>\n",
       "    </tr>\n",
       "    <tr>\n",
       "      <th>3</th>\n",
       "      <td>Tomato</td>\n",
       "      <td>5</td>\n",
       "      <td>Solanaceae</td>\n",
       "      <td>Solanales</td>\n",
       "      <td>Solanum</td>\n",
       "      <td>{'calories': 74, 'fat': 0.2, 'sugar': 2.6, 'ca...</td>\n",
       "    </tr>\n",
       "    <tr>\n",
       "      <th>4</th>\n",
       "      <td>Pear</td>\n",
       "      <td>4</td>\n",
       "      <td>Rosaceae</td>\n",
       "      <td>Rosales</td>\n",
       "      <td>Pyrus</td>\n",
       "      <td>{'calories': 57, 'fat': 0.1, 'sugar': 10.0, 'c...</td>\n",
       "    </tr>\n",
       "  </tbody>\n",
       "</table>\n",
       "</div>"
      ],
      "text/plain": [
       "         name  id      family         order      genus  \\\n",
       "0   Persimmon  52   Ebenaceae       Rosales  Diospyros   \n",
       "1  Strawberry   3    Rosaceae       Rosales   Fragaria   \n",
       "2      Banana   1    Musaceae  Zingiberales       Musa   \n",
       "3      Tomato   5  Solanaceae     Solanales    Solanum   \n",
       "4        Pear   4    Rosaceae       Rosales      Pyrus   \n",
       "\n",
       "                                          nutritions  \n",
       "0  {'calories': 81, 'fat': 0.0, 'sugar': 18.0, 'c...  \n",
       "1  {'calories': 29, 'fat': 0.4, 'sugar': 5.4, 'ca...  \n",
       "2  {'calories': 96, 'fat': 0.2, 'sugar': 17.2, 'c...  \n",
       "3  {'calories': 74, 'fat': 0.2, 'sugar': 2.6, 'ca...  \n",
       "4  {'calories': 57, 'fat': 0.1, 'sugar': 10.0, 'c...  "
      ]
     },
     "execution_count": 27,
     "metadata": {},
     "output_type": "execute_result"
    }
   ],
   "source": [
    "pd.DataFrame(results).head()"
   ]
  },
  {
   "cell_type": "markdown",
   "metadata": {},
   "source": [
    "The result is in a nested json format. The 'nutrition' column contains multiple subcolumns, so the data needs to be 'flattened' or normalized.\n"
   ]
  },
  {
   "cell_type": "code",
   "execution_count": 31,
   "metadata": {
    "tags": []
   },
   "outputs": [],
   "source": [
    "df2 = pd.json_normalize(results)"
   ]
  },
  {
   "cell_type": "code",
   "execution_count": 33,
   "metadata": {
    "tags": []
   },
   "outputs": [
    {
     "data": {
      "text/html": [
       "<div>\n",
       "<style scoped>\n",
       "    .dataframe tbody tr th:only-of-type {\n",
       "        vertical-align: middle;\n",
       "    }\n",
       "\n",
       "    .dataframe tbody tr th {\n",
       "        vertical-align: top;\n",
       "    }\n",
       "\n",
       "    .dataframe thead th {\n",
       "        text-align: right;\n",
       "    }\n",
       "</style>\n",
       "<table border=\"1\" class=\"dataframe\">\n",
       "  <thead>\n",
       "    <tr style=\"text-align: right;\">\n",
       "      <th></th>\n",
       "      <th>name</th>\n",
       "      <th>id</th>\n",
       "      <th>family</th>\n",
       "      <th>order</th>\n",
       "      <th>genus</th>\n",
       "      <th>nutritions.calories</th>\n",
       "      <th>nutritions.fat</th>\n",
       "      <th>nutritions.sugar</th>\n",
       "      <th>nutritions.carbohydrates</th>\n",
       "      <th>nutritions.protein</th>\n",
       "    </tr>\n",
       "  </thead>\n",
       "  <tbody>\n",
       "    <tr>\n",
       "      <th>0</th>\n",
       "      <td>Persimmon</td>\n",
       "      <td>52</td>\n",
       "      <td>Ebenaceae</td>\n",
       "      <td>Rosales</td>\n",
       "      <td>Diospyros</td>\n",
       "      <td>81</td>\n",
       "      <td>0.0</td>\n",
       "      <td>18.0</td>\n",
       "      <td>18.0</td>\n",
       "      <td>0.0</td>\n",
       "    </tr>\n",
       "    <tr>\n",
       "      <th>1</th>\n",
       "      <td>Strawberry</td>\n",
       "      <td>3</td>\n",
       "      <td>Rosaceae</td>\n",
       "      <td>Rosales</td>\n",
       "      <td>Fragaria</td>\n",
       "      <td>29</td>\n",
       "      <td>0.4</td>\n",
       "      <td>5.4</td>\n",
       "      <td>5.5</td>\n",
       "      <td>0.8</td>\n",
       "    </tr>\n",
       "    <tr>\n",
       "      <th>2</th>\n",
       "      <td>Banana</td>\n",
       "      <td>1</td>\n",
       "      <td>Musaceae</td>\n",
       "      <td>Zingiberales</td>\n",
       "      <td>Musa</td>\n",
       "      <td>96</td>\n",
       "      <td>0.2</td>\n",
       "      <td>17.2</td>\n",
       "      <td>22.0</td>\n",
       "      <td>1.0</td>\n",
       "    </tr>\n",
       "    <tr>\n",
       "      <th>3</th>\n",
       "      <td>Tomato</td>\n",
       "      <td>5</td>\n",
       "      <td>Solanaceae</td>\n",
       "      <td>Solanales</td>\n",
       "      <td>Solanum</td>\n",
       "      <td>74</td>\n",
       "      <td>0.2</td>\n",
       "      <td>2.6</td>\n",
       "      <td>3.9</td>\n",
       "      <td>0.9</td>\n",
       "    </tr>\n",
       "    <tr>\n",
       "      <th>4</th>\n",
       "      <td>Pear</td>\n",
       "      <td>4</td>\n",
       "      <td>Rosaceae</td>\n",
       "      <td>Rosales</td>\n",
       "      <td>Pyrus</td>\n",
       "      <td>57</td>\n",
       "      <td>0.1</td>\n",
       "      <td>10.0</td>\n",
       "      <td>15.0</td>\n",
       "      <td>0.4</td>\n",
       "    </tr>\n",
       "  </tbody>\n",
       "</table>\n",
       "</div>"
      ],
      "text/plain": [
       "         name  id      family         order      genus  nutritions.calories  \\\n",
       "0   Persimmon  52   Ebenaceae       Rosales  Diospyros                   81   \n",
       "1  Strawberry   3    Rosaceae       Rosales   Fragaria                   29   \n",
       "2      Banana   1    Musaceae  Zingiberales       Musa                   96   \n",
       "3      Tomato   5  Solanaceae     Solanales    Solanum                   74   \n",
       "4        Pear   4    Rosaceae       Rosales      Pyrus                   57   \n",
       "\n",
       "   nutritions.fat  nutritions.sugar  nutritions.carbohydrates  \\\n",
       "0             0.0              18.0                      18.0   \n",
       "1             0.4               5.4                       5.5   \n",
       "2             0.2              17.2                      22.0   \n",
       "3             0.2               2.6                       3.9   \n",
       "4             0.1              10.0                      15.0   \n",
       "\n",
       "   nutritions.protein  \n",
       "0                 0.0  \n",
       "1                 0.8  \n",
       "2                 1.0  \n",
       "3                 0.9  \n",
       "4                 0.4  "
      ]
     },
     "execution_count": 33,
     "metadata": {},
     "output_type": "execute_result"
    }
   ],
   "source": [
    "df2.head()"
   ]
  },
  {
   "cell_type": "markdown",
   "metadata": {},
   "source": [
    "Let's see if we can extract some information from this dataframe. Perhaps, we need to know the family and genus of a cherry.\n"
   ]
  },
  {
   "cell_type": "code",
   "execution_count": 36,
   "metadata": {
    "tags": []
   },
   "outputs": [
    {
     "data": {
      "text/html": [
       "<div>\n",
       "<style scoped>\n",
       "    .dataframe tbody tr th:only-of-type {\n",
       "        vertical-align: middle;\n",
       "    }\n",
       "\n",
       "    .dataframe tbody tr th {\n",
       "        vertical-align: top;\n",
       "    }\n",
       "\n",
       "    .dataframe thead th {\n",
       "        text-align: right;\n",
       "    }\n",
       "</style>\n",
       "<table border=\"1\" class=\"dataframe\">\n",
       "  <thead>\n",
       "    <tr style=\"text-align: right;\">\n",
       "      <th></th>\n",
       "      <th>name</th>\n",
       "      <th>id</th>\n",
       "      <th>family</th>\n",
       "      <th>order</th>\n",
       "      <th>genus</th>\n",
       "      <th>nutritions.calories</th>\n",
       "      <th>nutritions.fat</th>\n",
       "      <th>nutritions.sugar</th>\n",
       "      <th>nutritions.carbohydrates</th>\n",
       "      <th>nutritions.protein</th>\n",
       "    </tr>\n",
       "  </thead>\n",
       "  <tbody>\n",
       "    <tr>\n",
       "      <th>37</th>\n",
       "      <td>Cherry</td>\n",
       "      <td>9</td>\n",
       "      <td>Rosaceae</td>\n",
       "      <td>Rosales</td>\n",
       "      <td>Prunus</td>\n",
       "      <td>50</td>\n",
       "      <td>0.3</td>\n",
       "      <td>8.0</td>\n",
       "      <td>12.0</td>\n",
       "      <td>1.0</td>\n",
       "    </tr>\n",
       "  </tbody>\n",
       "</table>\n",
       "</div>"
      ],
      "text/plain": [
       "      name  id    family    order   genus  nutritions.calories  \\\n",
       "37  Cherry   9  Rosaceae  Rosales  Prunus                   50   \n",
       "\n",
       "    nutritions.fat  nutritions.sugar  nutritions.carbohydrates  \\\n",
       "37             0.3               8.0                      12.0   \n",
       "\n",
       "    nutritions.protein  \n",
       "37                 1.0  "
      ]
     },
     "metadata": {},
     "output_type": "display_data"
    },
    {
     "data": {
      "text/plain": [
       "('Rosaceae', 'Prunus')"
      ]
     },
     "execution_count": 36,
     "metadata": {},
     "output_type": "execute_result"
    }
   ],
   "source": [
    "cherry = df2.loc[df2[\"name\"] == 'Cherry']\n",
    "display(cherry)\n",
    "(cherry.iloc[0]['family']), (cherry.iloc[0]['genus'])"
   ]
  },
  {
   "cell_type": "markdown",
   "metadata": {},
   "source": [
    "## Exercise 2\n",
    "In this Exercise, find out how many calories are contained in a banana.\n"
   ]
  },
  {
   "cell_type": "code",
   "execution_count": 39,
   "metadata": {
    "tags": []
   },
   "outputs": [
    {
     "data": {
      "text/plain": [
       "96"
      ]
     },
     "execution_count": 39,
     "metadata": {},
     "output_type": "execute_result"
    }
   ],
   "source": [
    "# Write your code here\n",
    "banana = df2.loc[df2['name'] == 'Banana']\n",
    "banana.iloc[0]['nutritions.calories']"
   ]
  },
  {
   "cell_type": "markdown",
   "metadata": {},
   "source": [
    "<details><summary>Click here for the solution</summary>\n",
    "\n",
    "```python\n",
    "cal_banana = df2.loc[df2[\"name\"] == 'Banana']\n",
    "cal_banana.iloc[0]['nutritions.calories']\n",
    "```\n",
    "\n",
    "</details>\n"
   ]
  },
  {
   "cell_type": "markdown",
   "metadata": {},
   "source": [
    "## Exercise 3\n",
    "\n",
    "This [page](https://mixedanalytics.com/blog/list-actually-free-open-no-auth-needed-apis/) contains a list of free public APIs for you to practice. Let us deal with the following example.\n",
    "\n",
    "#### Official Joke API \n",
    "This API returns random jokes from a database. The following URL can be used to retrieve 10 random jokes.\n",
    "\n",
    "https://official-joke-api.appspot.com/jokes/ten\n",
    "\n",
    "1. Using `requests.get(\"url\")` function, load the data from the URL.\n"
   ]
  },
  {
   "cell_type": "code",
   "execution_count": 41,
   "metadata": {
    "tags": []
   },
   "outputs": [
    {
     "data": {
      "text/plain": [
       "<Response [200]>"
      ]
     },
     "execution_count": 41,
     "metadata": {},
     "output_type": "execute_result"
    }
   ],
   "source": [
    "# Write your code here\n",
    "url = 'https://official-joke-api.appspot.com/jokes/ten'\n",
    "data = requests.get(url)\n",
    "data"
   ]
  },
  {
   "cell_type": "markdown",
   "metadata": {},
   "source": [
    "<details><summary>Click here for the solution</summary>\n",
    "\n",
    "```python\n",
    "data2 = requests.get(\"https://official-joke-api.appspot.com/jokes/ten\")\n",
    "```\n",
    "\n",
    "</details>\n"
   ]
  },
  {
   "cell_type": "markdown",
   "metadata": {},
   "source": [
    "2. Retrieve results using `json.loads()` function.\n"
   ]
  },
  {
   "cell_type": "code",
   "execution_count": 44,
   "metadata": {
    "tags": []
   },
   "outputs": [
    {
     "data": {
      "text/plain": [
       "[{'type': 'general',\n",
       "  'setup': 'Did you hear that David lost his ID in prague?',\n",
       "  'punchline': 'Now we just have to call him Dav.',\n",
       "  'id': 97},\n",
       " {'type': 'general',\n",
       "  'setup': 'What did the traffic light say to the car as it passed?',\n",
       "  'punchline': \"Don't look I'm changing!\",\n",
       "  'id': 187},\n",
       " {'type': 'general',\n",
       "  'setup': 'What do you call a group of killer whales playing instruments?',\n",
       "  'punchline': 'An Orca-stra.',\n",
       "  'id': 212},\n",
       " {'type': 'general',\n",
       "  'setup': 'Why are pirates called pirates?',\n",
       "  'punchline': 'Because they arrr!',\n",
       "  'id': 309},\n",
       " {'type': 'general',\n",
       "  'setup': 'What cheese can never be yours?',\n",
       "  'punchline': 'Nacho cheese.',\n",
       "  'id': 158},\n",
       " {'type': 'general',\n",
       "  'setup': 'What is the difference between ignorance and apathy?',\n",
       "  'punchline': \"I don't know and I don't care.\",\n",
       "  'id': 249},\n",
       " {'type': 'general',\n",
       "  'setup': 'How does a dyslexic poet write?',\n",
       "  'punchline': 'Inverse.',\n",
       "  'id': 133},\n",
       " {'type': 'general',\n",
       "  'setup': 'Finally realized why my plant sits around doing nothing all day...',\n",
       "  'punchline': 'He loves his pot.',\n",
       "  'id': 46},\n",
       " {'type': 'general',\n",
       "  'setup': 'Why did Sweden start painting barcodes on the sides of their battleships?',\n",
       "  'punchline': 'So they could Scandinavian.',\n",
       "  'id': 318},\n",
       " {'type': 'general',\n",
       "  'setup': 'Why are “Dad Jokes” so good?',\n",
       "  'punchline': 'Because the punchline is apparent.',\n",
       "  'id': 382}]"
      ]
     },
     "execution_count": 44,
     "metadata": {},
     "output_type": "execute_result"
    }
   ],
   "source": [
    "# Write your code here\n",
    "json_data = json.loads(data.text)\n",
    "json_data"
   ]
  },
  {
   "cell_type": "markdown",
   "metadata": {},
   "source": [
    "<details><summary>Click here for the solution</summary>\n",
    "\n",
    "```python\n",
    "results2 = json.loads(data2.text)\n",
    "```\n",
    "\n",
    "</details>\n"
   ]
  },
  {
   "cell_type": "markdown",
   "metadata": {},
   "source": [
    "3. Convert json data into *pandas* data frame. Drop the type and id columns.\n"
   ]
  },
  {
   "cell_type": "code",
   "execution_count": 47,
   "metadata": {
    "tags": []
   },
   "outputs": [
    {
     "data": {
      "text/html": [
       "<div>\n",
       "<style scoped>\n",
       "    .dataframe tbody tr th:only-of-type {\n",
       "        vertical-align: middle;\n",
       "    }\n",
       "\n",
       "    .dataframe tbody tr th {\n",
       "        vertical-align: top;\n",
       "    }\n",
       "\n",
       "    .dataframe thead th {\n",
       "        text-align: right;\n",
       "    }\n",
       "</style>\n",
       "<table border=\"1\" class=\"dataframe\">\n",
       "  <thead>\n",
       "    <tr style=\"text-align: right;\">\n",
       "      <th></th>\n",
       "      <th>setup</th>\n",
       "      <th>punchline</th>\n",
       "    </tr>\n",
       "  </thead>\n",
       "  <tbody>\n",
       "    <tr>\n",
       "      <th>0</th>\n",
       "      <td>Did you hear that David lost his ID in prague?</td>\n",
       "      <td>Now we just have to call him Dav.</td>\n",
       "    </tr>\n",
       "    <tr>\n",
       "      <th>1</th>\n",
       "      <td>What did the traffic light say to the car as i...</td>\n",
       "      <td>Don't look I'm changing!</td>\n",
       "    </tr>\n",
       "    <tr>\n",
       "      <th>2</th>\n",
       "      <td>What do you call a group of killer whales play...</td>\n",
       "      <td>An Orca-stra.</td>\n",
       "    </tr>\n",
       "    <tr>\n",
       "      <th>3</th>\n",
       "      <td>Why are pirates called pirates?</td>\n",
       "      <td>Because they arrr!</td>\n",
       "    </tr>\n",
       "    <tr>\n",
       "      <th>4</th>\n",
       "      <td>What cheese can never be yours?</td>\n",
       "      <td>Nacho cheese.</td>\n",
       "    </tr>\n",
       "    <tr>\n",
       "      <th>5</th>\n",
       "      <td>What is the difference between ignorance and a...</td>\n",
       "      <td>I don't know and I don't care.</td>\n",
       "    </tr>\n",
       "    <tr>\n",
       "      <th>6</th>\n",
       "      <td>How does a dyslexic poet write?</td>\n",
       "      <td>Inverse.</td>\n",
       "    </tr>\n",
       "    <tr>\n",
       "      <th>7</th>\n",
       "      <td>Finally realized why my plant sits around doin...</td>\n",
       "      <td>He loves his pot.</td>\n",
       "    </tr>\n",
       "    <tr>\n",
       "      <th>8</th>\n",
       "      <td>Why did Sweden start painting barcodes on the ...</td>\n",
       "      <td>So they could Scandinavian.</td>\n",
       "    </tr>\n",
       "    <tr>\n",
       "      <th>9</th>\n",
       "      <td>Why are “Dad Jokes” so good?</td>\n",
       "      <td>Because the punchline is apparent.</td>\n",
       "    </tr>\n",
       "  </tbody>\n",
       "</table>\n",
       "</div>"
      ],
      "text/plain": [
       "                                               setup  \\\n",
       "0     Did you hear that David lost his ID in prague?   \n",
       "1  What did the traffic light say to the car as i...   \n",
       "2  What do you call a group of killer whales play...   \n",
       "3                    Why are pirates called pirates?   \n",
       "4                    What cheese can never be yours?   \n",
       "5  What is the difference between ignorance and a...   \n",
       "6                    How does a dyslexic poet write?   \n",
       "7  Finally realized why my plant sits around doin...   \n",
       "8  Why did Sweden start painting barcodes on the ...   \n",
       "9                       Why are “Dad Jokes” so good?   \n",
       "\n",
       "                            punchline  \n",
       "0   Now we just have to call him Dav.  \n",
       "1            Don't look I'm changing!  \n",
       "2                       An Orca-stra.  \n",
       "3                  Because they arrr!  \n",
       "4                       Nacho cheese.  \n",
       "5      I don't know and I don't care.  \n",
       "6                            Inverse.  \n",
       "7                   He loves his pot.  \n",
       "8         So they could Scandinavian.  \n",
       "9  Because the punchline is apparent.  "
      ]
     },
     "execution_count": 47,
     "metadata": {},
     "output_type": "execute_result"
    }
   ],
   "source": [
    "# Write your code here\n",
    "result = pd.DataFrame(json_data)\n",
    "result.drop(columns=['type','id'], inplace=True)\n",
    "result"
   ]
  },
  {
   "cell_type": "markdown",
   "metadata": {},
   "source": [
    "<details><summary>Click here for the solution</summary>\n",
    "\n",
    "```python\n",
    "df3 = pd.DataFrame(results2)\n",
    "df3.drop(columns=[\"type\",\"id\"],inplace=True)\n",
    "df3\n",
    "```\n",
    "\n",
    "</details>\n"
   ]
  },
  {
   "cell_type": "markdown",
   "metadata": {},
   "source": [
    "# Congratulations! - You have completed the lab\n"
   ]
  },
  {
   "cell_type": "markdown",
   "metadata": {},
   "source": [
    "## Author\n",
    "<a href=\"https://www.linkedin.com/in/svitlana-kramar\" target=\"_blank\">Svitlana Kramar</a>\n",
    "\n",
    "Svitlana is a master’s degree Data Science and Analytics student at University of Calgary, who enjoys travelling, learning new languages and cultures and loves spreading her passion for Data Science.\n",
    "\n",
    "## Additional Contributor\n",
    "<a href=\"https://www.linkedin.com/in/abhishek-gagneja-23051987/\" target=\"_blank\">Abhishek Gagneja</a>\n"
   ]
  },
  {
   "cell_type": "markdown",
   "metadata": {},
   "source": [
    "Copyright © 2023 IBM Corporation. All rights reserved.\n"
   ]
  }
 ],
 "metadata": {
  "kernelspec": {
   "display_name": "Python",
   "language": "python",
   "name": "conda-env-python-py"
  },
  "language_info": {
   "codemirror_mode": {
    "name": "ipython",
    "version": 3
   },
   "file_extension": ".py",
   "mimetype": "text/x-python",
   "name": "python",
   "nbconvert_exporter": "python",
   "pygments_lexer": "ipython3",
   "version": "3.7.12"
  }
 },
 "nbformat": 4,
 "nbformat_minor": 4
}
