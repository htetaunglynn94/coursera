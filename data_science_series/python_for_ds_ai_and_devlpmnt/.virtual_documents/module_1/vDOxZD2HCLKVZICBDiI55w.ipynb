














# Try your first Python output

print('Hello, Python!')














# Check the Python Version

import sys
print(sys.version)











# Practice on writing comments

print('Hello, Python!') # This line prints a string












# Print string as error message

frint("Hello, Python!")








# Try to see built-in error message

print("Hello, Python!)











# Print string and error to see the running order

print("This will be printed")
frint("This will cause an error")
print("This will NOT be printed")








# Write your code below. Don't forget to press Shift+Enter to execute the cell
print("Hello, world!")








# Write your code below. Don't forget to press Shift+Enter to execute the cell
print("Hello, world!") # Print the traditional hello world 








# Write your code below. Don't forget to press Shift+Enter to execute the cell

x, y = 2, 5
z = x + y
z












