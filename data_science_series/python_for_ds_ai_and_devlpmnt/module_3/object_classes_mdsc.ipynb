{
  "metadata": {
    "kernelspec": {
      "name": "python",
      "display_name": "Python (Pyodide)",
      "language": "python"
    },
    "language_info": {
      "codemirror_mode": {
        "name": "python",
        "version": 3
      },
      "file_extension": ".py",
      "mimetype": "text/x-python",
      "name": "python",
      "nbconvert_exporter": "python",
      "pygments_lexer": "ipython3",
      "version": "3.8"
    }
  },
  "nbformat_minor": 4,
  "nbformat": 4,
  "cells": [
    {
      "cell_type": "markdown",
      "source": "# Objects and Classes",
      "metadata": {}
    },
    {
      "cell_type": "markdown",
      "source": "**_Class_** is a blueprint (design) for creating an object. We can build any number of house we wish to if we have a design. We can create any number of object from a class. class includes <u>data attributes</u> and <u>methods</u>.  \n  \n**_Constructor_** is used to perform initialization of the data. `__init__` is a method to create constructor of a class.",
      "metadata": {}
    },
    {
      "cell_type": "code",
      "source": "class Car:\n    brand = 'Toyota'\n    def drive(self):\n        print(self.brand, 'car is driving.')",
      "metadata": {
        "trusted": true
      },
      "outputs": [],
      "execution_count": 1
    },
    {
      "cell_type": "code",
      "source": "my_new_car = Car()\nmy_new_car",
      "metadata": {
        "trusted": true
      },
      "outputs": [
        {
          "execution_count": 2,
          "output_type": "execute_result",
          "data": {
            "text/plain": "<__main__.Car at 0x12b9760>"
          },
          "metadata": {}
        }
      ],
      "execution_count": 2
    },
    {
      "cell_type": "code",
      "source": "my_new_car.drive()",
      "metadata": {
        "trusted": true
      },
      "outputs": [
        {
          "name": "stdout",
          "text": "Toyota car is driving.\n",
          "output_type": "stream"
        }
      ],
      "execution_count": 3
    },
    {
      "cell_type": "markdown",
      "source": "## Class including Constructor",
      "metadata": {}
    },
    {
      "cell_type": "code",
      "source": "class Car:\n\tdef __init__(self, brand, color):\n\t\tself.brand = brand\n\t\tself.color = color\n\t\n\tdef make_car(self):\n\t\tprint ('I made a new car', self.color, self.brand)\n\nmake_new_car = Car('Nissan', 'White')\nmake_new_car.make_car()",
      "metadata": {
        "trusted": true
      },
      "outputs": [
        {
          "name": "stdout",
          "text": "I made a new car White Nissan\n",
          "output_type": "stream"
        }
      ],
      "execution_count": 4
    },
    {
      "cell_type": "markdown",
      "source": "## Class with various methods without constructor",
      "metadata": {}
    },
    {
      "cell_type": "code",
      "source": "class Car:\n    def drive(self):\n        print(self.brand, \"car is driving\")\n    def get_speed(self):\n        print(self.speed, \"is my top-speed\")\n    def get_gear(self):\n        print(self.gear, 'gear')\n\n\nmy_new_car = Car()\nmy_new_car.brand = 'Toyota'\nmy_new_car.drive()",
      "metadata": {
        "trusted": true
      },
      "outputs": [
        {
          "name": "stdout",
          "text": "Toyota car is driving\n",
          "output_type": "stream"
        }
      ],
      "execution_count": 6
    },
    {
      "cell_type": "code",
      "source": "toyota = Car()\ntoyota.brand = 'Toyota'\ntoyota.speed = 150\ntoyota.gear = 'Auto'",
      "metadata": {
        "trusted": true
      },
      "outputs": [],
      "execution_count": 10
    },
    {
      "cell_type": "code",
      "source": "toyota.get_gear()",
      "metadata": {
        "trusted": true
      },
      "outputs": [
        {
          "name": "stdout",
          "text": "Auto gear\n",
          "output_type": "stream"
        }
      ],
      "execution_count": 11
    },
    {
      "cell_type": "code",
      "source": "toyota.get_speed()",
      "metadata": {
        "trusted": true
      },
      "outputs": [
        {
          "name": "stdout",
          "text": "150 is my top-speed\n",
          "output_type": "stream"
        }
      ],
      "execution_count": 13
    },
    {
      "cell_type": "code",
      "source": "bmw = Car()\nbmw.brand = 'BMW'\nbmw.speed = 150\nbmw.gear = 'Auto'",
      "metadata": {
        "trusted": true
      },
      "outputs": [],
      "execution_count": 7
    },
    {
      "cell_type": "code",
      "source": "bmw.drive()",
      "metadata": {
        "trusted": true
      },
      "outputs": [
        {
          "name": "stdout",
          "text": "BMW car is driving\n",
          "output_type": "stream"
        }
      ],
      "execution_count": 8
    },
    {
      "cell_type": "code",
      "source": "bmw.get_speed()",
      "metadata": {
        "trusted": true
      },
      "outputs": [
        {
          "name": "stdout",
          "text": "150 is my top-speed\n",
          "output_type": "stream"
        }
      ],
      "execution_count": 9
    },
    {
      "cell_type": "code",
      "source": "bmw.get_gear()",
      "metadata": {
        "trusted": true
      },
      "outputs": [
        {
          "name": "stdout",
          "text": "Auto gear\n",
          "output_type": "stream"
        }
      ],
      "execution_count": 10
    },
    {
      "cell_type": "code",
      "source": "honda = Car()\nhonda.brand = 'Honda'\nhonda.speed = 175\nhonda.gear = 'Manual'",
      "metadata": {
        "trusted": true
      },
      "outputs": [],
      "execution_count": 11
    },
    {
      "cell_type": "markdown",
      "source": "## Class with various methods with constructor",
      "metadata": {}
    },
    {
      "cell_type": "code",
      "source": "class SuperCar:\n    def __init__(self, brand, color, speed, gear):\n        self.brand = brand\n        self.color = color\n        self.speed = speed\n        self.gear = gear\n\n    def make_car(self):\n        print(\"I made a new car\", self.brand, self.color, self.speed, self.gear)\n    \n    def drive(self):\n        print(self.brand, \"car is driving\")\n        \n    def get_speed(self):\n        print(self.speed, \"is my top-speed\")\n        \n    def get_gear(self):\n        print(self.gear, 'gear')\n\n\nnissan = SuperCar('Nissan', 'red', '140', 'Auto')\nnissan.make_car()",
      "metadata": {
        "trusted": true
      },
      "outputs": [
        {
          "name": "stdout",
          "text": "I made a new car Nissan red 140 Auto\n",
          "output_type": "stream"
        }
      ],
      "execution_count": 13
    },
    {
      "cell_type": "code",
      "source": "bmw = SuperCar('BMW', 'black', '200', 'Manuel')\nhonda = Su",
      "metadata": {
        "trusted": true
      },
      "outputs": [],
      "execution_count": null
    }
  ]
}