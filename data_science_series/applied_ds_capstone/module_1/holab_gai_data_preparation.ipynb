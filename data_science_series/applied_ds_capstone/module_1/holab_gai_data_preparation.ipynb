{
  "metadata": {
    "kernelspec": {
      "name": "python",
      "display_name": "Python (Pyodide)",
      "language": "python"
    },
    "language_info": {
      "codemirror_mode": {
        "name": "python",
        "version": 3
      },
      "file_extension": ".py",
      "mimetype": "text/x-python",
      "name": "python",
      "nbconvert_exporter": "python",
      "pygments_lexer": "ipython3",
      "version": "3.8"
    }
  },
  "nbformat_minor": 4,
  "nbformat": 4,
  "cells": [
    {
      "cell_type": "markdown",
      "source": "<p style=\"text-align:center\">\n    <a href=\"https://skills.network\" target=\"_blank\">\n    <img src=\"https://cf-courses-data.s3.us.cloud-object-storage.appdomain.cloud/assets/logos/SN_web_lightmode.png\" width=\"300\" alt=\"Skills Network Logo\">\n    </a>\n</p>\n",
      "metadata": {}
    },
    {
      "cell_type": "markdown",
      "source": "# Test Environment for Generative AI classroom labs\n\nThis lab provides a test environment for the codes generated using the Generative AI classroom.\n\nFollow the instructions below to set up this environment for further use.\n",
      "metadata": {}
    },
    {
      "cell_type": "markdown",
      "source": "# Setup\n",
      "metadata": {}
    },
    {
      "cell_type": "markdown",
      "source": "### Install required libraries\n\nIn case of a requirement of installing certain python libraries for use in your task, you may do so as shown below.\n",
      "metadata": {}
    },
    {
      "cell_type": "code",
      "source": "%pip install seaborn\nimport piplite\n\nawait piplite.install(['nbformat', 'plotly'])",
      "metadata": {
        "trusted": true
      },
      "outputs": [],
      "execution_count": 1
    },
    {
      "cell_type": "markdown",
      "source": "### Dataset URL from the GenAI lab\nUse the URL provided in the GenAI lab in the cell below. \n",
      "metadata": {}
    },
    {
      "cell_type": "code",
      "source": "URL = \"https://cf-courses-data.s3.us.cloud-object-storage.appdomain.cloud/IBMDeveloperSkillsNetwork-DA0101EN-Coursera/laptop_pricing_dataset_mod1.csv\"",
      "metadata": {
        "trusted": true
      },
      "outputs": [],
      "execution_count": 2
    },
    {
      "cell_type": "markdown",
      "source": "**Prompt Question-1 to Gen AI model**  \n\nWrite a Python code that can perform the following tasks.\nRead the CSV file, located on a given file path, into a Pandas data frame, assuming that the first rows of the file are the headers for the data.\n\n**Result:**\n\nWrite a Python code that can perform the following tasks.\nRead the CSV file, located on a given file path, into a Pandas data frame, assuming that the first rows of the file are the headers for the data.\n\nSure! Here is a Python code snippet that reads a CSV file into a Pandas data frame:\n\n```python\nimport pandas as pd\n\n# Specify the file path\nfile_path = \"path/to/your/file.csv\"\n\n# Read the CSV file into a Pandas data frame\ndf = pd.read_csv(file_path)\n\n# Display the data frame\nprint(df)\n```\n\n\nThis code uses the `pd.read_csv()` function from the Pandas library to read the CSV file located at the specified `file_path` into a Pandas data frame. The data frame will automatically use the first row of the CSV file as the column headers.",
      "metadata": {}
    },
    {
      "cell_type": "code",
      "source": "from js import fetch\nimport pandas as pd\nimport io \n\nresp = await fetch(URL)\ntext = io.BytesIO((await resp.arrayBuffer()).to_py())\ndf=  pd.read_csv(text)\ndf.head()",
      "metadata": {
        "trusted": true
      },
      "outputs": [
        {
          "name": "stderr",
          "text": "<ipython-input-3-2389b0e99508>:2: DeprecationWarning: \nPyarrow will become a required dependency of pandas in the next major release of pandas (pandas 3.0),\n(to allow more performant data types, such as the Arrow string type, and better interoperability with other libraries)\nbut was not found to be installed on your system.\nIf this would cause problems for you,\nplease provide us feedback at https://github.com/pandas-dev/pandas/issues/54466\n        \n  import pandas as pd\n",
          "output_type": "stream"
        },
        {
          "execution_count": 3,
          "output_type": "execute_result",
          "data": {
            "text/plain": "   Unnamed: 0 Manufacturer  Category     Screen  GPU  OS  CPU_core  \\\n0           0         Acer         4  IPS Panel    2   1         5   \n1           1         Dell         3    Full HD    1   1         3   \n2           2         Dell         3    Full HD    1   1         7   \n3           3         Dell         4  IPS Panel    2   1         5   \n4           4           HP         4    Full HD    2   1         7   \n\n   Screen_Size_cm  CPU_frequency  RAM_GB  Storage_GB_SSD  Weight_kg  Price  \n0          35.560            1.6       8             256       1.60    978  \n1          39.624            2.0       4             256       2.20    634  \n2          39.624            2.7       8             256       2.20    946  \n3          33.782            1.6       8             128       1.22   1244  \n4          39.624            1.8       8             256       1.91    837  ",
            "text/html": "<div>\n<style scoped>\n    .dataframe tbody tr th:only-of-type {\n        vertical-align: middle;\n    }\n\n    .dataframe tbody tr th {\n        vertical-align: top;\n    }\n\n    .dataframe thead th {\n        text-align: right;\n    }\n</style>\n<table border=\"1\" class=\"dataframe\">\n  <thead>\n    <tr style=\"text-align: right;\">\n      <th></th>\n      <th>Unnamed: 0</th>\n      <th>Manufacturer</th>\n      <th>Category</th>\n      <th>Screen</th>\n      <th>GPU</th>\n      <th>OS</th>\n      <th>CPU_core</th>\n      <th>Screen_Size_cm</th>\n      <th>CPU_frequency</th>\n      <th>RAM_GB</th>\n      <th>Storage_GB_SSD</th>\n      <th>Weight_kg</th>\n      <th>Price</th>\n    </tr>\n  </thead>\n  <tbody>\n    <tr>\n      <th>0</th>\n      <td>0</td>\n      <td>Acer</td>\n      <td>4</td>\n      <td>IPS Panel</td>\n      <td>2</td>\n      <td>1</td>\n      <td>5</td>\n      <td>35.560</td>\n      <td>1.6</td>\n      <td>8</td>\n      <td>256</td>\n      <td>1.60</td>\n      <td>978</td>\n    </tr>\n    <tr>\n      <th>1</th>\n      <td>1</td>\n      <td>Dell</td>\n      <td>3</td>\n      <td>Full HD</td>\n      <td>1</td>\n      <td>1</td>\n      <td>3</td>\n      <td>39.624</td>\n      <td>2.0</td>\n      <td>4</td>\n      <td>256</td>\n      <td>2.20</td>\n      <td>634</td>\n    </tr>\n    <tr>\n      <th>2</th>\n      <td>2</td>\n      <td>Dell</td>\n      <td>3</td>\n      <td>Full HD</td>\n      <td>1</td>\n      <td>1</td>\n      <td>7</td>\n      <td>39.624</td>\n      <td>2.7</td>\n      <td>8</td>\n      <td>256</td>\n      <td>2.20</td>\n      <td>946</td>\n    </tr>\n    <tr>\n      <th>3</th>\n      <td>3</td>\n      <td>Dell</td>\n      <td>4</td>\n      <td>IPS Panel</td>\n      <td>2</td>\n      <td>1</td>\n      <td>5</td>\n      <td>33.782</td>\n      <td>1.6</td>\n      <td>8</td>\n      <td>128</td>\n      <td>1.22</td>\n      <td>1244</td>\n    </tr>\n    <tr>\n      <th>4</th>\n      <td>4</td>\n      <td>HP</td>\n      <td>4</td>\n      <td>Full HD</td>\n      <td>2</td>\n      <td>1</td>\n      <td>7</td>\n      <td>39.624</td>\n      <td>1.8</td>\n      <td>8</td>\n      <td>256</td>\n      <td>1.91</td>\n      <td>837</td>\n    </tr>\n  </tbody>\n</table>\n</div>"
          },
          "metadata": {}
        }
      ],
      "execution_count": 3
    },
    {
      "cell_type": "markdown",
      "source": "**Prompt Question-2 to Gen AI model**  \nWrite a Python code that identifies the columns with missing values in a pandas data frame.\n\n**Result:**  \nCertainly! Here is a Python code snippet that identifies the columns with missing values in a Pandas data frame:\n\n```python\nimport pandas as pd\n\n# Assuming 'df' is the Pandas data frame you want to check for missing values\n\n# Get the columns with missing values\ncolumns_with_missing_values = df.columns[df.isnull().any()]\n\n# Display the columns with missing values\nprint(\"Columns with missing values:\")\nfor column in columns_with_missing_values:\n    print(column)\n```\n\nIn this code snippet, we use the `isnull()` method to identify missing values in the data frame `df`. The `any()` method is then used to check if there are any missing values in each column. Finally, we retrieve the column names with missing values and display them.",
      "metadata": {}
    },
    {
      "cell_type": "code",
      "source": "df.isnull().sum()",
      "metadata": {
        "trusted": true
      },
      "outputs": [
        {
          "execution_count": 4,
          "output_type": "execute_result",
          "data": {
            "text/plain": "Unnamed: 0        0\nManufacturer      0\nCategory          0\nScreen            0\nGPU               0\nOS                0\nCPU_core          0\nScreen_Size_cm    4\nCPU_frequency     0\nRAM_GB            0\nStorage_GB_SSD    0\nWeight_kg         5\nPrice             0\ndtype: int64"
          },
          "metadata": {}
        }
      ],
      "execution_count": 4
    },
    {
      "cell_type": "code",
      "source": "df.isnull().any()",
      "metadata": {
        "trusted": true
      },
      "outputs": [
        {
          "execution_count": 5,
          "output_type": "execute_result",
          "data": {
            "text/plain": "Unnamed: 0        False\nManufacturer      False\nCategory          False\nScreen            False\nGPU               False\nOS                False\nCPU_core          False\nScreen_Size_cm     True\nCPU_frequency     False\nRAM_GB            False\nStorage_GB_SSD    False\nWeight_kg          True\nPrice             False\ndtype: bool"
          },
          "metadata": {}
        }
      ],
      "execution_count": 5
    },
    {
      "cell_type": "markdown",
      "source": "The usage of `any()` can be shown:-  \n`True` if the column contains at least one missing value.  \n`False` if the column has no missing values.",
      "metadata": {}
    },
    {
      "cell_type": "code",
      "source": "columns_with_missing_values = df.columns[df.isnull().any()]\n\n# Display the columns with missing values\nprint(\"Columns with missing values:-\")\nfor i, column in enumerate(columns_with_missing_values):\n    print(f\"{i+1}. {column}\")",
      "metadata": {
        "trusted": true
      },
      "outputs": [
        {
          "name": "stdout",
          "text": "Columns with missing values:-\n1. Screen_Size_cm\n2. Weight_kg\n",
          "output_type": "stream"
        }
      ],
      "execution_count": 6
    },
    {
      "cell_type": "markdown",
      "source": "**Prompt Question-3 to Gen AI model**  \nWrite a Python code to replace the missing values in a pandas data frame, per the following guidelines.\n1. For a categorical attribute \"Screen_Size_cm\", replace the missing values with the most frequent value in the column.\n2. For a continuous value attribute \"Weight_kg\", replace the missing values with the mean value of the entries in the column.\n\n**Result:**  \nCertainly! Here is a Python code snippet that replaces missing values in a Pandas data frame based on the guidelines you provided:\n\n```python\nimport pandas as pd\n\n# Assuming 'df' is the Pandas data frame you want to replace missing values in\n\n# Replace missing values in the 'Screen_Size_cm' column with the most frequent value\nmost_frequent_screen_size = df['Screen_Size_cm'].mode()[0]\ndf['Screen_Size_cm'].fillna(most_frequent_screen_size, inplace=True)\n\n# Replace missing values in the 'Weight_kg' column with the mean value\nmean_weight = df['Weight_kg'].mean()\ndf['Weight_kg'].fillna(mean_weight, inplace=True)\n\n# Display the data frame after replacing missing values\nprint(df)\n```\n\nIn this code snippet, we first calculate the most frequent value for the 'Screen_Size_cm' column using the `mode()` method and the mean value for the 'Weight_kg' column using the `mean()` method. Then, we use the `fillna()` method to replace missing values in each column with the calculated values.",
      "metadata": {}
    },
    {
      "cell_type": "code",
      "source": "df['Screen_Size_cm'].mode() # return most frequent value",
      "metadata": {
        "trusted": true
      },
      "outputs": [
        {
          "execution_count": 7,
          "output_type": "execute_result",
          "data": {
            "text/plain": "0    39.624\nName: Screen_Size_cm, dtype: float64"
          },
          "metadata": {}
        }
      ],
      "execution_count": 7
    },
    {
      "cell_type": "code",
      "source": "# Replace missing value with most frequent value\nmost_freq_scr_size = df['Screen_Size_cm'].mode()[0]\ndf['Screen_Size_cm'] = df['Screen_Size_cm'].fillna(most_freq_scr_size)\n\n# Replace missing value with the mean value\nmean_weight = df['Weight_kg'].mean()\ndf['Weight_kg'] = df['Weight_kg'].fillna(mean_weight)\n\ndf.sample(5)",
      "metadata": {
        "trusted": true
      },
      "outputs": [
        {
          "execution_count": 8,
          "output_type": "execute_result",
          "data": {
            "text/plain": "     Unnamed: 0 Manufacturer  Category     Screen  GPU  OS  CPU_core  \\\n109         109         Dell         4    Full HD    2   2         7   \n7             7         Acer         3  IPS Panel    2   1         5   \n197         197       Lenovo         4    Full HD    2   1         7   \n33           33         Asus         3    Full HD    3   1         7   \n68           68         Dell         3    Full HD    1   2         7   \n\n     Screen_Size_cm  CPU_frequency  RAM_GB  Storage_GB_SSD  Weight_kg  Price  \n109          35.560            2.8       8             256   1.600000   1396  \n7            38.100            1.6       4             256   2.200000    866  \n197          35.560            2.7       8             256   1.320000   2361  \n33           39.624            1.8       8             256   1.700000   1420  \n68           39.624            1.8       8             256   1.862232    934  ",
            "text/html": "<div>\n<style scoped>\n    .dataframe tbody tr th:only-of-type {\n        vertical-align: middle;\n    }\n\n    .dataframe tbody tr th {\n        vertical-align: top;\n    }\n\n    .dataframe thead th {\n        text-align: right;\n    }\n</style>\n<table border=\"1\" class=\"dataframe\">\n  <thead>\n    <tr style=\"text-align: right;\">\n      <th></th>\n      <th>Unnamed: 0</th>\n      <th>Manufacturer</th>\n      <th>Category</th>\n      <th>Screen</th>\n      <th>GPU</th>\n      <th>OS</th>\n      <th>CPU_core</th>\n      <th>Screen_Size_cm</th>\n      <th>CPU_frequency</th>\n      <th>RAM_GB</th>\n      <th>Storage_GB_SSD</th>\n      <th>Weight_kg</th>\n      <th>Price</th>\n    </tr>\n  </thead>\n  <tbody>\n    <tr>\n      <th>109</th>\n      <td>109</td>\n      <td>Dell</td>\n      <td>4</td>\n      <td>Full HD</td>\n      <td>2</td>\n      <td>2</td>\n      <td>7</td>\n      <td>35.560</td>\n      <td>2.8</td>\n      <td>8</td>\n      <td>256</td>\n      <td>1.600000</td>\n      <td>1396</td>\n    </tr>\n    <tr>\n      <th>7</th>\n      <td>7</td>\n      <td>Acer</td>\n      <td>3</td>\n      <td>IPS Panel</td>\n      <td>2</td>\n      <td>1</td>\n      <td>5</td>\n      <td>38.100</td>\n      <td>1.6</td>\n      <td>4</td>\n      <td>256</td>\n      <td>2.200000</td>\n      <td>866</td>\n    </tr>\n    <tr>\n      <th>197</th>\n      <td>197</td>\n      <td>Lenovo</td>\n      <td>4</td>\n      <td>Full HD</td>\n      <td>2</td>\n      <td>1</td>\n      <td>7</td>\n      <td>35.560</td>\n      <td>2.7</td>\n      <td>8</td>\n      <td>256</td>\n      <td>1.320000</td>\n      <td>2361</td>\n    </tr>\n    <tr>\n      <th>33</th>\n      <td>33</td>\n      <td>Asus</td>\n      <td>3</td>\n      <td>Full HD</td>\n      <td>3</td>\n      <td>1</td>\n      <td>7</td>\n      <td>39.624</td>\n      <td>1.8</td>\n      <td>8</td>\n      <td>256</td>\n      <td>1.700000</td>\n      <td>1420</td>\n    </tr>\n    <tr>\n      <th>68</th>\n      <td>68</td>\n      <td>Dell</td>\n      <td>3</td>\n      <td>Full HD</td>\n      <td>1</td>\n      <td>2</td>\n      <td>7</td>\n      <td>39.624</td>\n      <td>1.8</td>\n      <td>8</td>\n      <td>256</td>\n      <td>1.862232</td>\n      <td>934</td>\n    </tr>\n  </tbody>\n</table>\n</div>"
          },
          "metadata": {}
        }
      ],
      "execution_count": 8
    },
    {
      "cell_type": "markdown",
      "source": "**Prompt Question-4 to Gen AI model**  \nWrite a Python code snippet to change the data type of the attributes \"Screen_Size_cm\" and \"Weight_kg\" of a data frame to float.\n\n**Result:**  \nCertainly! Here is a Python code snippet that changes the data type of the attributes \"Screen_Size_cm\" and \"Weight_kg\" in a Pandas data frame to float:\n\n```python\nimport pandas as pd\n\n# Assuming 'df' is the Pandas data frame you want to change the data types in\n\n# Change the data type of 'Screen_Size_cm' to float\ndf['Screen_Size_cm'] = df['Screen_Size_cm'].astype(float)\n\n# Change the data type of 'Weight_kg' to float\ndf['Weight_kg'] = df['Weight_kg'].astype(float)\n\n# Display the data frame with the updated data types\nprint(df.dtypes)\n```\n\nIn this code snippet, we use the `astype()` method to change the data type of the 'Screen_Size_cm' and 'Weight_kg' columns to float in the Pandas data frame `df`. Finally, we display the data types of all columns in the data frame to confirm the changes.",
      "metadata": {}
    },
    {
      "cell_type": "code",
      "source": "df['Screen_Size_cm'] = df['Screen_Size_cm'].astype(float)\ndf['Weight_kg'] = df['Weight_kg'].astype(float)\n\nprint(\"After changing data types\")\ndisplay(df.dtypes)",
      "metadata": {
        "trusted": true
      },
      "outputs": [
        {
          "name": "stdout",
          "text": "After changing data types\n",
          "output_type": "stream"
        },
        {
          "output_type": "display_data",
          "data": {
            "text/plain": "Unnamed: 0          int64\nManufacturer       object\nCategory            int64\nScreen             object\nGPU                 int64\nOS                  int64\nCPU_core            int64\nScreen_Size_cm    float64\nCPU_frequency     float64\nRAM_GB              int64\nStorage_GB_SSD      int64\nWeight_kg         float64\nPrice               int64\ndtype: object"
          },
          "metadata": {}
        }
      ],
      "execution_count": 9
    },
    {
      "cell_type": "markdown",
      "source": "**Prompt Question-5 to Gen AI model**  \nWrite a Python code to modify the contents under the following attributes of the data frame as required.\n1. Data under 'Screen_Size_cm' is assumed to be in centimeters. Convert this data into inches. Modify the name of the attribute to 'Screen_Size_inch'.\n2. Data under 'Weight_kg' is assumed to be in kilograms. Convert this data into pounds. Modify the name of the attribute to 'Weight_pounds'.\n\n**Result:**  \nCertainly! Here is a Python code snippet that modifies the contents under the specified attributes in a Pandas data frame:\n\n```python\nimport pandas as pd\n\n# Assuming 'df' is the Pandas data frame you want to modify\n\n# Convert 'Screen_Size_cm' data from centimeters to inches and rename the attribute\ndf['Screen_Size_inch'] = df['Screen_Size_cm'] * 0.393701  # 1 cm = 0.393701 inches\ndf.drop(columns=['Screen_Size_cm'], inplace=True)  # Drop the original 'Screen_Size_cm' column\n\n# Convert 'Weight_kg' data from kilograms to pounds and rename the attribute\ndf['Weight_pounds'] = df['Weight_kg'] * 2.20462  # 1 kg = 2.20462 pounds\ndf.drop(columns=['Weight_kg'], inplace=True)  # Drop the original 'Weight_kg' column\n\n# Display the data frame with the modified attributes\nprint(df)\n```\n\nIn this code snippet, we first convert the 'Screen_Size_cm' data from centimeters to inches by multiplying by the conversion factor and rename the attribute to 'Screen_Size_inch'. Similarly, we convert the 'Weight_kg' data from kilograms to pounds, rename the attribute to 'Weight_pounds', and then display the modified data frame.",
      "metadata": {}
    },
    {
      "cell_type": "code",
      "source": "# Instead, I used 'rename()' method to save memory usage\n\ndf['Screen_Size_cm'] = df['Screen_Size_cm'] * 0.393701  # 1 cm = 0.393701 inches\ndf['Weight_kg'] = df['Weight_kg'] * 2.20462  # 1 kg = 2.20462 pounds\ndf.rename(columns={'Screen_Size_cm': 'Screen_Size_inch', \n                   'Weight_kg':'Weight_pounds'}, \n                   inplace=True)\ndf.columns",
      "metadata": {
        "trusted": true
      },
      "outputs": [
        {
          "execution_count": 10,
          "output_type": "execute_result",
          "data": {
            "text/plain": "Index(['Unnamed: 0', 'Manufacturer', 'Category', 'Screen', 'GPU', 'OS',\n       'CPU_core', 'Screen_Size_inch', 'CPU_frequency', 'RAM_GB',\n       'Storage_GB_SSD', 'Weight_pounds', 'Price'],\n      dtype='object')"
          },
          "metadata": {}
        }
      ],
      "execution_count": 10
    },
    {
      "cell_type": "markdown",
      "source": "**Prompt Question-6 to Gen AI model**  \nWrite a Python code to normalize the content under the attribute \"CPU_frequency\" in a data frame df concerning its maximum value. Make changes to the original data, and do not create a new attribute.\n\n**Result:**  \nCertainly! You can achieve this by using the following Python code:\n\n```python\n# Import necessary libraries\nimport pandas as pd\n\n# Normalize the \"CPU_frequency\" column in the data frame df\nmax_value = df['CPU_frequency'].max()\ndf['CPU_frequency'] = df['CPU_frequency'] / max_value\n\n# The original data frame df has been updated with the normalized values under the \"CPU_frequency\" attribute\n```\n\nThis code snippet calculates the maximum value of the \"CPU_frequency\" attribute in the data frame and then normalizes all values under this attribute by dividing them by the maximum value. This will scale the values between 0 and 1, effectively normalizing the data.",
      "metadata": {}
    },
    {
      "cell_type": "code",
      "source": "df['CPU_frequency'].mean()",
      "metadata": {
        "trusted": true
      },
      "outputs": [
        {
          "execution_count": 11,
          "output_type": "execute_result",
          "data": {
            "text/plain": "2.3600840336134454"
          },
          "metadata": {}
        }
      ],
      "execution_count": 11
    },
    {
      "cell_type": "code",
      "source": "# Normalize the \"CPU_frequency\" column in the data frame df\nmax_value = df['CPU_frequency'].max()\ndf['CPU_frequency'] = df['CPU_frequency'] / max_value\ndf['CPU_frequency'].mean()",
      "metadata": {
        "trusted": true
      },
      "outputs": [
        {
          "execution_count": 12,
          "output_type": "execute_result",
          "data": {
            "text/plain": "0.8138220805563605"
          },
          "metadata": {}
        }
      ],
      "execution_count": 12
    },
    {
      "cell_type": "markdown",
      "source": "**Prompt Question-7 to Gen AI model**  \nWrite a Python code to perform the following tasks.\n1. Convert a data frame df attribute \"Screen\", into indicator variables, saved as df1, with the naming convention \"Screen_<unique value of the attribute>\".\n2. Append df1 into the original data frame df.\n3. Drop the original attribute from the data frame df.\n   \n**Result:**  \nHere is the Python code to perform the tasks you mentioned:\n\n```python\nimport pandas as pd\n\n# Create a sample data frame\ndata = {'Screen': ['LCD', 'OLED', 'LCD', 'LED', 'OLED']}\ndf = pd.DataFrame(data)\n\n# Convert 'Screen' attribute into indicator variables\ndf1 = pd.get_dummies(df['Screen'], prefix='Screen')\n\n# Append df1 into the original data frame df\ndf = pd.concat([df, df1], axis=1)\n\n# Drop the original 'Screen' attribute from the data frame df\ndf.drop('Screen', axis=1, inplace=True)\n\nprint(df)\n```\n\nThis code snippet uses the `pd.get_dummies()` function from the pandas library to convert the 'Screen' attribute into indicator variables with the specified naming convention. It then appends the new indicator variables to the original data frame and drops the original 'Screen' attribute.",
      "metadata": {}
    },
    {
      "cell_type": "code",
      "source": "df['Screen'].unique()",
      "metadata": {
        "trusted": true
      },
      "outputs": [
        {
          "execution_count": 16,
          "output_type": "execute_result",
          "data": {
            "text/plain": "array(['IPS Panel', 'Full HD'], dtype=object)"
          },
          "metadata": {}
        }
      ],
      "execution_count": 16
    },
    {
      "cell_type": "code",
      "source": "df1 = pd.get_dummies(df['Screen'], prefix='Screen_')\ndf1.head()",
      "metadata": {
        "trusted": true
      },
      "outputs": [
        {
          "execution_count": 19,
          "output_type": "execute_result",
          "data": {
            "text/plain": "   Screen__Full HD  Screen__IPS Panel\n0            False               True\n1             True              False\n2             True              False\n3            False               True\n4             True              False",
            "text/html": "<div>\n<style scoped>\n    .dataframe tbody tr th:only-of-type {\n        vertical-align: middle;\n    }\n\n    .dataframe tbody tr th {\n        vertical-align: top;\n    }\n\n    .dataframe thead th {\n        text-align: right;\n    }\n</style>\n<table border=\"1\" class=\"dataframe\">\n  <thead>\n    <tr style=\"text-align: right;\">\n      <th></th>\n      <th>Screen__Full HD</th>\n      <th>Screen__IPS Panel</th>\n    </tr>\n  </thead>\n  <tbody>\n    <tr>\n      <th>0</th>\n      <td>False</td>\n      <td>True</td>\n    </tr>\n    <tr>\n      <th>1</th>\n      <td>True</td>\n      <td>False</td>\n    </tr>\n    <tr>\n      <th>2</th>\n      <td>True</td>\n      <td>False</td>\n    </tr>\n    <tr>\n      <th>3</th>\n      <td>False</td>\n      <td>True</td>\n    </tr>\n    <tr>\n      <th>4</th>\n      <td>True</td>\n      <td>False</td>\n    </tr>\n  </tbody>\n</table>\n</div>"
          },
          "metadata": {}
        }
      ],
      "execution_count": 19
    },
    {
      "cell_type": "code",
      "source": "df = pd.concat([df, df1], axis=1)\ndf.drop('Screen', axis=1, inplace=True)",
      "metadata": {
        "trusted": true
      },
      "outputs": [],
      "execution_count": 21
    },
    {
      "cell_type": "code",
      "source": "df.head()",
      "metadata": {
        "trusted": true
      },
      "outputs": [
        {
          "execution_count": 22,
          "output_type": "execute_result",
          "data": {
            "text/plain": "   Unnamed: 0 Manufacturer  Category  GPU  OS  CPU_core  Screen_Size_inch  \\\n0           0         Acer         4    2   1         5         14.000008   \n1           1         Dell         3    1   1         3         15.600008   \n2           2         Dell         3    1   1         7         15.600008   \n3           3         Dell         4    2   1         5         13.300007   \n4           4           HP         4    2   1         7         15.600008   \n\n   CPU_frequency  RAM_GB  Storage_GB_SSD  Weight_pounds  Price  \\\n0       0.551724       8             256       3.527392    978   \n1       0.689655       4             256       4.850164    634   \n2       0.931034       8             256       4.850164    946   \n3       0.551724       8             128       2.689636   1244   \n4       0.620690       8             256       4.210824    837   \n\n   Screen__Full HD  Screen__IPS Panel  \n0            False               True  \n1             True              False  \n2             True              False  \n3            False               True  \n4             True              False  ",
            "text/html": "<div>\n<style scoped>\n    .dataframe tbody tr th:only-of-type {\n        vertical-align: middle;\n    }\n\n    .dataframe tbody tr th {\n        vertical-align: top;\n    }\n\n    .dataframe thead th {\n        text-align: right;\n    }\n</style>\n<table border=\"1\" class=\"dataframe\">\n  <thead>\n    <tr style=\"text-align: right;\">\n      <th></th>\n      <th>Unnamed: 0</th>\n      <th>Manufacturer</th>\n      <th>Category</th>\n      <th>GPU</th>\n      <th>OS</th>\n      <th>CPU_core</th>\n      <th>Screen_Size_inch</th>\n      <th>CPU_frequency</th>\n      <th>RAM_GB</th>\n      <th>Storage_GB_SSD</th>\n      <th>Weight_pounds</th>\n      <th>Price</th>\n      <th>Screen__Full HD</th>\n      <th>Screen__IPS Panel</th>\n    </tr>\n  </thead>\n  <tbody>\n    <tr>\n      <th>0</th>\n      <td>0</td>\n      <td>Acer</td>\n      <td>4</td>\n      <td>2</td>\n      <td>1</td>\n      <td>5</td>\n      <td>14.000008</td>\n      <td>0.551724</td>\n      <td>8</td>\n      <td>256</td>\n      <td>3.527392</td>\n      <td>978</td>\n      <td>False</td>\n      <td>True</td>\n    </tr>\n    <tr>\n      <th>1</th>\n      <td>1</td>\n      <td>Dell</td>\n      <td>3</td>\n      <td>1</td>\n      <td>1</td>\n      <td>3</td>\n      <td>15.600008</td>\n      <td>0.689655</td>\n      <td>4</td>\n      <td>256</td>\n      <td>4.850164</td>\n      <td>634</td>\n      <td>True</td>\n      <td>False</td>\n    </tr>\n    <tr>\n      <th>2</th>\n      <td>2</td>\n      <td>Dell</td>\n      <td>3</td>\n      <td>1</td>\n      <td>1</td>\n      <td>7</td>\n      <td>15.600008</td>\n      <td>0.931034</td>\n      <td>8</td>\n      <td>256</td>\n      <td>4.850164</td>\n      <td>946</td>\n      <td>True</td>\n      <td>False</td>\n    </tr>\n    <tr>\n      <th>3</th>\n      <td>3</td>\n      <td>Dell</td>\n      <td>4</td>\n      <td>2</td>\n      <td>1</td>\n      <td>5</td>\n      <td>13.300007</td>\n      <td>0.551724</td>\n      <td>8</td>\n      <td>128</td>\n      <td>2.689636</td>\n      <td>1244</td>\n      <td>False</td>\n      <td>True</td>\n    </tr>\n    <tr>\n      <th>4</th>\n      <td>4</td>\n      <td>HP</td>\n      <td>4</td>\n      <td>2</td>\n      <td>1</td>\n      <td>7</td>\n      <td>15.600008</td>\n      <td>0.620690</td>\n      <td>8</td>\n      <td>256</td>\n      <td>4.210824</td>\n      <td>837</td>\n      <td>True</td>\n      <td>False</td>\n    </tr>\n  </tbody>\n</table>\n</div>"
          },
          "metadata": {}
        }
      ],
      "execution_count": 22
    },
    {
      "cell_type": "markdown",
      "source": "**Practice Problem**  \n**<u>Prompt</u>**  \n1. Create a prompt to generate a Python code that converts the values under Price from USD to Euros.\n2. Modify the normalization prompt to perform min-max normalization on the CPU_frequency parameter.\n\n**Result**  \nHere is the prompt to generate a Python code that converts the values under Price from USD to Euros:\n\n```python\n# Create a sample data frame\ndata = {'Price': [100, 200, 150, 300, 250]}\ndf = pd.DataFrame(data)\n\n# Convert values under 'Price' from USD to Euros\ndf['Price'] = df['Price'] * 0.85  # Assuming 1 USD = 0.85 Euros\n\nprint(df)\n```\n\nAnd here is the modified prompt to perform min-max normalization on the CPU_frequency parameter:\n\n```python\n# Create a sample data frame\ndata = {'CPU_frequency': [2.4, 3.0, 2.8, 3.2, 2.6]}\ndf = pd.DataFrame(data)\n\n# Perform min-max normalization on the 'CPU_frequency' parameter\ndf['CPU_frequency'] = (df['CPU_frequency'] - df['CPU_frequency'].min()) / (df['CPU_frequency'].max() - df['CPU_frequency'].min())\n\nprint(df)\n``` \n\nIn the modified code snippet, the min-max normalization formula is applied to the 'CPU_frequency' parameter to scale the values between 0 and 1 based on the minimum and maximum values in the column.",
      "metadata": {}
    },
    {
      "cell_type": "code",
      "source": "# Assume 1 USD = 0.85 Euros\ndf['Price'] = df['Price'] * 0.85\n\n#Perform min-max normalization on the 'CPU_frequency' column\ncpu_freq = df['CPU_frequency']\ndf['CPU_frequency_n'] = (cpu_freq - cpu_freq.min()) / (cpu_freq.max() - cpu_freq.min())\ndf.head()",
      "metadata": {
        "trusted": true
      },
      "outputs": [
        {
          "execution_count": 24,
          "output_type": "execute_result",
          "data": {
            "text/plain": "0      0.235294\n1      0.470588\n2      0.882353\n3      0.235294\n4      0.352941\n         ...   \n233    0.823529\n234    0.705882\n235    0.823529\n236    0.764706\n237    0.647059\nName: CPU_frequency_n, Length: 238, dtype: float64"
          },
          "metadata": {}
        }
      ],
      "execution_count": 24
    },
    {
      "cell_type": "code",
      "source": "df.head()",
      "metadata": {
        "trusted": true
      },
      "outputs": [
        {
          "execution_count": 25,
          "output_type": "execute_result",
          "data": {
            "text/plain": "   Unnamed: 0 Manufacturer  Category  GPU  OS  CPU_core  Screen_Size_inch  \\\n0           0         Acer         4    2   1         5         14.000008   \n1           1         Dell         3    1   1         3         15.600008   \n2           2         Dell         3    1   1         7         15.600008   \n3           3         Dell         4    2   1         5         13.300007   \n4           4           HP         4    2   1         7         15.600008   \n\n   CPU_frequency  RAM_GB  Storage_GB_SSD  Weight_pounds     Price  \\\n0       0.551724       8             256       3.527392  706.6050   \n1       0.689655       4             256       4.850164  458.0650   \n2       0.931034       8             256       4.850164  683.4850   \n3       0.551724       8             128       2.689636  898.7900   \n4       0.620690       8             256       4.210824  604.7325   \n\n   Screen__Full HD  Screen__IPS Panel  CPU_frequency_n  \n0            False               True         0.235294  \n1             True              False         0.470588  \n2             True              False         0.882353  \n3            False               True         0.235294  \n4             True              False         0.352941  ",
            "text/html": "<div>\n<style scoped>\n    .dataframe tbody tr th:only-of-type {\n        vertical-align: middle;\n    }\n\n    .dataframe tbody tr th {\n        vertical-align: top;\n    }\n\n    .dataframe thead th {\n        text-align: right;\n    }\n</style>\n<table border=\"1\" class=\"dataframe\">\n  <thead>\n    <tr style=\"text-align: right;\">\n      <th></th>\n      <th>Unnamed: 0</th>\n      <th>Manufacturer</th>\n      <th>Category</th>\n      <th>GPU</th>\n      <th>OS</th>\n      <th>CPU_core</th>\n      <th>Screen_Size_inch</th>\n      <th>CPU_frequency</th>\n      <th>RAM_GB</th>\n      <th>Storage_GB_SSD</th>\n      <th>Weight_pounds</th>\n      <th>Price</th>\n      <th>Screen__Full HD</th>\n      <th>Screen__IPS Panel</th>\n      <th>CPU_frequency_n</th>\n    </tr>\n  </thead>\n  <tbody>\n    <tr>\n      <th>0</th>\n      <td>0</td>\n      <td>Acer</td>\n      <td>4</td>\n      <td>2</td>\n      <td>1</td>\n      <td>5</td>\n      <td>14.000008</td>\n      <td>0.551724</td>\n      <td>8</td>\n      <td>256</td>\n      <td>3.527392</td>\n      <td>706.6050</td>\n      <td>False</td>\n      <td>True</td>\n      <td>0.235294</td>\n    </tr>\n    <tr>\n      <th>1</th>\n      <td>1</td>\n      <td>Dell</td>\n      <td>3</td>\n      <td>1</td>\n      <td>1</td>\n      <td>3</td>\n      <td>15.600008</td>\n      <td>0.689655</td>\n      <td>4</td>\n      <td>256</td>\n      <td>4.850164</td>\n      <td>458.0650</td>\n      <td>True</td>\n      <td>False</td>\n      <td>0.470588</td>\n    </tr>\n    <tr>\n      <th>2</th>\n      <td>2</td>\n      <td>Dell</td>\n      <td>3</td>\n      <td>1</td>\n      <td>1</td>\n      <td>7</td>\n      <td>15.600008</td>\n      <td>0.931034</td>\n      <td>8</td>\n      <td>256</td>\n      <td>4.850164</td>\n      <td>683.4850</td>\n      <td>True</td>\n      <td>False</td>\n      <td>0.882353</td>\n    </tr>\n    <tr>\n      <th>3</th>\n      <td>3</td>\n      <td>Dell</td>\n      <td>4</td>\n      <td>2</td>\n      <td>1</td>\n      <td>5</td>\n      <td>13.300007</td>\n      <td>0.551724</td>\n      <td>8</td>\n      <td>128</td>\n      <td>2.689636</td>\n      <td>898.7900</td>\n      <td>False</td>\n      <td>True</td>\n      <td>0.235294</td>\n    </tr>\n    <tr>\n      <th>4</th>\n      <td>4</td>\n      <td>HP</td>\n      <td>4</td>\n      <td>2</td>\n      <td>1</td>\n      <td>7</td>\n      <td>15.600008</td>\n      <td>0.620690</td>\n      <td>8</td>\n      <td>256</td>\n      <td>4.210824</td>\n      <td>604.7325</td>\n      <td>True</td>\n      <td>False</td>\n      <td>0.352941</td>\n    </tr>\n  </tbody>\n</table>\n</div>"
          },
          "metadata": {}
        }
      ],
      "execution_count": 25
    },
    {
      "cell_type": "markdown",
      "source": "### Downloading the dataset\n\nExecute the following code to download the dataset in to the interface.\n\n> Please note that this step is essential in JupyterLite. If you are using a downloaded version of this notebook and running it on JupyterLabs, then you can skip this step and directly use the URL in pandas.read_csv() function to read the dataset as a dataframe\n",
      "metadata": {}
    },
    {
      "cell_type": "code",
      "source": "from pyodide.http import pyfetch\n\nasync def download(url, filename):\n    response = await pyfetch(url)\n    if response.status == 200:\n        with open(filename, \"wb\") as f:\n            f.write(await response.bytes())\n\npath = URL\n\nawait download(path, \"dataset.csv\")",
      "metadata": {
        "trusted": true
      },
      "outputs": [],
      "execution_count": 13
    },
    {
      "cell_type": "markdown",
      "source": "---\n",
      "metadata": {}
    },
    {
      "cell_type": "markdown",
      "source": "# Test Environment\n",
      "metadata": {}
    },
    {
      "cell_type": "code",
      "source": "# Keep appending the code generated to this cell, or add more cells below this to execute in parts\n",
      "metadata": {
        "trusted": true
      },
      "outputs": [],
      "execution_count": 14
    },
    {
      "cell_type": "markdown",
      "source": "## Authors\n",
      "metadata": {}
    },
    {
      "cell_type": "markdown",
      "source": "[Abhishek Gagneja](https://www.linkedin.com/in/abhishek-gagneja-23051987/)\n",
      "metadata": {}
    },
    {
      "cell_type": "markdown",
      "source": "## Change Log\n",
      "metadata": {}
    },
    {
      "cell_type": "markdown",
      "source": "|Date (YYYY-MM-DD)|Version|Changed By|Change Description|\n|-|-|-|-|\n|2023-12-10|0.1|Abhishek Gagneja|Initial Draft created|\n",
      "metadata": {}
    },
    {
      "cell_type": "markdown",
      "source": "Copyright © 2023 IBM Corporation. All rights reserved.\n",
      "metadata": {}
    }
  ]
}