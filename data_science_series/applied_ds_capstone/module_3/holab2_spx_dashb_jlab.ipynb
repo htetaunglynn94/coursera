{
 "cells": [
  {
   "cell_type": "markdown",
   "id": "861ea57a-a980-4a06-abf1-aa802e4cfc3e",
   "metadata": {},
   "source": [
    "# Build a Dashboard Application with Plotly Dash"
   ]
  },
  {
   "cell_type": "code",
   "execution_count": 2,
   "id": "e71886dc-ec28-46f3-906e-644758f18644",
   "metadata": {},
   "outputs": [
    {
     "name": "stdout",
     "output_type": "stream",
     "text": [
      "Requirement already satisfied: dash in /home/htetaunglynn/anaconda3/lib/python3.9/site-packages (2.17.1)\n",
      "Requirement already satisfied: Flask<3.1,>=1.0.4 in /home/htetaunglynn/anaconda3/lib/python3.9/site-packages (from dash) (1.1.2)\n",
      "Requirement already satisfied: nest-asyncio in /home/htetaunglynn/anaconda3/lib/python3.9/site-packages (from dash) (1.5.5)\n",
      "Requirement already satisfied: dash-html-components==2.0.0 in /home/htetaunglynn/anaconda3/lib/python3.9/site-packages (from dash) (2.0.0)\n",
      "Requirement already satisfied: typing-extensions>=4.1.1 in /home/htetaunglynn/anaconda3/lib/python3.9/site-packages (from dash) (4.1.1)\n",
      "Requirement already satisfied: retrying in /home/htetaunglynn/anaconda3/lib/python3.9/site-packages (from dash) (1.3.4)\n",
      "Requirement already satisfied: importlib-metadata in /home/htetaunglynn/anaconda3/lib/python3.9/site-packages (from dash) (4.11.3)\n",
      "Requirement already satisfied: dash-core-components==2.0.0 in /home/htetaunglynn/anaconda3/lib/python3.9/site-packages (from dash) (2.0.0)\n",
      "Requirement already satisfied: dash-table==5.0.0 in /home/htetaunglynn/anaconda3/lib/python3.9/site-packages (from dash) (5.0.0)\n",
      "Requirement already satisfied: Werkzeug<3.1 in /home/htetaunglynn/anaconda3/lib/python3.9/site-packages (from dash) (2.0.3)\n",
      "Requirement already satisfied: requests in /home/htetaunglynn/anaconda3/lib/python3.9/site-packages (from dash) (2.27.1)\n",
      "Requirement already satisfied: setuptools in /home/htetaunglynn/anaconda3/lib/python3.9/site-packages (from dash) (61.2.0)\n",
      "Requirement already satisfied: plotly>=5.0.0 in /home/htetaunglynn/anaconda3/lib/python3.9/site-packages (from dash) (5.6.0)\n",
      "Requirement already satisfied: Jinja2>=2.10.1 in /home/htetaunglynn/anaconda3/lib/python3.9/site-packages (from Flask<3.1,>=1.0.4->dash) (3.1.4)\n",
      "Requirement already satisfied: itsdangerous>=0.24 in /home/htetaunglynn/anaconda3/lib/python3.9/site-packages (from Flask<3.1,>=1.0.4->dash) (2.0.1)\n",
      "Requirement already satisfied: click>=5.1 in /home/htetaunglynn/anaconda3/lib/python3.9/site-packages (from Flask<3.1,>=1.0.4->dash) (8.0.4)\n",
      "Requirement already satisfied: MarkupSafe>=2.0 in /home/htetaunglynn/anaconda3/lib/python3.9/site-packages (from Jinja2>=2.10.1->Flask<3.1,>=1.0.4->dash) (2.0.1)\n",
      "Requirement already satisfied: tenacity>=6.2.0 in /home/htetaunglynn/anaconda3/lib/python3.9/site-packages (from plotly>=5.0.0->dash) (8.0.1)\n",
      "Requirement already satisfied: six in /home/htetaunglynn/anaconda3/lib/python3.9/site-packages (from plotly>=5.0.0->dash) (1.16.0)\n",
      "Requirement already satisfied: zipp>=0.5 in /home/htetaunglynn/anaconda3/lib/python3.9/site-packages (from importlib-metadata->dash) (3.7.0)\n",
      "Requirement already satisfied: idna<4,>=2.5 in /home/htetaunglynn/anaconda3/lib/python3.9/site-packages (from requests->dash) (3.3)\n",
      "Requirement already satisfied: charset-normalizer~=2.0.0 in /home/htetaunglynn/anaconda3/lib/python3.9/site-packages (from requests->dash) (2.0.4)\n",
      "Requirement already satisfied: certifi>=2017.4.17 in /home/htetaunglynn/anaconda3/lib/python3.9/site-packages (from requests->dash) (2021.10.8)\n",
      "Requirement already satisfied: urllib3<1.27,>=1.21.1 in /home/htetaunglynn/anaconda3/lib/python3.9/site-packages (from requests->dash) (1.26.9)\n"
     ]
    }
   ],
   "source": [
    "!pip install dash"
   ]
  },
  {
   "cell_type": "code",
   "execution_count": 9,
   "id": "6545b6e3-ad79-48ca-bff5-29d1db5cc4ed",
   "metadata": {},
   "outputs": [
    {
     "name": "stdout",
     "output_type": "stream",
     "text": [
      "Collecting jinja2==3.0.3\n",
      "  Downloading Jinja2-3.0.3-py3-none-any.whl (133 kB)\n",
      "\u001b[K     |████████████████████████████████| 133 kB 3.6 MB/s eta 0:00:01\n",
      "\u001b[?25hRequirement already satisfied: MarkupSafe>=2.0 in /home/htetaunglynn/anaconda3/lib/python3.9/site-packages (from jinja2==3.0.3) (2.1.5)\n",
      "Installing collected packages: jinja2\n",
      "  Attempting uninstall: jinja2\n",
      "    Found existing installation: jinja2 3.1.4\n",
      "    Uninstalling jinja2-3.1.4:\n",
      "      Successfully uninstalled jinja2-3.1.4\n",
      "\u001b[31mERROR: pip's dependency resolver does not currently take into account all the packages that are installed. This behaviour is the source of the following dependency conflicts.\n",
      "anaconda-project 0.10.2 requires ruamel-yaml, which is not installed.\n",
      "flask 3.0.3 requires Jinja2>=3.1.2, but you have jinja2 3.0.3 which is incompatible.\u001b[0m\n",
      "Successfully installed jinja2-3.0.3\n"
     ]
    }
   ],
   "source": [
    "!pip install jinja2==3.0.3"
   ]
  },
  {
   "cell_type": "code",
   "execution_count": 1,
   "id": "d6cfa05c-6b7a-4386-a387-a4d8f4cec29a",
   "metadata": {
    "tags": []
   },
   "outputs": [],
   "source": [
    "# Import required libraries\n",
    "import pandas as pd\n",
    "import dash\n",
    "from dash import html\n",
    "from dash import dcc\n",
    "# import dash_html_components as html\n",
    "# import dash_core_components as dcc\n",
    "from dash.dependencies import Input, Output\n",
    "import plotly.express as px"
   ]
  },
  {
   "cell_type": "code",
   "execution_count": 2,
   "id": "052a37fd-8640-4276-8258-1f82a60605a3",
   "metadata": {},
   "outputs": [
    {
     "data": {
      "text/html": [
       "<div>\n",
       "<style scoped>\n",
       "    .dataframe tbody tr th:only-of-type {\n",
       "        vertical-align: middle;\n",
       "    }\n",
       "\n",
       "    .dataframe tbody tr th {\n",
       "        vertical-align: top;\n",
       "    }\n",
       "\n",
       "    .dataframe thead th {\n",
       "        text-align: right;\n",
       "    }\n",
       "</style>\n",
       "<table border=\"1\" class=\"dataframe\">\n",
       "  <thead>\n",
       "    <tr style=\"text-align: right;\">\n",
       "      <th></th>\n",
       "      <th>Unnamed: 0</th>\n",
       "      <th>Flight Number</th>\n",
       "      <th>Launch Site</th>\n",
       "      <th>class</th>\n",
       "      <th>Payload Mass (kg)</th>\n",
       "      <th>Booster Version</th>\n",
       "      <th>Booster Version Category</th>\n",
       "    </tr>\n",
       "  </thead>\n",
       "  <tbody>\n",
       "    <tr>\n",
       "      <th>0</th>\n",
       "      <td>0</td>\n",
       "      <td>1</td>\n",
       "      <td>CCAFS LC-40</td>\n",
       "      <td>0</td>\n",
       "      <td>0.0</td>\n",
       "      <td>F9 v1.0  B0003</td>\n",
       "      <td>v1.0</td>\n",
       "    </tr>\n",
       "    <tr>\n",
       "      <th>1</th>\n",
       "      <td>1</td>\n",
       "      <td>2</td>\n",
       "      <td>CCAFS LC-40</td>\n",
       "      <td>0</td>\n",
       "      <td>0.0</td>\n",
       "      <td>F9 v1.0  B0004</td>\n",
       "      <td>v1.0</td>\n",
       "    </tr>\n",
       "    <tr>\n",
       "      <th>2</th>\n",
       "      <td>2</td>\n",
       "      <td>3</td>\n",
       "      <td>CCAFS LC-40</td>\n",
       "      <td>0</td>\n",
       "      <td>525.0</td>\n",
       "      <td>F9 v1.0  B0005</td>\n",
       "      <td>v1.0</td>\n",
       "    </tr>\n",
       "  </tbody>\n",
       "</table>\n",
       "</div>"
      ],
      "text/plain": [
       "   Unnamed: 0  Flight Number  Launch Site  class  Payload Mass (kg)  \\\n",
       "0           0              1  CCAFS LC-40      0                0.0   \n",
       "1           1              2  CCAFS LC-40      0                0.0   \n",
       "2           2              3  CCAFS LC-40      0              525.0   \n",
       "\n",
       "  Booster Version Booster Version Category  \n",
       "0  F9 v1.0  B0003                     v1.0  \n",
       "1  F9 v1.0  B0004                     v1.0  \n",
       "2  F9 v1.0  B0005                     v1.0  "
      ]
     },
     "execution_count": 2,
     "metadata": {},
     "output_type": "execute_result"
    }
   ],
   "source": [
    "url = \"https://cf-courses-data.s3.us.cloud-object-storage.appdomain.cloud/IBM-DS0321EN-SkillsNetwork/datasets/spacex_launch_dash.csv\"\n",
    "spacex_df = pd.read_csv(url)\n",
    "spacex_df.head(3)"
   ]
  },
  {
   "cell_type": "code",
   "execution_count": 3,
   "id": "abda59b1-d749-474f-921c-d411d35a8422",
   "metadata": {},
   "outputs": [
    {
     "data": {
      "text/plain": [
       "array(['v1.0', 'v1.1', 'FT', 'B4', 'B5'], dtype=object)"
      ]
     },
     "execution_count": 3,
     "metadata": {},
     "output_type": "execute_result"
    }
   ],
   "source": [
    "spacex_df['Booster Version Category'].unique()"
   ]
  },
  {
   "cell_type": "code",
   "execution_count": 4,
   "id": "64fcdfb9-bca6-427b-98a9-75162180f85c",
   "metadata": {},
   "outputs": [
    {
     "data": {
      "text/plain": [
       "['CCAFS LC-40', 'VAFB SLC-4E', 'KSC LC-39A', 'CCAFS SLC-40']"
      ]
     },
     "execution_count": 4,
     "metadata": {},
     "output_type": "execute_result"
    }
   ],
   "source": [
    "launch_Site_List = list(spacex_df['Launch Site'].unique())\n",
    "[_ for _ in launch_Site_List]"
   ]
  },
  {
   "cell_type": "code",
   "execution_count": 5,
   "id": "b4c0de66-b580-4e69-a515-e75f317a85ae",
   "metadata": {},
   "outputs": [
    {
     "data": {
      "text/plain": [
       "9600.0"
      ]
     },
     "execution_count": 5,
     "metadata": {},
     "output_type": "execute_result"
    }
   ],
   "source": [
    "max_payload = spacex_df['Payload Mass (kg)'].max()\n",
    "min_payload = spacex_df['Payload Mass (kg)'].min()\n",
    "max_payload"
   ]
  },
  {
   "cell_type": "code",
   "execution_count": 7,
   "id": "2623fd2c-8f44-4735-8ecd-d7002d263411",
   "metadata": {},
   "outputs": [
    {
     "name": "stdout",
     "output_type": "stream",
     "text": [
      "Dash app running on http://127.0.0.1:8081/\n"
     ]
    }
   ],
   "source": [
    "# Create a dash application\n",
    "app = dash.Dash(__name__)\n",
    "\n",
    "# Create an app layout\n",
    "app.layout = html.Div(children=[html.H1('SpaceX Launch Records Dashboard',\n",
    "                                        style={'textAlign': 'center', 'color': '#503D36',\n",
    "                                               'font-size': 40}),\n",
    "                                \n",
    "                                # TASK 1: Add a dropdown list to enable Launch Site selection\n",
    "                                # The default select value is for ALL sites\n",
    "                                dcc.Dropdown(id='site-dropdown',\n",
    "                                            options=[{'label':'All Sites', 'value': 'ALL'},\n",
    "                                                     *[{'label': _, 'value': _} for _ in launch_Site_List], # dropdown list using for loop\n",
    "                                                    ],\n",
    "                                            # value='site1', # placeholder ထည့်လျှင် default value ထည့်စရာမလို\n",
    "                                            placeholder='Select one option',\n",
    "                                            searchable=True,\n",
    "                                            ),\n",
    "                                html.Br(),\n",
    "\n",
    "\n",
    "                                # TASK 2: Add a pie chart to show the total successful launches count for all sites\n",
    "                                # If a specific launch site was selected, show the Success vs. Failed counts for the site\n",
    "                                html.Div(dcc.Graph(id='success-pie-chart')),\n",
    "                                html.Br(),\n",
    "\n",
    "                                html.P(\"Payload range (Kg):\"), # use for paragraph\n",
    "                                # TASK 3: Add a slider to select payload range\n",
    "                                dcc.RangeSlider(id='payload-slider',\n",
    "                                                min=min_payload,\n",
    "                                                max=max_payload + 1000,\n",
    "                                                step=1000,\n",
    "                                                marks={i: str(i) for i in range(int(min_payload), int(max_payload) + 1000, 1000)},\n",
    "                                                value = [min_payload, max_payload]),\n",
    "\n",
    "                                # TASK 4: Add a scatter chart to show the correlation between payload and launch success\n",
    "                                html.Div(dcc.Graph(id='success-payload-scatter-chart')),\n",
    "                                ])\n",
    "\n",
    "# TASK 2:\n",
    "# Add a callback function for `site-dropdown` as input, `success-pie-chart` as output\n",
    "@app.callback(Output(component_id='success-pie-chart', component_property='figure'),\n",
    "              Input(component_id='site-dropdown', component_property='value'))\n",
    "\n",
    "def get_pie_chart(entered_site):\n",
    "    if entered_site == 'ALL':\n",
    "        filtered_d = spacex_df\n",
    "        l_count = filtered_d['Launch Site'].value_counts().reset_index()\n",
    "        l_count.columns = ['Launch Site', 'Frequency']        \n",
    "        \n",
    "        fig = px.pie(filtered_d, names='Launch Site',\n",
    "                     title='Total Successful Launches by Site') \n",
    "        \n",
    "        # Show percentage and count in the labels\n",
    "        fig.update_traces(textinfo='value+percent', \n",
    "                          texttemplate='%{value} times<br>(%{percent:.2%})', # <br> used for new line instead '\\n'\n",
    "                          textposition='auto')\n",
    "        \n",
    "    else:\n",
    "        filtered_d = spacex_df[spacex_df['Launch Site'] == entered_site]\n",
    "        l_count = filtered_d['Launch Site'].value_counts().reset_index()\n",
    "        l_count.columns = ['Launch Site', 'Frequency']        \n",
    "        \n",
    "        fig = px.pie(filtered_d, names='class',\n",
    "             title=f'Total Successful Launches for Site: {entered_site}') \n",
    "        \n",
    "        # Show percentage and count in the labels\n",
    "        fig.update_traces(textinfo='percent+value', \n",
    "                          texttemplate='%{percent:.2%}<br>(%{value} times)') # <br> used for new line instead '\\n'\n",
    "        \n",
    "    return fig\n",
    "\n",
    "\n",
    "# TASK 4:\n",
    "# Add a callback function for `site-dropdown` and `payload-slider` as inputs, `success-payload-scatter-chart` as output\n",
    "@app.callback(Output(component_id='success-payload-scatter-chart', component_property='figure'),\n",
    "              Input(component_id='site-dropdown', component_property='value'),\n",
    "              Input(component_id='payload-slider', component_property='value'))\n",
    "\n",
    "def update_scatter_chart(entered_site, payload_range):\n",
    "    \n",
    "    # Filter by selected site\n",
    "    if entered_site == 'ALL':\n",
    "        filtered_df = spacex_df\n",
    "\n",
    "    else:\n",
    "        filtered_df = spacex_df[spacex_df['Launch Site'] == entered_site]\n",
    "    \n",
    "    # Filter by selected payload range\n",
    "    min_payload, max_payload = payload_range\n",
    "    filtered_df = filtered_df[(filtered_df['Payload Mass (kg)'] >= min_payload) &\n",
    "                              (filtered_df['Payload Mass (kg)'] <= max_payload)]\n",
    "    \n",
    "    # Change column type from boolean to string\n",
    "    filtered_df.loc[:,'class'] = filtered_df['class'].astype(str)\n",
    "    \n",
    "    # Create scatter plot\n",
    "    custom_colors = {'1':'green', '0':'red'}\n",
    "    \n",
    "    fig = px.scatter(filtered_df, x='Payload Mass (kg)', y='class',\n",
    "                     color='Booster Version Category',\n",
    "                     color_discrete_map=custom_colors,\n",
    "                     title=f'Payload Vs. Launch Outcomes: {entered_site}' if entered_site != 'ALL' else 'Payload Vs. Launch Outcomes')\n",
    "    fig.update_traces(marker=dict(size=10))\n",
    "    \n",
    "    return fig\n",
    "\n",
    "# Run the app\n",
    "if __name__ == '__main__':\n",
    "    app.run_server(port=8081, jupyter_mode='external')"
   ]
  },
  {
   "cell_type": "code",
   "execution_count": null,
   "id": "797c0a32-2762-44f0-8955-accaa210539b",
   "metadata": {},
   "outputs": [],
   "source": []
  }
 ],
 "metadata": {
  "kernelspec": {
   "display_name": "Python 3 (ipykernel)",
   "language": "python",
   "name": "python3"
  },
  "language_info": {
   "codemirror_mode": {
    "name": "ipython",
    "version": 3
   },
   "file_extension": ".py",
   "mimetype": "text/x-python",
   "name": "python",
   "nbconvert_exporter": "python",
   "pygments_lexer": "ipython3",
   "version": "3.9.12"
  }
 },
 "nbformat": 4,
 "nbformat_minor": 5
}
