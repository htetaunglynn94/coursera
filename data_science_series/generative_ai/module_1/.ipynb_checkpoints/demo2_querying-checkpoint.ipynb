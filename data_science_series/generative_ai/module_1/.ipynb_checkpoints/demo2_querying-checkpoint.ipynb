{
 "cells": [
  {
   "cell_type": "markdown",
   "id": "802a5b7c-1441-492c-a6e9-06ee42eac373",
   "metadata": {},
   "source": [
    "# Generative AI for Querying Databases"
   ]
  },
  {
   "cell_type": "code",
   "execution_count": 1,
   "id": "bfacb006-285b-4f0b-9af4-03ea3ea92e29",
   "metadata": {},
   "outputs": [],
   "source": [
    "import sqlite3 as sq3"
   ]
  },
  {
   "cell_type": "code",
   "execution_count": 2,
   "id": "4888301c-a6a1-4569-95b2-3c400cf5311d",
   "metadata": {},
   "outputs": [],
   "source": [
    "%load_ext sql"
   ]
  },
  {
   "cell_type": "markdown",
   "id": "dab55f82-7632-4b2c-9651-7b8b7596e89f",
   "metadata": {},
   "source": [
    "Create/connecct database namely \"heart_disease\""
   ]
  },
  {
   "cell_type": "code",
   "execution_count": 3,
   "id": "b8862c72-2391-46de-b578-85238c0aea25",
   "metadata": {},
   "outputs": [],
   "source": [
    "%sql sqlite:///heart_disease.db"
   ]
  },
  {
   "cell_type": "markdown",
   "id": "8081711b-8e1a-4eee-9791-d260e1c44fbb",
   "metadata": {},
   "source": [
    "Create table namely heart_disease"
   ]
  },
  {
   "cell_type": "code",
   "execution_count": 4,
   "id": "e05a3f5e-30f7-4200-96bd-020146af7509",
   "metadata": {},
   "outputs": [
    {
     "name": "stdout",
     "output_type": "stream",
     "text": [
      " * sqlite:///heart_disease.db\n",
      "Done.\n"
     ]
    },
    {
     "data": {
      "text/plain": [
       "[]"
      ]
     },
     "execution_count": 4,
     "metadata": {},
     "output_type": "execute_result"
    }
   ],
   "source": [
    "%%sql\n",
    "CREATE TABLE heart_disease (\n",
    "    id INTEGER PRIMARY KEY AUTOINCREMENT,\n",
    "    age INTEGER,                 -- Age in years\n",
    "    gender INTEGER,              -- Gender (1 = male; 0 = female)\n",
    "    cp INTEGER,                  -- Chest pain type (1 = typical angina; 2 = atypical angina; 3 = non-anginal pain; 4 = asymptomatic)\n",
    "    trestbps INTEGER,            -- Resting blood pressure in mm Hg\n",
    "    chol INTEGER,                -- Serum cholesterol in mg/dl\n",
    "    fbs INTEGER,                 -- Fasting blood sugar > 120 mg/dl (1 = true; 0 = false)\n",
    "    restecg INTEGER,             -- Resting electrocardiographic results (0 = normal; 1 = ST-T wave abnormality; 2 = probable/definite left ventricular hypertrophy)\n",
    "    thalach INTEGER,             -- Maximum heart rate achieved\n",
    "    exang INTEGER,               -- Exercise-induced angina (1 = yes; 0 = no)\n",
    "    oldpeak REAL,                -- ST depression induced by exercise relative to rest\n",
    "    slope INTEGER,               -- Slope of the peak exercise ST segment (1 = upsloping; 2 = flat; 3 = downsloping)\n",
    "    ca INTEGER,                  -- Number of major vessels (0-3) colored by fluoroscopy\n",
    "    thal INTEGER,                -- Thalassemia (3 = normal; 6 = fixed defect; 7 = reversible defect)\n",
    "    num INTEGER                  -- Diagnosis of heart disease (0 = < 50% diameter narrowing; 1 = > 50% diameter narrowing)             \n",
    ");"
   ]
  },
  {
   "cell_type": "markdown",
   "id": "257b7723-92a2-4c74-a285-f3e863e3443e",
   "metadata": {},
   "source": [
    "Insert values into table"
   ]
  },
  {
   "cell_type": "code",
   "execution_count": 5,
   "id": "637f48c5-d359-4526-8006-ee56cec4429d",
   "metadata": {},
   "outputs": [
    {
     "name": "stdout",
     "output_type": "stream",
     "text": [
      " * sqlite:///heart_disease.db\n",
      "10 rows affected.\n"
     ]
    },
    {
     "data": {
      "text/plain": [
       "[]"
      ]
     },
     "execution_count": 5,
     "metadata": {},
     "output_type": "execute_result"
    }
   ],
   "source": [
    "%%sql\n",
    "INSERT INTO heart_disease (age, gender, cp, trestbps, chol, fbs, restecg, thalach, exang, oldpeak, slope, ca, thal, num)\n",
    "VALUES \n",
    "(54, 1, 2, 130, 250, 0, 1, 140, 0, 1.2, 2, 0, 3, 1),\n",
    "(63, 0, 3, 145, 236, 1, 0, 150, 1, 2.3, 3, 1, 6, 1),\n",
    "(41, 1, 1, 130, 204, 0, 0, 170, 0, 1.4, 1, 2, 7, 0),\n",
    "(67, 0, 4, 160, 321, 1, 2, 125, 1, 3.1, 2, 1, 6, 1),\n",
    "(52, 1, 2, 118, 221, 0, 1, 142, 0, 0.8, 2, 3, 3, 0),\n",
    "(45, 1, 3, 132, 225, 0, 1, 156, 0, 1.5, 3, 0, 7, 1),\n",
    "(53, 0, 1, 142, 265, 0, 0, 140, 1, 2.6, 2, 0, 3, 0),\n",
    "(60, 1, 4, 130, 248, 1, 1, 132, 1, 3.0, 3, 2, 6, 1),\n",
    "(50, 1, 2, 138, 215, 0, 0, 160, 0, 0.5, 1, 0, 7, 0),\n",
    "(38, 0, 3, 120, 184, 0, 1, 155, 0, 1.0, 2, 0, 3, 0);"
   ]
  },
  {
   "cell_type": "code",
   "execution_count": 9,
   "id": "6b3067d3-8db5-4862-b762-3bfbf109bf88",
   "metadata": {},
   "outputs": [
    {
     "name": "stdout",
     "output_type": "stream",
     "text": [
      " * sqlite:///heart_disease.db\n",
      "Done.\n"
     ]
    },
    {
     "data": {
      "text/html": [
       "<table>\n",
       "    <thead>\n",
       "        <tr>\n",
       "            <th>id</th>\n",
       "            <th>age</th>\n",
       "            <th>gender</th>\n",
       "            <th>cp</th>\n",
       "            <th>trestbps</th>\n",
       "            <th>chol</th>\n",
       "            <th>fbs</th>\n",
       "            <th>restecg</th>\n",
       "            <th>thalach</th>\n",
       "            <th>exang</th>\n",
       "            <th>oldpeak</th>\n",
       "            <th>slope</th>\n",
       "            <th>ca</th>\n",
       "            <th>thal</th>\n",
       "            <th>num</th>\n",
       "        </tr>\n",
       "    </thead>\n",
       "    <tbody>\n",
       "        <tr>\n",
       "            <td>1</td>\n",
       "            <td>54</td>\n",
       "            <td>1</td>\n",
       "            <td>2</td>\n",
       "            <td>130</td>\n",
       "            <td>250</td>\n",
       "            <td>0</td>\n",
       "            <td>1</td>\n",
       "            <td>140</td>\n",
       "            <td>0</td>\n",
       "            <td>1.2</td>\n",
       "            <td>2</td>\n",
       "            <td>0</td>\n",
       "            <td>3</td>\n",
       "            <td>1</td>\n",
       "        </tr>\n",
       "        <tr>\n",
       "            <td>2</td>\n",
       "            <td>63</td>\n",
       "            <td>0</td>\n",
       "            <td>3</td>\n",
       "            <td>145</td>\n",
       "            <td>236</td>\n",
       "            <td>1</td>\n",
       "            <td>0</td>\n",
       "            <td>150</td>\n",
       "            <td>1</td>\n",
       "            <td>2.3</td>\n",
       "            <td>3</td>\n",
       "            <td>1</td>\n",
       "            <td>6</td>\n",
       "            <td>1</td>\n",
       "        </tr>\n",
       "        <tr>\n",
       "            <td>3</td>\n",
       "            <td>41</td>\n",
       "            <td>1</td>\n",
       "            <td>1</td>\n",
       "            <td>130</td>\n",
       "            <td>204</td>\n",
       "            <td>0</td>\n",
       "            <td>0</td>\n",
       "            <td>170</td>\n",
       "            <td>0</td>\n",
       "            <td>1.4</td>\n",
       "            <td>1</td>\n",
       "            <td>2</td>\n",
       "            <td>7</td>\n",
       "            <td>0</td>\n",
       "        </tr>\n",
       "        <tr>\n",
       "            <td>4</td>\n",
       "            <td>67</td>\n",
       "            <td>0</td>\n",
       "            <td>4</td>\n",
       "            <td>160</td>\n",
       "            <td>321</td>\n",
       "            <td>1</td>\n",
       "            <td>2</td>\n",
       "            <td>125</td>\n",
       "            <td>1</td>\n",
       "            <td>3.1</td>\n",
       "            <td>2</td>\n",
       "            <td>1</td>\n",
       "            <td>6</td>\n",
       "            <td>1</td>\n",
       "        </tr>\n",
       "        <tr>\n",
       "            <td>5</td>\n",
       "            <td>52</td>\n",
       "            <td>1</td>\n",
       "            <td>2</td>\n",
       "            <td>118</td>\n",
       "            <td>221</td>\n",
       "            <td>0</td>\n",
       "            <td>1</td>\n",
       "            <td>142</td>\n",
       "            <td>0</td>\n",
       "            <td>0.8</td>\n",
       "            <td>2</td>\n",
       "            <td>3</td>\n",
       "            <td>3</td>\n",
       "            <td>0</td>\n",
       "        </tr>\n",
       "        <tr>\n",
       "            <td>6</td>\n",
       "            <td>45</td>\n",
       "            <td>1</td>\n",
       "            <td>3</td>\n",
       "            <td>132</td>\n",
       "            <td>225</td>\n",
       "            <td>0</td>\n",
       "            <td>1</td>\n",
       "            <td>156</td>\n",
       "            <td>0</td>\n",
       "            <td>1.5</td>\n",
       "            <td>3</td>\n",
       "            <td>0</td>\n",
       "            <td>7</td>\n",
       "            <td>1</td>\n",
       "        </tr>\n",
       "        <tr>\n",
       "            <td>7</td>\n",
       "            <td>53</td>\n",
       "            <td>0</td>\n",
       "            <td>1</td>\n",
       "            <td>142</td>\n",
       "            <td>265</td>\n",
       "            <td>0</td>\n",
       "            <td>0</td>\n",
       "            <td>140</td>\n",
       "            <td>1</td>\n",
       "            <td>2.6</td>\n",
       "            <td>2</td>\n",
       "            <td>0</td>\n",
       "            <td>3</td>\n",
       "            <td>0</td>\n",
       "        </tr>\n",
       "        <tr>\n",
       "            <td>8</td>\n",
       "            <td>60</td>\n",
       "            <td>1</td>\n",
       "            <td>4</td>\n",
       "            <td>130</td>\n",
       "            <td>248</td>\n",
       "            <td>1</td>\n",
       "            <td>1</td>\n",
       "            <td>132</td>\n",
       "            <td>1</td>\n",
       "            <td>3.0</td>\n",
       "            <td>3</td>\n",
       "            <td>2</td>\n",
       "            <td>6</td>\n",
       "            <td>1</td>\n",
       "        </tr>\n",
       "        <tr>\n",
       "            <td>9</td>\n",
       "            <td>50</td>\n",
       "            <td>1</td>\n",
       "            <td>2</td>\n",
       "            <td>138</td>\n",
       "            <td>215</td>\n",
       "            <td>0</td>\n",
       "            <td>0</td>\n",
       "            <td>160</td>\n",
       "            <td>0</td>\n",
       "            <td>0.5</td>\n",
       "            <td>1</td>\n",
       "            <td>0</td>\n",
       "            <td>7</td>\n",
       "            <td>0</td>\n",
       "        </tr>\n",
       "        <tr>\n",
       "            <td>10</td>\n",
       "            <td>38</td>\n",
       "            <td>0</td>\n",
       "            <td>3</td>\n",
       "            <td>120</td>\n",
       "            <td>184</td>\n",
       "            <td>0</td>\n",
       "            <td>1</td>\n",
       "            <td>155</td>\n",
       "            <td>0</td>\n",
       "            <td>1.0</td>\n",
       "            <td>2</td>\n",
       "            <td>0</td>\n",
       "            <td>3</td>\n",
       "            <td>0</td>\n",
       "        </tr>\n",
       "    </tbody>\n",
       "</table>"
      ],
      "text/plain": [
       "[(1, 54, 1, 2, 130, 250, 0, 1, 140, 0, 1.2, 2, 0, 3, 1),\n",
       " (2, 63, 0, 3, 145, 236, 1, 0, 150, 1, 2.3, 3, 1, 6, 1),\n",
       " (3, 41, 1, 1, 130, 204, 0, 0, 170, 0, 1.4, 1, 2, 7, 0),\n",
       " (4, 67, 0, 4, 160, 321, 1, 2, 125, 1, 3.1, 2, 1, 6, 1),\n",
       " (5, 52, 1, 2, 118, 221, 0, 1, 142, 0, 0.8, 2, 3, 3, 0),\n",
       " (6, 45, 1, 3, 132, 225, 0, 1, 156, 0, 1.5, 3, 0, 7, 1),\n",
       " (7, 53, 0, 1, 142, 265, 0, 0, 140, 1, 2.6, 2, 0, 3, 0),\n",
       " (8, 60, 1, 4, 130, 248, 1, 1, 132, 1, 3.0, 3, 2, 6, 1),\n",
       " (9, 50, 1, 2, 138, 215, 0, 0, 160, 0, 0.5, 1, 0, 7, 0),\n",
       " (10, 38, 0, 3, 120, 184, 0, 1, 155, 0, 1.0, 2, 0, 3, 0)]"
      ]
     },
     "execution_count": 9,
     "metadata": {},
     "output_type": "execute_result"
    }
   ],
   "source": [
    "%sql select * from heart_disease;"
   ]
  },
  {
   "cell_type": "markdown",
   "id": "68853fd8-99f6-4c1d-bbc6-4fa40f55d8c3",
   "metadata": {},
   "source": [
    "### Age Distribution\n",
    "**AI Q1:** Write an SQL query to find the minimum, maximum, and average age of patients in the dataset.  \n",
    "\n",
    "**Result**  \n",
    "Certainly! Here is the SQL query to find the minimum, maximum, and average age of patients in the dataset:\n",
    "\n",
    "```sql\n",
    "SELECT \n",
    "    MIN(age) AS min_age,\n",
    "    MAX(age) AS max_age,\n",
    "    AVG(age) AS avg_age\n",
    "FROM \n",
    "    heart_disease;\n",
    "```\n",
    "\n",
    "This query will calculate the minimum, maximum, and average age of patients from the \"heart_disease_prediction_dataset\" table. You can run this query in your SQL database management system to retrieve the desired information."
   ]
  },
  {
   "cell_type": "code",
   "execution_count": 6,
   "id": "ed361eea-f53d-4dce-a49a-daeb71dc5e79",
   "metadata": {},
   "outputs": [
    {
     "name": "stdout",
     "output_type": "stream",
     "text": [
      " * sqlite:///heart_disease.db\n",
      "Done.\n"
     ]
    },
    {
     "data": {
      "text/html": [
       "<table>\n",
       "    <thead>\n",
       "        <tr>\n",
       "            <th>min_page</th>\n",
       "            <th>max_age</th>\n",
       "            <th>avg_age</th>\n",
       "        </tr>\n",
       "    </thead>\n",
       "    <tbody>\n",
       "        <tr>\n",
       "            <td>38</td>\n",
       "            <td>67</td>\n",
       "            <td>52.3</td>\n",
       "        </tr>\n",
       "    </tbody>\n",
       "</table>"
      ],
      "text/plain": [
       "[(38, 67, 52.3)]"
      ]
     },
     "execution_count": 6,
     "metadata": {},
     "output_type": "execute_result"
    }
   ],
   "source": [
    "%%sql\n",
    "select \n",
    "    min(age) as min_page, \n",
    "    max(age) as max_age, \n",
    "    avg(age) as avg_age \n",
    "from heart_disease;"
   ]
  },
  {
   "cell_type": "markdown",
   "id": "7abdbfe9-d33e-4b70-8af7-befbf6460278",
   "metadata": {},
   "source": [
    "### Gender Analysis\n",
    "**AI Q2:** Write and SQL query to count the number of male and female patients in the dataset.\n",
    "\n",
    "**Result**  \n",
    "Certainly! Here is the SQL query to count the number of male and female patients in the dataset:\n",
    "\n",
    "```sql\n",
    "SELECT \n",
    "    gender,\n",
    "    COUNT(*) AS patient_count\n",
    "FROM \n",
    "    heart_disease\n",
    "GROUP BY \n",
    "    gender;\n",
    "```\n",
    "\n",
    "This query will count the number of male and female patients in the dataset by grouping them based on the gender attribute. You can run this query in your SQL database management system to get the count of male and female patients."
   ]
  },
  {
   "cell_type": "code",
   "execution_count": 7,
   "id": "17ad4409-63ed-489c-9f32-40cb748a0206",
   "metadata": {},
   "outputs": [
    {
     "name": "stdout",
     "output_type": "stream",
     "text": [
      " * sqlite:///heart_disease.db\n",
      "Done.\n"
     ]
    },
    {
     "data": {
      "text/html": [
       "<table>\n",
       "    <thead>\n",
       "        <tr>\n",
       "            <th>gender</th>\n",
       "            <th>patient_count</th>\n",
       "        </tr>\n",
       "    </thead>\n",
       "    <tbody>\n",
       "        <tr>\n",
       "            <td>0</td>\n",
       "            <td>4</td>\n",
       "        </tr>\n",
       "        <tr>\n",
       "            <td>1</td>\n",
       "            <td>6</td>\n",
       "        </tr>\n",
       "    </tbody>\n",
       "</table>"
      ],
      "text/plain": [
       "[(0, 4), (1, 6)]"
      ]
     },
     "execution_count": 7,
     "metadata": {},
     "output_type": "execute_result"
    }
   ],
   "source": [
    "%%sql\n",
    "select gender, count(*) as patient_count\n",
    "from heart_disease\n",
    "group by gender;"
   ]
  },
  {
   "cell_type": "markdown",
   "id": "8c8743ba-7021-439b-a72f-6ef1877e8c36",
   "metadata": {},
   "source": [
    "### Chest Pain Type Frequency\n",
    "**AI Q3:** Write an SQL query to determine the frequency of each type of chest pain (typical angina, atypical angina, non-anginal pain, asymptomatic) among patients.\n",
    "\n",
    "**Result**  \n",
    "Certainly! Here is the SQL query to determine the frequency of each type of chest pain (typical angina, atypical angina, non-anginal pain, asymptomatic) among patients:\n",
    "\n",
    "```sql\n",
    "SELECT \n",
    "    cp,\n",
    "    COUNT(*) AS pain_frequency\n",
    "FROM \n",
    "    heart_disease\n",
    "GROUP BY \n",
    "    cp;\n",
    "```\n",
    "\n",
    "This query will calculate the frequency of each type of chest pain among patients by grouping them based on the cp (chest pain type) attribute. You can run this query in your SQL database management system to get the count of each type of chest pain."
   ]
  },
  {
   "cell_type": "code",
   "execution_count": 8,
   "id": "0e053b35-a213-4f2a-853b-046c39a82b4a",
   "metadata": {},
   "outputs": [
    {
     "name": "stdout",
     "output_type": "stream",
     "text": [
      " * sqlite:///heart_disease.db\n",
      "Done.\n"
     ]
    },
    {
     "data": {
      "text/html": [
       "<table>\n",
       "    <thead>\n",
       "        <tr>\n",
       "            <th>cp</th>\n",
       "            <th>pain_frequency</th>\n",
       "        </tr>\n",
       "    </thead>\n",
       "    <tbody>\n",
       "        <tr>\n",
       "            <td>1</td>\n",
       "            <td>2</td>\n",
       "        </tr>\n",
       "        <tr>\n",
       "            <td>2</td>\n",
       "            <td>3</td>\n",
       "        </tr>\n",
       "        <tr>\n",
       "            <td>3</td>\n",
       "            <td>3</td>\n",
       "        </tr>\n",
       "        <tr>\n",
       "            <td>4</td>\n",
       "            <td>2</td>\n",
       "        </tr>\n",
       "    </tbody>\n",
       "</table>"
      ],
      "text/plain": [
       "[(1, 2), (2, 3), (3, 3), (4, 2)]"
      ]
     },
     "execution_count": 8,
     "metadata": {},
     "output_type": "execute_result"
    }
   ],
   "source": [
    "%%sql\n",
    "select cp, count(*) as pain_frequency\n",
    "from heart_disease \n",
    "group by cp;"
   ]
  },
  {
   "cell_type": "markdown",
   "id": "8d2838c3-7a85-4aa3-b298-3fb81c983ae3",
   "metadata": {},
   "source": [
    "### Age Group Analysis and Target Variable\n",
    "**AI Q4:** Write an SQL query to investigate the distribution of the target variable (presence or absence of heart disease) within different age groups (e.g., 20-30, 30-40, etc.).\n",
    "\n",
    "**Result**  \n",
    "Certainly! Here is an SQL query to investigate the distribution of the target variable (presence or absence of heart disease) within different age groups:\n",
    "\n",
    "```sql\n",
    "SELECT \n",
    "    CASE \n",
    "        WHEN age BETWEEN 20 AND 30 THEN '20-30'\n",
    "        WHEN age BETWEEN 31 AND 40 THEN '31-40'\n",
    "        WHEN age BETWEEN 41 AND 50 THEN '41-50'\n",
    "        WHEN age BETWEEN 51 AND 60 THEN '51-60'\n",
    "        WHEN age BETWEEN 61 AND 70 THEN '61-70'\n",
    "        ELSE 'Above 70'\n",
    "    END AS age_group,\n",
    "    SUM(CASE WHEN num = 1 THEN 1 ELSE 0 END) AS heart_disease_count,\n",
    "    SUM(CASE WHEN num = 0 THEN 1 ELSE 0 END) AS no_heart_disease_count\n",
    "FROM \n",
    "    heart_disease_prediction_dataset\n",
    "GROUP BY \n",
    "    age_group\n",
    "ORDER BY \n",
    "    age_group;\n",
    "```\n",
    "\n",
    "This query categorizes the patients into different age groups and calculates the count of presence and absence of heart disease within each age group. You can run this query in your SQL database management system to analyze the distribution of the target variable across different age groups."
   ]
  },
  {
   "cell_type": "code",
   "execution_count": 10,
   "id": "52c70309-e765-4886-a924-e170060118f8",
   "metadata": {},
   "outputs": [
    {
     "name": "stdout",
     "output_type": "stream",
     "text": [
      " * sqlite:///heart_disease.db\n",
      "Done.\n"
     ]
    },
    {
     "data": {
      "text/html": [
       "<table>\n",
       "    <thead>\n",
       "        <tr>\n",
       "            <th>age_group</th>\n",
       "            <th>heart_disease_count</th>\n",
       "            <th>no_heart_disease_count</th>\n",
       "        </tr>\n",
       "    </thead>\n",
       "    <tbody>\n",
       "        <tr>\n",
       "            <td>31-40</td>\n",
       "            <td>0</td>\n",
       "            <td>1</td>\n",
       "        </tr>\n",
       "        <tr>\n",
       "            <td>41-50</td>\n",
       "            <td>1</td>\n",
       "            <td>2</td>\n",
       "        </tr>\n",
       "        <tr>\n",
       "            <td>51-60</td>\n",
       "            <td>2</td>\n",
       "            <td>2</td>\n",
       "        </tr>\n",
       "        <tr>\n",
       "            <td>61-70</td>\n",
       "            <td>2</td>\n",
       "            <td>0</td>\n",
       "        </tr>\n",
       "    </tbody>\n",
       "</table>"
      ],
      "text/plain": [
       "[('31-40', 0, 1), ('41-50', 1, 2), ('51-60', 2, 2), ('61-70', 2, 0)]"
      ]
     },
     "execution_count": 10,
     "metadata": {},
     "output_type": "execute_result"
    }
   ],
   "source": [
    "%%sql\n",
    "select\n",
    "    case\n",
    "        when age between 20 and 30 then '20-30'\n",
    "        when age between 31 and 40 then '31-40'\n",
    "        when age between 41 and 50 then '41-50'\n",
    "        when age between 51 and 60 then '51-60'\n",
    "        when age between 61 and 70 then '61-70'\n",
    "        else 'Above 70'\n",
    "    end as age_group,\n",
    "    sum(case when num = 1 then 1 else 0 end) as heart_disease_count,\n",
    "    sum(case when num = 0 then 1 else 0 end) as no_heart_disease_count\n",
    "from \n",
    "    heart_disease\n",
    "group by \n",
    "    age_group\n",
    "order by \n",
    "    age_group;"
   ]
  },
  {
   "cell_type": "markdown",
   "id": "089f471f-089e-4c81-8913-756d8d325634",
   "metadata": {
    "tags": []
   },
   "source": [
    "### P1. Cholesterol Range\n",
    "**AI P1:** Find the range of cholesterol levels among patients (minimum, maximum).\n",
    "\n",
    "**Result**  \n",
    "Certainly! Here is an SQL query to find the range of cholesterol levels among patients (minimum, maximum):\n",
    "\n",
    "```sql\n",
    "SELECT \n",
    "    MIN(chol) AS min_cholesterol,\n",
    "    MAX(chol) AS max_cholesterol\n",
    "FROM \n",
    "    heart_disease_prediction_dataset;\n",
    "```\n",
    "\n",
    "This query will calculate the minimum and maximum cholesterol levels among patients in the dataset. You can run this query in your SQL database management system to retrieve the range of cholesterol levels."
   ]
  },
  {
   "cell_type": "code",
   "execution_count": null,
   "id": "d2707321-69d0-446a-9464-669182d5db6c",
   "metadata": {},
   "outputs": [],
   "source": []
  },
  {
   "cell_type": "markdown",
   "id": "0fb6580b-49c6-42b8-b841-4fd5dcb4f4e6",
   "metadata": {
    "tags": []
   },
   "source": [
    "### P2. Age Range and Gender Analysis\n",
    "**AI P2:** Determine the age range (youngest and oldest) for male and female patients separately.\n",
    "\n",
    "**Result**  \n",
    "Certainly! Here is an SQL query to determine the age range (youngest and oldest) for male and female patients separately:\n",
    "\n",
    "For Male Patients:\n",
    "```sql\n",
    "SELECT \n",
    "    'Male' AS gender,\n",
    "    MIN(age) AS youngest_age,\n",
    "    MAX(age) AS oldest_age\n",
    "FROM \n",
    "    heart_disease_prediction_dataset\n",
    "WHERE \n",
    "    gender = 1;\n",
    "```\n",
    "\n",
    "For Female Patients:\n",
    "```sql\n",
    "SELECT \n",
    "    'Female' AS gender,\n",
    "    MIN(age) AS youngest_age,\n",
    "    MAX(age) AS oldest_age\n",
    "FROM \n",
    "    heart_disease_prediction_dataset\n",
    "WHERE \n",
    "    gender = 0;\n",
    "```\n",
    "\n",
    "These queries will calculate the youngest and oldest age for male and female patients separately in the dataset. You can run these queries in your SQL database management system to determine the age range for male and female patients."
   ]
  },
  {
   "cell_type": "code",
   "execution_count": null,
   "id": "3ec99f9d-e289-4099-8485-5c0f26dc22ed",
   "metadata": {},
   "outputs": [],
   "source": []
  },
  {
   "cell_type": "markdown",
   "id": "fd6ea1aa-2b58-4cc3-9e77-3314ac056592",
   "metadata": {},
   "source": [
    "### P3. Age Group Analysis and Target Variable\n",
    "**AI P3:** Investigate the distribution of the target variable (presence or absence of heart disease) within different age groups (e.g., 20-30, 30-40, etc.).\n",
    "\n",
    "**Result**  \n",
    "Certainly! Here is an SQL query to investigate the distribution of the target variable (presence or absence of heart disease) within different age groups:\n",
    "\n",
    "```sql\n",
    "SELECT \n",
    "    CASE \n",
    "        WHEN age BETWEEN 20 AND 30 THEN '20-30'\n",
    "        WHEN age BETWEEN 31 AND 40 THEN '31-40'\n",
    "        WHEN age BETWEEN 41 AND 50 THEN '41-50'\n",
    "        WHEN age BETWEEN 51 AND 60 THEN '51-60'\n",
    "        WHEN age BETWEEN 61 AND 70 THEN '61-70'\n",
    "        ELSE 'Above 70'\n",
    "    END AS age_group,\n",
    "    SUM(CASE WHEN num = 1 THEN 1 ELSE 0 END) AS heart_disease_count,\n",
    "    SUM(CASE WHEN num = 0 THEN 1 ELSE 0 END) AS no_heart_disease_count\n",
    "FROM \n",
    "    heart_disease_prediction_dataset\n",
    "GROUP BY \n",
    "    age_group\n",
    "ORDER BY \n",
    "    age_group;\n",
    "```\n",
    "\n",
    "This query categorizes the patients into different age groups and calculates the count of presence and absence of heart disease within each age group. You can run this query in your SQL database management system to analyze the distribution of the target variable across different age groups."
   ]
  },
  {
   "cell_type": "code",
   "execution_count": null,
   "id": "c7796193-1c80-4ffe-8914-ce7b03616b5d",
   "metadata": {},
   "outputs": [],
   "source": []
  },
  {
   "cell_type": "markdown",
   "id": "a3fd9707-77e5-4f2b-a6e2-cb32b8653cbc",
   "metadata": {},
   "source": [
    "### P4. Maximum Heart Rate by Age Group\n",
    "**AI P4:** Find the maximum heart rate achieved during exercise for different age groups (e.g., 30-40, 40-50, etc.).\n",
    "\n",
    "**Result**  \n",
    "Certainly! Here is an SQL query to find the maximum heart rate achieved during exercise for different age groups:\n",
    "\n",
    "```sql\n",
    "SELECT \n",
    "    CASE \n",
    "        WHEN age BETWEEN 20 AND 30 THEN '20-30'\n",
    "        WHEN age BETWEEN 31 AND 40 THEN '31-40'\n",
    "        WHEN age BETWEEN 41 AND 50 THEN '41-50'\n",
    "        WHEN age BETWEEN 51 AND 60 THEN '51-60'\n",
    "        WHEN age BETWEEN 61 AND 70 THEN '61-70'\n",
    "        ELSE 'Above 70'\n",
    "    END AS age_group,\n",
    "    MAX(thalach) AS max_heart_rate\n",
    "FROM \n",
    "    heart_disease_prediction_dataset\n",
    "GROUP BY \n",
    "    age_group\n",
    "ORDER BY \n",
    "    age_group;\n",
    "```\n",
    "\n",
    "This query groups the patients into different age groups and calculates the maximum heart rate achieved during exercise for each age group. You can run this query in your SQL database management system to find the maximum heart rate achieved by patients in different age ranges."
   ]
  },
  {
   "cell_type": "code",
   "execution_count": null,
   "id": "07d42938-a1d8-4409-89dc-ed4e826b77f3",
   "metadata": {},
   "outputs": [],
   "source": []
  },
  {
   "cell_type": "markdown",
   "id": "b4640a8b-a40d-4d31-bcfe-febd8d53a3b4",
   "metadata": {},
   "source": [
    "### P5. Maximum Heart Rate by Age Group\n",
    "**AI P5:** Calculate the percentage of patients with fasting blood sugar greater than 120 mg/dl.\n",
    "\n",
    "**Result**  \n",
    "Certainly! Here is an SQL query to calculate the percentage of patients with fasting blood sugar greater than 120 mg/dl:\n",
    "\n",
    "```sql\n",
    "SELECT \n",
    "    (COUNT(*) * 100.0 / (SELECT COUNT(*) FROM heart_disease_prediction_dataset)) AS percentage_high_fbs\n",
    "FROM \n",
    "    heart_disease_prediction_dataset\n",
    "WHERE \n",
    "    fbs = 1;\n",
    "```\n",
    "\n",
    "This query will calculate the percentage of patients with fasting blood sugar greater than 120 mg/dl in the dataset. You can run this query in your SQL database management system to determine the percentage of patients with high fasting blood sugar levels."
   ]
  },
  {
   "cell_type": "code",
   "execution_count": null,
   "id": "33fc98ea-96df-4388-9e62-e3fa04b911f5",
   "metadata": {},
   "outputs": [],
   "source": []
  },
  {
   "cell_type": "markdown",
   "id": "73600fd4-aa95-4eab-b78e-ecdd145802fd",
   "metadata": {},
   "source": [
    "### P6. Ratio of Patients with Resting Electrocardiographic Abnormality\n",
    "**AI P6:** Find the ratio of patients with abnormal resting electrocardiographic results to those with normal results.\n",
    "\n",
    "**Result**  \n",
    "Certainly! Here is an SQL query to find the ratio of patients with abnormal resting electrocardiographic results to those with normal results:\n",
    "\n",
    "```sql\n",
    "SELECT \n",
    "    SUM(CASE WHEN restecg > 0 THEN 1 ELSE 0 END) AS abnormal_results_count,\n",
    "    SUM(CASE WHEN restecg = 0 THEN 1 ELSE 0 END) AS normal_results_count,\n",
    "    (SUM(CASE WHEN restecg > 0 THEN 1 ELSE 0 END) * 1.0 / SUM(CASE WHEN restecg = 0 THEN 1 ELSE 0 END)) AS abnormal_to_normal_ratio\n",
    "FROM \n",
    "    heart_disease_prediction_dataset;\n",
    "```\n",
    "\n",
    "This query calculates the count of patients with abnormal and normal resting electrocardiographic results and then determines the ratio of patients with abnormal results to those with normal results. You can run this query in your SQL database management system to find the desired ratio."
   ]
  },
  {
   "cell_type": "code",
   "execution_count": null,
   "id": "63583cdc-ca4c-4646-b3c3-21c0d8e4dc6d",
   "metadata": {},
   "outputs": [],
   "source": []
  },
  {
   "cell_type": "markdown",
   "id": "7bb02255-1b3a-4bcc-baf6-9ee0fe8ade51",
   "metadata": {},
   "source": [
    "### P7. Number of Patients with Reversible Thalassemia\n",
    "**AI P7:** Count the number of patients with reversible thalassemia detected by thallium stress testing.\n",
    "\n",
    "**Result**  \n",
    "Certainly! Here is an SQL query to count the number of patients with reversible thalassemia detected by thallium stress testing:\n",
    "\n",
    "```sql\n",
    "SELECT \n",
    "    COUNT(*) AS reversible_thalassemia_count\n",
    "FROM \n",
    "    heart_disease_prediction_dataset\n",
    "WHERE \n",
    "    thal = 7;\n",
    "```\n",
    "\n",
    "This query will count the number of patients with reversible thalassemia (thal = 7) detected by thallium stress testing in the dataset. You can run this query in your SQL database management system to get the count of patients with this condition."
   ]
  },
  {
   "cell_type": "code",
   "execution_count": null,
   "id": "cbcc456e-a2a0-4dfb-bf5d-577dc26744da",
   "metadata": {},
   "outputs": [],
   "source": []
  },
  {
   "cell_type": "markdown",
   "id": "21757175-c8e0-484d-adae-668db6e8f6b9",
   "metadata": {},
   "source": [
    "### P8. Average Age of Patients with Chest Pain\n",
    "**AI P8:** Calculate the average age of patients who experienced chest pain during diagnosis.\n",
    "\n",
    "**Result**  \n",
    "Certainly! Here is an SQL query to calculate the average age of patients who experienced chest pain during diagnosis:\n",
    "\n",
    "```sql\n",
    "SELECT \n",
    "    AVG(age) AS average_age\n",
    "FROM \n",
    "    heart_disease_prediction_dataset\n",
    "WHERE \n",
    "    cp IN (1, 2, 3, 4);\n",
    "```\n",
    "\n",
    "This query calculates the average age of patients who experienced chest pain during diagnosis by filtering the data based on the chest pain type (cp). You can run this query in your SQL database management system to determine the average age of patients with chest pain."
   ]
  },
  {
   "cell_type": "code",
   "execution_count": null,
   "id": "3c427f4b-5d63-431e-b9fc-7778fa879f1e",
   "metadata": {},
   "outputs": [],
   "source": []
  },
  {
   "cell_type": "markdown",
   "id": "59f21e5f-7553-4823-8df7-158528d27350",
   "metadata": {},
   "source": [
    "### P9. Distribution of Patients by Number of Major Vessels\n",
    "**AI P9:** Investigate the distribution of patients based on the number of major vessels colored by fluoroscopy (0-3).\n",
    "\n",
    "**Result**  \n",
    "Certainly! Here is an SQL query to investigate the distribution of patients based on the number of major vessels colored by fluoroscopy (0-3):\n",
    "\n",
    "```sql\n",
    "SELECT \n",
    "    ca,\n",
    "    COUNT(*) AS patients_count\n",
    "FROM \n",
    "    heart_disease_prediction_dataset\n",
    "GROUP BY \n",
    "    ca\n",
    "ORDER BY \n",
    "    ca;\n",
    "```\n",
    "\n",
    "This query will group the patients based on the number of major vessels (0-3) colored by fluoroscopy and calculate the count of patients in each group. You can run this query in your SQL database management system to analyze the distribution of patients based on the number of major vessels colored by fluoroscopy."
   ]
  },
  {
   "cell_type": "code",
   "execution_count": null,
   "id": "a634b8ce-e052-48a4-88c7-d435e88ebd0b",
   "metadata": {},
   "outputs": [],
   "source": []
  }
 ],
 "metadata": {
  "kernelspec": {
   "display_name": "Python 3 (ipykernel)",
   "language": "python",
   "name": "python3"
  },
  "language_info": {
   "codemirror_mode": {
    "name": "ipython",
    "version": 3
   },
   "file_extension": ".py",
   "mimetype": "text/x-python",
   "name": "python",
   "nbconvert_exporter": "python",
   "pygments_lexer": "ipython3",
   "version": "3.9.12"
  }
 },
 "nbformat": 4,
 "nbformat_minor": 5
}
