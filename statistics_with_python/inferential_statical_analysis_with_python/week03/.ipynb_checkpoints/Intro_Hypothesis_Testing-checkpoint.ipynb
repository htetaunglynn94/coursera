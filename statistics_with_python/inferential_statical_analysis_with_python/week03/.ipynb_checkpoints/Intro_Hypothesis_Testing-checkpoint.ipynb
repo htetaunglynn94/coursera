{
 "cells": [
  {
   "cell_type": "markdown",
   "id": "58d76aad-42a9-4638-b8d7-2a37ca465f5f",
   "metadata": {},
   "source": [
    "# Hypothesis Testing\n",
    "\n",
    "Hypothesis testing (more formally \"null hypothesis significance testing\") is a central tool of statistical inference.\n",
    "\n",
    "A formal hypothesis test involves two hypotheses, which must be stated up-front by the researcher:\n",
    "\n",
    "**Null Hypothesis: $H_0$**\n",
    "\n",
    "**Alternative Hypothesis: $H_a$**\n",
    "\n",
    "The hypothesis tests that we have discussed in lecture are:\n",
    "\n",
    "* Single population proportion test\n",
    "* Difference between two population proportions test\n",
    "* Single population mean test\n",
    "* Difference between two population means test\n",
    "\n",
    "In this tutorial, we will introduce how to carry out these hypothesis tests in Python using the Statsmodels package."
   ]
  },
  {
   "cell_type": "code",
   "execution_count": 1,
   "id": "f723abcf-1db0-4de2-915d-59f99a125907",
   "metadata": {
    "tags": []
   },
   "outputs": [],
   "source": [
    "import statsmodels.api as sm\n",
    "import numpy as np\n",
    "import pandas as pd\n",
    "import scipy.stats.distributions as dist"
   ]
  },
  {
   "cell_type": "markdown",
   "id": "222e7d50-b08b-420b-a5d2-c02c1df15b86",
   "metadata": {},
   "source": [
    "### Single population proportion test\n",
    "\n",
    "_Example:_ In previous years, 52% of parents reported a belief that social media is the cause of their teenager’s lack of sleep. Do more parents today believe that their teenager’s lack of sleep is caused by social media? \n",
    "\n",
    "**Population**: Parents with a teenager (age 13-18)  \n",
    "**Parameter of Interest**: p  \n",
    "**Null Hypothesis:** p = 0.52  \n",
    "**Alternative Hypthosis:** p > 0.52 (note that this is a one-sided test)\n",
    "\n",
    "We interview 1018 parents (who constitute an IID sample from the population of interest), and 56% of these parents report that they believe that their teenager’s lack of sleep is caused by social media.\n",
    "\n",
    "In this test, we take the null hypothesis proportion (0.52) to be a fixed, known value, not an estimate obtained from data (that therefore would be uncertain and inexact). The Statsmodels [proportions_ztest](https://www.statsmodels.org/dev/generated/statsmodels.stats.proportion.proportions_ztest.html) function returns a test statistic and corresponding p-value.  This test statistic is a Z-score, meaning that the further the test statistic falls from zero, the more evidence against the null hypothesis.  In this example, the p-value is much smaller than 0.05, and in most settings this would be considered to provide strong evidence against the null hypothesis."
   ]
  },
  {
   "cell_type": "code",
   "execution_count": 2,
   "id": "86033d89-5f28-4130-ad63-0c0e7e77b58f",
   "metadata": {
    "tags": []
   },
   "outputs": [
    {
     "data": {
      "text/plain": [
       "(2.5545334262132955, 0.005316510991822442)"
      ]
     },
     "execution_count": 2,
     "metadata": {},
     "output_type": "execute_result"
    }
   ],
   "source": [
    "n = 1018\n",
    "pnull = .52\n",
    "phat = .56\n",
    "sm.stats.proportions_ztest(count=phat * n,       # number of success (1018 * 56/100)\n",
    "                           nobs=n,               # number of trial or observations\n",
    "                           value=pnull,          # null hypothesis\n",
    "                           alternative='larger', # prop > value\n",
    "                           prop_var=.52)         # variance of proportion"
   ]
  },
  {
   "cell_type": "markdown",
   "id": "798e6ff8-1263-4ac6-a5a4-1853cd4f9c3b",
   "metadata": {},
   "source": [
    "### Difference between two population proportions test\n",
    "\n",
    "_Example:_ Is there a difference between the population proportions of parents of Black children and parents of Hispanic children who report that their child has ever had swimming lessons?\n",
    "\n",
    "**Populations**: All parents of Black children age 6-18 and all parents of Hispanic children age 6-18\\\n",
    "**Parameter of Interest**: p1 - p2, where p1 and p2 are the Black and Hispanic proportions, respectively \\\n",
    "**Null Hypothesis:** p1 - p2 = 0  \\\n",
    "**Alternative Hypthosis:** p1 - p2 $\\neq$ 0\n",
    "\n",
    "91 out of 247 (36.8%) sampled parents of Black children report that their child has had some swimming lessons.\n",
    "\n",
    "120 out of 308 (38.9%) sampled parents of Hispanic children report that their child has had some swimming lessons.\n",
    "\n",
    "The Statsmodels [test_proportions_2indep](https://www.statsmodels.org/dev/generated/statsmodels.stats.proportion.test_proportions_2indep.html) function returns a test statistic and p-value. In this example, the p-value is much greater than 0.05, so there is no evidence that the parents of Black and Hispanic children report differing levels of swimming lesson participation."
   ]
  },
  {
   "cell_type": "code",
   "execution_count": 4,
   "id": "770c4419-4f91-46cd-a547-ecb6838dc417",
   "metadata": {
    "tags": []
   },
   "outputs": [
    {
     "data": {
      "text/plain": [
       "<class 'statsmodels.stats.base.HolderTuple'>\n",
       "statistic = -0.5050754725272457\n",
       "pvalue = 0.6135058278209921\n",
       "compare = 'diff'\n",
       "method = 'agresti-caffo'\n",
       "diff = -0.021189336978810702\n",
       "ratio = 0.9456140350877192\n",
       "odds_ratio = 0.9138888888888889\n",
       "variance = 0.001703246278498637\n",
       "alternative = 'two-sided'\n",
       "value = 0\n",
       "tuple = (-0.5050754725272457, 0.6135058278209921)"
      ]
     },
     "execution_count": 4,
     "metadata": {},
     "output_type": "execute_result"
    }
   ],
   "source": [
    "sm.stats.test_proportions_2indep(count1=91,   # Count for 1st sample\n",
    "                                 nobs1=247,   # Sample size for 1st sample\n",
    "                                 count2=120,  # Count for 2nd sample\n",
    "                                 nobs2=308)   # Count for "
   ]
  },
  {
   "cell_type": "markdown",
   "id": "5d717ba1-1841-45ac-9163-672d713b7c2b",
   "metadata": {},
   "source": [
    "### Single population mean test\n",
    "\n",
    "_Research Question:_ Is the average cartwheel distance (in inches) for adults \n",
    "more than 80 inches?\n",
    "\n",
    "**Population:** All adults \\\n",
    "**Parameter of Interest:** $\\mu$, population mean cartwheel distance \\\n",
    "**Null Hypothesis:** $\\mu$ = 80 \\\n",
    "**Alternative Hypthosis:** $\\mu$ > 80 \n",
    "\n",
    "We observe data from a sample of 25 adults, who have a sample mean of 82.46 and a sample standard deviation of 15.06.  Note that the hypothesized mean of 80 is considered to be an exact value not an estimate from a dataset which would have uncertainty associated with it."
   ]
  },
  {
   "cell_type": "code",
   "execution_count": 5,
   "id": "dac5acc1-56e3-4a19-8912-644efd5e5a84",
   "metadata": {
    "tags": []
   },
   "outputs": [
    {
     "data": {
      "text/html": [
       "<div>\n",
       "<style scoped>\n",
       "    .dataframe tbody tr th:only-of-type {\n",
       "        vertical-align: middle;\n",
       "    }\n",
       "\n",
       "    .dataframe tbody tr th {\n",
       "        vertical-align: top;\n",
       "    }\n",
       "\n",
       "    .dataframe thead th {\n",
       "        text-align: right;\n",
       "    }\n",
       "</style>\n",
       "<table border=\"1\" class=\"dataframe\">\n",
       "  <thead>\n",
       "    <tr style=\"text-align: right;\">\n",
       "      <th></th>\n",
       "      <th>ID</th>\n",
       "      <th>Age</th>\n",
       "      <th>Gender</th>\n",
       "      <th>GenderGroup</th>\n",
       "      <th>Glasses</th>\n",
       "      <th>GlassesGroup</th>\n",
       "      <th>Height</th>\n",
       "      <th>Wingspan</th>\n",
       "      <th>CWDistance</th>\n",
       "      <th>Complete</th>\n",
       "      <th>CompleteGroup</th>\n",
       "      <th>Score</th>\n",
       "    </tr>\n",
       "  </thead>\n",
       "  <tbody>\n",
       "    <tr>\n",
       "      <th>0</th>\n",
       "      <td>1</td>\n",
       "      <td>56</td>\n",
       "      <td>F</td>\n",
       "      <td>1</td>\n",
       "      <td>Y</td>\n",
       "      <td>1</td>\n",
       "      <td>62.0</td>\n",
       "      <td>61.0</td>\n",
       "      <td>79</td>\n",
       "      <td>Y</td>\n",
       "      <td>1</td>\n",
       "      <td>7</td>\n",
       "    </tr>\n",
       "    <tr>\n",
       "      <th>1</th>\n",
       "      <td>2</td>\n",
       "      <td>26</td>\n",
       "      <td>F</td>\n",
       "      <td>1</td>\n",
       "      <td>Y</td>\n",
       "      <td>1</td>\n",
       "      <td>62.0</td>\n",
       "      <td>60.0</td>\n",
       "      <td>70</td>\n",
       "      <td>Y</td>\n",
       "      <td>1</td>\n",
       "      <td>8</td>\n",
       "    </tr>\n",
       "    <tr>\n",
       "      <th>2</th>\n",
       "      <td>3</td>\n",
       "      <td>33</td>\n",
       "      <td>F</td>\n",
       "      <td>1</td>\n",
       "      <td>Y</td>\n",
       "      <td>1</td>\n",
       "      <td>66.0</td>\n",
       "      <td>64.0</td>\n",
       "      <td>85</td>\n",
       "      <td>Y</td>\n",
       "      <td>1</td>\n",
       "      <td>7</td>\n",
       "    </tr>\n",
       "    <tr>\n",
       "      <th>3</th>\n",
       "      <td>4</td>\n",
       "      <td>39</td>\n",
       "      <td>F</td>\n",
       "      <td>1</td>\n",
       "      <td>N</td>\n",
       "      <td>0</td>\n",
       "      <td>64.0</td>\n",
       "      <td>63.0</td>\n",
       "      <td>87</td>\n",
       "      <td>Y</td>\n",
       "      <td>1</td>\n",
       "      <td>10</td>\n",
       "    </tr>\n",
       "    <tr>\n",
       "      <th>4</th>\n",
       "      <td>5</td>\n",
       "      <td>27</td>\n",
       "      <td>M</td>\n",
       "      <td>2</td>\n",
       "      <td>N</td>\n",
       "      <td>0</td>\n",
       "      <td>73.0</td>\n",
       "      <td>75.0</td>\n",
       "      <td>72</td>\n",
       "      <td>N</td>\n",
       "      <td>0</td>\n",
       "      <td>4</td>\n",
       "    </tr>\n",
       "  </tbody>\n",
       "</table>\n",
       "</div>"
      ],
      "text/plain": [
       "   ID  Age Gender  GenderGroup Glasses  GlassesGroup  Height  Wingspan  \\\n",
       "0   1   56      F            1       Y             1    62.0      61.0   \n",
       "1   2   26      F            1       Y             1    62.0      60.0   \n",
       "2   3   33      F            1       Y             1    66.0      64.0   \n",
       "3   4   39      F            1       N             0    64.0      63.0   \n",
       "4   5   27      M            2       N             0    73.0      75.0   \n",
       "\n",
       "   CWDistance Complete  CompleteGroup  Score  \n",
       "0          79        Y              1      7  \n",
       "1          70        Y              1      8  \n",
       "2          85        Y              1      7  \n",
       "3          87        Y              1     10  \n",
       "4          72        N              0      4  "
      ]
     },
     "execution_count": 5,
     "metadata": {},
     "output_type": "execute_result"
    }
   ],
   "source": [
    "df = pd.read_csv(\"Cartwheeldata.csv\")\n",
    "df.head()"
   ]
  },
  {
   "cell_type": "code",
   "execution_count": 6,
   "id": "a573e40f-2d14-4d07-9e1b-843f553aa22c",
   "metadata": {
    "tags": []
   },
   "outputs": [
    {
     "data": {
      "text/plain": [
       "(25, 82.48, 15.058552387264855)"
      ]
     },
     "execution_count": 6,
     "metadata": {},
     "output_type": "execute_result"
    }
   ],
   "source": [
    "n = len(df)\n",
    "mean = df[\"CWDistance\"].mean()\n",
    "sd = df[\"CWDistance\"].std()\n",
    "(n, mean, sd)"
   ]
  },
  {
   "cell_type": "markdown",
   "id": "ac6a9ded-0ab1-41e8-883b-44c67c1cf568",
   "metadata": {},
   "source": [
    "Now we can carry out a formal test of the null hypothesis, using the Statsmodels [ztest](https://www.statsmodels.org/dev/generated/statsmodels.stats.weightstats.ztest.html#statsmodels.stats.weightstats.ztest) function, which returns a test statistic and p-value.  Since the p-value is 0.21, there is no evidence that the population mean differs from 80."
   ]
  },
  {
   "cell_type": "code",
   "execution_count": 7,
   "id": "7e2c90a3-9395-43c4-a6f1-ad333a6d5ae6",
   "metadata": {
    "tags": []
   },
   "outputs": [
    {
     "data": {
      "text/plain": [
       "(0.8234523266982029, 0.20512540845395266)"
      ]
     },
     "execution_count": 7,
     "metadata": {},
     "output_type": "execute_result"
    }
   ],
   "source": [
    "sm.stats.ztest(x1=df['CWDistance'],  # 1st of the two independent samples\n",
    "               x2=None,              # 2nd of the two independent samples (default)\n",
    "              value=80,              # one sample; x1 under null hupothesis, two samples; x1_mean - x2_mean - value\n",
    "              alternative='larger')  # alternative hypothesis H_a > ??"
   ]
  },
  {
   "cell_type": "markdown",
   "id": "d0ce892a-c659-4d60-ba45-a1447de556a1",
   "metadata": {},
   "source": [
    "### Difference between two population means test\n",
    "\n",
    "_Research Question:_ Considering adults in the NHANES data, do males have greater mean Body Mass Index than females?\n",
    "\n",
    "**Population**: Adults in the NHANES data.  \n",
    "**Parameter of Interest**: $\\mu_1 - \\mu_2$, Body Mass Index.  \n",
    "**Null Hypothesis:** $\\mu_1 = \\mu_2$  \n",
    "**Alternative Hypthosis:** $\\mu_1 \\neq \\mu_2$\n",
    "\n",
    "After we collect our data, we find the following sample means and sample standard deviations:\n",
    "\n",
    "2976 Females \n",
    "$\\mu_1 = 29.94$  \n",
    "$\\sigma_1 = 7.75$  \n",
    "\n",
    "2759 Male Adults  \n",
    "$\\mu_2 = 28.78$  \n",
    "$\\sigma_2 = 6.25$  \n",
    "\n",
    "$\\mu_1 - \\mu_2 = 1.16$"
   ]
  },
  {
   "cell_type": "code",
   "execution_count": null,
   "id": "28c3f6f6-029e-4189-8011-9e66dee51910",
   "metadata": {},
   "outputs": [],
   "source": []
  }
 ],
 "metadata": {
  "kernelspec": {
   "display_name": "Python 3 (ipykernel)",
   "language": "python",
   "name": "python3"
  },
  "language_info": {
   "codemirror_mode": {
    "name": "ipython",
    "version": 3
   },
   "file_extension": ".py",
   "mimetype": "text/x-python",
   "name": "python",
   "nbconvert_exporter": "python",
   "pygments_lexer": "ipython3",
   "version": "3.11.5"
  }
 },
 "nbformat": 4,
 "nbformat_minor": 5
}
