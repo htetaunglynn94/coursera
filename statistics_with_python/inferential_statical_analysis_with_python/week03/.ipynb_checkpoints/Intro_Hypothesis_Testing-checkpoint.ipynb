{
 "cells": [
  {
   "cell_type": "markdown",
   "id": "58d76aad-42a9-4638-b8d7-2a37ca465f5f",
   "metadata": {},
   "source": [
    "# Hypothesis Testing\n",
    "\n",
    "Hypothesis testing (more formally \"null hypothesis significance testing\") is a central tool of statistical inference.\n",
    "\n",
    "A formal hypothesis test involves two hypotheses, which must be stated up-front by the researcher:\n",
    "\n",
    "**Null Hypothesis: $H_0$**\n",
    "\n",
    "**Alternative Hypothesis: $H_a$**\n",
    "\n",
    "The hypothesis tests that we have discussed in lecture are:\n",
    "\n",
    "* Single population proportion test\n",
    "* Difference between two population proportions test\n",
    "* Single population mean test\n",
    "* Difference between two population means test\n",
    "\n",
    "In this tutorial, we will introduce how to carry out these hypothesis tests in Python using the Statsmodels package."
   ]
  },
  {
   "cell_type": "code",
   "execution_count": 1,
   "id": "f723abcf-1db0-4de2-915d-59f99a125907",
   "metadata": {
    "tags": []
   },
   "outputs": [],
   "source": [
    "import statsmodels.api as sm\n",
    "import numpy as np\n",
    "import pandas as pd\n",
    "import scipy.stats.distributions as dist"
   ]
  },
  {
   "cell_type": "markdown",
   "id": "222e7d50-b08b-420b-a5d2-c02c1df15b86",
   "metadata": {},
   "source": [
    "### Single population proportion test\n",
    "\n",
    "_Example:_ In previous years, 52% of parents reported a belief that social media is the cause of their teenager’s lack of sleep. Do more parents today believe that their teenager’s lack of sleep is caused by social media? \n",
    "\n",
    "**Population**: Parents with a teenager (age 13-18)  \n",
    "**Parameter of Interest**: p  \n",
    "**Null Hypothesis:** p = 0.52  \n",
    "**Alternative Hypthosis:** p > 0.52 (note that this is a one-sided test)\n",
    "\n",
    "We interview 1018 parents (who constitute an IID sample from the population of interest), and 56% of these parents report that they believe that their teenager’s lack of sleep is caused by social media.\n",
    "\n",
    "In this test, we take the null hypothesis proportion (0.52) to be a fixed, known value, not an estimate obtained from data (that therefore would be uncertain and inexact). The Statsmodels [proportions_ztest](https://www.statsmodels.org/dev/generated/statsmodels.stats.proportion.proportions_ztest.html) function returns a test statistic and corresponding p-value.  This test statistic is a Z-score, meaning that the further the test statistic falls from zero, the more evidence against the null hypothesis.  In this example, the p-value is much smaller than 0.05, and in most settings this would be considered to provide strong evidence against the null hypothesis."
   ]
  },
  {
   "cell_type": "code",
   "execution_count": 4,
   "id": "86033d89-5f28-4130-ad63-0c0e7e77b58f",
   "metadata": {
    "tags": []
   },
   "outputs": [
    {
     "data": {
      "text/plain": [
       "(2.5545334262132955, 0.005316510991822442)"
      ]
     },
     "execution_count": 4,
     "metadata": {},
     "output_type": "execute_result"
    }
   ],
   "source": [
    "n = 1018\n",
    "pnull = .52\n",
    "phat = .56\n",
    "sm.stats.proportions_ztest(count=phat * n,       # number of success (1018 * 56/100)\n",
    "                           nobs=n,               # number of trial or observations\n",
    "                           value=pnull,          # null hypothesis\n",
    "                           alternative='larger', # prop > value\n",
    "                           prop_var=.52)         # variance of proportion"
   ]
  },
  {
   "cell_type": "markdown",
   "id": "798e6ff8-1263-4ac6-a5a4-1853cd4f9c3b",
   "metadata": {},
   "source": [
    "### Difference between two population proportions test\n",
    "\n",
    "_Example:_ Is there a difference between the population proportions of parents of Black children and parents of Hispanic children who report that their child has ever had swimming lessons?\n",
    "\n",
    "**Populations**: All parents of Black children age 6-18 and all parents of Hispanic children age 6-18\\\n",
    "**Parameter of Interest**: p1 - p2, where p1 and p2 are the Black and Hispanic proportions, respectively \\\n",
    "**Null Hypothesis:** p1 - p2 = 0  \\\n",
    "**Alternative Hypthosis:** p1 - p2 $\\neq$ 0\n",
    "\n",
    "91 out of 247 (36.8%) sampled parents of Black children report that their child has had some swimming lessons.\n",
    "\n",
    "120 out of 308 (38.9%) sampled parents of Hispanic children report that their child has had some swimming lessons.\n",
    "\n",
    "The Statsmodels [test_proportions_2indep](https://www.statsmodels.org/dev/generated/statsmodels.stats.proportion.test_proportions_2indep.html) function returns a test statistic and p-value. In this example, the p-value is much greater than 0.05, so there is no evidence that the parents of Black and Hispanic children report differing levels of swimming lesson participation."
   ]
  },
  {
   "cell_type": "code",
   "execution_count": null,
   "id": "770c4419-4f91-46cd-a547-ecb6838dc417",
   "metadata": {},
   "outputs": [],
   "source": []
  }
 ],
 "metadata": {
  "kernelspec": {
   "display_name": "Python 3 (ipykernel)",
   "language": "python",
   "name": "python3"
  },
  "language_info": {
   "codemirror_mode": {
    "name": "ipython",
    "version": 3
   },
   "file_extension": ".py",
   "mimetype": "text/x-python",
   "name": "python",
   "nbconvert_exporter": "python",
   "pygments_lexer": "ipython3",
   "version": "3.11.5"
  }
 },
 "nbformat": 4,
 "nbformat_minor": 5
}
