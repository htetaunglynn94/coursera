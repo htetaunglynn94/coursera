{
 "cells": [
  {
   "cell_type": "markdown",
   "id": "67e2c56b-3b80-432d-9243-f4ac25103f97",
   "metadata": {},
   "source": [
    "# Practice notebook for hypothesis tests using NHANES data\n",
    "\n",
    "This notebook will give you the opportunity to perform some hypothesis tests with the NHANES data that are similar to\n",
    "what was done in the week 3 case study notebook.\n",
    "\n",
    "You can enter your code into the cells that say \"enter your code here\", and you can type responses to the questions into the cells that say \"Type Markdown and Latex\".\n",
    "\n",
    "Note that most of the code that you will need to write below is very similar to code that appears in the case study notebook.  You will need to edit code from that notebook in small ways to adapt it to the prompts below.\n",
    "\n",
    "To get started, we will use the same module imports and read the data in the same way as we did in the case study:"
   ]
  },
  {
   "cell_type": "code",
   "execution_count": 1,
   "id": "1e1d3699-6c36-4d58-8e17-4b254e5474a0",
   "metadata": {
    "tags": []
   },
   "outputs": [],
   "source": [
    "%matplotlib inline\n",
    "import matplotlib.pyplot as plt\n",
    "import seaborn as sns\n",
    "import pandas as pd\n",
    "import statsmodels.api as sm\n",
    "import scipy.stats\n",
    "import numpy as np"
   ]
  },
  {
   "cell_type": "code",
   "execution_count": 2,
   "id": "b7c9eeb1-745d-45ad-934e-961a9f35d695",
   "metadata": {
    "tags": []
   },
   "outputs": [],
   "source": [
    "da = pd.read_csv(\"nhanes_2015_2016.csv\")"
   ]
  },
  {
   "cell_type": "code",
   "execution_count": 3,
   "id": "5e0d8e80-e4c9-4dab-9c1d-29b43fa8f6bc",
   "metadata": {
    "tags": []
   },
   "outputs": [
    {
     "data": {
      "text/html": [
       "<div>\n",
       "<style scoped>\n",
       "    .dataframe tbody tr th:only-of-type {\n",
       "        vertical-align: middle;\n",
       "    }\n",
       "\n",
       "    .dataframe tbody tr th {\n",
       "        vertical-align: top;\n",
       "    }\n",
       "\n",
       "    .dataframe thead th {\n",
       "        text-align: right;\n",
       "    }\n",
       "</style>\n",
       "<table border=\"1\" class=\"dataframe\">\n",
       "  <thead>\n",
       "    <tr style=\"text-align: right;\">\n",
       "      <th></th>\n",
       "      <th>SEQN</th>\n",
       "      <th>ALQ101</th>\n",
       "      <th>ALQ110</th>\n",
       "      <th>ALQ130</th>\n",
       "      <th>SMQ020</th>\n",
       "      <th>RIAGENDR</th>\n",
       "      <th>RIDAGEYR</th>\n",
       "      <th>RIDRETH1</th>\n",
       "      <th>DMDCITZN</th>\n",
       "      <th>DMDEDUC2</th>\n",
       "      <th>...</th>\n",
       "      <th>BPXSY2</th>\n",
       "      <th>BPXDI2</th>\n",
       "      <th>BMXWT</th>\n",
       "      <th>BMXHT</th>\n",
       "      <th>BMXBMI</th>\n",
       "      <th>BMXLEG</th>\n",
       "      <th>BMXARML</th>\n",
       "      <th>BMXARMC</th>\n",
       "      <th>BMXWAIST</th>\n",
       "      <th>HIQ210</th>\n",
       "    </tr>\n",
       "  </thead>\n",
       "  <tbody>\n",
       "    <tr>\n",
       "      <th>0</th>\n",
       "      <td>83732</td>\n",
       "      <td>1.0</td>\n",
       "      <td>NaN</td>\n",
       "      <td>1.0</td>\n",
       "      <td>1</td>\n",
       "      <td>1</td>\n",
       "      <td>62</td>\n",
       "      <td>3</td>\n",
       "      <td>1.0</td>\n",
       "      <td>5.0</td>\n",
       "      <td>...</td>\n",
       "      <td>124.0</td>\n",
       "      <td>64.0</td>\n",
       "      <td>94.8</td>\n",
       "      <td>184.5</td>\n",
       "      <td>27.8</td>\n",
       "      <td>43.3</td>\n",
       "      <td>43.6</td>\n",
       "      <td>35.9</td>\n",
       "      <td>101.1</td>\n",
       "      <td>2.0</td>\n",
       "    </tr>\n",
       "    <tr>\n",
       "      <th>1</th>\n",
       "      <td>83733</td>\n",
       "      <td>1.0</td>\n",
       "      <td>NaN</td>\n",
       "      <td>6.0</td>\n",
       "      <td>1</td>\n",
       "      <td>1</td>\n",
       "      <td>53</td>\n",
       "      <td>3</td>\n",
       "      <td>2.0</td>\n",
       "      <td>3.0</td>\n",
       "      <td>...</td>\n",
       "      <td>140.0</td>\n",
       "      <td>88.0</td>\n",
       "      <td>90.4</td>\n",
       "      <td>171.4</td>\n",
       "      <td>30.8</td>\n",
       "      <td>38.0</td>\n",
       "      <td>40.0</td>\n",
       "      <td>33.2</td>\n",
       "      <td>107.9</td>\n",
       "      <td>NaN</td>\n",
       "    </tr>\n",
       "    <tr>\n",
       "      <th>2</th>\n",
       "      <td>83734</td>\n",
       "      <td>1.0</td>\n",
       "      <td>NaN</td>\n",
       "      <td>NaN</td>\n",
       "      <td>1</td>\n",
       "      <td>1</td>\n",
       "      <td>78</td>\n",
       "      <td>3</td>\n",
       "      <td>1.0</td>\n",
       "      <td>3.0</td>\n",
       "      <td>...</td>\n",
       "      <td>132.0</td>\n",
       "      <td>44.0</td>\n",
       "      <td>83.4</td>\n",
       "      <td>170.1</td>\n",
       "      <td>28.8</td>\n",
       "      <td>35.6</td>\n",
       "      <td>37.0</td>\n",
       "      <td>31.0</td>\n",
       "      <td>116.5</td>\n",
       "      <td>2.0</td>\n",
       "    </tr>\n",
       "    <tr>\n",
       "      <th>3</th>\n",
       "      <td>83735</td>\n",
       "      <td>2.0</td>\n",
       "      <td>1.0</td>\n",
       "      <td>1.0</td>\n",
       "      <td>2</td>\n",
       "      <td>2</td>\n",
       "      <td>56</td>\n",
       "      <td>3</td>\n",
       "      <td>1.0</td>\n",
       "      <td>5.0</td>\n",
       "      <td>...</td>\n",
       "      <td>134.0</td>\n",
       "      <td>68.0</td>\n",
       "      <td>109.8</td>\n",
       "      <td>160.9</td>\n",
       "      <td>42.4</td>\n",
       "      <td>38.5</td>\n",
       "      <td>37.7</td>\n",
       "      <td>38.3</td>\n",
       "      <td>110.1</td>\n",
       "      <td>2.0</td>\n",
       "    </tr>\n",
       "    <tr>\n",
       "      <th>4</th>\n",
       "      <td>83736</td>\n",
       "      <td>2.0</td>\n",
       "      <td>1.0</td>\n",
       "      <td>1.0</td>\n",
       "      <td>2</td>\n",
       "      <td>2</td>\n",
       "      <td>42</td>\n",
       "      <td>4</td>\n",
       "      <td>1.0</td>\n",
       "      <td>4.0</td>\n",
       "      <td>...</td>\n",
       "      <td>114.0</td>\n",
       "      <td>54.0</td>\n",
       "      <td>55.2</td>\n",
       "      <td>164.9</td>\n",
       "      <td>20.3</td>\n",
       "      <td>37.4</td>\n",
       "      <td>36.0</td>\n",
       "      <td>27.2</td>\n",
       "      <td>80.4</td>\n",
       "      <td>2.0</td>\n",
       "    </tr>\n",
       "  </tbody>\n",
       "</table>\n",
       "<p>5 rows × 28 columns</p>\n",
       "</div>"
      ],
      "text/plain": [
       "    SEQN  ALQ101  ALQ110  ALQ130  SMQ020  RIAGENDR  RIDAGEYR  RIDRETH1  \\\n",
       "0  83732     1.0     NaN     1.0       1         1        62         3   \n",
       "1  83733     1.0     NaN     6.0       1         1        53         3   \n",
       "2  83734     1.0     NaN     NaN       1         1        78         3   \n",
       "3  83735     2.0     1.0     1.0       2         2        56         3   \n",
       "4  83736     2.0     1.0     1.0       2         2        42         4   \n",
       "\n",
       "   DMDCITZN  DMDEDUC2  ...  BPXSY2  BPXDI2  BMXWT  BMXHT  BMXBMI  BMXLEG  \\\n",
       "0       1.0       5.0  ...   124.0    64.0   94.8  184.5    27.8    43.3   \n",
       "1       2.0       3.0  ...   140.0    88.0   90.4  171.4    30.8    38.0   \n",
       "2       1.0       3.0  ...   132.0    44.0   83.4  170.1    28.8    35.6   \n",
       "3       1.0       5.0  ...   134.0    68.0  109.8  160.9    42.4    38.5   \n",
       "4       1.0       4.0  ...   114.0    54.0   55.2  164.9    20.3    37.4   \n",
       "\n",
       "   BMXARML  BMXARMC  BMXWAIST  HIQ210  \n",
       "0     43.6     35.9     101.1     2.0  \n",
       "1     40.0     33.2     107.9     NaN  \n",
       "2     37.0     31.0     116.5     2.0  \n",
       "3     37.7     38.3     110.1     2.0  \n",
       "4     36.0     27.2      80.4     2.0  \n",
       "\n",
       "[5 rows x 28 columns]"
      ]
     },
     "execution_count": 3,
     "metadata": {},
     "output_type": "execute_result"
    }
   ],
   "source": [
    "da.head()"
   ]
  },
  {
   "cell_type": "markdown",
   "id": "80461fe2-f6a0-4d5e-8ebe-1b7ed983a0c2",
   "metadata": {},
   "source": [
    "## Question 1\n",
    "\n",
    "Conduct a hypothesis test (at the 0.05 level) for the null hypothesis that the proportion of women who smoke is equal to the proportion of men who smoke."
   ]
  },
  {
   "cell_type": "code",
   "execution_count": 4,
   "id": "61b2966e-4656-4638-b2cb-0d1916607b76",
   "metadata": {
    "tags": []
   },
   "outputs": [
    {
     "data": {
      "text/plain": [
       "array([1, 2])"
      ]
     },
     "execution_count": 4,
     "metadata": {},
     "output_type": "execute_result"
    }
   ],
   "source": [
    "da.RIAGENDR.unique()"
   ]
  },
  {
   "cell_type": "code",
   "execution_count": 5,
   "id": "7b44ded8-d1af-4f73-960c-7d5efc531570",
   "metadata": {
    "tags": []
   },
   "outputs": [],
   "source": [
    "# 1 = men, 2 = women\n",
    "gender = da.RIAGENDR\n",
    "men = da[gender == 1]\n",
    "women = da[gender == 2]"
   ]
  },
  {
   "cell_type": "code",
   "execution_count": 6,
   "id": "ee44e0cb-49ea-4dc8-a470-6c9b200038f2",
   "metadata": {
    "tags": []
   },
   "outputs": [
    {
     "data": {
      "text/plain": [
       "'There are 77252 men, of whom 1413 of them are smokers'"
      ]
     },
     "execution_count": 6,
     "metadata": {},
     "output_type": "execute_result"
    }
   ],
   "source": [
    "# men smoker information\n",
    "men_smoker_count = np.sum(men.SMQ020 == 1)\n",
    "men_count = men.size\n",
    "\"There are {} men, of whom {} of them are smokers\".format(men_count, men_smoker_count)"
   ]
  },
  {
   "cell_type": "code",
   "execution_count": 7,
   "id": "cf1de2c1-76f4-416d-90c9-51dec76b1e25",
   "metadata": {
    "tags": []
   },
   "outputs": [
    {
     "data": {
      "text/plain": [
       "'There are 83328 women, of whom 906 of them are smokers'"
      ]
     },
     "execution_count": 7,
     "metadata": {},
     "output_type": "execute_result"
    }
   ],
   "source": [
    "# women smoker information\n",
    "women_smoker_count = np.sum(women.SMQ020 == 1)\n",
    "women_count = women.size\n",
    "\"There are {} women, of whom {} of them are smokers\".format(women_count, women_smoker_count)"
   ]
  },
  {
   "cell_type": "markdown",
   "id": "ae194e1b-7b55-4fa0-8f53-b69af14ddcbf",
   "metadata": {},
   "source": [
    "$\\displaystyle \\frac{\\hat p_1 - \\hat p_2}{\\text{standard error}(\\hat p)}$\n",
    "\n",
    "$\\displaystyle \\text{standard error} = \\sqrt{\\hat p (1-\\hat p) (\\frac{1}{n_1} + \\frac{1}{n_2})}$\n",
    "\n",
    "$\\displaystyle \\hat p = \\frac{(n_1 * p_1 + n_2 * p_2)}{(n_1+n_2)}$\n",
    "\n",
    "$p_1$ and $p_2$ are probabilities.\n",
    "\n",
    "$n_1$ and $n_2$ are number of population."
   ]
  },
  {
   "cell_type": "code",
   "execution_count": 8,
   "id": "8c8459a5-ac13-40c6-809a-b743ba10f03e",
   "metadata": {
    "tags": []
   },
   "outputs": [
    {
     "data": {
      "text/plain": [
       "0.00741809273546316"
      ]
     },
     "execution_count": 8,
     "metadata": {},
     "output_type": "execute_result"
    }
   ],
   "source": [
    "p1 = men_smoker_count / men_count\n",
    "p2 = women_smoker_count / women_count\n",
    "p1 - p2"
   ]
  },
  {
   "cell_type": "code",
   "execution_count": 9,
   "id": "d97cca27-7621-445a-b5fb-e9a5ac2ff4ec",
   "metadata": {},
   "outputs": [
    {
     "name": "stdout",
     "output_type": "stream",
     "text": [
      "p-hat is 0.01444\n",
      "The standard error of our measurement is 0.00060\n",
      "The z-value is 12.45\n"
     ]
    }
   ],
   "source": [
    "phat = (men_count * p1 + women_count * p2) / (men_count + women_count)\n",
    "print(\"p-hat is {:.5f}\".format(phat))\n",
    "\n",
    "se = np.sqrt(phat * (1-phat) * (1/men_count + 1/women_count))\n",
    "print(\"The standard error of our measurement is {:.5f}\".format(se))\n",
    "\n",
    "z = (p1 - p2) / se\n",
    "print(\"The z-value is {:.2f}\".format(z))"
   ]
  },
  {
   "cell_type": "code",
   "execution_count": 10,
   "id": "bcac39da-c9bc-45dd-b362-ae2752bb3663",
   "metadata": {
    "tags": []
   },
   "outputs": [
    {
     "name": "stdout",
     "output_type": "stream",
     "text": [
      "p-value is 0.000000000000000000000000000000\n"
     ]
    }
   ],
   "source": [
    "p_one_tail = 1 - scipy.stats.norm.cdf(z)\n",
    "p_two_tail = 2 * p_one_tail\n",
    "print(\"p-value is {:.30f}\".format(p_two_tail))"
   ]
  },
  {
   "cell_type": "markdown",
   "id": "2c59da43-52ef-4aa0-a936-08c59bd43def",
   "metadata": {},
   "source": [
    "__Q1a.__ Write 1-2 sentences explaining the substance of your findings to someone who does not know anything about statistical hypothesis tests."
   ]
  },
  {
   "cell_type": "markdown",
   "id": "6c8107e0-8f38-4c57-ae3b-b88e002063d5",
   "metadata": {},
   "source": [
    "__Ans:__ We have sufficient evidence to support the claim that the population proportion of men who smoke is different from the population proportion of females who smoke."
   ]
  },
  {
   "cell_type": "markdown",
   "id": "4d3de1f8-677f-4515-9419-f59cd2147311",
   "metadata": {},
   "source": [
    "__Q1b.__ Construct three 95% confidence intervals: one for the proportion of women who smoke, one for the proportion of men who smoke, and one for the difference in the rates of smoking between women and men."
   ]
  },
  {
   "cell_type": "code",
   "execution_count": 11,
   "id": "bd82d598-e11e-43f1-96d4-efc82c80379d",
   "metadata": {
    "tags": []
   },
   "outputs": [],
   "source": [
    "# It will be useful to have our z-multiplier handy beforehand for a 95% two-sided interval \n",
    "z_multiplier = scipy.stats.norm.ppf(0.975)"
   ]
  },
  {
   "cell_type": "markdown",
   "id": "23fed920-07c4-4f47-bfdc-12ecf0bfdd03",
   "metadata": {},
   "source": [
    "**Formula**\n",
    "\n",
    "$\\displaystyle CI = p1 \\pm z \\sqrt{p * \\frac{1-p}{n}}$"
   ]
  },
  {
   "cell_type": "code",
   "execution_count": 12,
   "id": "563e9489-44fd-4ffc-a6cb-9643ecd4e327",
   "metadata": {
    "tags": []
   },
   "outputs": [
    {
     "data": {
      "text/plain": [
       "'A confidence interval for the population proportion of males who smoke is from 0.017346 to 0.019236'"
      ]
     },
     "execution_count": 12,
     "metadata": {},
     "output_type": "execute_result"
    }
   ],
   "source": [
    "# CI for men\n",
    "lower_bound_males = p1 - z_multiplier * np.sqrt(p1 * (1 - p1) / men_count)\n",
    "upper_bound_males = p1 + z_multiplier * np.sqrt(p1 * (1 - p1) / men_count)\n",
    "\"A confidence interval for the population proportion of males who smoke is from {:.6f} to {:.6f}\".format(\n",
    "    lower_bound_males, \n",
    "    upper_bound_males\n",
    ")"
   ]
  },
  {
   "cell_type": "code",
   "execution_count": 13,
   "id": "8502eb91-9e87-4faf-b46e-d9fb31eac8b1",
   "metadata": {
    "tags": []
   },
   "outputs": [
    {
     "data": {
      "text/plain": [
       "'A confidence interval for the population proportion of females who smoke is from 0.010169 to 0.011577'"
      ]
     },
     "execution_count": 13,
     "metadata": {},
     "output_type": "execute_result"
    }
   ],
   "source": [
    "# CI for women\n",
    "lower_bound_females = p2 - z_multiplier * np.sqrt(p2 * (1 - p2) / women_count)\n",
    "upper_bound_females = p2 + z_multiplier * np.sqrt(p2 * (1 - p2) / women_count)\n",
    "\"A confidence interval for the population proportion of females who smoke is from {:.6f} to {:.6f}\".format(\n",
    "    lower_bound_females, \n",
    "    upper_bound_females\n",
    ")"
   ]
  },
  {
   "cell_type": "markdown",
   "id": "443e8d4f-ea8c-43a4-8cf5-fe3b8ae79955",
   "metadata": {},
   "source": [
    "**Formula**\n",
    "\n",
    "$\\displaystyle CI = (p_1 - p_2) \\pm z * \\text{standard error}$\n",
    "\n",
    "$\\displaystyle \\text{standard error} = \\sqrt{\\frac{p_1(1-p_1)}{n_1} + \\frac{p_2(1-p_2)}{n_2}}$"
   ]
  },
  {
   "cell_type": "code",
   "execution_count": 14,
   "id": "20855ab3-cefd-4055-8a0d-3b1066328796",
   "metadata": {
    "tags": []
   },
   "outputs": [
    {
     "data": {
      "text/plain": [
       "'A confidence interval for the difference in the population proportion of males and females who smoke is from 0.006240 to 0.008597'"
      ]
     },
     "execution_count": 14,
     "metadata": {},
     "output_type": "execute_result"
    }
   ],
   "source": [
    "se_diff = np.sqrt(p1 * (1-p1)/men_count + p2 * (1-p2)/women_count)\n",
    "lower_bound_difference = (p1 - p2) - z_multiplier * se_diff\n",
    "upper_bound_difference = (p1 - p2) + z_multiplier * se_diff\n",
    "\"A confidence interval for the difference in the population proportion of males and females who smoke is from {:.6f} to {:.6f}\".format(\n",
    "    lower_bound_difference, \n",
    "    upper_bound_difference\n",
    ")"
   ]
  },
  {
   "cell_type": "markdown",
   "id": "16cb30c5-bc80-4b78-9640-776d820becb9",
   "metadata": {},
   "source": [
    "__Q1c.__ Comment on any ways in which the confidence intervals that you found in part b reinforce, contradict, or add support to the hypothesis test conducted in part a."
   ]
  },
  {
   "cell_type": "markdown",
   "id": "3a530c68-94ab-4668-a837-aea8ad0e47f3",
   "metadata": {},
   "source": [
    "We can see the confidence interval for the difference between $p_1$ and $p_2$ which was from $(0.006240, 0.008597)$ does not contain zero which supports our original hypothesis that the difference is significantly different from zero. This is the same as saying $p_1$ and $p_2$ are different in a magnitude that is statistically significant. \n",
    "\n",
    "It would be incorrect to use the confidence intervals for just $p_1$ or just $p_2$ to access the significant of their difference. While it is reassuring they do not overlap, the only confidence interval that can provide evidence that $p_1$ and $p_2$ are statistically different is the confidence interval for their differences. "
   ]
  },
  {
   "cell_type": "markdown",
   "id": "110706ae-f786-4782-9b2e-51b4f3fc8859",
   "metadata": {},
   "source": [
    "## Question 2\n",
    "\n",
    "Partition the population into two groups based on whether a person has graduated college or not, using the educational attainment variable [DMDEDUC2](https://wwwn.cdc.gov/Nchs/Nhanes/2015-2016/DEMO_I.htm#DMDEDUC2).  Then conduct a test of the null hypothesis that the average heights (in centimeters) of the two groups are equal.  Next, convert the heights from centimeters to inches, and conduct a test of the null hypothesis that the average heights (in inches) of the two groups are equal."
   ]
  },
  {
   "cell_type": "code",
   "execution_count": 15,
   "id": "09d55915-e14f-4bfa-b7e9-b82c9b1524af",
   "metadata": {
    "tags": []
   },
   "outputs": [],
   "source": [
    "graduated = da[da['DMDEDUC2'] == 5]\n",
    "not_graduated = da[[x in [1,2,3,4] for x in da['DMDEDUC2']]]"
   ]
  },
  {
   "cell_type": "code",
   "execution_count": 16,
   "id": "daa30c72-0859-4900-a126-52b180e8d9e5",
   "metadata": {
    "tags": []
   },
   "outputs": [
    {
     "data": {
      "text/plain": [
       "'We have 1366 people who graduated college and 4105 who did not graduate college in our sample'"
      ]
     },
     "execution_count": 16,
     "metadata": {},
     "output_type": "execute_result"
    }
   ],
   "source": [
    "\"We have {} people who graduated college and {} who did not graduate college in our sample\".format(\n",
    "    graduated.shape[0], \n",
    "    not_graduated.shape[0])"
   ]
  },
  {
   "cell_type": "code",
   "execution_count": 17,
   "id": "4546c62f-6dab-4218-82d6-a533667f21f6",
   "metadata": {
    "tags": []
   },
   "outputs": [],
   "source": [
    "height_graduated = graduated['BMXHT'].dropna()\n",
    "height_not_graduated = not_graduated['BMXHT'].dropna()"
   ]
  },
  {
   "cell_type": "code",
   "execution_count": 18,
   "id": "7062a37a-2e07-47eb-9dc4-6805a242daec",
   "metadata": {
    "tags": []
   },
   "outputs": [],
   "source": [
    "# Make sure that we cleaned the dataset properly\n",
    "assert pd.notnull(height_graduated).all()\n",
    "assert pd.notnull(height_not_graduated).all()"
   ]
  },
  {
   "cell_type": "markdown",
   "id": "a1329eac-4610-4553-8275-25c94581f584",
   "metadata": {},
   "source": [
    "If the standard deviations are at least within 2X of each other, we can pool. Else we cannot conduct a pooled test"
   ]
  },
  {
   "cell_type": "code",
   "execution_count": 19,
   "id": "c3b356e5-43b4-4936-97f8-474acd026586",
   "metadata": {
    "tags": []
   },
   "outputs": [
    {
     "data": {
      "text/plain": [
       "'The standard deviation of college grad heights is: 9.705'"
      ]
     },
     "metadata": {},
     "output_type": "display_data"
    },
    {
     "data": {
      "text/plain": [
       "'The standard deviation of non college grad heights is: 10.174'"
      ]
     },
     "metadata": {},
     "output_type": "display_data"
    }
   ],
   "source": [
    "sd_grad_heights = np.std(height_graduated, ddof=1)       # N - ddof = degree of freedom\n",
    "sd_ngrad_heights = np.std(height_not_graduated, ddof=1)  # N - ddof = degree of freedom\n",
    "\n",
    "display(\"The standard deviation of college grad heights is: {:.3f}\".format(sd_grad_heights))\n",
    "display(\"The standard deviation of non college grad heights is: {:.3f}\".format(sd_ngrad_heights))"
   ]
  },
  {
   "cell_type": "code",
   "execution_count": 20,
   "id": "b8778e1b-c159-4bda-8bf9-8bbf14fedf90",
   "metadata": {
    "tags": []
   },
   "outputs": [],
   "source": [
    "# Since the standard deviations are so close (10.174 / 9.705 < 2), we can conduct a pooled \n",
    "# t-test for the differences in the means\n",
    "\n",
    "# It is handy to have some general things computed about the two groups before we begin\n",
    "n_college = graduated.shape[0]\n",
    "n_no_college = not_graduated.shape[0]"
   ]
  },
  {
   "cell_type": "code",
   "execution_count": null,
   "id": "a779cc04-d801-4eff-af49-5dd495af1a1e",
   "metadata": {},
   "outputs": [],
   "source": []
  }
 ],
 "metadata": {
  "kernelspec": {
   "display_name": "Python 3 (ipykernel)",
   "language": "python",
   "name": "python3"
  },
  "language_info": {
   "codemirror_mode": {
    "name": "ipython",
    "version": 3
   },
   "file_extension": ".py",
   "mimetype": "text/x-python",
   "name": "python",
   "nbconvert_exporter": "python",
   "pygments_lexer": "ipython3",
   "version": "3.11.5"
  }
 },
 "nbformat": 4,
 "nbformat_minor": 5
}
