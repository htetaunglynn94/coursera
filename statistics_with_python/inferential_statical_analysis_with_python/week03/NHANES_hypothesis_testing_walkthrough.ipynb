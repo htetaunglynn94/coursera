{
 "cells": [
  {
   "cell_type": "markdown",
   "id": "130d9bbc-adc1-4bdc-bcf4-7fab4e59c0a5",
   "metadata": {},
   "source": [
    "# Hypothesis Testing\n",
    "\n",
    "In this notebook we demonstrate formal hypothesis testing using the NHANES data.\n",
    "\n",
    "It is important to note that the NHANES data are a \"complex survey\".  The data are not an independent and representative sample from the target population.  Proper analysis of complex survey data should make use of additional information about how the data were collected.  Since complex survey analysis is a somewhat specialized topic, we ignore this aspect of the data here, and analyze the NHANES data as if it were an independent and identically distributed sample from a population."
   ]
  },
  {
   "cell_type": "code",
   "execution_count": 1,
   "id": "3d358a47-3c18-4c7c-be33-48a22a3597b3",
   "metadata": {
    "tags": []
   },
   "outputs": [],
   "source": [
    "import pandas as pd\n",
    "import numpy as np\n",
    "import seaborn as sns\n",
    "import matplotlib.pyplot as plt\n",
    "import statsmodels.api as sm\n",
    "import scipy.stats.distributions as dist"
   ]
  },
  {
   "cell_type": "code",
   "execution_count": 2,
   "id": "07175982-78a8-49a9-9222-66c35ef75285",
   "metadata": {
    "tags": []
   },
   "outputs": [
    {
     "data": {
      "text/html": [
       "<div>\n",
       "<style scoped>\n",
       "    .dataframe tbody tr th:only-of-type {\n",
       "        vertical-align: middle;\n",
       "    }\n",
       "\n",
       "    .dataframe tbody tr th {\n",
       "        vertical-align: top;\n",
       "    }\n",
       "\n",
       "    .dataframe thead th {\n",
       "        text-align: right;\n",
       "    }\n",
       "</style>\n",
       "<table border=\"1\" class=\"dataframe\">\n",
       "  <thead>\n",
       "    <tr style=\"text-align: right;\">\n",
       "      <th></th>\n",
       "      <th>SEQN</th>\n",
       "      <th>ALQ101</th>\n",
       "      <th>ALQ110</th>\n",
       "      <th>ALQ130</th>\n",
       "      <th>SMQ020</th>\n",
       "      <th>RIAGENDR</th>\n",
       "      <th>RIDAGEYR</th>\n",
       "      <th>RIDRETH1</th>\n",
       "      <th>DMDCITZN</th>\n",
       "      <th>DMDEDUC2</th>\n",
       "      <th>...</th>\n",
       "      <th>BPXSY2</th>\n",
       "      <th>BPXDI2</th>\n",
       "      <th>BMXWT</th>\n",
       "      <th>BMXHT</th>\n",
       "      <th>BMXBMI</th>\n",
       "      <th>BMXLEG</th>\n",
       "      <th>BMXARML</th>\n",
       "      <th>BMXARMC</th>\n",
       "      <th>BMXWAIST</th>\n",
       "      <th>HIQ210</th>\n",
       "    </tr>\n",
       "  </thead>\n",
       "  <tbody>\n",
       "    <tr>\n",
       "      <th>0</th>\n",
       "      <td>83732</td>\n",
       "      <td>1.0</td>\n",
       "      <td>NaN</td>\n",
       "      <td>1.0</td>\n",
       "      <td>1</td>\n",
       "      <td>1</td>\n",
       "      <td>62</td>\n",
       "      <td>3</td>\n",
       "      <td>1.0</td>\n",
       "      <td>5.0</td>\n",
       "      <td>...</td>\n",
       "      <td>124.0</td>\n",
       "      <td>64.0</td>\n",
       "      <td>94.8</td>\n",
       "      <td>184.5</td>\n",
       "      <td>27.8</td>\n",
       "      <td>43.3</td>\n",
       "      <td>43.6</td>\n",
       "      <td>35.9</td>\n",
       "      <td>101.1</td>\n",
       "      <td>2.0</td>\n",
       "    </tr>\n",
       "    <tr>\n",
       "      <th>1</th>\n",
       "      <td>83733</td>\n",
       "      <td>1.0</td>\n",
       "      <td>NaN</td>\n",
       "      <td>6.0</td>\n",
       "      <td>1</td>\n",
       "      <td>1</td>\n",
       "      <td>53</td>\n",
       "      <td>3</td>\n",
       "      <td>2.0</td>\n",
       "      <td>3.0</td>\n",
       "      <td>...</td>\n",
       "      <td>140.0</td>\n",
       "      <td>88.0</td>\n",
       "      <td>90.4</td>\n",
       "      <td>171.4</td>\n",
       "      <td>30.8</td>\n",
       "      <td>38.0</td>\n",
       "      <td>40.0</td>\n",
       "      <td>33.2</td>\n",
       "      <td>107.9</td>\n",
       "      <td>NaN</td>\n",
       "    </tr>\n",
       "    <tr>\n",
       "      <th>2</th>\n",
       "      <td>83734</td>\n",
       "      <td>1.0</td>\n",
       "      <td>NaN</td>\n",
       "      <td>NaN</td>\n",
       "      <td>1</td>\n",
       "      <td>1</td>\n",
       "      <td>78</td>\n",
       "      <td>3</td>\n",
       "      <td>1.0</td>\n",
       "      <td>3.0</td>\n",
       "      <td>...</td>\n",
       "      <td>132.0</td>\n",
       "      <td>44.0</td>\n",
       "      <td>83.4</td>\n",
       "      <td>170.1</td>\n",
       "      <td>28.8</td>\n",
       "      <td>35.6</td>\n",
       "      <td>37.0</td>\n",
       "      <td>31.0</td>\n",
       "      <td>116.5</td>\n",
       "      <td>2.0</td>\n",
       "    </tr>\n",
       "    <tr>\n",
       "      <th>3</th>\n",
       "      <td>83735</td>\n",
       "      <td>2.0</td>\n",
       "      <td>1.0</td>\n",
       "      <td>1.0</td>\n",
       "      <td>2</td>\n",
       "      <td>2</td>\n",
       "      <td>56</td>\n",
       "      <td>3</td>\n",
       "      <td>1.0</td>\n",
       "      <td>5.0</td>\n",
       "      <td>...</td>\n",
       "      <td>134.0</td>\n",
       "      <td>68.0</td>\n",
       "      <td>109.8</td>\n",
       "      <td>160.9</td>\n",
       "      <td>42.4</td>\n",
       "      <td>38.5</td>\n",
       "      <td>37.7</td>\n",
       "      <td>38.3</td>\n",
       "      <td>110.1</td>\n",
       "      <td>2.0</td>\n",
       "    </tr>\n",
       "    <tr>\n",
       "      <th>4</th>\n",
       "      <td>83736</td>\n",
       "      <td>2.0</td>\n",
       "      <td>1.0</td>\n",
       "      <td>1.0</td>\n",
       "      <td>2</td>\n",
       "      <td>2</td>\n",
       "      <td>42</td>\n",
       "      <td>4</td>\n",
       "      <td>1.0</td>\n",
       "      <td>4.0</td>\n",
       "      <td>...</td>\n",
       "      <td>114.0</td>\n",
       "      <td>54.0</td>\n",
       "      <td>55.2</td>\n",
       "      <td>164.9</td>\n",
       "      <td>20.3</td>\n",
       "      <td>37.4</td>\n",
       "      <td>36.0</td>\n",
       "      <td>27.2</td>\n",
       "      <td>80.4</td>\n",
       "      <td>2.0</td>\n",
       "    </tr>\n",
       "  </tbody>\n",
       "</table>\n",
       "<p>5 rows × 28 columns</p>\n",
       "</div>"
      ],
      "text/plain": [
       "    SEQN  ALQ101  ALQ110  ALQ130  SMQ020  RIAGENDR  RIDAGEYR  RIDRETH1  \\\n",
       "0  83732     1.0     NaN     1.0       1         1        62         3   \n",
       "1  83733     1.0     NaN     6.0       1         1        53         3   \n",
       "2  83734     1.0     NaN     NaN       1         1        78         3   \n",
       "3  83735     2.0     1.0     1.0       2         2        56         3   \n",
       "4  83736     2.0     1.0     1.0       2         2        42         4   \n",
       "\n",
       "   DMDCITZN  DMDEDUC2  ...  BPXSY2  BPXDI2  BMXWT  BMXHT  BMXBMI  BMXLEG  \\\n",
       "0       1.0       5.0  ...   124.0    64.0   94.8  184.5    27.8    43.3   \n",
       "1       2.0       3.0  ...   140.0    88.0   90.4  171.4    30.8    38.0   \n",
       "2       1.0       3.0  ...   132.0    44.0   83.4  170.1    28.8    35.6   \n",
       "3       1.0       5.0  ...   134.0    68.0  109.8  160.9    42.4    38.5   \n",
       "4       1.0       4.0  ...   114.0    54.0   55.2  164.9    20.3    37.4   \n",
       "\n",
       "   BMXARML  BMXARMC  BMXWAIST  HIQ210  \n",
       "0     43.6     35.9     101.1     2.0  \n",
       "1     40.0     33.2     107.9     NaN  \n",
       "2     37.0     31.0     116.5     2.0  \n",
       "3     37.7     38.3     110.1     2.0  \n",
       "4     36.0     27.2      80.4     2.0  \n",
       "\n",
       "[5 rows x 28 columns]"
      ]
     },
     "execution_count": 2,
     "metadata": {},
     "output_type": "execute_result"
    }
   ],
   "source": [
    "da = pd.read_csv('nhanes_2015_2016.csv')\n",
    "da.head()"
   ]
  },
  {
   "cell_type": "code",
   "execution_count": 3,
   "id": "4b1d3a1f-5f7d-496b-a9a8-31debc27be59",
   "metadata": {
    "tags": []
   },
   "outputs": [
    {
     "data": {
      "text/plain": [
       "0    Yes\n",
       "1    Yes\n",
       "2    Yes\n",
       "3     No\n",
       "4     No\n",
       "Name: SMQ020x, dtype: object"
      ]
     },
     "execution_count": 3,
     "metadata": {},
     "output_type": "execute_result"
    }
   ],
   "source": [
    "da['SMQ020x'] = da.SMQ020.replace({\n",
    "                        1: 'Yes',\n",
    "                        2: 'No',\n",
    "                        7: np.nan,\n",
    "                        9: np.nan})\n",
    "da['SMQ020x'].head()"
   ]
  },
  {
   "cell_type": "code",
   "execution_count": 4,
   "id": "b8772e39-4064-4015-872d-043116d5ad7c",
   "metadata": {
    "tags": []
   },
   "outputs": [
    {
     "data": {
      "text/plain": [
       "0      Male\n",
       "1      Male\n",
       "2      Male\n",
       "3    Female\n",
       "4    Female\n",
       "Name: RIAGENDRx, dtype: object"
      ]
     },
     "execution_count": 4,
     "metadata": {},
     "output_type": "execute_result"
    }
   ],
   "source": [
    "da['RIAGENDRx'] = da.RIAGENDR.replace({\n",
    "                        1: 'Male',\n",
    "                        2: 'Female'})\n",
    "da['RIAGENDRx'].head()"
   ]
  },
  {
   "cell_type": "markdown",
   "id": "0c8d0ad5-7804-492c-9690-f3bb76f61698",
   "metadata": {},
   "source": [
    "### Hypothesis Tests for One Proportion\n",
    "\n",
    "The most basic hypothesis test may be the one-sample test for a proportion.  This test is used if we have specified a particular value as the null value for the proportion, and we wish to assess if the data are compatible with the true parameter value being equal to this specified value.  One-sample tests <ins>**are not used very often in practice**</ins>, because it is not very common that we have a specific fixed value to use for comparison. For illustration, imagine that the rate of lifetime smoking in another country was known to be 40%, and we wished to assess whether the rate of lifetime smoking in the US were different from 40%.  In the following notebook cell, we carry out the (two-sided) one-sample test that the population proportion of smokers is 0.4, and obtain a p-value of 0.43.  This indicates that the NHANES data are compatible with the proportion of (ever) smokers in the US being 40%. "
   ]
  },
  {
   "cell_type": "code",
   "execution_count": 5,
   "id": "e7d9ba5d-29f8-49ee-8dfa-c71ea998a1d1",
   "metadata": {
    "tags": []
   },
   "outputs": [
    {
     "data": {
      "text/plain": [
       "((5735,), (5725,), (5725,))"
      ]
     },
     "execution_count": 5,
     "metadata": {},
     "output_type": "execute_result"
    }
   ],
   "source": [
    "da.SMQ020x.shape, da.SMQ020x.dropna().shape,  (da.SMQ020x.dropna() == 'Yes').shape"
   ]
  },
  {
   "cell_type": "code",
   "execution_count": 6,
   "id": "b85f2e3c-7728-4744-b8c7-71071ceb2cf0",
   "metadata": {
    "tags": []
   },
   "outputs": [],
   "source": [
    "x = da.SMQ020x.dropna() == 'Yes'"
   ]
  },
  {
   "cell_type": "code",
   "execution_count": 7,
   "id": "973e8b85-097b-4f18-a0dc-a7d87d2c0b50",
   "metadata": {
    "tags": []
   },
   "outputs": [
    {
     "data": {
      "text/plain": [
       "0.4050655021834061"
      ]
     },
     "execution_count": 7,
     "metadata": {},
     "output_type": "execute_result"
    }
   ],
   "source": [
    "p = x.mean()\n",
    "p"
   ]
  },
  {
   "cell_type": "code",
   "execution_count": 8,
   "id": "087ce926-7a17-4d75-883c-f6b246f6027d",
   "metadata": {
    "tags": []
   },
   "outputs": [
    {
     "data": {
      "text/plain": [
       "0.00647467353462031"
      ]
     },
     "execution_count": 8,
     "metadata": {},
     "output_type": "execute_result"
    }
   ],
   "source": [
    "# Std error = sqrt((p * (1-p)/n))\n",
    "se = np.sqrt(.4 * (1 - .4)/ len(x))\n",
    "se"
   ]
  },
  {
   "cell_type": "code",
   "execution_count": 9,
   "id": "498cb1e6-29e3-4d6c-85f6-4f0e392f005a",
   "metadata": {
    "tags": []
   },
   "outputs": [
    {
     "data": {
      "text/plain": [
       "0.7823563854332805"
      ]
     },
     "execution_count": 9,
     "metadata": {},
     "output_type": "execute_result"
    }
   ],
   "source": [
    "test_stat = (p - 0.4) / se\n",
    "test_stat"
   ]
  },
  {
   "cell_type": "code",
   "execution_count": 10,
   "id": "a02e81f1-4865-40ff-89d2-fc9064f20c1c",
   "metadata": {
    "tags": []
   },
   "outputs": [
    {
     "data": {
      "text/plain": [
       "2.33"
      ]
     },
     "execution_count": 10,
     "metadata": {},
     "output_type": "execute_result"
    }
   ],
   "source": [
    "np.abs(-2.33)"
   ]
  },
  {
   "cell_type": "code",
   "execution_count": 11,
   "id": "769fa35f-18a0-4b03-be89-c898062ca1db",
   "metadata": {
    "tags": []
   },
   "outputs": [
    {
     "name": "stdout",
     "output_type": "stream",
     "text": [
      "0.7823563854332805 0.4340051581348052\n"
     ]
    }
   ],
   "source": [
    "# Normal continuous random variable (cumulative distribution function)\n",
    "pvalue = 2 * dist.norm.cdf(-np.abs(test_stat))\n",
    "print(test_stat, pvalue)"
   ]
  },
  {
   "cell_type": "markdown",
   "id": "a02095a2-b7e6-488d-8df3-47b308f69664",
   "metadata": {},
   "source": [
    "The following cell carries out the same test as performed above using the Statsmodels library.  The results in the first (default) case below are slightly different from the results obtained above because Statsmodels by default uses the sample proportion instead of the null proportion when computing the standard error.  This distinction is rarely consequential, but we can specify that the null proportion should be used to calculate the standard error, and the results agree exactly with what we calculated above.  The first two lines below carry out tests using the normal approximation to the sampling distribution of the test statistic, and the third line below carries uses the exact binomial sampling distribution.  We can see here that the p-values are nearly identical in all three cases. This is expected when the sample size is large, and the proportion is not close to either 0 or 1."
   ]
  },
  {
   "cell_type": "code",
   "execution_count": 14,
   "id": "c731f626-732c-43b4-b8ca-7179a2a0258e",
   "metadata": {},
   "outputs": [
    {
     "name": "stdout",
     "output_type": "stream",
     "text": [
      "(0.7807518954896244, 0.43494843171868214)\n",
      "(0.7823563854332805, 0.4340051581348052)\n",
      "0.4340360854410028\n"
     ]
    }
   ],
   "source": [
    "# Prints test statistic, p-value\n",
    "print(sm.stats.proportions_ztest(count = x.sum(),  # number of success\n",
    "                                 nobs = len(x),    # number of trials or observations\n",
    "                                 value=.4))        # the value of the null hypothesis\n",
    "# Normal approximation with extimated proportion in SE\n",
    "\n",
    "print(sm.stats.proportions_ztest(count = x.sum(),   # number of successs\n",
    "                                 nobs = len(x),     # number of trials or observations\n",
    "                                 value = .4,        # the value of the null hypothesis\n",
    "                                 prop_var=.4))      # variance of the proportion\n",
    "# Normal approximation with null proportion in SE\n",
    "\n",
    "# Prints the p-value\n",
    "print(sm.stats.binom_test(count = x.sum(),          # number of success\n",
    "                          nobs = len(x),            # number of trials or observations\n",
    "                          prop = 0.4))              # probability of success\n",
    "# Exact binomial p-value"
   ]
  },
  {
   "cell_type": "markdown",
   "id": "97d03447-4313-4d11-a6ee-c7c77ef7d0a9",
   "metadata": {},
   "source": [
    "### Hypothesis tests for two proportions\n",
    "\n",
    "Comparative tests tend to be used much more frequently than tests comparing one population to a fixed value.  A two-sample test of proportions is used to assess whether the proportion of individuals with some trait differs between two sub-populations.  For example, we can compare the smoking rates between females and males. Since smoking rates vary strongly with age, we do this in the subpopulation of people between 20 and 25 years of age.  In the cell below, we carry out this test without using any libraries, implementing all the test procedures covered elsewhere in the course using Python code.  We find that the smoking rate for men is around 10 percentage points greater than the smoking rate for females, and this difference is statistically significant (the p-value is around 0.01)."
   ]
  },
  {
   "cell_type": "code",
   "execution_count": 18,
   "id": "8ea60ca8-a12e-4a65-ac5b-15ee09c0f5a6",
   "metadata": {
    "tags": []
   },
   "outputs": [],
   "source": [
    "dx = da[['SMQ020x', 'RIDAGEYR', 'RIAGENDRx']].dropna()      # drop missing values\n",
    "dx = dx.loc[(dx.RIDAGEYR >= 20) & (dx.RIDAGEYR <= 25), :]  # restrict to people between 20 and 25 years old"
   ]
  },
  {
   "cell_type": "code",
   "execution_count": 20,
   "id": "fc75fe5b-8a29-4102-ade1-c327f3f53198",
   "metadata": {
    "tags": []
   },
   "outputs": [
    {
     "data": {
      "text/html": [
       "<div>\n",
       "<style scoped>\n",
       "    .dataframe tbody tr th:only-of-type {\n",
       "        vertical-align: middle;\n",
       "    }\n",
       "\n",
       "    .dataframe tbody tr th {\n",
       "        vertical-align: top;\n",
       "    }\n",
       "\n",
       "    .dataframe thead th {\n",
       "        text-align: right;\n",
       "    }\n",
       "</style>\n",
       "<table border=\"1\" class=\"dataframe\">\n",
       "  <thead>\n",
       "    <tr style=\"text-align: right;\">\n",
       "      <th></th>\n",
       "      <th>Smoke</th>\n",
       "      <th>N</th>\n",
       "    </tr>\n",
       "    <tr>\n",
       "      <th>RIAGENDRx</th>\n",
       "      <th></th>\n",
       "      <th></th>\n",
       "    </tr>\n",
       "  </thead>\n",
       "  <tbody>\n",
       "    <tr>\n",
       "      <th>Female</th>\n",
       "      <td>0.238971</td>\n",
       "      <td>272</td>\n",
       "    </tr>\n",
       "    <tr>\n",
       "      <th>Male</th>\n",
       "      <td>0.341270</td>\n",
       "      <td>252</td>\n",
       "    </tr>\n",
       "  </tbody>\n",
       "</table>\n",
       "</div>"
      ],
      "text/plain": [
       "              Smoke    N\n",
       "RIAGENDRx               \n",
       "Female     0.238971  272\n",
       "Male       0.341270  252"
      ]
     },
     "execution_count": 20,
     "metadata": {},
     "output_type": "execute_result"
    }
   ],
   "source": [
    "# Summarize the data by calculating the proportion of \"yes\" responses and the sample size\n",
    "p = dx.groupby('RIAGENDRx')['SMQ020x'].agg([lambda z: np.mean(z=='Yes'), 'size'])\n",
    "p.columns = ['Smoke', 'N']\n",
    "p"
   ]
  },
  {
   "cell_type": "code",
   "execution_count": 22,
   "id": "6521c2c4-3ae0-4c9f-ab9b-a0c74c2697d9",
   "metadata": {
    "tags": []
   },
   "outputs": [],
   "source": [
    "# The pooled rate of \"yes\" responses, and the standard error of the estimated difference of proportions\n",
    "p_comb = (dx.SMQ020x == 'Yes').mean()\n",
    "va = p_comb * (1 - p_comb)\n",
    "se = np.sqrt(va * (1 / p.N.Female + 1 / p.N.Male))"
   ]
  },
  {
   "cell_type": "code",
   "execution_count": 23,
   "id": "ac4cb0b4-f1cc-4c46-b4c5-b27a4dbd2487",
   "metadata": {
    "tags": []
   },
   "outputs": [
    {
     "name": "stdout",
     "output_type": "stream",
     "text": [
      "-2.5833303066279414 0.009785159057508375\n"
     ]
    }
   ],
   "source": [
    "# Calculate the test statistic and its p-value\n",
    "test_stat = (p.Smoke.Female - p.Smoke.Male) / se\n",
    "pvalue = 2 * dist.norm.cdf(- np.abs(test_stat))\n",
    "print(test_stat, pvalue)"
   ]
  },
  {
   "cell_type": "markdown",
   "id": "3d6c7d19-6afa-4ce6-8e59-d3708af67717",
   "metadata": {},
   "source": [
    "Essentially the same test as above can be conducted by converting the \"Yes\"/\"No\" responses to numbers (Yes=1, No=0) and conducting a two-sample t-test, as below:"
   ]
  },
  {
   "cell_type": "code",
   "execution_count": 26,
   "id": "002ed601-7b93-4bb1-8d78-a51f267dd42e",
   "metadata": {
    "tags": []
   },
   "outputs": [
    {
     "data": {
      "text/plain": [
       "(-2.5949731446269344, 0.00972590232121254, 522.0)"
      ]
     },
     "execution_count": 26,
     "metadata": {},
     "output_type": "execute_result"
    }
   ],
   "source": [
    "dx_females = dx.loc[dx.RIAGENDRx==\"Female\", \"SMQ020x\"].replace({\"Yes\": 1, \"No\": 0})\n",
    "dx_males = dx.loc[dx.RIAGENDRx==\"Male\", \"SMQ020x\"].replace({\"Yes\": 1, \"No\": 0})\n",
    "\n",
    "# t-testfor the mean of 2 independeny samples of scores\n",
    "sm.stats.ttest_ind(dx_females, dx_males) # prints test statistic, p-value, degrees of freedom"
   ]
  },
  {
   "cell_type": "markdown",
   "id": "2e15ed40-9574-4a9e-a247-ef7b784024e0",
   "metadata": {},
   "source": [
    "### Hypothesis tests comparing means\n",
    "\n",
    "Tests of means are similar in many ways to tests of proportions.  Just as with proportions, for comparing means there are one and two-sample tests, z-tests and t-tests, and one-sided and two-sided tests.  As with tests of proportions, one-sample tests of means are not very common, but we illustrate a one sample test in the cell below.  We compare systolic blood pressure to the fixed value 120 (which is the lower threshold for \"pre-hypertension\"), and find that the mean is significantly different from 120 (the point estimate of the mean is 126)."
   ]
  },
  {
   "cell_type": "code",
   "execution_count": 28,
   "id": "96e213fc-0e95-41d3-b6f4-bb4ca5a0c1a3",
   "metadata": {
    "tags": []
   },
   "outputs": [
    {
     "data": {
      "text/plain": [
       "125.86698337292161"
      ]
     },
     "execution_count": 28,
     "metadata": {},
     "output_type": "execute_result"
    }
   ],
   "source": [
    "dx = da[['BPXSY1', 'RIDAGEYR', 'RIAGENDRx']].dropna()\n",
    "dx = dx.loc[(dx.RIDAGEYR >= 40) & (dx.RIDAGEYR <= 50) & (dx.RIAGENDRx == 'Male'), :]\n",
    "dx.BPXSY1.mean()"
   ]
  },
  {
   "cell_type": "markdown",
   "id": "ab280108-1ce8-4444-8eb4-6e44f25f050e",
   "metadata": {},
   "source": [
    "In the cell below, we carry out a formal test of the null hypothesis that the mean blood pressure for women between the ages of 50 and 60 is equal to the mean blood pressure of men between the ages of 50 and 60.  The results indicate that while the mean systolic blood pressure for men is slightly greater than that for women (129 mm/Hg versus 128 mm/Hg), this difference is not statistically significant. \n",
    "\n",
    "There are a number of different variants on the two-sample t-test. Two often-encountered variants are the t-test carried out using the t-distribution, and the t-test carried out using the normal approximation to the reference distribution of the test statistic, often called a z-test.  Below we display results from both these testing approaches.  When the sample size is large, the difference between the t-test and z-test is very small.  "
   ]
  },
  {
   "cell_type": "code",
   "execution_count": null,
   "id": "211db55d-8ac4-412f-b785-6c3c3801a65b",
   "metadata": {},
   "outputs": [],
   "source": []
  }
 ],
 "metadata": {
  "kernelspec": {
   "display_name": "Python 3 (ipykernel)",
   "language": "python",
   "name": "python3"
  },
  "language_info": {
   "codemirror_mode": {
    "name": "ipython",
    "version": 3
   },
   "file_extension": ".py",
   "mimetype": "text/x-python",
   "name": "python",
   "nbconvert_exporter": "python",
   "pygments_lexer": "ipython3",
   "version": "3.11.5"
  }
 },
 "nbformat": 4,
 "nbformat_minor": 5
}
