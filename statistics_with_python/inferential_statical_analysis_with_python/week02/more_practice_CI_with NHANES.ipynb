{
 "cells": [
  {
   "cell_type": "markdown",
   "id": "5ea00815-f959-48c7-92dc-2345009ca95a",
   "metadata": {},
   "source": [
    "# Practice notebook for confidence intervals using NHANES data"
   ]
  },
  {
   "cell_type": "markdown",
   "id": "82613c3f-5d9d-49e7-96e1-6a2df63fdfa9",
   "metadata": {},
   "source": [
    "[github link](https://github.com/karimkmafifi/Inferential-Statistical-Analysis-with-Python---Coursera/blob/master/nhanes_confidence_intervals_practice.ipynb)"
   ]
  },
  {
   "cell_type": "code",
   "execution_count": 1,
   "id": "e52f2e3a-16d3-41e9-a1e9-732e68b57eb3",
   "metadata": {
    "tags": []
   },
   "outputs": [],
   "source": [
    "import pandas as pd\n",
    "import numpy as np\n",
    "import seaborn as sns\n",
    "import statsmodels.api as sm\n",
    "import matplotlib.pyplot as plt\n",
    "%matplotlib inline\n",
    "\n",
    "da = pd.read_csv(\"nhanes_2015_2016.csv\")"
   ]
  },
  {
   "cell_type": "markdown",
   "id": "a87f2034-1bd1-47b8-9916-745f47648d37",
   "metadata": {},
   "source": [
    "## Question 1\n",
    "\n",
    "Restrict the sample to women between 35 and 50, then use the marital status variable [DMDMARTL](https://wwwn.cdc.gov/Nchs/Nhanes/2015-2016/DEMO_I.htm#DMDMARTL) to partition this sample into two groups - women who are currently married, and women who are not currently married.  Within each of these groups, calculate the proportion of women who have completed college.  Calculate 95% confidence intervals for each of these proportions."
   ]
  },
  {
   "cell_type": "code",
   "execution_count": 2,
   "id": "f77eec7e-6625-46ed-9cce-d71279e01ff1",
   "metadata": {
    "tags": []
   },
   "outputs": [
    {
     "data": {
      "text/plain": [
       "array(['married', 'divorced', 'living with partner', 'separated',\n",
       "       'never married', nan, 'widowed', 'refused'], dtype=object)"
      ]
     },
     "execution_count": 2,
     "metadata": {},
     "output_type": "execute_result"
    }
   ],
   "source": [
    "da['DMDMARTL'] = da['DMDMARTL'].replace({1:'married', 2:'widowed', \n",
    "                                         3:'divorced', 4:'separated',\n",
    "                                        5:'never married', 6:'living with partner',\n",
    "                                        77:'refused', 99:\"don't know\", '.':'missing'})\n",
    "\n",
    "da['DMDMARTL'].unique()"
   ]
  },
  {
   "cell_type": "code",
   "execution_count": 3,
   "id": "34171a79-d1b7-451f-9706-be39f3db20d3",
   "metadata": {
    "tags": []
   },
   "outputs": [
    {
     "data": {
      "text/plain": [
       "array(['male', 'female'], dtype=object)"
      ]
     },
     "execution_count": 3,
     "metadata": {},
     "output_type": "execute_result"
    }
   ],
   "source": [
    "da['RIAGENDR'] = da['RIAGENDR'].replace({1:'male', 2:'female', '.':'missing'})\n",
    "da['RIAGENDR'].unique()"
   ]
  },
  {
   "cell_type": "code",
   "execution_count": 4,
   "id": "aea62251-5456-486e-b60c-f55979105f26",
   "metadata": {
    "tags": []
   },
   "outputs": [
    {
     "data": {
      "text/plain": [
       "Index(['SEQN', 'ALQ101', 'ALQ110', 'ALQ130', 'SMQ020', 'RIAGENDR', 'RIDAGEYR',\n",
       "       'RIDRETH1', 'DMDCITZN', 'DMDEDUC2', 'DMDMARTL', 'DMDHHSIZ', 'WTINT2YR',\n",
       "       'SDMVPSU', 'SDMVSTRA', 'INDFMPIR', 'BPXSY1', 'BPXDI1', 'BPXSY2',\n",
       "       'BPXDI2', 'BMXWT', 'BMXHT', 'BMXBMI', 'BMXLEG', 'BMXARML', 'BMXARMC',\n",
       "       'BMXWAIST', 'HIQ210'],\n",
       "      dtype='object')"
      ]
     },
     "execution_count": 4,
     "metadata": {},
     "output_type": "execute_result"
    }
   ],
   "source": [
    "da.columns"
   ]
  },
  {
   "cell_type": "code",
   "execution_count": 19,
   "id": "1dca3954-c6e7-4de2-a3e9-2845dde942bd",
   "metadata": {
    "tags": []
   },
   "outputs": [
    {
     "data": {
      "text/html": [
       "<div>\n",
       "<style scoped>\n",
       "    .dataframe tbody tr th:only-of-type {\n",
       "        vertical-align: middle;\n",
       "    }\n",
       "\n",
       "    .dataframe tbody tr th {\n",
       "        vertical-align: top;\n",
       "    }\n",
       "\n",
       "    .dataframe thead th {\n",
       "        text-align: right;\n",
       "    }\n",
       "</style>\n",
       "<table border=\"1\" class=\"dataframe\">\n",
       "  <thead>\n",
       "    <tr style=\"text-align: right;\">\n",
       "      <th></th>\n",
       "      <th>SEQN</th>\n",
       "      <th>ALQ101</th>\n",
       "      <th>ALQ110</th>\n",
       "      <th>ALQ130</th>\n",
       "      <th>SMQ020</th>\n",
       "      <th>RIAGENDR</th>\n",
       "      <th>RIDAGEYR</th>\n",
       "      <th>RIDRETH1</th>\n",
       "      <th>DMDCITZN</th>\n",
       "      <th>DMDEDUC2</th>\n",
       "      <th>...</th>\n",
       "      <th>BPXDI2</th>\n",
       "      <th>BMXWT</th>\n",
       "      <th>BMXHT</th>\n",
       "      <th>BMXBMI</th>\n",
       "      <th>BMXLEG</th>\n",
       "      <th>BMXARML</th>\n",
       "      <th>BMXARMC</th>\n",
       "      <th>BMXWAIST</th>\n",
       "      <th>HIQ210</th>\n",
       "      <th>female_gp</th>\n",
       "    </tr>\n",
       "  </thead>\n",
       "  <tbody>\n",
       "    <tr>\n",
       "      <th>34</th>\n",
       "      <td>83799</td>\n",
       "      <td>NaN</td>\n",
       "      <td>NaN</td>\n",
       "      <td>NaN</td>\n",
       "      <td>2</td>\n",
       "      <td>female</td>\n",
       "      <td>37</td>\n",
       "      <td>2</td>\n",
       "      <td>1.0</td>\n",
       "      <td>4.0</td>\n",
       "      <td>...</td>\n",
       "      <td>72.0</td>\n",
       "      <td>66.6</td>\n",
       "      <td>161.6</td>\n",
       "      <td>25.5</td>\n",
       "      <td>NaN</td>\n",
       "      <td>NaN</td>\n",
       "      <td>NaN</td>\n",
       "      <td>NaN</td>\n",
       "      <td>2.0</td>\n",
       "      <td>f_married</td>\n",
       "    </tr>\n",
       "    <tr>\n",
       "      <th>50</th>\n",
       "      <td>83828</td>\n",
       "      <td>1.0</td>\n",
       "      <td>NaN</td>\n",
       "      <td>2.0</td>\n",
       "      <td>2</td>\n",
       "      <td>female</td>\n",
       "      <td>39</td>\n",
       "      <td>1</td>\n",
       "      <td>2.0</td>\n",
       "      <td>3.0</td>\n",
       "      <td>...</td>\n",
       "      <td>62.0</td>\n",
       "      <td>71.3</td>\n",
       "      <td>162.0</td>\n",
       "      <td>27.2</td>\n",
       "      <td>36.8</td>\n",
       "      <td>34.6</td>\n",
       "      <td>29.1</td>\n",
       "      <td>94.6</td>\n",
       "      <td>NaN</td>\n",
       "      <td>f_married</td>\n",
       "    </tr>\n",
       "    <tr>\n",
       "      <th>55</th>\n",
       "      <td>83837</td>\n",
       "      <td>2.0</td>\n",
       "      <td>2.0</td>\n",
       "      <td>NaN</td>\n",
       "      <td>2</td>\n",
       "      <td>female</td>\n",
       "      <td>45</td>\n",
       "      <td>1</td>\n",
       "      <td>1.0</td>\n",
       "      <td>2.0</td>\n",
       "      <td>...</td>\n",
       "      <td>68.0</td>\n",
       "      <td>77.5</td>\n",
       "      <td>148.3</td>\n",
       "      <td>35.2</td>\n",
       "      <td>30.5</td>\n",
       "      <td>34.0</td>\n",
       "      <td>34.4</td>\n",
       "      <td>107.6</td>\n",
       "      <td>2.0</td>\n",
       "      <td>f_married</td>\n",
       "    </tr>\n",
       "    <tr>\n",
       "      <th>61</th>\n",
       "      <td>83851</td>\n",
       "      <td>2.0</td>\n",
       "      <td>1.0</td>\n",
       "      <td>1.0</td>\n",
       "      <td>1</td>\n",
       "      <td>female</td>\n",
       "      <td>37</td>\n",
       "      <td>3</td>\n",
       "      <td>1.0</td>\n",
       "      <td>3.0</td>\n",
       "      <td>...</td>\n",
       "      <td>74.0</td>\n",
       "      <td>85.1</td>\n",
       "      <td>155.3</td>\n",
       "      <td>35.3</td>\n",
       "      <td>32.5</td>\n",
       "      <td>33.6</td>\n",
       "      <td>36.1</td>\n",
       "      <td>106.5</td>\n",
       "      <td>1.0</td>\n",
       "      <td>f_married</td>\n",
       "    </tr>\n",
       "    <tr>\n",
       "      <th>62</th>\n",
       "      <td>83853</td>\n",
       "      <td>NaN</td>\n",
       "      <td>NaN</td>\n",
       "      <td>NaN</td>\n",
       "      <td>2</td>\n",
       "      <td>female</td>\n",
       "      <td>49</td>\n",
       "      <td>3</td>\n",
       "      <td>1.0</td>\n",
       "      <td>3.0</td>\n",
       "      <td>...</td>\n",
       "      <td>84.0</td>\n",
       "      <td>76.1</td>\n",
       "      <td>166.7</td>\n",
       "      <td>27.4</td>\n",
       "      <td>39.2</td>\n",
       "      <td>38.6</td>\n",
       "      <td>32.6</td>\n",
       "      <td>88.7</td>\n",
       "      <td>2.0</td>\n",
       "      <td>f_married</td>\n",
       "    </tr>\n",
       "  </tbody>\n",
       "</table>\n",
       "<p>5 rows × 29 columns</p>\n",
       "</div>"
      ],
      "text/plain": [
       "     SEQN  ALQ101  ALQ110  ALQ130  SMQ020 RIAGENDR  RIDAGEYR  RIDRETH1  \\\n",
       "34  83799     NaN     NaN     NaN       2   female        37         2   \n",
       "50  83828     1.0     NaN     2.0       2   female        39         1   \n",
       "55  83837     2.0     2.0     NaN       2   female        45         1   \n",
       "61  83851     2.0     1.0     1.0       1   female        37         3   \n",
       "62  83853     NaN     NaN     NaN       2   female        49         3   \n",
       "\n",
       "    DMDCITZN  DMDEDUC2  ... BPXDI2  BMXWT  BMXHT  BMXBMI  BMXLEG  BMXARML  \\\n",
       "34       1.0       4.0  ...   72.0   66.6  161.6    25.5     NaN      NaN   \n",
       "50       2.0       3.0  ...   62.0   71.3  162.0    27.2    36.8     34.6   \n",
       "55       1.0       2.0  ...   68.0   77.5  148.3    35.2    30.5     34.0   \n",
       "61       1.0       3.0  ...   74.0   85.1  155.3    35.3    32.5     33.6   \n",
       "62       1.0       3.0  ...   84.0   76.1  166.7    27.4    39.2     38.6   \n",
       "\n",
       "    BMXARMC  BMXWAIST  HIQ210  female_gp  \n",
       "34      NaN       NaN     2.0  f_married  \n",
       "50     29.1      94.6     NaN  f_married  \n",
       "55     34.4     107.6     2.0  f_married  \n",
       "61     36.1     106.5     1.0  f_married  \n",
       "62     32.6      88.7     2.0  f_married  \n",
       "\n",
       "[5 rows x 29 columns]"
      ]
     },
     "execution_count": 19,
     "metadata": {},
     "output_type": "execute_result"
    }
   ],
   "source": [
    "da_female_married = da[(da['RIDAGEYR'].between(35, 50)) & (da['RIAGENDR']=='female') & (da['DMDMARTL']=='married')]\n",
    "da_female_married.head()"
   ]
  },
  {
   "cell_type": "code",
   "execution_count": 20,
   "id": "d4a2534c-8ecb-4c33-8107-fde0e39e8599",
   "metadata": {
    "tags": []
   },
   "outputs": [
    {
     "data": {
      "text/html": [
       "<div>\n",
       "<style scoped>\n",
       "    .dataframe tbody tr th:only-of-type {\n",
       "        vertical-align: middle;\n",
       "    }\n",
       "\n",
       "    .dataframe tbody tr th {\n",
       "        vertical-align: top;\n",
       "    }\n",
       "\n",
       "    .dataframe thead th {\n",
       "        text-align: right;\n",
       "    }\n",
       "</style>\n",
       "<table border=\"1\" class=\"dataframe\">\n",
       "  <thead>\n",
       "    <tr style=\"text-align: right;\">\n",
       "      <th></th>\n",
       "      <th>SEQN</th>\n",
       "      <th>ALQ101</th>\n",
       "      <th>ALQ110</th>\n",
       "      <th>ALQ130</th>\n",
       "      <th>SMQ020</th>\n",
       "      <th>RIAGENDR</th>\n",
       "      <th>RIDAGEYR</th>\n",
       "      <th>RIDRETH1</th>\n",
       "      <th>DMDCITZN</th>\n",
       "      <th>DMDEDUC2</th>\n",
       "      <th>...</th>\n",
       "      <th>BPXDI2</th>\n",
       "      <th>BMXWT</th>\n",
       "      <th>BMXHT</th>\n",
       "      <th>BMXBMI</th>\n",
       "      <th>BMXLEG</th>\n",
       "      <th>BMXARML</th>\n",
       "      <th>BMXARMC</th>\n",
       "      <th>BMXWAIST</th>\n",
       "      <th>HIQ210</th>\n",
       "      <th>female_gp</th>\n",
       "    </tr>\n",
       "  </thead>\n",
       "  <tbody>\n",
       "    <tr>\n",
       "      <th>4</th>\n",
       "      <td>83736</td>\n",
       "      <td>2.0</td>\n",
       "      <td>1.0</td>\n",
       "      <td>1.0</td>\n",
       "      <td>2</td>\n",
       "      <td>female</td>\n",
       "      <td>42</td>\n",
       "      <td>4</td>\n",
       "      <td>1.0</td>\n",
       "      <td>4.0</td>\n",
       "      <td>...</td>\n",
       "      <td>54.0</td>\n",
       "      <td>55.2</td>\n",
       "      <td>164.9</td>\n",
       "      <td>20.3</td>\n",
       "      <td>37.4</td>\n",
       "      <td>36.0</td>\n",
       "      <td>27.2</td>\n",
       "      <td>80.4</td>\n",
       "      <td>2.0</td>\n",
       "      <td>f_married</td>\n",
       "    </tr>\n",
       "    <tr>\n",
       "      <th>52</th>\n",
       "      <td>83832</td>\n",
       "      <td>2.0</td>\n",
       "      <td>1.0</td>\n",
       "      <td>4.0</td>\n",
       "      <td>2</td>\n",
       "      <td>female</td>\n",
       "      <td>50</td>\n",
       "      <td>1</td>\n",
       "      <td>2.0</td>\n",
       "      <td>1.0</td>\n",
       "      <td>...</td>\n",
       "      <td>NaN</td>\n",
       "      <td>105.9</td>\n",
       "      <td>157.7</td>\n",
       "      <td>42.6</td>\n",
       "      <td>29.2</td>\n",
       "      <td>35.0</td>\n",
       "      <td>40.7</td>\n",
       "      <td>129.1</td>\n",
       "      <td>NaN</td>\n",
       "      <td>f_married</td>\n",
       "    </tr>\n",
       "    <tr>\n",
       "      <th>58</th>\n",
       "      <td>83845</td>\n",
       "      <td>1.0</td>\n",
       "      <td>NaN</td>\n",
       "      <td>NaN</td>\n",
       "      <td>1</td>\n",
       "      <td>female</td>\n",
       "      <td>44</td>\n",
       "      <td>4</td>\n",
       "      <td>1.0</td>\n",
       "      <td>1.0</td>\n",
       "      <td>...</td>\n",
       "      <td>78.0</td>\n",
       "      <td>133.3</td>\n",
       "      <td>171.5</td>\n",
       "      <td>45.3</td>\n",
       "      <td>37.3</td>\n",
       "      <td>35.7</td>\n",
       "      <td>48.7</td>\n",
       "      <td>NaN</td>\n",
       "      <td>2.0</td>\n",
       "      <td>f_married</td>\n",
       "    </tr>\n",
       "    <tr>\n",
       "      <th>100</th>\n",
       "      <td>83911</td>\n",
       "      <td>1.0</td>\n",
       "      <td>NaN</td>\n",
       "      <td>1.0</td>\n",
       "      <td>2</td>\n",
       "      <td>female</td>\n",
       "      <td>43</td>\n",
       "      <td>4</td>\n",
       "      <td>1.0</td>\n",
       "      <td>4.0</td>\n",
       "      <td>...</td>\n",
       "      <td>76.0</td>\n",
       "      <td>91.1</td>\n",
       "      <td>172.3</td>\n",
       "      <td>30.7</td>\n",
       "      <td>40.4</td>\n",
       "      <td>38.2</td>\n",
       "      <td>34.6</td>\n",
       "      <td>101.6</td>\n",
       "      <td>NaN</td>\n",
       "      <td>f_married</td>\n",
       "    </tr>\n",
       "    <tr>\n",
       "      <th>127</th>\n",
       "      <td>83958</td>\n",
       "      <td>2.0</td>\n",
       "      <td>1.0</td>\n",
       "      <td>2.0</td>\n",
       "      <td>1</td>\n",
       "      <td>female</td>\n",
       "      <td>47</td>\n",
       "      <td>4</td>\n",
       "      <td>1.0</td>\n",
       "      <td>3.0</td>\n",
       "      <td>...</td>\n",
       "      <td>76.0</td>\n",
       "      <td>58.6</td>\n",
       "      <td>160.6</td>\n",
       "      <td>22.7</td>\n",
       "      <td>36.8</td>\n",
       "      <td>35.2</td>\n",
       "      <td>28.0</td>\n",
       "      <td>77.9</td>\n",
       "      <td>NaN</td>\n",
       "      <td>f_married</td>\n",
       "    </tr>\n",
       "  </tbody>\n",
       "</table>\n",
       "<p>5 rows × 29 columns</p>\n",
       "</div>"
      ],
      "text/plain": [
       "      SEQN  ALQ101  ALQ110  ALQ130  SMQ020 RIAGENDR  RIDAGEYR  RIDRETH1  \\\n",
       "4    83736     2.0     1.0     1.0       2   female        42         4   \n",
       "52   83832     2.0     1.0     4.0       2   female        50         1   \n",
       "58   83845     1.0     NaN     NaN       1   female        44         4   \n",
       "100  83911     1.0     NaN     1.0       2   female        43         4   \n",
       "127  83958     2.0     1.0     2.0       1   female        47         4   \n",
       "\n",
       "     DMDCITZN  DMDEDUC2  ... BPXDI2  BMXWT  BMXHT  BMXBMI  BMXLEG  BMXARML  \\\n",
       "4         1.0       4.0  ...   54.0   55.2  164.9    20.3    37.4     36.0   \n",
       "52        2.0       1.0  ...    NaN  105.9  157.7    42.6    29.2     35.0   \n",
       "58        1.0       1.0  ...   78.0  133.3  171.5    45.3    37.3     35.7   \n",
       "100       1.0       4.0  ...   76.0   91.1  172.3    30.7    40.4     38.2   \n",
       "127       1.0       3.0  ...   76.0   58.6  160.6    22.7    36.8     35.2   \n",
       "\n",
       "     BMXARMC  BMXWAIST  HIQ210  female_gp  \n",
       "4       27.2      80.4     2.0  f_married  \n",
       "52      40.7     129.1     NaN  f_married  \n",
       "58      48.7       NaN     2.0  f_married  \n",
       "100     34.6     101.6     NaN  f_married  \n",
       "127     28.0      77.9     NaN  f_married  \n",
       "\n",
       "[5 rows x 29 columns]"
      ]
     },
     "execution_count": 20,
     "metadata": {},
     "output_type": "execute_result"
    }
   ],
   "source": [
    "# Age between 35 and 50 femmale not married\n",
    "da_female_unmarried = da[(da['RIDAGEYR'].between(35, 50)) & (da['RIAGENDR']=='female') & (da['DMDMARTL']!='married')]\n",
    "da_female_unmarried.head()"
   ]
  },
  {
   "cell_type": "code",
   "execution_count": 31,
   "id": "0fa7c06a-634d-4160-bcae-2ea6e3b62fc9",
   "metadata": {
    "tags": []
   },
   "outputs": [
    {
     "data": {
      "text/plain": [
       "(162, 0.36080178173719374, 72, 0.21301775147928995)"
      ]
     },
     "execution_count": 31,
     "metadata": {},
     "output_type": "execute_result"
    }
   ],
   "source": [
    "# completed college proportion for married & unmarried female\n",
    "n_married = da_female_married.shape[0]\n",
    "n_unmarried = da_female_unmarried.shape[0]\n",
    "\n",
    "married_after_college = len(da_female_married[da_female_married['DMDEDUC2']==5]) \n",
    "unmarried_after_college = len(da_female_unmarried[da_female_unmarried['DMDEDUC2']==5])\n",
    "\n",
    "married_proportion = married_after_college / n_married\n",
    "unmarried_proportion = unmarried_after_college / n_unmarried\n",
    "\n",
    "married_after_college, married_proportion, unmarried_after_college, unmarried_proportion"
   ]
  },
  {
   "cell_type": "code",
   "execution_count": 26,
   "id": "101870eb-d6c0-40da-9849-0fed9f97994c",
   "metadata": {
    "tags": []
   },
   "outputs": [],
   "source": [
    "se_married = married_proportion * (1 - married_proportion)\n",
    "se_unmarried = unmarried_proportion * (1 - unmarried_proportion)"
   ]
  },
  {
   "cell_type": "code",
   "execution_count": 30,
   "id": "507d7955-8977-4dd1-98c5-a2d558214dd8",
   "metadata": {
    "tags": []
   },
   "outputs": [
    {
     "name": "stdout",
     "output_type": "stream",
     "text": [
      "LCB (married) 0.3163811208674688\n",
      "UCB (married) 0.4052224426069187\n"
     ]
    }
   ],
   "source": [
    "# married\n",
    "print(\"LCB (married)\", married_proportion - 1.96 * np.sqrt(se_married/n_married))\n",
    "print(\"UCB (married)\", married_proportion + 1.96 * np.sqrt(se_married/n_married))"
   ]
  },
  {
   "cell_type": "code",
   "execution_count": 37,
   "id": "e1704e9f-3bc4-47f2-906c-758a773f36bf",
   "metadata": {
    "tags": []
   },
   "outputs": [
    {
     "name": "stdout",
     "output_type": "stream",
     "text": [
      "LCB (unmarried) 0.1693673655848136\n",
      "UCB (unmarried) 0.25666813737376626\n"
     ]
    }
   ],
   "source": [
    "# unmarried\n",
    "print(\"LCB (unmarried)\", unmarried_proportion - 1.96 * np.sqrt(se_unmarried/n_unmarried))\n",
    "print(\"UCB (unmarried)\", unmarried_proportion + 1.96 * np.sqrt(se_unmarried/n_unmarried))"
   ]
  },
  {
   "cell_type": "code",
   "execution_count": 38,
   "id": "b0ab0f93-6205-4213-b9dd-d3774cbd9c80",
   "metadata": {
    "tags": []
   },
   "outputs": [
    {
     "name": "stdout",
     "output_type": "stream",
     "text": [
      "LCB (married) = 0.31638193710753626 and UCB (married) = 0.4052216263668512\n"
     ]
    },
    {
     "data": {
      "text/plain": [
       "0.08883968925931496"
      ]
     },
     "execution_count": 38,
     "metadata": {},
     "output_type": "execute_result"
    }
   ],
   "source": [
    "# for married female\n",
    "lcb, ucb = sm.stats.proportion_confint(count=married_after_college, nobs=n_married)\n",
    "print(f\"LCB (married) = {lcb} and UCB (married) = {ucb}\")\n",
    "ucb - lcb"
   ]
  },
  {
   "cell_type": "code",
   "execution_count": 39,
   "id": "7caea644-df52-42ad-93b3-eb8376fe11af",
   "metadata": {
    "tags": []
   },
   "outputs": [
    {
     "name": "stdout",
     "output_type": "stream",
     "text": [
      "LCB (unmarried) = 0.16936816767089768 and UCB (unmarried) = 0.2566673352876822\n"
     ]
    },
    {
     "data": {
      "text/plain": [
       "0.08729916761678452"
      ]
     },
     "execution_count": 39,
     "metadata": {},
     "output_type": "execute_result"
    }
   ],
   "source": [
    "# for unmarried female\n",
    "lcb, ucb = sm.stats.proportion_confint(count=unmarried_after_college, nobs=n_unmarried)\n",
    "print(f\"LCB (unmarried) = {lcb} and UCB (unmarried) = {ucb}\")\n",
    "ucb - lcb"
   ]
  },
  {
   "cell_type": "markdown",
   "id": "1f6cc703-a976-4cd4-bac9-f7139dbb91f6",
   "metadata": {},
   "source": [
    "__Q1a.__ Identify which of the two confidence intervals is wider, and explain why this is the case. "
   ]
  },
  {
   "cell_type": "markdown",
   "id": "cf002dad-2aa0-4988-925e-d95ee8f44428",
   "metadata": {},
   "source": [
    "The first confidence inervals is wider."
   ]
  },
  {
   "cell_type": "markdown",
   "id": "5e509f8a-5ea3-4121-95e2-627b8025f9fb",
   "metadata": {},
   "source": [
    "__Q1b.__ Write 1-2 sentences summarizing these findings for an audience that does not know what a confidence interval is (the goal here is to report the substance of what you learned about how marital status and educational attainment are related, not to teach a person what a confidence interval is)."
   ]
  },
  {
   "cell_type": "markdown",
   "id": "e24aee57-6f53-4880-9975-88b71908d5cf",
   "metadata": {},
   "source": []
  },
  {
   "cell_type": "markdown",
   "id": "2b0e07d7-6baf-4ec5-b254-a6299798341c",
   "metadata": {},
   "source": [
    "## Question 2\n",
    "\n",
    "Construct a 95% confidence interval for the proportion of smokers who are female. Construct a 95% confidence interval for the proportion of smokers who are male. Construct a 95% confidence interval for the **difference** between those two gender proportions."
   ]
  },
  {
   "cell_type": "code",
   "execution_count": null,
   "id": "ecda9d7b-383b-4ccf-86a6-9f0ec6a646c9",
   "metadata": {},
   "outputs": [],
   "source": []
  }
 ],
 "metadata": {
  "kernelspec": {
   "display_name": "Python 3 (ipykernel)",
   "language": "python",
   "name": "python3"
  },
  "language_info": {
   "codemirror_mode": {
    "name": "ipython",
    "version": 3
   },
   "file_extension": ".py",
   "mimetype": "text/x-python",
   "name": "python",
   "nbconvert_exporter": "python",
   "pygments_lexer": "ipython3",
   "version": "3.11.5"
  }
 },
 "nbformat": 4,
 "nbformat_minor": 5
}
