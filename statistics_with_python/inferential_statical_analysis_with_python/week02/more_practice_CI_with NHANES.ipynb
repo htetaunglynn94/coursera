{
 "cells": [
  {
   "cell_type": "markdown",
   "id": "5ea00815-f959-48c7-92dc-2345009ca95a",
   "metadata": {},
   "source": [
    "# Practice notebook for confidence intervals using NHANES data"
   ]
  },
  {
   "cell_type": "markdown",
   "id": "82613c3f-5d9d-49e7-96e1-6a2df63fdfa9",
   "metadata": {},
   "source": [
    "[github link](https://github.com/karimkmafifi/Inferential-Statistical-Analysis-with-Python---Coursera/blob/master/nhanes_confidence_intervals_practice.ipynb)"
   ]
  },
  {
   "cell_type": "code",
   "execution_count": 1,
   "id": "e52f2e3a-16d3-41e9-a1e9-732e68b57eb3",
   "metadata": {
    "tags": []
   },
   "outputs": [],
   "source": [
    "import matplotlib.pyplot as plt\n",
    "import pandas as pd\n",
    "import numpy as np\n",
    "import seaborn as sns\n",
    "import statsmodels.api as sm\n",
    "import scipy.stats\n",
    "\n",
    "da = pd.read_csv(\"nhanes_2015_2016.csv\")"
   ]
  },
  {
   "cell_type": "markdown",
   "id": "a87f2034-1bd1-47b8-9916-745f47648d37",
   "metadata": {},
   "source": [
    "## Question 1\n",
    "\n",
    "Restrict the sample to women between 35 and 50, then use the marital status variable [DMDMARTL](https://wwwn.cdc.gov/Nchs/Nhanes/2015-2016/DEMO_I.htm#DMDMARTL) to partition this sample into two groups - women who are currently married, and women who are not currently married.  Within each of these groups, calculate the proportion of women who have completed college.  Calculate 95% confidence intervals for each of these proportions."
   ]
  },
  {
   "cell_type": "code",
   "execution_count": 2,
   "id": "f77eec7e-6625-46ed-9cce-d71279e01ff1",
   "metadata": {
    "tags": []
   },
   "outputs": [
    {
     "data": {
      "text/plain": [
       "array(['married', 'divorced', 'living with partner', 'separated',\n",
       "       'never married', nan, 'widowed', 'refused'], dtype=object)"
      ]
     },
     "execution_count": 2,
     "metadata": {},
     "output_type": "execute_result"
    }
   ],
   "source": [
    "da['DMDMARTL'] = da['DMDMARTL'].replace({1:'married', 2:'widowed', \n",
    "                                         3:'divorced', 4:'separated',\n",
    "                                        5:'never married', 6:'living with partner',\n",
    "                                        77:'refused', 99:\"don't know\", '.':'missing'})\n",
    "\n",
    "da['DMDMARTL'].unique()"
   ]
  },
  {
   "cell_type": "code",
   "execution_count": 3,
   "id": "34171a79-d1b7-451f-9706-be39f3db20d3",
   "metadata": {
    "tags": []
   },
   "outputs": [
    {
     "data": {
      "text/plain": [
       "array(['male', 'female'], dtype=object)"
      ]
     },
     "execution_count": 3,
     "metadata": {},
     "output_type": "execute_result"
    }
   ],
   "source": [
    "da['RIAGENDR'] = da['RIAGENDR'].replace({1:'male', 2:'female', '.':'missing'})\n",
    "da['RIAGENDR'].unique()"
   ]
  },
  {
   "cell_type": "code",
   "execution_count": 4,
   "id": "aea62251-5456-486e-b60c-f55979105f26",
   "metadata": {
    "tags": []
   },
   "outputs": [
    {
     "data": {
      "text/plain": [
       "Index(['SEQN', 'ALQ101', 'ALQ110', 'ALQ130', 'SMQ020', 'RIAGENDR', 'RIDAGEYR',\n",
       "       'RIDRETH1', 'DMDCITZN', 'DMDEDUC2', 'DMDMARTL', 'DMDHHSIZ', 'WTINT2YR',\n",
       "       'SDMVPSU', 'SDMVSTRA', 'INDFMPIR', 'BPXSY1', 'BPXDI1', 'BPXSY2',\n",
       "       'BPXDI2', 'BMXWT', 'BMXHT', 'BMXBMI', 'BMXLEG', 'BMXARML', 'BMXARMC',\n",
       "       'BMXWAIST', 'HIQ210'],\n",
       "      dtype='object')"
      ]
     },
     "execution_count": 4,
     "metadata": {},
     "output_type": "execute_result"
    }
   ],
   "source": [
    "da.columns"
   ]
  },
  {
   "cell_type": "code",
   "execution_count": 5,
   "id": "dd2f9558-7dba-43f4-ac4d-c8a10d24ad33",
   "metadata": {
    "tags": []
   },
   "outputs": [
    {
     "data": {
      "text/html": [
       "<div>\n",
       "<style scoped>\n",
       "    .dataframe tbody tr th:only-of-type {\n",
       "        vertical-align: middle;\n",
       "    }\n",
       "\n",
       "    .dataframe tbody tr th {\n",
       "        vertical-align: top;\n",
       "    }\n",
       "\n",
       "    .dataframe thead th {\n",
       "        text-align: right;\n",
       "    }\n",
       "</style>\n",
       "<table border=\"1\" class=\"dataframe\">\n",
       "  <thead>\n",
       "    <tr style=\"text-align: right;\">\n",
       "      <th></th>\n",
       "      <th>SEQN</th>\n",
       "      <th>ALQ101</th>\n",
       "      <th>ALQ110</th>\n",
       "      <th>ALQ130</th>\n",
       "      <th>SMQ020</th>\n",
       "      <th>RIAGENDR</th>\n",
       "      <th>RIDAGEYR</th>\n",
       "      <th>RIDRETH1</th>\n",
       "      <th>DMDCITZN</th>\n",
       "      <th>DMDEDUC2</th>\n",
       "      <th>...</th>\n",
       "      <th>BPXSY2</th>\n",
       "      <th>BPXDI2</th>\n",
       "      <th>BMXWT</th>\n",
       "      <th>BMXHT</th>\n",
       "      <th>BMXBMI</th>\n",
       "      <th>BMXLEG</th>\n",
       "      <th>BMXARML</th>\n",
       "      <th>BMXARMC</th>\n",
       "      <th>BMXWAIST</th>\n",
       "      <th>HIQ210</th>\n",
       "    </tr>\n",
       "  </thead>\n",
       "  <tbody>\n",
       "    <tr>\n",
       "      <th>4</th>\n",
       "      <td>83736</td>\n",
       "      <td>2.0</td>\n",
       "      <td>1.0</td>\n",
       "      <td>1.0</td>\n",
       "      <td>2</td>\n",
       "      <td>female</td>\n",
       "      <td>42</td>\n",
       "      <td>4</td>\n",
       "      <td>1.0</td>\n",
       "      <td>4.0</td>\n",
       "      <td>...</td>\n",
       "      <td>114.0</td>\n",
       "      <td>54.0</td>\n",
       "      <td>55.2</td>\n",
       "      <td>164.9</td>\n",
       "      <td>20.3</td>\n",
       "      <td>37.4</td>\n",
       "      <td>36.0</td>\n",
       "      <td>27.2</td>\n",
       "      <td>80.4</td>\n",
       "      <td>2.0</td>\n",
       "    </tr>\n",
       "    <tr>\n",
       "      <th>34</th>\n",
       "      <td>83799</td>\n",
       "      <td>NaN</td>\n",
       "      <td>NaN</td>\n",
       "      <td>NaN</td>\n",
       "      <td>2</td>\n",
       "      <td>female</td>\n",
       "      <td>37</td>\n",
       "      <td>2</td>\n",
       "      <td>1.0</td>\n",
       "      <td>4.0</td>\n",
       "      <td>...</td>\n",
       "      <td>110.0</td>\n",
       "      <td>72.0</td>\n",
       "      <td>66.6</td>\n",
       "      <td>161.6</td>\n",
       "      <td>25.5</td>\n",
       "      <td>NaN</td>\n",
       "      <td>NaN</td>\n",
       "      <td>NaN</td>\n",
       "      <td>NaN</td>\n",
       "      <td>2.0</td>\n",
       "    </tr>\n",
       "    <tr>\n",
       "      <th>50</th>\n",
       "      <td>83828</td>\n",
       "      <td>1.0</td>\n",
       "      <td>NaN</td>\n",
       "      <td>2.0</td>\n",
       "      <td>2</td>\n",
       "      <td>female</td>\n",
       "      <td>39</td>\n",
       "      <td>1</td>\n",
       "      <td>2.0</td>\n",
       "      <td>3.0</td>\n",
       "      <td>...</td>\n",
       "      <td>100.0</td>\n",
       "      <td>62.0</td>\n",
       "      <td>71.3</td>\n",
       "      <td>162.0</td>\n",
       "      <td>27.2</td>\n",
       "      <td>36.8</td>\n",
       "      <td>34.6</td>\n",
       "      <td>29.1</td>\n",
       "      <td>94.6</td>\n",
       "      <td>NaN</td>\n",
       "    </tr>\n",
       "    <tr>\n",
       "      <th>52</th>\n",
       "      <td>83832</td>\n",
       "      <td>2.0</td>\n",
       "      <td>1.0</td>\n",
       "      <td>4.0</td>\n",
       "      <td>2</td>\n",
       "      <td>female</td>\n",
       "      <td>50</td>\n",
       "      <td>1</td>\n",
       "      <td>2.0</td>\n",
       "      <td>1.0</td>\n",
       "      <td>...</td>\n",
       "      <td>NaN</td>\n",
       "      <td>NaN</td>\n",
       "      <td>105.9</td>\n",
       "      <td>157.7</td>\n",
       "      <td>42.6</td>\n",
       "      <td>29.2</td>\n",
       "      <td>35.0</td>\n",
       "      <td>40.7</td>\n",
       "      <td>129.1</td>\n",
       "      <td>NaN</td>\n",
       "    </tr>\n",
       "    <tr>\n",
       "      <th>55</th>\n",
       "      <td>83837</td>\n",
       "      <td>2.0</td>\n",
       "      <td>2.0</td>\n",
       "      <td>NaN</td>\n",
       "      <td>2</td>\n",
       "      <td>female</td>\n",
       "      <td>45</td>\n",
       "      <td>1</td>\n",
       "      <td>1.0</td>\n",
       "      <td>2.0</td>\n",
       "      <td>...</td>\n",
       "      <td>114.0</td>\n",
       "      <td>68.0</td>\n",
       "      <td>77.5</td>\n",
       "      <td>148.3</td>\n",
       "      <td>35.2</td>\n",
       "      <td>30.5</td>\n",
       "      <td>34.0</td>\n",
       "      <td>34.4</td>\n",
       "      <td>107.6</td>\n",
       "      <td>2.0</td>\n",
       "    </tr>\n",
       "  </tbody>\n",
       "</table>\n",
       "<p>5 rows × 28 columns</p>\n",
       "</div>"
      ],
      "text/plain": [
       "     SEQN  ALQ101  ALQ110  ALQ130  SMQ020 RIAGENDR  RIDAGEYR  RIDRETH1  \\\n",
       "4   83736     2.0     1.0     1.0       2   female        42         4   \n",
       "34  83799     NaN     NaN     NaN       2   female        37         2   \n",
       "50  83828     1.0     NaN     2.0       2   female        39         1   \n",
       "52  83832     2.0     1.0     4.0       2   female        50         1   \n",
       "55  83837     2.0     2.0     NaN       2   female        45         1   \n",
       "\n",
       "    DMDCITZN  DMDEDUC2  ... BPXSY2  BPXDI2  BMXWT  BMXHT  BMXBMI  BMXLEG  \\\n",
       "4        1.0       4.0  ...  114.0    54.0   55.2  164.9    20.3    37.4   \n",
       "34       1.0       4.0  ...  110.0    72.0   66.6  161.6    25.5     NaN   \n",
       "50       2.0       3.0  ...  100.0    62.0   71.3  162.0    27.2    36.8   \n",
       "52       2.0       1.0  ...    NaN     NaN  105.9  157.7    42.6    29.2   \n",
       "55       1.0       2.0  ...  114.0    68.0   77.5  148.3    35.2    30.5   \n",
       "\n",
       "    BMXARML  BMXARMC  BMXWAIST  HIQ210  \n",
       "4      36.0     27.2      80.4     2.0  \n",
       "34      NaN      NaN       NaN     2.0  \n",
       "50     34.6     29.1      94.6     NaN  \n",
       "52     35.0     40.7     129.1     NaN  \n",
       "55     34.0     34.4     107.6     2.0  \n",
       "\n",
       "[5 rows x 28 columns]"
      ]
     },
     "execution_count": 5,
     "metadata": {},
     "output_type": "execute_result"
    }
   ],
   "source": [
    "# Get the women between 35 and 50. The value of RIAGENDR is equal to 2 if a subject is female\n",
    "middle_age_women = da.query(\"RIDAGEYR >= 35 & RIDAGEYR <= 50 & RIAGENDR == 'female'\")\n",
    "middle_age_women.head()"
   ]
  },
  {
   "cell_type": "code",
   "execution_count": 6,
   "id": "41d90d67-1e5c-4253-9b67-7c56e11a78b4",
   "metadata": {
    "tags": []
   },
   "outputs": [],
   "source": [
    "# Check that our data are correct! This step is not necessary but it is good practice :)\n",
    "assert np.all(middle_age_women['RIAGENDR'] == 'female')\n",
    "assert np.all(middle_age_women['RIDAGEYR'] <= 50)\n",
    "assert np.all(middle_age_women['RIDAGEYR'] >= 35)\n",
    "\n",
    "# assert လုပ်တာကမှန်/မမှန် စစ်တာ။ မမှန်ရင် AssertionError တက်မည်။"
   ]
  },
  {
   "cell_type": "code",
   "execution_count": 7,
   "id": "b641a9eb-b123-4f79-87b5-a6735b9c5143",
   "metadata": {
    "tags": []
   },
   "outputs": [],
   "source": [
    "# Partition the group into married and non-married women\n",
    "married_middle_age_women = middle_age_women.query(\"DMDMARTL == 'married'\")\n",
    "non_married_middle_age_women = middle_age_women.query(\"DMDMARTL != 'married'\")\n",
    "\n",
    "# More data checks!\n",
    "assert np.all(married_middle_age_women['DMDMARTL'] == \"married\")\n",
    "assert np.all(non_married_middle_age_women['DMDMARTL'] != \"married\")"
   ]
  },
  {
   "cell_type": "code",
   "execution_count": 8,
   "id": "412878e2-57d9-4712-af60-8b2171312208",
   "metadata": {
    "tags": []
   },
   "outputs": [
    {
     "data": {
      "text/plain": [
       "'The proportion of married middle age women (N=449) who completed college is: 0.36'"
      ]
     },
     "execution_count": 8,
     "metadata": {},
     "output_type": "execute_result"
    }
   ],
   "source": [
    "# We now have checked our data is valid and is partitioned correctly. We \n",
    "# now can compute the 90% confidence intervals for the proportion which have\n",
    "# completed college. This is coded in the DMDEDUC2 variable and it is equal to\n",
    "# 5 if they have completed college or above\n",
    "married_and_completed_college = married_middle_age_women['DMDEDUC2'] == 5\n",
    "p_hat_married = np.mean(married_and_completed_college)\n",
    "married_sample_size = married_and_completed_college.size\n",
    "\"The proportion of married middle age women (N={}) who completed college is: {:.2f}\".\\\n",
    "format(married_sample_size, p_hat_married)"
   ]
  },
  {
   "cell_type": "code",
   "execution_count": 9,
   "id": "b6b39cfb-b7ed-4e5d-856a-6ff5b04a370a",
   "metadata": {
    "tags": []
   },
   "outputs": [
    {
     "data": {
      "text/plain": [
       "'The proportion of non-married middle age women (N=338) who completed college is: 0.21'"
      ]
     },
     "execution_count": 9,
     "metadata": {},
     "output_type": "execute_result"
    }
   ],
   "source": [
    "# We can do the same for non-married women\n",
    "non_married_and_completed_college = non_married_middle_age_women['DMDEDUC2'] == 5\n",
    "p_hat_non_married = np.mean(non_married_and_completed_college)\n",
    "non_married_sample_size = non_married_and_completed_college.size\n",
    "\"The proportion of non-married middle age women (N={}) who completed college is: {:.2f}\" \\\n",
    ".format(non_married_sample_size, p_hat_non_married)"
   ]
  },
  {
   "cell_type": "code",
   "execution_count": 10,
   "id": "5ebbac1e-f3c2-4308-aa17-f546a8aef5fc",
   "metadata": {
    "tags": []
   },
   "outputs": [
    {
     "name": "stdout",
     "output_type": "stream",
     "text": [
      "1.6448536269514722\n"
     ]
    },
    {
     "data": {
      "text/plain": [
       "'A 90% confidence interval for the proportion of married women who completed college is (0.32, 0.40)'"
      ]
     },
     "execution_count": 10,
     "metadata": {},
     "output_type": "execute_result"
    }
   ],
   "source": [
    "# We can now compute the confidence intervals. Remember, for a two-sided \n",
    "# confidence interval, we need 5% in each of the tails and 95% PPF will give us\n",
    "# this value !\n",
    "z_multiplier = scipy.stats.norm.ppf(q = 0.95)\n",
    "print(z_multiplier)\n",
    "married_standard_error = np.sqrt(p_hat_married * (1 - p_hat_married) / married_sample_size)\n",
    "ci_married_lower_bound = p_hat_married - z_multiplier * married_standard_error\n",
    "ci_married_upper_bound = p_hat_married + z_multiplier * married_standard_error\n",
    "\"A 90% confidence interval for the proportion of married women who completed college is ({:.2f}, {:.2f})\".format(\n",
    "    ci_married_lower_bound, \n",
    "    ci_married_upper_bound\n",
    ")\n",
    "\n",
    "# ppf = Percent point function (inverse of cdf — percentiles)."
   ]
  },
  {
   "cell_type": "code",
   "execution_count": 11,
   "id": "e205e8a9-d5bd-4b2f-ba8f-2c785615f9e1",
   "metadata": {
    "tags": []
   },
   "outputs": [
    {
     "data": {
      "text/plain": [
       "'A 90% confidence interval for the proportion of non-married women who completed college is (0.18, 0.25)'"
      ]
     },
     "execution_count": 11,
     "metadata": {},
     "output_type": "execute_result"
    }
   ],
   "source": [
    "# We now can do the same for non-married women\n",
    "z_multiplier = scipy.stats.norm.ppf(q = 0.95)\n",
    "non_married_standard_error = np.sqrt(p_hat_non_married * (1 - p_hat_non_married) / non_married_sample_size)\n",
    "ci_non_married_lower_bound = p_hat_non_married - z_multiplier * non_married_standard_error\n",
    "ci_non_married_upper_bound = p_hat_non_married + z_multiplier * non_married_standard_error\n",
    "\"A 90% confidence interval for the proportion of non-married women who completed college is ({:.2f}, {:.2f})\" \\\n",
    ".format(ci_non_married_lower_bound, ci_non_married_upper_bound)"
   ]
  },
  {
   "cell_type": "markdown",
   "id": "1f6cc703-a976-4cd4-bac9-f7139dbb91f6",
   "metadata": {},
   "source": [
    "__Q1a.__ Identify which of the two confidence intervals is wider, and explain why this is the case. "
   ]
  },
  {
   "cell_type": "markdown",
   "id": "cf002dad-2aa0-4988-925e-d95ee8f44428",
   "metadata": {},
   "source": [
    "The width of the confidence interval for the population proportion of married women who completed college is eight percentage points wide while the confidence interval for non-married women is seven points wide. The confidence interval for married women is larger, despite having a larger sample size, because the $\\hat{p}_{married}$ estimate is closer to 50% than the $\\hat{p}_{non-married}$ so the standard error of $\\hat{p}_{married}$ is wider."
   ]
  },
  {
   "cell_type": "markdown",
   "id": "5e509f8a-5ea3-4121-95e2-627b8025f9fb",
   "metadata": {},
   "source": [
    "__Q1b.__ Write 1-2 sentences summarizing these findings for an audience that does not know what a confidence interval is (the goal here is to report the substance of what you learned about how marital status and educational attainment are related, not to teach a person what a confidence interval is)."
   ]
  },
  {
   "cell_type": "markdown",
   "id": "e24aee57-6f53-4880-9975-88b71908d5cf",
   "metadata": {},
   "source": [
    "We can see that, on average, a middle age woman who is married is more likely to have completed college than a middle age women who is not married, and the confidence intervals for these two estimates do not overlap."
   ]
  },
  {
   "cell_type": "markdown",
   "id": "2b0e07d7-6baf-4ec5-b254-a6299798341c",
   "metadata": {},
   "source": [
    "## Question 2\n",
    "\n",
    "Construct a 95% confidence interval for the proportion of smokers who are female. Construct a 95% confidence interval for the proportion of smokers who are male. Construct a 95% confidence interval for the **difference** between those two gender proportions."
   ]
  },
  {
   "cell_type": "code",
   "execution_count": 12,
   "id": "ecda9d7b-383b-4ccf-86a6-9f0ec6a646c9",
   "metadata": {
    "tags": []
   },
   "outputs": [],
   "source": [
    "da[\"SMQ020x\"]= da.SMQ020.replace({1: \"Yes\", 2: \"No\", 7: np.nan, 9: np.nan})\n",
    "da[\"RIAGENDRx\"] = da.RIAGENDR.replace({1: \"Male\", 2: \"Female\"})"
   ]
  },
  {
   "cell_type": "code",
   "execution_count": 13,
   "id": "7e57d4e9-99d1-446e-b3f2-c7ce68e8c98a",
   "metadata": {
    "tags": []
   },
   "outputs": [],
   "source": [
    "# First, lets prepare our data\n",
    "females = da.query('RIAGENDRx == \"female\"')\n",
    "males = da.query('RIAGENDRx == \"male\"')\n",
    "\n",
    "# I found the smoking variable here: https://wwwn.cdc.gov/Nchs/Nhanes/2015-2016/SMQ_I.htm#SMQ020\n",
    "is_female_smoker = females['SMQ020x'] == \"Yes\"\n",
    "is_male_smoker = males['SMQ020x'] == \"Yes\""
   ]
  },
  {
   "cell_type": "code",
   "execution_count": 14,
   "id": "2257fbc1-5d6b-4e20-975a-28cd5879d360",
   "metadata": {
    "tags": []
   },
   "outputs": [],
   "source": [
    "# In order to reduce the chance of mistakes, I'm going to create a simple function\n",
    "# for computing confidence intervals. This function will do the exact same steps as \n",
    "# above so nothing should be scary :)\n",
    "def MakeAConfidenceInterval(data, confidence):\n",
    "    p_hat = np.mean(data)\n",
    "    n = data.size\n",
    "    z_multiplier = scipy.stats.norm.ppf(q = 1 - (1 - confidence) / 2)\n",
    "    standard_error = np.sqrt(p_hat * (1 - p_hat) / n)\n",
    "    lower_bound = p_hat - z_multiplier * standard_error\n",
    "    upper_bound = p_hat + z_multiplier * standard_error\n",
    "    return {\"phat\": p_hat, \"n\":n, \"lower_bound\":lower_bound, \"upper_bound\":upper_bound}"
   ]
  },
  {
   "cell_type": "code",
   "execution_count": 15,
   "id": "b9e83e8e-19ad-43d6-a361-4895f12fcaac",
   "metadata": {
    "tags": []
   },
   "outputs": [
    {
     "data": {
      "text/plain": [
       "'The CI for female smokers (N=2976) is (0.29, 0.32)'"
      ]
     },
     "execution_count": 15,
     "metadata": {},
     "output_type": "execute_result"
    }
   ],
   "source": [
    "female_smoking_ci = MakeAConfidenceInterval(data = is_female_smoker, confidence = 0.95)\n",
    "\"The CI for female smokers (N={}) is ({:.2f}, {:.2f})\".format(\n",
    "    female_smoking_ci['n'],\n",
    "    female_smoking_ci['lower_bound'],\n",
    "    female_smoking_ci['upper_bound']\n",
    ")"
   ]
  },
  {
   "cell_type": "code",
   "execution_count": 16,
   "id": "6171007a-a788-42e4-9f72-258b5d19a766",
   "metadata": {
    "tags": []
   },
   "outputs": [
    {
     "data": {
      "text/plain": [
       "'A CI for male smokers (N=2759) is (0.49, 0.53)'"
      ]
     },
     "execution_count": 16,
     "metadata": {},
     "output_type": "execute_result"
    }
   ],
   "source": [
    "male_smoking_ci = MakeAConfidenceInterval(data = is_male_smoker, confidence = 0.95)\n",
    "\"A CI for male smokers (N={}) is ({:.2f}, {:.2f})\".format(\n",
    "    male_smoking_ci['n'],\n",
    "    male_smoking_ci['lower_bound'],\n",
    "    male_smoking_ci['upper_bound']\n",
    ")"
   ]
  },
  {
   "cell_type": "code",
   "execution_count": 17,
   "id": "1a01ea12-7ac3-4e8f-9b43-f471d2c5fea6",
   "metadata": {
    "tags": []
   },
   "outputs": [
    {
     "data": {
      "text/plain": [
       "'A CI for the difference between male smoking proportion less the female smoking proportion is (0.18, 0.23)'"
      ]
     },
     "execution_count": 17,
     "metadata": {},
     "output_type": "execute_result"
    }
   ],
   "source": [
    "# Now we can construct the confidence interval for the difference between the proportions.\n",
    "# This formula is pretty long so we will break it down into parts\n",
    "\n",
    "# First compute the standard error of the difference\n",
    "standard_error = np.sqrt(\n",
    "    female_smoking_ci['phat'] * (1 - female_smoking_ci['phat']) / female_smoking_ci['n'] + \n",
    "    male_smoking_ci['phat'] * (1 - male_smoking_ci['phat']) / male_smoking_ci['n']\n",
    ")\n",
    "\n",
    "# Get the z-multiplier for our 95% confidence interval\n",
    "z_multiplier = scipy.stats.norm.ppf(q = 0.975)\n",
    "\n",
    "# Compute the point estimate for the differences between the male and female smoking proportion\n",
    "difference = male_smoking_ci['phat'] - female_smoking_ci['phat']\n",
    "\n",
    "# Compute the lower_bound and the upper_bound of the confidence interval\n",
    "lower_bound = difference - z_multiplier * standard_error\n",
    "upper_bound = difference + z_multiplier * standard_error\n",
    "\"A CI for the difference between male smoking proportion less the female smoking proportion is ({:.2f}, {:.2f})\".format(\n",
    "  lower_bound,\n",
    "  upper_bound\n",
    ")"
   ]
  },
  {
   "cell_type": "markdown",
   "id": "7d8206e4-0423-4278-998f-f225ba3e0bf2",
   "metadata": {},
   "source": [
    "__Q2a.__ Why might it be relevant to report the separate gender proportions **and** the difference between the gender proportions?"
   ]
  },
  {
   "cell_type": "markdown",
   "id": "881b48fb-c030-4cdf-8433-3f899c9740d9",
   "metadata": {},
   "source": [
    "When we look at the confidence interval for the males who smoke and the proportion of females who smoke, we see how they behave marginally. That is, we see how they behave in their own group. But in order to compare them directly, we also have to compute the confidence interval for the difference. This makes sure that the two samples are compared fairly and we, as much as possible, control for sample size differences. "
   ]
  },
  {
   "cell_type": "markdown",
   "id": "73369891-2694-4b2d-ba95-3c99c7346a3b",
   "metadata": {},
   "source": [
    "__Q2b.__ How does the **width** of the confidence interval for the difference between the gender proportions compare to the widths of the confidence intervals for the separate gender proportions?"
   ]
  },
  {
   "cell_type": "markdown",
   "id": "945f1d10-035f-4f3a-ab7f-2dde6c5e5438",
   "metadata": {},
   "source": [
    "The width for the difference in proportions will always be larger than the widths of the two intervals it is made from. This happens because of the way the standard error is composed. In general, $\\sqrt{A} < \\sqrt{A + B}$ when $B > 0$"
   ]
  },
  {
   "cell_type": "markdown",
   "id": "32fa4711-5f79-4cf8-b8a8-bdf16e8ee302",
   "metadata": {},
   "source": [
    "## Question 3\n",
    "\n",
    "Construct a 95% interval for height ([BMXHT](https://wwwn.cdc.gov/Nchs/Nhanes/2015-2016/BMX_I.htm#BMXHT)) in centimeters.  Then convert height from centimeters to inches by dividing by 2.54, and construct a 95% confidence interval for height in inches.  Finally, convert the endpoints (the lower and upper confidence limits) of the confidence interval from inches to back to centimeters."
   ]
  },
  {
   "cell_type": "code",
   "execution_count": 18,
   "id": "edcd284d-39cf-4f9f-bb31-73f8961a2ae3",
   "metadata": {
    "tags": []
   },
   "outputs": [
    {
     "data": {
      "text/plain": [
       "0    184.5\n",
       "1    171.4\n",
       "2    170.1\n",
       "3    160.9\n",
       "4    164.9\n",
       "Name: BMXHT, dtype: float64"
      ]
     },
     "execution_count": 18,
     "metadata": {},
     "output_type": "execute_result"
    }
   ],
   "source": [
    "# First we get the data and look at it\n",
    "height_data = da['BMXHT']\n",
    "height_data.head()"
   ]
  },
  {
   "cell_type": "code",
   "execution_count": 19,
   "id": "b7a52026-aa6b-4bfb-86f0-7f31a49f4eb1",
   "metadata": {
    "tags": []
   },
   "outputs": [
    {
     "data": {
      "text/plain": [
       "'A CI for the height, in centimeters, of someone in the study is: (165.88, 166.40)'"
      ]
     },
     "execution_count": 19,
     "metadata": {},
     "output_type": "execute_result"
    }
   ],
   "source": [
    "# We can compute the 95% confidence interval using the same methods as before, \n",
    "# this time just using the formulas for a one population mean\n",
    "\n",
    "# Get the sample standard deviation\n",
    "s = np.std(height_data, ddof = 1)           # Means Delta Degrees of Freedom\n",
    "n = height_data.size\n",
    "\n",
    "# Compute the standard error\n",
    "standard_error = s / np.sqrt(n)\n",
    "\n",
    "# Compute the t-multiplier for a 95% confidence interval (2.5% in the tails)\n",
    "t_multiplier = scipy.stats.t.ppf(q = 0.975, df = n - 1)\n",
    "# q = quantile or probability value, df = degree of freedom\n",
    "\n",
    "\n",
    "\n",
    "# Compute the confidence interval\n",
    "x_hat = np.mean(height_data)\n",
    "cm_lower_bound = x_hat - t_multiplier * standard_error\n",
    "cm_upper_bound = x_hat + t_multiplier * standard_error\n",
    "\"A CI for the height, in centimeters, of someone in the study is: ({:.2f}, {:.2f})\".format(\n",
    "  cm_lower_bound,\n",
    "  cm_upper_bound\n",
    ")"
   ]
  },
  {
   "cell_type": "markdown",
   "id": "0818a1e0-0aa7-47dd-b0e8-6c05cf3ef38b",
   "metadata": {},
   "source": [
    "**Note: Chat-GPT**\n",
    "\n",
    "For a 95% confidence interval, we often use a significance level of α = 0.05. Since the **t-distribution** is symmetric, the critical values for a two-tailed interval would be split into two tails, each representing half of the α level. Therefore, the quantile (q) for a 95% confidence interval is set to 1 - α/2 = 0.975.\n",
    "\n",
    "**0.975** represents the cumulative probability that corresponds to the upper tail of the distribution, leaving **0.025** in the lower tail. This ensures that the central region (95% between the two critical values) contains the bulk of the distribution.\n",
    "\n",
    "So, the use of q = 0.975 is a common practice when calculating critical values for a 95% confidence interval in a two-tailed test."
   ]
  },
  {
   "cell_type": "markdown",
   "id": "e1b967af-cd44-44c5-945e-902db84aa8e8",
   "metadata": {},
   "source": [
    "__Q3a.__ Describe how the confidence interval constructed in centimeters relates to the confidence interval constructed in inches."
   ]
  },
  {
   "cell_type": "markdown",
   "id": "39daf2df-adde-4fea-a128-eb500f4203ce",
   "metadata": {},
   "source": [
    "They are equal. The units of a measurement should not impact how the statistical inference on that quantity is performed for confidence intervals like these "
   ]
  },
  {
   "cell_type": "markdown",
   "id": "79616e25-15ba-4fe1-9029-6d645c395620",
   "metadata": {},
   "source": [
    "## Question 4\n",
    "\n",
    "Partition the sample based on 10-year age bands, i.e. the resulting groups will consist of people with ages from 18-28, 29-38, etc. Construct 95% confidence intervals for the difference between the mean BMI for females and for males within each age band."
   ]
  },
  {
   "cell_type": "code",
   "execution_count": 22,
   "id": "fff793e2-8ac4-4ae5-9460-c7a44f0debd2",
   "metadata": {
    "tags": []
   },
   "outputs": [
    {
     "data": {
      "text/plain": [
       "0    (60, 70]\n",
       "1    (50, 60]\n",
       "2    (70, 80]\n",
       "3    (50, 60]\n",
       "4    (40, 50]\n",
       "Name: RIDAGEYR, dtype: category\n",
       "Categories (8, interval[int64, right]): [(0, 10] < (10, 20] < (20, 30] < (30, 40] < (40, 50] < (50, 60] < (60, 70] < (70, 80]]"
      ]
     },
     "execution_count": 22,
     "metadata": {},
     "output_type": "execute_result"
    }
   ],
   "source": [
    "# Get all of the ranges of age using the cut function\n",
    "age_ranges = pd.cut(da['RIDAGEYR'], bins = [0, 10, 20, 30, 40, 50, 60, 70, 80])\n",
    "age_ranges.head()"
   ]
  },
  {
   "cell_type": "code",
   "execution_count": 26,
   "id": "15732880-e6ed-487c-97a3-fb58ccfd998f",
   "metadata": {
    "tags": []
   },
   "outputs": [
    {
     "data": {
      "text/plain": [
       "[Interval(30, 40, closed='right'),\n",
       " Interval(10, 20, closed='right'),\n",
       " Interval(40, 50, closed='right'),\n",
       " Interval(60, 70, closed='right'),\n",
       " Interval(20, 30, closed='right'),\n",
       " Interval(70, 80, closed='right'),\n",
       " Interval(50, 60, closed='right')]"
      ]
     },
     "execution_count": 26,
     "metadata": {},
     "output_type": "execute_result"
    }
   ],
   "source": [
    "# Get a unique list of all of the age ranges:\n",
    "unique_age_ranges = list(set(age_ranges))\n",
    "unique_age_ranges"
   ]
  },
  {
   "cell_type": "markdown",
   "id": "d6700e19-5459-4d91-a53f-d35e15d9b242",
   "metadata": {},
   "source": [
    "__Note__: `set()` items are unchangeable, but you can remove items and add new items."
   ]
  },
  {
   "cell_type": "code",
   "execution_count": 28,
   "id": "e1e208dd-1784-4306-a8fc-ad8fa43dc63f",
   "metadata": {
    "tags": []
   },
   "outputs": [
    {
     "data": {
      "text/plain": [
       "[Interval(10, 20, closed='right'),\n",
       " Interval(20, 30, closed='right'),\n",
       " Interval(30, 40, closed='right'),\n",
       " Interval(40, 50, closed='right'),\n",
       " Interval(50, 60, closed='right'),\n",
       " Interval(60, 70, closed='right'),\n",
       " Interval(70, 80, closed='right')]"
      ]
     },
     "execution_count": 28,
     "metadata": {},
     "output_type": "execute_result"
    }
   ],
   "source": [
    "sorted(unique_age_ranges)"
   ]
  },
  {
   "cell_type": "code",
   "execution_count": 27,
   "id": "17f76dc8-36c4-4471-bd01-8fbe8c22f696",
   "metadata": {},
   "outputs": [],
   "source": [
    "# First we are going to construct a function for creating the confidence interval of a mean.\n",
    "# This formula can be complicated so don't worry if you have to take a little bit of time\n",
    "# to understand it\n",
    "def MakeUnPooledMeanConfidenceInterval(data_one, data_two, confidence):\n",
    "    n1 = data_one.size\n",
    "    n2 = data_two.size\n",
    "    \n",
    "    v1 = np.var(data_one, ddof = 1)\n",
    "    v2 = np.var(data_two, ddof = 1)\n",
    "    \n",
    "    standard_error = np.sqrt(v1 / n1 + v2 / n2)\n",
    "    \n",
    "    t_multiplier = scipy.stats.t.ppf(1 - (1 - confidence) / 2, df = min(n1, n2))\n",
    "    \n",
    "    diff = np.mean(data_one) - np.mean(data_two)\n",
    "    \n",
    "    lower_bound = diff - t_multiplier * standard_error\n",
    "    upper_bound = diff + t_multiplier * standard_error\n",
    "    \n",
    "    return {\"n1\": n1, \"n2\": n2, \"lower_bound\": lower_bound, \"upper_bound\": upper_bound}"
   ]
  },
  {
   "cell_type": "code",
   "execution_count": 30,
   "id": "d99eaed2-d5d0-4092-9110-bf746904c041",
   "metadata": {
    "tags": []
   },
   "outputs": [
    {
     "name": "stdout",
     "output_type": "stream",
     "text": [
      "Age: (10, 20] | CI for difference in male (n1:175) bmi less female (n2:165) bmi: (-1.70, 1.29) | Width: 3.00\n",
      "Age: (20, 30] | CI for difference in male (n1:432) bmi less female (n2:514) bmi: (-1.63, 0.21) | Width: 1.85\n",
      "Age: (30, 40] | CI for difference in male (n1:458) bmi less female (n2:474) bmi: (-1.68, 0.25) | Width: 1.93\n",
      "Age: (40, 50] | CI for difference in male (n1:401) bmi less female (n2:502) bmi: (-2.38, -0.49) | Width: 1.90\n",
      "Age: (50, 60] | CI for difference in male (n1:454) bmi less female (n2:470) bmi: (-2.39, -0.64) | Width: 1.75\n",
      "Age: (60, 70] | CI for difference in male (n1:437) bmi less female (n2:441) bmi: (-2.59, -0.78) | Width: 1.81\n",
      "Age: (70, 80] | CI for difference in male (n1:402) bmi less female (n2:410) bmi: (-1.96, -0.40) | Width: 1.56\n"
     ]
    }
   ],
   "source": [
    "# Now we are going to loop through each of the age ranges, make our dataframes, and \n",
    "# compute the confidence intervals !\n",
    "for age_range in sorted(unique_age_ranges):\n",
    "    is_this_age = da[age_ranges == age_range]\n",
    "    males_bmi = is_this_age[is_this_age['RIAGENDRx'] == \"male\"]['BMXBMI']\n",
    "    females_bmi = is_this_age[is_this_age['RIAGENDRx'] == \"female\"]['BMXBMI']\n",
    "    ci = MakeUnPooledMeanConfidenceInterval(males_bmi, females_bmi, 0.95)\n",
    "    print(\"Age: {} | CI for difference in male (n1:{}) bmi less female (n2:{}) bmi: ({:.2f}, {:.2f}) | Width: {:.2f}\".format(\n",
    "        age_range, \n",
    "        ci[\"n1\"],\n",
    "        ci[\"n2\"],\n",
    "        ci['lower_bound'], \n",
    "        ci['upper_bound'], \n",
    "        ci['upper_bound'] - ci['lower_bound']\n",
    "    ))"
   ]
  },
  {
   "cell_type": "markdown",
   "id": "cf7a786f-5d62-46e5-991a-d4be862702d3",
   "metadata": {},
   "source": [
    "__Q4a.__ How do the widths of these confidence intervals differ?  Provide an explanation for any substantial differences in the confidence interval widths that you see."
   ]
  },
  {
   "cell_type": "markdown",
   "id": "1f0dd0b6-c585-41ab-bae0-3e0e8dab165a",
   "metadata": {},
   "source": [
    "These confidence intervals could vary for a number of reasons. The main reason why they vary is the sample sizes of some partitions are drastically larger than others. For example, in the 10-20 age range, we only have 175 males and 165 females. Compare this with the rest of the partitions which have usually 400-500 samples. This sample size difference makes a large difference in the standard error and also the resulting interval. "
   ]
  },
  {
   "cell_type": "markdown",
   "id": "76189966-8925-41c5-b592-4350c0f68e8c",
   "metadata": {},
   "source": [
    "## Question 5\n",
    "\n",
    "Construct a 95% confidence interval for the first and second systolic blood pressure measures, and for the difference between the first and second systolic blood pressure measurements within a subject."
   ]
  },
  {
   "cell_type": "code",
   "execution_count": 31,
   "id": "d80251d2-8083-439f-b16b-a63922cbfa91",
   "metadata": {
    "tags": []
   },
   "outputs": [],
   "source": [
    "# First we can prep the data by extracting out the variables from our dataframe. \n",
    "first_systolic = da['BPXSY1']\n",
    "second_systolic = da['BPXSY2']\n",
    "\n",
    "# Compute the differences\n",
    "diff_systolic = first_systolic - second_systolic"
   ]
  },
  {
   "cell_type": "code",
   "execution_count": 33,
   "id": "810f929a-d0a7-4302-816c-1ebc4affeac5",
   "metadata": {
    "tags": []
   },
   "outputs": [],
   "source": [
    "# We already did the long form math above so I'm going to create a function to do this\n",
    "# more systematically\n",
    "def ComputeMeanConfidenceInterval(data, confidence):   \n",
    "    s = np.std(data, ddof = 1)\n",
    "    n = data.size\n",
    "    standard_error = s / np.sqrt(n)\n",
    "    t_multiplier = scipy.stats.t.ppf(q = 1 - (1 - confidence) / 2, df = n - 1)\n",
    "\n",
    "    # Compute the confidence interval\n",
    "    x_hat = np.mean(data)\n",
    "    lower_bound = x_hat - t_multiplier * standard_error\n",
    "    upper_bound = x_hat + t_multiplier * standard_error\n",
    "    return {\"lower_bound\": lower_bound, \"upper_bound\": upper_bound, \"n\": n}\n",
    "\n",
    "# Create a really simple function for printing out the confidence interval of our data\n",
    "def PrintCIForSystolicMeasures(input_map, name_of_data):\n",
    "    print(\"The confidence interval for the {} data is: ({:.2f}, {:.2f})\".format(\n",
    "        name_of_data, \n",
    "        input_map[\"lower_bound\"], \n",
    "        input_map[\"upper_bound\"]\n",
    "    ))"
   ]
  },
  {
   "cell_type": "code",
   "execution_count": 34,
   "id": "ecbba813-0195-4a3a-8fe1-9de958e9059a",
   "metadata": {
    "tags": []
   },
   "outputs": [
    {
     "name": "stdout",
     "output_type": "stream",
     "text": [
      "The confidence interval for the First Systolic data is: (124.61, 125.56)\n",
      "The confidence interval for the Second Systolic data is: (124.30, 125.26)\n",
      "The confidence interval for the the difference in the first and second systolic data is: (0.54, 0.81)\n"
     ]
    }
   ],
   "source": [
    "# Compute the CI for the first_systolic and second_systolic measures\n",
    "first_ci = ComputeMeanConfidenceInterval(first_systolic, confidence = 0.95)\n",
    "PrintCIForSystolicMeasures(first_ci, \"First Systolic\")\n",
    "second_ci = ComputeMeanConfidenceInterval(second_systolic, confidence = 0.95)\n",
    "PrintCIForSystolicMeasures(second_ci, \"Second Systolic\")\n",
    "# We are fortunate: the math for a mean difference confidence interval is the \n",
    "# same as the math for a one-population mean interval so we can reuse the function\n",
    "# above\n",
    "diff_ci = ComputeMeanConfidenceInterval(diff_systolic, confidence = 0.95)\n",
    "PrintCIForSystolicMeasures(diff_ci, \"the difference in the first and second systolic\")"
   ]
  },
  {
   "cell_type": "markdown",
   "id": "cb659268-5ac1-4c24-98ac-c7d24f90678d",
   "metadata": {},
   "source": [
    "__Q5a.__ Based on these confidence intervals, would you say that a difference of zero between the population mean values of the first and second systolic blood pressure measures is consistent with the data?"
   ]
  },
  {
   "cell_type": "markdown",
   "id": "3eee59b0-1d51-41a2-b9bd-18a958653fd1",
   "metadata": {},
   "source": [
    "From our data, we estimate with 95% confidence the population mean difference between the first and second systolic blood pressure measures is in between 0.54 and 0.81 units. Since zero is not within this interval, we have sufficient evidence to reject the claim, at the 95% confidence level, that the population mean difference between the first and second systolic blood pressure measures is zero."
   ]
  },
  {
   "cell_type": "markdown",
   "id": "0df67202-fa0b-4e4f-a821-753b28496760",
   "metadata": {},
   "source": [
    "__Q5b.__ Discuss how the width of the confidence interval for the within-subject difference compares to the widths of the confidence intervals for the first and second measures."
   ]
  },
  {
   "cell_type": "markdown",
   "id": "f37b9cb9-192d-49ef-911b-29aca7093059",
   "metadata": {},
   "source": [
    "The within subject variation (the difference of the two measures) is less than the intra-population variation (the variation within the first measure itself and the variation within the second measure itself). This is to say, a person is more like themselves than they are like the population of first and second measures. "
   ]
  },
  {
   "cell_type": "markdown",
   "id": "b5278a38-7f34-4034-81f5-3cdff63ceac0",
   "metadata": {},
   "source": [
    "## Question 6\n",
    "\n",
    "Construct a 95% confidence interval for the mean difference between the average age of a smoker, and the average age of a non-smoker."
   ]
  },
  {
   "cell_type": "code",
   "execution_count": 36,
   "id": "a23a1e7b-c2d5-4936-8b34-525671b8bcf5",
   "metadata": {
    "tags": []
   },
   "outputs": [
    {
     "data": {
      "text/plain": [
       "'A CI for the age difference between smokers less non-smokers is: (5.89, 7.78) years'"
      ]
     },
     "execution_count": 36,
     "metadata": {},
     "output_type": "execute_result"
    }
   ],
   "source": [
    "# We can prepare our data by subsetting for smokers and non-smokers and then extacting their age\n",
    "age_smokers = da[da['SMQ020x'] == \"Yes\"]['RIDAGEYR']\n",
    "age_non_smokers = da[da['SMQ020x'] == \"No\"]['RIDAGEYR']\n",
    "\n",
    "# We are going to recycle our function from above to make sure we don't make any silly mistakes! \n",
    "diff_age_ci = MakeUnPooledMeanConfidenceInterval(age_smokers, age_non_smokers, confidence = 0.95)\n",
    "\"A CI for the age difference between smokers less non-smokers is: ({:.2f}, {:.2f}) years\".format(\n",
    "    diff_age_ci[\"lower_bound\"], \n",
    "    diff_age_ci[\"upper_bound\"]\n",
    ")"
   ]
  },
  {
   "cell_type": "markdown",
   "id": "a4030277-306f-4d4f-9210-d12853c69680",
   "metadata": {},
   "source": [
    "__Q6a.__ Use graphical and numerical techniques to compare the variation in the ages of smokers to the variation in the ages of non-smokers.  "
   ]
  },
  {
   "cell_type": "code",
   "execution_count": 37,
   "id": "f89323a4-2ead-475a-bb8c-6c1a89a105e9",
   "metadata": {},
   "outputs": [
    {
     "name": "stdout",
     "output_type": "stream",
     "text": [
      "The mean of smokers age is: 52.10\n",
      "The standard deviation of smokers age is: 17.46\n"
     ]
    },
    {
     "data": {
      "image/png": "[encoded data removed]",
      "text/plain": [
       "<Figure size 640x480 with 1 Axes>"
      ]
     },
     "metadata": {},
     "output_type": "display_data"
    }
   ],
   "source": [
    "# Create a histogram for smokers\n",
    "sns.histplot(age_smokers)\n",
    "print(\"The mean of smokers age is: {:.2f}\".format(np.mean(age_smokers)))\n",
    "print(\"The standard deviation of smokers age is: {:.2f}\".format(np.std(age_smokers, ddof = 1)))"
   ]
  },
  {
   "cell_type": "code",
   "execution_count": 39,
   "id": "71f7910d-57fa-4c66-9937-cff8d49bcedd",
   "metadata": {
    "tags": []
   },
   "outputs": [
    {
     "name": "stdout",
     "output_type": "stream",
     "text": [
      "The mean of smokers age is: 45.26\n",
      "The standard deviation of smokers age is: 18.54\n"
     ]
    },
    {
     "data": {
      "image/png": "[encoded data removed]",
      "text/plain": [
       "<Figure size 640x480 with 1 Axes>"
      ]
     },
     "metadata": {},
     "output_type": "display_data"
    }
   ],
   "source": [
    "# Create a histogram for nonsmokers\n",
    "sns.histplot(age_non_smokers)\n",
    "print(\"The mean of smokers age is: {:.2f}\".format(np.mean(age_non_smokers)))\n",
    "print(\"The standard deviation of smokers age is: {:.2f}\".format(np.std(age_non_smokers, ddof = 1)))"
   ]
  },
  {
   "cell_type": "markdown",
   "id": "c3d1fe14-01ca-45d4-8306-1aeb7cd72c70",
   "metadata": {},
   "source": [
    "__Q6b.__ Does it appear that uncertainty about the mean age of smokers, or uncertainty about the mean age of non-smokers contributed more to the uncertainty for the mean difference that we are focusing on here?"
   ]
  },
  {
   "cell_type": "markdown",
   "id": "7ba82303-b137-4706-8e68-0f89c04f0e64",
   "metadata": {},
   "source": [
    "The standard deviation of non-smokers is larger than the standard deviation for smokers, so that would be contributing more than the uncertainty for smokers. Smokers, on average, are older"
   ]
  },
  {
   "cell_type": "code",
   "execution_count": null,
   "id": "7b3c226c-db55-414f-9d21-3c21edb3e251",
   "metadata": {},
   "outputs": [],
   "source": []
  }
 ],
 "metadata": {
  "kernelspec": {
   "display_name": "Python 3 (ipykernel)",
   "language": "python",
   "name": "python3"
  },
  "language_info": {
   "codemirror_mode": {
    "name": "ipython",
    "version": 3
   },
   "file_extension": ".py",
   "mimetype": "text/x-python",
   "name": "python",
   "nbconvert_exporter": "python",
   "pygments_lexer": "ipython3",
   "version": "3.11.5"
  }
 },
 "nbformat": 4,
 "nbformat_minor": 5
}
