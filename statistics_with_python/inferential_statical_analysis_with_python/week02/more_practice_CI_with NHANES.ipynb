{
 "cells": [
  {
   "cell_type": "markdown",
   "id": "5ea00815-f959-48c7-92dc-2345009ca95a",
   "metadata": {},
   "source": [
    "# Practice notebook for confidence intervals using NHANES data"
   ]
  },
  {
   "cell_type": "markdown",
   "id": "82613c3f-5d9d-49e7-96e1-6a2df63fdfa9",
   "metadata": {},
   "source": [
    "[github link](https://github.com/karimkmafifi/Inferential-Statistical-Analysis-with-Python---Coursera/blob/master/nhanes_confidence_intervals_practice.ipynb)"
   ]
  },
  {
   "cell_type": "code",
   "execution_count": 16,
   "id": "e52f2e3a-16d3-41e9-a1e9-732e68b57eb3",
   "metadata": {
    "tags": []
   },
   "outputs": [],
   "source": [
    "import matplotlib.pyplot as plt\n",
    "import pandas as pd\n",
    "import numpy as np\n",
    "import seaborn as sns\n",
    "import statsmodels.api as sm\n",
    "import scipy.stats\n",
    "\n",
    "da = pd.read_csv(\"nhanes_2015_2016.csv\")"
   ]
  },
  {
   "cell_type": "markdown",
   "id": "a87f2034-1bd1-47b8-9916-745f47648d37",
   "metadata": {},
   "source": [
    "## Question 1\n",
    "\n",
    "Restrict the sample to women between 35 and 50, then use the marital status variable [DMDMARTL](https://wwwn.cdc.gov/Nchs/Nhanes/2015-2016/DEMO_I.htm#DMDMARTL) to partition this sample into two groups - women who are currently married, and women who are not currently married.  Within each of these groups, calculate the proportion of women who have completed college.  Calculate 95% confidence intervals for each of these proportions."
   ]
  },
  {
   "cell_type": "markdown",
   "id": "bc5502e2-8019-48ab-854a-c4e0174bf11c",
   "metadata": {
    "tags": []
   },
   "source": [
    "## My answer"
   ]
  },
  {
   "cell_type": "code",
   "execution_count": 22,
   "id": "f77eec7e-6625-46ed-9cce-d71279e01ff1",
   "metadata": {
    "tags": []
   },
   "outputs": [
    {
     "data": {
      "text/plain": [
       "array(['married', 'divorced', 'living with partner', 'separated',\n",
       "       'never married', nan, 'widowed', 'refused'], dtype=object)"
      ]
     },
     "execution_count": 22,
     "metadata": {},
     "output_type": "execute_result"
    }
   ],
   "source": [
    "da['DMDMARTL'] = da['DMDMARTL'].replace({1:'married', 2:'widowed', \n",
    "                                         3:'divorced', 4:'separated',\n",
    "                                        5:'never married', 6:'living with partner',\n",
    "                                        77:'refused', 99:\"don't know\", '.':'missing'})\n",
    "\n",
    "da['DMDMARTL'].unique()"
   ]
  },
  {
   "cell_type": "code",
   "execution_count": 23,
   "id": "34171a79-d1b7-451f-9706-be39f3db20d3",
   "metadata": {
    "tags": []
   },
   "outputs": [
    {
     "data": {
      "text/plain": [
       "array(['male', 'female'], dtype=object)"
      ]
     },
     "execution_count": 23,
     "metadata": {},
     "output_type": "execute_result"
    }
   ],
   "source": [
    "da['RIAGENDR'] = da['RIAGENDR'].replace({1:'male', 2:'female', '.':'missing'})\n",
    "da['RIAGENDR'].unique()"
   ]
  },
  {
   "cell_type": "code",
   "execution_count": 5,
   "id": "aea62251-5456-486e-b60c-f55979105f26",
   "metadata": {
    "tags": []
   },
   "outputs": [
    {
     "data": {
      "text/plain": [
       "Index(['SEQN', 'ALQ101', 'ALQ110', 'ALQ130', 'SMQ020', 'RIAGENDR', 'RIDAGEYR',\n",
       "       'RIDRETH1', 'DMDCITZN', 'DMDEDUC2', 'DMDMARTL', 'DMDHHSIZ', 'WTINT2YR',\n",
       "       'SDMVPSU', 'SDMVSTRA', 'INDFMPIR', 'BPXSY1', 'BPXDI1', 'BPXSY2',\n",
       "       'BPXDI2', 'BMXWT', 'BMXHT', 'BMXBMI', 'BMXLEG', 'BMXARML', 'BMXARMC',\n",
       "       'BMXWAIST', 'HIQ210'],\n",
       "      dtype='object')"
      ]
     },
     "execution_count": 5,
     "metadata": {},
     "output_type": "execute_result"
    }
   ],
   "source": [
    "da.columns"
   ]
  },
  {
   "cell_type": "code",
   "execution_count": 25,
   "id": "dd2f9558-7dba-43f4-ac4d-c8a10d24ad33",
   "metadata": {
    "tags": []
   },
   "outputs": [
    {
     "data": {
      "text/html": [
       "<div>\n",
       "<style scoped>\n",
       "    .dataframe tbody tr th:only-of-type {\n",
       "        vertical-align: middle;\n",
       "    }\n",
       "\n",
       "    .dataframe tbody tr th {\n",
       "        vertical-align: top;\n",
       "    }\n",
       "\n",
       "    .dataframe thead th {\n",
       "        text-align: right;\n",
       "    }\n",
       "</style>\n",
       "<table border=\"1\" class=\"dataframe\">\n",
       "  <thead>\n",
       "    <tr style=\"text-align: right;\">\n",
       "      <th></th>\n",
       "      <th>SEQN</th>\n",
       "      <th>ALQ101</th>\n",
       "      <th>ALQ110</th>\n",
       "      <th>ALQ130</th>\n",
       "      <th>SMQ020</th>\n",
       "      <th>RIAGENDR</th>\n",
       "      <th>RIDAGEYR</th>\n",
       "      <th>RIDRETH1</th>\n",
       "      <th>DMDCITZN</th>\n",
       "      <th>DMDEDUC2</th>\n",
       "      <th>...</th>\n",
       "      <th>BPXSY2</th>\n",
       "      <th>BPXDI2</th>\n",
       "      <th>BMXWT</th>\n",
       "      <th>BMXHT</th>\n",
       "      <th>BMXBMI</th>\n",
       "      <th>BMXLEG</th>\n",
       "      <th>BMXARML</th>\n",
       "      <th>BMXARMC</th>\n",
       "      <th>BMXWAIST</th>\n",
       "      <th>HIQ210</th>\n",
       "    </tr>\n",
       "  </thead>\n",
       "  <tbody>\n",
       "    <tr>\n",
       "      <th>4</th>\n",
       "      <td>83736</td>\n",
       "      <td>2.0</td>\n",
       "      <td>1.0</td>\n",
       "      <td>1.0</td>\n",
       "      <td>2</td>\n",
       "      <td>female</td>\n",
       "      <td>42</td>\n",
       "      <td>4</td>\n",
       "      <td>1.0</td>\n",
       "      <td>4.0</td>\n",
       "      <td>...</td>\n",
       "      <td>114.0</td>\n",
       "      <td>54.0</td>\n",
       "      <td>55.2</td>\n",
       "      <td>164.9</td>\n",
       "      <td>20.3</td>\n",
       "      <td>37.4</td>\n",
       "      <td>36.0</td>\n",
       "      <td>27.2</td>\n",
       "      <td>80.4</td>\n",
       "      <td>2.0</td>\n",
       "    </tr>\n",
       "    <tr>\n",
       "      <th>34</th>\n",
       "      <td>83799</td>\n",
       "      <td>NaN</td>\n",
       "      <td>NaN</td>\n",
       "      <td>NaN</td>\n",
       "      <td>2</td>\n",
       "      <td>female</td>\n",
       "      <td>37</td>\n",
       "      <td>2</td>\n",
       "      <td>1.0</td>\n",
       "      <td>4.0</td>\n",
       "      <td>...</td>\n",
       "      <td>110.0</td>\n",
       "      <td>72.0</td>\n",
       "      <td>66.6</td>\n",
       "      <td>161.6</td>\n",
       "      <td>25.5</td>\n",
       "      <td>NaN</td>\n",
       "      <td>NaN</td>\n",
       "      <td>NaN</td>\n",
       "      <td>NaN</td>\n",
       "      <td>2.0</td>\n",
       "    </tr>\n",
       "    <tr>\n",
       "      <th>50</th>\n",
       "      <td>83828</td>\n",
       "      <td>1.0</td>\n",
       "      <td>NaN</td>\n",
       "      <td>2.0</td>\n",
       "      <td>2</td>\n",
       "      <td>female</td>\n",
       "      <td>39</td>\n",
       "      <td>1</td>\n",
       "      <td>2.0</td>\n",
       "      <td>3.0</td>\n",
       "      <td>...</td>\n",
       "      <td>100.0</td>\n",
       "      <td>62.0</td>\n",
       "      <td>71.3</td>\n",
       "      <td>162.0</td>\n",
       "      <td>27.2</td>\n",
       "      <td>36.8</td>\n",
       "      <td>34.6</td>\n",
       "      <td>29.1</td>\n",
       "      <td>94.6</td>\n",
       "      <td>NaN</td>\n",
       "    </tr>\n",
       "    <tr>\n",
       "      <th>52</th>\n",
       "      <td>83832</td>\n",
       "      <td>2.0</td>\n",
       "      <td>1.0</td>\n",
       "      <td>4.0</td>\n",
       "      <td>2</td>\n",
       "      <td>female</td>\n",
       "      <td>50</td>\n",
       "      <td>1</td>\n",
       "      <td>2.0</td>\n",
       "      <td>1.0</td>\n",
       "      <td>...</td>\n",
       "      <td>NaN</td>\n",
       "      <td>NaN</td>\n",
       "      <td>105.9</td>\n",
       "      <td>157.7</td>\n",
       "      <td>42.6</td>\n",
       "      <td>29.2</td>\n",
       "      <td>35.0</td>\n",
       "      <td>40.7</td>\n",
       "      <td>129.1</td>\n",
       "      <td>NaN</td>\n",
       "    </tr>\n",
       "    <tr>\n",
       "      <th>55</th>\n",
       "      <td>83837</td>\n",
       "      <td>2.0</td>\n",
       "      <td>2.0</td>\n",
       "      <td>NaN</td>\n",
       "      <td>2</td>\n",
       "      <td>female</td>\n",
       "      <td>45</td>\n",
       "      <td>1</td>\n",
       "      <td>1.0</td>\n",
       "      <td>2.0</td>\n",
       "      <td>...</td>\n",
       "      <td>114.0</td>\n",
       "      <td>68.0</td>\n",
       "      <td>77.5</td>\n",
       "      <td>148.3</td>\n",
       "      <td>35.2</td>\n",
       "      <td>30.5</td>\n",
       "      <td>34.0</td>\n",
       "      <td>34.4</td>\n",
       "      <td>107.6</td>\n",
       "      <td>2.0</td>\n",
       "    </tr>\n",
       "  </tbody>\n",
       "</table>\n",
       "<p>5 rows × 28 columns</p>\n",
       "</div>"
      ],
      "text/plain": [
       "     SEQN  ALQ101  ALQ110  ALQ130  SMQ020 RIAGENDR  RIDAGEYR  RIDRETH1  \\\n",
       "4   83736     2.0     1.0     1.0       2   female        42         4   \n",
       "34  83799     NaN     NaN     NaN       2   female        37         2   \n",
       "50  83828     1.0     NaN     2.0       2   female        39         1   \n",
       "52  83832     2.0     1.0     4.0       2   female        50         1   \n",
       "55  83837     2.0     2.0     NaN       2   female        45         1   \n",
       "\n",
       "    DMDCITZN  DMDEDUC2  ... BPXSY2  BPXDI2  BMXWT  BMXHT  BMXBMI  BMXLEG  \\\n",
       "4        1.0       4.0  ...  114.0    54.0   55.2  164.9    20.3    37.4   \n",
       "34       1.0       4.0  ...  110.0    72.0   66.6  161.6    25.5     NaN   \n",
       "50       2.0       3.0  ...  100.0    62.0   71.3  162.0    27.2    36.8   \n",
       "52       2.0       1.0  ...    NaN     NaN  105.9  157.7    42.6    29.2   \n",
       "55       1.0       2.0  ...  114.0    68.0   77.5  148.3    35.2    30.5   \n",
       "\n",
       "    BMXARML  BMXARMC  BMXWAIST  HIQ210  \n",
       "4      36.0     27.2      80.4     2.0  \n",
       "34      NaN      NaN       NaN     2.0  \n",
       "50     34.6     29.1      94.6     NaN  \n",
       "52     35.0     40.7     129.1     NaN  \n",
       "55     34.0     34.4     107.6     2.0  \n",
       "\n",
       "[5 rows x 28 columns]"
      ]
     },
     "execution_count": 25,
     "metadata": {},
     "output_type": "execute_result"
    }
   ],
   "source": [
    "# Get the women between 35 and 50. The value of RIAGENDR is equal to 2 if a subject is female\n",
    "middle_age_women = da.query(\"RIDAGEYR >= 35 & RIDAGEYR <= 50 & RIAGENDR == 'female'\")\n",
    "middle_age_women.head()"
   ]
  },
  {
   "cell_type": "code",
   "execution_count": 26,
   "id": "41d90d67-1e5c-4253-9b67-7c56e11a78b4",
   "metadata": {
    "tags": []
   },
   "outputs": [],
   "source": [
    "# Check that our data are correct! This step is not necessary but it is good practice :)\n",
    "assert np.all(middle_age_women['RIAGENDR'] == 'female')\n",
    "assert np.all(middle_age_women['RIDAGEYR'] <= 50)\n",
    "assert np.all(middle_age_women['RIDAGEYR'] >= 35)\n",
    "\n",
    "# assert လုပ်တာကမှန်/မမှန် စစ်တာ။ မမှန်ရင် AssertionError တက်မည်။"
   ]
  },
  {
   "cell_type": "code",
   "execution_count": 28,
   "id": "b641a9eb-b123-4f79-87b5-a6735b9c5143",
   "metadata": {
    "tags": []
   },
   "outputs": [],
   "source": [
    "# Partition the group into married and non-married women\n",
    "married_middle_age_women = middle_age_women.query(\"DMDMARTL == 'married'\")\n",
    "non_married_middle_age_women = middle_age_women.query(\"DMDMARTL != 'married'\")\n",
    "\n",
    "# More data checks!\n",
    "assert np.all(married_middle_age_women['DMDMARTL'] == \"married\")\n",
    "assert np.all(non_married_middle_age_women['DMDMARTL'] != \"married\")"
   ]
  },
  {
   "cell_type": "code",
   "execution_count": 29,
   "id": "412878e2-57d9-4712-af60-8b2171312208",
   "metadata": {
    "tags": []
   },
   "outputs": [
    {
     "data": {
      "text/plain": [
       "'The proportion of married middle age women (N=449) who completed college is: 0.36'"
      ]
     },
     "execution_count": 29,
     "metadata": {},
     "output_type": "execute_result"
    }
   ],
   "source": [
    "# We now have checked our data is valid and is partitioned correctly. We \n",
    "# now can compute the 90% confidence intervals for the proportion which have\n",
    "# completed college. This is coded in the DMDEDUC2 variable and it is equal to\n",
    "# 5 if they have completed college or above\n",
    "married_and_completed_college = married_middle_age_women['DMDEDUC2'] == 5\n",
    "p_hat_married = np.mean(married_and_completed_college)\n",
    "married_sample_size = married_and_completed_college.size\n",
    "\"The proportion of married middle age women (N={}) who completed college is: {:.2f}\".\\\n",
    "format(married_sample_size, p_hat_married)"
   ]
  },
  {
   "cell_type": "code",
   "execution_count": 30,
   "id": "b6b39cfb-b7ed-4e5d-856a-6ff5b04a370a",
   "metadata": {
    "tags": []
   },
   "outputs": [
    {
     "data": {
      "text/plain": [
       "'The proportion of non-married middle age women (N=338) who completed college is: 0.21'"
      ]
     },
     "execution_count": 30,
     "metadata": {},
     "output_type": "execute_result"
    }
   ],
   "source": [
    "# We can do the same for non-married women\n",
    "non_married_and_completed_college = non_married_middle_age_women['DMDEDUC2'] == 5\n",
    "p_hat_non_married = np.mean(non_married_and_completed_college)\n",
    "non_married_sample_size = non_married_and_completed_college.size\n",
    "\"The proportion of non-married middle age women (N={}) who completed college is: {:.2f}\" \\\n",
    ".format(non_married_sample_size, p_hat_non_married)"
   ]
  },
  {
   "cell_type": "code",
   "execution_count": 31,
   "id": "5ebbac1e-f3c2-4308-aa17-f546a8aef5fc",
   "metadata": {
    "tags": []
   },
   "outputs": [
    {
     "name": "stdout",
     "output_type": "stream",
     "text": [
      "1.6448536269514722\n"
     ]
    },
    {
     "data": {
      "text/plain": [
       "'A 90% confidence interval for the proportion of married women who completed college is (0.32, 0.40)'"
      ]
     },
     "execution_count": 31,
     "metadata": {},
     "output_type": "execute_result"
    }
   ],
   "source": [
    "# We can now compute the confidence intervals. Remember, for a two-sided \n",
    "# confidence interval, we need 5% in each of the tails and 95% PPF will give us\n",
    "# this value !\n",
    "z_multiplier = scipy.stats.norm.ppf(q = 0.95)\n",
    "print(z_multiplier)\n",
    "married_standard_error = np.sqrt(p_hat_married * (1 - p_hat_married) / married_sample_size)\n",
    "ci_married_lower_bound = p_hat_married - z_multiplier * married_standard_error\n",
    "ci_married_upper_bound = p_hat_married + z_multiplier * married_standard_error\n",
    "\"A 90% confidence interval for the proportion of married women who completed college is ({:.2f}, {:.2f})\".format(\n",
    "    ci_married_lower_bound, \n",
    "    ci_married_upper_bound\n",
    ")\n",
    "\n",
    "# ppf = Percent point function (inverse of cdf — percentiles)."
   ]
  },
  {
   "cell_type": "code",
   "execution_count": 33,
   "id": "e205e8a9-d5bd-4b2f-ba8f-2c785615f9e1",
   "metadata": {
    "tags": []
   },
   "outputs": [
    {
     "data": {
      "text/plain": [
       "'A 90% confidence interval for the proportion of non-married women who completed college is (0.18, 0.25)'"
      ]
     },
     "execution_count": 33,
     "metadata": {},
     "output_type": "execute_result"
    }
   ],
   "source": [
    "# We now can do the same for non-married women\n",
    "z_multiplier = scipy.stats.norm.ppf(q = 0.95)\n",
    "non_married_standard_error = np.sqrt(p_hat_non_married * (1 - p_hat_non_married) / non_married_sample_size)\n",
    "ci_non_married_lower_bound = p_hat_non_married - z_multiplier * non_married_standard_error\n",
    "ci_non_married_upper_bound = p_hat_non_married + z_multiplier * non_married_standard_error\n",
    "\"A 90% confidence interval for the proportion of non-married women who completed college is ({:.2f}, {:.2f})\" \\\n",
    ".format(ci_non_married_lower_bound, ci_non_married_upper_bound)"
   ]
  },
  {
   "cell_type": "markdown",
   "id": "1f6cc703-a976-4cd4-bac9-f7139dbb91f6",
   "metadata": {},
   "source": [
    "__Q1a.__ Identify which of the two confidence intervals is wider, and explain why this is the case. "
   ]
  },
  {
   "cell_type": "markdown",
   "id": "cf002dad-2aa0-4988-925e-d95ee8f44428",
   "metadata": {},
   "source": [
    "The width of the confidence interval for the population proportion of married women who completed college is eight percentage points wide while the confidence interval for non-married women is seven points wide. The confidence interval for married women is larger, despite having a larger sample size, because the $\\hat{p}_{married}$ estimate is closer to 50% than the $\\hat{p}_{non-married}$ so the standard error of $\\hat{p}_{married}$ is wider."
   ]
  },
  {
   "cell_type": "markdown",
   "id": "5e509f8a-5ea3-4121-95e2-627b8025f9fb",
   "metadata": {},
   "source": [
    "__Q1b.__ Write 1-2 sentences summarizing these findings for an audience that does not know what a confidence interval is (the goal here is to report the substance of what you learned about how marital status and educational attainment are related, not to teach a person what a confidence interval is)."
   ]
  },
  {
   "cell_type": "markdown",
   "id": "e24aee57-6f53-4880-9975-88b71908d5cf",
   "metadata": {},
   "source": [
    "We can see that, on average, a middle age woman who is married is more likely to have completed college than a middle age women who is not married, and the confidence intervals for these two estimates do not overlap."
   ]
  },
  {
   "cell_type": "markdown",
   "id": "2b0e07d7-6baf-4ec5-b254-a6299798341c",
   "metadata": {},
   "source": [
    "## Question 2\n",
    "\n",
    "Construct a 95% confidence interval for the proportion of smokers who are female. Construct a 95% confidence interval for the proportion of smokers who are male. Construct a 95% confidence interval for the **difference** between those two gender proportions."
   ]
  },
  {
   "cell_type": "code",
   "execution_count": 14,
   "id": "ecda9d7b-383b-4ccf-86a6-9f0ec6a646c9",
   "metadata": {
    "tags": []
   },
   "outputs": [],
   "source": [
    "da[\"SMQ020x\"]= da.SMQ020.replace({1: \"Yes\", 2: \"No\", 7: np.nan, 9: np.nan})\n",
    "da[\"RIAGENDRx\"] = da.RIAGENDR.replace({1: \"Male\", 2: \"Female\"})"
   ]
  },
  {
   "cell_type": "code",
   "execution_count": 15,
   "id": "7e57d4e9-99d1-446e-b3f2-c7ce68e8c98a",
   "metadata": {
    "tags": []
   },
   "outputs": [
    {
     "data": {
      "text/html": [
       "<div>\n",
       "<style scoped>\n",
       "    .dataframe tbody tr th:only-of-type {\n",
       "        vertical-align: middle;\n",
       "    }\n",
       "\n",
       "    .dataframe tbody tr th {\n",
       "        vertical-align: top;\n",
       "    }\n",
       "\n",
       "    .dataframe thead th {\n",
       "        text-align: right;\n",
       "    }\n",
       "</style>\n",
       "<table border=\"1\" class=\"dataframe\">\n",
       "  <thead>\n",
       "    <tr style=\"text-align: right;\">\n",
       "      <th></th>\n",
       "      <th>SMQ020x</th>\n",
       "      <th>RIAGENDRx</th>\n",
       "    </tr>\n",
       "  </thead>\n",
       "  <tbody>\n",
       "    <tr>\n",
       "      <th>0</th>\n",
       "      <td>Yes</td>\n",
       "      <td>male</td>\n",
       "    </tr>\n",
       "    <tr>\n",
       "      <th>1</th>\n",
       "      <td>Yes</td>\n",
       "      <td>male</td>\n",
       "    </tr>\n",
       "    <tr>\n",
       "      <th>2</th>\n",
       "      <td>Yes</td>\n",
       "      <td>male</td>\n",
       "    </tr>\n",
       "    <tr>\n",
       "      <th>3</th>\n",
       "      <td>No</td>\n",
       "      <td>female</td>\n",
       "    </tr>\n",
       "    <tr>\n",
       "      <th>4</th>\n",
       "      <td>No</td>\n",
       "      <td>female</td>\n",
       "    </tr>\n",
       "    <tr>\n",
       "      <th>...</th>\n",
       "      <td>...</td>\n",
       "      <td>...</td>\n",
       "    </tr>\n",
       "    <tr>\n",
       "      <th>5730</th>\n",
       "      <td>Yes</td>\n",
       "      <td>female</td>\n",
       "    </tr>\n",
       "    <tr>\n",
       "      <th>5731</th>\n",
       "      <td>No</td>\n",
       "      <td>male</td>\n",
       "    </tr>\n",
       "    <tr>\n",
       "      <th>5732</th>\n",
       "      <td>Yes</td>\n",
       "      <td>female</td>\n",
       "    </tr>\n",
       "    <tr>\n",
       "      <th>5733</th>\n",
       "      <td>Yes</td>\n",
       "      <td>male</td>\n",
       "    </tr>\n",
       "    <tr>\n",
       "      <th>5734</th>\n",
       "      <td>No</td>\n",
       "      <td>female</td>\n",
       "    </tr>\n",
       "  </tbody>\n",
       "</table>\n",
       "<p>5725 rows × 2 columns</p>\n",
       "</div>"
      ],
      "text/plain": [
       "     SMQ020x RIAGENDRx\n",
       "0        Yes      male\n",
       "1        Yes      male\n",
       "2        Yes      male\n",
       "3         No    female\n",
       "4         No    female\n",
       "...      ...       ...\n",
       "5730     Yes    female\n",
       "5731      No      male\n",
       "5732     Yes    female\n",
       "5733     Yes      male\n",
       "5734      No    female\n",
       "\n",
       "[5725 rows x 2 columns]"
      ]
     },
     "execution_count": 15,
     "metadata": {},
     "output_type": "execute_result"
    }
   ],
   "source": [
    "dx = da[[\"SMQ020x\", \"RIAGENDRx\"]].dropna()\n",
    "dx"
   ]
  },
  {
   "cell_type": "code",
   "execution_count": 16,
   "id": "def05bb1-9381-48d4-9312-bfe02a9a6c81",
   "metadata": {
    "tags": []
   },
   "outputs": [
    {
     "data": {
      "text/html": [
       "<div>\n",
       "<style scoped>\n",
       "    .dataframe tbody tr th:only-of-type {\n",
       "        vertical-align: middle;\n",
       "    }\n",
       "\n",
       "    .dataframe tbody tr th {\n",
       "        vertical-align: top;\n",
       "    }\n",
       "\n",
       "    .dataframe thead th {\n",
       "        text-align: right;\n",
       "    }\n",
       "</style>\n",
       "<table border=\"1\" class=\"dataframe\">\n",
       "  <thead>\n",
       "    <tr style=\"text-align: right;\">\n",
       "      <th>RIAGENDRx</th>\n",
       "      <th>female</th>\n",
       "      <th>male</th>\n",
       "    </tr>\n",
       "    <tr>\n",
       "      <th>SMQ020x</th>\n",
       "      <th></th>\n",
       "      <th></th>\n",
       "    </tr>\n",
       "  </thead>\n",
       "  <tbody>\n",
       "    <tr>\n",
       "      <th>No</th>\n",
       "      <td>2066</td>\n",
       "      <td>1340</td>\n",
       "    </tr>\n",
       "    <tr>\n",
       "      <th>Yes</th>\n",
       "      <td>906</td>\n",
       "      <td>1413</td>\n",
       "    </tr>\n",
       "  </tbody>\n",
       "</table>\n",
       "</div>"
      ],
      "text/plain": [
       "RIAGENDRx  female  male\n",
       "SMQ020x                \n",
       "No           2066  1340\n",
       "Yes           906  1413"
      ]
     },
     "execution_count": 16,
     "metadata": {},
     "output_type": "execute_result"
    }
   ],
   "source": [
    "dy = pd.crosstab(columns=dx.RIAGENDRx, index=dx.SMQ020x)\n",
    "dy"
   ]
  },
  {
   "cell_type": "code",
   "execution_count": 17,
   "id": "2257fbc1-5d6b-4e20-975a-28cd5879d360",
   "metadata": {
    "tags": []
   },
   "outputs": [
    {
     "data": {
      "text/html": [
       "<div>\n",
       "<style scoped>\n",
       "    .dataframe tbody tr th:only-of-type {\n",
       "        vertical-align: middle;\n",
       "    }\n",
       "\n",
       "    .dataframe tbody tr th {\n",
       "        vertical-align: top;\n",
       "    }\n",
       "\n",
       "    .dataframe thead th {\n",
       "        text-align: right;\n",
       "    }\n",
       "</style>\n",
       "<table border=\"1\" class=\"dataframe\">\n",
       "  <thead>\n",
       "    <tr style=\"text-align: right;\">\n",
       "      <th></th>\n",
       "      <th>Proportion</th>\n",
       "      <th>Count</th>\n",
       "    </tr>\n",
       "    <tr>\n",
       "      <th>RIAGENDRx</th>\n",
       "      <th></th>\n",
       "      <th></th>\n",
       "    </tr>\n",
       "  </thead>\n",
       "  <tbody>\n",
       "    <tr>\n",
       "      <th>female</th>\n",
       "      <td>0.304845</td>\n",
       "      <td>2972</td>\n",
       "    </tr>\n",
       "    <tr>\n",
       "      <th>male</th>\n",
       "      <td>0.513258</td>\n",
       "      <td>2753</td>\n",
       "    </tr>\n",
       "  </tbody>\n",
       "</table>\n",
       "</div>"
      ],
      "text/plain": [
       "           Proportion  Count\n",
       "RIAGENDRx                   \n",
       "female       0.304845   2972\n",
       "male         0.513258   2753"
      ]
     },
     "execution_count": 17,
     "metadata": {},
     "output_type": "execute_result"
    }
   ],
   "source": [
    "dz = dx.groupby(dx.RIAGENDRx).agg({\"SMQ020x\": [lambda x: np.mean(x==\"Yes\"), np.size]})\n",
    "dz.columns = [\"Proportion\", \"Count\"]\n",
    "dz"
   ]
  },
  {
   "cell_type": "code",
   "execution_count": 18,
   "id": "b9e83e8e-19ad-43d6-a361-4895f12fcaac",
   "metadata": {
    "tags": []
   },
   "outputs": [
    {
     "name": "stdout",
     "output_type": "stream",
     "text": [
      "2972 2753\n"
     ]
    }
   ],
   "source": [
    "female_p = dz.Proportion.female\n",
    "male_p = dz.Proportion.male\n",
    "female_n = dz.Count.female\n",
    "male_n = dz.Count.male\n",
    "print(female_n, male_n)"
   ]
  },
  {
   "cell_type": "code",
   "execution_count": 19,
   "id": "6171007a-a788-42e4-9f72-258b5d19a766",
   "metadata": {
    "tags": []
   },
   "outputs": [
    {
     "name": "stdout",
     "output_type": "stream",
     "text": [
      "Standard error (female) = 0.008444152146214435\n",
      "Standard error (female) = 0.009526078653689868\n"
     ]
    }
   ],
   "source": [
    "# standard error (female)\n",
    "female_se = np.sqrt(female_p * (1 - female_p) / female_n)\n",
    "print(\"Standard error (female) =\", female_se)\n",
    "\n",
    "# standard error (male)\n",
    "male_se = np.sqrt(male_p * (1 - male_p) / male_n)\n",
    "print(\"Standard error (female) =\", male_se)"
   ]
  },
  {
   "cell_type": "code",
   "execution_count": 20,
   "id": "1a01ea12-7ac3-4e8f-9b43-f471d2c5fea6",
   "metadata": {
    "tags": []
   },
   "outputs": [
    {
     "name": "stdout",
     "output_type": "stream",
     "text": [
      "LCB (female) = 0.288294683866098 and UCB (female) = 0.32139576027925865\n",
      "LCB (male) = 0.49458714955108174 and UCB (male) = 0.531929377873546\n"
     ]
    }
   ],
   "source": [
    "# for female\n",
    "female_lcb = female_p - 1.96 * female_se\n",
    "female_ucb = female_p + 1.96 * female_se\n",
    "print(f\"LCB (female) = {female_lcb} and UCB (female) = {female_ucb}\")\n",
    "\n",
    "# for male\n",
    "male_lcb = male_p - 1.96 * male_se\n",
    "male_ucb = male_p + 1.96 * male_se\n",
    "print(f\"LCB (male) = {male_lcb} and UCB (male) = {male_ucb}\")"
   ]
  },
  {
   "cell_type": "markdown",
   "id": "ad1cc192-79b9-4263-aef4-1de3c6bdab90",
   "metadata": {},
   "source": [
    "**Using Statsmodels**"
   ]
  },
  {
   "cell_type": "code",
   "execution_count": 21,
   "id": "b7fbee86-53f5-4f2e-b173-94345bb830a6",
   "metadata": {
    "tags": []
   },
   "outputs": [
    {
     "data": {
      "text/plain": [
       "(0.2882949879861214, 0.32139545615923526)"
      ]
     },
     "execution_count": 21,
     "metadata": {},
     "output_type": "execute_result"
    }
   ],
   "source": [
    "# for female smoker\n",
    "lcb, ucb = sm.stats.proportion_confint(count=dy.female.Yes , nobs=dy.female.Yes + dy.female.No)\n",
    "lcb, ucb"
   ]
  },
  {
   "cell_type": "code",
   "execution_count": 22,
   "id": "ee36d317-d5ac-4caa-ac94-e92cf544a65b",
   "metadata": {},
   "outputs": [
    {
     "data": {
      "text/plain": [
       "(0.49458749263718593, 0.5319290347874418)"
      ]
     },
     "execution_count": 22,
     "metadata": {},
     "output_type": "execute_result"
    }
   ],
   "source": [
    "# for male smoker\n",
    "lcb, ucb = sm.stats.proportion_confint(count=dy.male.Yes , nobs=dy.male.Yes + dy.male.No)\n",
    "lcb, ucb"
   ]
  },
  {
   "cell_type": "code",
   "execution_count": 23,
   "id": "07cb096a-fd59-4683-b5f2-b808eeb20f65",
   "metadata": {
    "tags": []
   },
   "outputs": [
    {
     "name": "stdout",
     "output_type": "stream",
     "text": [
      "0.012729881381407434\n"
     ]
    }
   ],
   "source": [
    "diff_se = np.sqrt(female_se**2 + male_se**2)\n",
    "print(diff_se)"
   ]
  },
  {
   "cell_type": "code",
   "execution_count": 24,
   "id": "09b2bee2-8ee8-421e-b09d-768f29f77cb8",
   "metadata": {
    "tags": []
   },
   "outputs": [
    {
     "name": "stdout",
     "output_type": "stream",
     "text": [
      "LCB = 0.18295327887682067 and UCB = 0.2338728044024504\n"
     ]
    }
   ],
   "source": [
    "# male proportion - female proportion\n",
    "diff_p = dz.Proportion.male - dz.Proportion.female\n",
    "lcb = diff_p - 2  * diff_se\n",
    "ucb = diff_p + 2 * diff_se\n",
    "print(f\"LCB = {lcb} and UCB = {ucb}\")"
   ]
  },
  {
   "cell_type": "code",
   "execution_count": 25,
   "id": "17c2fcdd-102a-4d06-8d20-16f31b92523f",
   "metadata": {
    "tags": []
   },
   "outputs": [
    {
     "name": "stdout",
     "output_type": "stream",
     "text": [
      "LCB = -0.2338728044024504 and UCB = -0.18295327887682067\n"
     ]
    }
   ],
   "source": [
    "# female proportion - male proportion\n",
    "diff_p = dz.Proportion.female - dz.Proportion.male\n",
    "lcb = diff_p - 2  * diff_se\n",
    "ucb = diff_p + 2 * diff_se\n",
    "print(f\"LCB = {lcb} and UCB = {ucb}\")"
   ]
  },
  {
   "cell_type": "markdown",
   "id": "7d8206e4-0423-4278-998f-f225ba3e0bf2",
   "metadata": {},
   "source": [
    "__Q2a.__ Why might it be relevant to report the separate gender proportions **and** the difference between the gender proportions?"
   ]
  },
  {
   "cell_type": "code",
   "execution_count": null,
   "id": "6652e837-57ce-4459-8458-5df96c8d1031",
   "metadata": {},
   "outputs": [],
   "source": []
  },
  {
   "cell_type": "markdown",
   "id": "73369891-2694-4b2d-ba95-3c99c7346a3b",
   "metadata": {},
   "source": [
    "__Q2b.__ How does the **width** of the confidence interval for the difference between the gender proportions compare to the widths of the confidence intervals for the separate gender proportions?"
   ]
  },
  {
   "cell_type": "code",
   "execution_count": null,
   "id": "4c309eba-e1a5-40e2-8fb7-29281879e201",
   "metadata": {},
   "outputs": [],
   "source": []
  },
  {
   "cell_type": "markdown",
   "id": "32fa4711-5f79-4cf8-b8a8-bdf16e8ee302",
   "metadata": {},
   "source": [
    "## Question 3\n",
    "\n",
    "Construct a 95% interval for height ([BMXHT](https://wwwn.cdc.gov/Nchs/Nhanes/2015-2016/BMX_I.htm#BMXHT)) in centimeters.  Then convert height from centimeters to inches by dividing by 2.54, and construct a 95% confidence interval for height in inches.  Finally, convert the endpoints (the lower and upper confidence limits) of the confidence interval from inches to back to centimeters."
   ]
  },
  {
   "cell_type": "code",
   "execution_count": 26,
   "id": "edcd284d-39cf-4f9f-bb31-73f8961a2ae3",
   "metadata": {
    "tags": []
   },
   "outputs": [],
   "source": [
    "da[\"BMXHTi\"] = da[\"BMXHT\"] / 2.54\n",
    "da[\"BMXHTi\"].dropna(inplace=True)"
   ]
  },
  {
   "cell_type": "code",
   "execution_count": 27,
   "id": "b7a52026-aa6b-4bfb-86f0-7f31a49f4eb1",
   "metadata": {
    "tags": []
   },
   "outputs": [
    {
     "name": "stdout",
     "output_type": "stream",
     "text": [
      "LCB (inches) = 65.30787049524722 and UCB (inches) = 65.51325901586426\n"
     ]
    }
   ],
   "source": [
    "mean_h = np.mean(da[\"BMXHTi\"])\n",
    "std_h = np.std(da[\"BMXHTi\"])\n",
    "count_h = len(da[\"BMXHTi\"])\n",
    "\n",
    "lcb = mean_h - 1.96 * (std_h / np.sqrt(count_h))\n",
    "ucb = mean_h + 1.96 * (std_h / np.sqrt(count_h))\n",
    "print(f\"LCB (inches) = {lcb} and UCB (inches) = {ucb}\")"
   ]
  },
  {
   "cell_type": "code",
   "execution_count": 28,
   "id": "2fb96b64-4cde-4f8e-af7c-821777b15384",
   "metadata": {
    "tags": []
   },
   "outputs": [
    {
     "name": "stdout",
     "output_type": "stream",
     "text": [
      "LCB (cm) = 165.88199105792793 and UCB (cm) = 166.40367790029524\n"
     ]
    }
   ],
   "source": [
    "print(f\"LCB (cm) = {lcb * 2.54} and UCB (cm) = {ucb * 2.54}\")"
   ]
  },
  {
   "cell_type": "markdown",
   "id": "e1b967af-cd44-44c5-945e-902db84aa8e8",
   "metadata": {},
   "source": [
    "__Q3a.__ Describe how the confidence interval constructed in centimeters relates to the confidence interval constructed in inches."
   ]
  },
  {
   "cell_type": "code",
   "execution_count": null,
   "id": "125ade2b-5d83-407d-8bfa-e264284fe5e6",
   "metadata": {},
   "outputs": [],
   "source": []
  },
  {
   "cell_type": "markdown",
   "id": "79616e25-15ba-4fe1-9029-6d645c395620",
   "metadata": {},
   "source": [
    "## Question 4\n",
    "\n",
    "Partition the sample based on 10-year age bands, i.e. the resulting groups will consist of people with ages from 18-28, 29-38, etc. Construct 95% confidence intervals for the difference between the mean BMI for females and for males within each age band."
   ]
  },
  {
   "cell_type": "code",
   "execution_count": 52,
   "id": "fff793e2-8ac4-4ae5-9460-c7a44f0debd2",
   "metadata": {
    "tags": []
   },
   "outputs": [
    {
     "data": {
      "text/plain": [
       "(18, 80)"
      ]
     },
     "execution_count": 52,
     "metadata": {},
     "output_type": "execute_result"
    }
   ],
   "source": [
    "da[\"RIDAGEYR\"].min(), da[\"RIDAGEYR\"].max()"
   ]
  },
  {
   "cell_type": "code",
   "execution_count": 73,
   "id": "15732880-e6ed-487c-97a3-fb58ccfd998f",
   "metadata": {
    "tags": []
   },
   "outputs": [],
   "source": [
    "bins = np.arange(start=da[\"RIDAGEYR\"].min(), stop=da[\"RIDAGEYR\"].max()+10, step=10)\n",
    "da[\"age_band\"] = pd.cut(x=da[\"RIDAGEYR\"], bins=bins, right=True)"
   ]
  },
  {
   "cell_type": "code",
   "execution_count": 74,
   "id": "17f76dc8-36c4-4471-bd01-8fbe8c22f696",
   "metadata": {},
   "outputs": [
    {
     "data": {
      "text/html": [
       "<div>\n",
       "<style scoped>\n",
       "    .dataframe tbody tr th:only-of-type {\n",
       "        vertical-align: middle;\n",
       "    }\n",
       "\n",
       "    .dataframe tbody tr th {\n",
       "        vertical-align: top;\n",
       "    }\n",
       "\n",
       "    .dataframe thead tr th {\n",
       "        text-align: left;\n",
       "    }\n",
       "\n",
       "    .dataframe thead tr:last-of-type th {\n",
       "        text-align: right;\n",
       "    }\n",
       "</style>\n",
       "<table border=\"1\" class=\"dataframe\">\n",
       "  <thead>\n",
       "    <tr>\n",
       "      <th></th>\n",
       "      <th colspan=\"6\" halign=\"left\">BMXBMI</th>\n",
       "    </tr>\n",
       "    <tr>\n",
       "      <th></th>\n",
       "      <th colspan=\"2\" halign=\"left\">mean</th>\n",
       "      <th colspan=\"2\" halign=\"left\">std</th>\n",
       "      <th colspan=\"2\" halign=\"left\">size</th>\n",
       "    </tr>\n",
       "    <tr>\n",
       "      <th>RIAGENDRx</th>\n",
       "      <th>female</th>\n",
       "      <th>male</th>\n",
       "      <th>female</th>\n",
       "      <th>male</th>\n",
       "      <th>female</th>\n",
       "      <th>male</th>\n",
       "    </tr>\n",
       "    <tr>\n",
       "      <th>age_band</th>\n",
       "      <th></th>\n",
       "      <th></th>\n",
       "      <th></th>\n",
       "      <th></th>\n",
       "      <th></th>\n",
       "      <th></th>\n",
       "    </tr>\n",
       "  </thead>\n",
       "  <tbody>\n",
       "    <tr>\n",
       "      <th>(18, 28]</th>\n",
       "      <td>28.019433</td>\n",
       "      <td>27.058186</td>\n",
       "      <td>8.048854</td>\n",
       "      <td>6.679515</td>\n",
       "      <td>498</td>\n",
       "      <td>458</td>\n",
       "    </tr>\n",
       "    <tr>\n",
       "      <th>(28, 38]</th>\n",
       "      <td>29.943443</td>\n",
       "      <td>29.697180</td>\n",
       "      <td>7.959097</td>\n",
       "      <td>6.726690</td>\n",
       "      <td>494</td>\n",
       "      <td>467</td>\n",
       "    </tr>\n",
       "    <tr>\n",
       "      <th>(38, 48]</th>\n",
       "      <td>31.003733</td>\n",
       "      <td>29.514646</td>\n",
       "      <td>8.044642</td>\n",
       "      <td>6.104950</td>\n",
       "      <td>514</td>\n",
       "      <td>398</td>\n",
       "    </tr>\n",
       "    <tr>\n",
       "      <th>(48, 58]</th>\n",
       "      <td>30.787361</td>\n",
       "      <td>29.385132</td>\n",
       "      <td>7.647590</td>\n",
       "      <td>6.151534</td>\n",
       "      <td>454</td>\n",
       "      <td>419</td>\n",
       "    </tr>\n",
       "    <tr>\n",
       "      <th>(58, 68]</th>\n",
       "      <td>31.054664</td>\n",
       "      <td>29.232462</td>\n",
       "      <td>7.779502</td>\n",
       "      <td>5.959024</td>\n",
       "      <td>466</td>\n",
       "      <td>470</td>\n",
       "    </tr>\n",
       "    <tr>\n",
       "      <th>(68, 78]</th>\n",
       "      <td>30.537818</td>\n",
       "      <td>28.720270</td>\n",
       "      <td>6.780588</td>\n",
       "      <td>5.336652</td>\n",
       "      <td>279</td>\n",
       "      <td>307</td>\n",
       "    </tr>\n",
       "    <tr>\n",
       "      <th>(78, 88]</th>\n",
       "      <td>27.850000</td>\n",
       "      <td>27.464368</td>\n",
       "      <td>5.483781</td>\n",
       "      <td>4.695650</td>\n",
       "      <td>201</td>\n",
       "      <td>177</td>\n",
       "    </tr>\n",
       "  </tbody>\n",
       "</table>\n",
       "</div>"
      ],
      "text/plain": [
       "              BMXBMI                                           \n",
       "                mean                  std             size     \n",
       "RIAGENDRx     female       male    female      male female male\n",
       "age_band                                                       \n",
       "(18, 28]   28.019433  27.058186  8.048854  6.679515    498  458\n",
       "(28, 38]   29.943443  29.697180  7.959097  6.726690    494  467\n",
       "(38, 48]   31.003733  29.514646  8.044642  6.104950    514  398\n",
       "(48, 58]   30.787361  29.385132  7.647590  6.151534    454  419\n",
       "(58, 68]   31.054664  29.232462  7.779502  5.959024    466  470\n",
       "(68, 78]   30.537818  28.720270  6.780588  5.336652    279  307\n",
       "(78, 88]   27.850000  27.464368  5.483781  4.695650    201  177"
      ]
     },
     "execution_count": 74,
     "metadata": {},
     "output_type": "execute_result"
    }
   ],
   "source": [
    "age_gp = da.groupby([\"age_band\",\"RIAGENDRx\"]).agg({\"BMXBMI\": [np.mean, np.std, np.size]}).unstack()\n",
    "age_gp"
   ]
  },
  {
   "cell_type": "code",
   "execution_count": 75,
   "id": "d99eaed2-d5d0-4092-9110-bf746904c041",
   "metadata": {
    "tags": []
   },
   "outputs": [],
   "source": [
    "age_gp[\"BMXBMI\",\"sem\",\"female\"] = age_gp[\"BMXBMI\",\"std\",\"female\"] / np.sqrt(age_gp[\"BMXBMI\",\"size\",\"female\"])\n",
    "age_gp[\"BMXBMI\",\"sem\",\"male\"] = age_gp[\"BMXBMI\",\"std\",\"male\"] / np.sqrt(age_gp[\"BMXBMI\",\"size\",\"male\"])"
   ]
  },
  {
   "cell_type": "code",
   "execution_count": 76,
   "id": "07da20c4-b2a9-4ce6-bb70-93e142d3544b",
   "metadata": {
    "tags": []
   },
   "outputs": [
    {
     "data": {
      "text/html": [
       "<div>\n",
       "<style scoped>\n",
       "    .dataframe tbody tr th:only-of-type {\n",
       "        vertical-align: middle;\n",
       "    }\n",
       "\n",
       "    .dataframe tbody tr th {\n",
       "        vertical-align: top;\n",
       "    }\n",
       "\n",
       "    .dataframe thead tr th {\n",
       "        text-align: left;\n",
       "    }\n",
       "\n",
       "    .dataframe thead tr:last-of-type th {\n",
       "        text-align: right;\n",
       "    }\n",
       "</style>\n",
       "<table border=\"1\" class=\"dataframe\">\n",
       "  <thead>\n",
       "    <tr>\n",
       "      <th></th>\n",
       "      <th colspan=\"8\" halign=\"left\">BMXBMI</th>\n",
       "    </tr>\n",
       "    <tr>\n",
       "      <th></th>\n",
       "      <th colspan=\"2\" halign=\"left\">mean</th>\n",
       "      <th colspan=\"2\" halign=\"left\">std</th>\n",
       "      <th colspan=\"2\" halign=\"left\">size</th>\n",
       "      <th colspan=\"2\" halign=\"left\">sem</th>\n",
       "    </tr>\n",
       "    <tr>\n",
       "      <th>RIAGENDRx</th>\n",
       "      <th>female</th>\n",
       "      <th>male</th>\n",
       "      <th>female</th>\n",
       "      <th>male</th>\n",
       "      <th>female</th>\n",
       "      <th>male</th>\n",
       "      <th>female</th>\n",
       "      <th>male</th>\n",
       "    </tr>\n",
       "    <tr>\n",
       "      <th>age_band</th>\n",
       "      <th></th>\n",
       "      <th></th>\n",
       "      <th></th>\n",
       "      <th></th>\n",
       "      <th></th>\n",
       "      <th></th>\n",
       "      <th></th>\n",
       "      <th></th>\n",
       "    </tr>\n",
       "  </thead>\n",
       "  <tbody>\n",
       "    <tr>\n",
       "      <th>(18, 28]</th>\n",
       "      <td>28.019433</td>\n",
       "      <td>27.058186</td>\n",
       "      <td>8.048854</td>\n",
       "      <td>6.679515</td>\n",
       "      <td>498</td>\n",
       "      <td>458</td>\n",
       "      <td>0.360678</td>\n",
       "      <td>0.312113</td>\n",
       "    </tr>\n",
       "    <tr>\n",
       "      <th>(28, 38]</th>\n",
       "      <td>29.943443</td>\n",
       "      <td>29.697180</td>\n",
       "      <td>7.959097</td>\n",
       "      <td>6.726690</td>\n",
       "      <td>494</td>\n",
       "      <td>467</td>\n",
       "      <td>0.358097</td>\n",
       "      <td>0.311274</td>\n",
       "    </tr>\n",
       "    <tr>\n",
       "      <th>(38, 48]</th>\n",
       "      <td>31.003733</td>\n",
       "      <td>29.514646</td>\n",
       "      <td>8.044642</td>\n",
       "      <td>6.104950</td>\n",
       "      <td>514</td>\n",
       "      <td>398</td>\n",
       "      <td>0.354834</td>\n",
       "      <td>0.306014</td>\n",
       "    </tr>\n",
       "    <tr>\n",
       "      <th>(48, 58]</th>\n",
       "      <td>30.787361</td>\n",
       "      <td>29.385132</td>\n",
       "      <td>7.647590</td>\n",
       "      <td>6.151534</td>\n",
       "      <td>454</td>\n",
       "      <td>419</td>\n",
       "      <td>0.358919</td>\n",
       "      <td>0.300522</td>\n",
       "    </tr>\n",
       "    <tr>\n",
       "      <th>(58, 68]</th>\n",
       "      <td>31.054664</td>\n",
       "      <td>29.232462</td>\n",
       "      <td>7.779502</td>\n",
       "      <td>5.959024</td>\n",
       "      <td>466</td>\n",
       "      <td>470</td>\n",
       "      <td>0.360378</td>\n",
       "      <td>0.274869</td>\n",
       "    </tr>\n",
       "    <tr>\n",
       "      <th>(68, 78]</th>\n",
       "      <td>30.537818</td>\n",
       "      <td>28.720270</td>\n",
       "      <td>6.780588</td>\n",
       "      <td>5.336652</td>\n",
       "      <td>279</td>\n",
       "      <td>307</td>\n",
       "      <td>0.405943</td>\n",
       "      <td>0.304579</td>\n",
       "    </tr>\n",
       "    <tr>\n",
       "      <th>(78, 88]</th>\n",
       "      <td>27.850000</td>\n",
       "      <td>27.464368</td>\n",
       "      <td>5.483781</td>\n",
       "      <td>4.695650</td>\n",
       "      <td>201</td>\n",
       "      <td>177</td>\n",
       "      <td>0.386796</td>\n",
       "      <td>0.352947</td>\n",
       "    </tr>\n",
       "  </tbody>\n",
       "</table>\n",
       "</div>"
      ],
      "text/plain": [
       "              BMXBMI                                                       \\\n",
       "                mean                  std             size            sem   \n",
       "RIAGENDRx     female       male    female      male female male    female   \n",
       "age_band                                                                    \n",
       "(18, 28]   28.019433  27.058186  8.048854  6.679515    498  458  0.360678   \n",
       "(28, 38]   29.943443  29.697180  7.959097  6.726690    494  467  0.358097   \n",
       "(38, 48]   31.003733  29.514646  8.044642  6.104950    514  398  0.354834   \n",
       "(48, 58]   30.787361  29.385132  7.647590  6.151534    454  419  0.358919   \n",
       "(58, 68]   31.054664  29.232462  7.779502  5.959024    466  470  0.360378   \n",
       "(68, 78]   30.537818  28.720270  6.780588  5.336652    279  307  0.405943   \n",
       "(78, 88]   27.850000  27.464368  5.483781  4.695650    201  177  0.386796   \n",
       "\n",
       "                     \n",
       "                     \n",
       "RIAGENDRx      male  \n",
       "age_band             \n",
       "(18, 28]   0.312113  \n",
       "(28, 38]   0.311274  \n",
       "(38, 48]   0.306014  \n",
       "(48, 58]   0.300522  \n",
       "(58, 68]   0.274869  \n",
       "(68, 78]   0.304579  \n",
       "(78, 88]   0.352947  "
      ]
     },
     "execution_count": 76,
     "metadata": {},
     "output_type": "execute_result"
    }
   ],
   "source": [
    "age_gp"
   ]
  },
  {
   "cell_type": "code",
   "execution_count": 77,
   "id": "d7053f40-b88e-4212-b94a-e6ef5e26e4f3",
   "metadata": {
    "tags": []
   },
   "outputs": [],
   "source": [
    "age_gp[\"BMXBMI\",\"mean_diff\",\"\"] = age_gp[\"BMXBMI\",\"mean\",\"male\"] - age_gp[\"BMXBMI\",\"mean\",\"female\"]\n",
    "age_gp[\"BMXBMI\",\"sem_diff\",\"\"] = np.sqrt(age_gp[\"BMXBMI\",\"sem\",\"male\"]**2 + age_gp[\"BMXBMI\",\"sem\",\"female\"]**2)  \n",
    "age_gp[\"BMXBMI\",\"lcb\",\"\"] = age_gp[\"BMXBMI\",\"mean_diff\",\"\"] - 1.96 * age_gp[\"BMXBMI\",\"sem_diff\",\"\"]\n",
    "age_gp[\"BMXBMI\",\"ucb\",\"\"] = age_gp[\"BMXBMI\",\"mean_diff\",\"\"] + 1.96 * age_gp[\"BMXBMI\",\"sem_diff\",\"\"]"
   ]
  },
  {
   "cell_type": "code",
   "execution_count": 78,
   "id": "ac358ccf-057f-4adc-93fe-7aa3f8cb7c3f",
   "metadata": {
    "tags": []
   },
   "outputs": [
    {
     "data": {
      "text/html": [
       "<div>\n",
       "<style scoped>\n",
       "    .dataframe tbody tr th:only-of-type {\n",
       "        vertical-align: middle;\n",
       "    }\n",
       "\n",
       "    .dataframe tbody tr th {\n",
       "        vertical-align: top;\n",
       "    }\n",
       "\n",
       "    .dataframe thead tr th {\n",
       "        text-align: left;\n",
       "    }\n",
       "\n",
       "    .dataframe thead tr:last-of-type th {\n",
       "        text-align: right;\n",
       "    }\n",
       "</style>\n",
       "<table border=\"1\" class=\"dataframe\">\n",
       "  <thead>\n",
       "    <tr>\n",
       "      <th></th>\n",
       "      <th colspan=\"12\" halign=\"left\">BMXBMI</th>\n",
       "    </tr>\n",
       "    <tr>\n",
       "      <th></th>\n",
       "      <th colspan=\"2\" halign=\"left\">mean</th>\n",
       "      <th colspan=\"2\" halign=\"left\">std</th>\n",
       "      <th colspan=\"2\" halign=\"left\">size</th>\n",
       "      <th colspan=\"2\" halign=\"left\">sem</th>\n",
       "      <th>mean_diff</th>\n",
       "      <th>sem_diff</th>\n",
       "      <th>lcb</th>\n",
       "      <th>ucb</th>\n",
       "    </tr>\n",
       "    <tr>\n",
       "      <th>RIAGENDRx</th>\n",
       "      <th>female</th>\n",
       "      <th>male</th>\n",
       "      <th>female</th>\n",
       "      <th>male</th>\n",
       "      <th>female</th>\n",
       "      <th>male</th>\n",
       "      <th>female</th>\n",
       "      <th>male</th>\n",
       "      <th></th>\n",
       "      <th></th>\n",
       "      <th></th>\n",
       "      <th></th>\n",
       "    </tr>\n",
       "    <tr>\n",
       "      <th>age_band</th>\n",
       "      <th></th>\n",
       "      <th></th>\n",
       "      <th></th>\n",
       "      <th></th>\n",
       "      <th></th>\n",
       "      <th></th>\n",
       "      <th></th>\n",
       "      <th></th>\n",
       "      <th></th>\n",
       "      <th></th>\n",
       "      <th></th>\n",
       "      <th></th>\n",
       "    </tr>\n",
       "  </thead>\n",
       "  <tbody>\n",
       "    <tr>\n",
       "      <th>(18, 28]</th>\n",
       "      <td>28.019433</td>\n",
       "      <td>27.058186</td>\n",
       "      <td>8.048854</td>\n",
       "      <td>6.679515</td>\n",
       "      <td>498</td>\n",
       "      <td>458</td>\n",
       "      <td>0.360678</td>\n",
       "      <td>0.312113</td>\n",
       "      <td>-0.961247</td>\n",
       "      <td>0.476973</td>\n",
       "      <td>-1.896114</td>\n",
       "      <td>-0.026381</td>\n",
       "    </tr>\n",
       "    <tr>\n",
       "      <th>(28, 38]</th>\n",
       "      <td>29.943443</td>\n",
       "      <td>29.697180</td>\n",
       "      <td>7.959097</td>\n",
       "      <td>6.726690</td>\n",
       "      <td>494</td>\n",
       "      <td>467</td>\n",
       "      <td>0.358097</td>\n",
       "      <td>0.311274</td>\n",
       "      <td>-0.246263</td>\n",
       "      <td>0.474473</td>\n",
       "      <td>-1.176230</td>\n",
       "      <td>0.683705</td>\n",
       "    </tr>\n",
       "    <tr>\n",
       "      <th>(38, 48]</th>\n",
       "      <td>31.003733</td>\n",
       "      <td>29.514646</td>\n",
       "      <td>8.044642</td>\n",
       "      <td>6.104950</td>\n",
       "      <td>514</td>\n",
       "      <td>398</td>\n",
       "      <td>0.354834</td>\n",
       "      <td>0.306014</td>\n",
       "      <td>-1.489086</td>\n",
       "      <td>0.468563</td>\n",
       "      <td>-2.407470</td>\n",
       "      <td>-0.570703</td>\n",
       "    </tr>\n",
       "    <tr>\n",
       "      <th>(48, 58]</th>\n",
       "      <td>30.787361</td>\n",
       "      <td>29.385132</td>\n",
       "      <td>7.647590</td>\n",
       "      <td>6.151534</td>\n",
       "      <td>454</td>\n",
       "      <td>419</td>\n",
       "      <td>0.358919</td>\n",
       "      <td>0.300522</td>\n",
       "      <td>-1.402230</td>\n",
       "      <td>0.468120</td>\n",
       "      <td>-2.319745</td>\n",
       "      <td>-0.484714</td>\n",
       "    </tr>\n",
       "    <tr>\n",
       "      <th>(58, 68]</th>\n",
       "      <td>31.054664</td>\n",
       "      <td>29.232462</td>\n",
       "      <td>7.779502</td>\n",
       "      <td>5.959024</td>\n",
       "      <td>466</td>\n",
       "      <td>470</td>\n",
       "      <td>0.360378</td>\n",
       "      <td>0.274869</td>\n",
       "      <td>-1.822202</td>\n",
       "      <td>0.453239</td>\n",
       "      <td>-2.710551</td>\n",
       "      <td>-0.933853</td>\n",
       "    </tr>\n",
       "    <tr>\n",
       "      <th>(68, 78]</th>\n",
       "      <td>30.537818</td>\n",
       "      <td>28.720270</td>\n",
       "      <td>6.780588</td>\n",
       "      <td>5.336652</td>\n",
       "      <td>279</td>\n",
       "      <td>307</td>\n",
       "      <td>0.405943</td>\n",
       "      <td>0.304579</td>\n",
       "      <td>-1.817548</td>\n",
       "      <td>0.507502</td>\n",
       "      <td>-2.812252</td>\n",
       "      <td>-0.822844</td>\n",
       "    </tr>\n",
       "    <tr>\n",
       "      <th>(78, 88]</th>\n",
       "      <td>27.850000</td>\n",
       "      <td>27.464368</td>\n",
       "      <td>5.483781</td>\n",
       "      <td>4.695650</td>\n",
       "      <td>201</td>\n",
       "      <td>177</td>\n",
       "      <td>0.386796</td>\n",
       "      <td>0.352947</td>\n",
       "      <td>-0.385632</td>\n",
       "      <td>0.523624</td>\n",
       "      <td>-1.411936</td>\n",
       "      <td>0.640672</td>\n",
       "    </tr>\n",
       "  </tbody>\n",
       "</table>\n",
       "</div>"
      ],
      "text/plain": [
       "              BMXBMI                                                       \\\n",
       "                mean                  std             size            sem   \n",
       "RIAGENDRx     female       male    female      male female male    female   \n",
       "age_band                                                                    \n",
       "(18, 28]   28.019433  27.058186  8.048854  6.679515    498  458  0.360678   \n",
       "(28, 38]   29.943443  29.697180  7.959097  6.726690    494  467  0.358097   \n",
       "(38, 48]   31.003733  29.514646  8.044642  6.104950    514  398  0.354834   \n",
       "(48, 58]   30.787361  29.385132  7.647590  6.151534    454  419  0.358919   \n",
       "(58, 68]   31.054664  29.232462  7.779502  5.959024    466  470  0.360378   \n",
       "(68, 78]   30.537818  28.720270  6.780588  5.336652    279  307  0.405943   \n",
       "(78, 88]   27.850000  27.464368  5.483781  4.695650    201  177  0.386796   \n",
       "\n",
       "                                                             \n",
       "                    mean_diff  sem_diff       lcb       ucb  \n",
       "RIAGENDRx      male                                          \n",
       "age_band                                                     \n",
       "(18, 28]   0.312113 -0.961247  0.476973 -1.896114 -0.026381  \n",
       "(28, 38]   0.311274 -0.246263  0.474473 -1.176230  0.683705  \n",
       "(38, 48]   0.306014 -1.489086  0.468563 -2.407470 -0.570703  \n",
       "(48, 58]   0.300522 -1.402230  0.468120 -2.319745 -0.484714  \n",
       "(58, 68]   0.274869 -1.822202  0.453239 -2.710551 -0.933853  \n",
       "(68, 78]   0.304579 -1.817548  0.507502 -2.812252 -0.822844  \n",
       "(78, 88]   0.352947 -0.385632  0.523624 -1.411936  0.640672  "
      ]
     },
     "execution_count": 78,
     "metadata": {},
     "output_type": "execute_result"
    }
   ],
   "source": [
    "age_gp"
   ]
  },
  {
   "cell_type": "markdown",
   "id": "cf7a786f-5d62-46e5-991a-d4be862702d3",
   "metadata": {},
   "source": [
    "__Q4a.__ How do the widths of these confidence intervals differ?  Provide an explanation for any substantial differences in the confidence interval widths that you see."
   ]
  },
  {
   "cell_type": "code",
   "execution_count": null,
   "id": "04682824-c870-46bb-8d59-62fd559cbc6c",
   "metadata": {},
   "outputs": [],
   "source": []
  },
  {
   "cell_type": "markdown",
   "id": "76189966-8925-41c5-b592-4350c0f68e8c",
   "metadata": {},
   "source": [
    "## Question 5\n",
    "\n",
    "Construct a 95% confidence interval for the first and second systolic blood pressure measures, and for the difference between the first and second systolic blood pressure measurements within a subject."
   ]
  },
  {
   "cell_type": "code",
   "execution_count": 89,
   "id": "d80251d2-8083-439f-b16b-a63922cbfa91",
   "metadata": {
    "tags": []
   },
   "outputs": [
    {
     "name": "stdout",
     "output_type": "stream",
     "text": [
      "LCB = 124.60630134587866 and UCB = 125.56292657487676\n"
     ]
    }
   ],
   "source": [
    "sys_mean1 = da[\"BPXSY1\"].mean()\n",
    "sys_std1 = da[\"BPXSY1\"].std()\n",
    "sys_n1 = len(da[\"BPXSY1\"])\n",
    "sys_sem1 = sys_std1 / np.sqrt(sys_n1)\n",
    "lcb1 = sys_mean1 - 1.96 * sys_sem1\n",
    "ucb1 = sys_mean1 + 1.96 * sys_sem1\n",
    "\n",
    "print(f\"LCB = {lcb1} and UCB = {ucb1}\")"
   ]
  },
  {
   "cell_type": "code",
   "execution_count": 86,
   "id": "810f929a-d0a7-4302-816c-1ebc4affeac5",
   "metadata": {
    "tags": []
   },
   "outputs": [
    {
     "name": "stdout",
     "output_type": "stream",
     "text": [
      "LCB = 124.30351040092819 and UCB = 125.26252392608174\n"
     ]
    }
   ],
   "source": [
    "sys_mean2 = da[\"BPXSY2\"].mean()\n",
    "sys_std2 = da[\"BPXSY2\"].std()\n",
    "sys_n2 = len(da[\"BPXSY2\"])\n",
    "sys_sem2 = sys_std2 / np.sqrt(sys_n2)\n",
    "lcb2 = sys_mean2 - 1.96 * sys_sem2\n",
    "ucb2 = sys_mean2 + 1.96 * sys_sem2\n",
    "\n",
    "print(f\"LCB = {lcb2} and UCB = {ucb2}\")"
   ]
  },
  {
   "cell_type": "code",
   "execution_count": 90,
   "id": "ecbba813-0195-4a3a-8fe1-9de958e9059a",
   "metadata": {
    "tags": []
   },
   "outputs": [
    {
     "name": "stdout",
     "output_type": "stream",
     "text": [
      "LCB = -0.37568430617515414 and UCB = 0.9788778999206417\n"
     ]
    }
   ],
   "source": [
    "sys_mean_diff = sys_mean1 - sys_mean2\n",
    "sys_sem_diff = np.sqrt(sys_sem1**2 + sys_sem2**2)\n",
    "lcb_diff = sys_mean_diff - 1.96 * sys_sem_diff\n",
    "ucb_diff = sys_mean_diff + 1.96 * sys_sem_diff\n",
    "\n",
    "print(f\"LCB = {lcb_diff} and UCB = {ucb_diff}\")"
   ]
  },
  {
   "cell_type": "markdown",
   "id": "cb659268-5ac1-4c24-98ac-c7d24f90678d",
   "metadata": {},
   "source": [
    "__Q5a.__ Based on these confidence intervals, would you say that a difference of zero between the population mean values of the first and second systolic blood pressure measures is consistent with the data?"
   ]
  },
  {
   "cell_type": "code",
   "execution_count": null,
   "id": "dce88407-a8ba-47dc-b7be-387ab736e0f5",
   "metadata": {},
   "outputs": [],
   "source": []
  },
  {
   "cell_type": "markdown",
   "id": "0df67202-fa0b-4e4f-a821-753b28496760",
   "metadata": {},
   "source": [
    "__Q5b.__ Discuss how the width of the confidence interval for the within-subject difference compares to the widths of the confidence intervals for the first and second measures."
   ]
  },
  {
   "cell_type": "code",
   "execution_count": null,
   "id": "5c123485-bb57-4a1c-b443-f55c4fca13dd",
   "metadata": {},
   "outputs": [],
   "source": []
  },
  {
   "cell_type": "markdown",
   "id": "b5278a38-7f34-4034-81f5-3cdff63ceac0",
   "metadata": {},
   "source": [
    "## Question 6\n",
    "\n",
    "Construct a 95% confidence interval for the mean difference between the average age of a smoker, and the average age of a non-smoker."
   ]
  },
  {
   "cell_type": "code",
   "execution_count": 96,
   "id": "a23a1e7b-c2d5-4936-8b34-525671b8bcf5",
   "metadata": {
    "tags": []
   },
   "outputs": [
    {
     "data": {
      "text/html": [
       "<div>\n",
       "<style scoped>\n",
       "    .dataframe tbody tr th:only-of-type {\n",
       "        vertical-align: middle;\n",
       "    }\n",
       "\n",
       "    .dataframe tbody tr th {\n",
       "        vertical-align: top;\n",
       "    }\n",
       "\n",
       "    .dataframe thead th {\n",
       "        text-align: right;\n",
       "    }\n",
       "</style>\n",
       "<table border=\"1\" class=\"dataframe\">\n",
       "  <thead>\n",
       "    <tr style=\"text-align: right;\">\n",
       "      <th></th>\n",
       "      <th>Mean</th>\n",
       "      <th>Std</th>\n",
       "      <th>Num</th>\n",
       "    </tr>\n",
       "    <tr>\n",
       "      <th>SMQ020x</th>\n",
       "      <th></th>\n",
       "      <th></th>\n",
       "      <th></th>\n",
       "    </tr>\n",
       "  </thead>\n",
       "  <tbody>\n",
       "    <tr>\n",
       "      <th>No</th>\n",
       "      <td>45.259836</td>\n",
       "      <td>18.543286</td>\n",
       "      <td>3406</td>\n",
       "    </tr>\n",
       "    <tr>\n",
       "      <th>Yes</th>\n",
       "      <td>52.096593</td>\n",
       "      <td>17.461141</td>\n",
       "      <td>2319</td>\n",
       "    </tr>\n",
       "  </tbody>\n",
       "</table>\n",
       "</div>"
      ],
      "text/plain": [
       "              Mean        Std   Num\n",
       "SMQ020x                            \n",
       "No       45.259836  18.543286  3406\n",
       "Yes      52.096593  17.461141  2319"
      ]
     },
     "execution_count": 96,
     "metadata": {},
     "output_type": "execute_result"
    }
   ],
   "source": [
    "dx = da.groupby(\"SMQ020x\").agg({\"RIDAGEYR\":[np.mean, np.std, np.size]})\n",
    "dx.columns = [\"Mean\", \"Std\", \"Num\"]\n",
    "dx"
   ]
  },
  {
   "cell_type": "code",
   "execution_count": 99,
   "id": "ade5214e-9943-4eea-8235-1356108eb1f9",
   "metadata": {
    "tags": []
   },
   "outputs": [
    {
     "name": "stdout",
     "output_type": "stream",
     "text": [
      "LCB (smoker) = 5.891821038686713 and UCB (smoker) = 7.781694511200259\n"
     ]
    }
   ],
   "source": [
    "smkr_se = dx.Std.Yes / np.sqrt(dx.Num.Yes)\n",
    "nsmkr_se = dx.Std.No / np.sqrt(dx.Num.No)\n",
    "\n",
    "mean_diff = dx.Mean.Yes - dx.Mean.No\n",
    "se_diff = np.sqrt(smkr_se**2 + nsmkr_se**2)\n",
    "\n",
    "lcb = mean_diff - 1.96 * se_diff\n",
    "ucb = mean_diff + 1.96 * se_diff\n",
    "\n",
    "print(f\"LCB (smoker) = {lcb} and UCB (smoker) = {ucb}\")"
   ]
  },
  {
   "cell_type": "markdown",
   "id": "a4030277-306f-4d4f-9210-d12853c69680",
   "metadata": {},
   "source": [
    "__Q6a.__ Use graphical and numerical techniques to compare the variation in the ages of smokers to the variation in the ages of non-smokers.  "
   ]
  },
  {
   "cell_type": "code",
   "execution_count": null,
   "id": "f89323a4-2ead-475a-bb8c-6c1a89a105e9",
   "metadata": {},
   "outputs": [],
   "source": []
  },
  {
   "cell_type": "markdown",
   "id": "c3d1fe14-01ca-45d4-8306-1aeb7cd72c70",
   "metadata": {},
   "source": [
    "__Q6b.__ Does it appear that uncertainty about the mean age of smokers, or uncertainty about the mean age of non-smokers contributed more to the uncertainty for the mean difference that we are focusing on here?"
   ]
  },
  {
   "cell_type": "code",
   "execution_count": null,
   "id": "b81eddac-4c75-4b25-a028-b7456f2b0c9e",
   "metadata": {},
   "outputs": [],
   "source": []
  },
  {
   "cell_type": "code",
   "execution_count": null,
   "id": "7b3c226c-db55-414f-9d21-3c21edb3e251",
   "metadata": {},
   "outputs": [],
   "source": []
  }
 ],
 "metadata": {
  "kernelspec": {
   "display_name": "Python 3 (ipykernel)",
   "language": "python",
   "name": "python3"
  },
  "language_info": {
   "codemirror_mode": {
    "name": "ipython",
    "version": 3
   },
   "file_extension": ".py",
   "mimetype": "text/x-python",
   "name": "python",
   "nbconvert_exporter": "python",
   "pygments_lexer": "ipython3",
   "version": "3.11.5"
  }
 },
 "nbformat": 4,
 "nbformat_minor": 5
}
