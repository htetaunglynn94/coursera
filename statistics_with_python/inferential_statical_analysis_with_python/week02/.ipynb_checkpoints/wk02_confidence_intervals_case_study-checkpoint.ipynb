{
 "cells": [
  {
   "cell_type": "markdown",
   "id": "32b224e2-d497-44a7-be18-024d60a06c31",
   "metadata": {},
   "source": [
    "# Confidence intervals case study using NHANES data\n",
    "\n",
    "\n",
    "This notebook demonstrates how to use Python and its statistical libraries to construct confidence intervals for proportions and means.  We will also cover some important points relating to the properties of confidence intervals, and discuss how to use and interpret confidence intervals in practice.  We will use the 2015-2016 wave of the [NHANES](https://www.cdc.gov/nchs/nhanes/index.htm) data for all the analyses below.\n",
    "\n",
    "It is important to note that the NHANES data are a \"complex survey\".  The data are not an independent and representative sample from the target population.  Proper analysis of complex survey data should make use of additional information about the manner in which the data were collected.  Since complex survey analysis is a somewhat specialized topic, we ignore this aspect of the data here, and analyze the NHANES data as if it were an independent and identically distributed sample from a population.\n",
    "\n",
    "The following module import statements and data reading statement are identical to what we have used previously in course 1."
   ]
  },
  {
   "cell_type": "code",
   "execution_count": 1,
   "id": "e8d612c4-d4df-42d5-90a4-e9ae0cf883dd",
   "metadata": {
    "tags": []
   },
   "outputs": [],
   "source": [
    "import numpy as np\n",
    "import pandas as pd\n",
    "import matplotlib.pyplot as plt\n",
    "import seaborn as sns\n",
    "import statsmodels.api as sm\n",
    "%matplotlib inline"
   ]
  },
  {
   "cell_type": "code",
   "execution_count": 2,
   "id": "5aaf57e0-1826-4ddd-85f5-a1223e004a39",
   "metadata": {
    "tags": []
   },
   "outputs": [],
   "source": [
    "da = pd.read_csv(\"nhanes_2015_2016.csv\")"
   ]
  },
  {
   "cell_type": "markdown",
   "id": "9f5ff51f-8886-44be-9361-0f27f6210375",
   "metadata": {
    "jp-MarkdownHeadingCollapsed": true,
    "tags": []
   },
   "source": [
    "## Confidence intervals for one proportion\n",
    "\n",
    "In this section, we demonstrate the construction of confidence intervals for the proportion of people who smoke.  The specific definition of \"smoker\" used here ([SMQ020](https://wwwn.cdc.gov/Nchs/Nhanes/2015-2016/SMQ_I.htm#SMQ020)) identifies a person as being a smoker if they self-report as having smoked 100 or more cigarettes in their lifetime.  It is more accurate to refer to this as a measure of \"lifetime smoking\" rather than \"current smoking\".  Recall that the definitions of these and other NHANES variables can be found using the NHANES code books, or by searching using the link below.\n",
    "\n",
    "https://wwwn.cdc.gov/nchs/nhanes/search/default.aspx\n",
    "\n",
    "We will calculate the proportions of smokers separately for females and for males.  Initially we can compare these two proportions and their corresponding confidence intervals informally, but later we will discuss methods to compare two proportions formally using confidence intervals.\n",
    "\n",
    "First we replace the numeric codes in the variables of interest with text labels, and set the rare answers other than \"yes\" and \"no\" to be missing (so they will automatically be omitted from all the analyses below)."
   ]
  },
  {
   "cell_type": "code",
   "execution_count": 3,
   "id": "29454a99-2211-4282-ad2e-9bb7c5cca33c",
   "metadata": {
    "tags": []
   },
   "outputs": [],
   "source": [
    "da[\"SMQ020x\"]= da.SMQ020.replace({1: \"Yes\", 2: \"No\", 7: np.nan, 9: np.nan})  # np.nan represents a missing value\n",
    "da[\"RIAGENDRx\"] = da.RIAGENDR.replace({1: \"Male\", 2: \"Female\"})"
   ]
  },
  {
   "cell_type": "code",
   "execution_count": 4,
   "id": "f3711556-d313-4d7c-9b7d-254dfae13fd5",
   "metadata": {
    "tags": []
   },
   "outputs": [
    {
     "data": {
      "text/html": [
       "<div>\n",
       "<style scoped>\n",
       "    .dataframe tbody tr th:only-of-type {\n",
       "        vertical-align: middle;\n",
       "    }\n",
       "\n",
       "    .dataframe tbody tr th {\n",
       "        vertical-align: top;\n",
       "    }\n",
       "\n",
       "    .dataframe thead th {\n",
       "        text-align: right;\n",
       "    }\n",
       "</style>\n",
       "<table border=\"1\" class=\"dataframe\">\n",
       "  <thead>\n",
       "    <tr style=\"text-align: right;\">\n",
       "      <th>RIAGENDRx</th>\n",
       "      <th>Female</th>\n",
       "      <th>Male</th>\n",
       "    </tr>\n",
       "    <tr>\n",
       "      <th>SMQ020x</th>\n",
       "      <th></th>\n",
       "      <th></th>\n",
       "    </tr>\n",
       "  </thead>\n",
       "  <tbody>\n",
       "    <tr>\n",
       "      <th>No</th>\n",
       "      <td>2066</td>\n",
       "      <td>1340</td>\n",
       "    </tr>\n",
       "    <tr>\n",
       "      <th>Yes</th>\n",
       "      <td>906</td>\n",
       "      <td>1413</td>\n",
       "    </tr>\n",
       "  </tbody>\n",
       "</table>\n",
       "</div>"
      ],
      "text/plain": [
       "RIAGENDRx  Female  Male\n",
       "SMQ020x                \n",
       "No           2066  1340\n",
       "Yes           906  1413"
      ]
     },
     "execution_count": 4,
     "metadata": {},
     "output_type": "execute_result"
    }
   ],
   "source": [
    "dx = da[[\"SMQ020x\", \"RIAGENDRx\"]].dropna()\n",
    "dy = pd.crosstab(index=dx.SMQ020x, columns=dx.RIAGENDRx)\n",
    "dy"
   ]
  },
  {
   "cell_type": "code",
   "execution_count": 5,
   "id": "cc490dc3-118b-4041-9dcf-4fd11603611b",
   "metadata": {
    "tags": []
   },
   "outputs": [
    {
     "data": {
      "text/plain": [
       "906"
      ]
     },
     "execution_count": 5,
     "metadata": {},
     "output_type": "execute_result"
    }
   ],
   "source": [
    "dy.Female.Yes"
   ]
  },
  {
   "cell_type": "markdown",
   "id": "bd7c564f-0401-4c7d-bf80-d5fa8d7aa78d",
   "metadata": {
    "tags": []
   },
   "source": [
    "The confidence interval (CI) is constructed using two inputs: the sample proportion of smokers, and the total sample size for smokers and non-smokers combined.  We calculate these values next."
   ]
  },
  {
   "cell_type": "code",
   "execution_count": 6,
   "id": "67388f45-a4e2-4da4-a245-dd43cf6b3e5c",
   "metadata": {
    "tags": []
   },
   "outputs": [
    {
     "data": {
      "text/html": [
       "<div>\n",
       "<style scoped>\n",
       "    .dataframe tbody tr th:only-of-type {\n",
       "        vertical-align: middle;\n",
       "    }\n",
       "\n",
       "    .dataframe tbody tr th {\n",
       "        vertical-align: top;\n",
       "    }\n",
       "\n",
       "    .dataframe thead th {\n",
       "        text-align: right;\n",
       "    }\n",
       "</style>\n",
       "<table border=\"1\" class=\"dataframe\">\n",
       "  <thead>\n",
       "    <tr style=\"text-align: right;\">\n",
       "      <th></th>\n",
       "      <th>SMQ020x</th>\n",
       "      <th>RIAGENDRx</th>\n",
       "    </tr>\n",
       "  </thead>\n",
       "  <tbody>\n",
       "    <tr>\n",
       "      <th>0</th>\n",
       "      <td>Yes</td>\n",
       "      <td>Male</td>\n",
       "    </tr>\n",
       "    <tr>\n",
       "      <th>1</th>\n",
       "      <td>Yes</td>\n",
       "      <td>Male</td>\n",
       "    </tr>\n",
       "    <tr>\n",
       "      <th>2</th>\n",
       "      <td>Yes</td>\n",
       "      <td>Male</td>\n",
       "    </tr>\n",
       "    <tr>\n",
       "      <th>3</th>\n",
       "      <td>No</td>\n",
       "      <td>Female</td>\n",
       "    </tr>\n",
       "    <tr>\n",
       "      <th>4</th>\n",
       "      <td>No</td>\n",
       "      <td>Female</td>\n",
       "    </tr>\n",
       "    <tr>\n",
       "      <th>...</th>\n",
       "      <td>...</td>\n",
       "      <td>...</td>\n",
       "    </tr>\n",
       "    <tr>\n",
       "      <th>5730</th>\n",
       "      <td>Yes</td>\n",
       "      <td>Female</td>\n",
       "    </tr>\n",
       "    <tr>\n",
       "      <th>5731</th>\n",
       "      <td>No</td>\n",
       "      <td>Male</td>\n",
       "    </tr>\n",
       "    <tr>\n",
       "      <th>5732</th>\n",
       "      <td>Yes</td>\n",
       "      <td>Female</td>\n",
       "    </tr>\n",
       "    <tr>\n",
       "      <th>5733</th>\n",
       "      <td>Yes</td>\n",
       "      <td>Male</td>\n",
       "    </tr>\n",
       "    <tr>\n",
       "      <th>5734</th>\n",
       "      <td>No</td>\n",
       "      <td>Female</td>\n",
       "    </tr>\n",
       "  </tbody>\n",
       "</table>\n",
       "<p>5725 rows × 2 columns</p>\n",
       "</div>"
      ],
      "text/plain": [
       "     SMQ020x RIAGENDRx\n",
       "0        Yes      Male\n",
       "1        Yes      Male\n",
       "2        Yes      Male\n",
       "3         No    Female\n",
       "4         No    Female\n",
       "...      ...       ...\n",
       "5730     Yes    Female\n",
       "5731      No      Male\n",
       "5732     Yes    Female\n",
       "5733     Yes      Male\n",
       "5734      No    Female\n",
       "\n",
       "[5725 rows x 2 columns]"
      ]
     },
     "execution_count": 6,
     "metadata": {},
     "output_type": "execute_result"
    }
   ],
   "source": [
    "dx"
   ]
  },
  {
   "cell_type": "code",
   "execution_count": 7,
   "id": "66c63306-3e89-429f-b0f9-01eb69424f5d",
   "metadata": {
    "tags": []
   },
   "outputs": [
    {
     "data": {
      "text/html": [
       "<div>\n",
       "<style scoped>\n",
       "    .dataframe tbody tr th:only-of-type {\n",
       "        vertical-align: middle;\n",
       "    }\n",
       "\n",
       "    .dataframe tbody tr th {\n",
       "        vertical-align: top;\n",
       "    }\n",
       "\n",
       "    .dataframe thead tr th {\n",
       "        text-align: left;\n",
       "    }\n",
       "\n",
       "    .dataframe thead tr:last-of-type th {\n",
       "        text-align: right;\n",
       "    }\n",
       "</style>\n",
       "<table border=\"1\" class=\"dataframe\">\n",
       "  <thead>\n",
       "    <tr>\n",
       "      <th></th>\n",
       "      <th colspan=\"2\" halign=\"left\">SMQ020x</th>\n",
       "    </tr>\n",
       "    <tr>\n",
       "      <th></th>\n",
       "      <th>&lt;lambda_0&gt;</th>\n",
       "      <th>size</th>\n",
       "    </tr>\n",
       "    <tr>\n",
       "      <th>RIAGENDRx</th>\n",
       "      <th></th>\n",
       "      <th></th>\n",
       "    </tr>\n",
       "  </thead>\n",
       "  <tbody>\n",
       "    <tr>\n",
       "      <th>Female</th>\n",
       "      <td>0.304845</td>\n",
       "      <td>2972</td>\n",
       "    </tr>\n",
       "    <tr>\n",
       "      <th>Male</th>\n",
       "      <td>0.513258</td>\n",
       "      <td>2753</td>\n",
       "    </tr>\n",
       "  </tbody>\n",
       "</table>\n",
       "</div>"
      ],
      "text/plain": [
       "             SMQ020x      \n",
       "          <lambda_0>  size\n",
       "RIAGENDRx                 \n",
       "Female      0.304845  2972\n",
       "Male        0.513258  2753"
      ]
     },
     "execution_count": 7,
     "metadata": {},
     "output_type": "execute_result"
    }
   ],
   "source": [
    "dz = dx.groupby(dx.RIAGENDRx).agg({\"SMQ020x\": [lambda x: np.mean(x==\"Yes\"), np.size]})\n",
    "dz"
   ]
  },
  {
   "cell_type": "code",
   "execution_count": 8,
   "id": "d149adc2-9d89-4677-8f87-495860a182a8",
   "metadata": {
    "tags": []
   },
   "outputs": [
    {
     "data": {
      "text/html": [
       "<div>\n",
       "<style scoped>\n",
       "    .dataframe tbody tr th:only-of-type {\n",
       "        vertical-align: middle;\n",
       "    }\n",
       "\n",
       "    .dataframe tbody tr th {\n",
       "        vertical-align: top;\n",
       "    }\n",
       "\n",
       "    .dataframe thead th {\n",
       "        text-align: right;\n",
       "    }\n",
       "</style>\n",
       "<table border=\"1\" class=\"dataframe\">\n",
       "  <thead>\n",
       "    <tr style=\"text-align: right;\">\n",
       "      <th></th>\n",
       "      <th>Proportion</th>\n",
       "      <th>Total_n</th>\n",
       "    </tr>\n",
       "    <tr>\n",
       "      <th>RIAGENDRx</th>\n",
       "      <th></th>\n",
       "      <th></th>\n",
       "    </tr>\n",
       "  </thead>\n",
       "  <tbody>\n",
       "    <tr>\n",
       "      <th>Female</th>\n",
       "      <td>0.304845</td>\n",
       "      <td>2972</td>\n",
       "    </tr>\n",
       "    <tr>\n",
       "      <th>Male</th>\n",
       "      <td>0.513258</td>\n",
       "      <td>2753</td>\n",
       "    </tr>\n",
       "  </tbody>\n",
       "</table>\n",
       "</div>"
      ],
      "text/plain": [
       "           Proportion  Total_n\n",
       "RIAGENDRx                     \n",
       "Female       0.304845     2972\n",
       "Male         0.513258     2753"
      ]
     },
     "execution_count": 8,
     "metadata": {},
     "output_type": "execute_result"
    }
   ],
   "source": [
    "dz.columns = [\"Proportion\", \"Total_n\"]\n",
    "dz"
   ]
  },
  {
   "cell_type": "markdown",
   "id": "bb5a5ce6-0acc-4f74-aa50-26af49ef0f03",
   "metadata": {},
   "source": [
    "Confidence intervals are closely connected to standard errors.  Recall that the standard error essentially tells you how\n",
    "far you should expect an estimate to fall from the truth.  A confidence interval is an interval that under repeated sampling covers the truth a defined proportion of the time.  In most settings, this \"coverage probability\" is set to 95%.  \n",
    "\n",
    "It turns out that in many settings, a 95% confidence interval can be constructed as the interval consisting of all points that are within two (or 1.96) standard errors of the point estimate.  More concisely, the confidence interval approximately spans from e - 2•SE to e + 2•SE, where e is the point estimate and SE is the standard error.\n",
    "\n",
    "Since the standard error plays such an important role here, we calculate it separately first."
   ]
  },
  {
   "cell_type": "code",
   "execution_count": 9,
   "id": "c9c57fb9-63dd-47f2-941e-6dbc70d1cdea",
   "metadata": {
    "tags": []
   },
   "outputs": [
    {
     "name": "stdout",
     "output_type": "stream",
     "text": [
      "Standard Error (Female): 0.008444152146214435\n",
      "Standard Error (Male): 0.009526078653689868\n"
     ]
    }
   ],
   "source": [
    "p_f = dz.Proportion.Female                      # Value in junction of index \"Female\" and column \"Proportion\"\n",
    "n_f = dz.Total_n.Female                         # Value in junction of index \"Female\" and column \"Total_n\"\n",
    "se_female = np.sqrt(p_f * (1 - p_f) / n_f)      # Standard Error for Female (√(p*(1-p)/n)\n",
    "print(\"Standard Error (Female):\", se_female)\n",
    "\n",
    "p_m = dz.Proportion.Male                        # Value in junction of index \"Male\" and column \"Total_n\"\n",
    "n_m = dz[\"Total_n\"].Male                        # Value in junction of index \"Male\" and column \"Total_n\"\n",
    "se_male = np.sqrt(p_m * (1 - p_m) / n_m)        # Standard Error for Male (√(p*(1-p)/n)\n",
    "print(\"Standard Error (Male):\", se_male)"
   ]
  },
  {
   "cell_type": "markdown",
   "id": "f310989b-0641-4d80-9d00-3675657f0832",
   "metadata": {},
   "source": [
    "We can see that the standard errors for the estimated proportions of females and males who smoke are similar, and are each around 1% (since we are studying a proportion here, 0.01 corresponds to a 1 percentage point change in the smoking rate).  \n",
    "\n",
    "The standard error for a proportion is maximized when the true proportion is around 1/2, and gets smaller as the true proportion approaches either 0 or 1.  The estimated male smoking proportion is closer to 1/2 than the estimated female smoking proportion, and the male sample size is smaller than the female sample size.  Both of these factors lead to the male standard error being larger than the female standard error, although the difference is very small in this case.\n",
    "\n",
    "Next we calculate the 95% confidence intervals for the proportions of female and male smokers using the formula for the one-sample confidence interval for a proportion:"
   ]
  },
  {
   "cell_type": "code",
   "execution_count": 10,
   "id": "823bb83f-c595-4bb0-b070-34529814800e",
   "metadata": {
    "tags": []
   },
   "outputs": [
    {
     "name": "stdout",
     "output_type": "stream",
     "text": [
      "LCB = 0.288294683866098, UCB = 0.32139576027925865\n"
     ]
    }
   ],
   "source": [
    "# For female (p +/- 1.96 * (√(p*(1-p)/n))\n",
    "lcb = p_f - 1.96 * np.sqrt(p_f * (1 - p_f) / n_f)\n",
    "ucb = p_f + 1.96 * np.sqrt(p_f * (1 - p_f) / n_f)\n",
    "print(f\"LCB = {lcb}, UCB = {ucb}\")"
   ]
  },
  {
   "cell_type": "markdown",
   "id": "46174b6d-df9c-47b2-b919-87b7c65cd6fb",
   "metadata": {},
   "source": [
    "The results above indicate that any population proportion (for female lifetime smokers) between 0.288 and 0.321 would be compatible with the data that we observed in NHANES."
   ]
  },
  {
   "cell_type": "code",
   "execution_count": 11,
   "id": "604a22be-3d42-4254-90d5-1522914b48b7",
   "metadata": {
    "tags": []
   },
   "outputs": [
    {
     "name": "stdout",
     "output_type": "stream",
     "text": [
      "LCB = 0.49458714955108174, UCB = 0.531929377873546\n"
     ]
    }
   ],
   "source": [
    "# For male\n",
    "lcb = p_m - 1.96 * np.sqrt(p_m * (1 - p_m) / n_m)\n",
    "ucb = p_m + 1.96 * np.sqrt(p_m * (1 - p_m) / n_m)\n",
    "print(f\"LCB = {lcb}, UCB = {ucb}\")"
   ]
  },
  {
   "cell_type": "markdown",
   "id": "d5e8d529-1159-4633-9f00-8b069112d2a8",
   "metadata": {},
   "source": [
    "These results indicate that any population proportion (for male lifetime smokers) between 0.493 and 0.531 would be compatible with the NHANES data."
   ]
  },
  {
   "cell_type": "markdown",
   "id": "074042b4-eafc-4e05-aac7-830dbbb0eda4",
   "metadata": {
    "jp-MarkdownHeadingCollapsed": true,
    "tags": []
   },
   "source": [
    "## Using `statsmodels`"
   ]
  },
  {
   "cell_type": "markdown",
   "id": "da16752b-d476-4dd3-bfaa-4b0815bb285f",
   "metadata": {},
   "source": [
    "### 95% CI for the proportion of females who smoke"
   ]
  },
  {
   "cell_type": "code",
   "execution_count": 12,
   "id": "4c343e69-0b97-4cbf-8850-2c582ba34bfc",
   "metadata": {
    "tags": []
   },
   "outputs": [
    {
     "data": {
      "text/plain": [
       "(906, 2066)"
      ]
     },
     "execution_count": 12,
     "metadata": {},
     "output_type": "execute_result"
    }
   ],
   "source": [
    "dy.Female.Yes, dy.Female.No"
   ]
  },
  {
   "cell_type": "code",
   "execution_count": 13,
   "id": "869d0042-bb01-4940-8de1-6735fd2d9523",
   "metadata": {
    "tags": []
   },
   "outputs": [
    {
     "data": {
      "text/plain": [
       "(0.2882949879861214, 0.32139545615923526)"
      ]
     },
     "execution_count": 13,
     "metadata": {},
     "output_type": "execute_result"
    }
   ],
   "source": [
    "sm.stats.proportion_confint(count=dy.Female.Yes, nobs=dy.Female.Yes+dy.Female.No)\n",
    "# nob = total number of trials"
   ]
  },
  {
   "cell_type": "markdown",
   "id": "846db649-c9a1-438e-b317-00a4f3e47b98",
   "metadata": {},
   "source": [
    "### 95% CI for the proportion of males who smoke"
   ]
  },
  {
   "cell_type": "code",
   "execution_count": 14,
   "id": "6a521eb5-911e-4790-a327-c31a27bf7d97",
   "metadata": {
    "tags": []
   },
   "outputs": [
    {
     "data": {
      "text/plain": [
       "(0.49458749263718593, 0.5319290347874418)"
      ]
     },
     "execution_count": 14,
     "metadata": {},
     "output_type": "execute_result"
    }
   ],
   "source": [
    "sm.stats.proportion_confint(count=dy.Male.Yes, nobs=dy.Male.Yes+dy.Male.No)"
   ]
  },
  {
   "cell_type": "markdown",
   "id": "69e74bf9-e19c-45a6-8a5b-8b675a2d9023",
   "metadata": {
    "jp-MarkdownHeadingCollapsed": true,
    "tags": []
   },
   "source": [
    "## Confidence intervals comparing two independent proportions\n",
    "\n",
    "The confidence intervals for the proportions of female and male smokers shown above are quite narrow and do not overlap.  This suggests that there is a substantial difference between the lifetime smoking rates for women and men. However there is no explicit information here about how different the two population proportions might be.  To address this question, we can form a confidence interval for the difference between the proportion of females who smoke and the proportion of males who smoke.  \n",
    "\n",
    "The point estimate of the difference between female and male smoking rates is -0.208 (0.305 - 0.513).  That is, the smoking rate is about 20 percentage points higher in men than in women.  This difference of around 20 percentage points is only a point estimate of the underlying true value -- it is not exactly equal to the difference between the unknown proportions of females and males who smoke in the population.  A confidence interval helps us assess how far the estimated difference may be from the true difference.\n",
    "\n",
    "As above, we start with the standard error.  The difference between two sample proportions based on independent data has a standard error that reflects the combined uncertainty in the two proportions being differenced.  This standard error can be calculated very easily.  If SE1 and SE2 are the standard errors for two proportions, then sqrt(SE1^2 + SE2^2) is the standard error for the difference of these proportions (`sqrt` is the square root function).  Note that this formula is only accurate if the two sample proportions being differenced are independent.\n",
    "\n",
    "In the next cell we calculate the standard error for the difference between the proprotion of females who smoke and the proportion of males who smoke."
   ]
  },
  {
   "cell_type": "code",
   "execution_count": 15,
   "id": "fa05a7bc-96ef-4833-ab23-5956659a81e5",
   "metadata": {
    "tags": []
   },
   "outputs": [
    {
     "data": {
      "text/plain": [
       "0.012729881381407434"
      ]
     },
     "execution_count": 15,
     "metadata": {},
     "output_type": "execute_result"
    }
   ],
   "source": [
    "se_diff = np.sqrt(se_female**2 + se_male**2)\n",
    "se_diff"
   ]
  },
  {
   "cell_type": "markdown",
   "id": "15168eaa-3b33-4d16-b176-979edcb550b3",
   "metadata": {},
   "source": [
    "The standard error of around 0.013 indicates that **the estimated difference statistic -0.208 is expected to fall around 0.013 units from the true value**.  We do not know in which direction the error lies, and we do not know that the error is exactly 0.013, only that it is around this large on average.  For most purposes, a standard error of 0.013 relative to an observed difference of -0.21 would be considered very small.  That is, we have a very accurate estimate of the difference between smoking rates in women and in men.\n",
    "\n",
    "Now that we have the standard error, we can construct a 95% confidence interval for the difference in proportions by taking the estimate and subtracting and adding two (or 1.96) standard errors from it."
   ]
  },
  {
   "cell_type": "code",
   "execution_count": 16,
   "id": "0ff31d47-f67c-4360-a42e-e58206b222b2",
   "metadata": {
    "tags": []
   },
   "outputs": [
    {
     "name": "stdout",
     "output_type": "stream",
     "text": [
      "LCB = -0.2338728044024504, UCB = -0.18295327887682067\n"
     ]
    }
   ],
   "source": [
    "d = dz.Proportion.Female - dz.Proportion.Male        # result = -0.208\n",
    "lcb = d - 2 * se_diff\n",
    "ucb = d + 2 * se_diff\n",
    "print(f\"LCB = {lcb}, UCB = {ucb}\")"
   ]
  },
  {
   "cell_type": "markdown",
   "id": "4f477af5-ee73-422d-aeda-50389dc29ddf",
   "metadata": {},
   "source": [
    "The 95% confidence interval above shows us that any value for the difference of population proportions (between females and males) lying between -0.233 and -0.183 is consistent with the observed data."
   ]
  },
  {
   "cell_type": "markdown",
   "id": "f7d01150-24a7-4da4-b3c0-909e18defb8b",
   "metadata": {
    "jp-MarkdownHeadingCollapsed": true,
    "tags": []
   },
   "source": [
    "## Confidence intervals for subpopulations\n",
    "\n",
    "Since smoking rates vary strongly with age, it might be more informative to stratify the data into homogeneous age bands and compare the proportions of female and male smokers within each age band.  We can also calculate the 95% confidence interval for this difference within each age band.  These data can be displayed as a plot, with the difference in proportions plotted as a curve.  The confidence intervals can then be used to construct a \"confidence band\" around the estimates."
   ]
  },
  {
   "cell_type": "code",
   "execution_count": 17,
   "id": "42517b92-40fb-4bb3-89a4-3f04dbf43f42",
   "metadata": {
    "tags": []
   },
   "outputs": [
    {
     "data": {
      "text/html": [
       "<div>\n",
       "<style scoped>\n",
       "    .dataframe tbody tr th:only-of-type {\n",
       "        vertical-align: middle;\n",
       "    }\n",
       "\n",
       "    .dataframe tbody tr th {\n",
       "        vertical-align: top;\n",
       "    }\n",
       "\n",
       "    .dataframe thead th {\n",
       "        text-align: right;\n",
       "    }\n",
       "</style>\n",
       "<table border=\"1\" class=\"dataframe\">\n",
       "  <thead>\n",
       "    <tr style=\"text-align: right;\">\n",
       "      <th></th>\n",
       "      <th></th>\n",
       "      <th>SMQ020x</th>\n",
       "    </tr>\n",
       "    <tr>\n",
       "      <th>agegp</th>\n",
       "      <th>RIAGENDRx</th>\n",
       "      <th></th>\n",
       "    </tr>\n",
       "  </thead>\n",
       "  <tbody>\n",
       "    <tr>\n",
       "      <th rowspan=\"2\" valign=\"top\">(18, 30]</th>\n",
       "      <th>Female</th>\n",
       "      <td>0.226601</td>\n",
       "    </tr>\n",
       "    <tr>\n",
       "      <th>Male</th>\n",
       "      <td>0.349265</td>\n",
       "    </tr>\n",
       "    <tr>\n",
       "      <th rowspan=\"2\" valign=\"top\">(30, 40]</th>\n",
       "      <th>Female</th>\n",
       "      <td>0.286920</td>\n",
       "    </tr>\n",
       "    <tr>\n",
       "      <th>Male</th>\n",
       "      <td>0.502183</td>\n",
       "    </tr>\n",
       "    <tr>\n",
       "      <th rowspan=\"2\" valign=\"top\">(40, 50]</th>\n",
       "      <th>Female</th>\n",
       "      <td>0.268924</td>\n",
       "    </tr>\n",
       "    <tr>\n",
       "      <th>Male</th>\n",
       "      <td>0.448878</td>\n",
       "    </tr>\n",
       "    <tr>\n",
       "      <th rowspan=\"2\" valign=\"top\">(50, 60]</th>\n",
       "      <th>Female</th>\n",
       "      <td>0.421277</td>\n",
       "    </tr>\n",
       "    <tr>\n",
       "      <th>Male</th>\n",
       "      <td>0.572687</td>\n",
       "    </tr>\n",
       "    <tr>\n",
       "      <th rowspan=\"2\" valign=\"top\">(60, 70]</th>\n",
       "      <th>Female</th>\n",
       "      <td>0.374150</td>\n",
       "    </tr>\n",
       "    <tr>\n",
       "      <th>Male</th>\n",
       "      <td>0.654462</td>\n",
       "    </tr>\n",
       "    <tr>\n",
       "      <th rowspan=\"2\" valign=\"top\">(70, 80]</th>\n",
       "      <th>Female</th>\n",
       "      <td>0.324390</td>\n",
       "    </tr>\n",
       "    <tr>\n",
       "      <th>Male</th>\n",
       "      <td>0.649254</td>\n",
       "    </tr>\n",
       "  </tbody>\n",
       "</table>\n",
       "</div>"
      ],
      "text/plain": [
       "                     SMQ020x\n",
       "agegp    RIAGENDRx          \n",
       "(18, 30] Female     0.226601\n",
       "         Male       0.349265\n",
       "(30, 40] Female     0.286920\n",
       "         Male       0.502183\n",
       "(40, 50] Female     0.268924\n",
       "         Male       0.448878\n",
       "(50, 60] Female     0.421277\n",
       "         Male       0.572687\n",
       "(60, 70] Female     0.374150\n",
       "         Male       0.654462\n",
       "(70, 80] Female     0.324390\n",
       "         Male       0.649254"
      ]
     },
     "metadata": {},
     "output_type": "display_data"
    },
    {
     "data": {
      "text/html": [
       "<div>\n",
       "<style scoped>\n",
       "    .dataframe tbody tr th:only-of-type {\n",
       "        vertical-align: middle;\n",
       "    }\n",
       "\n",
       "    .dataframe tbody tr th {\n",
       "        vertical-align: top;\n",
       "    }\n",
       "\n",
       "    .dataframe thead th {\n",
       "        text-align: right;\n",
       "    }\n",
       "</style>\n",
       "<table border=\"1\" class=\"dataframe\">\n",
       "  <thead>\n",
       "    <tr style=\"text-align: right;\">\n",
       "      <th></th>\n",
       "      <th>Female</th>\n",
       "      <th>Male</th>\n",
       "    </tr>\n",
       "    <tr>\n",
       "      <th>agegp</th>\n",
       "      <th></th>\n",
       "      <th></th>\n",
       "    </tr>\n",
       "  </thead>\n",
       "  <tbody>\n",
       "    <tr>\n",
       "      <th>(18, 30]</th>\n",
       "      <td>0.226601</td>\n",
       "      <td>0.349265</td>\n",
       "    </tr>\n",
       "    <tr>\n",
       "      <th>(30, 40]</th>\n",
       "      <td>0.286920</td>\n",
       "      <td>0.502183</td>\n",
       "    </tr>\n",
       "    <tr>\n",
       "      <th>(40, 50]</th>\n",
       "      <td>0.268924</td>\n",
       "      <td>0.448878</td>\n",
       "    </tr>\n",
       "    <tr>\n",
       "      <th>(50, 60]</th>\n",
       "      <td>0.421277</td>\n",
       "      <td>0.572687</td>\n",
       "    </tr>\n",
       "    <tr>\n",
       "      <th>(60, 70]</th>\n",
       "      <td>0.374150</td>\n",
       "      <td>0.654462</td>\n",
       "    </tr>\n",
       "    <tr>\n",
       "      <th>(70, 80]</th>\n",
       "      <td>0.324390</td>\n",
       "      <td>0.649254</td>\n",
       "    </tr>\n",
       "  </tbody>\n",
       "</table>\n",
       "</div>"
      ],
      "text/plain": [
       "            Female      Male\n",
       "agegp                       \n",
       "(18, 30]  0.226601  0.349265\n",
       "(30, 40]  0.286920  0.502183\n",
       "(40, 50]  0.268924  0.448878\n",
       "(50, 60]  0.421277  0.572687\n",
       "(60, 70]  0.374150  0.654462\n",
       "(70, 80]  0.324390  0.649254"
      ]
     },
     "metadata": {},
     "output_type": "display_data"
    }
   ],
   "source": [
    "# Calculate the smoking rates within age/gender groups\n",
    "da[\"agegp\"] = pd.cut(da.RIDAGEYR, [18, 30, 40, 50, 60, 70, 80])\n",
    "pr = da.groupby([\"agegp\", \"RIAGENDRx\"]).agg({\"SMQ020x\": lambda x: np.mean(x=='Yes')})\n",
    "display(pr)\n",
    "pr = pr.unstack()\n",
    "pr.columns = [\"Female\", \"Male\"]\n",
    "display(pr)"
   ]
  },
  {
   "cell_type": "code",
   "execution_count": 18,
   "id": "3f919039-bfde-4267-b415-4c1c32384f1b",
   "metadata": {
    "tags": []
   },
   "outputs": [
    {
     "data": {
      "text/html": [
       "<div>\n",
       "<style scoped>\n",
       "    .dataframe tbody tr th:only-of-type {\n",
       "        vertical-align: middle;\n",
       "    }\n",
       "\n",
       "    .dataframe tbody tr th {\n",
       "        vertical-align: top;\n",
       "    }\n",
       "\n",
       "    .dataframe thead th {\n",
       "        text-align: right;\n",
       "    }\n",
       "</style>\n",
       "<table border=\"1\" class=\"dataframe\">\n",
       "  <thead>\n",
       "    <tr style=\"text-align: right;\">\n",
       "      <th></th>\n",
       "      <th></th>\n",
       "      <th>SMQ020x</th>\n",
       "    </tr>\n",
       "    <tr>\n",
       "      <th>agegp</th>\n",
       "      <th>RIAGENDRx</th>\n",
       "      <th></th>\n",
       "    </tr>\n",
       "  </thead>\n",
       "  <tbody>\n",
       "    <tr>\n",
       "      <th rowspan=\"2\" valign=\"top\">(18, 30]</th>\n",
       "      <th>Female</th>\n",
       "      <td>609</td>\n",
       "    </tr>\n",
       "    <tr>\n",
       "      <th>Male</th>\n",
       "      <td>544</td>\n",
       "    </tr>\n",
       "    <tr>\n",
       "      <th rowspan=\"2\" valign=\"top\">(30, 40]</th>\n",
       "      <th>Female</th>\n",
       "      <td>474</td>\n",
       "    </tr>\n",
       "    <tr>\n",
       "      <th>Male</th>\n",
       "      <td>458</td>\n",
       "    </tr>\n",
       "    <tr>\n",
       "      <th rowspan=\"2\" valign=\"top\">(40, 50]</th>\n",
       "      <th>Female</th>\n",
       "      <td>502</td>\n",
       "    </tr>\n",
       "    <tr>\n",
       "      <th>Male</th>\n",
       "      <td>401</td>\n",
       "    </tr>\n",
       "    <tr>\n",
       "      <th rowspan=\"2\" valign=\"top\">(50, 60]</th>\n",
       "      <th>Female</th>\n",
       "      <td>470</td>\n",
       "    </tr>\n",
       "    <tr>\n",
       "      <th>Male</th>\n",
       "      <td>454</td>\n",
       "    </tr>\n",
       "    <tr>\n",
       "      <th rowspan=\"2\" valign=\"top\">(60, 70]</th>\n",
       "      <th>Female</th>\n",
       "      <td>441</td>\n",
       "    </tr>\n",
       "    <tr>\n",
       "      <th>Male</th>\n",
       "      <td>437</td>\n",
       "    </tr>\n",
       "    <tr>\n",
       "      <th rowspan=\"2\" valign=\"top\">(70, 80]</th>\n",
       "      <th>Female</th>\n",
       "      <td>410</td>\n",
       "    </tr>\n",
       "    <tr>\n",
       "      <th>Male</th>\n",
       "      <td>402</td>\n",
       "    </tr>\n",
       "  </tbody>\n",
       "</table>\n",
       "</div>"
      ],
      "text/plain": [
       "                    SMQ020x\n",
       "agegp    RIAGENDRx         \n",
       "(18, 30] Female         609\n",
       "         Male           544\n",
       "(30, 40] Female         474\n",
       "         Male           458\n",
       "(40, 50] Female         502\n",
       "         Male           401\n",
       "(50, 60] Female         470\n",
       "         Male           454\n",
       "(60, 70] Female         441\n",
       "         Male           437\n",
       "(70, 80] Female         410\n",
       "         Male           402"
      ]
     },
     "metadata": {},
     "output_type": "display_data"
    },
    {
     "data": {
      "text/html": [
       "<div>\n",
       "<style scoped>\n",
       "    .dataframe tbody tr th:only-of-type {\n",
       "        vertical-align: middle;\n",
       "    }\n",
       "\n",
       "    .dataframe tbody tr th {\n",
       "        vertical-align: top;\n",
       "    }\n",
       "\n",
       "    .dataframe thead th {\n",
       "        text-align: right;\n",
       "    }\n",
       "</style>\n",
       "<table border=\"1\" class=\"dataframe\">\n",
       "  <thead>\n",
       "    <tr style=\"text-align: right;\">\n",
       "      <th></th>\n",
       "      <th>Female</th>\n",
       "      <th>Male</th>\n",
       "    </tr>\n",
       "    <tr>\n",
       "      <th>agegp</th>\n",
       "      <th></th>\n",
       "      <th></th>\n",
       "    </tr>\n",
       "  </thead>\n",
       "  <tbody>\n",
       "    <tr>\n",
       "      <th>(18, 30]</th>\n",
       "      <td>609</td>\n",
       "      <td>544</td>\n",
       "    </tr>\n",
       "    <tr>\n",
       "      <th>(30, 40]</th>\n",
       "      <td>474</td>\n",
       "      <td>458</td>\n",
       "    </tr>\n",
       "    <tr>\n",
       "      <th>(40, 50]</th>\n",
       "      <td>502</td>\n",
       "      <td>401</td>\n",
       "    </tr>\n",
       "    <tr>\n",
       "      <th>(50, 60]</th>\n",
       "      <td>470</td>\n",
       "      <td>454</td>\n",
       "    </tr>\n",
       "    <tr>\n",
       "      <th>(60, 70]</th>\n",
       "      <td>441</td>\n",
       "      <td>437</td>\n",
       "    </tr>\n",
       "    <tr>\n",
       "      <th>(70, 80]</th>\n",
       "      <td>410</td>\n",
       "      <td>402</td>\n",
       "    </tr>\n",
       "  </tbody>\n",
       "</table>\n",
       "</div>"
      ],
      "text/plain": [
       "          Female  Male\n",
       "agegp                 \n",
       "(18, 30]     609   544\n",
       "(30, 40]     474   458\n",
       "(40, 50]     502   401\n",
       "(50, 60]     470   454\n",
       "(60, 70]     441   437\n",
       "(70, 80]     410   402"
      ]
     },
     "metadata": {},
     "output_type": "display_data"
    }
   ],
   "source": [
    "# The number of people for each calculated proportion\n",
    "dn = da.groupby([\"agegp\", \"RIAGENDRx\"]).agg({\"SMQ020x\": np.size})\n",
    "display(dn)\n",
    "dn = dn.unstack()\n",
    "dn.columns = [\"Female\", \"Male\"]\n",
    "display(dn)"
   ]
  },
  {
   "cell_type": "code",
   "execution_count": 19,
   "id": "32e32a21-4dc5-4e35-b39b-34d7b5a036fc",
   "metadata": {
    "tags": []
   },
   "outputs": [
    {
     "data": {
      "text/html": [
       "<div>\n",
       "<style scoped>\n",
       "    .dataframe tbody tr th:only-of-type {\n",
       "        vertical-align: middle;\n",
       "    }\n",
       "\n",
       "    .dataframe tbody tr th {\n",
       "        vertical-align: top;\n",
       "    }\n",
       "\n",
       "    .dataframe thead th {\n",
       "        text-align: right;\n",
       "    }\n",
       "</style>\n",
       "<table border=\"1\" class=\"dataframe\">\n",
       "  <thead>\n",
       "    <tr style=\"text-align: right;\">\n",
       "      <th></th>\n",
       "      <th>Female</th>\n",
       "      <th>Male</th>\n",
       "    </tr>\n",
       "    <tr>\n",
       "      <th>agegp</th>\n",
       "      <th></th>\n",
       "      <th></th>\n",
       "    </tr>\n",
       "  </thead>\n",
       "  <tbody>\n",
       "    <tr>\n",
       "      <th>(18, 30]</th>\n",
       "      <td>0.016964</td>\n",
       "      <td>0.020440</td>\n",
       "    </tr>\n",
       "    <tr>\n",
       "      <th>(30, 40]</th>\n",
       "      <td>0.020776</td>\n",
       "      <td>0.023363</td>\n",
       "    </tr>\n",
       "    <tr>\n",
       "      <th>(40, 50]</th>\n",
       "      <td>0.019790</td>\n",
       "      <td>0.024838</td>\n",
       "    </tr>\n",
       "    <tr>\n",
       "      <th>(50, 60]</th>\n",
       "      <td>0.022776</td>\n",
       "      <td>0.023217</td>\n",
       "    </tr>\n",
       "    <tr>\n",
       "      <th>(60, 70]</th>\n",
       "      <td>0.023043</td>\n",
       "      <td>0.022748</td>\n",
       "    </tr>\n",
       "    <tr>\n",
       "      <th>(70, 80]</th>\n",
       "      <td>0.023120</td>\n",
       "      <td>0.023801</td>\n",
       "    </tr>\n",
       "  </tbody>\n",
       "</table>\n",
       "</div>"
      ],
      "text/plain": [
       "            Female      Male\n",
       "agegp                       \n",
       "(18, 30]  0.016964  0.020440\n",
       "(30, 40]  0.020776  0.023363\n",
       "(40, 50]  0.019790  0.024838\n",
       "(50, 60]  0.022776  0.023217\n",
       "(60, 70]  0.023043  0.022748\n",
       "(70, 80]  0.023120  0.023801"
      ]
     },
     "execution_count": 19,
     "metadata": {},
     "output_type": "execute_result"
    }
   ],
   "source": [
    "# Standard Errors for each proportion\n",
    "se = np.sqrt(pr * (1 - pr) / dn)\n",
    "se"
   ]
  },
  {
   "cell_type": "code",
   "execution_count": 20,
   "id": "183f1e7b-13fd-49ea-ac65-6c1d809865cf",
   "metadata": {
    "tags": []
   },
   "outputs": [
    {
     "data": {
      "text/plain": [
       "agegp\n",
       "(18, 30]    0.026562\n",
       "(30, 40]    0.031265\n",
       "(40, 50]    0.031758\n",
       "(50, 60]    0.032523\n",
       "(60, 70]    0.032380\n",
       "(70, 80]    0.033182\n",
       "dtype: float64"
      ]
     },
     "execution_count": 20,
     "metadata": {},
     "output_type": "execute_result"
    }
   ],
   "source": [
    "# Standard Errors for both male/female in each age band\n",
    "se_diff = np.sqrt(se.Female**2 + se.Male**2)\n",
    "se_diff"
   ]
  },
  {
   "cell_type": "code",
   "execution_count": 21,
   "id": "be3cc2e2-19e8-4eba-a05e-073f9e8b8c3d",
   "metadata": {
    "tags": []
   },
   "outputs": [
    {
     "data": {
      "text/plain": [
       "agegp\n",
       "(18, 30]   -0.122664\n",
       "(30, 40]   -0.215264\n",
       "(40, 50]   -0.179954\n",
       "(50, 60]   -0.151411\n",
       "(60, 70]   -0.280313\n",
       "(70, 80]   -0.324863\n",
       "dtype: float64"
      ]
     },
     "execution_count": 21,
     "metadata": {},
     "output_type": "execute_result"
    }
   ],
   "source": [
    "# The difference in smoking rates between genders (Point estimates)\n",
    "pq = pr.Female - pr.Male\n",
    "pq"
   ]
  },
  {
   "cell_type": "code",
   "execution_count": 22,
   "id": "583a536e-f2f5-472f-8f1b-d561285d430f",
   "metadata": {
    "tags": []
   },
   "outputs": [
    {
     "data": {
      "text/plain": [
       "(6,\n",
       " array([-0.12266372, -0.21526357, -0.1799535 , -0.15141063, -0.28031258,\n",
       "        -0.32486349]))"
      ]
     },
     "execution_count": 22,
     "metadata": {},
     "output_type": "execute_result"
    }
   ],
   "source": [
    "pq.size, pq.values"
   ]
  },
  {
   "cell_type": "code",
   "execution_count": 23,
   "id": "e12c49aa-b9bd-4e33-8aaf-5c4ef3de45e6",
   "metadata": {
    "tags": []
   },
   "outputs": [
    {
     "data": {
      "text/plain": [
       "array([0, 1, 2, 3, 4, 5])"
      ]
     },
     "execution_count": 23,
     "metadata": {},
     "output_type": "execute_result"
    }
   ],
   "source": [
    "x = np.arange(pq.size)\n",
    "x"
   ]
  },
  {
   "cell_type": "code",
   "execution_count": 24,
   "id": "e9a7220d-4291-4cdb-bc35-a433d8798579",
   "metadata": {
    "tags": []
   },
   "outputs": [
    {
     "data": {
      "text/plain": [
       "Text(0, 0.5, 'Female - male smoking proportion')"
      ]
     },
     "execution_count": 24,
     "metadata": {},
     "output_type": "execute_result"
    },
    {
     "data": {
      "image/png": "[encoded data removed]",
      "text/plain": [
       "<Figure size 640x480 with 1 Axes>"
      ]
     },
     "metadata": {},
     "output_type": "display_data"
    }
   ],
   "source": [
    "pp = sns.pointplot(x=x, y=pq.values, color='black')\n",
    "sns.pointplot(x=x, y=pq - 2 * se_diff)\n",
    "sns.pointplot(x=x, y=pq + 2 * se_diff)\n",
    "pp.set_xticklabels(pq.index)\n",
    "pp.set_xlabel(\"Age group\")\n",
    "pp.set_ylabel(\"Female - male smoking proportion\")"
   ]
  },
  {
   "cell_type": "markdown",
   "id": "373be87b-2099-45c0-b1f7-49e0a653caee",
   "metadata": {},
   "source": [
    "The plot above shows for each age band, the point estimate of the difference in smoking rates between genders (black dot), and the lower and upper end points of the 95% confidence interval (blue points).  Based on this plot, we see that in the United States, smoking is more common in men than in women, not just overall, but also in every one of the age bands.  The difference is largest for older people -- for people older than 60, the smoking rate for males is around 30 percentage points greater than the smoking rate for females, while for people younger than 30, the smoking rate for males is only around 15 percentage points greater than the smoking rate for females.\n",
    "\n",
    "Also note that the 95% confidence bands shown above are much wider than the 95% confidence intervals for the data that were not stratified by age.  Stratifying by age leads to smaller sample sizes, which in turn results in wider confidence intervals."
   ]
  },
  {
   "cell_type": "markdown",
   "id": "4f9b4e6f-60b4-46ec-9fe5-b46c8643069c",
   "metadata": {
    "tags": []
   },
   "source": [
    "## Confidence intervals for the mean\n",
    "\n",
    "In this section, we discuss how to construct confidence intervals for the mean.  First note that the proportion discussed above is also a mean -- for example, if the data are 0, 1, 0, then the mean is 1/3, which is also the proportion of 1's in the data.  However the proportion has the special property that the variance is completely determined by the mean. That is why we constructed the standard errors for the sample proportion above using p•(1 - p) as the variance.  In general, the variance of quantitative data will not be a function of the mean, as this is a very special property of binary data.  Therefore, in general we must estimate the variance as a separate step after estimating the mean. \n",
    "\n",
    "To illustrate the construction of confidence intervals for the population mean of a quantitative variable, we will use the body mass inde (BMI) data from NHANES.  To begin, we calculate the mean BMI for all women and for all men in the NHANES sample."
   ]
  },
  {
   "cell_type": "code",
   "execution_count": 25,
   "id": "a1b36905-f646-4975-a742-c1759ecd3b15",
   "metadata": {
    "tags": []
   },
   "outputs": [
    {
     "data": {
      "text/html": [
       "<div>\n",
       "<style scoped>\n",
       "    .dataframe tbody tr th:only-of-type {\n",
       "        vertical-align: middle;\n",
       "    }\n",
       "\n",
       "    .dataframe tbody tr th {\n",
       "        vertical-align: top;\n",
       "    }\n",
       "\n",
       "    .dataframe thead th {\n",
       "        text-align: right;\n",
       "    }\n",
       "</style>\n",
       "<table border=\"1\" class=\"dataframe\">\n",
       "  <thead>\n",
       "    <tr style=\"text-align: right;\">\n",
       "      <th></th>\n",
       "      <th>BMXBMI</th>\n",
       "    </tr>\n",
       "    <tr>\n",
       "      <th>RIAGENDRx</th>\n",
       "      <th></th>\n",
       "    </tr>\n",
       "  </thead>\n",
       "  <tbody>\n",
       "    <tr>\n",
       "      <th>Female</th>\n",
       "      <td>29.939946</td>\n",
       "    </tr>\n",
       "    <tr>\n",
       "      <th>Male</th>\n",
       "      <td>28.778072</td>\n",
       "    </tr>\n",
       "  </tbody>\n",
       "</table>\n",
       "</div>"
      ],
      "text/plain": [
       "              BMXBMI\n",
       "RIAGENDRx           \n",
       "Female     29.939946\n",
       "Male       28.778072"
      ]
     },
     "execution_count": 25,
     "metadata": {},
     "output_type": "execute_result"
    }
   ],
   "source": [
    "da.groupby(\"RIAGENDRx\").agg({\"BMXBMI\":np.mean})"
   ]
  },
  {
   "cell_type": "markdown",
   "id": "02eac0e9-6f10-4ef5-9f63-535a40df60c7",
   "metadata": {},
   "source": [
    "The numbers in the first column of the table above are estimates of the population mean BMI for all women and for all men in the United States (the population that the NHANES study represents). As with the sample proportions, these numbers are not exactly equal to the mean BMI for all women and men, they are only estimates.  To establish the uncertainty for these estimates, we can use the standard errors for these two estimated means.\n",
    "\n",
    "The standard error for the mean based on an independent and identically distributed sample is equal to the standard deviation of the variable divided by the square root of the sample size.  We next calculate all the relevant values needed to compute the standard error. "
   ]
  },
  {
   "cell_type": "code",
   "execution_count": 26,
   "id": "af6e1724-1e4e-4345-9053-3543a2fade8c",
   "metadata": {
    "tags": []
   },
   "outputs": [
    {
     "data": {
      "text/html": [
       "<div>\n",
       "<style scoped>\n",
       "    .dataframe tbody tr th:only-of-type {\n",
       "        vertical-align: middle;\n",
       "    }\n",
       "\n",
       "    .dataframe tbody tr th {\n",
       "        vertical-align: top;\n",
       "    }\n",
       "\n",
       "    .dataframe thead tr th {\n",
       "        text-align: left;\n",
       "    }\n",
       "\n",
       "    .dataframe thead tr:last-of-type th {\n",
       "        text-align: right;\n",
       "    }\n",
       "</style>\n",
       "<table border=\"1\" class=\"dataframe\">\n",
       "  <thead>\n",
       "    <tr>\n",
       "      <th></th>\n",
       "      <th colspan=\"3\" halign=\"left\">BMXBMI</th>\n",
       "    </tr>\n",
       "    <tr>\n",
       "      <th></th>\n",
       "      <th>mean</th>\n",
       "      <th>std</th>\n",
       "      <th>size</th>\n",
       "    </tr>\n",
       "    <tr>\n",
       "      <th>RIAGENDRx</th>\n",
       "      <th></th>\n",
       "      <th></th>\n",
       "      <th></th>\n",
       "    </tr>\n",
       "  </thead>\n",
       "  <tbody>\n",
       "    <tr>\n",
       "      <th>Female</th>\n",
       "      <td>29.939946</td>\n",
       "      <td>7.753319</td>\n",
       "      <td>2976</td>\n",
       "    </tr>\n",
       "    <tr>\n",
       "      <th>Male</th>\n",
       "      <td>28.778072</td>\n",
       "      <td>6.252568</td>\n",
       "      <td>2759</td>\n",
       "    </tr>\n",
       "  </tbody>\n",
       "</table>\n",
       "</div>"
      ],
      "text/plain": [
       "              BMXBMI                \n",
       "                mean       std  size\n",
       "RIAGENDRx                           \n",
       "Female     29.939946  7.753319  2976\n",
       "Male       28.778072  6.252568  2759"
      ]
     },
     "execution_count": 26,
     "metadata": {},
     "output_type": "execute_result"
    }
   ],
   "source": [
    "da.groupby(\"RIAGENDRx\").agg({\"BMXBMI\": [np.mean, np.std, np.size]})"
   ]
  },
  {
   "cell_type": "code",
   "execution_count": 27,
   "id": "8a284188-5247-4de7-a29d-bb952d9cd4a1",
   "metadata": {
    "tags": []
   },
   "outputs": [
    {
     "name": "stdout",
     "output_type": "stream",
     "text": [
      "Standard Error (Female):0.14211938534506902, Standard Error (Male): 0.119045388988243\n"
     ]
    }
   ],
   "source": [
    "sem_female = 7.753 / np.sqrt(2976)       # Standard error of the mean (female)\n",
    "sem_male = 6.253 / np.sqrt(2759)        # Standard error of the mean (male)\n",
    "print(f\"Standard Error (Female):{sem_female}, Standard Error (Male): {sem_male}\")"
   ]
  },
  {
   "cell_type": "markdown",
   "id": "5272d1f7-b7f8-4089-b93b-15dd3680fa5f",
   "metadata": {},
   "source": [
    "We see that the sample mean BMI for women is expected to be off by around 0.14 relative to the population mean BMI for women, and the sample mean BMI for men is expected to be off by around 0.12 relative to the population mean BMI for men.\n",
    "\n",
    "The standard error of the mean for women is slightly larger for women than for men.  The reason for this is that even though the NHANES sample size for women is slightly larger than that for men, the data for women appears to be more spread out.  The greater standard deviation for the female BMI values leads in turn to less precision when estimating the population mean BMI for females. \n",
    "\n",
    "As was the case for proportions, the 95% confidence interval for the mean can be calculated by taking the estimate plus and minus 2 (or 1.96) times the standard error.  The 95% confidence interval for female BMI is thus calculated as follows:"
   ]
  },
  {
   "cell_type": "code",
   "execution_count": 28,
   "id": "ad7e7b20-9188-481c-8337-093b3b2776cb",
   "metadata": {
    "tags": []
   },
   "outputs": [
    {
     "name": "stdout",
     "output_type": "stream",
     "text": [
      "LCB = 29.661446004723665, UCB = 30.218553995276338\n"
     ]
    }
   ],
   "source": [
    "lcb_female = 29.94 - 1.96 * 7.753 / np.sqrt(2976)\n",
    "ucb_female = 29.94 + 1.96 * 7.753 / np.sqrt(2976)\n",
    "print(f\"LCB = {lcb_female}, UCB = {ucb_female}\")"
   ]
  },
  {
   "cell_type": "markdown",
   "id": "04006260-2b02-4599-aae1-1a2a88d79e03",
   "metadata": {},
   "source": [
    "Below we show how the one-sample confidence interval can be calculated using Statsmodels. The numbers differ slightly due to rounding in the calculation above. The result below is more exact."
   ]
  },
  {
   "cell_type": "code",
   "execution_count": 29,
   "id": "91a2639a-1cd3-4ca9-87df-89732ab3df76",
   "metadata": {
    "tags": []
   },
   "outputs": [
    {
     "data": {
      "text/plain": [
       "(29.659875498090155, 30.22001580625768)"
      ]
     },
     "execution_count": 29,
     "metadata": {},
     "output_type": "execute_result"
    }
   ],
   "source": [
    "female_bmi = da.loc[da.RIAGENDRx==\"Female\", \"BMXBMI\"].dropna()\n",
    "sm.stats.DescrStatsW(data=female_bmi).zconfint_mean()\n",
    "# sm.stats.DescrStatsW --> descriptive statistics and test with weights\n",
    "# sm.stats.DescrStatsW().zconfint_mean() --> CI for weighted mean of data"
   ]
  },
  {
   "cell_type": "markdown",
   "id": "9ec8c501-5fad-4aae-85af-775e2e3d1050",
   "metadata": {},
   "source": [
    "### Confidence intervals for the difference between two means\n",
    "\n",
    "Now we turn to studying the difference between two means, taking the difference between mean female and male BMI for illustration.  As discussed above, the standard error for the difference of two means taken from independent samples is sqrt(SE1^2 + SE2^2), where SE1 and SE2 are the standard errors for the two means being compared.  Below we see that this gives us a value around 0.19 when comparing the female BMI to the male BMI.  This is substantially larger than either the SEM for estimating the female mean (0.14) or the SEM for estimating the male mean (0.12).  It is expected that the standard error for the difference between two means is greater than the standard errors for estimating a single mean, since the uncertainty of both gender-specific proportions impacts the statistic."
   ]
  },
  {
   "cell_type": "code",
   "execution_count": 30,
   "id": "ca7117c0-3be5-4e8f-8cdc-771f993ab357",
   "metadata": {
    "tags": []
   },
   "outputs": [
    {
     "data": {
      "text/plain": [
       "0.18539073420811059"
      ]
     },
     "execution_count": 30,
     "metadata": {},
     "output_type": "execute_result"
    }
   ],
   "source": [
    "sem_diff = np.sqrt(sem_female**2 + sem_male**2)\n",
    "sem_diff"
   ]
  },
  {
   "cell_type": "code",
   "execution_count": 31,
   "id": "e97119b1-d90d-449d-b0de-5e6400a54f55",
   "metadata": {
    "tags": []
   },
   "outputs": [
    {
     "name": "stdout",
     "output_type": "stream",
     "text": [
      "LCB = 29.661446004723665, UCB = 30.218553995276338\n"
     ]
    }
   ],
   "source": [
    "bmi_diff = 29.94 - 28.78     # mean values of BMXBMI for female/male --> result: 1.16\n",
    "lcb = bmi_diff - 2 * sem_diff\n",
    "ucb = bmi_diff + 2 * sem_diff\n",
    "print(f\"LCB = {lcb_female}, UCB = {ucb_female}\")"
   ]
  },
  {
   "cell_type": "markdown",
   "id": "b7aec54e-3ee0-4899-b325-8d00e1c493a3",
   "metadata": {},
   "source": [
    "This finding indicates that while the point estimate shows that the women in our sample have around 1.1 unit greater BMI than the men in our sample, the true difference between the mean for all women in the population and for all men in the population could fall between 0.79 and 1.53, and still be consistent with the observed data."
   ]
  },
  {
   "cell_type": "markdown",
   "id": "07df0cca-63a0-4bfd-adb3-83d9e8d56618",
   "metadata": {},
   "source": [
    "**Age-stratified confidence intervals** As a final example, we refine the analysis above by considering the difference of mean BMI values between females and males within age bands.  We see below that the overall average difference of 1.1 units results from differences that are very different based on age.  Specifically, the difference between female and male BMI is much smaller than 1.1 for younger people, and much larger than 1.1 for older people.  \n",
    "\n",
    "Since the confidence bands for people under 40 contain 0, the data are consistent with there being no difference between female and male BMI in this age range.  For people older than 40, a hypothetical zero difference between the mean BMI values for females and males is not very consistent with the data.  Informally, we can say that the data strongly suggest that the female mean BMI is greater than the male mean BMI in this age band, with the difference being anywhere from 0.5 to 2 units."
   ]
  },
  {
   "cell_type": "code",
   "execution_count": 32,
   "id": "aff229bd-75c8-4bbe-8c5f-07b818706da2",
   "metadata": {
    "tags": []
   },
   "outputs": [
    {
     "data": {
      "text/html": [
       "<div>\n",
       "<style scoped>\n",
       "    .dataframe tbody tr th:only-of-type {\n",
       "        vertical-align: middle;\n",
       "    }\n",
       "\n",
       "    .dataframe tbody tr th {\n",
       "        vertical-align: top;\n",
       "    }\n",
       "\n",
       "    .dataframe thead tr th {\n",
       "        text-align: left;\n",
       "    }\n",
       "\n",
       "    .dataframe thead tr:last-of-type th {\n",
       "        text-align: right;\n",
       "    }\n",
       "</style>\n",
       "<table border=\"1\" class=\"dataframe\">\n",
       "  <thead>\n",
       "    <tr>\n",
       "      <th></th>\n",
       "      <th colspan=\"6\" halign=\"left\">BMXBMI</th>\n",
       "    </tr>\n",
       "    <tr>\n",
       "      <th></th>\n",
       "      <th colspan=\"2\" halign=\"left\">mean</th>\n",
       "      <th colspan=\"2\" halign=\"left\">std</th>\n",
       "      <th colspan=\"2\" halign=\"left\">size</th>\n",
       "    </tr>\n",
       "    <tr>\n",
       "      <th>RIAGENDRx</th>\n",
       "      <th>Female</th>\n",
       "      <th>Male</th>\n",
       "      <th>Female</th>\n",
       "      <th>Male</th>\n",
       "      <th>Female</th>\n",
       "      <th>Male</th>\n",
       "    </tr>\n",
       "    <tr>\n",
       "      <th>agegrp</th>\n",
       "      <th></th>\n",
       "      <th></th>\n",
       "      <th></th>\n",
       "      <th></th>\n",
       "      <th></th>\n",
       "      <th></th>\n",
       "    </tr>\n",
       "  </thead>\n",
       "  <tbody>\n",
       "    <tr>\n",
       "      <th>(18, 30]</th>\n",
       "      <td>28.123881</td>\n",
       "      <td>27.391822</td>\n",
       "      <td>7.745893</td>\n",
       "      <td>6.649440</td>\n",
       "      <td>609</td>\n",
       "      <td>544</td>\n",
       "    </tr>\n",
       "    <tr>\n",
       "      <th>(30, 40]</th>\n",
       "      <td>30.325586</td>\n",
       "      <td>29.611726</td>\n",
       "      <td>8.315608</td>\n",
       "      <td>6.622412</td>\n",
       "      <td>474</td>\n",
       "      <td>458</td>\n",
       "    </tr>\n",
       "    <tr>\n",
       "      <th>(40, 50]</th>\n",
       "      <td>31.160643</td>\n",
       "      <td>29.724623</td>\n",
       "      <td>8.076195</td>\n",
       "      <td>6.407076</td>\n",
       "      <td>502</td>\n",
       "      <td>401</td>\n",
       "    </tr>\n",
       "    <tr>\n",
       "      <th>(50, 60]</th>\n",
       "      <td>30.743777</td>\n",
       "      <td>29.231486</td>\n",
       "      <td>7.575848</td>\n",
       "      <td>5.914373</td>\n",
       "      <td>470</td>\n",
       "      <td>454</td>\n",
       "    </tr>\n",
       "    <tr>\n",
       "      <th>(60, 70]</th>\n",
       "      <td>31.074828</td>\n",
       "      <td>29.392488</td>\n",
       "      <td>7.604514</td>\n",
       "      <td>5.933307</td>\n",
       "      <td>441</td>\n",
       "      <td>437</td>\n",
       "    </tr>\n",
       "    <tr>\n",
       "      <th>(70, 80]</th>\n",
       "      <td>29.138213</td>\n",
       "      <td>27.957692</td>\n",
       "      <td>6.284968</td>\n",
       "      <td>4.974855</td>\n",
       "      <td>410</td>\n",
       "      <td>402</td>\n",
       "    </tr>\n",
       "  </tbody>\n",
       "</table>\n",
       "</div>"
      ],
      "text/plain": [
       "              BMXBMI                                           \n",
       "                mean                  std             size     \n",
       "RIAGENDRx     Female       Male    Female      Male Female Male\n",
       "agegrp                                                         \n",
       "(18, 30]   28.123881  27.391822  7.745893  6.649440    609  544\n",
       "(30, 40]   30.325586  29.611726  8.315608  6.622412    474  458\n",
       "(40, 50]   31.160643  29.724623  8.076195  6.407076    502  401\n",
       "(50, 60]   30.743777  29.231486  7.575848  5.914373    470  454\n",
       "(60, 70]   31.074828  29.392488  7.604514  5.933307    441  437\n",
       "(70, 80]   29.138213  27.957692  6.284968  4.974855    410  402"
      ]
     },
     "execution_count": 32,
     "metadata": {},
     "output_type": "execute_result"
    }
   ],
   "source": [
    "# Calculate the mean, SD, and sample size for BMI within age/gender groups\n",
    "da[\"agegrp\"] = pd.cut(da.RIDAGEYR, [18, 30, 40, 50, 60, 70, 80])\n",
    "pr = da.groupby([\"agegrp\", \"RIAGENDRx\"]).agg({\"BMXBMI\": [np.mean, np.std, np.size]}).unstack()\n",
    "pr"
   ]
  },
  {
   "cell_type": "code",
   "execution_count": 33,
   "id": "3d2fb6e1-96cb-491e-a468-e545d190f7e1",
   "metadata": {
    "tags": []
   },
   "outputs": [
    {
     "data": {
      "text/plain": [
       "agegrp\n",
       "(18, 30]    28.123881\n",
       "(30, 40]    30.325586\n",
       "(40, 50]    31.160643\n",
       "(50, 60]    30.743777\n",
       "(60, 70]    31.074828\n",
       "(70, 80]    29.138213\n",
       "Name: (BMXBMI, mean, Female), dtype: float64"
      ]
     },
     "execution_count": 33,
     "metadata": {},
     "output_type": "execute_result"
    }
   ],
   "source": [
    "pr[\"BMXBMI\", \"mean\", \"Female\"]"
   ]
  },
  {
   "cell_type": "code",
   "execution_count": 34,
   "id": "541072d1-3d65-4f0b-ac37-00f48357f5a4",
   "metadata": {
    "tags": []
   },
   "outputs": [
    {
     "data": {
      "text/html": [
       "<div>\n",
       "<style scoped>\n",
       "    .dataframe tbody tr th:only-of-type {\n",
       "        vertical-align: middle;\n",
       "    }\n",
       "\n",
       "    .dataframe tbody tr th {\n",
       "        vertical-align: top;\n",
       "    }\n",
       "\n",
       "    .dataframe thead tr th {\n",
       "        text-align: left;\n",
       "    }\n",
       "\n",
       "    .dataframe thead tr:last-of-type th {\n",
       "        text-align: right;\n",
       "    }\n",
       "</style>\n",
       "<table border=\"1\" class=\"dataframe\">\n",
       "  <thead>\n",
       "    <tr>\n",
       "      <th></th>\n",
       "      <th colspan=\"8\" halign=\"left\">BMXBMI</th>\n",
       "    </tr>\n",
       "    <tr>\n",
       "      <th></th>\n",
       "      <th colspan=\"2\" halign=\"left\">mean</th>\n",
       "      <th colspan=\"2\" halign=\"left\">std</th>\n",
       "      <th colspan=\"2\" halign=\"left\">size</th>\n",
       "      <th colspan=\"2\" halign=\"left\">sem</th>\n",
       "    </tr>\n",
       "    <tr>\n",
       "      <th>RIAGENDRx</th>\n",
       "      <th>Female</th>\n",
       "      <th>Male</th>\n",
       "      <th>Female</th>\n",
       "      <th>Male</th>\n",
       "      <th>Female</th>\n",
       "      <th>Male</th>\n",
       "      <th>Female</th>\n",
       "      <th>Male</th>\n",
       "    </tr>\n",
       "    <tr>\n",
       "      <th>agegrp</th>\n",
       "      <th></th>\n",
       "      <th></th>\n",
       "      <th></th>\n",
       "      <th></th>\n",
       "      <th></th>\n",
       "      <th></th>\n",
       "      <th></th>\n",
       "      <th></th>\n",
       "    </tr>\n",
       "  </thead>\n",
       "  <tbody>\n",
       "    <tr>\n",
       "      <th>(18, 30]</th>\n",
       "      <td>28.123881</td>\n",
       "      <td>27.391822</td>\n",
       "      <td>7.745893</td>\n",
       "      <td>6.649440</td>\n",
       "      <td>609</td>\n",
       "      <td>544</td>\n",
       "      <td>0.313879</td>\n",
       "      <td>0.285092</td>\n",
       "    </tr>\n",
       "    <tr>\n",
       "      <th>(30, 40]</th>\n",
       "      <td>30.325586</td>\n",
       "      <td>29.611726</td>\n",
       "      <td>8.315608</td>\n",
       "      <td>6.622412</td>\n",
       "      <td>474</td>\n",
       "      <td>458</td>\n",
       "      <td>0.381949</td>\n",
       "      <td>0.309445</td>\n",
       "    </tr>\n",
       "    <tr>\n",
       "      <th>(40, 50]</th>\n",
       "      <td>31.160643</td>\n",
       "      <td>29.724623</td>\n",
       "      <td>8.076195</td>\n",
       "      <td>6.407076</td>\n",
       "      <td>502</td>\n",
       "      <td>401</td>\n",
       "      <td>0.360458</td>\n",
       "      <td>0.319954</td>\n",
       "    </tr>\n",
       "    <tr>\n",
       "      <th>(50, 60]</th>\n",
       "      <td>30.743777</td>\n",
       "      <td>29.231486</td>\n",
       "      <td>7.575848</td>\n",
       "      <td>5.914373</td>\n",
       "      <td>470</td>\n",
       "      <td>454</td>\n",
       "      <td>0.349448</td>\n",
       "      <td>0.277575</td>\n",
       "    </tr>\n",
       "    <tr>\n",
       "      <th>(60, 70]</th>\n",
       "      <td>31.074828</td>\n",
       "      <td>29.392488</td>\n",
       "      <td>7.604514</td>\n",
       "      <td>5.933307</td>\n",
       "      <td>441</td>\n",
       "      <td>437</td>\n",
       "      <td>0.362120</td>\n",
       "      <td>0.283829</td>\n",
       "    </tr>\n",
       "    <tr>\n",
       "      <th>(70, 80]</th>\n",
       "      <td>29.138213</td>\n",
       "      <td>27.957692</td>\n",
       "      <td>6.284968</td>\n",
       "      <td>4.974855</td>\n",
       "      <td>410</td>\n",
       "      <td>402</td>\n",
       "      <td>0.310392</td>\n",
       "      <td>0.248123</td>\n",
       "    </tr>\n",
       "  </tbody>\n",
       "</table>\n",
       "</div>"
      ],
      "text/plain": [
       "              BMXBMI                                                       \\\n",
       "                mean                  std             size            sem   \n",
       "RIAGENDRx     Female       Male    Female      Male Female Male    Female   \n",
       "agegrp                                                                      \n",
       "(18, 30]   28.123881  27.391822  7.745893  6.649440    609  544  0.313879   \n",
       "(30, 40]   30.325586  29.611726  8.315608  6.622412    474  458  0.381949   \n",
       "(40, 50]   31.160643  29.724623  8.076195  6.407076    502  401  0.360458   \n",
       "(50, 60]   30.743777  29.231486  7.575848  5.914373    470  454  0.349448   \n",
       "(60, 70]   31.074828  29.392488  7.604514  5.933307    441  437  0.362120   \n",
       "(70, 80]   29.138213  27.957692  6.284968  4.974855    410  402  0.310392   \n",
       "\n",
       "                     \n",
       "                     \n",
       "RIAGENDRx      Male  \n",
       "agegrp               \n",
       "(18, 30]   0.285092  \n",
       "(30, 40]   0.309445  \n",
       "(40, 50]   0.319954  \n",
       "(50, 60]   0.277575  \n",
       "(60, 70]   0.283829  \n",
       "(70, 80]   0.248123  "
      ]
     },
     "execution_count": 34,
     "metadata": {},
     "output_type": "execute_result"
    }
   ],
   "source": [
    "# Calculate the SEM for females and for males within each age band\n",
    "pr[\"BMXBMI\", \"sem\", \"Female\"] = pr[\"BMXBMI\", \"std\", \"Female\"] / np.sqrt(pr[\"BMXBMI\", \"size\", \"Female\"]) # BMXBMI > sem > Female\n",
    "pr[\"BMXBMI\", \"sem\", \"Male\"] = pr[\"BMXBMI\", \"std\", \"Male\"] / np.sqrt(pr[\"BMXBMI\", \"size\", \"Male\"])       # BMXBMI > sem > Male\n",
    "pr"
   ]
  },
  {
   "cell_type": "code",
   "execution_count": 35,
   "id": "4112eb70-3cb0-4069-bba7-65b013c13f68",
   "metadata": {
    "tags": []
   },
   "outputs": [
    {
     "data": {
      "text/html": [
       "<div>\n",
       "<style scoped>\n",
       "    .dataframe tbody tr th:only-of-type {\n",
       "        vertical-align: middle;\n",
       "    }\n",
       "\n",
       "    .dataframe tbody tr th {\n",
       "        vertical-align: top;\n",
       "    }\n",
       "\n",
       "    .dataframe thead tr th {\n",
       "        text-align: left;\n",
       "    }\n",
       "\n",
       "    .dataframe thead tr:last-of-type th {\n",
       "        text-align: right;\n",
       "    }\n",
       "</style>\n",
       "<table border=\"1\" class=\"dataframe\">\n",
       "  <thead>\n",
       "    <tr>\n",
       "      <th></th>\n",
       "      <th colspan=\"12\" halign=\"left\">BMXBMI</th>\n",
       "    </tr>\n",
       "    <tr>\n",
       "      <th></th>\n",
       "      <th colspan=\"2\" halign=\"left\">mean</th>\n",
       "      <th colspan=\"2\" halign=\"left\">std</th>\n",
       "      <th colspan=\"2\" halign=\"left\">size</th>\n",
       "      <th colspan=\"2\" halign=\"left\">sem</th>\n",
       "      <th>mean_diff</th>\n",
       "      <th>sem_diff</th>\n",
       "      <th>lcb_diff</th>\n",
       "      <th>ucb_diff</th>\n",
       "    </tr>\n",
       "    <tr>\n",
       "      <th>RIAGENDRx</th>\n",
       "      <th>Female</th>\n",
       "      <th>Male</th>\n",
       "      <th>Female</th>\n",
       "      <th>Male</th>\n",
       "      <th>Female</th>\n",
       "      <th>Male</th>\n",
       "      <th>Female</th>\n",
       "      <th>Male</th>\n",
       "      <th></th>\n",
       "      <th></th>\n",
       "      <th></th>\n",
       "      <th></th>\n",
       "    </tr>\n",
       "    <tr>\n",
       "      <th>agegrp</th>\n",
       "      <th></th>\n",
       "      <th></th>\n",
       "      <th></th>\n",
       "      <th></th>\n",
       "      <th></th>\n",
       "      <th></th>\n",
       "      <th></th>\n",
       "      <th></th>\n",
       "      <th></th>\n",
       "      <th></th>\n",
       "      <th></th>\n",
       "      <th></th>\n",
       "    </tr>\n",
       "  </thead>\n",
       "  <tbody>\n",
       "    <tr>\n",
       "      <th>(18, 30]</th>\n",
       "      <td>28.123881</td>\n",
       "      <td>27.391822</td>\n",
       "      <td>7.745893</td>\n",
       "      <td>6.649440</td>\n",
       "      <td>609</td>\n",
       "      <td>544</td>\n",
       "      <td>0.313879</td>\n",
       "      <td>0.285092</td>\n",
       "      <td>0.732059</td>\n",
       "      <td>0.424026</td>\n",
       "      <td>-0.099032</td>\n",
       "      <td>1.563150</td>\n",
       "    </tr>\n",
       "    <tr>\n",
       "      <th>(30, 40]</th>\n",
       "      <td>30.325586</td>\n",
       "      <td>29.611726</td>\n",
       "      <td>8.315608</td>\n",
       "      <td>6.622412</td>\n",
       "      <td>474</td>\n",
       "      <td>458</td>\n",
       "      <td>0.381949</td>\n",
       "      <td>0.309445</td>\n",
       "      <td>0.713861</td>\n",
       "      <td>0.491570</td>\n",
       "      <td>-0.249616</td>\n",
       "      <td>1.677338</td>\n",
       "    </tr>\n",
       "    <tr>\n",
       "      <th>(40, 50]</th>\n",
       "      <td>31.160643</td>\n",
       "      <td>29.724623</td>\n",
       "      <td>8.076195</td>\n",
       "      <td>6.407076</td>\n",
       "      <td>502</td>\n",
       "      <td>401</td>\n",
       "      <td>0.360458</td>\n",
       "      <td>0.319954</td>\n",
       "      <td>1.436019</td>\n",
       "      <td>0.481976</td>\n",
       "      <td>0.491347</td>\n",
       "      <td>2.380692</td>\n",
       "    </tr>\n",
       "    <tr>\n",
       "      <th>(50, 60]</th>\n",
       "      <td>30.743777</td>\n",
       "      <td>29.231486</td>\n",
       "      <td>7.575848</td>\n",
       "      <td>5.914373</td>\n",
       "      <td>470</td>\n",
       "      <td>454</td>\n",
       "      <td>0.349448</td>\n",
       "      <td>0.277575</td>\n",
       "      <td>1.512291</td>\n",
       "      <td>0.446275</td>\n",
       "      <td>0.637591</td>\n",
       "      <td>2.386991</td>\n",
       "    </tr>\n",
       "    <tr>\n",
       "      <th>(60, 70]</th>\n",
       "      <td>31.074828</td>\n",
       "      <td>29.392488</td>\n",
       "      <td>7.604514</td>\n",
       "      <td>5.933307</td>\n",
       "      <td>441</td>\n",
       "      <td>437</td>\n",
       "      <td>0.362120</td>\n",
       "      <td>0.283829</td>\n",
       "      <td>1.682340</td>\n",
       "      <td>0.460097</td>\n",
       "      <td>0.780550</td>\n",
       "      <td>2.584130</td>\n",
       "    </tr>\n",
       "    <tr>\n",
       "      <th>(70, 80]</th>\n",
       "      <td>29.138213</td>\n",
       "      <td>27.957692</td>\n",
       "      <td>6.284968</td>\n",
       "      <td>4.974855</td>\n",
       "      <td>410</td>\n",
       "      <td>402</td>\n",
       "      <td>0.310392</td>\n",
       "      <td>0.248123</td>\n",
       "      <td>1.180521</td>\n",
       "      <td>0.397377</td>\n",
       "      <td>0.401662</td>\n",
       "      <td>1.959380</td>\n",
       "    </tr>\n",
       "  </tbody>\n",
       "</table>\n",
       "</div>"
      ],
      "text/plain": [
       "              BMXBMI                                                       \\\n",
       "                mean                  std             size            sem   \n",
       "RIAGENDRx     Female       Male    Female      Male Female Male    Female   \n",
       "agegrp                                                                      \n",
       "(18, 30]   28.123881  27.391822  7.745893  6.649440    609  544  0.313879   \n",
       "(30, 40]   30.325586  29.611726  8.315608  6.622412    474  458  0.381949   \n",
       "(40, 50]   31.160643  29.724623  8.076195  6.407076    502  401  0.360458   \n",
       "(50, 60]   30.743777  29.231486  7.575848  5.914373    470  454  0.349448   \n",
       "(60, 70]   31.074828  29.392488  7.604514  5.933307    441  437  0.362120   \n",
       "(70, 80]   29.138213  27.957692  6.284968  4.974855    410  402  0.310392   \n",
       "\n",
       "                                                             \n",
       "                    mean_diff  sem_diff  lcb_diff  ucb_diff  \n",
       "RIAGENDRx      Male                                          \n",
       "agegrp                                                       \n",
       "(18, 30]   0.285092  0.732059  0.424026 -0.099032  1.563150  \n",
       "(30, 40]   0.309445  0.713861  0.491570 -0.249616  1.677338  \n",
       "(40, 50]   0.319954  1.436019  0.481976  0.491347  2.380692  \n",
       "(50, 60]   0.277575  1.512291  0.446275  0.637591  2.386991  \n",
       "(60, 70]   0.283829  1.682340  0.460097  0.780550  2.584130  \n",
       "(70, 80]   0.248123  1.180521  0.397377  0.401662  1.959380  "
      ]
     },
     "execution_count": 35,
     "metadata": {},
     "output_type": "execute_result"
    }
   ],
   "source": [
    "# Calculate the mean difference of BMI between females and males within each age band, also  calculate\n",
    "# its SE and the lower and upper limits of its 95% CI.\n",
    "pr[\"BMXBMI\", \"mean_diff\", \"\"] = pr[\"BMXBMI\", \"mean\", \"Female\"] - pr[\"BMXBMI\", \"mean\", \"Male\"]\n",
    "pr[\"BMXBMI\", \"sem_diff\", \"\"] = np.sqrt(pr[\"BMXBMI\", \"sem\", \"Female\"]**2 + pr[\"BMXBMI\", \"sem\", \"Male\"]**2) \n",
    "pr[\"BMXBMI\", \"lcb_diff\", \"\"] = pr[\"BMXBMI\", \"mean_diff\", \"\"] - 1.96 * pr[\"BMXBMI\", \"sem_diff\", \"\"] \n",
    "pr[\"BMXBMI\", \"ucb_diff\", \"\"] = pr[\"BMXBMI\", \"mean_diff\", \"\"] + 1.96 * pr[\"BMXBMI\", \"sem_diff\", \"\"] \n",
    "pr"
   ]
  },
  {
   "cell_type": "code",
   "execution_count": 36,
   "id": "91404a47-9e9e-4b2a-8252-5286326c7533",
   "metadata": {
    "tags": []
   },
   "outputs": [
    {
     "data": {
      "text/plain": [
       "Text(0, 0.5, 'Female - male BMI difference')"
      ]
     },
     "execution_count": 36,
     "metadata": {},
     "output_type": "execute_result"
    },
    {
     "data": {
      "image/png": "[encoded data removed]",
      "text/plain": [
       "<Figure size 640x480 with 1 Axes>"
      ]
     },
     "metadata": {},
     "output_type": "display_data"
    }
   ],
   "source": [
    "# Plot the mean difference in black and the confidence limits in blue\n",
    "x = np.arange(pr.shape[0])\n",
    "pp = sns.pointplot(x=x, y=pr[\"BMXBMI\", \"mean_diff\", \"\"], color='black')\n",
    "sns.pointplot(x=x, y=pr[\"BMXBMI\", \"lcb_diff\", \"\"], color='blue')\n",
    "sns.pointplot(x=x, y=pr[\"BMXBMI\", \"ucb_diff\", \"\"], color='blue')\n",
    "pp.set_xticklabels(pr.index)\n",
    "pp.set_xlabel(\"Age group\")\n",
    "pp.set_ylabel(\"Female - male BMI difference\")"
   ]
  },
  {
   "cell_type": "markdown",
   "id": "a577333b-ef93-40f8-9d1a-9be435e42164",
   "metadata": {},
   "source": [
    "**Inter-group and intra-group differences:** As the sample size grows, estimates become increasingly precise, but it is important to remember that a highly precise estimate for the mean does not imply that individuals within a population do not vary from each other.  To put the differences shown above in context, below we show the underlying summaries on which the plot above was based.  Note that the standard deviation of BMI within both females and males ranges from around 5 to around 8 depending on the age band.  This means, for example, that two randomly-selected males will tend to have BMI values that differ by around 6 units.  This is a far greater difference than the mean difference of up to around 1.5 BMI units between females and males.  Thus, while there is a tendency for females to have slightly higher BMI than males, the heterogeneity within genders is substantially greater than the difference of means between genders."
   ]
  },
  {
   "cell_type": "markdown",
   "id": "cd706557-26fd-401b-95e0-60bf7dd98417",
   "metadata": {},
   "source": [
    "### Confidence intervals and sample size\n",
    "\n",
    "Confidence intervals reflect the precision of an estimate, which is largely driven by the amount of data used to construct the estimate.  We can explore the relationship between precision and sample size by subampling data from NHANES and calculating confidence intervals for the subsamples.  Below we calculate confidence intervals based on subsamples of size 100, 200, 400, and 800.\n",
    "\n",
    "A wider confidence interval implies that we have less precision in our estimate.  In the simulation below, we calculate the average width of the confidence intervals constructed for each sample size.  We see that the confidence interval steadily becomes shorter as the sample size grows.  For most settings, the confidence interval will become around half as wide when the sample size is increased by a factor of 4.  Below we see this scaling when the sample size increases from 100 to 400, and when it increases from 200 to 800, both of which are increases by a factor of 4."
   ]
  },
  {
   "cell_type": "code",
   "execution_count": 37,
   "id": "313d8ece-07ac-4512-96a8-7570f0087cd9",
   "metadata": {
    "tags": []
   },
   "outputs": [
    {
     "name": "stdout",
     "output_type": "stream",
     "text": [
      "100\n",
      "200\n",
      "400\n",
      "800\n"
     ]
    }
   ],
   "source": [
    "dx = da.loc[da.RIAGENDRx==\"Female\", [\"RIAGENDRx\", \"BMXBMI\"]].dropna()\n",
    "\n",
    "for n in 100, 200, 400, 800:\n",
    "    print(n)"
   ]
  },
  {
   "cell_type": "code",
   "execution_count": 115,
   "id": "f99a9b85-3974-4b37-b8b7-6c9ca97c04d3",
   "metadata": {
    "tags": []
   },
   "outputs": [
    {
     "name": "stdout",
     "output_type": "stream",
     "text": [
      "100 3.044373777034334\n",
      "200 2.1406282724126378\n",
      "400 1.5147932478631674\n",
      "800 1.0730581979186589\n"
     ]
    }
   ],
   "source": [
    "all_cis = []\n",
    "for n in 100, 200, 400, 800:\n",
    "    cis = []\n",
    "    \n",
    "    \"\"\"\n",
    "    i is not related with any operation below. It is just for\n",
    "    frequency.\n",
    "    \"\"\"\n",
    "    for i in range(500):\n",
    "        dz = dx.sample(n)\n",
    "        ci = sm.stats.DescrStatsW(dz.BMXBMI).zconfint_mean()    # ci has 2 results with r1, r2\n",
    "        cis.append(ci)                                          # results were stored as tuple in the list[(r1, r2), (r1, r2),...]\n",
    "    cis = np.asarray(cis)                                       # after chaning array, list[[r1, r2], [r1, r2],...]\n",
    "    mean_width = cis[:, 1].mean() - cis[:, 0].mean()            # UCB.mean() - LCB.mean()\n",
    "    print(n, mean_width)\n",
    "    all_cis.append(cis) "
   ]
  },
  {
   "cell_type": "code",
   "execution_count": 114,
   "id": "49b40f2d-fba4-43dc-ba15-18fe5382e707",
   "metadata": {
    "tags": []
   },
   "outputs": [
    {
     "name": "stdout",
     "output_type": "stream",
     "text": [
      "[array([[28.41491292, 31.69908708],\n",
      "       [29.10552278, 32.15047722],\n",
      "       [28.297014  , 31.696986  ],\n",
      "       [28.48357184, 31.57642816],\n",
      "       [28.34467406, 31.36532594],\n",
      "       [28.65380221, 31.49619779],\n",
      "       [28.44019414, 31.49980586],\n",
      "       [28.20246712, 31.04553288],\n",
      "       [27.49223625, 29.80776375],\n",
      "       [27.68924679, 30.82075321]]), array([[29.32459662, 31.49840338],\n",
      "       [27.8935016 , 30.0564984 ],\n",
      "       [28.68905806, 30.93594194],\n",
      "       [28.95934323, 31.05665677],\n",
      "       [29.41714762, 31.35685238],\n",
      "       [28.26574861, 30.21125139],\n",
      "       [29.01213785, 31.06886215],\n",
      "       [28.49378516, 30.67821484],\n",
      "       [29.7488337 , 31.9921663 ],\n",
      "       [29.14137187, 31.31662813]]), array([[28.91710027, 30.37289973],\n",
      "       [29.70940422, 31.20759578],\n",
      "       [29.52264784, 31.16735216],\n",
      "       [29.32798528, 30.90951472],\n",
      "       [28.95951274, 30.49548726],\n",
      "       [29.45384736, 31.01865264],\n",
      "       [29.21114051, 30.75935949],\n",
      "       [28.70617366, 30.07182634],\n",
      "       [29.36159083, 30.80790917],\n",
      "       [28.76093416, 30.28356584]]), array([[29.6726396 , 30.7688604 ],\n",
      "       [29.31454684, 30.40670316],\n",
      "       [29.27099553, 30.27225447],\n",
      "       [28.76746081, 29.79428919],\n",
      "       [29.1443579 , 30.1908921 ],\n",
      "       [29.34906171, 30.40118829],\n",
      "       [29.44947146, 30.51177854],\n",
      "       [29.15121079, 30.16353921],\n",
      "       [29.29324207, 30.32225793],\n",
      "       [29.83883745, 30.95716255]])]\n"
     ]
    },
    {
     "data": {
      "text/plain": [
       "array([[28.41491292, 31.69908708],\n",
       "       [29.10552278, 32.15047722],\n",
       "       [28.297014  , 31.696986  ],\n",
       "       [28.48357184, 31.57642816],\n",
       "       [28.34467406, 31.36532594],\n",
       "       [28.65380221, 31.49619779],\n",
       "       [28.44019414, 31.49980586],\n",
       "       [28.20246712, 31.04553288],\n",
       "       [27.49223625, 29.80776375],\n",
       "       [27.68924679, 30.82075321]])"
      ]
     },
     "execution_count": 114,
     "metadata": {},
     "output_type": "execute_result"
    }
   ],
   "source": [
    "# Custom test to understand more\n",
    "all_cis = []\n",
    "for n in 100, 200, 400, 800:\n",
    "    cis = []\n",
    "    \n",
    "    \"\"\"\n",
    "    i is not related with any operation below. It is just for\n",
    "    frequency.\n",
    "    \"\"\"\n",
    "    for i in range(10):\n",
    "        dz = dx.sample(n)\n",
    "        ci = sm.stats.DescrStatsW(dz.BMXBMI).zconfint_mean()    # ci has 2 results with r1, r2\n",
    "        cis.append(ci)                                          # results were stored as tuple in the list[(r1, r2), (r1, r2),...]\n",
    "    # display(cis)\n",
    "    cis = np.asarray(cis)                                       # after chaning array, list[[r1, r2], [r1, r2],...]\n",
    "    # display(cis)\n",
    "    # display(cis[3])                                             # take only 8th row of the array\n",
    "    mean_width = cis[:, 1].mean() - cis[:, 0].mean()            # UCB.mean() - LCB.mean() --> taking all rows x col1 - all rows x col0\n",
    "    all_cis.append(cis) \n",
    "print(all_cis)\n",
    "all_cis[0]"
   ]
  },
  {
   "cell_type": "markdown",
   "id": "0a963460-de95-4c64-96a2-6b67dba6b214",
   "metadata": {},
   "source": [
    "It is also informative to plot the individual confidence intervals, computed for 500 subsamples of size 100, to see how they vary.  The vertical grey bars below each correspond to a confidence interval.  The red horizontal line is the mean BMI calculated using the entire data set, which can be taken as a proxy for othe population mean.  While the individual intervals are quite different from each other, it appears that the vast majority of them cover the population value."
   ]
  },
  {
   "cell_type": "code",
   "execution_count": 127,
   "id": "9f979d26-0bc2-4b3e-80b8-82522120e199",
   "metadata": {
    "tags": []
   },
   "outputs": [
    {
     "data": {
      "text/plain": [
       "[<matplotlib.lines.Line2D at 0x7fb5d6a394d0>,\n",
       " <matplotlib.lines.Line2D at 0x7fb5d6fb7550>]"
      ]
     },
     "execution_count": 127,
     "metadata": {},
     "output_type": "execute_result"
    },
    {
     "data": {
      "image/png": "[encoded data removed]",
      "text/plain": [
       "<Figure size 640x480 with 1 Axes>"
      ]
     },
     "metadata": {},
     "output_type": "display_data"
    }
   ],
   "source": [
    "x = [1, 2, 3]\n",
    "y = np.array([[1, 2], [3, 4], [5, 6]])\n",
    "plt.plot(x, y)"
   ]
  },
  {
   "cell_type": "code",
   "execution_count": 139,
   "id": "3bf1d083-9476-460b-bfc0-e51b8f0f7236",
   "metadata": {
    "tags": []
   },
   "outputs": [
    {
     "name": "stdout",
     "output_type": "stream",
     "text": [
      "29.93994565217391\n"
     ]
    },
    {
     "data": {
      "text/plain": [
       "[<matplotlib.lines.Line2D at 0x7fb5d6b66ad0>]"
      ]
     },
     "execution_count": 139,
     "metadata": {},
     "output_type": "execute_result"
    },
    {
     "data": {
      "image/png": "[encoded data removed]",
      "text/plain": [
       "<Figure size 640x480 with 1 Axes>"
      ]
     },
     "metadata": {},
     "output_type": "display_data"
    }
   ],
   "source": [
    "ci = all_cis[0]                                         # chose 500 list included list\n",
    "for j, x in enumerate(ci):\n",
    "    plt.plot([j,j], x, color='grey')                   #[j,j] purpose is to make a vertical line(x[0] to x[1]), x values takes only second value\n",
    "    plt.gca().set_ylabel(\"BMI\")\n",
    "mn = dx.BMXBMI.mean()\n",
    "print(mn)\n",
    "plt.plot([0, 500], [mn, mn], color='red')"
   ]
  },
  {
   "cell_type": "markdown",
   "id": "a1efecc2-9cb2-451f-8dc2-3fd7c34d24bf",
   "metadata": {
    "tags": []
   },
   "source": [
    "We can calculate the fraction of the 500 simulated confidence intervals that did not cover the target value.  This is called the \"non-coverage probability\".  There are two ways for an interval to fail to cover the target -- either the upper limit of the interval can fall below the target, or the lower limit of the interval can fall above the target.  We calculate each of these below.  The sum of these two probabilities should be around 0.05, which is the allowed proportion of the time that a 95% confidence interval does not cover its target."
   ]
  },
  {
   "cell_type": "code",
   "execution_count": 40,
   "id": "d00ca39f-5e55-468a-8f91-3e72e7c52469",
   "metadata": {
    "tags": []
   },
   "outputs": [
    {
     "name": "stdout",
     "output_type": "stream",
     "text": [
      "0.03\n",
      "0.016\n"
     ]
    }
   ],
   "source": [
    "print(np.mean(ci[:, 1] < mn)) # Upper limit falls below the target (upper limit < true mean)\n",
    "print(np.mean(ci[:, 0] > mn)) # Lower limit falls above the target (lower limit > true mean)"
   ]
  },
  {
   "cell_type": "code",
   "execution_count": 140,
   "id": "aee74257-8f63-4370-97f2-6ef5090f4265",
   "metadata": {},
   "outputs": [
    {
     "data": {
      "text/plain": [
       "array([31.62637452, 30.0993932 , 31.93435914, 31.1207167 , 30.65495804,\n",
       "       30.44954849, 31.04932546, 31.2896112 , 32.48478862, 33.16710464,\n",
       "       30.22856456, 32.86443627, 30.25003829, 30.50881369, 31.14149572,\n",
       "       30.99845739, 31.53632457, 31.68817511, 31.26923203, 31.78106925,\n",
       "       30.84068535, 31.3750889 , 31.20945737, 32.63852999, 32.01349085,\n",
       "       31.66242216, 32.53452245, 31.65431007, 31.05595459, 32.85544256,\n",
       "       32.18763893, 30.95599245, 31.69262748, 31.27094101, 30.98820961,\n",
       "       31.15698536, 30.70695406, 32.37322816, 31.58268473, 31.61854805,\n",
       "       32.19093547, 32.69876647, 32.26776338, 30.09553009, 31.19613636,\n",
       "       31.80638303, 30.88002193, 31.48257157, 33.69987125, 31.54299819,\n",
       "       32.516808  , 30.74851404, 32.43423874, 30.28411786, 32.99305636,\n",
       "       30.56778262, 31.47715872, 31.06617213, 32.2471803 , 32.59968483,\n",
       "       31.89084948, 30.62112161, 30.3825417 , 30.50247121, 30.39602369,\n",
       "       32.32252877, 30.47409955, 31.18027001, 32.0906223 , 32.46823526,\n",
       "       31.40540346, 29.82109439, 32.15889226, 31.40452928, 31.50434236,\n",
       "       33.18973819, 30.44483862, 32.23044981, 30.87232698, 29.6779171 ,\n",
       "       30.51774149, 31.73584021, 31.53476945, 31.10303194, 31.58125219,\n",
       "       32.05774306, 32.25814457, 30.41375713, 30.15254909, 31.56874085,\n",
       "       32.50442329, 31.54445482, 33.13475343, 32.13940705, 30.76585508,\n",
       "       31.88212198, 31.78271201, 32.14186705, 31.90693437, 31.75200635,\n",
       "       31.18040224, 31.61748695, 31.96202014, 30.48315216, 31.29430187,\n",
       "       30.15031444, 31.27303668, 31.08169879, 29.74105445, 31.1252311 ,\n",
       "       31.40731648, 30.81047803, 31.36728597, 30.71391148, 31.48002337,\n",
       "       31.73213535, 31.99956011, 30.71258941, 31.43631895, 31.67284148,\n",
       "       29.48775583, 32.23992137, 31.48806831, 30.39114415, 31.61537496,\n",
       "       30.75414313, 31.83423337, 30.93254631, 31.33448808, 30.56837001,\n",
       "       31.1905858 , 30.96580723, 30.5782686 , 31.88320161, 31.21203298,\n",
       "       31.12945966, 31.40958831, 30.01230262, 31.64107611, 30.67169472,\n",
       "       32.49979028, 30.88160566, 32.5912757 , 29.90629597, 31.60062174,\n",
       "       32.08852462, 32.59530838, 32.68470783, 32.81164115, 30.87240471,\n",
       "       31.75907544, 31.23506271, 31.84145355, 32.82491306, 31.43905032,\n",
       "       33.14064536, 31.61316727, 30.90734983, 31.23971959, 30.45472079,\n",
       "       31.95320315, 32.28109778, 30.1046396 , 31.5966698 , 30.33511036,\n",
       "       32.32851738, 31.78171258, 30.95079502, 33.77381528, 31.30151801,\n",
       "       32.55132619, 31.33901183, 30.85467414, 31.25539599, 32.36749112,\n",
       "       31.57478514, 31.28116556, 32.92211602, 31.12679926, 30.88804555,\n",
       "       32.6211207 , 31.9930543 , 32.1202877 , 30.42969643, 31.02680609,\n",
       "       31.90401657, 32.20930852, 31.32719953, 31.95545963, 31.28969394,\n",
       "       30.64696214, 31.07982868, 30.67916483, 30.60299247, 30.44953277,\n",
       "       32.1456862 , 30.54598842, 32.40494369, 30.44749741, 30.29270754,\n",
       "       32.03717501, 31.29516466, 30.64040337, 32.39817125, 31.07115271,\n",
       "       30.28005926, 31.53426136, 32.35321919, 31.19690271, 30.42726927,\n",
       "       30.46192613, 30.94985003, 31.03389679, 32.26603775, 32.25190238,\n",
       "       32.55858358, 31.41358954, 31.23213751, 30.41582271, 31.66846294,\n",
       "       31.77119255, 30.70496135, 30.62809259, 32.15378464, 32.35133126,\n",
       "       31.86693365, 32.26224618, 31.24861764, 30.24384525, 31.53212249,\n",
       "       31.34544832, 31.32752026, 32.86942677, 31.4393208 , 32.30611152,\n",
       "       30.92170034, 31.17251124, 31.41633856, 31.5117958 , 31.41844765,\n",
       "       31.45058881, 32.46534857, 31.16157137, 30.08322381, 31.40042356,\n",
       "       30.61072356, 31.17446277, 32.46751696, 31.22426277, 31.3331395 ,\n",
       "       32.82631678, 31.49039835, 30.63399843, 31.35386078, 29.34824897,\n",
       "       31.92166585, 32.41042221, 30.56910106, 31.27078395, 30.93027756,\n",
       "       31.79268555, 32.89566108, 30.3486575 , 32.27663512, 32.20649026,\n",
       "       32.71220959, 31.42381825, 32.04097663, 30.74423825, 31.91582651,\n",
       "       33.41389569, 31.17839521, 31.72681203, 31.91747524, 31.07448308,\n",
       "       30.21077745, 31.71792076, 31.71825134, 32.88874886, 32.88461371,\n",
       "       30.13862282, 30.6006359 , 32.01014524, 29.87835854, 31.23179775,\n",
       "       29.14995299, 30.67597284, 31.31154469, 31.64114358, 31.26931172,\n",
       "       30.92083115, 31.40175853, 31.53572269, 33.14012423, 31.12747982,\n",
       "       30.62223724, 32.68460297, 31.76235882, 32.83432438, 33.26821006,\n",
       "       31.05948805, 31.21001911, 30.5838534 , 31.79141362, 31.55765704,\n",
       "       31.53490065, 30.06408879, 32.11600905, 31.02481405, 32.13678243,\n",
       "       31.79800545, 31.36753473, 32.04901661, 31.28155206, 31.65616189,\n",
       "       32.45301142, 31.74558908, 29.95350414, 30.83381137, 31.96350111,\n",
       "       30.46528948, 31.6314058 , 33.48580178, 30.146411  , 32.02493767,\n",
       "       32.42658081, 31.89331411, 32.44172253, 31.70676266, 32.39753326,\n",
       "       32.21252545, 31.80111746, 31.48999406, 31.03888668, 31.49347566,\n",
       "       31.65048196, 29.60784684, 33.0561011 , 31.39896921, 32.96842424,\n",
       "       31.55654539, 32.27554875, 30.23358075, 31.19393691, 31.49342069,\n",
       "       31.6132131 , 31.71584533, 30.84197849, 31.04135145, 31.55644871,\n",
       "       31.6859958 , 32.25835979, 31.51562218, 30.59438941, 28.85028493,\n",
       "       32.22000085, 33.8432566 , 31.97490169, 31.11522208, 30.63572712,\n",
       "       30.88714625, 32.25328243, 31.37271934, 30.63000252, 30.16849564,\n",
       "       31.42551793, 32.14271136, 30.87859921, 32.79593131, 30.46332517,\n",
       "       31.40888036, 31.27057533, 30.96985858, 30.51965234, 32.20378371,\n",
       "       31.62744779, 30.73897325, 30.57293473, 32.86140641, 31.26127465,\n",
       "       30.47342624, 30.49519911, 30.87921995, 30.66938762, 31.17211608,\n",
       "       32.2535613 , 32.66251711, 32.71802697, 33.00436879, 31.91489824,\n",
       "       30.57089333, 31.08852963, 33.80922198, 30.82999707, 31.31229418,\n",
       "       32.22526546, 32.23931629, 31.24660088, 31.25287172, 30.69888395,\n",
       "       32.32720312, 31.85655911, 31.55286155, 30.46088063, 32.55524367,\n",
       "       31.45532892, 31.78735793, 31.88758844, 31.70470396, 32.02657832,\n",
       "       30.4987889 , 31.98803248, 33.17116429, 30.53512701, 31.70502028,\n",
       "       30.6198634 , 31.84624191, 31.98386347, 31.84934041, 32.20488508,\n",
       "       30.98661245, 32.74484242, 31.77893607, 31.10797171, 30.87056103,\n",
       "       32.72221076, 32.21824135, 32.9420596 , 30.97417184, 31.78156707,\n",
       "       32.27493632, 30.91603992, 30.60000912, 33.0891788 , 32.41839009,\n",
       "       30.87202756, 31.77151726, 31.20297334, 32.56825327, 30.22991675,\n",
       "       31.86070123, 31.48437108, 31.80997408, 31.5787662 , 32.90108572,\n",
       "       31.03652893, 32.48206904, 32.52835674, 31.20389498, 31.24687193,\n",
       "       31.1530968 , 32.28926154, 32.95796806, 31.17542312, 31.79995039,\n",
       "       32.82115981, 30.8426417 , 30.14206904, 31.63488808, 32.21952676,\n",
       "       30.74785605, 30.89379596, 32.58265084, 31.75426438, 32.99421004,\n",
       "       29.20035984, 32.68645427, 31.16503287, 31.79072467, 32.98698634,\n",
       "       30.91391743, 31.38955258, 32.41464544, 30.84258308, 33.99667545,\n",
       "       31.75702415, 31.7272952 , 31.86124922, 32.39673549, 31.18430949,\n",
       "       30.8971556 , 31.75856008, 31.58974955, 31.14159721, 31.31437407,\n",
       "       29.11787845, 31.24930004, 31.21200542, 32.90143175, 31.54964294,\n",
       "       32.88091886, 30.8137878 , 31.21967193, 30.82830095, 31.79937754,\n",
       "       31.67733212, 31.77992433, 30.68174428, 30.88287833, 31.32302691])"
      ]
     },
     "execution_count": 140,
     "metadata": {},
     "output_type": "execute_result"
    }
   ],
   "source": [
    "ci[:,1]"
   ]
  },
  {
   "cell_type": "code",
   "execution_count": 141,
   "id": "473007df-3141-4c15-aca7-036f68d056b7",
   "metadata": {
    "tags": []
   },
   "outputs": [
    {
     "data": {
      "text/plain": [
       "array([28.57762548, 27.3386068 , 28.61164086, 28.0672833 , 27.51504196,\n",
       "       27.69645151, 28.40667454, 28.1803888 , 28.98321138, 29.94089536,\n",
       "       27.40743544, 29.67556373, 27.44196171, 27.68918631, 28.30050428,\n",
       "       27.86154261, 28.46367543, 28.47782489, 28.19276797, 28.81893075,\n",
       "       27.70731465, 28.5289111 , 28.01254263, 29.25147001, 28.71450915,\n",
       "       28.60557784, 29.27547755, 28.17968993, 28.23804541, 29.79255744,\n",
       "       29.00236107, 27.99800755, 28.20937252, 28.06105899, 28.12579039,\n",
       "       28.36501464, 27.67904594, 29.23877184, 28.71131527, 28.59545195,\n",
       "       28.92506453, 29.36923353, 28.96823662, 27.28446991, 28.57986364,\n",
       "       28.49161697, 27.63197807, 27.86742843, 30.55012875, 28.75900181,\n",
       "       28.857192  , 28.17748596, 29.44776126, 27.49388214, 29.60894364,\n",
       "       27.54221738, 28.21284128, 27.94982787, 29.2428197 , 29.14031517,\n",
       "       28.72515052, 27.42287839, 27.6394583 , 27.47552879, 27.46597631,\n",
       "       28.86947123, 27.08590045, 28.26972999, 29.0393777 , 29.13176474,\n",
       "       28.68659654, 27.14890561, 29.18310774, 28.57147072, 28.23565764,\n",
       "       30.01426181, 27.70116138, 29.45355019, 27.85167302, 27.5680829 ,\n",
       "       27.68225851, 28.63415979, 28.58123055, 28.04096806, 28.19674781,\n",
       "       28.57225694, 28.84585543, 27.61824287, 27.08745091, 28.63925915,\n",
       "       29.13357671, 28.26754518, 29.77724657, 28.77859295, 28.12014492,\n",
       "       28.85587802, 28.68728799, 29.34613295, 28.76506563, 28.54599365,\n",
       "       28.19159776, 28.68251305, 28.83597986, 27.57484784, 28.71169813,\n",
       "       27.63768556, 28.02496332, 28.18630121, 26.91894555, 27.9867689 ,\n",
       "       28.64268352, 27.59952197, 28.39471403, 27.83208852, 28.30397663,\n",
       "       28.58986465, 28.95243989, 27.75141059, 28.53168105, 28.80515852,\n",
       "       26.91224417, 28.93807863, 28.32993169, 27.80485585, 28.35862504,\n",
       "       27.79385687, 28.78176663, 28.02545369, 27.98751192, 27.57762999,\n",
       "       28.2294142 , 28.03219277, 27.8617314 , 28.77479839, 28.01196702,\n",
       "       28.26054034, 28.67241169, 27.49369738, 28.63092389, 28.03630528,\n",
       "       29.36020972, 27.90239434, 29.4947243 , 27.09370403, 28.48937826,\n",
       "       29.39947538, 29.42469162, 29.24929217, 29.48235885, 27.89759529,\n",
       "       28.61492456, 27.87093729, 28.61054645, 29.05708694, 28.40094968,\n",
       "       29.72335464, 28.49483273, 28.19265017, 28.39428041, 27.74927921,\n",
       "       28.75279685, 29.34890222, 27.7413604 , 28.7833302 , 27.57888964,\n",
       "       29.05348262, 28.97428742, 28.00920498, 30.05018472, 28.45048199,\n",
       "       29.59267381, 28.02698817, 27.85132586, 28.04860401, 29.50850888,\n",
       "       28.65521486, 28.17283444, 29.44188398, 28.26520074, 28.28195445,\n",
       "       29.4868793 , 29.1029457 , 29.0597123 , 27.84630357, 28.25119391,\n",
       "       28.88198343, 28.88469148, 28.55280047, 29.06254037, 28.61430606,\n",
       "       27.86103786, 28.02017132, 28.02083517, 27.41700753, 27.64046723,\n",
       "       29.0783138 , 27.78201158, 28.81305631, 27.45450259, 27.76929246,\n",
       "       29.29682499, 28.20283534, 27.56959663, 29.15182875, 27.79684729,\n",
       "       27.00194074, 28.70973864, 28.50078081, 28.08709729, 27.23673073,\n",
       "       27.83407387, 27.87414997, 27.60810321, 29.12396225, 29.31009762,\n",
       "       28.78141642, 28.51041046, 28.08586249, 27.51617729, 28.58553706,\n",
       "       28.63480745, 27.90103865, 27.52390741, 28.80421536, 28.75266874,\n",
       "       28.76506635, 28.67775382, 27.96338236, 27.37815475, 28.32987751,\n",
       "       28.52855168, 28.43447974, 30.02057323, 28.3146792 , 29.32988848,\n",
       "       28.08429966, 28.27348876, 28.09766144, 28.3242042 , 28.32755235,\n",
       "       28.20141119, 29.01065143, 28.30442863, 27.17677619, 28.45757644,\n",
       "       27.70527644, 28.53753723, 29.58248304, 27.94973723, 28.6448605 ,\n",
       "       29.36768322, 28.30160165, 27.56800157, 28.18013922, 26.96775103,\n",
       "       28.75433415, 29.31157779, 27.59089894, 28.38921605, 27.73572244,\n",
       "       28.42731445, 30.00433892, 27.9373425 , 29.26936488, 28.94750974,\n",
       "       28.98779041, 28.50018175, 28.96502337, 27.42976175, 28.87217349,\n",
       "       29.86010431, 28.13160479, 28.71118797, 28.79852476, 28.10751692,\n",
       "       27.45122255, 28.62007924, 28.50974866, 29.54125114, 29.17738629,\n",
       "       27.73337718, 27.4953641 , 28.84985476, 27.32964146, 28.15820225,\n",
       "       26.73404701, 27.88802716, 28.12245531, 28.82485642, 27.87268828,\n",
       "       28.40916885, 28.24024147, 28.44227731, 29.63987577, 28.21452018,\n",
       "       27.61576276, 29.23339703, 28.98564118, 29.17967562, 30.19378994,\n",
       "       27.97851195, 27.88598089, 27.9981466 , 28.31658638, 28.59234296,\n",
       "       28.98509935, 27.45791121, 29.10399095, 28.29918595, 28.68721757,\n",
       "       28.75199455, 28.43446527, 29.19098339, 28.10644794, 28.34783811,\n",
       "       29.16498858, 28.52641092, 27.31649586, 28.25218863, 28.88649889,\n",
       "       27.46871052, 28.6045942 , 29.66219822, 27.697589  , 28.66106233,\n",
       "       29.21941919, 28.92668589, 29.15827747, 28.93723734, 28.83846674,\n",
       "       29.06747455, 28.82488254, 28.48600594, 27.75511332, 28.59052434,\n",
       "       28.49551804, 27.13215316, 29.5898989 , 28.44103079, 29.23157576,\n",
       "       28.56345461, 29.01645125, 27.59841925, 28.23006309, 28.38257931,\n",
       "       28.5927869 , 28.72215467, 28.23402151, 27.90664855, 28.81755129,\n",
       "       28.4780042 , 29.04764021, 28.55037782, 27.79361059, 26.46771507,\n",
       "       29.26599915, 30.1867434 , 28.95309831, 27.86677792, 27.91427288,\n",
       "       28.23885375, 29.04871757, 28.64128066, 27.80599748, 27.29150436,\n",
       "       28.01448207, 29.13728864, 27.96740079, 29.76806869, 27.60067483,\n",
       "       28.05311964, 28.48542467, 28.20614142, 27.57434766, 28.98221629,\n",
       "       28.27455221, 27.83702675, 27.65306527, 29.72659359, 28.45472535,\n",
       "       27.80057376, 27.50480089, 27.79478005, 28.14661238, 28.48788392,\n",
       "       29.2284387 , 29.37348289, 29.45797303, 29.43763121, 29.17710176,\n",
       "       27.92710667, 28.10947037, 30.24877802, 27.85200293, 28.56370582,\n",
       "       29.24273454, 29.16868371, 28.20939912, 28.00312828, 27.73111605,\n",
       "       29.23079688, 28.85944089, 28.31113845, 27.76111937, 29.05475633,\n",
       "       28.49667108, 28.67064207, 28.86041156, 28.28929604, 28.83942168,\n",
       "       27.6852111 , 28.77796752, 29.41483571, 27.92687299, 28.67697972,\n",
       "       27.8841366 , 28.68975809, 28.71213653, 29.15065959, 28.85911492,\n",
       "       28.12938755, 29.56315758, 28.86506393, 27.86802829, 27.94543897,\n",
       "       29.50578924, 28.96375865, 29.5999404 , 27.46982816, 28.80843293,\n",
       "       28.97106368, 27.84196008, 27.88399088, 29.6508212 , 28.92560991,\n",
       "       27.68397244, 29.42248274, 28.24302666, 29.12974673, 27.53208325,\n",
       "       28.68529877, 28.62762892, 28.53602592, 28.7872338 , 29.60491428,\n",
       "       28.05947107, 29.75993096, 29.42564326, 28.49610502, 28.38512807,\n",
       "       27.9569032 , 28.90673846, 29.22403194, 28.32057688, 28.37004961,\n",
       "       29.42284019, 28.2053583 , 27.57193096, 28.66511192, 28.52047324,\n",
       "       27.82414395, 28.48220404, 29.24134916, 28.95973562, 29.46778996,\n",
       "       26.61564016, 29.48554573, 28.26096713, 28.62927533, 29.57701366,\n",
       "       27.95208257, 28.31844742, 28.93535456, 27.71541692, 30.19132455,\n",
       "       28.82297585, 28.6667048 , 28.31275078, 29.06326451, 28.04769051,\n",
       "       27.8568444 , 29.00143992, 28.52225045, 28.15040279, 28.31762593,\n",
       "       26.64412155, 28.42469996, 28.39599458, 29.46856825, 28.35435706,\n",
       "       29.56908114, 28.2842122 , 28.29832807, 27.98969905, 28.89662246,\n",
       "       28.37266788, 28.73807567, 27.81825572, 28.13912167, 28.91097309])"
      ]
     },
     "execution_count": 141,
     "metadata": {},
     "output_type": "execute_result"
    }
   ],
   "source": [
    "ci[:, 0]"
   ]
  },
  {
   "cell_type": "code",
   "execution_count": null,
   "id": "0117cf4e-086f-4118-b5d5-54f2eb834090",
   "metadata": {},
   "outputs": [],
   "source": []
  }
 ],
 "metadata": {
  "kernelspec": {
   "display_name": "Python 3 (ipykernel)",
   "language": "python",
   "name": "python3"
  },
  "language_info": {
   "codemirror_mode": {
    "name": "ipython",
    "version": 3
   },
   "file_extension": ".py",
   "mimetype": "text/x-python",
   "name": "python",
   "nbconvert_exporter": "python",
   "pygments_lexer": "ipython3",
   "version": "3.11.5"
  }
 },
 "nbformat": 4,
 "nbformat_minor": 5
}
