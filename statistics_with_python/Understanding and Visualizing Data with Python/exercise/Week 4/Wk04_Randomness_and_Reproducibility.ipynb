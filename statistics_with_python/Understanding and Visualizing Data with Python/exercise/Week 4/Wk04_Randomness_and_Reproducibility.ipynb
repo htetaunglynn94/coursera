{
 "cells": [
  {
   "cell_type": "markdown",
   "id": "34c99e16-8476-461a-b862-a00eb3661377",
   "metadata": {},
   "source": [
    "# Randomness and Reproducibility\n",
    "\n",
    "As we learned in the beginning of this week, the concept of randomness is a cornerstone for statistical inference when drawing samples from larger populations.\n",
    "\n",
    "In this tutorial, we are going to cover the following:\n",
    "\n",
    "* Randomness and its uses in python.\n",
    "\n",
    "* Utilizing python seeds to reproduce analysis.\n",
    "\n",
    "* Generating random variables from a probability distribution.\n",
    "\n",
    "* Random sampling from a population.\n",
    "\n",
    "\n",
    "## What is Randomness?\n",
    "\n",
    "In the beginning of this week's lectures, we touched on the significance of randomness when it comes to performing statistical inference on population samples.  If we have complete randomness, our estimates of means, proportions, and totals are ubiased.  This means our estimates are equal to the population values on average. \n",
    "\n",
    "In Python, we refer to randomness as the ability to generate data, strings, or, more generally, numbers at random.\n",
    "\n",
    "However, when conducting analysis it is important to consider reproducibility.  If we are creating random data, how can we enable reproducible analysis?\n",
    "\n",
    "We do this by utilizing pseudo-random number generators (PRNGs).  PRNGs start with a random number, known as the seed, and then use an algorithm to generate a psuedo-random sequence based on it.\n",
    "\n",
    "This means that we can replicate the output of a random number generator in python simply by knowing which seed was used.\n",
    "\n",
    "We can showcase this by using the functions in the python library *__random__*.\n",
    "\n",
    "### Setting a Seed and Generating Random Numbers"
   ]
  },
  {
   "cell_type": "code",
   "execution_count": 1,
   "id": "04a882e7-f4c5-4098-a7b0-7ec3f24bac60",
   "metadata": {
    "tags": []
   },
   "outputs": [],
   "source": [
    "import random"
   ]
  },
  {
   "cell_type": "code",
   "execution_count": 2,
   "id": "dd5e4aa5-bb0c-4683-a7d8-3586e3b6ce5f",
   "metadata": {
    "tags": []
   },
   "outputs": [
    {
     "data": {
      "text/plain": [
       "0.9664535356921388"
      ]
     },
     "execution_count": 2,
     "metadata": {},
     "output_type": "execute_result"
    }
   ],
   "source": [
    "random.seed(1234)\n",
    "random.random() # choose any random number btw 0 and 1"
   ]
  },
  {
   "cell_type": "code",
   "execution_count": 3,
   "id": "e6cd19dc-7846-45dc-9099-d53986551006",
   "metadata": {
    "tags": []
   },
   "outputs": [
    {
     "data": {
      "text/plain": [
       "0.4407325991753527"
      ]
     },
     "execution_count": 3,
     "metadata": {},
     "output_type": "execute_result"
    }
   ],
   "source": [
    "random.random()"
   ]
  },
  {
   "cell_type": "code",
   "execution_count": 4,
   "id": "d989b721-e99f-440d-8575-a1442789f98e",
   "metadata": {
    "tags": []
   },
   "outputs": [
    {
     "data": {
      "text/plain": [
       "0.9664535356921388"
      ]
     },
     "execution_count": 4,
     "metadata": {},
     "output_type": "execute_result"
    }
   ],
   "source": [
    "random.seed(1234)\n",
    "random.random() # the same output for the same seed"
   ]
  },
  {
   "cell_type": "markdown",
   "id": "297b0a20-7bce-4349-9a33-04eeb061b2d2",
   "metadata": {},
   "source": [
    "### Random Numbers from Real-Valued Distributions \n",
    "#### Uniform"
   ]
  },
  {
   "cell_type": "code",
   "execution_count": 5,
   "id": "bc899746-6828-456e-8a61-e4d0fbae5d69",
   "metadata": {
    "tags": []
   },
   "outputs": [
    {
     "data": {
      "text/plain": [
       "36.01831497938382"
      ]
     },
     "execution_count": 5,
     "metadata": {},
     "output_type": "execute_result"
    }
   ],
   "source": [
    "random.uniform(25,50) # random number from 25 to 50"
   ]
  },
  {
   "cell_type": "code",
   "execution_count": 7,
   "id": "e453cebf-dc75-4426-b0b4-069327b740bf",
   "metadata": {
    "tags": []
   },
   "outputs": [],
   "source": [
    "unifNumbers = [random.uniform(0,1) for _ in range(1000)]"
   ]
  },
  {
   "cell_type": "code",
   "execution_count": 8,
   "id": "e4c6f095-97a5-4833-8074-726b5691b69a",
   "metadata": {
    "tags": []
   },
   "outputs": [
    {
     "data": {
      "text/plain": [
       "[0.29568688861378534, 0.3154662976424718, 0.4495636346286318]"
      ]
     },
     "execution_count": 8,
     "metadata": {},
     "output_type": "execute_result"
    }
   ],
   "source": [
    "unifNumbers[0:3]"
   ]
  },
  {
   "cell_type": "markdown",
   "id": "f4d2315a-f54a-4820-a033-6de8fbf033f8",
   "metadata": {},
   "source": [
    "#### Normal"
   ]
  },
  {
   "cell_type": "code",
   "execution_count": 12,
   "id": "08daa600-9228-47ca-a646-e9fa4e8e34ab",
   "metadata": {
    "tags": []
   },
   "outputs": [
    {
     "data": {
      "text/plain": [
       "-1.7807179609521795"
      ]
     },
     "execution_count": 12,
     "metadata": {},
     "output_type": "execute_result"
    }
   ],
   "source": [
    "mu = 0\n",
    "sigma = 1\n",
    "random.normalvariate(mu, sigma)"
   ]
  },
  {
   "cell_type": "code",
   "execution_count": 17,
   "id": "a6ce4704-28bd-41c0-a70c-9893ac3e2fb1",
   "metadata": {
    "tags": []
   },
   "outputs": [
    {
     "data": {
      "text/plain": [
       "5.781516318479527"
      ]
     },
     "execution_count": 17,
     "metadata": {},
     "output_type": "execute_result"
    }
   ],
   "source": [
    "mu = 5\n",
    "sigma = 2\n",
    "random.normalvariate(mu, sigma)"
   ]
  },
  {
   "cell_type": "code",
   "execution_count": 19,
   "id": "8de9ca0a-4e59-4e22-b700-c914a5b9578e",
   "metadata": {
    "tags": []
   },
   "outputs": [
    {
     "data": {
      "text/plain": [
       "[1.6014241352495513, -0.1149268762174061, 1.3830621346558332]"
      ]
     },
     "execution_count": 19,
     "metadata": {},
     "output_type": "execute_result"
    }
   ],
   "source": [
    "mu = 0\n",
    "sigma = 1\n",
    "[random.normalvariate(mu, sigma) for _ in range(1000)][0:3]"
   ]
  },
  {
   "cell_type": "markdown",
   "id": "c7bce255-22bd-4f30-83d6-d7b87be738f8",
   "metadata": {},
   "source": [
    "### Random Sampling from a Population\n",
    "\n",
    "From lecture, we know that **Simple Random Sampling (SRS)** has the following properties:\n",
    "\n",
    "* Start with known list of *N* population units, and randomly select *n* units from the list\n",
    "* Every unit has **equal probability of selection = _n/N_**\n",
    "* All possible samples of size *n* are equaly likely\n",
    "* Estimates of means, proportions, and totals based on SRS are **UNBIASED** (meaning they are equal to the population values on average)"
   ]
  },
  {
   "cell_type": "code",
   "execution_count": 20,
   "id": "13c07f21-f385-45e2-9546-b2bd6fb33d79",
   "metadata": {
    "tags": []
   },
   "outputs": [],
   "source": [
    "import numpy as np"
   ]
  },
  {
   "cell_type": "code",
   "execution_count": 21,
   "id": "1968735c-98f7-481c-ab53-ae50b463a77d",
   "metadata": {
    "tags": []
   },
   "outputs": [],
   "source": [
    "mu = 0 # mean value\n",
    "sigma = 1 # standard deviation value\n",
    "Population = [random.normalvariate(mu, sigma) for _ in range(10000)]"
   ]
  },
  {
   "cell_type": "code",
   "execution_count": 22,
   "id": "717017e1-e3d0-4c5f-9975-68fe33b17a12",
   "metadata": {
    "tags": []
   },
   "outputs": [],
   "source": [
    "sampleA = random.sample(population=Population, k=500)\n",
    "sampleB = random.sample(population=Population, k=500)\n",
    "# population for population size\n",
    "# k for sample size"
   ]
  },
  {
   "cell_type": "code",
   "execution_count": 23,
   "id": "09c52fad-dcc1-443e-9ec1-15b77bdb5e28",
   "metadata": {
    "tags": []
   },
   "outputs": [
    {
     "data": {
      "text/plain": [
       "-0.06691600517718299"
      ]
     },
     "execution_count": 23,
     "metadata": {},
     "output_type": "execute_result"
    }
   ],
   "source": [
    "np.mean(sampleA)"
   ]
  },
  {
   "cell_type": "code",
   "execution_count": 24,
   "id": "2647d8ad-6aeb-49e2-a349-68cbfff6e7c4",
   "metadata": {
    "tags": []
   },
   "outputs": [
    {
     "data": {
      "text/plain": [
       "0.9816827527189232"
      ]
     },
     "execution_count": 24,
     "metadata": {},
     "output_type": "execute_result"
    }
   ],
   "source": [
    "np.std(sampleA)"
   ]
  },
  {
   "cell_type": "code",
   "execution_count": 25,
   "id": "c1f77dc6-3992-432b-b7ca-daaa11732953",
   "metadata": {
    "tags": []
   },
   "outputs": [
    {
     "data": {
      "text/plain": [
       "-0.024673107797170815"
      ]
     },
     "execution_count": 25,
     "metadata": {},
     "output_type": "execute_result"
    }
   ],
   "source": [
    "np.mean(sampleB)"
   ]
  },
  {
   "cell_type": "code",
   "execution_count": 28,
   "id": "75d8b88f-0994-4b61-9c4a-e736d878486e",
   "metadata": {
    "tags": []
   },
   "outputs": [
    {
     "data": {
      "text/plain": [
       "0.9125380471062732"
      ]
     },
     "execution_count": 28,
     "metadata": {},
     "output_type": "execute_result"
    }
   ],
   "source": [
    "np.std(sampleB)"
   ]
  },
  {
   "cell_type": "code",
   "execution_count": 27,
   "id": "2e7ae479-a4c5-4e8b-aea0-a24db8a7e453",
   "metadata": {
    "tags": []
   },
   "outputs": [
    {
     "data": {
      "text/plain": [
       "-0.005751650501538285"
      ]
     },
     "execution_count": 27,
     "metadata": {},
     "output_type": "execute_result"
    }
   ],
   "source": [
    "# take 1000 random samples for 100 times\n",
    "means = [np.mean(random.sample(Population, 1000)) for _ in range(100)]\n",
    "# take mean value of the mean values of random samples\n",
    "np.mean(means)"
   ]
  },
  {
   "cell_type": "code",
   "execution_count": 29,
   "id": "d8c041d6-d24b-4342-a048-7c4cd6417467",
   "metadata": {
    "tags": []
   },
   "outputs": [
    {
     "data": {
      "text/plain": [
       "0.9995133134283049"
      ]
     },
     "execution_count": 29,
     "metadata": {},
     "output_type": "execute_result"
    }
   ],
   "source": [
    "stddev = [np.std(random.sample(Population, 1000)) for _ in range(100)]\n",
    "np.mean(stddev)"
   ]
  },
  {
   "cell_type": "code",
   "execution_count": null,
   "id": "1af0e827-0974-4ef3-ae73-d4825f6e1bcf",
   "metadata": {},
   "outputs": [],
   "source": []
  }
 ],
 "metadata": {
  "kernelspec": {
   "display_name": "Python 3 (ipykernel)",
   "language": "python",
   "name": "python3"
  },
  "language_info": {
   "codemirror_mode": {
    "name": "ipython",
    "version": 3
   },
   "file_extension": ".py",
   "mimetype": "text/x-python",
   "name": "python",
   "nbconvert_exporter": "python",
   "pygments_lexer": "ipython3",
   "version": "3.11.5"
  }
 },
 "nbformat": 4,
 "nbformat_minor": 5
}
