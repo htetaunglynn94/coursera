{
 "cells": [
  {
   "cell_type": "code",
   "execution_count": 7,
   "id": "2c29a02d-b206-4186-af50-15578408beba",
   "metadata": {},
   "outputs": [],
   "source": [
    "import numpy as np\n",
    "import pandas as pd\n",
    "import seaborn as sns\n",
    "import matplotlib.pyplot as plt\n",
    "import statsmodels.api as sm\n",
    "%matplotlib inline\n",
    "import warnings\n",
    "warnings.filterwarnings('ignore')"
   ]
  },
  {
   "cell_type": "code",
   "execution_count": 8,
   "id": "4144cbf1-c1cf-4807-b612-0234a69e31a5",
   "metadata": {},
   "outputs": [
    {
     "data": {
      "text/html": [
       "<div>\n",
       "<style scoped>\n",
       "    .dataframe tbody tr th:only-of-type {\n",
       "        vertical-align: middle;\n",
       "    }\n",
       "\n",
       "    .dataframe tbody tr th {\n",
       "        vertical-align: top;\n",
       "    }\n",
       "\n",
       "    .dataframe thead th {\n",
       "        text-align: right;\n",
       "    }\n",
       "</style>\n",
       "<table border=\"1\" class=\"dataframe\">\n",
       "  <thead>\n",
       "    <tr style=\"text-align: right;\">\n",
       "      <th></th>\n",
       "      <th>SEQN</th>\n",
       "      <th>ALQ101</th>\n",
       "      <th>ALQ110</th>\n",
       "      <th>ALQ130</th>\n",
       "      <th>SMQ020</th>\n",
       "      <th>RIAGENDR</th>\n",
       "      <th>RIDAGEYR</th>\n",
       "      <th>RIDRETH1</th>\n",
       "      <th>DMDCITZN</th>\n",
       "      <th>DMDEDUC2</th>\n",
       "      <th>...</th>\n",
       "      <th>BPXSY2</th>\n",
       "      <th>BPXDI2</th>\n",
       "      <th>BMXWT</th>\n",
       "      <th>BMXHT</th>\n",
       "      <th>BMXBMI</th>\n",
       "      <th>BMXLEG</th>\n",
       "      <th>BMXARML</th>\n",
       "      <th>BMXARMC</th>\n",
       "      <th>BMXWAIST</th>\n",
       "      <th>HIQ210</th>\n",
       "    </tr>\n",
       "  </thead>\n",
       "  <tbody>\n",
       "    <tr>\n",
       "      <th>0</th>\n",
       "      <td>83732</td>\n",
       "      <td>1.0</td>\n",
       "      <td>NaN</td>\n",
       "      <td>1.0</td>\n",
       "      <td>1</td>\n",
       "      <td>1</td>\n",
       "      <td>62</td>\n",
       "      <td>3</td>\n",
       "      <td>1.0</td>\n",
       "      <td>5.0</td>\n",
       "      <td>...</td>\n",
       "      <td>124.0</td>\n",
       "      <td>64.0</td>\n",
       "      <td>94.8</td>\n",
       "      <td>184.5</td>\n",
       "      <td>27.8</td>\n",
       "      <td>43.3</td>\n",
       "      <td>43.6</td>\n",
       "      <td>35.9</td>\n",
       "      <td>101.1</td>\n",
       "      <td>2.0</td>\n",
       "    </tr>\n",
       "    <tr>\n",
       "      <th>1</th>\n",
       "      <td>83733</td>\n",
       "      <td>1.0</td>\n",
       "      <td>NaN</td>\n",
       "      <td>6.0</td>\n",
       "      <td>1</td>\n",
       "      <td>1</td>\n",
       "      <td>53</td>\n",
       "      <td>3</td>\n",
       "      <td>2.0</td>\n",
       "      <td>3.0</td>\n",
       "      <td>...</td>\n",
       "      <td>140.0</td>\n",
       "      <td>88.0</td>\n",
       "      <td>90.4</td>\n",
       "      <td>171.4</td>\n",
       "      <td>30.8</td>\n",
       "      <td>38.0</td>\n",
       "      <td>40.0</td>\n",
       "      <td>33.2</td>\n",
       "      <td>107.9</td>\n",
       "      <td>NaN</td>\n",
       "    </tr>\n",
       "    <tr>\n",
       "      <th>2</th>\n",
       "      <td>83734</td>\n",
       "      <td>1.0</td>\n",
       "      <td>NaN</td>\n",
       "      <td>NaN</td>\n",
       "      <td>1</td>\n",
       "      <td>1</td>\n",
       "      <td>78</td>\n",
       "      <td>3</td>\n",
       "      <td>1.0</td>\n",
       "      <td>3.0</td>\n",
       "      <td>...</td>\n",
       "      <td>132.0</td>\n",
       "      <td>44.0</td>\n",
       "      <td>83.4</td>\n",
       "      <td>170.1</td>\n",
       "      <td>28.8</td>\n",
       "      <td>35.6</td>\n",
       "      <td>37.0</td>\n",
       "      <td>31.0</td>\n",
       "      <td>116.5</td>\n",
       "      <td>2.0</td>\n",
       "    </tr>\n",
       "    <tr>\n",
       "      <th>3</th>\n",
       "      <td>83735</td>\n",
       "      <td>2.0</td>\n",
       "      <td>1.0</td>\n",
       "      <td>1.0</td>\n",
       "      <td>2</td>\n",
       "      <td>2</td>\n",
       "      <td>56</td>\n",
       "      <td>3</td>\n",
       "      <td>1.0</td>\n",
       "      <td>5.0</td>\n",
       "      <td>...</td>\n",
       "      <td>134.0</td>\n",
       "      <td>68.0</td>\n",
       "      <td>109.8</td>\n",
       "      <td>160.9</td>\n",
       "      <td>42.4</td>\n",
       "      <td>38.5</td>\n",
       "      <td>37.7</td>\n",
       "      <td>38.3</td>\n",
       "      <td>110.1</td>\n",
       "      <td>2.0</td>\n",
       "    </tr>\n",
       "    <tr>\n",
       "      <th>4</th>\n",
       "      <td>83736</td>\n",
       "      <td>2.0</td>\n",
       "      <td>1.0</td>\n",
       "      <td>1.0</td>\n",
       "      <td>2</td>\n",
       "      <td>2</td>\n",
       "      <td>42</td>\n",
       "      <td>4</td>\n",
       "      <td>1.0</td>\n",
       "      <td>4.0</td>\n",
       "      <td>...</td>\n",
       "      <td>114.0</td>\n",
       "      <td>54.0</td>\n",
       "      <td>55.2</td>\n",
       "      <td>164.9</td>\n",
       "      <td>20.3</td>\n",
       "      <td>37.4</td>\n",
       "      <td>36.0</td>\n",
       "      <td>27.2</td>\n",
       "      <td>80.4</td>\n",
       "      <td>2.0</td>\n",
       "    </tr>\n",
       "  </tbody>\n",
       "</table>\n",
       "<p>5 rows × 28 columns</p>\n",
       "</div>"
      ],
      "text/plain": [
       "    SEQN  ALQ101  ALQ110  ALQ130  SMQ020  RIAGENDR  RIDAGEYR  RIDRETH1  \\\n",
       "0  83732     1.0     NaN     1.0       1         1        62         3   \n",
       "1  83733     1.0     NaN     6.0       1         1        53         3   \n",
       "2  83734     1.0     NaN     NaN       1         1        78         3   \n",
       "3  83735     2.0     1.0     1.0       2         2        56         3   \n",
       "4  83736     2.0     1.0     1.0       2         2        42         4   \n",
       "\n",
       "   DMDCITZN  DMDEDUC2  ...  BPXSY2  BPXDI2  BMXWT  BMXHT  BMXBMI  BMXLEG  \\\n",
       "0       1.0       5.0  ...   124.0    64.0   94.8  184.5    27.8    43.3   \n",
       "1       2.0       3.0  ...   140.0    88.0   90.4  171.4    30.8    38.0   \n",
       "2       1.0       3.0  ...   132.0    44.0   83.4  170.1    28.8    35.6   \n",
       "3       1.0       5.0  ...   134.0    68.0  109.8  160.9    42.4    38.5   \n",
       "4       1.0       4.0  ...   114.0    54.0   55.2  164.9    20.3    37.4   \n",
       "\n",
       "   BMXARML  BMXARMC  BMXWAIST  HIQ210  \n",
       "0     43.6     35.9     101.1     2.0  \n",
       "1     40.0     33.2     107.9     NaN  \n",
       "2     37.0     31.0     116.5     2.0  \n",
       "3     37.7     38.3     110.1     2.0  \n",
       "4     36.0     27.2      80.4     2.0  \n",
       "\n",
       "[5 rows x 28 columns]"
      ]
     },
     "execution_count": 8,
     "metadata": {},
     "output_type": "execute_result"
    }
   ],
   "source": [
    "d = pd.read_csv('nhanes_2015_2016.csv')\n",
    "d.head()"
   ]
  },
  {
   "cell_type": "code",
   "execution_count": 9,
   "id": "ebc3548d-5cf9-4f84-831f-7723ddc93fd9",
   "metadata": {},
   "outputs": [
    {
     "data": {
      "text/plain": [
       "DMDEDUC2\n",
       "4.0    1621\n",
       "5.0    1366\n",
       "3.0    1186\n",
       "1.0     655\n",
       "2.0     643\n",
       "9.0       3\n",
       "Name: count, dtype: int64"
      ]
     },
     "execution_count": 9,
     "metadata": {},
     "output_type": "execute_result"
    }
   ],
   "source": [
    "d.DMDEDUC2.value_counts()"
   ]
  },
  {
   "cell_type": "markdown",
   "id": "44f5937c-ede3-48f9-9e5f-ab872bc093ae",
   "metadata": {},
   "source": [
    "`value_counts()` method excludes missing values. Let's confirm..."
   ]
  },
  {
   "cell_type": "code",
   "execution_count": 10,
   "id": "dd7ba982-f1d0-4d4d-be11-29e0a5b09870",
   "metadata": {},
   "outputs": [
    {
     "name": "stdout",
     "output_type": "stream",
     "text": [
      "5474\n",
      "5474\n",
      "(5735, 28)\n"
     ]
    }
   ],
   "source": [
    "print(d.DMDEDUC2.value_counts().sum())\n",
    "print(1621+1366+1186+655+643+3)\n",
    "print(d.shape)"
   ]
  },
  {
   "cell_type": "code",
   "execution_count": 11,
   "id": "75cd3ead-4b5b-427a-b033-b78141f53bbd",
   "metadata": {},
   "outputs": [
    {
     "data": {
      "text/plain": [
       "261"
      ]
     },
     "execution_count": 11,
     "metadata": {},
     "output_type": "execute_result"
    }
   ],
   "source": [
    "d.DMDEDUC2.isnull().sum()"
   ]
  },
  {
   "cell_type": "markdown",
   "id": "6b47a41e-727b-405e-bd4f-1c16ea05a666",
   "metadata": {},
   "source": [
    "In some cases it is useful to [replace](https://pandas.pydata.org/pandas-docs/stable/generated/pandas.Series.replace.html) integer codes with a text label that reflects the code's meaning.  Below we create a new variable called 'DMDEDUC2x' that is recoded with text labels, then we generate its frequency distribution."
   ]
  },
  {
   "cell_type": "code",
   "execution_count": 12,
   "id": "1487752a-df14-421e-8eae-7ea2a5e999e0",
   "metadata": {},
   "outputs": [
    {
     "data": {
      "text/plain": [
       "DMDEDUC2x\n",
       "Some college/AA    1621\n",
       "College            1366\n",
       "HS/GED             1186\n",
       "<9                  655\n",
       "9-11                643\n",
       "Don't know            3\n",
       "Name: count, dtype: int64"
      ]
     },
     "execution_count": 12,
     "metadata": {},
     "output_type": "execute_result"
    }
   ],
   "source": [
    "d[\"DMDEDUC2x\"] = d.DMDEDUC2.replace({1: \"<9\", 2: \"9-11\", 3: \"HS/GED\", 4: \"Some college/AA\", 5: \"College\", \n",
    "                                       7: \"Refused\", 9: \"Don't know\"})\n",
    "x = d.DMDEDUC2x.value_counts()\n",
    "x"
   ]
  },
  {
   "cell_type": "code",
   "execution_count": 13,
   "id": "70fe64b4-9a08-4335-9011-4512dbee24d3",
   "metadata": {},
   "outputs": [],
   "source": [
    "d[\"RIAGENDRx\"] = d.RIAGENDR.replace({1: \"Male\", 2: \"Female\"})"
   ]
  },
  {
   "cell_type": "code",
   "execution_count": 14,
   "id": "1ef35434-3042-4737-aa8a-c79cce56ad1b",
   "metadata": {},
   "outputs": [
    {
     "data": {
      "text/plain": [
       "DMDEDUC2x\n",
       "Some college/AA    0.296127\n",
       "College            0.249543\n",
       "HS/GED             0.216661\n",
       "<9                 0.119657\n",
       "9-11               0.117464\n",
       "Don't know         0.000548\n",
       "Name: count, dtype: float64"
      ]
     },
     "execution_count": 14,
     "metadata": {},
     "output_type": "execute_result"
    }
   ],
   "source": [
    "x/x.sum()"
   ]
  },
  {
   "cell_type": "markdown",
   "id": "4ff17b97-c154-4b7e-af4e-b371eea2d088",
   "metadata": {},
   "source": [
    "# Numerical summaries"
   ]
  },
  {
   "cell_type": "code",
   "execution_count": 15,
   "id": "69194f15-d946-4766-82fb-b0e8b2a751d2",
   "metadata": {
    "collapsed": true,
    "jupyter": {
     "outputs_hidden": true
    }
   },
   "outputs": [
    {
     "data": {
      "text/plain": [
       "count    5666.000000\n",
       "mean       81.342676\n",
       "std        21.764409\n",
       "min        32.400000\n",
       "25%        65.900000\n",
       "50%        78.200000\n",
       "75%        92.700000\n",
       "max       198.900000\n",
       "Name: BMXWT, dtype: float64"
      ]
     },
     "execution_count": 15,
     "metadata": {},
     "output_type": "execute_result"
    }
   ],
   "source": [
    "d.BMXWT.dropna().describe()"
   ]
  },
  {
   "cell_type": "code",
   "execution_count": 16,
   "id": "bdfd7bd1-fa30-4cb7-8c80-005ba438acab",
   "metadata": {},
   "outputs": [
    {
     "name": "stdout",
     "output_type": "stream",
     "text": [
      "81.34267560889516\n",
      "81.34267560889516\n",
      "78.2\n",
      "78.2\n",
      "92.7\n",
      "92.7\n"
     ]
    }
   ],
   "source": [
    "x = d.BMXWT.dropna()  # Extract all non-missing values of BMXWT into a variable called 'x'\n",
    "print(x.mean()) # Pandas method\n",
    "print(np.mean(x)) # Numpy function\n",
    "\n",
    "print(x.median())\n",
    "print(np.percentile(x, 50))  # 50th percentile, same as the median\n",
    "print(np.percentile(x, 75))  # 75th percentile\n",
    "print(x.quantile(0.75)) # Pandas method for quantiles, equivalent to 75th percentile"
   ]
  },
  {
   "cell_type": "code",
   "execution_count": 17,
   "id": "7903fc48-0f04-4894-b0b0-dd4764a81400",
   "metadata": {},
   "outputs": [
    {
     "data": {
      "text/plain": [
       "0.3741935483870968"
      ]
     },
     "execution_count": 17,
     "metadata": {},
     "output_type": "execute_result"
    }
   ],
   "source": [
    "np.mean((d.BPXSY1 >= 120) & (d.BPXSY2 <= 139))  # \"&\" means \"and\""
   ]
  },
  {
   "cell_type": "code",
   "execution_count": 18,
   "id": "63c3cc98-50d8-44f5-973c-d537e71976f1",
   "metadata": {},
   "outputs": [
    {
     "data": {
      "text/plain": [
       "0.14803836094158676"
      ]
     },
     "execution_count": 18,
     "metadata": {},
     "output_type": "execute_result"
    }
   ],
   "source": [
    "np.mean((d.BPXDI1 >= 80) & (d.BPXDI2 <= 89))"
   ]
  },
  {
   "cell_type": "code",
   "execution_count": 19,
   "id": "8c6280dd-ecd3-43a7-a2e1-190698963a72",
   "metadata": {},
   "outputs": [
    {
     "name": "stdout",
     "output_type": "stream",
     "text": [
      "0.43975588491717527\n"
     ]
    }
   ],
   "source": [
    "# boolean values\n",
    "a = (d.BPXSY1 >= 120) & (d.BPXSY2 <= 139)\n",
    "b = (d.BPXDI1 >= 80) & (d.BPXDI2 <= 89)\n",
    "print(np.mean(a | b))"
   ]
  },
  {
   "cell_type": "code",
   "execution_count": 20,
   "id": "ba7ac692-cfb3-4c47-9675-55942b46ac4c",
   "metadata": {},
   "outputs": [
    {
     "name": "stdout",
     "output_type": "stream",
     "text": [
      "0.6749860309182343\n",
      "0.3490407897187558\n"
     ]
    }
   ],
   "source": [
    "print(np.mean(d.BPXSY1 - d.BPXSY2))\n",
    "print(np.mean(d.BPXDI1 - d.BPXDI2))"
   ]
  },
  {
   "cell_type": "markdown",
   "id": "5915b3dc-a1b1-4605-a985-9b765dc7752c",
   "metadata": {},
   "source": [
    "# Graphical summaries"
   ]
  },
  {
   "cell_type": "code",
   "execution_count": 21,
   "id": "ebc58390-e203-4f9f-a8a6-915b25599e73",
   "metadata": {},
   "outputs": [
    {
     "data": {
      "text/plain": [
       "<Axes: xlabel='BMXWT', ylabel='Density'>"
      ]
     },
     "execution_count": 21,
     "metadata": {},
     "output_type": "execute_result"
    },
    {
     "data": {
      "image/png": "[encoded data removed]",
      "text/plain": [
       "<Figure size 640x480 with 1 Axes>"
      ]
     },
     "metadata": {},
     "output_type": "display_data"
    }
   ],
   "source": [
    "sns.distplot(d.BMXWT.dropna())"
   ]
  },
  {
   "cell_type": "code",
   "execution_count": 22,
   "id": "4e26609e-27df-4f78-8ee2-9b9718511646",
   "metadata": {},
   "outputs": [
    {
     "data": {
      "text/plain": [
       "<Axes: xlabel='BPXSY1', ylabel='Density'>"
      ]
     },
     "execution_count": 22,
     "metadata": {},
     "output_type": "execute_result"
    },
    {
     "data": {
      "image/png": "[encoded data removed]",
      "text/plain": [
       "<Figure size 640x480 with 1 Axes>"
      ]
     },
     "metadata": {},
     "output_type": "display_data"
    }
   ],
   "source": [
    "sns.distplot(d.BPXSY1.dropna())"
   ]
  },
  {
   "cell_type": "code",
   "execution_count": 23,
   "id": "2943825f-7849-4dbe-ada6-6524cb3db49c",
   "metadata": {},
   "outputs": [
    {
     "data": {
      "image/png": "[encoded data removed]",
      "text/plain": [
       "<Figure size 640x480 with 1 Axes>"
      ]
     },
     "metadata": {},
     "output_type": "display_data"
    }
   ],
   "source": [
    "bp = sns.boxplot(data=d.loc[:, [\"BPXSY1\", \"BPXSY2\", \"BPXDI1\", \"BPXDI2\"]])\n",
    "_ = bp.set_ylabel(\"Blood pressure in mm/Hg\")"
   ]
  },
  {
   "cell_type": "markdown",
   "id": "7e9d579e-8d42-476b-aa00-6ca027930baf",
   "metadata": {},
   "source": [
    "# Stratification\n",
    "\n",
    "One of the most effective ways to get more information out of a dataset is to divide it into smaller, more uniform subsets, and analyze each of these \"strata\" on its own.  We can then formally or informally compare the findings in the different strata.  When working with human subjects, it is very common to stratify on demographic factors such as age, sex, and race.\n",
    "\n",
    "To illustrate this technique, consider blood pressure, which is a value that tends to increase with age.  To see this trend in the NHANES data, we can [partition](https://pandas.pydata.org/pandas-docs/stable/generated/pandas.cut.html) the data into age strata, and construct side-by-side boxplots of the systolic blood pressure (SBP) distribution within each stratum.  Since age is a quantitative variable, we need to create a series of \"bins\" of similar SBP values in order to stratify the data.  Each box in the figure below is a summary of univariate data within a specific population stratum (here defined by age)."
   ]
  },
  {
   "cell_type": "code",
   "execution_count": 24,
   "id": "6416555f-bbed-4daf-bb27-c683193495d8",
   "metadata": {},
   "outputs": [
    {
     "data": {
      "text/plain": [
       "<Axes: xlabel='agegrp', ylabel='BPXSY1'>"
      ]
     },
     "execution_count": 24,
     "metadata": {},
     "output_type": "execute_result"
    },
    {
     "data": {
      "image/png": "[encoded data removed]",
      "text/plain": [
       "<Figure size 1200x500 with 1 Axes>"
      ]
     },
     "metadata": {},
     "output_type": "display_data"
    }
   ],
   "source": [
    "d[\"agegrp\"] = pd.cut(d.RIDAGEYR, [18, 30, 40, 50, 60, 70, 80]) # Create age strata based on these cut points\n",
    "plt.figure(figsize=(12,5))\n",
    "sns.boxplot(x='agegrp', y='BPXSY1', data=d)"
   ]
  },
  {
   "cell_type": "markdown",
   "id": "50cade04-a5a5-4946-9942-8d0593511f6d",
   "metadata": {},
   "source": [
    "Taking this a step further, it is also the case that blood pressure tends to differ between women and men.  While we could simply make two side-by-side boxplots to illustrate this contrast, it would be a bit odd to ignore age after already having established that it is strongly associated with blood pressure.  Therefore, we will doubly stratify the data by gender and age.\n",
    "\n",
    "We see from the figure below that within each gender, older people tend to have higher blood pressure than younger people.  However within an age band, the relationship between gender and systolic blood pressure is somewhat complex -- in younger people, men have substantially higher blood pressures than women of the same age.  However for people older than 50, this relationship becomes much weaker, and among people older than 70 it appears to reverse. It is also notable that the variation of these distributions, reflected in the height of each box in the boxplot, increases with age."
   ]
  },
  {
   "cell_type": "code",
   "execution_count": 25,
   "id": "a16df010-d2bd-4d21-a6f1-0a45ac601c33",
   "metadata": {},
   "outputs": [
    {
     "data": {
      "text/plain": [
       "<Axes: xlabel='agegrp', ylabel='BPXSY1'>"
      ]
     },
     "execution_count": 25,
     "metadata": {},
     "output_type": "execute_result"
    },
    {
     "data": {
      "image/png": "[encoded data removed]",
      "text/plain": [
       "<Figure size 1200x500 with 1 Axes>"
      ]
     },
     "metadata": {},
     "output_type": "display_data"
    }
   ],
   "source": [
    "d[\"agegrp\"] = pd.cut(d.RIDAGEYR, [18, 30, 40, 50, 60, 70, 80])\n",
    "plt.figure(figsize=(12,5))\n",
    "sns.boxplot(x='agegrp', y='BPXSY1', hue='RIAGENDRx', data=d)"
   ]
  },
  {
   "cell_type": "code",
   "execution_count": 26,
   "id": "154ca573-302b-476b-86b5-74c095e8f3bb",
   "metadata": {},
   "outputs": [
    {
     "data": {
      "text/plain": [
       "<Axes: xlabel='RIAGENDRx', ylabel='BPXSY1'>"
      ]
     },
     "execution_count": 26,
     "metadata": {},
     "output_type": "execute_result"
    },
    {
     "data": {
      "image/png": "[encoded data removed]",
      "text/plain": [
       "<Figure size 1200x500 with 1 Axes>"
      ]
     },
     "metadata": {},
     "output_type": "display_data"
    }
   ],
   "source": [
    "d[\"agegrp\"] = pd.cut(d.RIDAGEYR, [18, 30, 40, 50, 60, 70, 80])\n",
    "plt.figure(figsize=(12, 5))\n",
    "sns.boxplot(x=\"RIAGENDRx\", y=\"BPXSY1\", hue=\"agegrp\", data=d)"
   ]
  },
  {
   "cell_type": "markdown",
   "id": "97198564-e05e-463a-b384-8484a4be8f83",
   "metadata": {},
   "source": [
    "Stratification can also be useful when working with categorical variables.  Below we look at the frequency distribution of educational attainment (\"DMDEDUC2\") within 10-year age bands.  While \"some college\" is the most common response in all age bands, up to around age 60 the second most common response is \"college\" (i.e. the person graduated from college with a four-year degree). However for people over 50, there are as many or more people with only high school or general equivalency diplomas (HS/GED) than there are college graduates. \n",
    "\n",
    "**Note on causality and confounding:** An important role of statistics is to aid researchers in identifying causes underlying observed differences.  Here we have seen differences in both blood pressure and educational attainment based on age.  It is plausible that aging directly causes blood pressure to increase.  But in the case of educational attainment, this is actually a \"birth cohort effect\".  NHANES is a cross sectional survey (all data for one wave were collected at a single point in time). People who were, say, 65 in 2015 (when these data were collected), were college-aged around 1970, while people who were in their 20's in 2015 were college-aged in around 2010 or later.  Over the last few decades, it has become much more common for people to at least begin a college degree than it was in the past.  Therefore, younger people as a group have higher educational attainment than older people as a group.  As these young people grow older, the cross sectional relationship between age and educational attainment will change."
   ]
  },
  {
   "cell_type": "code",
   "execution_count": 27,
   "id": "17f39e2a-c341-4f9a-ada6-0648003c8ef9",
   "metadata": {},
   "outputs": [
    {
     "data": {
      "text/plain": [
       "agegrp\n",
       "(18, 30]    1025\n",
       "(30, 40]     932\n",
       "(40, 50]     903\n",
       "(50, 60]     924\n",
       "(60, 70]     878\n",
       "(70, 80]     812\n",
       "Name: DMDEDUC2x, dtype: int64"
      ]
     },
     "execution_count": 27,
     "metadata": {},
     "output_type": "execute_result"
    }
   ],
   "source": [
    "d.groupby(\"agegrp\")[\"DMDEDUC2x\"].count()"
   ]
  },
  {
   "cell_type": "code",
   "execution_count": 28,
   "id": "d7ca645f-11ed-4767-835f-85136a6479ef",
   "metadata": {},
   "outputs": [
    {
     "data": {
      "text/plain": [
       "agegrp    DMDEDUC2x      \n",
       "(18, 30]  Some college/AA    364\n",
       "          College            278\n",
       "          HS/GED             237\n",
       "          9-11                99\n",
       "          <9                  47\n",
       "          Don't know           0\n",
       "(30, 40]  Some college/AA    282\n",
       "          College            264\n",
       "          HS/GED             182\n",
       "          9-11               111\n",
       "          <9                  93\n",
       "          Don't know           0\n",
       "(40, 50]  Some college/AA    262\n",
       "          College            260\n",
       "          HS/GED             171\n",
       "          9-11               112\n",
       "          <9                  98\n",
       "          Don't know           0\n",
       "(50, 60]  Some college/AA    258\n",
       "          College            220\n",
       "          HS/GED             220\n",
       "          9-11               122\n",
       "          <9                 104\n",
       "          Don't know           0\n",
       "(60, 70]  Some college/AA    238\n",
       "          HS/GED             192\n",
       "          College            188\n",
       "          <9                 149\n",
       "          9-11               111\n",
       "          Don't know           0\n",
       "(70, 80]  Some college/AA    217\n",
       "          HS/GED             184\n",
       "          <9                 164\n",
       "          College            156\n",
       "          9-11                88\n",
       "          Don't know           3\n",
       "Name: count, dtype: int64"
      ]
     },
     "execution_count": 28,
     "metadata": {},
     "output_type": "execute_result"
    }
   ],
   "source": [
    "d.groupby(\"agegrp\")[\"DMDEDUC2x\"].value_counts()"
   ]
  },
  {
   "cell_type": "markdown",
   "id": "517ec266-d5c3-491e-b56a-1068519e0d4f",
   "metadata": {},
   "source": [
    "We can also stratify jointly by age and gender to explore how educational attainment varies by both of these factors simultaneously.  In doing this, it is easier to interpret the results if we [pivot](https://pandas.pydata.org/pandas-docs/stable/reshaping.html#reshaping-by-stacking-and-unstacking) the education levels into the columns, and normalize the counts so that they sum to 1.  After doing this, the results can be interpreted as proportions or probabilities.  One notable observation from this table is that for people up to age around 60, women are more likely to have graduated from college than men, but for people over aged 60, this relationship reverses."
   ]
  },
  {
   "cell_type": "code",
   "execution_count": 29,
   "id": "264a2a9f-d30e-4a8a-a092-dc7e143b87ff",
   "metadata": {},
   "outputs": [
    {
     "data": {
      "text/plain": [
       "agegrp    RIAGENDRx  DMDEDUC2x      \n",
       "(18, 30]  Female     Some college/AA    207\n",
       "                     College            156\n",
       "                     HS/GED             119\n",
       "                     9-11                44\n",
       "                     <9                  27\n",
       "          Male       Some college/AA    157\n",
       "                     College            122\n",
       "                     HS/GED             118\n",
       "                     9-11                55\n",
       "                     <9                  20\n",
       "(30, 40]  Female     Some college/AA    159\n",
       "                     College            149\n",
       "                     HS/GED              78\n",
       "                     <9                  46\n",
       "                     9-11                42\n",
       "          Male       Some college/AA    123\n",
       "                     College            115\n",
       "                     HS/GED             104\n",
       "                     9-11                69\n",
       "                     <9                  47\n",
       "(40, 50]  Female     Some college/AA    157\n",
       "                     College            150\n",
       "                     HS/GED              87\n",
       "                     9-11                55\n",
       "                     <9                  53\n",
       "          Male       College            110\n",
       "                     Some college/AA    105\n",
       "                     HS/GED              84\n",
       "                     9-11                57\n",
       "                     <9                  45\n",
       "(50, 60]  Female     Some college/AA    142\n",
       "                     College            115\n",
       "                     HS/GED             110\n",
       "                     9-11                55\n",
       "                     <9                  48\n",
       "          Male       Some college/AA    116\n",
       "                     HS/GED             110\n",
       "                     College            105\n",
       "                     9-11                67\n",
       "                     <9                  56\n",
       "(60, 70]  Female     Some college/AA    129\n",
       "                     HS/GED              91\n",
       "                     College             86\n",
       "                     <9                  83\n",
       "                     9-11                52\n",
       "          Male       Some college/AA    109\n",
       "                     College            102\n",
       "                     HS/GED             101\n",
       "                     <9                  66\n",
       "                     9-11                59\n",
       "(70, 80]  Female     Some college/AA    115\n",
       "                     HS/GED              98\n",
       "                     <9                  92\n",
       "                     College             61\n",
       "                     9-11                43\n",
       "          Male       Some college/AA    102\n",
       "                     College             95\n",
       "                     HS/GED              86\n",
       "                     <9                  72\n",
       "                     9-11                45\n",
       "Name: count, dtype: int64"
      ]
     },
     "execution_count": 29,
     "metadata": {},
     "output_type": "execute_result"
    }
   ],
   "source": [
    "dx = d.loc[~d.DMDEDUC2x.isin([\"Don't know\", \"Missing\"]), :]  # Eliminate rare/missing values\n",
    "dx = dx.groupby([\"agegrp\", \"RIAGENDRx\"])[\"DMDEDUC2x\"].value_counts()\n",
    "dx"
   ]
  },
  {
   "cell_type": "code",
   "execution_count": 33,
   "id": "0a306a62-de31-46c0-a64e-629da9fb6707",
   "metadata": {},
   "outputs": [
    {
     "data": {
      "text/html": [
       "<div>\n",
       "<style scoped>\n",
       "    .dataframe tbody tr th:only-of-type {\n",
       "        vertical-align: middle;\n",
       "    }\n",
       "\n",
       "    .dataframe tbody tr th {\n",
       "        vertical-align: top;\n",
       "    }\n",
       "\n",
       "    .dataframe thead tr th {\n",
       "        text-align: left;\n",
       "    }\n",
       "\n",
       "    .dataframe thead tr:last-of-type th {\n",
       "        text-align: right;\n",
       "    }\n",
       "</style>\n",
       "<table border=\"1\" class=\"dataframe\">\n",
       "  <thead>\n",
       "    <tr>\n",
       "      <th>DMDEDUC2x</th>\n",
       "      <th colspan=\"2\" halign=\"left\">9-11</th>\n",
       "      <th colspan=\"2\" halign=\"left\">&lt;9</th>\n",
       "      <th colspan=\"2\" halign=\"left\">College</th>\n",
       "      <th colspan=\"2\" halign=\"left\">HS/GED</th>\n",
       "      <th colspan=\"2\" halign=\"left\">Some college/AA</th>\n",
       "    </tr>\n",
       "    <tr>\n",
       "      <th>RIAGENDRx</th>\n",
       "      <th>Female</th>\n",
       "      <th>Male</th>\n",
       "      <th>Female</th>\n",
       "      <th>Male</th>\n",
       "      <th>Female</th>\n",
       "      <th>Male</th>\n",
       "      <th>Female</th>\n",
       "      <th>Male</th>\n",
       "      <th>Female</th>\n",
       "      <th>Male</th>\n",
       "    </tr>\n",
       "    <tr>\n",
       "      <th>agegrp</th>\n",
       "      <th></th>\n",
       "      <th></th>\n",
       "      <th></th>\n",
       "      <th></th>\n",
       "      <th></th>\n",
       "      <th></th>\n",
       "      <th></th>\n",
       "      <th></th>\n",
       "      <th></th>\n",
       "      <th></th>\n",
       "    </tr>\n",
       "  </thead>\n",
       "  <tbody>\n",
       "    <tr>\n",
       "      <th>(18, 30]</th>\n",
       "      <td>44</td>\n",
       "      <td>55</td>\n",
       "      <td>27</td>\n",
       "      <td>20</td>\n",
       "      <td>156</td>\n",
       "      <td>122</td>\n",
       "      <td>119</td>\n",
       "      <td>118</td>\n",
       "      <td>207</td>\n",
       "      <td>157</td>\n",
       "    </tr>\n",
       "    <tr>\n",
       "      <th>(30, 40]</th>\n",
       "      <td>42</td>\n",
       "      <td>69</td>\n",
       "      <td>46</td>\n",
       "      <td>47</td>\n",
       "      <td>149</td>\n",
       "      <td>115</td>\n",
       "      <td>78</td>\n",
       "      <td>104</td>\n",
       "      <td>159</td>\n",
       "      <td>123</td>\n",
       "    </tr>\n",
       "    <tr>\n",
       "      <th>(40, 50]</th>\n",
       "      <td>55</td>\n",
       "      <td>57</td>\n",
       "      <td>53</td>\n",
       "      <td>45</td>\n",
       "      <td>150</td>\n",
       "      <td>110</td>\n",
       "      <td>87</td>\n",
       "      <td>84</td>\n",
       "      <td>157</td>\n",
       "      <td>105</td>\n",
       "    </tr>\n",
       "    <tr>\n",
       "      <th>(50, 60]</th>\n",
       "      <td>55</td>\n",
       "      <td>67</td>\n",
       "      <td>48</td>\n",
       "      <td>56</td>\n",
       "      <td>115</td>\n",
       "      <td>105</td>\n",
       "      <td>110</td>\n",
       "      <td>110</td>\n",
       "      <td>142</td>\n",
       "      <td>116</td>\n",
       "    </tr>\n",
       "    <tr>\n",
       "      <th>(60, 70]</th>\n",
       "      <td>52</td>\n",
       "      <td>59</td>\n",
       "      <td>83</td>\n",
       "      <td>66</td>\n",
       "      <td>86</td>\n",
       "      <td>102</td>\n",
       "      <td>91</td>\n",
       "      <td>101</td>\n",
       "      <td>129</td>\n",
       "      <td>109</td>\n",
       "    </tr>\n",
       "    <tr>\n",
       "      <th>(70, 80]</th>\n",
       "      <td>43</td>\n",
       "      <td>45</td>\n",
       "      <td>92</td>\n",
       "      <td>72</td>\n",
       "      <td>61</td>\n",
       "      <td>95</td>\n",
       "      <td>98</td>\n",
       "      <td>86</td>\n",
       "      <td>115</td>\n",
       "      <td>102</td>\n",
       "    </tr>\n",
       "  </tbody>\n",
       "</table>\n",
       "</div>"
      ],
      "text/plain": [
       "DMDEDUC2x   9-11          <9      College      HS/GED      Some college/AA  \\\n",
       "RIAGENDRx Female Male Female Male  Female Male Female Male          Female   \n",
       "agegrp                                                                       \n",
       "(18, 30]      44   55     27   20     156  122    119  118             207   \n",
       "(30, 40]      42   69     46   47     149  115     78  104             159   \n",
       "(40, 50]      55   57     53   45     150  110     87   84             157   \n",
       "(50, 60]      55   67     48   56     115  105    110  110             142   \n",
       "(60, 70]      52   59     83   66      86  102     91  101             129   \n",
       "(70, 80]      43   45     92   72      61   95     98   86             115   \n",
       "\n",
       "DMDEDUC2x       \n",
       "RIAGENDRx Male  \n",
       "agegrp          \n",
       "(18, 30]   157  \n",
       "(30, 40]   123  \n",
       "(40, 50]   105  \n",
       "(50, 60]   116  \n",
       "(60, 70]   109  \n",
       "(70, 80]   102  "
      ]
     },
     "execution_count": 33,
     "metadata": {},
     "output_type": "execute_result"
    }
   ],
   "source": [
    "dx = dx.unstack() # Restructure the results from 'long' to 'wide'\n",
    "dx"
   ]
  },
  {
   "cell_type": "code",
   "execution_count": 32,
   "id": "86dea2ff-7005-4f3d-ac75-d84853805d0c",
   "metadata": {},
   "outputs": [
    {
     "data": {
      "text/html": [
       "<div>\n",
       "<style scoped>\n",
       "    .dataframe tbody tr th:only-of-type {\n",
       "        vertical-align: middle;\n",
       "    }\n",
       "\n",
       "    .dataframe tbody tr th {\n",
       "        vertical-align: top;\n",
       "    }\n",
       "\n",
       "    .dataframe thead th {\n",
       "        text-align: right;\n",
       "    }\n",
       "</style>\n",
       "<table border=\"1\" class=\"dataframe\">\n",
       "  <thead>\n",
       "    <tr style=\"text-align: right;\">\n",
       "      <th></th>\n",
       "      <th>DMDEDUC2x</th>\n",
       "      <th>9-11</th>\n",
       "      <th>&lt;9</th>\n",
       "      <th>College</th>\n",
       "      <th>HS/GED</th>\n",
       "      <th>Some college/AA</th>\n",
       "    </tr>\n",
       "    <tr>\n",
       "      <th>agegrp</th>\n",
       "      <th>RIAGENDRx</th>\n",
       "      <th></th>\n",
       "      <th></th>\n",
       "      <th></th>\n",
       "      <th></th>\n",
       "      <th></th>\n",
       "    </tr>\n",
       "  </thead>\n",
       "  <tbody>\n",
       "    <tr>\n",
       "      <th rowspan=\"2\" valign=\"top\">(18, 30]</th>\n",
       "      <th>Female</th>\n",
       "      <td>0.079566</td>\n",
       "      <td>0.048825</td>\n",
       "      <td>0.282098</td>\n",
       "      <td>0.215190</td>\n",
       "      <td>0.374322</td>\n",
       "    </tr>\n",
       "    <tr>\n",
       "      <th>Male</th>\n",
       "      <td>0.116525</td>\n",
       "      <td>0.042373</td>\n",
       "      <td>0.258475</td>\n",
       "      <td>0.250000</td>\n",
       "      <td>0.332627</td>\n",
       "    </tr>\n",
       "    <tr>\n",
       "      <th rowspan=\"2\" valign=\"top\">(30, 40]</th>\n",
       "      <th>Female</th>\n",
       "      <td>0.088608</td>\n",
       "      <td>0.097046</td>\n",
       "      <td>0.314346</td>\n",
       "      <td>0.164557</td>\n",
       "      <td>0.335443</td>\n",
       "    </tr>\n",
       "    <tr>\n",
       "      <th>Male</th>\n",
       "      <td>0.150655</td>\n",
       "      <td>0.102620</td>\n",
       "      <td>0.251092</td>\n",
       "      <td>0.227074</td>\n",
       "      <td>0.268559</td>\n",
       "    </tr>\n",
       "    <tr>\n",
       "      <th rowspan=\"2\" valign=\"top\">(40, 50]</th>\n",
       "      <th>Female</th>\n",
       "      <td>0.109562</td>\n",
       "      <td>0.105578</td>\n",
       "      <td>0.298805</td>\n",
       "      <td>0.173307</td>\n",
       "      <td>0.312749</td>\n",
       "    </tr>\n",
       "    <tr>\n",
       "      <th>Male</th>\n",
       "      <td>0.142145</td>\n",
       "      <td>0.112219</td>\n",
       "      <td>0.274314</td>\n",
       "      <td>0.209476</td>\n",
       "      <td>0.261845</td>\n",
       "    </tr>\n",
       "    <tr>\n",
       "      <th rowspan=\"2\" valign=\"top\">(50, 60]</th>\n",
       "      <th>Female</th>\n",
       "      <td>0.117021</td>\n",
       "      <td>0.102128</td>\n",
       "      <td>0.244681</td>\n",
       "      <td>0.234043</td>\n",
       "      <td>0.302128</td>\n",
       "    </tr>\n",
       "    <tr>\n",
       "      <th>Male</th>\n",
       "      <td>0.147577</td>\n",
       "      <td>0.123348</td>\n",
       "      <td>0.231278</td>\n",
       "      <td>0.242291</td>\n",
       "      <td>0.255507</td>\n",
       "    </tr>\n",
       "    <tr>\n",
       "      <th rowspan=\"2\" valign=\"top\">(60, 70]</th>\n",
       "      <th>Female</th>\n",
       "      <td>0.117914</td>\n",
       "      <td>0.188209</td>\n",
       "      <td>0.195011</td>\n",
       "      <td>0.206349</td>\n",
       "      <td>0.292517</td>\n",
       "    </tr>\n",
       "    <tr>\n",
       "      <th>Male</th>\n",
       "      <td>0.135011</td>\n",
       "      <td>0.151030</td>\n",
       "      <td>0.233410</td>\n",
       "      <td>0.231121</td>\n",
       "      <td>0.249428</td>\n",
       "    </tr>\n",
       "    <tr>\n",
       "      <th rowspan=\"2\" valign=\"top\">(70, 80]</th>\n",
       "      <th>Female</th>\n",
       "      <td>0.105134</td>\n",
       "      <td>0.224939</td>\n",
       "      <td>0.149144</td>\n",
       "      <td>0.239609</td>\n",
       "      <td>0.281174</td>\n",
       "    </tr>\n",
       "    <tr>\n",
       "      <th>Male</th>\n",
       "      <td>0.112500</td>\n",
       "      <td>0.180000</td>\n",
       "      <td>0.237500</td>\n",
       "      <td>0.215000</td>\n",
       "      <td>0.255000</td>\n",
       "    </tr>\n",
       "  </tbody>\n",
       "</table>\n",
       "</div>"
      ],
      "text/plain": [
       "DMDEDUC2x               9-11        <9   College    HS/GED  Some college/AA\n",
       "agegrp   RIAGENDRx                                                         \n",
       "(18, 30] Female     0.079566  0.048825  0.282098  0.215190         0.374322\n",
       "         Male       0.116525  0.042373  0.258475  0.250000         0.332627\n",
       "(30, 40] Female     0.088608  0.097046  0.314346  0.164557         0.335443\n",
       "         Male       0.150655  0.102620  0.251092  0.227074         0.268559\n",
       "(40, 50] Female     0.109562  0.105578  0.298805  0.173307         0.312749\n",
       "         Male       0.142145  0.112219  0.274314  0.209476         0.261845\n",
       "(50, 60] Female     0.117021  0.102128  0.244681  0.234043         0.302128\n",
       "         Male       0.147577  0.123348  0.231278  0.242291         0.255507\n",
       "(60, 70] Female     0.117914  0.188209  0.195011  0.206349         0.292517\n",
       "         Male       0.135011  0.151030  0.233410  0.231121         0.249428\n",
       "(70, 80] Female     0.105134  0.224939  0.149144  0.239609         0.281174\n",
       "         Male       0.112500  0.180000  0.237500  0.215000         0.255000"
      ]
     },
     "execution_count": 32,
     "metadata": {},
     "output_type": "execute_result"
    }
   ],
   "source": [
    "dx.apply(lambda x: x/x.sum(), axis=1) # Normalize within each stratum to get proportions"
   ]
  },
  {
   "cell_type": "code",
   "execution_count": 34,
   "id": "1900fd69-f648-4a47-8c99-059e68d09b59",
   "metadata": {},
   "outputs": [
    {
     "name": "stdout",
     "output_type": "stream",
     "text": [
      "DMDEDUC2x   9-11          <9      College      HS/GED      Some college/AA     \n",
      "RIAGENDRx Female Male Female Male  Female Male Female Male          Female Male\n",
      "agegrp                                                                         \n",
      "(18, 30]      44   55     27   20     156  122    119  118             207  157\n",
      "(30, 40]      42   69     46   47     149  115     78  104             159  123\n",
      "(40, 50]      55   57     53   45     150  110     87   84             157  105\n",
      "(50, 60]      55   67     48   56     115  105    110  110             142  116\n",
      "(60, 70]      52   59     83   66      86  102     91  101             129  109\n",
      "(70, 80]      43   45     92   72      61   95     98   86             115  102\n"
     ]
    }
   ],
   "source": [
    "print(dx.to_string(float_format=\"%.3f\"))  # Limit display to 3 decimal places"
   ]
  },
  {
   "cell_type": "code",
   "execution_count": null,
   "id": "3a9f5268-c9ed-4a5f-bc92-44ca6343f2f1",
   "metadata": {},
   "outputs": [],
   "source": []
  }
 ],
 "metadata": {
  "kernelspec": {
   "display_name": "Python 3 (ipykernel)",
   "language": "python",
   "name": "python3"
  },
  "language_info": {
   "codemirror_mode": {
    "name": "ipython",
    "version": 3
   },
   "file_extension": ".py",
   "mimetype": "text/x-python",
   "name": "python",
   "nbconvert_exporter": "python",
   "pygments_lexer": "ipython3",
   "version": "3.9.15"
  }
 },
 "nbformat": 4,
 "nbformat_minor": 5
}
