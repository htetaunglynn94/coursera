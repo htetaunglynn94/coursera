{
  "metadata": {
    "kernelspec": {
      "name": "python",
      "display_name": "Python (Pyodide)",
      "language": "python"
    },
    "language_info": {
      "codemirror_mode": {
        "name": "python",
        "version": 3
      },
      "file_extension": ".py",
      "mimetype": "text/x-python",
      "name": "python",
      "nbconvert_exporter": "python",
      "pygments_lexer": "ipython3",
      "version": "3.8"
    },
    "prev_pub_hash": "268e960e6df0b7400b7a5b33026bac361b7009f0c84c6bdfa1bafb8799ee7e44"
  },
  "nbformat_minor": 4,
  "nbformat": 4,
  "cells": [
    {
      "cell_type": "markdown",
      "source": "<p style=\"text-align:center\">\n    <a href=\"https://skills.network\" target=\"_blank\">\n    <img src=\"https://cf-courses-data.s3.us.cloud-object-storage.appdomain.cloud/assets/logos/SN_web_lightmode.png\" width=\"200\" alt=\"Skills Network Logo\">\n    </a>\n</p>\n",
      "metadata": {}
    },
    {
      "cell_type": "markdown",
      "source": "# **Feature Engineering**\n",
      "metadata": {}
    },
    {
      "cell_type": "markdown",
      "source": "Estimated time needed: **45** minutes\n",
      "metadata": {}
    },
    {
      "cell_type": "markdown",
      "source": "A critical part of the successful Machine Learning project is coming up with a good set of features to train on. This process is called feature engineering, and it involves three steps: feature transformation (transforming the original features), feature selection (selecting the most useful features to train on), and feature extraction (combining existing features to produce more useful ones). In this notebook we will explore different tools in Feature Engineering.\n",
      "metadata": {}
    },
    {
      "cell_type": "markdown",
      "source": "## Objectives\n",
      "metadata": {}
    },
    {
      "cell_type": "markdown",
      "source": "After completing this lab you will be able to:\n",
      "metadata": {}
    },
    {
      "cell_type": "markdown",
      "source": "*   Understand the types of Feature Engineering\n    *   Feature Transformation\n        *   Dealing with Categorical Variables\n            *   One Hot Encoding\n            *   Label Encoding\n        *   Date Time Transformations\n    *   Feature Selection\n    *   Feature Extraction using Principal Component Analysis\n",
      "metadata": {}
    },
    {
      "cell_type": "markdown",
      "source": "***\n",
      "metadata": {}
    },
    {
      "cell_type": "markdown",
      "source": "## **Setup**\n",
      "metadata": {}
    },
    {
      "cell_type": "markdown",
      "source": "For this lab, we will be using the following libraries:\n\n*   [`pandas`](https://pandas.pydata.org/?utm_medium=Exinfluencer&utm_source=Exinfluencer&utm_content=000026UJ&utm_term=10006555&utm_id=NA-SkillsNetwork-Channel-SkillsNetworkCoursesIBMML0232ENSkillsNetwork30654641-2022-01-01) for managing the data.\n*   [`numpy`](https://numpy.org/?utm_medium=Exinfluencer&utm_source=Exinfluencer&utm_content=000026UJ&utm_term=10006555&utm_id=NA-SkillsNetwork-Channel-SkillsNetworkCoursesIBMML0232ENSkillsNetwork30654641-2022-01-01) for mathematical operations.\n*   [`seaborn`](https://seaborn.pydata.org/?utm_medium=Exinfluencer&utm_source=Exinfluencer&utm_content=000026UJ&utm_term=10006555&utm_id=NA-SkillsNetwork-Channel-SkillsNetworkCoursesIBMML0232ENSkillsNetwork30654641-2022-01-01) for visualizing the data.\n*   [`matplotlib`](https://matplotlib.org/?utm_medium=Exinfluencer&utm_source=Exinfluencer&utm_content=000026UJ&utm_term=10006555&utm_id=NA-SkillsNetwork-Channel-SkillsNetworkCoursesIBMML0232ENSkillsNetwork30654641-2022-01-01) for visualizing the data.\n*   [`plotly.express`](https://plotly.com/python/plotly-express/?utm_medium=Exinfluencer&utm_source=Exinfluencer&utm_content=000026UJ&utm_term=10006555&utm_id=NA-SkillsNetwork-Channel-SkillsNetworkCoursesIBMML0232ENSkillsNetwork30654641-2022-01-01) for visualizing the data.\n*   [`sklearn`](https://scikit-learn.org/stable/?utm_medium=Exinfluencer&utm_source=Exinfluencer&utm_content=000026UJ&utm_term=10006555&utm_id=NA-SkillsNetwork-Channel-SkillsNetworkCoursesIBMML0232ENSkillsNetwork30654641-2022-01-01) for machine learning and machine-learning-pipeline related functions.\n",
      "metadata": {}
    },
    {
      "cell_type": "markdown",
      "source": "## **Installing Required Libraries**\n",
      "metadata": {}
    },
    {
      "cell_type": "markdown",
      "source": "The following required modules are pre-installed in the Skills Network Labs environment. However if you run this notebook commands in a different Jupyter environment (e.g. Watson Studio or Ananconda) you will need to install these libraries by removing the `#` sign before `!mamba` in the code cell below.\n",
      "metadata": {}
    },
    {
      "cell_type": "code",
      "source": "# All Libraries required for this lab are listed below. The libraries pre-installed on Skills Network Labs are commented.\n# !mamba install -qy pandas==1.3.4 numpy==1.21.4 seaborn==0.9.0 matplotlib==3.5.0 scikit-learn==0.20.1\n# Note: If your environment doesn't support \"!mamba install\", use \"!pip install\"",
      "metadata": {},
      "outputs": [],
      "execution_count": null
    },
    {
      "cell_type": "code",
      "source": "import piplite\nawait piplite.install(['pandas', 'numpy', 'seaborn', 'matplotlib', \n                       'scikit-learn', 'plotly','openpyxl', 'nbformat>=4.2.0'])",
      "metadata": {
        "trusted": true
      },
      "outputs": [],
      "execution_count": 2
    },
    {
      "cell_type": "code",
      "source": "# Surpress warnings from using older version of sklearn:\ndef warn(*args, **kwargs):\n    pass\nimport warnings\nwarnings.warn = warn",
      "metadata": {
        "trusted": true
      },
      "outputs": [],
      "execution_count": 3
    },
    {
      "cell_type": "code",
      "source": "import pandas as pd\nimport numpy as np\n\nimport matplotlib.pyplot as plt\n%matplotlib inline\nimport seaborn as sns\nimport plotly.express as px\n\nfrom sklearn.preprocessing import StandardScaler\nfrom sklearn.decomposition import PCA",
      "metadata": {
        "trusted": true
      },
      "outputs": [],
      "execution_count": 4
    },
    {
      "cell_type": "markdown",
      "source": "## **Reading and understanding our data**\n",
      "metadata": {}
    },
    {
      "cell_type": "markdown",
      "source": "For this lab, we will be using the airlines_data.xlsx file, hosted on IBM Cloud object. This dataset contains the prices of flight tickets for various airlines between the months of March and June of 2019 and between various cities. This dataset is often used for prediction analysis of the flight prices which are influenced by various factors, such as name of the airline, date of journey, route, departure and arrival times, the source and the destination of the trip, duration and other parameters.\n\nIn this notebook, we will use the airlines dataset to perform feature engineering on some of its independent variables.\n",
      "metadata": {}
    },
    {
      "cell_type": "markdown",
      "source": "Let's start by reading the data into *pandas* data frame and looking at the first 5 rows using the `head()` method.\n",
      "metadata": {}
    },
    {
      "cell_type": "code",
      "source": "from pyodide.http import pyfetch\n \nasync def download(url, filename):\n    response = await pyfetch(url)\n    if response.status == 200:\n        with open(filename, \"wb\") as f:\n            f.write(await response.bytes())\n            \npath = \"https://cf-courses-data.s3.us.cloud-object-storage.appdomain.cloud/IBM-ML0232EN-SkillsNetwork/asset/airlines_data.xlsx\"\n \nawait download(path, \"airlines_data.xlsx\")\n \ndata = pd.read_excel(\"airlines_data.xlsx\")\n \ndata.head()",
      "metadata": {
        "trusted": true
      },
      "outputs": [
        {
          "execution_count": 5,
          "output_type": "execute_result",
          "data": {
            "text/plain": "       Airline Date_of_Journey    Source Destination                  Route  \\\n0       IndiGo      24/03/2019  Banglore   New Delhi              BLR → DEL   \n1    Air India       1/05/2019   Kolkata    Banglore  CCU → IXR → BBI → BLR   \n2  Jet Airways       9/06/2019     Delhi      Cochin  DEL → LKO → BOM → COK   \n3       IndiGo      12/05/2019   Kolkata    Banglore        CCU → NAG → BLR   \n4       IndiGo      01/03/2019  Banglore   New Delhi        BLR → NAG → DEL   \n\n  Dep_Time  Arrival_Time Duration Total_Stops Additional_Info  Price  \n0    22:20  01:10 22 Mar   2h 50m    non-stop         No info   3897  \n1    05:50         13:15   7h 25m     2 stops         No info   7662  \n2    09:25  04:25 10 Jun      19h     2 stops         No info  13882  \n3    18:05         23:30   5h 25m      1 stop         No info   6218  \n4    16:50         21:35   4h 45m      1 stop         No info  13302  ",
            "text/html": "<div>\n<style scoped>\n    .dataframe tbody tr th:only-of-type {\n        vertical-align: middle;\n    }\n\n    .dataframe tbody tr th {\n        vertical-align: top;\n    }\n\n    .dataframe thead th {\n        text-align: right;\n    }\n</style>\n<table border=\"1\" class=\"dataframe\">\n  <thead>\n    <tr style=\"text-align: right;\">\n      <th></th>\n      <th>Airline</th>\n      <th>Date_of_Journey</th>\n      <th>Source</th>\n      <th>Destination</th>\n      <th>Route</th>\n      <th>Dep_Time</th>\n      <th>Arrival_Time</th>\n      <th>Duration</th>\n      <th>Total_Stops</th>\n      <th>Additional_Info</th>\n      <th>Price</th>\n    </tr>\n  </thead>\n  <tbody>\n    <tr>\n      <th>0</th>\n      <td>IndiGo</td>\n      <td>24/03/2019</td>\n      <td>Banglore</td>\n      <td>New Delhi</td>\n      <td>BLR → DEL</td>\n      <td>22:20</td>\n      <td>01:10 22 Mar</td>\n      <td>2h 50m</td>\n      <td>non-stop</td>\n      <td>No info</td>\n      <td>3897</td>\n    </tr>\n    <tr>\n      <th>1</th>\n      <td>Air India</td>\n      <td>1/05/2019</td>\n      <td>Kolkata</td>\n      <td>Banglore</td>\n      <td>CCU → IXR → BBI → BLR</td>\n      <td>05:50</td>\n      <td>13:15</td>\n      <td>7h 25m</td>\n      <td>2 stops</td>\n      <td>No info</td>\n      <td>7662</td>\n    </tr>\n    <tr>\n      <th>2</th>\n      <td>Jet Airways</td>\n      <td>9/06/2019</td>\n      <td>Delhi</td>\n      <td>Cochin</td>\n      <td>DEL → LKO → BOM → COK</td>\n      <td>09:25</td>\n      <td>04:25 10 Jun</td>\n      <td>19h</td>\n      <td>2 stops</td>\n      <td>No info</td>\n      <td>13882</td>\n    </tr>\n    <tr>\n      <th>3</th>\n      <td>IndiGo</td>\n      <td>12/05/2019</td>\n      <td>Kolkata</td>\n      <td>Banglore</td>\n      <td>CCU → NAG → BLR</td>\n      <td>18:05</td>\n      <td>23:30</td>\n      <td>5h 25m</td>\n      <td>1 stop</td>\n      <td>No info</td>\n      <td>6218</td>\n    </tr>\n    <tr>\n      <th>4</th>\n      <td>IndiGo</td>\n      <td>01/03/2019</td>\n      <td>Banglore</td>\n      <td>New Delhi</td>\n      <td>BLR → NAG → DEL</td>\n      <td>16:50</td>\n      <td>21:35</td>\n      <td>4h 45m</td>\n      <td>1 stop</td>\n      <td>No info</td>\n      <td>13302</td>\n    </tr>\n  </tbody>\n</table>\n</div>"
          },
          "metadata": {}
        }
      ],
      "execution_count": 5
    },
    {
      "cell_type": "markdown",
      "source": "By using the `info` function, we will take a look at the types of data that our dataset contains.\n",
      "metadata": {}
    },
    {
      "cell_type": "code",
      "source": "data.info()",
      "metadata": {
        "trusted": true
      },
      "outputs": [
        {
          "name": "stdout",
          "text": "<class 'pandas.core.frame.DataFrame'>\nRangeIndex: 10683 entries, 0 to 10682\nData columns (total 11 columns):\n #   Column           Non-Null Count  Dtype \n---  ------           --------------  ----- \n 0   Airline          10683 non-null  object\n 1   Date_of_Journey  10683 non-null  object\n 2   Source           10683 non-null  object\n 3   Destination      10683 non-null  object\n 4   Route            10682 non-null  object\n 5   Dep_Time         10683 non-null  object\n 6   Arrival_Time     10683 non-null  object\n 7   Duration         10683 non-null  object\n 8   Total_Stops      10682 non-null  object\n 9   Additional_Info  10683 non-null  object\n 10  Price            10683 non-null  int64 \ndtypes: int64(1), object(10)\nmemory usage: 500.8+ KB\n",
          "output_type": "stream"
        }
      ],
      "execution_count": 6
    },
    {
      "cell_type": "markdown",
      "source": "As we see from the output above, we mostly have object data types, except for the 'price' column, which is an integer.\n",
      "metadata": {}
    },
    {
      "cell_type": "markdown",
      "source": "The `describe()` function provides the statistical information about the numerical variables. In our case, it is the 'price' variable.\n",
      "metadata": {}
    },
    {
      "cell_type": "code",
      "source": "data.describe()",
      "metadata": {
        "trusted": true
      },
      "outputs": [
        {
          "execution_count": 7,
          "output_type": "execute_result",
          "data": {
            "text/plain": "              Price\ncount  10683.000000\nmean    9087.064121\nstd     4611.359167\nmin     1759.000000\n25%     5277.000000\n50%     8372.000000\n75%    12373.000000\nmax    79512.000000",
            "text/html": "<div>\n<style scoped>\n    .dataframe tbody tr th:only-of-type {\n        vertical-align: middle;\n    }\n\n    .dataframe tbody tr th {\n        vertical-align: top;\n    }\n\n    .dataframe thead th {\n        text-align: right;\n    }\n</style>\n<table border=\"1\" class=\"dataframe\">\n  <thead>\n    <tr style=\"text-align: right;\">\n      <th></th>\n      <th>Price</th>\n    </tr>\n  </thead>\n  <tbody>\n    <tr>\n      <th>count</th>\n      <td>10683.000000</td>\n    </tr>\n    <tr>\n      <th>mean</th>\n      <td>9087.064121</td>\n    </tr>\n    <tr>\n      <th>std</th>\n      <td>4611.359167</td>\n    </tr>\n    <tr>\n      <th>min</th>\n      <td>1759.000000</td>\n    </tr>\n    <tr>\n      <th>25%</th>\n      <td>5277.000000</td>\n    </tr>\n    <tr>\n      <th>50%</th>\n      <td>8372.000000</td>\n    </tr>\n    <tr>\n      <th>75%</th>\n      <td>12373.000000</td>\n    </tr>\n    <tr>\n      <th>max</th>\n      <td>79512.000000</td>\n    </tr>\n  </tbody>\n</table>\n</div>"
          },
          "metadata": {}
        }
      ],
      "execution_count": 7
    },
    {
      "cell_type": "markdown",
      "source": "Next, we will check for any null values.\n",
      "metadata": {}
    },
    {
      "cell_type": "code",
      "source": "data.isnull().sum()",
      "metadata": {
        "trusted": true
      },
      "outputs": [
        {
          "execution_count": 8,
          "output_type": "execute_result",
          "data": {
            "text/plain": "Airline            0\nDate_of_Journey    0\nSource             0\nDestination        0\nRoute              1\nDep_Time           0\nArrival_Time       0\nDuration           0\nTotal_Stops        1\nAdditional_Info    0\nPrice              0\ndtype: int64"
          },
          "metadata": {}
        }
      ],
      "execution_count": 8
    },
    {
      "cell_type": "markdown",
      "source": "Now that we have found some null points, we need to either remove them from our dataset or fill them with something else. In this case, we will use `fillna()` and `method='ffill'`, which fills the last observed non-null value forward until another non-null value is encountered.\n",
      "metadata": {}
    },
    {
      "cell_type": "code",
      "source": "data = data.fillna(method='ffill') \n# 'ffill' ရှေ့ကဟာကိုပြန်ကူးယူပြီဖြည့်တာ",
      "metadata": {
        "trusted": true
      },
      "outputs": [],
      "execution_count": 9
    },
    {
      "cell_type": "markdown",
      "source": "## **Feature Transformation**\n",
      "metadata": {}
    },
    {
      "cell_type": "markdown",
      "source": "Feature Transformation means transforming our features to the functions of the original features. For example, feature encoding, scaling, and discretization (the process of transforming continuous variables into discrete form, by creating bins or intervals) are the most common forms of data transformation.\n",
      "metadata": {}
    },
    {
      "cell_type": "markdown",
      "source": "### **Dealing with Categorical Variables**\n",
      "metadata": {}
    },
    {
      "cell_type": "markdown",
      "source": "Categorical variables represent qualitative data with no apparent inherent mathematical meaning. Therefore, for any machine learning analysis, all the categorical data must be transformed into the numerical data types. First, we'll start with 'Airlines' column, as it contains categorical values. We will use `unique()` method to obtain all the categories in this column.\n",
      "metadata": {}
    },
    {
      "cell_type": "code",
      "source": "data['Airline'].unique().tolist()",
      "metadata": {
        "trusted": true
      },
      "outputs": [
        {
          "execution_count": 10,
          "output_type": "execute_result",
          "data": {
            "text/plain": "['IndiGo',\n 'Air India',\n 'Jet Airways',\n 'SpiceJet',\n 'Multiple carriers',\n 'GoAir',\n 'Vistara',\n 'Air Asia',\n 'Vistara Premium economy',\n 'Jet Airways Business',\n 'Multiple carriers Premium economy',\n 'Trujet']"
          },
          "metadata": {}
        }
      ],
      "execution_count": 10
    },
    {
      "cell_type": "markdown",
      "source": "From the above list, we notice that some of the airline names are being repeated. For example, 'Jet Airways' and 'Jet Airways Business'. This means that some of the airlines are subdivided into separate parts. We will combine these 'two-parts' airlines to make our categorical features more consistent with the rest of the variables.\n\nHere, we will use the *numpy* `where()` function to locate and combine the two categories.\n",
      "metadata": {}
    },
    {
      "cell_type": "code",
      "source": "data['Airline'] = np.where(data['Airline']=='Vistara Premium economy', 'Vistara', data['Airline'])\ndata['Airline'] = np.where(data['Airline']=='Jet Airways Business', 'Jet Airways', data['Airline'])\n# like IF() function in Excel",
      "metadata": {
        "trusted": true
      },
      "outputs": [],
      "execution_count": 11
    },
    {
      "cell_type": "markdown",
      "source": "## Exercise 1\n\nIn this exercise, use `np.where()` function to combine 'Multiple carriers Premium economy' and 'Multiple carriers' categories, like shown in the code above. Print the newly created list using `unique().tolist()` functions.\n",
      "metadata": {}
    },
    {
      "cell_type": "code",
      "source": "data['Airline'] = np.where(data['Airline'] == 'Multiple carriers Premium economy', \n                           'Multiple carriers', data['Airline'])\ndata['Airline'].unique().tolist()",
      "metadata": {
        "trusted": true
      },
      "outputs": [
        {
          "execution_count": 12,
          "output_type": "execute_result",
          "data": {
            "text/plain": "['IndiGo',\n 'Air India',\n 'Jet Airways',\n 'SpiceJet',\n 'Multiple carriers',\n 'GoAir',\n 'Vistara',\n 'Air Asia',\n 'Trujet']"
          },
          "metadata": {}
        }
      ],
      "execution_count": 12
    },
    {
      "cell_type": "markdown",
      "source": "<details>\n<summary><strong>Solution</strong> (Click Here)</summary>\n    &emsp; &emsp; <code>\n\ndata\\['Airline'] = np.where(data\\['Airline']=='Multiple carriers Premium economy', 'Multiple carriers', data\\['Airline'])\ndata\\['Airline'].unique().tolist()\n\n</code>\n</details>\n",
      "metadata": {}
    },
    {
      "cell_type": "markdown",
      "source": "#### **One Hot Encoding**\n",
      "metadata": {}
    },
    {
      "cell_type": "markdown",
      "source": "Now, to be recognized by a machine learning algorithms, our categorical variables should be converted into numerical ones. One way to do this is through *one hot encoding*. To learn more about this process, please visit this [documentation](https://scikit-learn.org/stable/modules/generated/sklearn.preprocessing.OneHotEncoder.html?utm_medium=Exinfluencer&utm_source=Exinfluencer&utm_content=000026UJ&utm_term=10006555&utm_id=NA-SkillsNetwork-Channel-SkillsNetworkCoursesIBMML0232ENSkillsNetwork30654641-2022-01-01).\n\nWe will use, `get_dummies()` method to do this transformation. In the next cell, we will transform 'Airline', 'Source', and 'Destination' into their respective numeric variables. We will put all the transformed data into a 'data1' data frame.\n",
      "metadata": {}
    },
    {
      "cell_type": "code",
      "source": "data1 = pd.get_dummies(data=data, columns = ['Airline', 'Source', 'Destination'])",
      "metadata": {
        "trusted": true
      },
      "outputs": [],
      "execution_count": 13
    },
    {
      "cell_type": "code",
      "source": "data1.head()",
      "metadata": {
        "trusted": true
      },
      "outputs": [
        {
          "execution_count": 14,
          "output_type": "execute_result",
          "data": {
            "text/plain": "  Date_of_Journey                  Route Dep_Time  Arrival_Time Duration  \\\n0      24/03/2019              BLR → DEL    22:20  01:10 22 Mar   2h 50m   \n1       1/05/2019  CCU → IXR → BBI → BLR    05:50         13:15   7h 25m   \n2       9/06/2019  DEL → LKO → BOM → COK    09:25  04:25 10 Jun      19h   \n3      12/05/2019        CCU → NAG → BLR    18:05         23:30   5h 25m   \n4      01/03/2019        BLR → NAG → DEL    16:50         21:35   4h 45m   \n\n  Total_Stops Additional_Info  Price  Airline_Air Asia  Airline_Air India  \\\n0    non-stop         No info   3897             False              False   \n1     2 stops         No info   7662             False               True   \n2     2 stops         No info  13882             False              False   \n3      1 stop         No info   6218             False              False   \n4      1 stop         No info  13302             False              False   \n\n   ...  Source_Chennai  Source_Delhi  Source_Kolkata  Source_Mumbai  \\\n0  ...           False         False           False          False   \n1  ...           False         False            True          False   \n2  ...           False          True           False          False   \n3  ...           False         False            True          False   \n4  ...           False         False           False          False   \n\n   Destination_Banglore  Destination_Cochin  Destination_Delhi  \\\n0                 False               False              False   \n1                  True               False              False   \n2                 False                True              False   \n3                  True               False              False   \n4                 False               False              False   \n\n   Destination_Hyderabad  Destination_Kolkata  Destination_New Delhi  \n0                  False                False                   True  \n1                  False                False                  False  \n2                  False                False                  False  \n3                  False                False                  False  \n4                  False                False                   True  \n\n[5 rows x 28 columns]",
            "text/html": "<div>\n<style scoped>\n    .dataframe tbody tr th:only-of-type {\n        vertical-align: middle;\n    }\n\n    .dataframe tbody tr th {\n        vertical-align: top;\n    }\n\n    .dataframe thead th {\n        text-align: right;\n    }\n</style>\n<table border=\"1\" class=\"dataframe\">\n  <thead>\n    <tr style=\"text-align: right;\">\n      <th></th>\n      <th>Date_of_Journey</th>\n      <th>Route</th>\n      <th>Dep_Time</th>\n      <th>Arrival_Time</th>\n      <th>Duration</th>\n      <th>Total_Stops</th>\n      <th>Additional_Info</th>\n      <th>Price</th>\n      <th>Airline_Air Asia</th>\n      <th>Airline_Air India</th>\n      <th>...</th>\n      <th>Source_Chennai</th>\n      <th>Source_Delhi</th>\n      <th>Source_Kolkata</th>\n      <th>Source_Mumbai</th>\n      <th>Destination_Banglore</th>\n      <th>Destination_Cochin</th>\n      <th>Destination_Delhi</th>\n      <th>Destination_Hyderabad</th>\n      <th>Destination_Kolkata</th>\n      <th>Destination_New Delhi</th>\n    </tr>\n  </thead>\n  <tbody>\n    <tr>\n      <th>0</th>\n      <td>24/03/2019</td>\n      <td>BLR → DEL</td>\n      <td>22:20</td>\n      <td>01:10 22 Mar</td>\n      <td>2h 50m</td>\n      <td>non-stop</td>\n      <td>No info</td>\n      <td>3897</td>\n      <td>False</td>\n      <td>False</td>\n      <td>...</td>\n      <td>False</td>\n      <td>False</td>\n      <td>False</td>\n      <td>False</td>\n      <td>False</td>\n      <td>False</td>\n      <td>False</td>\n      <td>False</td>\n      <td>False</td>\n      <td>True</td>\n    </tr>\n    <tr>\n      <th>1</th>\n      <td>1/05/2019</td>\n      <td>CCU → IXR → BBI → BLR</td>\n      <td>05:50</td>\n      <td>13:15</td>\n      <td>7h 25m</td>\n      <td>2 stops</td>\n      <td>No info</td>\n      <td>7662</td>\n      <td>False</td>\n      <td>True</td>\n      <td>...</td>\n      <td>False</td>\n      <td>False</td>\n      <td>True</td>\n      <td>False</td>\n      <td>True</td>\n      <td>False</td>\n      <td>False</td>\n      <td>False</td>\n      <td>False</td>\n      <td>False</td>\n    </tr>\n    <tr>\n      <th>2</th>\n      <td>9/06/2019</td>\n      <td>DEL → LKO → BOM → COK</td>\n      <td>09:25</td>\n      <td>04:25 10 Jun</td>\n      <td>19h</td>\n      <td>2 stops</td>\n      <td>No info</td>\n      <td>13882</td>\n      <td>False</td>\n      <td>False</td>\n      <td>...</td>\n      <td>False</td>\n      <td>True</td>\n      <td>False</td>\n      <td>False</td>\n      <td>False</td>\n      <td>True</td>\n      <td>False</td>\n      <td>False</td>\n      <td>False</td>\n      <td>False</td>\n    </tr>\n    <tr>\n      <th>3</th>\n      <td>12/05/2019</td>\n      <td>CCU → NAG → BLR</td>\n      <td>18:05</td>\n      <td>23:30</td>\n      <td>5h 25m</td>\n      <td>1 stop</td>\n      <td>No info</td>\n      <td>6218</td>\n      <td>False</td>\n      <td>False</td>\n      <td>...</td>\n      <td>False</td>\n      <td>False</td>\n      <td>True</td>\n      <td>False</td>\n      <td>True</td>\n      <td>False</td>\n      <td>False</td>\n      <td>False</td>\n      <td>False</td>\n      <td>False</td>\n    </tr>\n    <tr>\n      <th>4</th>\n      <td>01/03/2019</td>\n      <td>BLR → NAG → DEL</td>\n      <td>16:50</td>\n      <td>21:35</td>\n      <td>4h 45m</td>\n      <td>1 stop</td>\n      <td>No info</td>\n      <td>13302</td>\n      <td>False</td>\n      <td>False</td>\n      <td>...</td>\n      <td>False</td>\n      <td>False</td>\n      <td>False</td>\n      <td>False</td>\n      <td>False</td>\n      <td>False</td>\n      <td>False</td>\n      <td>False</td>\n      <td>False</td>\n      <td>True</td>\n    </tr>\n  </tbody>\n</table>\n<p>5 rows × 28 columns</p>\n</div>"
          },
          "metadata": {}
        }
      ],
      "execution_count": 14
    },
    {
      "cell_type": "markdown",
      "source": "Below, we will compare our original data frame with the transformed one.\n",
      "metadata": {}
    },
    {
      "cell_type": "code",
      "source": "data.shape",
      "metadata": {
        "trusted": true
      },
      "outputs": [
        {
          "execution_count": 15,
          "output_type": "execute_result",
          "data": {
            "text/plain": "(10683, 11)"
          },
          "metadata": {}
        }
      ],
      "execution_count": 15
    },
    {
      "cell_type": "code",
      "source": "data1.shape",
      "metadata": {
        "trusted": true
      },
      "outputs": [
        {
          "execution_count": 16,
          "output_type": "execute_result",
          "data": {
            "text/plain": "(10683, 28)"
          },
          "metadata": {}
        }
      ],
      "execution_count": 16
    },
    {
      "cell_type": "markdown",
      "source": "As we can see, we went from 11 original features in our dataset to 38. This is because *Pandas* `get_dummies()` approach when applied to a column with different categories (e.g. different airlines) will produce a new column (variable) for each unique categorical value (for each unique airline). It will place a one in the column corresponding to the categorical value present for that observation.\n",
      "metadata": {}
    },
    {
      "cell_type": "markdown",
      "source": "## Exercise 2\n\nIn this exercise, use `value_counts()` to determine the values distribution of the 'Total_Stops' parameter.\n",
      "metadata": {}
    },
    {
      "cell_type": "code",
      "source": "data.Total_Stops.value_counts()",
      "metadata": {
        "trusted": true
      },
      "outputs": [
        {
          "execution_count": 17,
          "output_type": "execute_result",
          "data": {
            "text/plain": "Total_Stops\n1 stop      5625\nnon-stop    3492\n2 stops     1520\n3 stops       45\n4 stops        1\nName: count, dtype: int64"
          },
          "metadata": {}
        }
      ],
      "execution_count": 17
    },
    {
      "cell_type": "markdown",
      "source": "<details>\n<summary><strong>Solution</strong> (Click Here)</summary>\n    &emsp; &emsp; <code>\n\ndata\\[\"Total_Stops\"].value_counts()\n\n</code>\n</details>\n",
      "metadata": {}
    },
    {
      "cell_type": "markdown",
      "source": "#### **Label Encoding**\n",
      "metadata": {}
    },
    {
      "cell_type": "markdown",
      "source": "Since 'Total_Stops' is originally a categorical data type, we also need to convert it into numerical one. For this, we can perform a label encoding, where values are manually assigned to the corresponding keys, like \"0\" to a \"non-stop\", using the `replace()` function.\n",
      "metadata": {}
    },
    {
      "cell_type": "code",
      "source": "data1.replace({\"non-stop\":0,\"1 stop\":1,\"2 stops\":2,\"3 stops\":3,\"4 stops\":4},inplace=True)\ndata1.head()",
      "metadata": {
        "trusted": true
      },
      "outputs": [
        {
          "execution_count": 18,
          "output_type": "execute_result",
          "data": {
            "text/plain": "  Date_of_Journey                  Route Dep_Time  Arrival_Time Duration  \\\n0      24/03/2019              BLR → DEL    22:20  01:10 22 Mar   2h 50m   \n1       1/05/2019  CCU → IXR → BBI → BLR    05:50         13:15   7h 25m   \n2       9/06/2019  DEL → LKO → BOM → COK    09:25  04:25 10 Jun      19h   \n3      12/05/2019        CCU → NAG → BLR    18:05         23:30   5h 25m   \n4      01/03/2019        BLR → NAG → DEL    16:50         21:35   4h 45m   \n\n   Total_Stops Additional_Info  Price  Airline_Air Asia  Airline_Air India  \\\n0            0         No info   3897             False              False   \n1            2         No info   7662             False               True   \n2            2         No info  13882             False              False   \n3            1         No info   6218             False              False   \n4            1         No info  13302             False              False   \n\n   ...  Source_Chennai  Source_Delhi  Source_Kolkata  Source_Mumbai  \\\n0  ...           False         False           False          False   \n1  ...           False         False            True          False   \n2  ...           False          True           False          False   \n3  ...           False         False            True          False   \n4  ...           False         False           False          False   \n\n   Destination_Banglore  Destination_Cochin  Destination_Delhi  \\\n0                 False               False              False   \n1                  True               False              False   \n2                 False                True              False   \n3                  True               False              False   \n4                 False               False              False   \n\n   Destination_Hyderabad  Destination_Kolkata  Destination_New Delhi  \n0                  False                False                   True  \n1                  False                False                  False  \n2                  False                False                  False  \n3                  False                False                  False  \n4                  False                False                   True  \n\n[5 rows x 28 columns]",
            "text/html": "<div>\n<style scoped>\n    .dataframe tbody tr th:only-of-type {\n        vertical-align: middle;\n    }\n\n    .dataframe tbody tr th {\n        vertical-align: top;\n    }\n\n    .dataframe thead th {\n        text-align: right;\n    }\n</style>\n<table border=\"1\" class=\"dataframe\">\n  <thead>\n    <tr style=\"text-align: right;\">\n      <th></th>\n      <th>Date_of_Journey</th>\n      <th>Route</th>\n      <th>Dep_Time</th>\n      <th>Arrival_Time</th>\n      <th>Duration</th>\n      <th>Total_Stops</th>\n      <th>Additional_Info</th>\n      <th>Price</th>\n      <th>Airline_Air Asia</th>\n      <th>Airline_Air India</th>\n      <th>...</th>\n      <th>Source_Chennai</th>\n      <th>Source_Delhi</th>\n      <th>Source_Kolkata</th>\n      <th>Source_Mumbai</th>\n      <th>Destination_Banglore</th>\n      <th>Destination_Cochin</th>\n      <th>Destination_Delhi</th>\n      <th>Destination_Hyderabad</th>\n      <th>Destination_Kolkata</th>\n      <th>Destination_New Delhi</th>\n    </tr>\n  </thead>\n  <tbody>\n    <tr>\n      <th>0</th>\n      <td>24/03/2019</td>\n      <td>BLR → DEL</td>\n      <td>22:20</td>\n      <td>01:10 22 Mar</td>\n      <td>2h 50m</td>\n      <td>0</td>\n      <td>No info</td>\n      <td>3897</td>\n      <td>False</td>\n      <td>False</td>\n      <td>...</td>\n      <td>False</td>\n      <td>False</td>\n      <td>False</td>\n      <td>False</td>\n      <td>False</td>\n      <td>False</td>\n      <td>False</td>\n      <td>False</td>\n      <td>False</td>\n      <td>True</td>\n    </tr>\n    <tr>\n      <th>1</th>\n      <td>1/05/2019</td>\n      <td>CCU → IXR → BBI → BLR</td>\n      <td>05:50</td>\n      <td>13:15</td>\n      <td>7h 25m</td>\n      <td>2</td>\n      <td>No info</td>\n      <td>7662</td>\n      <td>False</td>\n      <td>True</td>\n      <td>...</td>\n      <td>False</td>\n      <td>False</td>\n      <td>True</td>\n      <td>False</td>\n      <td>True</td>\n      <td>False</td>\n      <td>False</td>\n      <td>False</td>\n      <td>False</td>\n      <td>False</td>\n    </tr>\n    <tr>\n      <th>2</th>\n      <td>9/06/2019</td>\n      <td>DEL → LKO → BOM → COK</td>\n      <td>09:25</td>\n      <td>04:25 10 Jun</td>\n      <td>19h</td>\n      <td>2</td>\n      <td>No info</td>\n      <td>13882</td>\n      <td>False</td>\n      <td>False</td>\n      <td>...</td>\n      <td>False</td>\n      <td>True</td>\n      <td>False</td>\n      <td>False</td>\n      <td>False</td>\n      <td>True</td>\n      <td>False</td>\n      <td>False</td>\n      <td>False</td>\n      <td>False</td>\n    </tr>\n    <tr>\n      <th>3</th>\n      <td>12/05/2019</td>\n      <td>CCU → NAG → BLR</td>\n      <td>18:05</td>\n      <td>23:30</td>\n      <td>5h 25m</td>\n      <td>1</td>\n      <td>No info</td>\n      <td>6218</td>\n      <td>False</td>\n      <td>False</td>\n      <td>...</td>\n      <td>False</td>\n      <td>False</td>\n      <td>True</td>\n      <td>False</td>\n      <td>True</td>\n      <td>False</td>\n      <td>False</td>\n      <td>False</td>\n      <td>False</td>\n      <td>False</td>\n    </tr>\n    <tr>\n      <th>4</th>\n      <td>01/03/2019</td>\n      <td>BLR → NAG → DEL</td>\n      <td>16:50</td>\n      <td>21:35</td>\n      <td>4h 45m</td>\n      <td>1</td>\n      <td>No info</td>\n      <td>13302</td>\n      <td>False</td>\n      <td>False</td>\n      <td>...</td>\n      <td>False</td>\n      <td>False</td>\n      <td>False</td>\n      <td>False</td>\n      <td>False</td>\n      <td>False</td>\n      <td>False</td>\n      <td>False</td>\n      <td>False</td>\n      <td>True</td>\n    </tr>\n  </tbody>\n</table>\n<p>5 rows × 28 columns</p>\n</div>"
          },
          "metadata": {}
        }
      ],
      "execution_count": 18
    },
    {
      "cell_type": "markdown",
      "source": "### **Date Time Transformations**\n",
      "metadata": {}
    },
    {
      "cell_type": "markdown",
      "source": "#### **Transforming the 'Duration' time column**\n",
      "metadata": {}
    },
    {
      "cell_type": "markdown",
      "source": "Here, we will take a closer look at the 'Duration' variable. Duration is the time taken by a plane to reach its destination. It is the difference between the 'Dep_Time' and 'Arrival_Time'. In our dataset, the 'Duration' is expressed as a string, in hours and minutes. To be recognized by machine learning algorithms, we also need to transform it into numerical type.\n\nThe code below will iterate through each record in 'Duration' column and split it into hours and minutes, as two additional separate columns. Also, we want to add the 'Duration_hours' (in minutes) to the 'Duration_minutes' column to obtain a 'Duration_Total_mins' time, in minutes. The total duration time column will be useful feature for any regression type of analysis.\n",
      "metadata": {}
    },
    {
      "cell_type": "code",
      "source": "data['Duration'].dtypes",
      "metadata": {
        "trusted": true
      },
      "outputs": [
        {
          "execution_count": 19,
          "output_type": "execute_result",
          "data": {
            "text/plain": "dtype('O')"
          },
          "metadata": {}
        }
      ],
      "execution_count": 19
    },
    {
      "cell_type": "code",
      "source": "data1['Duration']",
      "metadata": {
        "trusted": true
      },
      "outputs": [
        {
          "execution_count": 20,
          "output_type": "execute_result",
          "data": {
            "text/plain": "0        2h 50m\n1        7h 25m\n2           19h\n3        5h 25m\n4        4h 45m\n          ...  \n10678    2h 30m\n10679    2h 35m\n10680        3h\n10681    2h 40m\n10682    8h 20m\nName: Duration, Length: 10683, dtype: object"
          },
          "metadata": {}
        }
      ],
      "execution_count": 20
    },
    {
      "cell_type": "code",
      "source": "duration = list(data1['Duration'])\nduration",
      "metadata": {
        "trusted": true
      },
      "outputs": [
        {
          "execution_count": 21,
          "output_type": "execute_result",
          "data": {
            "text/plain": "['2h 50m',\n '7h 25m',\n '19h',\n '5h 25m',\n '4h 45m',\n '2h 25m',\n '15h 30m',\n '21h 5m',\n '25h 30m',\n '7h 50m',\n '13h 15m',\n '2h 35m',\n '2h 15m',\n '12h 10m',\n '2h 35m',\n '26h 35m',\n '4h 30m',\n '22h 35m',\n '23h',\n '20h 35m',\n '5h 10m',\n '15h 20m',\n '2h 50m',\n '2h 55m',\n '13h 20m',\n '15h 10m',\n '5h 45m',\n '5h 55m',\n '2h 50m',\n '2h 15m',\n '2h 15m',\n '13h 25m',\n '2h 50m',\n '22h',\n '5h 30m',\n '10h 25m',\n '5h 15m',\n '2h 30m',\n '6h 15m',\n '11h 55m',\n '11h 5m',\n '8h 30m',\n '22h 5m',\n '2h 45m',\n '12h',\n '2h 50m',\n '2h 50m',\n '2h 15m',\n '16h 5m',\n '19h 55m',\n '3h 15m',\n '25h 20m',\n '2h 50m',\n '3h',\n '2h 50m',\n '16h 15m',\n '15h 5m',\n '2h 15m',\n '6h 30m',\n '25h 5m',\n '12h 25m',\n '27h 20m',\n '10h 15m',\n '10h 30m',\n '2h 15m',\n '10h 25m',\n '2h 50m',\n '1h 30m',\n '13h 20m',\n '2h 15m',\n '1h 25m',\n '26h 30m',\n '7h 20m',\n '13h 30m',\n '5h',\n '2h 45m',\n '2h 50m',\n '1h 30m',\n '19h 5m',\n '2h 15m',\n '14h 50m',\n '2h 40m',\n '22h 10m',\n '9h 35m',\n '10h',\n '21h 20m',\n '5h 25m',\n '18h 45m',\n '12h 20m',\n '18h',\n '9h 15m',\n '11h 5m',\n '17h 30m',\n '13h 20m',\n '2h 35m',\n '2h 25m',\n '2h 40m',\n '3h',\n '1h 25m',\n '16h 35m',\n '12h 20m',\n '12h 15m',\n '7h 30m',\n '24h',\n '2h 45m',\n '8h 55m',\n '7h 10m',\n '14h 30m',\n '30h 20m',\n '19h 55m',\n '15h',\n '2h 55m',\n '12h 45m',\n '10h 10m',\n '5h 55m',\n '15h 25m',\n '16h 5m',\n '10h 10m',\n '2h 40m',\n '11h 55m',\n '2h 40m',\n '1h 25m',\n '14h 5m',\n '20h 15m',\n '2h 25m',\n '23h 10m',\n '18h 10m',\n '16h',\n '2h 50m',\n '2h 20m',\n '8h',\n '16h 55m',\n '3h 10m',\n '2h 45m',\n '14h',\n '23h 50m',\n '21h 40m',\n '21h 15m',\n '2h 45m',\n '10h 50m',\n '8h',\n '8h 15m',\n '5h 25m',\n '8h 35m',\n '11h 50m',\n '27h 35m',\n '8h 25m',\n '20h 55m',\n '4h 50m',\n '8h 10m',\n '2h 20m',\n '24h 25m',\n '2h 50m',\n '12h 20m',\n '12h 15m',\n '23h 35m',\n '16h 35m',\n '2h 50m',\n '25h 45m',\n '26h 10m',\n '28h 50m',\n '2h 45m',\n '25h 15m',\n '9h 20m',\n '4h 30m',\n '15h 25m',\n '1h 30m',\n '2h 40m',\n '9h 10m',\n '2h 45m',\n '22h 35m',\n '3h 5m',\n '11h 30m',\n '9h 30m',\n '12h 10m',\n '17h 35m',\n '5h 5m',\n '25h 50m',\n '20h',\n '13h',\n '18h 25m',\n '1h 30m',\n '9h 30m',\n '16h',\n '2h 20m',\n '4h 30m',\n '5h 45m',\n '24h 10m',\n '2h 35m',\n '2h 45m',\n '4h 55m',\n '25h 35m',\n '6h 20m',\n '3h 5m',\n '18h 40m',\n '2h 15m',\n '12h 10m',\n '19h 25m',\n '2h 50m',\n '8h 25m',\n '9h 15m',\n '2h 50m',\n '3h 15m',\n '2h 50m',\n '12h 20m',\n '2h 55m',\n '9h 35m',\n '2h 35m',\n '9h 30m',\n '29h 20m',\n '2h 55m',\n '5h 15m',\n '9h 5m',\n '10h 45m',\n '4h 55m',\n '1h 30m',\n '11h 40m',\n '2h 45m',\n '2h 55m',\n '10h',\n '2h 45m',\n '10h 15m',\n '1h 25m',\n '9h 15m',\n '22h 55m',\n '28h 50m',\n '37h 25m',\n '2h 50m',\n '1h 30m',\n '1h 30m',\n '25h 40m',\n '2h 35m',\n '6h 15m',\n '17h 30m',\n '5h 45m',\n '2h 35m',\n '25h 30m',\n '13h 55m',\n '2h 55m',\n '10h 15m',\n '8h 40m',\n '5h 30m',\n '12h',\n '2h 15m',\n '2h 15m',\n '2h 50m',\n '9h 10m',\n '10h 25m',\n '2h 20m',\n '4h 30m',\n '3h 10m',\n '23h 30m',\n '27h 20m',\n '12h 35m',\n '24h 15m',\n '1h 20m',\n '2h 45m',\n '3h',\n '11h',\n '13h 30m',\n '2h 50m',\n '2h 55m',\n '2h 45m',\n '11h 15m',\n '14h 35m',\n '13h 55m',\n '14h 5m',\n '15h 5m',\n '2h 15m',\n '15h',\n '12h 55m',\n '9h',\n '12h 15m',\n '7h 40m',\n '27h 20m',\n '1h 25m',\n '1h 20m',\n '5h 30m',\n '11h 45m',\n '3h 15m',\n '24h 55m',\n '27h 20m',\n '2h 55m',\n '17h 5m',\n '2h 40m',\n '8h',\n '3h',\n '27h 35m',\n '7h 30m',\n '22h 55m',\n '8h 35m',\n '29h 55m',\n '22h 15m',\n '1h 20m',\n '2h 40m',\n '3h',\n '12h 10m',\n '2h 35m',\n '11h 45m',\n '2h 35m',\n '1h 30m',\n '2h 40m',\n '2h 35m',\n '22h 55m',\n '14h 40m',\n '15h 25m',\n '7h 15m',\n '20h 10m',\n '20h 45m',\n '2h 30m',\n '23h 50m',\n '27h',\n '5h 30m',\n '11h 50m',\n '2h 15m',\n '24h 30m',\n '2h 20m',\n '6h 30m',\n '20h 25m',\n '2h 35m',\n '2h 55m',\n '5h 35m',\n '2h 30m',\n '14h 45m',\n '12h 20m',\n '25h 30m',\n '5h 35m',\n '11h 45m',\n '2h 55m',\n '5h 40m',\n '4h 5m',\n '8h',\n '2h 45m',\n '2h 40m',\n '2h 55m',\n '15h 55m',\n '23h 10m',\n '7h 20m',\n '2h 50m',\n '7h 30m',\n '3h',\n '7h 45m',\n '25h 20m',\n '10h 25m',\n '30h 20m',\n '2h 35m',\n '9h',\n '15h 10m',\n '28h 20m',\n '3h',\n '2h 45m',\n '4h 55m',\n '2h 40m',\n '22h 10m',\n '10h 10m',\n '2h 50m',\n '4h 20m',\n '11h',\n '3h',\n '22h 35m',\n '3h 5m',\n '2h 40m',\n '2h 50m',\n '21h 5m',\n '11h 50m',\n '25h 35m',\n '15h 25m',\n '2h 25m',\n '3h 40m',\n '2h 55m',\n '3h 10m',\n '11h 50m',\n '2h 50m',\n '2h 50m',\n '1h 30m',\n '11h 30m',\n '8h 50m',\n '20h 15m',\n '20h 10m',\n '16h 5m',\n '12h 35m',\n '17h 5m',\n '3h',\n '15h 30m',\n '11h 30m',\n '2h 20m',\n '23h 45m',\n '1h 30m',\n '2h 35m',\n '24h 45m',\n '21h 35m',\n '5h 30m',\n '12h 15m',\n '8h 5m',\n '5h',\n '2h 50m',\n '6h 25m',\n '2h 20m',\n '2h 45m',\n '12h 45m',\n '15h 50m',\n '27h',\n '26h 25m',\n '2h 55m',\n '24h 50m',\n '8h 40m',\n '25h 45m',\n '2h 50m',\n '6h 15m',\n '10h 30m',\n '26h',\n '17h 5m',\n '21h 20m',\n '5h 35m',\n '2h 50m',\n '25h 50m',\n '12h 10m',\n '17h 5m',\n '8h 30m',\n '23h 5m',\n '9h 20m',\n '7h 55m',\n '1h 30m',\n '2h 50m',\n '2h 15m',\n '10h',\n '2h 35m',\n '7h 45m',\n '2h 55m',\n '26h 20m',\n '2h 40m',\n '11h',\n '19h 25m',\n '2h 55m',\n '2h 45m',\n '23h 15m',\n '9h',\n '3h 10m',\n '6h 25m',\n '8h 40m',\n '2h 50m',\n '12h 20m',\n '5h 20m',\n '4h',\n '9h 45m',\n '2h 55m',\n '26h 20m',\n '2h 15m',\n '9h 45m',\n '24h 55m',\n '11h 55m',\n '8h 20m',\n '17h 25m',\n '2h 50m',\n '7h 5m',\n '21h 15m',\n '5h',\n '2h 25m',\n '5h 15m',\n '15h 10m',\n '11h 45m',\n '3h',\n '4h 55m',\n '2h 45m',\n '2h 30m',\n '9h 45m',\n '2h 40m',\n '6h 30m',\n '5h 30m',\n '2h 40m',\n '34h 5m',\n '15h 25m',\n '9h 30m',\n '6h 5m',\n '2h 40m',\n '5h 50m',\n '2h 45m',\n '27h 20m',\n '3h',\n '5h 15m',\n '16h',\n '7h',\n '8h 40m',\n '9h',\n '2h 20m',\n '2h 20m',\n '6h 20m',\n '4h 25m',\n '2h 20m',\n '11h 5m',\n '16h 55m',\n '13h 45m',\n '25h 45m',\n '13h 55m',\n '5h 15m',\n '19h 15m',\n '7h 30m',\n '9h',\n '24h',\n '18h 10m',\n '2h 55m',\n '1h 30m',\n '21h 20m',\n '6h 15m',\n '14h 30m',\n '1h 20m',\n '12h 55m',\n '2h 25m',\n '22h 30m',\n '22h 55m',\n '5h 25m',\n '1h 25m',\n '7h 15m',\n '12h 20m',\n '20h 10m',\n '21h 15m',\n '2h 15m',\n '10h 30m',\n '14h 5m',\n '2h 50m',\n '16h 25m',\n '5h 15m',\n '13h 50m',\n '2h 15m',\n '7h 15m',\n '27h 5m',\n '27h 35m',\n '5h',\n '2h 50m',\n '2h 50m',\n '15h 20m',\n '5h 20m',\n '10h 10m',\n '27h 35m',\n '9h 35m',\n '28h 10m',\n '14h',\n '2h 35m',\n '2h 55m',\n '2h 35m',\n '4h 40m',\n '2h 30m',\n '11h 15m',\n '7h 55m',\n '8h 50m',\n '1h 25m',\n '15h 40m',\n '2h 35m',\n '2h 55m',\n '13h 25m',\n '4h 35m',\n '18h 30m',\n '2h 15m',\n '38h 15m',\n '3h 5m',\n '25h 50m',\n '3h 10m',\n '2h 50m',\n '11h 30m',\n '6h 35m',\n '27h 35m',\n '2h 35m',\n '7h 30m',\n '3h 15m',\n '9h 35m',\n '12h 30m',\n '11h 20m',\n '3h',\n '2h 35m',\n '1h 30m',\n '26h 10m',\n '4h 55m',\n '2h 45m',\n '8h 40m',\n '7h 5m',\n '2h 45m',\n '24h 50m',\n '2h 20m',\n '11h',\n '9h',\n '2h 55m',\n '3h 5m',\n '2h 35m',\n '13h',\n '1h 25m',\n '7h 35m',\n '2h 40m',\n '12h 55m',\n '29h 20m',\n '5h',\n '8h 40m',\n '3h',\n '3h',\n '2h 45m',\n '12h 10m',\n '2h 20m',\n '7h 55m',\n '29h 35m',\n '26h 55m',\n '12h 45m',\n '7h 35m',\n '2h 30m',\n '11h 45m',\n '23h 40m',\n '13h 50m',\n '12h 50m',\n '9h 50m',\n '2h 30m',\n '21h 55m',\n '26h 10m',\n '2h 55m',\n '20h 15m',\n '20h 10m',\n '10h 55m',\n '2h 30m',\n '21h 10m',\n '2h 35m',\n '20h 40m',\n '2h 50m',\n '6h 30m',\n '30h',\n '13h 10m',\n '2h 55m',\n '18h',\n '8h',\n '8h 45m',\n '12h 30m',\n '13h 20m',\n '6h 10m',\n '7h 30m',\n '19h 15m',\n '2h 35m',\n '12h',\n '3h',\n '2h 50m',\n '1h 25m',\n '23h 5m',\n '2h 50m',\n '22h 5m',\n '2h 15m',\n '5h 45m',\n '2h 50m',\n '9h 30m',\n '8h 55m',\n '17h 45m',\n '2h 50m',\n '21h 45m',\n '12h 35m',\n '1h 30m',\n '2h 15m',\n '3h 55m',\n '2h 45m',\n '7h 30m',\n '17h 20m',\n '1h 30m',\n '1h 30m',\n '30h 30m',\n '5h',\n '11h 15m',\n '2h 50m',\n '19h 5m',\n '6h 35m',\n '7h 30m',\n '2h 15m',\n '2h 45m',\n '12h 45m',\n '2h 50m',\n '26h 35m',\n '12h 55m',\n '1h 30m',\n '8h 40m',\n '14h',\n '23h 30m',\n '29h 55m',\n '22h 10m',\n '4h 50m',\n '2h 45m',\n '13h 30m',\n '13h 20m',\n '2h 20m',\n '11h 55m',\n '5h 10m',\n '11h 45m',\n '13h 50m',\n '3h',\n '6h 10m',\n '2h 20m',\n '10h 45m',\n '2h 15m',\n '2h 55m',\n '1h 30m',\n '7h 35m',\n '26h 35m',\n '4h 45m',\n '21h 25m',\n '8h 35m',\n '8h 30m',\n '2h 15m',\n '12h 40m',\n '8h 25m',\n '25h 40m',\n '2h 45m',\n '29h 20m',\n '2h 40m',\n '2h 50m',\n '2h 20m',\n '7h 15m',\n '20h 15m',\n '11h 45m',\n '2h 35m',\n '13h 30m',\n '1h 30m',\n '24h 35m',\n '20h 35m',\n '2h 50m',\n '4h 35m',\n '2h 20m',\n '11h 45m',\n '1h 30m',\n '12h 50m',\n '24h 30m',\n '11h 30m',\n '4h',\n '11h',\n '5h 25m',\n '2h 35m',\n '5h 10m',\n '10h 10m',\n '26h 55m',\n '7h 15m',\n '8h 10m',\n '2h 55m',\n '5h 15m',\n '2h 20m',\n '1h 25m',\n '4h 50m',\n '2h 20m',\n '2h 20m',\n '13h 15m',\n '19h 10m',\n '22h 40m',\n '14h 50m',\n '15h 10m',\n '7h 5m',\n '1h 25m',\n '2h 55m',\n '8h',\n '2h 45m',\n '14h 55m',\n '1h 30m',\n '16h 15m',\n '2h 50m',\n '5h',\n '22h 15m',\n '5h 30m',\n '8h 35m',\n '15h 25m',\n '21h',\n '13h 30m',\n '2h 50m',\n '6h 45m',\n '1h 30m',\n '8h 40m',\n '1h 30m',\n '2h 50m',\n '2h 35m',\n '16h 5m',\n '23h 50m',\n '27h 5m',\n '16h 15m',\n '15h 25m',\n '2h 50m',\n '8h 35m',\n '13h 50m',\n '2h 40m',\n '2h 25m',\n '3h 10m',\n '2h 55m',\n '28h 40m',\n '2h 50m',\n '2h 35m',\n '9h 40m',\n '16h 40m',\n '6h 20m',\n '27h',\n '14h 35m',\n '12h 10m',\n '7h 35m',\n '2h 20m',\n '19h 10m',\n '20h',\n '3h',\n '5h 10m',\n '2h 40m',\n '29h 35m',\n '4h 55m',\n '3h',\n '12h 30m',\n '12h 35m',\n '26h 20m',\n '13h 15m',\n '2h 50m',\n '12h 45m',\n '16h 20m',\n '2h 40m',\n '8h 15m',\n '12h',\n '2h 50m',\n '11h',\n '2h 20m',\n '13h 50m',\n '8h 10m',\n '12h 10m',\n '2h 40m',\n '2h 45m',\n '2h 50m',\n '24h',\n '3h',\n '12h 35m',\n '25h 50m',\n '2h 55m',\n '17h 5m',\n '29h 20m',\n '8h 55m',\n '3h 5m',\n '9h',\n '10h 25m',\n '16h 45m',\n '2h 45m',\n '26h 20m',\n '13h 15m',\n '10h 30m',\n '7h 35m',\n '11h',\n '2h 50m',\n '25h 45m',\n '6h 25m',\n '1h 25m',\n '20h 10m',\n '11h 55m',\n '2h 50m',\n '5h',\n '27h',\n '2h 50m',\n '1h 15m',\n '10h 15m',\n '24h 50m',\n '2h 50m',\n '20h',\n '5h 30m',\n '2h 45m',\n '6h 55m',\n '2h 45m',\n '5h 15m',\n '6h 15m',\n '2h 50m',\n '19h 25m',\n '2h 55m',\n '11h 25m',\n '14h 5m',\n '2h 45m',\n '3h 15m',\n '14h 20m',\n '12h 30m',\n '5h 20m',\n '26h 20m',\n '3h 5m',\n '1h 30m',\n '7h 5m',\n '6h 10m',\n '8h',\n '12h 5m',\n '12h 55m',\n '9h 35m',\n '15h 10m',\n '11h 40m',\n '2h 55m',\n '4h 30m',\n '2h 40m',\n '2h 30m',\n '24h 10m',\n '28h 20m',\n '1h 25m',\n '10h 10m',\n '11h 30m',\n '2h 50m',\n '13h 45m',\n '6h 25m',\n '12h 55m',\n '4h 25m',\n '13h 30m',\n '24h 5m',\n '16h 5m',\n '8h 20m',\n '3h 40m',\n '9h 30m',\n '28h 15m',\n '13h 20m',\n '17h 50m',\n '20h 20m',\n '28h 5m',\n '15h 25m',\n '12h 5m',\n '10h 20m',\n '12h 25m',\n '7h 35m',\n '2h 50m',\n '4h 35m',\n '11h 15m',\n '2h 35m',\n '26h',\n '2h 25m',\n '2h 35m',\n '14h 15m',\n '2h 35m',\n '22h 5m',\n '6h 35m',\n '8h 30m',\n '18h 45m',\n '35h 15m',\n '2h 15m',\n '2h 30m',\n '2h 20m',\n '2h 30m',\n '7h 35m',\n '35h 35m',\n '26h 30m',\n '11h 30m',\n '26h 40m',\n '3h',\n '1h 30m',\n '2h 55m',\n '14h 15m',\n '16h 55m',\n '12h 20m',\n '29h 35m',\n '20h 20m',\n '8h 25m',\n '13h 50m',\n '10h',\n '19h 25m',\n '28h',\n '2h 50m',\n '17h 20m',\n '2h 45m',\n '2h 55m',\n '13h 25m',\n '12h 55m',\n '9h 45m',\n '21h 25m',\n '15h 40m',\n '2h 20m',\n '14h 25m',\n '2h 50m',\n '6h 35m',\n '22h 10m',\n '14h 25m',\n '2h 30m',\n '23h 35m',\n '13h 5m',\n '1h 30m',\n '5h 5m',\n '1h 20m',\n '22h 55m',\n '1h 30m',\n '2h 35m',\n '37h 20m',\n '2h 50m',\n '2h 50m',\n '36h 10m',\n '9h 15m',\n '1h 25m',\n '5h 5m',\n '2h 15m',\n '15h 10m',\n '25h 55m',\n '5h 40m',\n '7h 30m',\n '17h 45m',\n '2h 20m',\n '8h 15m',\n '3h 40m',\n '5h 55m',\n '2h 30m',\n '17h 30m',\n '13h 50m',\n '2h 15m',\n '21h 35m',\n '9h 30m',\n '8h 40m',\n '10h 25m',\n '35h 5m',\n '14h 15m',\n '3h',\n '25h 50m',\n '2h 30m',\n '8h 40m',\n '10h',\n '11h 30m',\n '7h 30m',\n ...]"
          },
          "metadata": {}
        }
      ],
      "execution_count": 21
    },
    {
      "cell_type": "code",
      "source": "duration[0].split()",
      "metadata": {
        "trusted": true
      },
      "outputs": [
        {
          "execution_count": 22,
          "output_type": "execute_result",
          "data": {
            "text/plain": "['2h', '50m']"
          },
          "metadata": {}
        }
      ],
      "execution_count": 22
    },
    {
      "cell_type": "code",
      "source": "len(duration[0].split())",
      "metadata": {
        "trusted": true
      },
      "outputs": [
        {
          "execution_count": 23,
          "output_type": "execute_result",
          "data": {
            "text/plain": "2"
          },
          "metadata": {}
        }
      ],
      "execution_count": 23
    },
    {
      "cell_type": "code",
      "source": "if 'h' in duration[2]:\n    print(duration[2].strip() + ' 0m')",
      "metadata": {
        "trusted": true
      },
      "outputs": [
        {
          "name": "stdout",
          "text": "19h 0m\n",
          "output_type": "stream"
        }
      ],
      "execution_count": 24
    },
    {
      "cell_type": "code",
      "source": "for i in range(len(duration)):\n    if len(duration[i].split()) != 2:\n        if 'm' in duration[i]:\n            print(f'{i}: {duration[i]}')",
      "metadata": {
        "trusted": true
      },
      "outputs": [
        {
          "name": "stdout",
          "text": "6474: 5m\n",
          "output_type": "stream"
        }
      ],
      "execution_count": 25
    },
    {
      "cell_type": "code",
      "source": "if 'm' in duration[6474]:\n    print('0h {}'.format(duration[6474].strip()))",
      "metadata": {
        "trusted": true
      },
      "outputs": [
        {
          "name": "stdout",
          "text": "0h 5m\n",
          "output_type": "stream"
        }
      ],
      "execution_count": 26
    },
    {
      "cell_type": "code",
      "source": "for i in range(len(duration)) :\n    if len(duration[i].split()) != 2:\n        if 'h' in duration[i] :\n            duration[i] = duration[i].strip() + ' 0m'\n        elif 'm' in duration[i] :\n            duration[i] = '0h {}'.format(duration[i].strip())",
      "metadata": {
        "trusted": true
      },
      "outputs": [],
      "execution_count": 27
    },
    {
      "cell_type": "code",
      "source": "duration[0], duration[0].split(), duration[0].split()[0][:-1]",
      "metadata": {
        "trusted": true
      },
      "outputs": [
        {
          "execution_count": 28,
          "output_type": "execute_result",
          "data": {
            "text/plain": "('2h 50m', ['2h', '50m'], '2')"
          },
          "metadata": {}
        }
      ],
      "execution_count": 28
    },
    {
      "cell_type": "code",
      "source": "dur_hours = []\ndur_minutes = []\n\nfor i in range(len(duration)):\n    dur_hours.append(int(duration[i].split()[0][:-1]))\n    dur_minutes.append(int(duration[i].split()[1][:-1]))",
      "metadata": {
        "trusted": true
      },
      "outputs": [],
      "execution_count": 29
    },
    {
      "cell_type": "code",
      "source": "data1['Duration_hours'] = dur_hours\ndata1['Duration_minutes'] = dur_minutes\ndata1.loc[:, 'Duration_hours'] *= 60\ndata1['Duration_Total_mins'] = data1['Duration_hours'] + data1['Duration_minutes']",
      "metadata": {
        "trusted": true
      },
      "outputs": [],
      "execution_count": 30
    },
    {
      "cell_type": "markdown",
      "source": "Print 'data1' data frame to see the newly created columns.\n",
      "metadata": {}
    },
    {
      "cell_type": "code",
      "source": "data1.head()",
      "metadata": {
        "trusted": true
      },
      "outputs": [
        {
          "execution_count": 31,
          "output_type": "execute_result",
          "data": {
            "text/plain": "  Date_of_Journey                  Route Dep_Time  Arrival_Time Duration  \\\n0      24/03/2019              BLR → DEL    22:20  01:10 22 Mar   2h 50m   \n1       1/05/2019  CCU → IXR → BBI → BLR    05:50         13:15   7h 25m   \n2       9/06/2019  DEL → LKO → BOM → COK    09:25  04:25 10 Jun      19h   \n3      12/05/2019        CCU → NAG → BLR    18:05         23:30   5h 25m   \n4      01/03/2019        BLR → NAG → DEL    16:50         21:35   4h 45m   \n\n   Total_Stops Additional_Info  Price  Airline_Air Asia  Airline_Air India  \\\n0            0         No info   3897             False              False   \n1            2         No info   7662             False               True   \n2            2         No info  13882             False              False   \n3            1         No info   6218             False              False   \n4            1         No info  13302             False              False   \n\n   ...  Source_Mumbai  Destination_Banglore  Destination_Cochin  \\\n0  ...          False                 False               False   \n1  ...          False                  True               False   \n2  ...          False                 False                True   \n3  ...          False                  True               False   \n4  ...          False                 False               False   \n\n   Destination_Delhi  Destination_Hyderabad  Destination_Kolkata  \\\n0              False                  False                False   \n1              False                  False                False   \n2              False                  False                False   \n3              False                  False                False   \n4              False                  False                False   \n\n   Destination_New Delhi  Duration_hours  Duration_minutes  \\\n0                   True             120                50   \n1                  False             420                25   \n2                  False            1140                 0   \n3                  False             300                25   \n4                   True             240                45   \n\n   Duration_Total_mins  \n0                  170  \n1                  445  \n2                 1140  \n3                  325  \n4                  285  \n\n[5 rows x 31 columns]",
            "text/html": "<div>\n<style scoped>\n    .dataframe tbody tr th:only-of-type {\n        vertical-align: middle;\n    }\n\n    .dataframe tbody tr th {\n        vertical-align: top;\n    }\n\n    .dataframe thead th {\n        text-align: right;\n    }\n</style>\n<table border=\"1\" class=\"dataframe\">\n  <thead>\n    <tr style=\"text-align: right;\">\n      <th></th>\n      <th>Date_of_Journey</th>\n      <th>Route</th>\n      <th>Dep_Time</th>\n      <th>Arrival_Time</th>\n      <th>Duration</th>\n      <th>Total_Stops</th>\n      <th>Additional_Info</th>\n      <th>Price</th>\n      <th>Airline_Air Asia</th>\n      <th>Airline_Air India</th>\n      <th>...</th>\n      <th>Source_Mumbai</th>\n      <th>Destination_Banglore</th>\n      <th>Destination_Cochin</th>\n      <th>Destination_Delhi</th>\n      <th>Destination_Hyderabad</th>\n      <th>Destination_Kolkata</th>\n      <th>Destination_New Delhi</th>\n      <th>Duration_hours</th>\n      <th>Duration_minutes</th>\n      <th>Duration_Total_mins</th>\n    </tr>\n  </thead>\n  <tbody>\n    <tr>\n      <th>0</th>\n      <td>24/03/2019</td>\n      <td>BLR → DEL</td>\n      <td>22:20</td>\n      <td>01:10 22 Mar</td>\n      <td>2h 50m</td>\n      <td>0</td>\n      <td>No info</td>\n      <td>3897</td>\n      <td>False</td>\n      <td>False</td>\n      <td>...</td>\n      <td>False</td>\n      <td>False</td>\n      <td>False</td>\n      <td>False</td>\n      <td>False</td>\n      <td>False</td>\n      <td>True</td>\n      <td>120</td>\n      <td>50</td>\n      <td>170</td>\n    </tr>\n    <tr>\n      <th>1</th>\n      <td>1/05/2019</td>\n      <td>CCU → IXR → BBI → BLR</td>\n      <td>05:50</td>\n      <td>13:15</td>\n      <td>7h 25m</td>\n      <td>2</td>\n      <td>No info</td>\n      <td>7662</td>\n      <td>False</td>\n      <td>True</td>\n      <td>...</td>\n      <td>False</td>\n      <td>True</td>\n      <td>False</td>\n      <td>False</td>\n      <td>False</td>\n      <td>False</td>\n      <td>False</td>\n      <td>420</td>\n      <td>25</td>\n      <td>445</td>\n    </tr>\n    <tr>\n      <th>2</th>\n      <td>9/06/2019</td>\n      <td>DEL → LKO → BOM → COK</td>\n      <td>09:25</td>\n      <td>04:25 10 Jun</td>\n      <td>19h</td>\n      <td>2</td>\n      <td>No info</td>\n      <td>13882</td>\n      <td>False</td>\n      <td>False</td>\n      <td>...</td>\n      <td>False</td>\n      <td>False</td>\n      <td>True</td>\n      <td>False</td>\n      <td>False</td>\n      <td>False</td>\n      <td>False</td>\n      <td>1140</td>\n      <td>0</td>\n      <td>1140</td>\n    </tr>\n    <tr>\n      <th>3</th>\n      <td>12/05/2019</td>\n      <td>CCU → NAG → BLR</td>\n      <td>18:05</td>\n      <td>23:30</td>\n      <td>5h 25m</td>\n      <td>1</td>\n      <td>No info</td>\n      <td>6218</td>\n      <td>False</td>\n      <td>False</td>\n      <td>...</td>\n      <td>False</td>\n      <td>True</td>\n      <td>False</td>\n      <td>False</td>\n      <td>False</td>\n      <td>False</td>\n      <td>False</td>\n      <td>300</td>\n      <td>25</td>\n      <td>325</td>\n    </tr>\n    <tr>\n      <th>4</th>\n      <td>01/03/2019</td>\n      <td>BLR → NAG → DEL</td>\n      <td>16:50</td>\n      <td>21:35</td>\n      <td>4h 45m</td>\n      <td>1</td>\n      <td>No info</td>\n      <td>13302</td>\n      <td>False</td>\n      <td>False</td>\n      <td>...</td>\n      <td>False</td>\n      <td>False</td>\n      <td>False</td>\n      <td>False</td>\n      <td>False</td>\n      <td>False</td>\n      <td>True</td>\n      <td>240</td>\n      <td>45</td>\n      <td>285</td>\n    </tr>\n  </tbody>\n</table>\n<p>5 rows × 31 columns</p>\n</div>"
          },
          "metadata": {}
        }
      ],
      "execution_count": 31
    },
    {
      "cell_type": "markdown",
      "source": "As you have noticed, three new columns were created: 'Duration_hours', 'Duration_minutes', and 'Duration_Total_mins' - all numerical values.\n",
      "metadata": {}
    },
    {
      "cell_type": "markdown",
      "source": "#### **Transforming the 'Departure' and 'Arrival' Time Columns**\n",
      "metadata": {}
    },
    {
      "cell_type": "markdown",
      "source": "Now, we will transform the 'Dep_Time' and 'Arrival_Time' columns to the appropriate date and time format. We will use *pandas* `to_datetime()` function for this.\n\nWe will split the 'Dep_Time' and 'Arrival_Time' columns into their corresponding hours and minutes columns.\n",
      "metadata": {}
    },
    {
      "cell_type": "code",
      "source": "data1[\"Dep_Hour\"]= pd.to_datetime(data1['Dep_Time']).dt.hour\ndata1[\"Dep_Min\"]= pd.to_datetime(data1['Dep_Time']).dt.minute",
      "metadata": {
        "trusted": true
      },
      "outputs": [],
      "execution_count": 32
    },
    {
      "cell_type": "code",
      "source": "data1.head()",
      "metadata": {
        "trusted": true
      },
      "outputs": [
        {
          "execution_count": 33,
          "output_type": "execute_result",
          "data": {
            "text/plain": "  Date_of_Journey                  Route Dep_Time  Arrival_Time Duration  \\\n0      24/03/2019              BLR → DEL    22:20  01:10 22 Mar   2h 50m   \n1       1/05/2019  CCU → IXR → BBI → BLR    05:50         13:15   7h 25m   \n2       9/06/2019  DEL → LKO → BOM → COK    09:25  04:25 10 Jun      19h   \n3      12/05/2019        CCU → NAG → BLR    18:05         23:30   5h 25m   \n4      01/03/2019        BLR → NAG → DEL    16:50         21:35   4h 45m   \n\n   Total_Stops Additional_Info  Price  Airline_Air Asia  Airline_Air India  \\\n0            0         No info   3897             False              False   \n1            2         No info   7662             False               True   \n2            2         No info  13882             False              False   \n3            1         No info   6218             False              False   \n4            1         No info  13302             False              False   \n\n   ...  Destination_Cochin  Destination_Delhi  Destination_Hyderabad  \\\n0  ...               False              False                  False   \n1  ...               False              False                  False   \n2  ...                True              False                  False   \n3  ...               False              False                  False   \n4  ...               False              False                  False   \n\n   Destination_Kolkata  Destination_New Delhi  Duration_hours  \\\n0                False                   True             120   \n1                False                  False             420   \n2                False                  False            1140   \n3                False                  False             300   \n4                False                   True             240   \n\n   Duration_minutes  Duration_Total_mins  Dep_Hour  Dep_Min  \n0                50                  170        22       20  \n1                25                  445         5       50  \n2                 0                 1140         9       25  \n3                25                  325        18        5  \n4                45                  285        16       50  \n\n[5 rows x 33 columns]",
            "text/html": "<div>\n<style scoped>\n    .dataframe tbody tr th:only-of-type {\n        vertical-align: middle;\n    }\n\n    .dataframe tbody tr th {\n        vertical-align: top;\n    }\n\n    .dataframe thead th {\n        text-align: right;\n    }\n</style>\n<table border=\"1\" class=\"dataframe\">\n  <thead>\n    <tr style=\"text-align: right;\">\n      <th></th>\n      <th>Date_of_Journey</th>\n      <th>Route</th>\n      <th>Dep_Time</th>\n      <th>Arrival_Time</th>\n      <th>Duration</th>\n      <th>Total_Stops</th>\n      <th>Additional_Info</th>\n      <th>Price</th>\n      <th>Airline_Air Asia</th>\n      <th>Airline_Air India</th>\n      <th>...</th>\n      <th>Destination_Cochin</th>\n      <th>Destination_Delhi</th>\n      <th>Destination_Hyderabad</th>\n      <th>Destination_Kolkata</th>\n      <th>Destination_New Delhi</th>\n      <th>Duration_hours</th>\n      <th>Duration_minutes</th>\n      <th>Duration_Total_mins</th>\n      <th>Dep_Hour</th>\n      <th>Dep_Min</th>\n    </tr>\n  </thead>\n  <tbody>\n    <tr>\n      <th>0</th>\n      <td>24/03/2019</td>\n      <td>BLR → DEL</td>\n      <td>22:20</td>\n      <td>01:10 22 Mar</td>\n      <td>2h 50m</td>\n      <td>0</td>\n      <td>No info</td>\n      <td>3897</td>\n      <td>False</td>\n      <td>False</td>\n      <td>...</td>\n      <td>False</td>\n      <td>False</td>\n      <td>False</td>\n      <td>False</td>\n      <td>True</td>\n      <td>120</td>\n      <td>50</td>\n      <td>170</td>\n      <td>22</td>\n      <td>20</td>\n    </tr>\n    <tr>\n      <th>1</th>\n      <td>1/05/2019</td>\n      <td>CCU → IXR → BBI → BLR</td>\n      <td>05:50</td>\n      <td>13:15</td>\n      <td>7h 25m</td>\n      <td>2</td>\n      <td>No info</td>\n      <td>7662</td>\n      <td>False</td>\n      <td>True</td>\n      <td>...</td>\n      <td>False</td>\n      <td>False</td>\n      <td>False</td>\n      <td>False</td>\n      <td>False</td>\n      <td>420</td>\n      <td>25</td>\n      <td>445</td>\n      <td>5</td>\n      <td>50</td>\n    </tr>\n    <tr>\n      <th>2</th>\n      <td>9/06/2019</td>\n      <td>DEL → LKO → BOM → COK</td>\n      <td>09:25</td>\n      <td>04:25 10 Jun</td>\n      <td>19h</td>\n      <td>2</td>\n      <td>No info</td>\n      <td>13882</td>\n      <td>False</td>\n      <td>False</td>\n      <td>...</td>\n      <td>True</td>\n      <td>False</td>\n      <td>False</td>\n      <td>False</td>\n      <td>False</td>\n      <td>1140</td>\n      <td>0</td>\n      <td>1140</td>\n      <td>9</td>\n      <td>25</td>\n    </tr>\n    <tr>\n      <th>3</th>\n      <td>12/05/2019</td>\n      <td>CCU → NAG → BLR</td>\n      <td>18:05</td>\n      <td>23:30</td>\n      <td>5h 25m</td>\n      <td>1</td>\n      <td>No info</td>\n      <td>6218</td>\n      <td>False</td>\n      <td>False</td>\n      <td>...</td>\n      <td>False</td>\n      <td>False</td>\n      <td>False</td>\n      <td>False</td>\n      <td>False</td>\n      <td>300</td>\n      <td>25</td>\n      <td>325</td>\n      <td>18</td>\n      <td>5</td>\n    </tr>\n    <tr>\n      <th>4</th>\n      <td>01/03/2019</td>\n      <td>BLR → NAG → DEL</td>\n      <td>16:50</td>\n      <td>21:35</td>\n      <td>4h 45m</td>\n      <td>1</td>\n      <td>No info</td>\n      <td>13302</td>\n      <td>False</td>\n      <td>False</td>\n      <td>...</td>\n      <td>False</td>\n      <td>False</td>\n      <td>False</td>\n      <td>False</td>\n      <td>True</td>\n      <td>240</td>\n      <td>45</td>\n      <td>285</td>\n      <td>16</td>\n      <td>50</td>\n    </tr>\n  </tbody>\n</table>\n<p>5 rows × 33 columns</p>\n</div>"
          },
          "metadata": {}
        }
      ],
      "execution_count": 33
    },
    {
      "cell_type": "markdown",
      "source": "## Exercise 3\n\nNow, let's transform the 'Arrival_Time' column.\n",
      "metadata": {}
    },
    {
      "cell_type": "code",
      "source": "data1['Arr_Hr'] = pd.to_datetime(data1['Arrival_Time']).dt.hour\ndata1['Arr_Min'] = pd.to_datetime(data1['Arrival_Time']).dt.minute",
      "metadata": {
        "trusted": true
      },
      "outputs": [],
      "execution_count": 34
    },
    {
      "cell_type": "markdown",
      "source": "<details>\n<summary><strong>Solution</strong> (Click Here)</summary>\n    &emsp; &emsp; <code>\n\ndata1\\[\"Arrival_Hour\"]= pd.to_datetime(data1\\['Arrival_Time']).dt.hour\ndata1\\[\"Arrival_Min\"]= pd.to_datetime(data1\\['Arrival_Time']).dt.minute\n\n</code>\n</details>\n",
      "metadata": {}
    },
    {
      "cell_type": "markdown",
      "source": "#### **Splitting 'Departure/Arrival_Time' into Time Zones**\n",
      "metadata": {}
    },
    {
      "cell_type": "markdown",
      "source": "To further transform our 'Departure/Arrival_Time' column, we can break down the 24 hours format for the departure and arrival time into 4 different time zones: night, morning, afternoon, and evening. This might be an interesting feature engineering technique to see what time of a day has the most arrivals/departures.\n\nOne way to do this is transformation is by using *pandas* `cut()` function.\n",
      "metadata": {}
    },
    {
      "cell_type": "code",
      "source": "data1['dep_timezone'] = pd.cut(data1.Dep_Hour, [0,6,12,18,24], labels=['Night','Morning','Afternoon','Evening'])\ndata1['dep_timezone'] ",
      "metadata": {
        "trusted": true
      },
      "outputs": [
        {
          "execution_count": 35,
          "output_type": "execute_result",
          "data": {
            "text/plain": "0          Evening\n1            Night\n2          Morning\n3        Afternoon\n4        Afternoon\n           ...    \n10678      Evening\n10679      Evening\n10680      Morning\n10681      Morning\n10682      Morning\nName: dep_timezone, Length: 10683, dtype: category\nCategories (4, object): ['Night' < 'Morning' < 'Afternoon' < 'Evening']"
          },
          "metadata": {}
        }
      ],
      "execution_count": 35
    },
    {
      "cell_type": "markdown",
      "source": "## Exercise 4\n\nNow, let's transform the 'Arrival_Time' column into its corresponding time zones, as shown in the example above.\n",
      "metadata": {}
    },
    {
      "cell_type": "code",
      "source": "data1['arr_timezone'] = pd.cut(data1.Arr_Hr, [0,6,12,18,24], labels=['Night','Morning','Afternoon','Evening'])\ndata1['arr_timezone'] ",
      "metadata": {
        "trusted": true
      },
      "outputs": [
        {
          "execution_count": 36,
          "output_type": "execute_result",
          "data": {
            "text/plain": "0            Night\n1        Afternoon\n2            Night\n3          Evening\n4          Evening\n           ...    \n10678      Evening\n10679      Evening\n10680      Morning\n10681    Afternoon\n10682      Evening\nName: arr_timezone, Length: 10683, dtype: category\nCategories (4, object): ['Night' < 'Morning' < 'Afternoon' < 'Evening']"
          },
          "metadata": {}
        }
      ],
      "execution_count": 36
    },
    {
      "cell_type": "markdown",
      "source": "<details>\n<summary><strong>Solution</strong> (Click Here)</summary>\n    &emsp; &emsp; <code>\n\ndata1\\[\"Arrival_Hour\"]= pd.to_datetime(data1\\['Arrival_Time']).dt.hour\ndata1\\['arr_timezone'] = pd.cut(data1.Arrival_Hour, \\[0,6,12,18,24], labels=\\['Night','Morning','Afternoon','Evening'])\n\n</code>\n</details>\n",
      "metadata": {}
    },
    {
      "cell_type": "markdown",
      "source": "#### **Transforming the 'Date_of_Journey' Column**\n",
      "metadata": {}
    },
    {
      "cell_type": "markdown",
      "source": "Similar to the departure/arrival time, we will now extract some information from the 'date_of_journey' column, which is also an object type and can not be used for any machine learning algorithm yet.\n\nSo, we will extract the month information first and store it under the 'Month' column name.\n",
      "metadata": {}
    },
    {
      "cell_type": "code",
      "source": "data1['Month']= pd.to_datetime(data1[\"Date_of_Journey\"], format=\"%d/%m/%Y\").dt.month\ndata1['Month']",
      "metadata": {
        "trusted": true
      },
      "outputs": [
        {
          "execution_count": 37,
          "output_type": "execute_result",
          "data": {
            "text/plain": "0        3\n1        5\n2        6\n3        5\n4        3\n        ..\n10678    4\n10679    4\n10680    4\n10681    3\n10682    5\nName: Month, Length: 10683, dtype: int32"
          },
          "metadata": {}
        }
      ],
      "execution_count": 37
    },
    {
      "cell_type": "code",
      "source": "# Change month name\npd.to_datetime(data1['Month']).dt.month_name()",
      "metadata": {
        "trusted": true
      },
      "outputs": [
        {
          "execution_count": 38,
          "output_type": "execute_result",
          "data": {
            "text/plain": "0        January\n1        January\n2        January\n3        January\n4        January\n          ...   \n10678    January\n10679    January\n10680    January\n10681    January\n10682    January\nName: Month, Length: 10683, dtype: object"
          },
          "metadata": {}
        }
      ],
      "execution_count": 38
    },
    {
      "cell_type": "markdown",
      "source": "## Exercise 5\n\nNow, let's create 'Day' and 'Year' columns in a similar way.\n",
      "metadata": {}
    },
    {
      "cell_type": "code",
      "source": "data1['Day'] = pd.to_datetime(data1['Date_of_Journey'], format='%d/%m/%Y').dt.day\ndata1['Year'] = pd.to_datetime(data1['Date_of_Journey'], format='%d/%m/%Y').dt.year",
      "metadata": {
        "trusted": true
      },
      "outputs": [],
      "execution_count": 39
    },
    {
      "cell_type": "markdown",
      "source": "<details>\n<summary><strong>Solution</strong> (Click Here)</summary>\n    &emsp; &emsp; <code>\n\ndata1\\['Day']= pd.to_datetime(data1\\[\"Date_of_Journey\"], format=\"%d/%m/%Y\").dt.day\ndata1\\['Year']= pd.to_datetime(data1\\[\"Date_of_Journey\"], format=\"%d/%m/%Y\").dt.year\n\n</code>\n</details>\n",
      "metadata": {}
    },
    {
      "cell_type": "markdown",
      "source": "Additionally, we can extract the day of the weak name by using `dt.day_name()` function.\n",
      "metadata": {}
    },
    {
      "cell_type": "code",
      "source": "data1['day_of_week'] = pd.to_datetime(data1['Date_of_Journey']).dt.day_name()",
      "metadata": {
        "trusted": true
      },
      "outputs": [],
      "execution_count": 40
    },
    {
      "cell_type": "markdown",
      "source": "## **Feature Selection**\n",
      "metadata": {}
    },
    {
      "cell_type": "markdown",
      "source": "Here, we will select only those attributes which best explain the relationship of the independent variables with respect to the target variable, 'price'. There are many methods for feature selection, building the heatmap and calculating the correlation coefficients scores are the most commonly used ones.\n\nFirst, we will select only the relevant and newly transformed variables (and exclude variables such as 'Route', 'Additional_Info', and all the original categorical variables), and place them into a 'new_data' data frame.\n",
      "metadata": {}
    },
    {
      "cell_type": "markdown",
      "source": "We will print all of our data1 columns.\n",
      "metadata": {}
    },
    {
      "cell_type": "code",
      "source": "data1.columns",
      "metadata": {
        "trusted": true
      },
      "outputs": [
        {
          "execution_count": 41,
          "output_type": "execute_result",
          "data": {
            "text/plain": "Index(['Date_of_Journey', 'Route', 'Dep_Time', 'Arrival_Time', 'Duration',\n       'Total_Stops', 'Additional_Info', 'Price', 'Airline_Air Asia',\n       'Airline_Air India', 'Airline_GoAir', 'Airline_IndiGo',\n       'Airline_Jet Airways', 'Airline_Multiple carriers', 'Airline_SpiceJet',\n       'Airline_Trujet', 'Airline_Vistara', 'Source_Banglore',\n       'Source_Chennai', 'Source_Delhi', 'Source_Kolkata', 'Source_Mumbai',\n       'Destination_Banglore', 'Destination_Cochin', 'Destination_Delhi',\n       'Destination_Hyderabad', 'Destination_Kolkata', 'Destination_New Delhi',\n       'Duration_hours', 'Duration_minutes', 'Duration_Total_mins', 'Dep_Hour',\n       'Dep_Min', 'Arr_Hr', 'Arr_Min', 'dep_timezone', 'arr_timezone', 'Month',\n       'Day', 'Year', 'day_of_week'],\n      dtype='object')"
          },
          "metadata": {}
        }
      ],
      "execution_count": 41
    },
    {
      "cell_type": "code",
      "source": "new_data = data1.loc[:,['Total_Stops', 'Airline_Air Asia',\n       'Airline_Air India', 'Airline_GoAir', 'Airline_IndiGo',\n       'Airline_Jet Airways', 'Airline_Multiple carriers', 'Airline_SpiceJet',\n       'Airline_Trujet', 'Airline_Vistara', 'Source_Banglore',\n       'Source_Chennai', 'Source_Delhi', 'Source_Kolkata', 'Source_Mumbai',\n       'Destination_Banglore', 'Destination_Cochin', 'Destination_Delhi',\n       'Destination_Hyderabad', 'Destination_Kolkata', 'Destination_New Delhi',\n       'Duration_hours', 'Duration_minutes', 'Duration_Total_mins', 'Dep_Hour',\n       'Dep_Min', 'dep_timezone', 'Price']]",
      "metadata": {
        "trusted": true
      },
      "outputs": [],
      "execution_count": 42
    },
    {
      "cell_type": "markdown",
      "source": "Now we will construct a `heatmap()`, using the *seaborn* library with a newly formed data frame, 'new_data'.\n",
      "metadata": {}
    },
    {
      "cell_type": "code",
      "source": "new_data = new_data.select_dtypes(include='number')\nnew_data.head()",
      "metadata": {
        "trusted": true
      },
      "outputs": [
        {
          "execution_count": 43,
          "output_type": "execute_result",
          "data": {
            "text/plain": "   Total_Stops  Duration_hours  Duration_minutes  Duration_Total_mins  \\\n0            0             120                50                  170   \n1            2             420                25                  445   \n2            2            1140                 0                 1140   \n3            1             300                25                  325   \n4            1             240                45                  285   \n\n   Dep_Hour  Dep_Min  Price  \n0        22       20   3897  \n1         5       50   7662  \n2         9       25  13882  \n3        18        5   6218  \n4        16       50  13302  ",
            "text/html": "<div>\n<style scoped>\n    .dataframe tbody tr th:only-of-type {\n        vertical-align: middle;\n    }\n\n    .dataframe tbody tr th {\n        vertical-align: top;\n    }\n\n    .dataframe thead th {\n        text-align: right;\n    }\n</style>\n<table border=\"1\" class=\"dataframe\">\n  <thead>\n    <tr style=\"text-align: right;\">\n      <th></th>\n      <th>Total_Stops</th>\n      <th>Duration_hours</th>\n      <th>Duration_minutes</th>\n      <th>Duration_Total_mins</th>\n      <th>Dep_Hour</th>\n      <th>Dep_Min</th>\n      <th>Price</th>\n    </tr>\n  </thead>\n  <tbody>\n    <tr>\n      <th>0</th>\n      <td>0</td>\n      <td>120</td>\n      <td>50</td>\n      <td>170</td>\n      <td>22</td>\n      <td>20</td>\n      <td>3897</td>\n    </tr>\n    <tr>\n      <th>1</th>\n      <td>2</td>\n      <td>420</td>\n      <td>25</td>\n      <td>445</td>\n      <td>5</td>\n      <td>50</td>\n      <td>7662</td>\n    </tr>\n    <tr>\n      <th>2</th>\n      <td>2</td>\n      <td>1140</td>\n      <td>0</td>\n      <td>1140</td>\n      <td>9</td>\n      <td>25</td>\n      <td>13882</td>\n    </tr>\n    <tr>\n      <th>3</th>\n      <td>1</td>\n      <td>300</td>\n      <td>25</td>\n      <td>325</td>\n      <td>18</td>\n      <td>5</td>\n      <td>6218</td>\n    </tr>\n    <tr>\n      <th>4</th>\n      <td>1</td>\n      <td>240</td>\n      <td>45</td>\n      <td>285</td>\n      <td>16</td>\n      <td>50</td>\n      <td>13302</td>\n    </tr>\n  </tbody>\n</table>\n</div>"
          },
          "metadata": {}
        }
      ],
      "execution_count": 43
    },
    {
      "cell_type": "code",
      "source": "plt.figure(figsize=(18,18))\nsns.heatmap(new_data.corr(),annot=True,cmap='RdYlGn')\n\nplt.show()",
      "metadata": {
        "trusted": true
      },
      "outputs": [
        {
          "output_type": "display_data",
          "data": {
            "text/plain": "<Figure size 1800x1800 with 2 Axes>",
            "image/png": "[encoded data removed]"
          },
          "metadata": {}
        }
      ],
      "execution_count": 44
    },
    {
      "cell_type": "markdown",
      "source": "From the heatmap above, extreme green means highly positively correlated features (relationship between two variables in which both variables move in the same direction), extreme red means negatively correlated features (relationship between two variables in which an increase in one variable is associated with a decrease in the other).\n",
      "metadata": {}
    },
    {
      "cell_type": "markdown",
      "source": "Now, we can use the `corr()` function to calculate and list the correlation between all independent variables and the 'price'.\n",
      "metadata": {}
    },
    {
      "cell_type": "code",
      "source": "features = new_data.corr()['Price'].sort_values()\nfeatures",
      "metadata": {
        "trusted": true
      },
      "outputs": [
        {
          "execution_count": 45,
          "output_type": "execute_result",
          "data": {
            "text/plain": "Duration_minutes      -0.124874\nDep_Min               -0.024492\nDep_Hour               0.006819\nDuration_Total_mins    0.506371\nDuration_hours         0.508672\nTotal_Stops            0.603891\nPrice                  1.000000\nName: Price, dtype: float64"
          },
          "metadata": {}
        }
      ],
      "execution_count": 45
    },
    {
      "cell_type": "markdown",
      "source": "We can also plot these correlation coefficients for easier visualization.\n",
      "metadata": {}
    },
    {
      "cell_type": "code",
      "source": "features.plot(kind='bar',figsize=(10,8))",
      "metadata": {
        "trusted": true
      },
      "outputs": [
        {
          "execution_count": 46,
          "output_type": "execute_result",
          "data": {
            "text/plain": "<AxesSubplot:>"
          },
          "metadata": {}
        },
        {
          "output_type": "display_data",
          "data": {
            "text/plain": "<Figure size 1000x800 with 1 Axes>",
            "image/png": "[encoded data removed]"
          },
          "metadata": {}
        }
      ],
      "execution_count": 46
    },
    {
      "cell_type": "markdown",
      "source": "From the graph above, we can deduct some of the highly correlated features and select only those ones for any future analysis.\n",
      "metadata": {}
    },
    {
      "cell_type": "markdown",
      "source": "## **Feature Extraction using Principal Component Analysis (Optional)**\n",
      "metadata": {}
    },
    {
      "cell_type": "markdown",
      "source": "### **PCA with Scikit-Learn**\n",
      "metadata": {}
    },
    {
      "cell_type": "markdown",
      "source": "Dimentionality reduction is part of the feature extraction process that combines the existing features to produce more useful ones. The goal of dimensionality reduction is to simplify the data without loosing too much information. Principal Component Analysis (PCA) is one of the most popular dimensionality reduction algorithms. First, it identifies the hyperplane that lies closest to the data, and then it projects the data onto it. In this way, a few multidimensional features are merged into one.\n\nIn the following portion of the lab, we will use `scikit-learn` library to perform some PCA on our data.\nTo learn more about `scikit-learn` PCA, please visit this [documentation](https://scikit-learn.org/stable/modules/generated/sklearn.decomposition.PCA.html?utm_medium=Exinfluencer&utm_source=Exinfluencer&utm_content=000026UJ&utm_term=10006555&utm_id=NA-SkillsNetwork-Channel-SkillsNetworkCoursesIBMML0232ENSkillsNetwork30654641-2022-01-01#sklearn.decomposition.PCA).\n",
      "metadata": {}
    },
    {
      "cell_type": "markdown",
      "source": "First, we must scale our data using the `StandardScaler()` function.\nWe will assign all the independent variables to x, and the dependent variable, 'price', to y.\n",
      "metadata": {}
    },
    {
      "cell_type": "code",
      "source": "x = data1.loc[:,['Total_Stops', 'Airline_Air Asia',\n       'Airline_Air India', 'Airline_GoAir', 'Airline_IndiGo',\n       'Airline_Jet Airways', 'Airline_Multiple carriers', 'Airline_SpiceJet',\n       'Airline_Trujet', 'Airline_Vistara', 'Source_Banglore',\n       'Source_Chennai', 'Source_Delhi', 'Source_Kolkata', 'Source_Mumbai',\n       'Destination_Banglore', 'Destination_Cochin', 'Destination_Delhi',\n       'Destination_Hyderabad', 'Destination_Kolkata', 'Destination_New Delhi',\n       'Duration_hours', 'Duration_minutes', 'Duration_Total_mins', 'Dep_Hour',\n       'Dep_Min']]",
      "metadata": {
        "trusted": true
      },
      "outputs": [],
      "execution_count": 47
    },
    {
      "cell_type": "code",
      "source": "y = data1.Price",
      "metadata": {
        "trusted": true
      },
      "outputs": [],
      "execution_count": 48
    },
    {
      "cell_type": "code",
      "source": "scaler = StandardScaler()\nx = scaler.fit_transform(x.astype(np.float64))\nx",
      "metadata": {
        "trusted": true
      },
      "outputs": [
        {
          "execution_count": 49,
          "output_type": "execute_result",
          "data": {
            "text/plain": "array([[-1.22052384, -0.17544122, -0.44291155, ..., -0.93158255,\n         1.65425948, -0.23505036],\n       [ 1.74150619, -0.17544122,  2.25778713, ..., -0.39007152,\n        -1.30309491,  1.36349161],\n       [ 1.74150619, -0.17544122, -0.44291155, ...,  0.97847452,\n        -0.60724682,  0.0313733 ],\n       ...,\n       [-1.22052384, -0.17544122, -0.44291155, ..., -0.91189124,\n        -0.78120884, -0.23505036],\n       [-1.22052384, -0.17544122, -0.44291155, ..., -0.95127386,\n        -0.25932278,  0.29779696],\n       [ 1.74150619, -0.17544122,  2.25778713, ..., -0.28176932,\n        -0.4332848 ,  1.62991527]])"
          },
          "metadata": {}
        }
      ],
      "execution_count": 49
    },
    {
      "cell_type": "code",
      "source": "x.ndim",
      "metadata": {
        "trusted": true
      },
      "outputs": [
        {
          "execution_count": 50,
          "output_type": "execute_result",
          "data": {
            "text/plain": "2"
          },
          "metadata": {}
        }
      ],
      "execution_count": 50
    },
    {
      "cell_type": "markdown",
      "source": "Once the data is scaled, we can apply the `fit_transform()` function to reduce the dimensionality of the dataset down to two dimensions.\n",
      "metadata": {}
    },
    {
      "cell_type": "code",
      "source": "pca = PCA(n_components = 2)\npca.fit_transform(x)",
      "metadata": {
        "trusted": true
      },
      "outputs": [
        {
          "execution_count": 51,
          "output_type": "execute_result",
          "data": {
            "text/plain": "array([[-2.87561627, -0.55520829],\n       [ 0.31885076,  2.39247242],\n       [ 3.05932662, -0.52681295],\n       ...,\n       [-2.2474976 , -0.58842404],\n       [-2.69898452, -0.28859007],\n       [ 1.92548229, -1.10417574]])"
          },
          "metadata": {}
        }
      ],
      "execution_count": 51
    },
    {
      "cell_type": "markdown",
      "source": "### **Explained Variance Ratio**\n",
      "metadata": {}
    },
    {
      "cell_type": "markdown",
      "source": "Another useful piece of information in PCA is the explained variance ratio of each principal component, available via the `explained_variance_ratio_` function. The ratio indicates the proportion of the dataset's variance that lies along each principal component. Let's look at the explained variance ratio of each of our two components.\n",
      "metadata": {}
    },
    {
      "cell_type": "code",
      "source": "explained_variance = pca.explained_variance_ratio_\nexplained_variance",
      "metadata": {
        "trusted": true
      },
      "outputs": [
        {
          "execution_count": 52,
          "output_type": "execute_result",
          "data": {
            "text/plain": "array([0.17545521, 0.12110719])"
          },
          "metadata": {}
        }
      ],
      "execution_count": 52
    },
    {
      "cell_type": "markdown",
      "source": "The first component constitutes 17.54% of the variance and second component constitutes 12.11% of the variance between the features.\n",
      "metadata": {}
    },
    {
      "cell_type": "markdown",
      "source": "## Exercise 6 (Optional)\n\nIn this exercise, experiment with the number of components to see how many dimensions our dataset could be reduced to in order to explain most of the variability between the features. Additionally, you can plot the components using bar plot to see how much variability each component represents.\n",
      "metadata": {}
    },
    {
      "cell_type": "code",
      "source": "pca = PCA(n_components = 7)\npca.fit_transform(x)\nexplained_variance = pca.explained_variance_ratio_\nexplained_variance",
      "metadata": {
        "trusted": true
      },
      "outputs": [
        {
          "execution_count": 59,
          "output_type": "execute_result",
          "data": {
            "text/plain": "array([0.17545521, 0.12110719, 0.0926492 , 0.08280111, 0.06739565,\n       0.05275645, 0.04819544])"
          },
          "metadata": {}
        }
      ],
      "execution_count": 59
    },
    {
      "cell_type": "code",
      "source": "with plt.style.context('dark_background'):\n    plt.figure(figsize=(6,4))\n\nplt.bar(range(7), explained_variance, alpha=0.5, align='center', label='individual explained variance')\nplt.ylabel('Explained variance ratio')\nplt.xlabel('Principal components')\nplt.legend(loc='best')\nplt.tight_layout()",
      "metadata": {
        "trusted": true
      },
      "outputs": [
        {
          "output_type": "display_data",
          "data": {
            "text/plain": "<Figure size 600x400 with 1 Axes>",
            "image/png": "[encoded data removed]"
          },
          "metadata": {}
        }
      ],
      "execution_count": 67
    },
    {
      "cell_type": "markdown",
      "source": "<details>\n<summary><strong>Solution_part1</strong> (Click Here)</summary>\n    &emsp; &emsp; <code>\n\npca = PCA(n_components = 7)\npca.fit_transform(x)\nexplained_variance=pca.explained_variance_ratio\\_\nexplained_variance\n\n</code>\n</details>\n",
      "metadata": {}
    },
    {
      "cell_type": "markdown",
      "source": "<details>\n<summary><strong>Solution_part2</strong> (Click Here)</summary>\n    &emsp; &emsp; <code>\n# use proper indentation with this block of code\n\nwith plt.style.context('dark_background'):\n    plt.figure(figsize=(6, 4))\n\n\n    plt.bar(range(7), explained_variance, alpha=0.5, align='center',\n    label='individual explained variance')\n    plt.ylabel('Explained variance ratio')\n    plt.xlabel('Principal components')\n    plt.legend(loc='best')\n    plt.tight_layout() \n\n\n</code>\n</details>\n",
      "metadata": {}
    },
    {
      "cell_type": "markdown",
      "source": "### **Choosing the Right Number of Dimensions**\n\nInstead of arbitrary choosing the number of dimensions to reduce down to, it is simpler to choose the number of dimensions that add up to a sufficiently large proportion of the variance, let's say 95%.\n\nThe following code performs PCA without reducing dimensionality, then computes the minimum number of dimensions required to preserve 95% of the variance.\n",
      "metadata": {}
    },
    {
      "cell_type": "code",
      "source": "pca = PCA()\npca.fit(x)",
      "metadata": {
        "trusted": true
      },
      "outputs": [
        {
          "execution_count": 78,
          "output_type": "execute_result",
          "data": {
            "text/plain": "PCA()",
            "text/html": "<style>#sk-container-id-1 {\n  /* Definition of color scheme common for light and dark mode */\n  --sklearn-color-text: black;\n  --sklearn-color-line: gray;\n  /* Definition of color scheme for unfitted estimators */\n  --sklearn-color-unfitted-level-0: #fff5e6;\n  --sklearn-color-unfitted-level-1: #f6e4d2;\n  --sklearn-color-unfitted-level-2: #ffe0b3;\n  --sklearn-color-unfitted-level-3: chocolate;\n  /* Definition of color scheme for fitted estimators */\n  --sklearn-color-fitted-level-0: #f0f8ff;\n  --sklearn-color-fitted-level-1: #d4ebff;\n  --sklearn-color-fitted-level-2: #b3dbfd;\n  --sklearn-color-fitted-level-3: cornflowerblue;\n\n  /* Specific color for light theme */\n  --sklearn-color-text-on-default-background: var(--sg-text-color, var(--theme-code-foreground, var(--jp-content-font-color1, black)));\n  --sklearn-color-background: var(--sg-background-color, var(--theme-background, var(--jp-layout-color0, white)));\n  --sklearn-color-border-box: var(--sg-text-color, var(--theme-code-foreground, var(--jp-content-font-color1, black)));\n  --sklearn-color-icon: #696969;\n\n  @media (prefers-color-scheme: dark) {\n    /* Redefinition of color scheme for dark theme */\n    --sklearn-color-text-on-default-background: var(--sg-text-color, var(--theme-code-foreground, var(--jp-content-font-color1, white)));\n    --sklearn-color-background: var(--sg-background-color, var(--theme-background, var(--jp-layout-color0, #111)));\n    --sklearn-color-border-box: var(--sg-text-color, var(--theme-code-foreground, var(--jp-content-font-color1, white)));\n    --sklearn-color-icon: #878787;\n  }\n}\n\n#sk-container-id-1 {\n  color: var(--sklearn-color-text);\n}\n\n#sk-container-id-1 pre {\n  padding: 0;\n}\n\n#sk-container-id-1 input.sk-hidden--visually {\n  border: 0;\n  clip: rect(1px 1px 1px 1px);\n  clip: rect(1px, 1px, 1px, 1px);\n  height: 1px;\n  margin: -1px;\n  overflow: hidden;\n  padding: 0;\n  position: absolute;\n  width: 1px;\n}\n\n#sk-container-id-1 div.sk-dashed-wrapped {\n  border: 1px dashed var(--sklearn-color-line);\n  margin: 0 0.4em 0.5em 0.4em;\n  box-sizing: border-box;\n  padding-bottom: 0.4em;\n  background-color: var(--sklearn-color-background);\n}\n\n#sk-container-id-1 div.sk-container {\n  /* jupyter's `normalize.less` sets `[hidden] { display: none; }`\n     but bootstrap.min.css set `[hidden] { display: none !important; }`\n     so we also need the `!important` here to be able to override the\n     default hidden behavior on the sphinx rendered scikit-learn.org.\n     See: https://github.com/scikit-learn/scikit-learn/issues/21755 */\n  display: inline-block !important;\n  position: relative;\n}\n\n#sk-container-id-1 div.sk-text-repr-fallback {\n  display: none;\n}\n\ndiv.sk-parallel-item,\ndiv.sk-serial,\ndiv.sk-item {\n  /* draw centered vertical line to link estimators */\n  background-image: linear-gradient(var(--sklearn-color-text-on-default-background), var(--sklearn-color-text-on-default-background));\n  background-size: 2px 100%;\n  background-repeat: no-repeat;\n  background-position: center center;\n}\n\n/* Parallel-specific style estimator block */\n\n#sk-container-id-1 div.sk-parallel-item::after {\n  content: \"\";\n  width: 100%;\n  border-bottom: 2px solid var(--sklearn-color-text-on-default-background);\n  flex-grow: 1;\n}\n\n#sk-container-id-1 div.sk-parallel {\n  display: flex;\n  align-items: stretch;\n  justify-content: center;\n  background-color: var(--sklearn-color-background);\n  position: relative;\n}\n\n#sk-container-id-1 div.sk-parallel-item {\n  display: flex;\n  flex-direction: column;\n}\n\n#sk-container-id-1 div.sk-parallel-item:first-child::after {\n  align-self: flex-end;\n  width: 50%;\n}\n\n#sk-container-id-1 div.sk-parallel-item:last-child::after {\n  align-self: flex-start;\n  width: 50%;\n}\n\n#sk-container-id-1 div.sk-parallel-item:only-child::after {\n  width: 0;\n}\n\n/* Serial-specific style estimator block */\n\n#sk-container-id-1 div.sk-serial {\n  display: flex;\n  flex-direction: column;\n  align-items: center;\n  background-color: var(--sklearn-color-background);\n  padding-right: 1em;\n  padding-left: 1em;\n}\n\n\n/* Toggleable style: style used for estimator/Pipeline/ColumnTransformer box that is\nclickable and can be expanded/collapsed.\n- Pipeline and ColumnTransformer use this feature and define the default style\n- Estimators will overwrite some part of the style using the `sk-estimator` class\n*/\n\n/* Pipeline and ColumnTransformer style (default) */\n\n#sk-container-id-1 div.sk-toggleable {\n  /* Default theme specific background. It is overwritten whether we have a\n  specific estimator or a Pipeline/ColumnTransformer */\n  background-color: var(--sklearn-color-background);\n}\n\n/* Toggleable label */\n#sk-container-id-1 label.sk-toggleable__label {\n  cursor: pointer;\n  display: block;\n  width: 100%;\n  margin-bottom: 0;\n  padding: 0.5em;\n  box-sizing: border-box;\n  text-align: center;\n}\n\n#sk-container-id-1 label.sk-toggleable__label-arrow:before {\n  /* Arrow on the left of the label */\n  content: \"▸\";\n  float: left;\n  margin-right: 0.25em;\n  color: var(--sklearn-color-icon);\n}\n\n#sk-container-id-1 label.sk-toggleable__label-arrow:hover:before {\n  color: var(--sklearn-color-text);\n}\n\n/* Toggleable content - dropdown */\n\n#sk-container-id-1 div.sk-toggleable__content {\n  max-height: 0;\n  max-width: 0;\n  overflow: hidden;\n  text-align: left;\n  /* unfitted */\n  background-color: var(--sklearn-color-unfitted-level-0);\n}\n\n#sk-container-id-1 div.sk-toggleable__content.fitted {\n  /* fitted */\n  background-color: var(--sklearn-color-fitted-level-0);\n}\n\n#sk-container-id-1 div.sk-toggleable__content pre {\n  margin: 0.2em;\n  border-radius: 0.25em;\n  color: var(--sklearn-color-text);\n  /* unfitted */\n  background-color: var(--sklearn-color-unfitted-level-0);\n}\n\n#sk-container-id-1 div.sk-toggleable__content.fitted pre {\n  /* unfitted */\n  background-color: var(--sklearn-color-fitted-level-0);\n}\n\n#sk-container-id-1 input.sk-toggleable__control:checked~div.sk-toggleable__content {\n  /* Expand drop-down */\n  max-height: 200px;\n  max-width: 100%;\n  overflow: auto;\n}\n\n#sk-container-id-1 input.sk-toggleable__control:checked~label.sk-toggleable__label-arrow:before {\n  content: \"▾\";\n}\n\n/* Pipeline/ColumnTransformer-specific style */\n\n#sk-container-id-1 div.sk-label input.sk-toggleable__control:checked~label.sk-toggleable__label {\n  color: var(--sklearn-color-text);\n  background-color: var(--sklearn-color-unfitted-level-2);\n}\n\n#sk-container-id-1 div.sk-label.fitted input.sk-toggleable__control:checked~label.sk-toggleable__label {\n  background-color: var(--sklearn-color-fitted-level-2);\n}\n\n/* Estimator-specific style */\n\n/* Colorize estimator box */\n#sk-container-id-1 div.sk-estimator input.sk-toggleable__control:checked~label.sk-toggleable__label {\n  /* unfitted */\n  background-color: var(--sklearn-color-unfitted-level-2);\n}\n\n#sk-container-id-1 div.sk-estimator.fitted input.sk-toggleable__control:checked~label.sk-toggleable__label {\n  /* fitted */\n  background-color: var(--sklearn-color-fitted-level-2);\n}\n\n#sk-container-id-1 div.sk-label label.sk-toggleable__label,\n#sk-container-id-1 div.sk-label label {\n  /* The background is the default theme color */\n  color: var(--sklearn-color-text-on-default-background);\n}\n\n/* On hover, darken the color of the background */\n#sk-container-id-1 div.sk-label:hover label.sk-toggleable__label {\n  color: var(--sklearn-color-text);\n  background-color: var(--sklearn-color-unfitted-level-2);\n}\n\n/* Label box, darken color on hover, fitted */\n#sk-container-id-1 div.sk-label.fitted:hover label.sk-toggleable__label.fitted {\n  color: var(--sklearn-color-text);\n  background-color: var(--sklearn-color-fitted-level-2);\n}\n\n/* Estimator label */\n\n#sk-container-id-1 div.sk-label label {\n  font-family: monospace;\n  font-weight: bold;\n  display: inline-block;\n  line-height: 1.2em;\n}\n\n#sk-container-id-1 div.sk-label-container {\n  text-align: center;\n}\n\n/* Estimator-specific */\n#sk-container-id-1 div.sk-estimator {\n  font-family: monospace;\n  border: 1px dotted var(--sklearn-color-border-box);\n  border-radius: 0.25em;\n  box-sizing: border-box;\n  margin-bottom: 0.5em;\n  /* unfitted */\n  background-color: var(--sklearn-color-unfitted-level-0);\n}\n\n#sk-container-id-1 div.sk-estimator.fitted {\n  /* fitted */\n  background-color: var(--sklearn-color-fitted-level-0);\n}\n\n/* on hover */\n#sk-container-id-1 div.sk-estimator:hover {\n  /* unfitted */\n  background-color: var(--sklearn-color-unfitted-level-2);\n}\n\n#sk-container-id-1 div.sk-estimator.fitted:hover {\n  /* fitted */\n  background-color: var(--sklearn-color-fitted-level-2);\n}\n\n/* Specification for estimator info (e.g. \"i\" and \"?\") */\n\n/* Common style for \"i\" and \"?\" */\n\n.sk-estimator-doc-link,\na:link.sk-estimator-doc-link,\na:visited.sk-estimator-doc-link {\n  float: right;\n  font-size: smaller;\n  line-height: 1em;\n  font-family: monospace;\n  background-color: var(--sklearn-color-background);\n  border-radius: 1em;\n  height: 1em;\n  width: 1em;\n  text-decoration: none !important;\n  margin-left: 1ex;\n  /* unfitted */\n  border: var(--sklearn-color-unfitted-level-1) 1pt solid;\n  color: var(--sklearn-color-unfitted-level-1);\n}\n\n.sk-estimator-doc-link.fitted,\na:link.sk-estimator-doc-link.fitted,\na:visited.sk-estimator-doc-link.fitted {\n  /* fitted */\n  border: var(--sklearn-color-fitted-level-1) 1pt solid;\n  color: var(--sklearn-color-fitted-level-1);\n}\n\n/* On hover */\ndiv.sk-estimator:hover .sk-estimator-doc-link:hover,\n.sk-estimator-doc-link:hover,\ndiv.sk-label-container:hover .sk-estimator-doc-link:hover,\n.sk-estimator-doc-link:hover {\n  /* unfitted */\n  background-color: var(--sklearn-color-unfitted-level-3);\n  color: var(--sklearn-color-background);\n  text-decoration: none;\n}\n\ndiv.sk-estimator.fitted:hover .sk-estimator-doc-link.fitted:hover,\n.sk-estimator-doc-link.fitted:hover,\ndiv.sk-label-container:hover .sk-estimator-doc-link.fitted:hover,\n.sk-estimator-doc-link.fitted:hover {\n  /* fitted */\n  background-color: var(--sklearn-color-fitted-level-3);\n  color: var(--sklearn-color-background);\n  text-decoration: none;\n}\n\n/* Span, style for the box shown on hovering the info icon */\n.sk-estimator-doc-link span {\n  display: none;\n  z-index: 9999;\n  position: relative;\n  font-weight: normal;\n  right: .2ex;\n  padding: .5ex;\n  margin: .5ex;\n  width: min-content;\n  min-width: 20ex;\n  max-width: 50ex;\n  color: var(--sklearn-color-text);\n  box-shadow: 2pt 2pt 4pt #999;\n  /* unfitted */\n  background: var(--sklearn-color-unfitted-level-0);\n  border: .5pt solid var(--sklearn-color-unfitted-level-3);\n}\n\n.sk-estimator-doc-link.fitted span {\n  /* fitted */\n  background: var(--sklearn-color-fitted-level-0);\n  border: var(--sklearn-color-fitted-level-3);\n}\n\n.sk-estimator-doc-link:hover span {\n  display: block;\n}\n\n/* \"?\"-specific style due to the `<a>` HTML tag */\n\n#sk-container-id-1 a.estimator_doc_link {\n  float: right;\n  font-size: 1rem;\n  line-height: 1em;\n  font-family: monospace;\n  background-color: var(--sklearn-color-background);\n  border-radius: 1rem;\n  height: 1rem;\n  width: 1rem;\n  text-decoration: none;\n  /* unfitted */\n  color: var(--sklearn-color-unfitted-level-1);\n  border: var(--sklearn-color-unfitted-level-1) 1pt solid;\n}\n\n#sk-container-id-1 a.estimator_doc_link.fitted {\n  /* fitted */\n  border: var(--sklearn-color-fitted-level-1) 1pt solid;\n  color: var(--sklearn-color-fitted-level-1);\n}\n\n/* On hover */\n#sk-container-id-1 a.estimator_doc_link:hover {\n  /* unfitted */\n  background-color: var(--sklearn-color-unfitted-level-3);\n  color: var(--sklearn-color-background);\n  text-decoration: none;\n}\n\n#sk-container-id-1 a.estimator_doc_link.fitted:hover {\n  /* fitted */\n  background-color: var(--sklearn-color-fitted-level-3);\n}\n</style><div id=\"sk-container-id-1\" class=\"sk-top-container\"><div class=\"sk-text-repr-fallback\"><pre>PCA()</pre><b>In a Jupyter environment, please rerun this cell to show the HTML representation or trust the notebook. <br />On GitHub, the HTML representation is unable to render, please try loading this page with nbviewer.org.</b></div><div class=\"sk-container\" hidden><div class=\"sk-item\"><div class=\"sk-estimator fitted sk-toggleable\"><input class=\"sk-toggleable__control sk-hidden--visually\" id=\"sk-estimator-id-1\" type=\"checkbox\" checked><label for=\"sk-estimator-id-1\" class=\"sk-toggleable__label fitted sk-toggleable__label-arrow fitted\">&nbsp;&nbsp;PCA<a class=\"sk-estimator-doc-link fitted\" rel=\"noreferrer\" target=\"_blank\" href=\"https://scikit-learn.org/1.4/modules/generated/sklearn.decomposition.PCA.html\">?<span>Documentation for PCA</span></a><span class=\"sk-estimator-doc-link fitted\">i<span>Fitted</span></span></label><div class=\"sk-toggleable__content fitted\"><pre>PCA()</pre></div> </div></div></div></div>"
          },
          "metadata": {}
        }
      ],
      "execution_count": 78
    },
    {
      "cell_type": "code",
      "source": "pca.explained_variance_ratio_",
      "metadata": {
        "trusted": true
      },
      "outputs": [
        {
          "execution_count": 79,
          "output_type": "execute_result",
          "data": {
            "text/plain": "array([1.75455212e-01, 1.21107185e-01, 9.26492032e-02, 8.28011061e-02,\n       6.73956512e-02, 5.27564550e-02, 4.81954443e-02, 4.49185343e-02,\n       4.12319717e-02, 3.95073767e-02, 3.86114153e-02, 3.84228457e-02,\n       3.69223293e-02, 3.37686807e-02, 2.88455153e-02, 2.68550107e-02,\n       2.08650342e-02, 9.69102925e-03, 3.24433789e-28, 6.99069310e-29,\n       5.44832039e-29, 2.89592424e-29, 6.37378760e-30, 3.64182920e-30,\n       2.00983292e-30, 3.46024393e-32])"
          },
          "metadata": {}
        }
      ],
      "execution_count": 79
    },
    {
      "cell_type": "code",
      "source": "# cumulative sum\nnp.cumsum([1,2,3,4,5])",
      "metadata": {
        "trusted": true,
        "scrolled": true
      },
      "outputs": [
        {
          "execution_count": 72,
          "output_type": "execute_result",
          "data": {
            "text/plain": "array([ 1,  3,  6, 10, 15])"
          },
          "metadata": {}
        }
      ],
      "execution_count": 72
    },
    {
      "cell_type": "code",
      "source": "cumsum = np.cumsum(pca.explained_variance_ratio_) # cumulative sum\ncumsum",
      "metadata": {
        "trusted": true
      },
      "outputs": [
        {
          "execution_count": 80,
          "output_type": "execute_result",
          "data": {
            "text/plain": "array([0.17545521, 0.2965624 , 0.3892116 , 0.47201271, 0.53940836,\n       0.59216481, 0.64036026, 0.68527879, 0.72651076, 0.76601814,\n       0.80462955, 0.8430524 , 0.87997473, 0.91374341, 0.94258893,\n       0.96944394, 0.99030897, 1.        , 1.        , 1.        ,\n       1.        , 1.        , 1.        , 1.        , 1.        ,\n       1.        ])"
          },
          "metadata": {}
        }
      ],
      "execution_count": 80
    },
    {
      "cell_type": "code",
      "source": "np.argmax(cumsum >= .95)",
      "metadata": {
        "trusted": true
      },
      "outputs": [
        {
          "execution_count": 84,
          "output_type": "execute_result",
          "data": {
            "text/plain": "15"
          },
          "metadata": {}
        }
      ],
      "execution_count": 84
    },
    {
      "cell_type": "code",
      "source": "d = np.argmax(cumsum >= .95) + 1\nd",
      "metadata": {
        "trusted": true
      },
      "outputs": [
        {
          "execution_count": 85,
          "output_type": "execute_result",
          "data": {
            "text/plain": "16"
          },
          "metadata": {}
        }
      ],
      "execution_count": 85
    },
    {
      "cell_type": "markdown",
      "source": "There are 16 components required to meet 95% variance. Therefore, we could set n_components = 16 and run PCA again. However, there is better way, instead of specifying the number of principal components you want to preserve, you can set n_components to be a float between 0.0 and 1.0, indicating the ratio of variance you wish to preserve.\n",
      "metadata": {}
    },
    {
      "cell_type": "code",
      "source": "pca = PCA(n_components=0.95)\nx_reduced = pca.fit_transform(x)\nx_reduced",
      "metadata": {
        "trusted": true
      },
      "outputs": [
        {
          "execution_count": 83,
          "output_type": "execute_result",
          "data": {
            "text/plain": "array([[-2.87559235, -0.55520415, -2.28555147, ...,  2.18750011,\n        -0.70745116, -0.06324468],\n       [ 0.31882945,  2.39235354,  0.59509343, ..., -1.21543437,\n         1.05186859, -0.49121596],\n       [ 3.05931822, -0.52686459,  0.01582784, ..., -0.82295224,\n         0.85188159,  0.92235252],\n       ...,\n       [-2.24752702, -0.58854579, -2.08260251, ..., -2.44646124,\n         1.0653453 ,  0.10135635],\n       [-2.69895755, -0.28856263, -2.56573449, ...,  1.99195118,\n         0.71054376,  0.9266815 ],\n       [ 1.92548188, -1.10426513,  0.10391506, ..., -0.13907595,\n         1.44700886, -0.02491626]])"
          },
          "metadata": {}
        }
      ],
      "execution_count": 83
    },
    {
      "cell_type": "markdown",
      "source": "There is also a graphical way to determine the number of principal components in your analysis. It is to plot the explained variance as a function of the number of dimensions. There will usually be an elbow in the curve, where the explained variance stops growing fast. That point is usually the optimal point for the number of principal components.\n",
      "metadata": {}
    },
    {
      "cell_type": "code",
      "source": "px.area(\n    x=range(1, cumsum.shape[0] + 1),\n    y=cumsum,\n    labels={\"x\": \"# Components\", \"y\": \"Explained Variance\"}\n)",
      "metadata": {
        "trusted": true
      },
      "outputs": [
        {
          "output_type": "display_data",
          "data": {
            "application/vnd.plotly.v1+json": {
              "data": [
                {
                  "fillpattern": {
                    "shape": ""
                  },
                  "hovertemplate": "# Components=%{x}<br>Explained Variance=%{y}<extra></extra>",
                  "legendgroup": "",
                  "line": {
                    "color": "#636efa"
                  },
                  "marker": {
                    "symbol": "circle"
                  },
                  "mode": "lines",
                  "name": "",
                  "orientation": "v",
                  "showlegend": false,
                  "stackgroup": "1",
                  "x": [
                    1,
                    2,
                    3,
                    4,
                    5,
                    6,
                    7,
                    8,
                    9,
                    10,
                    11,
                    12,
                    13,
                    14,
                    15,
                    16,
                    17,
                    18,
                    19,
                    20,
                    21,
                    22,
                    23,
                    24,
                    25,
                    26
                  ],
                  "xaxis": "x",
                  "y": [
                    0.17545521174120615,
                    0.2965623971493235,
                    0.3892116003649081,
                    0.4720127064609653,
                    0.5394083576785772,
                    0.5921648126724575,
                    0.6403602569762601,
                    0.6852787912567472,
                    0.7265107629479897,
                    0.7660181396459809,
                    0.8046295549519953,
                    0.8430524006416427,
                    0.8799747298931158,
                    0.9137434106090394,
                    0.9425889258840524,
                    0.9694439366021577,
                    0.9903089707530415,
                    0.9999999999999998,
                    0.9999999999999998,
                    0.9999999999999998,
                    0.9999999999999998,
                    0.9999999999999998,
                    0.9999999999999998,
                    0.9999999999999998,
                    0.9999999999999998,
                    0.9999999999999998
                  ],
                  "yaxis": "y",
                  "type": "scatter"
                }
              ],
              "layout": {
                "template": {
                  "data": {
                    "histogram2dcontour": [
                      {
                        "type": "histogram2dcontour",
                        "colorbar": {
                          "outlinewidth": 0,
                          "ticks": ""
                        },
                        "colorscale": [
                          [
                            0,
                            "#0d0887"
                          ],
                          [
                            0.1111111111111111,
                            "#46039f"
                          ],
                          [
                            0.2222222222222222,
                            "#7201a8"
                          ],
                          [
                            0.3333333333333333,
                            "#9c179e"
                          ],
                          [
                            0.4444444444444444,
                            "#bd3786"
                          ],
                          [
                            0.5555555555555556,
                            "#d8576b"
                          ],
                          [
                            0.6666666666666666,
                            "#ed7953"
                          ],
                          [
                            0.7777777777777778,
                            "#fb9f3a"
                          ],
                          [
                            0.8888888888888888,
                            "#fdca26"
                          ],
                          [
                            1,
                            "#f0f921"
                          ]
                        ]
                      }
                    ],
                    "choropleth": [
                      {
                        "type": "choropleth",
                        "colorbar": {
                          "outlinewidth": 0,
                          "ticks": ""
                        }
                      }
                    ],
                    "histogram2d": [
                      {
                        "type": "histogram2d",
                        "colorbar": {
                          "outlinewidth": 0,
                          "ticks": ""
                        },
                        "colorscale": [
                          [
                            0,
                            "#0d0887"
                          ],
                          [
                            0.1111111111111111,
                            "#46039f"
                          ],
                          [
                            0.2222222222222222,
                            "#7201a8"
                          ],
                          [
                            0.3333333333333333,
                            "#9c179e"
                          ],
                          [
                            0.4444444444444444,
                            "#bd3786"
                          ],
                          [
                            0.5555555555555556,
                            "#d8576b"
                          ],
                          [
                            0.6666666666666666,
                            "#ed7953"
                          ],
                          [
                            0.7777777777777778,
                            "#fb9f3a"
                          ],
                          [
                            0.8888888888888888,
                            "#fdca26"
                          ],
                          [
                            1,
                            "#f0f921"
                          ]
                        ]
                      }
                    ],
                    "heatmap": [
                      {
                        "type": "heatmap",
                        "colorbar": {
                          "outlinewidth": 0,
                          "ticks": ""
                        },
                        "colorscale": [
                          [
                            0,
                            "#0d0887"
                          ],
                          [
                            0.1111111111111111,
                            "#46039f"
                          ],
                          [
                            0.2222222222222222,
                            "#7201a8"
                          ],
                          [
                            0.3333333333333333,
                            "#9c179e"
                          ],
                          [
                            0.4444444444444444,
                            "#bd3786"
                          ],
                          [
                            0.5555555555555556,
                            "#d8576b"
                          ],
                          [
                            0.6666666666666666,
                            "#ed7953"
                          ],
                          [
                            0.7777777777777778,
                            "#fb9f3a"
                          ],
                          [
                            0.8888888888888888,
                            "#fdca26"
                          ],
                          [
                            1,
                            "#f0f921"
                          ]
                        ]
                      }
                    ],
                    "heatmapgl": [
                      {
                        "type": "heatmapgl",
                        "colorbar": {
                          "outlinewidth": 0,
                          "ticks": ""
                        },
                        "colorscale": [
                          [
                            0,
                            "#0d0887"
                          ],
                          [
                            0.1111111111111111,
                            "#46039f"
                          ],
                          [
                            0.2222222222222222,
                            "#7201a8"
                          ],
                          [
                            0.3333333333333333,
                            "#9c179e"
                          ],
                          [
                            0.4444444444444444,
                            "#bd3786"
                          ],
                          [
                            0.5555555555555556,
                            "#d8576b"
                          ],
                          [
                            0.6666666666666666,
                            "#ed7953"
                          ],
                          [
                            0.7777777777777778,
                            "#fb9f3a"
                          ],
                          [
                            0.8888888888888888,
                            "#fdca26"
                          ],
                          [
                            1,
                            "#f0f921"
                          ]
                        ]
                      }
                    ],
                    "contourcarpet": [
                      {
                        "type": "contourcarpet",
                        "colorbar": {
                          "outlinewidth": 0,
                          "ticks": ""
                        }
                      }
                    ],
                    "contour": [
                      {
                        "type": "contour",
                        "colorbar": {
                          "outlinewidth": 0,
                          "ticks": ""
                        },
                        "colorscale": [
                          [
                            0,
                            "#0d0887"
                          ],
                          [
                            0.1111111111111111,
                            "#46039f"
                          ],
                          [
                            0.2222222222222222,
                            "#7201a8"
                          ],
                          [
                            0.3333333333333333,
                            "#9c179e"
                          ],
                          [
                            0.4444444444444444,
                            "#bd3786"
                          ],
                          [
                            0.5555555555555556,
                            "#d8576b"
                          ],
                          [
                            0.6666666666666666,
                            "#ed7953"
                          ],
                          [
                            0.7777777777777778,
                            "#fb9f3a"
                          ],
                          [
                            0.8888888888888888,
                            "#fdca26"
                          ],
                          [
                            1,
                            "#f0f921"
                          ]
                        ]
                      }
                    ],
                    "surface": [
                      {
                        "type": "surface",
                        "colorbar": {
                          "outlinewidth": 0,
                          "ticks": ""
                        },
                        "colorscale": [
                          [
                            0,
                            "#0d0887"
                          ],
                          [
                            0.1111111111111111,
                            "#46039f"
                          ],
                          [
                            0.2222222222222222,
                            "#7201a8"
                          ],
                          [
                            0.3333333333333333,
                            "#9c179e"
                          ],
                          [
                            0.4444444444444444,
                            "#bd3786"
                          ],
                          [
                            0.5555555555555556,
                            "#d8576b"
                          ],
                          [
                            0.6666666666666666,
                            "#ed7953"
                          ],
                          [
                            0.7777777777777778,
                            "#fb9f3a"
                          ],
                          [
                            0.8888888888888888,
                            "#fdca26"
                          ],
                          [
                            1,
                            "#f0f921"
                          ]
                        ]
                      }
                    ],
                    "mesh3d": [
                      {
                        "type": "mesh3d",
                        "colorbar": {
                          "outlinewidth": 0,
                          "ticks": ""
                        }
                      }
                    ],
                    "scatter": [
                      {
                        "fillpattern": {
                          "fillmode": "overlay",
                          "size": 10,
                          "solidity": 0.2
                        },
                        "type": "scatter"
                      }
                    ],
                    "parcoords": [
                      {
                        "type": "parcoords",
                        "line": {
                          "colorbar": {
                            "outlinewidth": 0,
                            "ticks": ""
                          }
                        }
                      }
                    ],
                    "scatterpolargl": [
                      {
                        "type": "scatterpolargl",
                        "marker": {
                          "colorbar": {
                            "outlinewidth": 0,
                            "ticks": ""
                          }
                        }
                      }
                    ],
                    "bar": [
                      {
                        "error_x": {
                          "color": "#2a3f5f"
                        },
                        "error_y": {
                          "color": "#2a3f5f"
                        },
                        "marker": {
                          "line": {
                            "color": "#E5ECF6",
                            "width": 0.5
                          },
                          "pattern": {
                            "fillmode": "overlay",
                            "size": 10,
                            "solidity": 0.2
                          }
                        },
                        "type": "bar"
                      }
                    ],
                    "scattergeo": [
                      {
                        "type": "scattergeo",
                        "marker": {
                          "colorbar": {
                            "outlinewidth": 0,
                            "ticks": ""
                          }
                        }
                      }
                    ],
                    "scatterpolar": [
                      {
                        "type": "scatterpolar",
                        "marker": {
                          "colorbar": {
                            "outlinewidth": 0,
                            "ticks": ""
                          }
                        }
                      }
                    ],
                    "histogram": [
                      {
                        "marker": {
                          "pattern": {
                            "fillmode": "overlay",
                            "size": 10,
                            "solidity": 0.2
                          }
                        },
                        "type": "histogram"
                      }
                    ],
                    "scattergl": [
                      {
                        "type": "scattergl",
                        "marker": {
                          "colorbar": {
                            "outlinewidth": 0,
                            "ticks": ""
                          }
                        }
                      }
                    ],
                    "scatter3d": [
                      {
                        "type": "scatter3d",
                        "line": {
                          "colorbar": {
                            "outlinewidth": 0,
                            "ticks": ""
                          }
                        },
                        "marker": {
                          "colorbar": {
                            "outlinewidth": 0,
                            "ticks": ""
                          }
                        }
                      }
                    ],
                    "scattermapbox": [
                      {
                        "type": "scattermapbox",
                        "marker": {
                          "colorbar": {
                            "outlinewidth": 0,
                            "ticks": ""
                          }
                        }
                      }
                    ],
                    "scatterternary": [
                      {
                        "type": "scatterternary",
                        "marker": {
                          "colorbar": {
                            "outlinewidth": 0,
                            "ticks": ""
                          }
                        }
                      }
                    ],
                    "scattercarpet": [
                      {
                        "type": "scattercarpet",
                        "marker": {
                          "colorbar": {
                            "outlinewidth": 0,
                            "ticks": ""
                          }
                        }
                      }
                    ],
                    "carpet": [
                      {
                        "aaxis": {
                          "endlinecolor": "#2a3f5f",
                          "gridcolor": "white",
                          "linecolor": "white",
                          "minorgridcolor": "white",
                          "startlinecolor": "#2a3f5f"
                        },
                        "baxis": {
                          "endlinecolor": "#2a3f5f",
                          "gridcolor": "white",
                          "linecolor": "white",
                          "minorgridcolor": "white",
                          "startlinecolor": "#2a3f5f"
                        },
                        "type": "carpet"
                      }
                    ],
                    "table": [
                      {
                        "cells": {
                          "fill": {
                            "color": "#EBF0F8"
                          },
                          "line": {
                            "color": "white"
                          }
                        },
                        "header": {
                          "fill": {
                            "color": "#C8D4E3"
                          },
                          "line": {
                            "color": "white"
                          }
                        },
                        "type": "table"
                      }
                    ],
                    "barpolar": [
                      {
                        "marker": {
                          "line": {
                            "color": "#E5ECF6",
                            "width": 0.5
                          },
                          "pattern": {
                            "fillmode": "overlay",
                            "size": 10,
                            "solidity": 0.2
                          }
                        },
                        "type": "barpolar"
                      }
                    ],
                    "pie": [
                      {
                        "automargin": true,
                        "type": "pie"
                      }
                    ]
                  },
                  "layout": {
                    "autotypenumbers": "strict",
                    "colorway": [
                      "#636efa",
                      "#EF553B",
                      "#00cc96",
                      "#ab63fa",
                      "#FFA15A",
                      "#19d3f3",
                      "#FF6692",
                      "#B6E880",
                      "#FF97FF",
                      "#FECB52"
                    ],
                    "font": {
                      "color": "#2a3f5f"
                    },
                    "hovermode": "closest",
                    "hoverlabel": {
                      "align": "left"
                    },
                    "paper_bgcolor": "white",
                    "plot_bgcolor": "#E5ECF6",
                    "polar": {
                      "bgcolor": "#E5ECF6",
                      "angularaxis": {
                        "gridcolor": "white",
                        "linecolor": "white",
                        "ticks": ""
                      },
                      "radialaxis": {
                        "gridcolor": "white",
                        "linecolor": "white",
                        "ticks": ""
                      }
                    },
                    "ternary": {
                      "bgcolor": "#E5ECF6",
                      "aaxis": {
                        "gridcolor": "white",
                        "linecolor": "white",
                        "ticks": ""
                      },
                      "baxis": {
                        "gridcolor": "white",
                        "linecolor": "white",
                        "ticks": ""
                      },
                      "caxis": {
                        "gridcolor": "white",
                        "linecolor": "white",
                        "ticks": ""
                      }
                    },
                    "coloraxis": {
                      "colorbar": {
                        "outlinewidth": 0,
                        "ticks": ""
                      }
                    },
                    "colorscale": {
                      "sequential": [
                        [
                          0,
                          "#0d0887"
                        ],
                        [
                          0.1111111111111111,
                          "#46039f"
                        ],
                        [
                          0.2222222222222222,
                          "#7201a8"
                        ],
                        [
                          0.3333333333333333,
                          "#9c179e"
                        ],
                        [
                          0.4444444444444444,
                          "#bd3786"
                        ],
                        [
                          0.5555555555555556,
                          "#d8576b"
                        ],
                        [
                          0.6666666666666666,
                          "#ed7953"
                        ],
                        [
                          0.7777777777777778,
                          "#fb9f3a"
                        ],
                        [
                          0.8888888888888888,
                          "#fdca26"
                        ],
                        [
                          1,
                          "#f0f921"
                        ]
                      ],
                      "sequentialminus": [
                        [
                          0,
                          "#0d0887"
                        ],
                        [
                          0.1111111111111111,
                          "#46039f"
                        ],
                        [
                          0.2222222222222222,
                          "#7201a8"
                        ],
                        [
                          0.3333333333333333,
                          "#9c179e"
                        ],
                        [
                          0.4444444444444444,
                          "#bd3786"
                        ],
                        [
                          0.5555555555555556,
                          "#d8576b"
                        ],
                        [
                          0.6666666666666666,
                          "#ed7953"
                        ],
                        [
                          0.7777777777777778,
                          "#fb9f3a"
                        ],
                        [
                          0.8888888888888888,
                          "#fdca26"
                        ],
                        [
                          1,
                          "#f0f921"
                        ]
                      ],
                      "diverging": [
                        [
                          0,
                          "#8e0152"
                        ],
                        [
                          0.1,
                          "#c51b7d"
                        ],
                        [
                          0.2,
                          "#de77ae"
                        ],
                        [
                          0.3,
                          "#f1b6da"
                        ],
                        [
                          0.4,
                          "#fde0ef"
                        ],
                        [
                          0.5,
                          "#f7f7f7"
                        ],
                        [
                          0.6,
                          "#e6f5d0"
                        ],
                        [
                          0.7,
                          "#b8e186"
                        ],
                        [
                          0.8,
                          "#7fbc41"
                        ],
                        [
                          0.9,
                          "#4d9221"
                        ],
                        [
                          1,
                          "#276419"
                        ]
                      ]
                    },
                    "xaxis": {
                      "gridcolor": "white",
                      "linecolor": "white",
                      "ticks": "",
                      "title": {
                        "standoff": 15
                      },
                      "zerolinecolor": "white",
                      "automargin": true,
                      "zerolinewidth": 2
                    },
                    "yaxis": {
                      "gridcolor": "white",
                      "linecolor": "white",
                      "ticks": "",
                      "title": {
                        "standoff": 15
                      },
                      "zerolinecolor": "white",
                      "automargin": true,
                      "zerolinewidth": 2
                    },
                    "scene": {
                      "xaxis": {
                        "backgroundcolor": "#E5ECF6",
                        "gridcolor": "white",
                        "linecolor": "white",
                        "showbackground": true,
                        "ticks": "",
                        "zerolinecolor": "white",
                        "gridwidth": 2
                      },
                      "yaxis": {
                        "backgroundcolor": "#E5ECF6",
                        "gridcolor": "white",
                        "linecolor": "white",
                        "showbackground": true,
                        "ticks": "",
                        "zerolinecolor": "white",
                        "gridwidth": 2
                      },
                      "zaxis": {
                        "backgroundcolor": "#E5ECF6",
                        "gridcolor": "white",
                        "linecolor": "white",
                        "showbackground": true,
                        "ticks": "",
                        "zerolinecolor": "white",
                        "gridwidth": 2
                      }
                    },
                    "shapedefaults": {
                      "line": {
                        "color": "#2a3f5f"
                      }
                    },
                    "annotationdefaults": {
                      "arrowcolor": "#2a3f5f",
                      "arrowhead": 0,
                      "arrowwidth": 1
                    },
                    "geo": {
                      "bgcolor": "white",
                      "landcolor": "#E5ECF6",
                      "subunitcolor": "white",
                      "showland": true,
                      "showlakes": true,
                      "lakecolor": "white"
                    },
                    "title": {
                      "x": 0.05
                    },
                    "mapbox": {
                      "style": "light"
                    }
                  }
                },
                "xaxis": {
                  "anchor": "y",
                  "domain": [
                    0,
                    1
                  ],
                  "title": {
                    "text": "# Components"
                  },
                  "type": "linear",
                  "range": [
                    1,
                    26
                  ],
                  "autorange": true
                },
                "yaxis": {
                  "anchor": "x",
                  "domain": [
                    0,
                    1
                  ],
                  "title": {
                    "text": "Explained Variance"
                  },
                  "type": "linear",
                  "range": [
                    0,
                    1.0526315789473681
                  ],
                  "autorange": true
                },
                "legend": {
                  "tracegroupgap": 0
                },
                "margin": {
                  "t": 60
                },
                "autosize": true
              },
              "config": {
                "plotlyServerURL": "https://plot.ly"
              }
            },
            "text/html": "<div>                            <div id=\"f632eeb1-48ba-4fbe-962c-206ede863cb5\" class=\"plotly-graph-div\" style=\"height:525px; width:100%;\"></div>            <script type=\"text/javascript\">                require([\"plotly\"], function(Plotly) {                    window.PLOTLYENV=window.PLOTLYENV || {};                                    if (document.getElementById(\"f632eeb1-48ba-4fbe-962c-206ede863cb5\")) {                    Plotly.newPlot(                        \"f632eeb1-48ba-4fbe-962c-206ede863cb5\",                        [{\"fillpattern\":{\"shape\":\"\"},\"hovertemplate\":\"# Components=%{x}\\u003cbr\\u003eExplained Variance=%{y}\\u003cextra\\u003e\\u003c\\u002fextra\\u003e\",\"legendgroup\":\"\",\"line\":{\"color\":\"#636efa\"},\"marker\":{\"symbol\":\"circle\"},\"mode\":\"lines\",\"name\":\"\",\"orientation\":\"v\",\"showlegend\":false,\"stackgroup\":\"1\",\"x\":[1,2,3,4,5,6,7,8,9,10,11,12,13,14,15,16,17,18,19,20,21,22,23,24,25,26],\"xaxis\":\"x\",\"y\":[0.17545521174120615,0.2965623971493235,0.3892116003649081,0.4720127064609653,0.5394083576785772,0.5921648126724575,0.6403602569762601,0.6852787912567472,0.7265107629479897,0.7660181396459809,0.8046295549519953,0.8430524006416427,0.8799747298931158,0.9137434106090394,0.9425889258840524,0.9694439366021577,0.9903089707530415,0.9999999999999998,0.9999999999999998,0.9999999999999998,0.9999999999999998,0.9999999999999998,0.9999999999999998,0.9999999999999998,0.9999999999999998,0.9999999999999998],\"yaxis\":\"y\",\"type\":\"scatter\"}],                        {\"template\":{\"data\":{\"histogram2dcontour\":[{\"type\":\"histogram2dcontour\",\"colorbar\":{\"outlinewidth\":0,\"ticks\":\"\"},\"colorscale\":[[0.0,\"#0d0887\"],[0.1111111111111111,\"#46039f\"],[0.2222222222222222,\"#7201a8\"],[0.3333333333333333,\"#9c179e\"],[0.4444444444444444,\"#bd3786\"],[0.5555555555555556,\"#d8576b\"],[0.6666666666666666,\"#ed7953\"],[0.7777777777777778,\"#fb9f3a\"],[0.8888888888888888,\"#fdca26\"],[1.0,\"#f0f921\"]]}],\"choropleth\":[{\"type\":\"choropleth\",\"colorbar\":{\"outlinewidth\":0,\"ticks\":\"\"}}],\"histogram2d\":[{\"type\":\"histogram2d\",\"colorbar\":{\"outlinewidth\":0,\"ticks\":\"\"},\"colorscale\":[[0.0,\"#0d0887\"],[0.1111111111111111,\"#46039f\"],[0.2222222222222222,\"#7201a8\"],[0.3333333333333333,\"#9c179e\"],[0.4444444444444444,\"#bd3786\"],[0.5555555555555556,\"#d8576b\"],[0.6666666666666666,\"#ed7953\"],[0.7777777777777778,\"#fb9f3a\"],[0.8888888888888888,\"#fdca26\"],[1.0,\"#f0f921\"]]}],\"heatmap\":[{\"type\":\"heatmap\",\"colorbar\":{\"outlinewidth\":0,\"ticks\":\"\"},\"colorscale\":[[0.0,\"#0d0887\"],[0.1111111111111111,\"#46039f\"],[0.2222222222222222,\"#7201a8\"],[0.3333333333333333,\"#9c179e\"],[0.4444444444444444,\"#bd3786\"],[0.5555555555555556,\"#d8576b\"],[0.6666666666666666,\"#ed7953\"],[0.7777777777777778,\"#fb9f3a\"],[0.8888888888888888,\"#fdca26\"],[1.0,\"#f0f921\"]]}],\"heatmapgl\":[{\"type\":\"heatmapgl\",\"colorbar\":{\"outlinewidth\":0,\"ticks\":\"\"},\"colorscale\":[[0.0,\"#0d0887\"],[0.1111111111111111,\"#46039f\"],[0.2222222222222222,\"#7201a8\"],[0.3333333333333333,\"#9c179e\"],[0.4444444444444444,\"#bd3786\"],[0.5555555555555556,\"#d8576b\"],[0.6666666666666666,\"#ed7953\"],[0.7777777777777778,\"#fb9f3a\"],[0.8888888888888888,\"#fdca26\"],[1.0,\"#f0f921\"]]}],\"contourcarpet\":[{\"type\":\"contourcarpet\",\"colorbar\":{\"outlinewidth\":0,\"ticks\":\"\"}}],\"contour\":[{\"type\":\"contour\",\"colorbar\":{\"outlinewidth\":0,\"ticks\":\"\"},\"colorscale\":[[0.0,\"#0d0887\"],[0.1111111111111111,\"#46039f\"],[0.2222222222222222,\"#7201a8\"],[0.3333333333333333,\"#9c179e\"],[0.4444444444444444,\"#bd3786\"],[0.5555555555555556,\"#d8576b\"],[0.6666666666666666,\"#ed7953\"],[0.7777777777777778,\"#fb9f3a\"],[0.8888888888888888,\"#fdca26\"],[1.0,\"#f0f921\"]]}],\"surface\":[{\"type\":\"surface\",\"colorbar\":{\"outlinewidth\":0,\"ticks\":\"\"},\"colorscale\":[[0.0,\"#0d0887\"],[0.1111111111111111,\"#46039f\"],[0.2222222222222222,\"#7201a8\"],[0.3333333333333333,\"#9c179e\"],[0.4444444444444444,\"#bd3786\"],[0.5555555555555556,\"#d8576b\"],[0.6666666666666666,\"#ed7953\"],[0.7777777777777778,\"#fb9f3a\"],[0.8888888888888888,\"#fdca26\"],[1.0,\"#f0f921\"]]}],\"mesh3d\":[{\"type\":\"mesh3d\",\"colorbar\":{\"outlinewidth\":0,\"ticks\":\"\"}}],\"scatter\":[{\"fillpattern\":{\"fillmode\":\"overlay\",\"size\":10,\"solidity\":0.2},\"type\":\"scatter\"}],\"parcoords\":[{\"type\":\"parcoords\",\"line\":{\"colorbar\":{\"outlinewidth\":0,\"ticks\":\"\"}}}],\"scatterpolargl\":[{\"type\":\"scatterpolargl\",\"marker\":{\"colorbar\":{\"outlinewidth\":0,\"ticks\":\"\"}}}],\"bar\":[{\"error_x\":{\"color\":\"#2a3f5f\"},\"error_y\":{\"color\":\"#2a3f5f\"},\"marker\":{\"line\":{\"color\":\"#E5ECF6\",\"width\":0.5},\"pattern\":{\"fillmode\":\"overlay\",\"size\":10,\"solidity\":0.2}},\"type\":\"bar\"}],\"scattergeo\":[{\"type\":\"scattergeo\",\"marker\":{\"colorbar\":{\"outlinewidth\":0,\"ticks\":\"\"}}}],\"scatterpolar\":[{\"type\":\"scatterpolar\",\"marker\":{\"colorbar\":{\"outlinewidth\":0,\"ticks\":\"\"}}}],\"histogram\":[{\"marker\":{\"pattern\":{\"fillmode\":\"overlay\",\"size\":10,\"solidity\":0.2}},\"type\":\"histogram\"}],\"scattergl\":[{\"type\":\"scattergl\",\"marker\":{\"colorbar\":{\"outlinewidth\":0,\"ticks\":\"\"}}}],\"scatter3d\":[{\"type\":\"scatter3d\",\"line\":{\"colorbar\":{\"outlinewidth\":0,\"ticks\":\"\"}},\"marker\":{\"colorbar\":{\"outlinewidth\":0,\"ticks\":\"\"}}}],\"scattermapbox\":[{\"type\":\"scattermapbox\",\"marker\":{\"colorbar\":{\"outlinewidth\":0,\"ticks\":\"\"}}}],\"scatterternary\":[{\"type\":\"scatterternary\",\"marker\":{\"colorbar\":{\"outlinewidth\":0,\"ticks\":\"\"}}}],\"scattercarpet\":[{\"type\":\"scattercarpet\",\"marker\":{\"colorbar\":{\"outlinewidth\":0,\"ticks\":\"\"}}}],\"carpet\":[{\"aaxis\":{\"endlinecolor\":\"#2a3f5f\",\"gridcolor\":\"white\",\"linecolor\":\"white\",\"minorgridcolor\":\"white\",\"startlinecolor\":\"#2a3f5f\"},\"baxis\":{\"endlinecolor\":\"#2a3f5f\",\"gridcolor\":\"white\",\"linecolor\":\"white\",\"minorgridcolor\":\"white\",\"startlinecolor\":\"#2a3f5f\"},\"type\":\"carpet\"}],\"table\":[{\"cells\":{\"fill\":{\"color\":\"#EBF0F8\"},\"line\":{\"color\":\"white\"}},\"header\":{\"fill\":{\"color\":\"#C8D4E3\"},\"line\":{\"color\":\"white\"}},\"type\":\"table\"}],\"barpolar\":[{\"marker\":{\"line\":{\"color\":\"#E5ECF6\",\"width\":0.5},\"pattern\":{\"fillmode\":\"overlay\",\"size\":10,\"solidity\":0.2}},\"type\":\"barpolar\"}],\"pie\":[{\"automargin\":true,\"type\":\"pie\"}]},\"layout\":{\"autotypenumbers\":\"strict\",\"colorway\":[\"#636efa\",\"#EF553B\",\"#00cc96\",\"#ab63fa\",\"#FFA15A\",\"#19d3f3\",\"#FF6692\",\"#B6E880\",\"#FF97FF\",\"#FECB52\"],\"font\":{\"color\":\"#2a3f5f\"},\"hovermode\":\"closest\",\"hoverlabel\":{\"align\":\"left\"},\"paper_bgcolor\":\"white\",\"plot_bgcolor\":\"#E5ECF6\",\"polar\":{\"bgcolor\":\"#E5ECF6\",\"angularaxis\":{\"gridcolor\":\"white\",\"linecolor\":\"white\",\"ticks\":\"\"},\"radialaxis\":{\"gridcolor\":\"white\",\"linecolor\":\"white\",\"ticks\":\"\"}},\"ternary\":{\"bgcolor\":\"#E5ECF6\",\"aaxis\":{\"gridcolor\":\"white\",\"linecolor\":\"white\",\"ticks\":\"\"},\"baxis\":{\"gridcolor\":\"white\",\"linecolor\":\"white\",\"ticks\":\"\"},\"caxis\":{\"gridcolor\":\"white\",\"linecolor\":\"white\",\"ticks\":\"\"}},\"coloraxis\":{\"colorbar\":{\"outlinewidth\":0,\"ticks\":\"\"}},\"colorscale\":{\"sequential\":[[0.0,\"#0d0887\"],[0.1111111111111111,\"#46039f\"],[0.2222222222222222,\"#7201a8\"],[0.3333333333333333,\"#9c179e\"],[0.4444444444444444,\"#bd3786\"],[0.5555555555555556,\"#d8576b\"],[0.6666666666666666,\"#ed7953\"],[0.7777777777777778,\"#fb9f3a\"],[0.8888888888888888,\"#fdca26\"],[1.0,\"#f0f921\"]],\"sequentialminus\":[[0.0,\"#0d0887\"],[0.1111111111111111,\"#46039f\"],[0.2222222222222222,\"#7201a8\"],[0.3333333333333333,\"#9c179e\"],[0.4444444444444444,\"#bd3786\"],[0.5555555555555556,\"#d8576b\"],[0.6666666666666666,\"#ed7953\"],[0.7777777777777778,\"#fb9f3a\"],[0.8888888888888888,\"#fdca26\"],[1.0,\"#f0f921\"]],\"diverging\":[[0,\"#8e0152\"],[0.1,\"#c51b7d\"],[0.2,\"#de77ae\"],[0.3,\"#f1b6da\"],[0.4,\"#fde0ef\"],[0.5,\"#f7f7f7\"],[0.6,\"#e6f5d0\"],[0.7,\"#b8e186\"],[0.8,\"#7fbc41\"],[0.9,\"#4d9221\"],[1,\"#276419\"]]},\"xaxis\":{\"gridcolor\":\"white\",\"linecolor\":\"white\",\"ticks\":\"\",\"title\":{\"standoff\":15},\"zerolinecolor\":\"white\",\"automargin\":true,\"zerolinewidth\":2},\"yaxis\":{\"gridcolor\":\"white\",\"linecolor\":\"white\",\"ticks\":\"\",\"title\":{\"standoff\":15},\"zerolinecolor\":\"white\",\"automargin\":true,\"zerolinewidth\":2},\"scene\":{\"xaxis\":{\"backgroundcolor\":\"#E5ECF6\",\"gridcolor\":\"white\",\"linecolor\":\"white\",\"showbackground\":true,\"ticks\":\"\",\"zerolinecolor\":\"white\",\"gridwidth\":2},\"yaxis\":{\"backgroundcolor\":\"#E5ECF6\",\"gridcolor\":\"white\",\"linecolor\":\"white\",\"showbackground\":true,\"ticks\":\"\",\"zerolinecolor\":\"white\",\"gridwidth\":2},\"zaxis\":{\"backgroundcolor\":\"#E5ECF6\",\"gridcolor\":\"white\",\"linecolor\":\"white\",\"showbackground\":true,\"ticks\":\"\",\"zerolinecolor\":\"white\",\"gridwidth\":2}},\"shapedefaults\":{\"line\":{\"color\":\"#2a3f5f\"}},\"annotationdefaults\":{\"arrowcolor\":\"#2a3f5f\",\"arrowhead\":0,\"arrowwidth\":1},\"geo\":{\"bgcolor\":\"white\",\"landcolor\":\"#E5ECF6\",\"subunitcolor\":\"white\",\"showland\":true,\"showlakes\":true,\"lakecolor\":\"white\"},\"title\":{\"x\":0.05},\"mapbox\":{\"style\":\"light\"}}},\"xaxis\":{\"anchor\":\"y\",\"domain\":[0.0,1.0],\"title\":{\"text\":\"# Components\"}},\"yaxis\":{\"anchor\":\"x\",\"domain\":[0.0,1.0],\"title\":{\"text\":\"Explained Variance\"}},\"legend\":{\"tracegroupgap\":0},\"margin\":{\"t\":60}},                        {\"responsive\": true}                    ).then(function(){\n                            \nvar gd = document.getElementById('f632eeb1-48ba-4fbe-962c-206ede863cb5');\nvar x = new MutationObserver(function (mutations, observer) {{\n        var display = window.getComputedStyle(gd).display;\n        if (!display || display === 'none') {{\n            console.log([gd, 'removed!']);\n            Plotly.purge(gd);\n            observer.disconnect();\n        }}\n}});\n\n// Listen for the removal of the full notebook cells\nvar notebookContainer = gd.closest('#notebook-container');\nif (notebookContainer) {{\n    x.observe(notebookContainer, {childList: true});\n}}\n\n// Listen for the clearing of the current output cell\nvar outputEl = gd.closest('.output');\nif (outputEl) {{\n    x.observe(outputEl, {childList: true});\n}}\n\n                        })                };                });            </script>        </div>",
            "image/png": "[encoded data removed]"
          },
          "metadata": {}
        },
        {
          "execution_count": 86,
          "output_type": "execute_result",
          "data": {},
          "metadata": {}
        }
      ],
      "execution_count": 86
    },
    {
      "cell_type": "markdown",
      "source": "# Congratulations! - You have completed the lab\n",
      "metadata": {}
    },
    {
      "cell_type": "markdown",
      "source": "## Author\n",
      "metadata": {}
    },
    {
      "cell_type": "markdown",
      "source": "[Svitlana Kramar](https://www.linkedin.com/in/svitlana-kramar/?utm_medium=Exinfluencer&utm_source=Exinfluencer&utm_content=000026UJ&utm_term=10006555&utm_id=NA-SkillsNetwork-Channel-SkillsNetworkCoursesIBMML0232ENSkillsNetwork30654641-2022-01-01)\n",
      "metadata": {}
    },
    {
      "cell_type": "markdown",
      "source": "Copyright © 2020 IBM Corporation. All rights reserved.\n\n<!--\n## Change Log\n\n| Date (YYYY-MM-DD) | Version | Changed By | Change Description      |\n| ----------------- | ------- | ---------- | ----------------------- |\n| 2022-01-17        | 0.1     | Svitlana   | Modified multiple areas |\n--!>\n",
      "metadata": {}
    }
  ]
}