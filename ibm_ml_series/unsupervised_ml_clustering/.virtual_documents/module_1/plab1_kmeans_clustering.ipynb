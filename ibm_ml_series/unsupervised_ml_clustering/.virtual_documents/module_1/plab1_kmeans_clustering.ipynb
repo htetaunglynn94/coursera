




















# All Libraries required for this lab are listed below. The libraries pre-installed on Skills Network Labs are commented.
import piplite
await piplite.install(['skillsnetwork'])
# await piplite.install(['numpy', 'pandas', 'scikit-learn', 'matplotlib'])





def warn(*args, **kwargs):
    pass
import warnings
warnings.warn = warn
warnings.filterwarnings('ignore')

import skillsnetwork
import numpy as np
import pandas as pd
from sklearn.cluster import KMeans
from matplotlib import pyplot as plt
%matplotlib inline
































# Download the dataset and read it into a Pandas dataframe
await skillsnetwork.download('https://cf-courses-data.s3.us.cloud-object-storage.appdomain.cloud/IBM-ML0187EN-SkillsNetwork/labs/module%203/data/CustomerData.csv')
df = pd.read_csv('CustomerData.csv', index_col=0)





df.head()








num_male = df[df['Gender'] == 'Male'].shape[0]
num_female = df[df['Gender'] == 'Female'].shape[0]
plt.pie(
    [num_male, num_female],
    labels=['Male', 'Female'],
    startangle=90,
    autopct='%1.f%%',
    colors=['lavender', 'thistle'])
plt.title('Gender of survey respondants')
plt.show()





plt.hist(df['Annual Income (k$)'], bins=10)
plt.xlabel('Annual Income (k$)')
plt.ylabel('Number of Customers')
plt.show()





xlabel = 'Annual Income (k$)'
ylabel = 'Spending Score (1-100)'
X = df[[xlabel, ylabel]]
plt.scatter(X[xlabel], X[ylabel])
plt.xlabel(xlabel)
plt.ylabel(ylabel)
plt.show()








km = KMeans(n_clusters=5, random_state=42)
km.fit(X)


for label in np.unique(km.labels_):
    X_ = X[label == km.labels_]
    plt.scatter(X_['Annual Income (k$)'], X_['Spending Score (1-100)'], label=label)
plt.xlabel(xlabel)
plt.ylabel(ylabel)
plt.show()











await skillsnetwork.download('https://cf-courses-data.s3.us.cloud-object-storage.appdomain.cloud/IBM-ML0187EN-SkillsNetwork/labs/module%203/images/cameraman.png')
img = plt.imread('cameraman.png')
print(f'The image is {img.shape[0]}px by {img.shape[1]}px')
plt.axis('off')
plt.imshow(img)
plt.show()





k = 2

X = img.reshape(-1, 1)
km = KMeans(n_clusters=k, random_state=42)


km.fit(X)





seg = np.zeros(X.shape)
for i in range(k):
    seg[km.labels_ == i] = km.cluster_centers_[i]
seg = seg.reshape(img.shape)
plt.axis('off')
plt.imshow(seg)





seg = np.zeros(X.shape)
for i in range(k):
    seg[km.labels_ == i] = 255 if km.cluster_centers_[i] > 0.5 else 0
seg = seg.reshape(img.shape).astype(np.uint8)
plt.axis('off')
plt.imshow(seg)
plt.show()





await skillsnetwork.download('https://cf-courses-data.s3.us.cloud-object-storage.appdomain.cloud/IBM-ML0187EN-SkillsNetwork/labs/module%203/images/kingfisher.jpeg')
img = plt.imread('kingfisher.jpeg', format='jpeg')
plt.axis('off')
plt.imshow(img)
plt.show()





# TODO









# TODO









# TODO










