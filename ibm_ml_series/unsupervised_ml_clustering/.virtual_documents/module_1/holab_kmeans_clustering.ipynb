














import numpy as np
import pandas as pd
import seaborn as sns
import matplotlib.pyplot as plt

from sklearn.cluster import KMeans
from sklearn.datasets import make_blobs


# Sets backend to render higher res images
%config InlineBackend.figure_formats = ['retina']


def warn(*args, **kwargs):
    pass

import warnings
warnings.filterwarnings('ignore')








def display_cluster(X, model = [], n_clusters = 0):
    color = 'brgcmyk'

    if n_clusters == 0:
        plt.scatter(x = X[:, 0],  # cosine data
                    y = X[:,1],   # sine data
                    c = color[0], # blue color
                    alpha = 0.5,  # transparency
                    s = 20)       # size of dot
    else:
        for i in range(n_clusters):
            plt.scatter(x = X[model.labels_ == i, 0], # X coordinate of one cluster type
                        y = X[model.labels_ == i, 1], # X coordinate of one cluster type
                        c = color[i], 
                        alpha = 0.5, 
                        s = 20)
            plt.scatter(x = model.cluster_centers_[i][0], # X coordinates of cluster centers
                        y = model.cluster_centers_[i][1], # Y coordinates of cluster centers
                        c = color[i], 
                        marker = 'x', 
                        s = 100)


angle = np.linspace(start = 0, 
            stop = 2 * np.pi, 
            num = 20, 
            endpoint = False)
angle


cos_angle = np.cos(angle)
cos_angle


sin_angle = np.sin(angle) 
sin_angle


X = np.append(arr = [cos_angle], values = [sin_angle], 
              axis=0).T
X


sin_angle.shape, cos_angle.shape, X.shape


display_cluster(X)








n_clusters = 2

km = KMeans(n_clusters = n_clusters,   # number of clusters
            random_state = 10,         # random state
            n_init = 1)                # number of times the K-mean algorithm will run

km.fit(X)


X


km.labels_ # cluster numbers for each point


idx_num = np.where(km.labels_ == 0) # getting index numbers
idx_num


X[idx_num, 0]


X[idx_num, 1]


X[km.labels_ == 0, 1]


km.cluster_centers_ # cluster center's coordinates


km.cluster_centers_[0]


display_cluster(X, km, n_clusters)














samples = 1000
bins = 4
centers = [(-3,-3),(0,0),(3,3),(6,6)]

X, y = make_blobs(n_samples = samples,
                  n_features = 2,    # default value
                  cluster_std = 1,   # default value
                  centers = centers, 
                  shuffle = False, 
                  random_state = 42)


X


y


display_cluster(X)


h, a = make_blobs(n_samples = samples,
                  n_features = 2,    # default value
                  cluster_std = 0.1, 
                  centers = centers, 
                  shuffle = False, 
                  random_state = 42)
display_cluster(h)


# Original plots
plt.scatter(x = X[:,0], y=X[:,1], c = y)








# Seven clusters
clusters = 7
km = KMeans(n_clusters=clusters).fit(X)
display_cluster(X, km, clusters)





# Four clusters
clusters = 4
km = KMeans(n_clusters=clusters).fit(X)
display_cluster(X, km, clusters)








km.inertia_





inertia = []
n_clusters = list(range(1, 11))

for nCluster in n_clusters:
    km = KMeans(n_clusters = nCluster).fit(X)
    inertia.append(km.inertia_)

plt.plot(n_clusters, inertia)
plt.scatter(n_clusters, inertia)
plt.xlabel('Number of Clusters')
plt.ylabel('Inertia')
plt.show()











from PIL import Image
import urllib.request

link = 'https://cf-courses-data.s3.us.cloud-object-storage.appdomain.cloud/IBM-ML0187EN-SkillsNetwork/labs/module%201/images/peppers.jpg'
img = np.array(Image.open(urllib.request.urlopen(link)))
plt.imshow(img)
plt.axis('off')
plt.show()


img.shape





r, g, b = 35, 95, 131 # rgb values 0 ~ 255
plt.imshow([np.array([r,g,b]).astype('uint8')]) # (1 row, 3 channels) 2 D
plt.axis('off')


r, g, b = 35, 95, 131 # rgb values 0 ~ 255
plt.imshow([[np.array([r,g,b]).astype('uint8')]]) # (1, 1, 3) valid pixel RGB image
plt.axis('off')





img.shape


img


img_flat = img.reshape(-1, 3) # -1 for automatic calculation
img_flat[:5, :]


img.reshape(-1, 1).shape


img.shape, img_flat.shape # 480 * 640 = 307200








kmeans = KMeans(n_clusters = 8, random_state = 0).fit(img_flat)





img_flat2 = img_flat.copy()


kmeans.labels_


np.unique(kmeans.labels_) # number of clusters = 8


kmeans.cluster_centers_


kmeans.cluster_centers_[0]


img_flat2


img_flat2[kmeans.labels_ == 0, :] # indices values for label = 0


img_flat2[kmeans.labels_ == 0, :] = kmeans.cluster_centers_[0]
img_flat2[kmeans.labels_ == 0, :]


img_flat2


img_flat2[0]


plt.imshow([[kmeans.cluster_centers_[4].astype('uint8')]]) # (1, 1, 3) valid pixel RGB image
plt.axis('off')


# Assign cluster_center locations into the variable
for i in np.unique(kmeans.labels_):
    img_flat2[kmeans.labels_ == i, :] = kmeans.cluster_centers_[i]





img_2 = img_flat2.reshape(img.shape)
plt.imshow(img_2)
plt.axis('off')





def image_and_inertia(img, k):
    img_flat = img.reshape(img.shape[0] * img.shape[1], 3)
    km = KMeans(n_clusters = k, random_state = 0).fit(img_flat)
    img_flat2 = img_flat.copy()

    # fill cluster centers 
    for i in np.unique(km.labels_):
        img_flat2[km.labels_ == i, :] = km.cluster_centers_[i]

    rimg = img_flat2.reshape(img.shape)
    return rimg, km.inertia_





k = list(range(2,21, 2))  # not use [] instead list()
img_list = []
inertia  = []

for _ in k:
    img2, ine = image_and_inertia(img, _)
    img_list.append(img2)
    inertia.append(ine)


k


inertia


plt.imshow(img2)
plt.axis('off')
plt.show()


plt.plot(k, inertia)
plt.scatter(k, inertia)

for x, y in zip(k, inertia):
    plt.text(x+.7, y+1, x, ha='right', va='bottom', fontsize=8)

plt.xlabel('k')
plt.ylabel('Inertia')
plt.show()








plt.figure(figsize=[10,20])

for i in range(len(k)):
    plt.subplot(5,2, i+1)
    plt.imshow(img_list[i])
    plt.title('k = ' + str (k[i]))
    plt.axis('off')
    
plt.tight_layout()
plt.show()


# Total numbers of colors (or k)
len(np.unique(img_flat, axis=0))



