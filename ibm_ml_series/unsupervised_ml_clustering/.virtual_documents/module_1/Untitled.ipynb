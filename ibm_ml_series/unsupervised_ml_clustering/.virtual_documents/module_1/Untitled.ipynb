import numpy as np
import scipy.stats as ss
import matplotlib.pyplot as plt
from sklearn.mixture import GaussianMixture as GMM
from PIL import Image





means=[2,5,8]
stds=[0.2, 0.5, 0.8]
weights=[0.3, 0.3, 0.4]


mixture_idx = np.random.choice(3, size=10000, replace=True, p=weights)


# generate 10000 possible values of the mixture
X = np.fromiter((ss.norm.rvs(loc=means[i], scale=stds[i]) for i in mixture_idx), dtype=np.float64)


# create x axis of the plot 
xs = np.linspace(X.min(), X.max(), 300)
ps = np.zeros_like(xs)


for mu, s, w in zip(means, stds, weights):
    ps += ss.norm.pdf(xs, loc=mu, scale=s) * w


# sort X in ascending order for plotting purpose
X_sorted = np.sort(X.reshape(-1)).reshape(-1,1)


# fit the GMM
gmm = GMM(n_components=3, random_state=10)
gmm.fit(X_sorted)


# store the predicted probabilities in y1_prob
probs = gmm.predict_proba(X_sorted)


# plot the Gaussian mixture pdf
plt.figure(figsize=(8,6))
plt.plot(xs, ps, label='pdf of the Gaussian mixture')
plt.xlabel("X", fontsize=15)
plt.ylabel("P", fontsize=15)
plt.title("Univariate Gaussian mixture", fontsize=15)

# plot the predicted prior probabilities
plt.plot(X_sorted, probs[:,0], label='Predicted Prob of x belonging to cluster 1')
plt.plot(X_sorted, probs[:,1], label='Predicted Prob of x belonging to cluster 2')
plt.plot(X_sorted, probs[:,2], label='Predicted Prob of x belonging to cluster 3')
plt.scatter(2, 0.6, color='black')
plt.scatter(2, 1.0, color='black')
plt.plot([2, 2], [0.6, 1.0],'--', color='black')
plt.legend(bbox_to_anchor=(0.6,0.7), borderaxespad=0)








img = np.array(Image.open('cat.jpeg'))
plt.imshow(img)
plt.axis('off')
plt.show()


x = img.reshape(-1, 3)
print(x.shape)


gmm = GMM(n_components=8, covariance_type='tied').fit(x)
labels = gmm.predict(x)
labels


seg = np.zeros(x.shape)
seg


for label in range(8):
    seg[labels == label] = gmm.means_[label]
seg


seg = seg.reshape(img.shape).astype(np.uint8)
plt.imshow(seg)
plt.axis('off')
plt.show()
