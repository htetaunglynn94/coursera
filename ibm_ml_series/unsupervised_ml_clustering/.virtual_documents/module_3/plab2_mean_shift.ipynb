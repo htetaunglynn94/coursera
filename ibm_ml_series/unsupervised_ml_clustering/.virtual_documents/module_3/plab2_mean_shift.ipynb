






































# All Libraries required for this lab are listed below. The libraries pre-installed on Skills Network Labs are commented.
#!mamba install -qy pandas==1.3.4 numpy==1.21.4 matplotlib==3.5.0 scikit-learn==0.20.1 scipy==1.7.3
# Note: If your environment doesn't support "!mamba install", use "!pip install pandas==1.3.4 numpy==1.21.4 matplotlib==3.5.0 scikit-learn==0.20.1 scipy==1.7.3"





def warn(*args, **kwargs):
    pass
import warnings 
warnings.warn = warn


import math
import numpy as np
import pandas as pd
import seaborn as sns
import matplotlib.pyplot as plt
from PIL import Image, ImageFilter
import requests
from io import BytesIO
import cv2 as cv

from sklearn.cluster import MeanShift, estimate_bandwidth
# from mpl_toolkits import mplot3d


# Surpress any warnings:
def warn(*args, **kwargs):
    pass
import warnings
warnings.warn = warn

import numpy as np
import cv2 as cv
from sklearn.cluster import MeanShift, estimate_bandwidth
from mpl_toolkits import mplot3d
import pandas as pd
import matplotlib.pyplot as plt
import seaborn as sns
import math

















url = "https://cf-courses-data.s3.us.cloud-object-storage.appdomain.cloud/IBM-ML0187EN-SkillsNetwork/labs/module%202/peppers.jpeg"


response = requests.get(url)
img = np.array(Image.open(BytesIO(response.content)))
plt.imshow(img)
plt.axis('off')
plt.show()


!wget https://cf-courses-data.s3.us.cloud-object-storage.appdomain.cloud/IBM-ML0187EN-SkillsNetwork/labs/module%202/peppers.jpeg


img = cv.imread('peppers.jpeg')
plt.imshow(cv.cvtColor(img, cv.COLOR_BGR2RGB))
plt.show()





img_pil = Image.fromarray(img)
img_fil = img_pil.filter(ImageFilter.MedianFilter(size=7))

plt.imshow(img_fil)
plt.axis('off')
plt.show()


img = cv.medianBlur(img, 7)
plt.imshow(cv.cvtColor(img, cv.COLOR_BGR2RGB))





ax = plt.axes(projection = '3d')
ax.scatter3D(img[:,:,0], img[:,:,1], img[:,:,2])


img_np = np.array(img_fil)
ax = plt.axes(projection = '3d')
ax.scatter3D(img[:,:,0], img[:,:,1], img[:,:,2])
plt.show()


ax = plt.axes(projection ="3d")
ax.scatter3D(img[:,:,0],img[:,:,1],img[:,:,2])
ax.set_title('Pixel Values ')
plt.show()





img.shape








X = img.reshape((-1,3))
print("shape: ",X.shape)
print("data type   : ",X.dtype)





X = np.float32(X)








bandwidth = estimate_bandwidth(X, quantile=.06, n_samples=3000)
bandwidth 





ms = MeanShift(bandwidth=bandwidth,bin_seeding=True)
ms.fit(X)





labeled=ms.labels_
labeled





clusters=ms.predict(X)
clusters





np.unique(labeled)





ms.cluster_centers_





cluster_int8=np.uint8(ms.cluster_centers_)
cluster_int8





ms.predict(X)


ax = plt.axes(projection ="3d")
ax.scatter3D(img[:,:,0],img[:,:,1],img[:,:,2])
ax.set_title('Pixel Values ')
plt.show()

ax = plt.axes(projection ="3d")
ax.set_title('Pixel Cluster Values  ')
ax.scatter3D(cluster_int8[:,0],cluster_int8[:,1],cluster_int8[:,2],color='red')
plt.show()





result=np.zeros(X.shape,dtype=np.uint8)

for label in np.unique(labeled):
    result[labeled==label,:]=cluster_int8[label,:]    
    

result=result.reshape(img.shape)


plt.imshow(cv.cvtColor(result, cv.COLOR_BGR2RGB))
plt.show()





for label in np.unique(labeled):
    result=np.zeros(X.shape,dtype=np.uint8)
    result[labeled==label,:]=cluster_int8[label,:]  
    plt.imshow(cv.cvtColor(result.reshape(img.shape), cv.COLOR_BGR2RGB))
    plt.show()














import requests 
url='https://www.plastform.ca/wp-content/themes/plastform/images/slider-image-2.jpg'
name="my_file.jpg"

with open(name, 'wb') as file:
    file.write(requests.get(url, stream=True).content)
    
img = cv.imread(name)
plt.imshow(cv.cvtColor(img, cv.COLOR_BGR2RGB))
plt.show()





# TO DO





















await skillsnetwork.prepare("https://cf-courses-data.s3.us.cloud-object-storage.appdomain.cloud/IBM-ML0187EN-SkillsNetwork/labs/module%202/titanic.csv", overwrite=True)

df = pd.read_csv("titanic.csv")
df.head()





df=df.drop(columns=['Name','Ticket','Cabin','PassengerId','Embarked'])





df.loc[df['Sex']!='male','Sex']=0
df.loc[df['Sex']=='male','Sex']=1


df.head()





df.isna().sum()





df['Age'].fillna(df['Age'].mean(),inplace=True)





X=df.drop(columns=['Survived'])





X=df.apply(lambda x: (x-x.mean())/(x.std()+0.0000001), axis=0)


X.head()








# TO DO









X['cluster']=ms.labels_
df['cluster']=ms.labels_





df.groupby('cluster').mean().sort_values(by=['Survived'], ascending=False)























def gaussian(d, h):
    return np.exp(-0.5*((d/h))**2) / (h*math.sqrt(2*math.pi))








s=1 # a sample point

x = np.linspace(-2, 4, num=200)
dist=np.sqrt(((x-s)**2))
kernel_1=gaussian(dist, 1)
kernel_2=gaussian(dist, 3)





plt.plot(x,kernel_1,label='h=1')
plt.plot(x,kernel_2,label='h=3')
plt.plot(s,0,'x',label="$x_{1}$=1")
plt.hist(s, 10, facecolor='blue', alpha=0.5,label="Histogram")
plt.xlabel('x')
plt.legend()
plt.show()















def kernel_density(S,x,h=1):

    density=np.zeros((200))
    for s in S:
        #Determine the distance and kernel for each point 
        dist=np.sqrt(((x-s)**2))
        kernel=gaussian(dist, h)
        #Find the sum  
        density+=kernel
    #Normalize the sum  
    density=density/density.sum() 
    
    return density





S=np.zeros((200))
S[0:100] = np.random.normal(-10, 1, 100)
S[100:200]=np.random.normal(10, 1, 100)
plt.plot(S,np.zeros((200)),'x')
plt.xlabel("$x_{i}$")
plt.show()





x = np.linspace(S.min()-3, S.max()+3, num=200)
density=kernel_density(S,x)





plt.plot(x,density,label=" KDE")
plt.plot(S,np.zeros((200,1)),'x',label="$x_{i}$")
plt.xlabel('x')
plt.legend()
plt.show()



































mean_shift=((density.reshape(-1,1)*S).sum(0) / density.sum())-x





plt.plot(x,density,label=" KDE")
plt.plot(S,np.zeros((200,1)),'x',label="$x_{i}$")
plt.quiver(x, np.zeros((200,1)),mean_shift, np.zeros((200,1)), units='width',label="$m_{h}(x)$")
plt.xlabel('x')
plt.legend()
plt.show()

















Xhat=np.copy(S.reshape(-1,1))
S_=S.reshape(-1,1)


for k in range(3):
    plt.plot(x,density,label=" KDE")
    plt.plot(Xhat,np.zeros((200,1)),'x',label="$\hat{x}^{k}_i$,k="+str(k))
    plt.xlabel('x')
    plt.legend()
    plt.show()
  
    for i,xhat in enumerate(Xhat):
        dist=np.sqrt(((xhat-S_)**2).sum(1))
        weight = gaussian(dist, 2.5)
        Xhat[i] = (weight.reshape(-1,1)*S_).sum(0) / weight.sum()
    





np.unique(Xhat.astype(int))





















