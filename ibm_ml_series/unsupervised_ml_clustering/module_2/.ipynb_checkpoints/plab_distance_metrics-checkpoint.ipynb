{
 "cells": [
  {
   "cell_type": "markdown",
   "metadata": {},
   "source": [
    "<p style=\"text-align:center\">\n",
    "    <a href=\"https://skills.network/?utm_medium=Exinfluencer&utm_source=Exinfluencer&utm_content=000026UJ&utm_term=10006555&utm_id=NA-SkillsNetwork-Channel-SkillsNetworkCoursesIBMML0187ENSkillsNetwork821-2023-01-01\">\n",
    "    <img src=\"https://cf-courses-data.s3.us.cloud-object-storage.appdomain.cloud/assets/logos/SN_web_lightmode.png\" width=\"200\" alt=\"Skills Network Logo\"  />\n",
    "    </a>\n",
    "</p>\n"
   ]
  },
  {
   "cell_type": "markdown",
   "metadata": {},
   "source": [
    "# **Distance Metrics**\n"
   ]
  },
  {
   "cell_type": "markdown",
   "metadata": {},
   "source": [
    "Estimated time needed: **45** minutes\n"
   ]
  },
  {
   "cell_type": "markdown",
   "metadata": {
    "tags": []
   },
   "source": [
    "## Use cases of Distance Metrics\n",
    "\n",
    "- **Classification**: KNN model uses a distance metric to find a data point's top k nearest neighbors.\n",
    "- **Clustering**: K-Means algorithm assigns data points to the nearest centroids using a distance metric.\n",
    "- **Natural Language Processing**: NLP uses the cosine similarity distance metric to filter out irrelevant documents from the corpus once the unstructured data is transformed into vector form.\n"
   ]
  },
  {
   "cell_type": "markdown",
   "metadata": {},
   "source": [
    "## Why different distance metrics matter?\n",
    "\n",
    "There are many ways to define the distance between two objects. To give you a real-life example, suppose you want to go from one city to another on a map, there will be at least two different distances. One is the driving distance and the other could be the flying distance. Depending on how you choose to travel, one of the distances could make completely no sense to you. \n",
    "\n",
    "<img src=\"https://cf-courses-data.s3.us.cloud-object-storage.appdomain.cloud/IBM-ML0187EN-SkillsNetwork/labs/module%202/images/distance.jpg\" width=\"60%\">\n",
    "\n",
    "Image from [PxHere](https://pxhere.com/en/photo/718584?utm_medium=Exinfluencer&utm_source=Exinfluencer&utm_content=000026UJ&utm_term=10006555&utm_id=NA-SkillsNetwork-Channel-SkillsNetworkCoursesIBMML0187ENSkillsNetwork821-2023-01-01)\n"
   ]
  },
  {
   "cell_type": "markdown",
   "metadata": {},
   "source": [
    "Same idea applies to Machine Learning, choosing the correct distance metric is critical to the performance of the downstream task.\n",
    "\n",
    "In this notebook, you will practice applying the distance metrics learned in this course. Using real-world data, you will analyze similarities and dissimilarities in data. You will also be able to understand how various algorithms such as DBSCAN are affected by different distance metrics.\n"
   ]
  },
  {
   "cell_type": "markdown",
   "metadata": {},
   "source": [
    "## __Table of Contents__\n",
    "\n",
    "<!-- <a href=\"#Principle-Component-Analysis\">Principle Component Analysis</a> -->\n",
    "<ol>\n",
    "    <li><a href=\"#Objectives\">Objectives</a></li>\n",
    "    <li><a href=\"#Datasets\">Datasets</a></li>\n",
    "    <li>\n",
    "        <a href=\"#Setup\">Setup</a>\n",
    "        <ol>\n",
    "            <li><a href=\"#Installing-Required-Libraries\">Installing Required Libraries</a></li>\n",
    "            <li><a href=\"#Importing-Required-Libraries\">Importing Required Libraries</a></li>\n",
    "            <li><a href=\"#Defining-helper-functions\">Defining Helper Functions</a></li>\n",
    "        </ol>\n",
    "    </li>\n",
    "    <li>\n",
    "        <a href=\"#Euclidean-Distance\">Euclidean Distance</a>\n",
    "        <ol>\n",
    "            <li><a href=\"#euclidean_GE\">General Equation</a></li>\n",
    "        </ol>\n",
    "    </li>\n",
    "    <li>\n",
    "        <a href=\"#Manhattan-Distance\">Manhattan Distance</a>\n",
    "        <ol>\n",
    "            <li><a href=\"#manhattan_GE\">General Equation</a></li>\n",
    "        </ol>\n",
    "    </li>\n",
    "    <li>\n",
    "        <a href=\"#Cosine-Distance\">Cosine Distance</a>\n",
    "        <ol>\n",
    "            <li><a href=\"#cosine_GE\">General Equation</a></li>\n",
    "        </ol>\n",
    "    </li>\n",
    "    <li>\n",
    "        <a href=\"#Analyzing-Distance-Metrics-with-DBSCAN\">Analyzing Distance Metrics with DBSCAN</a>\n",
    "        <ol>\n",
    "            <li><a href=\"#DBSCAN-using-Euclidean:\">DBSCAN using Euclidean</a></li>\n",
    "        </ol>\n",
    "        <ol>\n",
    "            <li><a href=\"#DBSCAN-using-Manhattan:\">DBSCAN using Manhattan</a></li>\n",
    "        </ol>\n",
    "        <ol>\n",
    "            <li><a href=\"#DBSCAN-using-Cosine:\">DBSCAN using Cosine</a></li>\n",
    "        </ol>\n",
    "    </li>\n",
    "    <li>\n",
    "        <a href=\"#Jaccard-Distance\">Jaccard Distance</a>\n",
    "        <ol>\n",
    "            <li><a href=\"#jaccard_GE\">General Equation</a></li>\n",
    "        </ol>\n",
    "    </li>\n",
    "</ol>\n",
    "\n",
    "<a href=\"#Exercises\">Exercises</a>\n",
    "<ol>\n",
    "    <li><a href=\"#Exercise-1---Jaccard-distance\">Exercise 1 - Jaccard distance</a></li>\n",
    "    <li><a href=\"#Exercise-2---Euclidean-distance-and-manhattan-distance\">Exercise 2 - Euclidean distance and manhattan distance</a></li>\n",
    "    <li><a href=\"#Exercise-3---Cosine-distance\">Exercise 3 - Cosine Distance</a></li>\n",
    "    <li><a href=\"#Exercise-4---Using-sklearn.metrics.pairwise\">Exercise 4 - Using <code>sklearn.metrics.pairwise</code></a></li>\n",
    "</ol>\n"
   ]
  },
  {
   "cell_type": "markdown",
   "metadata": {},
   "source": [
    "----\n"
   ]
  },
  {
   "cell_type": "markdown",
   "metadata": {},
   "source": [
    "## Objectives\n"
   ]
  },
  {
   "cell_type": "markdown",
   "metadata": {},
   "source": [
    "After completing this lab you will be able to:\n"
   ]
  },
  {
   "cell_type": "markdown",
   "metadata": {},
   "source": [
    "* __Understand__ the mathematics behind the euclidean, manhattan, cosine, and jaccard distance metrics.\n",
    "* __Understand__ the use cases of the covered distance metrics.\n"
   ]
  },
  {
   "cell_type": "markdown",
   "metadata": {},
   "source": [
    "## Datasets\n",
    "\n",
    "Datasets for this lab are gathered from the [UCI Machine Learning Repository](https://archive.ics.uci.edu/?utm_medium=Exinfluencer&utm_source=Exinfluencer&utm_content=000026UJ&utm_term=10006555&utm_id=NA-SkillsNetwork-Channel-SkillsNetworkCoursesIBMML0187ENSkillsNetwork821-2023-01-01) under the MIT License.\n"
   ]
  },
  {
   "cell_type": "markdown",
   "metadata": {},
   "source": [
    "## Setup\n"
   ]
  },
  {
   "cell_type": "markdown",
   "metadata": {},
   "source": [
    "For this lab, we will be using the following libraries:\n",
    " - [`pandas`](https://pandas.pydata.org/?utm_medium=Exinfluencer&utm_source=Exinfluencer&utm_content=000026UJ&utm_term=10006555&utm_id=NA-SkillsNetwork-Channel-SkillsNetworkCoursesIBMML0187ENSkillsNetwork821-2023-01-01) for managing the data.\n",
    " - [`numpy`](https://numpy.org/?utm_medium=Exinfluencer&utm_source=Exinfluencer&utm_content=000026UJ&utm_term=10006555&utm_id=NA-SkillsNetwork-Channel-SkillsNetworkCoursesIBMML0187ENSkillsNetwork821-2023-01-01) for mathematical operations.\n",
    " - [`matplotlib`](https://matplotlib.org/?utm_medium=Exinfluencer&utm_source=Exinfluencer&utm_content=000026UJ&utm_term=10006555&utm_id=NA-SkillsNetwork-Channel-SkillsNetworkCoursesIBMML0187ENSkillsNetwork821-2023-01-01) for visualizing the data.\n",
    " - [`scipy`](https://docs.scipy.org/doc/scipy/reference/?utm_medium=Exinfluencer&utm_source=Exinfluencer&utm_content=000026UJ&utm_term=10006555&utm_id=NA-SkillsNetwork-Channel-SkillsNetworkCoursesIBMML0187ENSkillsNetwork821-2023-01-01) for complex numerical operations.\n",
    " - [`sklearn`](https://scikit-learn.org/stable/?utm_medium=Exinfluencer&utm_source=Exinfluencer&utm_content=000026UJ&utm_term=10006555&utm_id=NA-SkillsNetwork-Channel-SkillsNetworkCoursesIBMML0187ENSkillsNetwork821-2023-01-01) for machine learning and machine-learning-pipeline related functions.\n"
   ]
  },
  {
   "cell_type": "markdown",
   "metadata": {},
   "source": [
    "### Installing Required Libraries\n",
    "\n",
    "The following required modules are pre-installed in the Skills Network Labs environment. However if you run this notebook commands in a different Jupyter environment (e.g. Watson Studio or Ananconda) you will need to install these libraries by removing the `#` sign before `!mamba` in the code cell below.\n"
   ]
  },
  {
   "cell_type": "markdown",
   "metadata": {},
   "source": [
    "Run the following cell to ensure you are using the correct version of sklearn:\n"
   ]
  },
  {
   "cell_type": "markdown",
   "metadata": {},
   "source": [
    "### Importing Required Libraries\n"
   ]
  },
  {
   "cell_type": "code",
   "execution_count": 1,
   "metadata": {},
   "outputs": [],
   "source": [
    "def warn(*args, **kwargs):\n",
    "    pass\n",
    "\n",
    "import warnings\n",
    "warnings.warn = warn"
   ]
  },
  {
   "cell_type": "code",
   "execution_count": 2,
   "metadata": {},
   "outputs": [],
   "source": [
    "import numpy as np\n",
    "import pandas as pd\n",
    "import matplotlib.pyplot as plt\n",
    "# Make matplotlib work in jupyter notebook\n",
    "%matplotlib inline\n",
    "\n",
    "# import scipy\n",
    "from scipy.spatial.distance import euclidean, cityblock, cosine\n",
    "# import sklearn.metrics.pairwise"
   ]
  },
  {
   "cell_type": "markdown",
   "metadata": {},
   "source": [
    "### Defining Helper Functions\n",
    "\n",
    "In the section below, we will define helper functions that will help analyze different distance metrics\n",
    "\n",
    "__Average Distance__\n",
    "\n",
    "This function will return the average distance between two sets of data given our provided distance metric, i.e., each point in $X$ with each other point in $Y$. Refer to the image below:\n",
    "\n",
    "\n",
    "<img src=\"https://cf-courses-data.s3.us.cloud-object-storage.appdomain.cloud/IBM-ML0187EN-SkillsNetwork/labs/module%202/images/avg_distance.png\" width=\"30%\" height=\"auto/\">\n"
   ]
  },
  {
   "cell_type": "markdown",
   "metadata": {},
   "source": [
    "__Pairwise Distance__\n",
    "\n",
    "This function will return the average pairwise distance between two sets of data. The distance for each row in $X$ from the corresponding row in $Y$. The number of rows of in the two sets of data should be equal. Refer to the image below:\n",
    "\n",
    "<img src=\"https://cf-courses-data.s3.us.cloud-object-storage.appdomain.cloud/IBM-ML0187EN-SkillsNetwork/labs/module%202/images/pairwise_distance.png\" width=\"30%\" height=\"auto\">\n"
   ]
  },
  {
   "cell_type": "markdown",
   "metadata": {},
   "source": [
    "## Load the datafile into `pandas.DataFrame`\n",
    "\n",
    "Before working with the data, it must be loaded into a `pandas.DataFrame`:\n"
   ]
  },
  {
   "cell_type": "code",
   "execution_count": 3,
   "metadata": {},
   "outputs": [
    {
     "data": {
      "text/html": [
       "<div>\n",
       "<style scoped>\n",
       "    .dataframe tbody tr th:only-of-type {\n",
       "        vertical-align: middle;\n",
       "    }\n",
       "\n",
       "    .dataframe tbody tr th {\n",
       "        vertical-align: top;\n",
       "    }\n",
       "\n",
       "    .dataframe thead th {\n",
       "        text-align: right;\n",
       "    }\n",
       "</style>\n",
       "<table border=\"1\" class=\"dataframe\">\n",
       "  <thead>\n",
       "    <tr style=\"text-align: right;\">\n",
       "      <th></th>\n",
       "      <th>sepal_length</th>\n",
       "      <th>sepal_width</th>\n",
       "      <th>petal_length</th>\n",
       "      <th>petal_width</th>\n",
       "      <th>species</th>\n",
       "    </tr>\n",
       "  </thead>\n",
       "  <tbody>\n",
       "    <tr>\n",
       "      <th>0</th>\n",
       "      <td>5.1</td>\n",
       "      <td>3.5</td>\n",
       "      <td>1.4</td>\n",
       "      <td>0.2</td>\n",
       "      <td>setosa</td>\n",
       "    </tr>\n",
       "    <tr>\n",
       "      <th>1</th>\n",
       "      <td>4.9</td>\n",
       "      <td>3.0</td>\n",
       "      <td>1.4</td>\n",
       "      <td>0.2</td>\n",
       "      <td>setosa</td>\n",
       "    </tr>\n",
       "    <tr>\n",
       "      <th>2</th>\n",
       "      <td>4.7</td>\n",
       "      <td>3.2</td>\n",
       "      <td>1.3</td>\n",
       "      <td>0.2</td>\n",
       "      <td>setosa</td>\n",
       "    </tr>\n",
       "    <tr>\n",
       "      <th>3</th>\n",
       "      <td>4.6</td>\n",
       "      <td>3.1</td>\n",
       "      <td>1.5</td>\n",
       "      <td>0.2</td>\n",
       "      <td>setosa</td>\n",
       "    </tr>\n",
       "    <tr>\n",
       "      <th>4</th>\n",
       "      <td>5.0</td>\n",
       "      <td>3.6</td>\n",
       "      <td>1.4</td>\n",
       "      <td>0.2</td>\n",
       "      <td>setosa</td>\n",
       "    </tr>\n",
       "  </tbody>\n",
       "</table>\n",
       "</div>"
      ],
      "text/plain": [
       "   sepal_length  sepal_width  petal_length  petal_width species\n",
       "0           5.1          3.5           1.4          0.2  setosa\n",
       "1           4.9          3.0           1.4          0.2  setosa\n",
       "2           4.7          3.2           1.3          0.2  setosa\n",
       "3           4.6          3.1           1.5          0.2  setosa\n",
       "4           5.0          3.6           1.4          0.2  setosa"
      ]
     },
     "execution_count": 3,
     "metadata": {},
     "output_type": "execute_result"
    }
   ],
   "source": [
    "df = pd.read_csv('https://cf-courses-data.s3.us.cloud-object-storage.appdomain.cloud/IBM-ML0187EN-SkillsNetwork/labs/module%202/iris.csv')\n",
    "df.head()"
   ]
  },
  {
   "cell_type": "markdown",
   "metadata": {},
   "source": [
    "For the purpose of this lab, we will not be using the `\"petal_width\"` column:\n"
   ]
  },
  {
   "cell_type": "code",
   "execution_count": 4,
   "metadata": {},
   "outputs": [
    {
     "data": {
      "text/html": [
       "<div>\n",
       "<style scoped>\n",
       "    .dataframe tbody tr th:only-of-type {\n",
       "        vertical-align: middle;\n",
       "    }\n",
       "\n",
       "    .dataframe tbody tr th {\n",
       "        vertical-align: top;\n",
       "    }\n",
       "\n",
       "    .dataframe thead th {\n",
       "        text-align: right;\n",
       "    }\n",
       "</style>\n",
       "<table border=\"1\" class=\"dataframe\">\n",
       "  <thead>\n",
       "    <tr style=\"text-align: right;\">\n",
       "      <th></th>\n",
       "      <th>sepal_length</th>\n",
       "      <th>sepal_width</th>\n",
       "      <th>petal_length</th>\n",
       "      <th>species</th>\n",
       "    </tr>\n",
       "  </thead>\n",
       "  <tbody>\n",
       "    <tr>\n",
       "      <th>0</th>\n",
       "      <td>5.1</td>\n",
       "      <td>3.5</td>\n",
       "      <td>1.4</td>\n",
       "      <td>setosa</td>\n",
       "    </tr>\n",
       "    <tr>\n",
       "      <th>1</th>\n",
       "      <td>4.9</td>\n",
       "      <td>3.0</td>\n",
       "      <td>1.4</td>\n",
       "      <td>setosa</td>\n",
       "    </tr>\n",
       "    <tr>\n",
       "      <th>2</th>\n",
       "      <td>4.7</td>\n",
       "      <td>3.2</td>\n",
       "      <td>1.3</td>\n",
       "      <td>setosa</td>\n",
       "    </tr>\n",
       "    <tr>\n",
       "      <th>3</th>\n",
       "      <td>4.6</td>\n",
       "      <td>3.1</td>\n",
       "      <td>1.5</td>\n",
       "      <td>setosa</td>\n",
       "    </tr>\n",
       "    <tr>\n",
       "      <th>4</th>\n",
       "      <td>5.0</td>\n",
       "      <td>3.6</td>\n",
       "      <td>1.4</td>\n",
       "      <td>setosa</td>\n",
       "    </tr>\n",
       "  </tbody>\n",
       "</table>\n",
       "</div>"
      ],
      "text/plain": [
       "   sepal_length  sepal_width  petal_length species\n",
       "0           5.1          3.5           1.4  setosa\n",
       "1           4.9          3.0           1.4  setosa\n",
       "2           4.7          3.2           1.3  setosa\n",
       "3           4.6          3.1           1.5  setosa\n",
       "4           5.0          3.6           1.4  setosa"
      ]
     },
     "execution_count": 4,
     "metadata": {},
     "output_type": "execute_result"
    }
   ],
   "source": [
    "df.drop(['petal_width'], axis=1, inplace=True)\n",
    "df.head()"
   ]
  },
  {
   "cell_type": "markdown",
   "metadata": {},
   "source": [
    "Let's see what the different `\"species\"` types are in the dataset:\n"
   ]
  },
  {
   "cell_type": "code",
   "execution_count": 5,
   "metadata": {},
   "outputs": [
    {
     "name": "stdout",
     "output_type": "stream",
     "text": [
      "['setosa' 'versicolor' 'virginica']\n"
     ]
    }
   ],
   "source": [
    "species = df['species'].unique()\n",
    "print(species)"
   ]
  },
  {
   "cell_type": "markdown",
   "metadata": {},
   "source": [
    "Let's view the three species of irises' data in 3D using `matplotlib`\n"
   ]
  },
  {
   "cell_type": "code",
   "execution_count": 6,
   "metadata": {},
   "outputs": [
    {
     "data": {
      "image/png": "[encoded data removed]",
      "text/plain": [
       "<Figure size 640x480 with 1 Axes>"
      ]
     },
     "metadata": {},
     "output_type": "display_data"
    }
   ],
   "source": [
    "attrs = ['sepal_length','sepal_width','petal_length']\n",
    "markers = ['o','v','^']\n",
    "fig = plt.figure()\n",
    "ax = fig.add_subplot(projection='3d')\n",
    "for specie, marker in zip(species, markers):\n",
    "    # Store 3 features' data separately without 'species'\n",
    "    specie_data = df[df['species'] == specie][attrs]\n",
    "    # Separate data into features by features\n",
    "    xs, ys, zs = [specie_data[attr] for attr in attrs]\n",
    "    # Plot 3 dimensions with different symbols\n",
    "    ax.scatter(xs, ys, zs, marker=marker)\n",
    "plt.show()"
   ]
  },
  {
   "cell_type": "markdown",
   "metadata": {},
   "source": [
    "Create variables for the species' data, as `np.ndarray`s:\n"
   ]
  },
  {
   "cell_type": "code",
   "execution_count": 7,
   "metadata": {},
   "outputs": [],
   "source": [
    "seto, vers, virg = [df.loc[df.species == specie][attrs].to_numpy() for specie in species]"
   ]
  },
  {
   "cell_type": "markdown",
   "metadata": {},
   "source": [
    "Same with \n",
    "```python\n",
    "setosa_data = df.loc[df['species'] == 'setosa'][attrs].to_numpy()\n",
    "versicolor_data = df.loc[df['species'] == 'versicolor'][attrs].to_numpy()\n",
    "virginica_data = df.loc[df['species'] == 'virginica'][attrs].to_numpy()\n",
    "```"
   ]
  },
  {
   "cell_type": "markdown",
   "metadata": {},
   "source": [
    "In a the NumPy array, each point is a row and  each column is a dimension, we can see this by using <code>shape</code>:\n"
   ]
  },
  {
   "cell_type": "code",
   "execution_count": 8,
   "metadata": {},
   "outputs": [
    {
     "data": {
      "text/plain": [
       "((50, 3), (50, 3), (50, 3))"
      ]
     },
     "execution_count": 8,
     "metadata": {},
     "output_type": "execute_result"
    }
   ],
   "source": [
    "seto.shape, vers.shape, virg.shape"
   ]
  },
  {
   "cell_type": "markdown",
   "metadata": {},
   "source": [
    "## Euclidean Distance\n",
    "\n",
    "<img src=\"https://cf-courses-data.s3.us.cloud-object-storage.appdomain.cloud/IBM-ML0187EN-SkillsNetwork/labs/module%202/images/euclidean.png\" width=\"30%\" height=\"auto/\">\n"
   ]
  },
  {
   "cell_type": "markdown",
   "metadata": {},
   "source": [
    "In this task, you will learn and practice applying Euclidean distance.\n",
    "\n",
    "Euclidean distance is simply the physical distance between two points.\n",
    "\n",
    "_Euclidean distance is useful when physical distance matters most._\n",
    "\n",
    "We know from high school math the distance between two points __on a plane (2D)__ $(x_1, y_1), (x_2, y_2)$ is:\n",
    "\n",
    "$\\sqrt{(x_2-x_1)^2 + (y_2-y_1)^2}$\n",
    "\n",
    "The distance between two points in __3D__ $(x_1, y_1, z_1), (x_2, y_2, z_2)$ is:\n",
    "\n",
    "$\\sqrt{(x_2-x_1)^2 + (y_2-y_1)^2 + (z_2-z_1)^2}$\n",
    "\n",
    "### <a id='euclidean_GE'></a> General Equation\n",
    "\n",
    "The __general equation for the euclidean distance__ between two points in n-dimentions $\\boldsymbol{a} = [a_1, a_2, \\dots, a_n], \\boldsymbol{b}=[b_1, b_2, \\dots, b_n]$ is:\n",
    "\n",
    "$$\\sqrt{\\sum_{i=1}^{n} (b_i-a_i)^2}$$\n",
    "\n",
    "Or for those inclined to Linear Algebra:\n",
    "\n",
    "$$|| \\boldsymbol{b} - \\boldsymbol{a} ||$$\n"
   ]
  },
  {
   "cell_type": "markdown",
   "metadata": {},
   "source": [
    "We can use the function `euclidean` from `scipy.spatial.distance` to compute the euclidean distance between two points.\n"
   ]
  },
  {
   "cell_type": "code",
   "execution_count": 9,
   "metadata": {},
   "outputs": [
    {
     "data": {
      "text/plain": [
       "5.0"
      ]
     },
     "execution_count": 9,
     "metadata": {},
     "output_type": "execute_result"
    }
   ],
   "source": [
    "euclidean([0, 0], [3, 4])"
   ]
  },
  {
   "cell_type": "code",
   "execution_count": 10,
   "metadata": {},
   "outputs": [
    {
     "data": {
      "text/plain": [
       "5.0"
      ]
     },
     "execution_count": 10,
     "metadata": {},
     "output_type": "execute_result"
    }
   ],
   "source": [
    "# Test\n",
    "from math import sqrt\n",
    "sqrt((3-0)**2 + (4-0)**2)"
   ]
  },
  {
   "cell_type": "markdown",
   "metadata": {
    "tags": []
   },
   "source": [
    "#### Let's find the average _euclidean_ distance between the data of different species of irises\n",
    "\n",
    "Average _euclidean_ distance between __setosa__ and __setosa__:\n"
   ]
  },
  {
   "cell_type": "markdown",
   "metadata": {},
   "source": [
    "Average _euclidean_ distance between __setosa__ and __versicolor__:\n"
   ]
  },
  {
   "cell_type": "code",
   "execution_count": 11,
   "metadata": {},
   "outputs": [
    {
     "data": {
      "text/plain": [
       "<function sklearn.metrics._classification.jaccard_score(y_true, y_pred, *, labels=None, pos_label=1, average='binary', sample_weight=None, zero_division='warn')>"
      ]
     },
     "execution_count": 11,
     "metadata": {},
     "output_type": "execute_result"
    }
   ],
   "source": [
    "from sklearn.metrics import jaccard_score\n",
    "jaccard_score"
   ]
  },
  {
   "cell_type": "code",
   "execution_count": 12,
   "metadata": {},
   "outputs": [
    {
     "data": {
      "text/plain": [
       "((50, 3), 50)"
      ]
     },
     "execution_count": 12,
     "metadata": {},
     "output_type": "execute_result"
    }
   ],
   "source": [
    "seto.shape, len(seto)"
   ]
  },
  {
   "cell_type": "code",
   "execution_count": 13,
   "metadata": {},
   "outputs": [],
   "source": [
    "def avg_distance(X1, X2, distance_func):\n",
    "    res = 0\n",
    "    for x1 in X1[:3]:\n",
    "        for x2 in X2[:3]:\n",
    "            # print(f\"x1: {x1} | x2: {x2}\")\n",
    "            if distance_func == jaccard_score: #jaccard_score function only returns\n",
    "                res += 1 - distance_func(x1, x2)\n",
    "            else:\n",
    "                res += distance_func(x1, x2)\n",
    "            # print(res)\n",
    "    return res / (len(X1) * len(X2))   # total values / number of values"
   ]
  },
  {
   "cell_type": "code",
   "execution_count": 14,
   "metadata": {},
   "outputs": [
    {
     "data": {
      "text/plain": [
       "0.013799135260158545"
      ]
     },
     "execution_count": 14,
     "metadata": {},
     "output_type": "execute_result"
    }
   ],
   "source": [
    "avg_distance(seto, vers, euclidean)"
   ]
  },
  {
   "cell_type": "markdown",
   "metadata": {},
   "source": [
    "Average _euclidean_ distance between __setosa__ and __virginica__:\n"
   ]
  },
  {
   "cell_type": "code",
   "execution_count": 15,
   "metadata": {},
   "outputs": [
    {
     "data": {
      "text/plain": [
       "0.01653983729730751"
      ]
     },
     "execution_count": 15,
     "metadata": {},
     "output_type": "execute_result"
    }
   ],
   "source": [
    "avg_distance(seto, virg, euclidean)"
   ]
  },
  {
   "cell_type": "markdown",
   "metadata": {},
   "source": [
    "We can also determine the  euclidean distances between two points using <code>paired_euclidean_distances</code> from <code>sklearn.metrics.pairwise</code>:\n"
   ]
  },
  {
   "cell_type": "code",
   "execution_count": 16,
   "metadata": {},
   "outputs": [],
   "source": [
    "from sklearn.metrics.pairwise import paired_euclidean_distances"
   ]
  },
  {
   "cell_type": "markdown",
   "metadata": {},
   "source": [
    "The input must be a numpy array where each point is a row:\n"
   ]
  },
  {
   "cell_type": "code",
   "execution_count": 17,
   "metadata": {},
   "outputs": [],
   "source": [
    "X = np.array([[0,0]], dtype=float)\n",
    "Y = np.array([[3,4]], dtype=float)"
   ]
  },
  {
   "cell_type": "code",
   "execution_count": 18,
   "metadata": {},
   "outputs": [
    {
     "data": {
      "text/plain": [
       "(2, (1, 2))"
      ]
     },
     "execution_count": 18,
     "metadata": {},
     "output_type": "execute_result"
    }
   ],
   "source": [
    "X.ndim, X.shape"
   ]
  },
  {
   "cell_type": "code",
   "execution_count": 19,
   "metadata": {},
   "outputs": [
    {
     "data": {
      "text/plain": [
       "(-1.0, 6.0)"
      ]
     },
     "execution_count": 19,
     "metadata": {},
     "output_type": "execute_result"
    },
    {
     "data": {
      "image/png": "[encoded data removed]",
      "text/plain": [
       "<Figure size 640x480 with 1 Axes>"
      ]
     },
     "metadata": {},
     "output_type": "display_data"
    }
   ],
   "source": [
    "x1, y1 = X[0]\n",
    "x2, y2 = Y[0]\n",
    "\n",
    "plt.plot([x1, x2], [y1, y2], 'k-')\n",
    "plt.scatter([x1, x2], [y1, y2], color='black')\n",
    "plt.xlim(-1, 6)\n",
    "plt.ylim(-1, 6)"
   ]
  },
  {
   "cell_type": "code",
   "execution_count": 20,
   "metadata": {},
   "outputs": [
    {
     "data": {
      "text/plain": [
       "array([5.])"
      ]
     },
     "execution_count": 20,
     "metadata": {},
     "output_type": "execute_result"
    }
   ],
   "source": [
    "paired_euclidean_distances(X, Y)"
   ]
  },
  {
   "cell_type": "code",
   "execution_count": 21,
   "metadata": {},
   "outputs": [
    {
     "data": {
      "text/plain": [
       "5.0"
      ]
     },
     "execution_count": 21,
     "metadata": {},
     "output_type": "execute_result"
    }
   ],
   "source": [
    "paired_euclidean_distances(X, Y).mean()"
   ]
  },
  {
   "cell_type": "markdown",
   "metadata": {},
   "source": [
    "We apply our own version of the function\n"
   ]
  },
  {
   "cell_type": "code",
   "execution_count": 22,
   "metadata": {},
   "outputs": [
    {
     "data": {
      "text/plain": [
       "(-1.0, 6.0)"
      ]
     },
     "execution_count": 22,
     "metadata": {},
     "output_type": "execute_result"
    },
    {
     "data": {
      "image/png": "[encoded data removed]",
      "text/plain": [
       "<Figure size 640x480 with 1 Axes>"
      ]
     },
     "metadata": {},
     "output_type": "display_data"
    }
   ],
   "source": [
    "a = np.array([[0,0], [3,3]], dtype=float)\n",
    "b = np.array([[0,1], [4,5]], dtype=float)\n",
    "# a = np.array([[0,0], [0,1]], dtype=float)\n",
    "# b = np.array([[3,4], [3,5]], dtype=float)\n",
    "\n",
    "plt.plot(a, b, 'k-')\n",
    "plt.scatter(a, b, color='black')\n",
    "plt.xlim(-1, 6)\n",
    "plt.ylim(-1, 6)"
   ]
  },
  {
   "cell_type": "code",
   "execution_count": 23,
   "metadata": {},
   "outputs": [
    {
     "data": {
      "text/plain": [
       "5.0"
      ]
     },
     "execution_count": 23,
     "metadata": {},
     "output_type": "execute_result"
    }
   ],
   "source": [
    "euclidean([0,0],[3,4])"
   ]
  },
  {
   "cell_type": "code",
   "execution_count": 24,
   "metadata": {},
   "outputs": [
    {
     "data": {
      "text/plain": [
       "[1.0, 2.23606797749979]"
      ]
     },
     "execution_count": 24,
     "metadata": {},
     "output_type": "execute_result"
    }
   ],
   "source": [
    "list(map(euclidean, a, b))"
   ]
  },
  {
   "cell_type": "code",
   "execution_count": 25,
   "metadata": {},
   "outputs": [],
   "source": [
    "sum_ = sum(list(map(euclidean, a, b)))"
   ]
  },
  {
   "cell_type": "code",
   "execution_count": 26,
   "metadata": {},
   "outputs": [
    {
     "data": {
      "text/plain": [
       "2"
      ]
     },
     "execution_count": 26,
     "metadata": {},
     "output_type": "execute_result"
    }
   ],
   "source": [
    "num = min(len(a), len(b))\n",
    "num"
   ]
  },
  {
   "cell_type": "code",
   "execution_count": 27,
   "metadata": {},
   "outputs": [
    {
     "data": {
      "text/plain": [
       "1.618033988749895"
      ]
     },
     "execution_count": 27,
     "metadata": {},
     "output_type": "execute_result"
    }
   ],
   "source": [
    "sum_/num"
   ]
  },
  {
   "cell_type": "code",
   "execution_count": 28,
   "metadata": {},
   "outputs": [],
   "source": [
    "def avg_pairwise_distance(X1, X2, distance_func):\n",
    "    return sum(map(distance_func, X1, X2)) / min(len(X1), len(X2))\n",
    "# min(len(X1), len(X2)) is used to make sure the same number of points\n",
    "# For example:\n",
    "# X1 = [[0, 0], [1, 1], [2, 2]]\n",
    "# X2 = [[3, 3], [4, 4]]\n",
    "# It will take only 2 points"
   ]
  },
  {
   "cell_type": "code",
   "execution_count": 29,
   "metadata": {},
   "outputs": [
    {
     "data": {
      "text/plain": [
       "1.618033988749895"
      ]
     },
     "execution_count": 29,
     "metadata": {},
     "output_type": "execute_result"
    }
   ],
   "source": [
    "avg_pairwise_distance(a, b, euclidean)"
   ]
  },
  {
   "cell_type": "code",
   "execution_count": 30,
   "metadata": {},
   "outputs": [
    {
     "data": {
      "text/plain": [
       "1.618033988749895"
      ]
     },
     "execution_count": 30,
     "metadata": {},
     "output_type": "execute_result"
    }
   ],
   "source": [
    "# Same result\n",
    "paired_euclidean_distances(a, b).mean()"
   ]
  },
  {
   "cell_type": "markdown",
   "metadata": {},
   "source": [
    "If we have 2 MxN arrays, where each row is one of M points and each column is N dimensions in two arrays:\n"
   ]
  },
  {
   "cell_type": "code",
   "execution_count": 31,
   "metadata": {},
   "outputs": [
    {
     "name": "stdout",
     "output_type": "stream",
     "text": [
      "50 points and each column is 3 dimensions\n"
     ]
    }
   ],
   "source": [
    "P, D = seto.shape\n",
    "print(f\"{P} points and each column is {D} dimensions\")"
   ]
  },
  {
   "cell_type": "markdown",
   "metadata": {},
   "source": [
    "As above, we can calculate the distance between each array, then average the distance as follows. \n",
    "First, we calculate the distance between each row:\n"
   ]
  },
  {
   "cell_type": "code",
   "execution_count": 32,
   "metadata": {},
   "outputs": [
    {
     "data": {
      "text/plain": [
       "50"
      ]
     },
     "execution_count": 32,
     "metadata": {},
     "output_type": "execute_result"
    }
   ],
   "source": [
    "row_dist = paired_euclidean_distances(seto, vers)\n",
    "len(row_dist)"
   ]
  },
  {
   "cell_type": "markdown",
   "metadata": {},
   "source": [
    "Then, we find the average value:\n"
   ]
  },
  {
   "cell_type": "code",
   "execution_count": 33,
   "metadata": {},
   "outputs": [
    {
     "data": {
      "text/plain": [
       "3.1208199582684055"
      ]
     },
     "execution_count": 33,
     "metadata": {},
     "output_type": "execute_result"
    }
   ],
   "source": [
    "row_dist.mean()"
   ]
  },
  {
   "cell_type": "markdown",
   "metadata": {},
   "source": [
    "We repeat the process:\n"
   ]
  },
  {
   "cell_type": "code",
   "execution_count": 34,
   "metadata": {},
   "outputs": [
    {
     "data": {
      "text/plain": [
       "4.467297089536804"
      ]
     },
     "execution_count": 34,
     "metadata": {},
     "output_type": "execute_result"
    }
   ],
   "source": [
    "paired_euclidean_distances(seto, virg).mean()"
   ]
  },
  {
   "cell_type": "markdown",
   "metadata": {},
   "source": [
    "Now, applying our own function:\n"
   ]
  },
  {
   "cell_type": "code",
   "execution_count": 35,
   "metadata": {},
   "outputs": [
    {
     "data": {
      "text/plain": [
       "4.467297089536803"
      ]
     },
     "execution_count": 35,
     "metadata": {},
     "output_type": "execute_result"
    }
   ],
   "source": [
    "avg_pairwise_distance(seto, virg, euclidean)"
   ]
  },
  {
   "cell_type": "markdown",
   "metadata": {},
   "source": [
    "## Manhattan Distance\n",
    "\n",
    "<img src=\"https://cf-courses-data.s3.us.cloud-object-storage.appdomain.cloud/IBM-ML0187EN-SkillsNetwork/labs/module%202/images/manhattan.png\" width=\"30%\" height=\"auto/\">\n"
   ]
  },
  {
   "cell_type": "markdown",
   "metadata": {},
   "source": [
    "In this task, you will learn and practice applying Manhattan distance, sometimes called the  $L1$ norm and \"cityblock\" distance. The  Manhattan distance is even simpler than euclidean distance.\n",
    "\n",
    "It can be described as the sum of the absolute value of the difference in each dimension of two points.\n",
    "\n",
    "_Manhattan distance can be preferrable to euclidean distance in high-dimentional situations._\n",
    "\n",
    "The Manhattan distance between two points __on a plane (2D)__ $(x_1, y_1), (x_2, y_2)$ is:\n",
    "\n",
    "$|x_2 - x_1| + |y_2-y_1|$\n",
    "\n",
    "### <a id='manhattan_GE'></a> General Equation\n",
    "\n",
    "The __general equation for the manhattan distance__ between two points in N-dimentions $\\boldsymbol{a}=[a_1, a_2, \\dots, a_n], \\boldsymbol{b}=[b_1, b_2, \\dots, b_n]$ is:\n",
    "\n",
    "$$ \\sum_{i=1}^{n} |b_i-a_i| $$\n"
   ]
  },
  {
   "cell_type": "markdown",
   "metadata": {},
   "source": [
    "We can use the function `cityblock` from `scipy.spatial.distance` to compute the manhattan distance between two points.\n"
   ]
  },
  {
   "cell_type": "code",
   "execution_count": 36,
   "metadata": {},
   "outputs": [
    {
     "data": {
      "text/plain": [
       "[<matplotlib.lines.Line2D at 0x7f787d9a8b90>]"
      ]
     },
     "execution_count": 36,
     "metadata": {},
     "output_type": "execute_result"
    },
    {
     "data": {
      "image/png": "[encoded data removed]",
      "text/plain": [
       "<Figure size 640x480 with 1 Axes>"
      ]
     },
     "metadata": {},
     "output_type": "display_data"
    }
   ],
   "source": [
    "plt.plot([1,1], [-2,2], 'k-') # total distance = 4 units"
   ]
  },
  {
   "cell_type": "code",
   "execution_count": 37,
   "metadata": {},
   "outputs": [
    {
     "data": {
      "text/plain": [
       "4"
      ]
     },
     "execution_count": 37,
     "metadata": {},
     "output_type": "execute_result"
    }
   ],
   "source": [
    "cityblock([1, 1], [-2, 2])"
   ]
  },
  {
   "cell_type": "markdown",
   "metadata": {},
   "source": [
    "#### Let's find the average _manhattan_ distance between the data of different species of irises\n",
    "\n",
    "Average _manhattan_ distance between __setosa__ and __setosa__:\n"
   ]
  },
  {
   "cell_type": "code",
   "execution_count": 38,
   "metadata": {},
   "outputs": [
    {
     "data": {
      "text/plain": [
       "0.0015999999999999986"
      ]
     },
     "execution_count": 38,
     "metadata": {},
     "output_type": "execute_result"
    }
   ],
   "source": [
    "avg_distance(seto, seto, cityblock)"
   ]
  },
  {
   "cell_type": "markdown",
   "metadata": {},
   "source": [
    "Average _manhattan_ distance between __setosa__ and __versicolor__:\n"
   ]
  },
  {
   "cell_type": "code",
   "execution_count": 39,
   "metadata": {},
   "outputs": [
    {
     "data": {
      "text/plain": [
       "0.01936"
      ]
     },
     "execution_count": 39,
     "metadata": {},
     "output_type": "execute_result"
    }
   ],
   "source": [
    "avg_distance(seto, vers, cityblock)"
   ]
  },
  {
   "cell_type": "markdown",
   "metadata": {},
   "source": [
    "Average _manhattan_ distance between __setosa__ and __virginica__:\n"
   ]
  },
  {
   "cell_type": "code",
   "execution_count": 40,
   "metadata": {},
   "outputs": [
    {
     "data": {
      "text/plain": [
       "0.022039999999999997"
      ]
     },
     "execution_count": 40,
     "metadata": {},
     "output_type": "execute_result"
    }
   ],
   "source": [
    "avg_distance(seto, virg, cityblock)"
   ]
  },
  {
   "cell_type": "markdown",
   "metadata": {},
   "source": [
    "We can also determine the pairwise Manhattan Distances between two points using <code>manhattan_distances</code> from <code>sklearn.metrics.pairwise</code>:\n"
   ]
  },
  {
   "cell_type": "code",
   "execution_count": 41,
   "metadata": {},
   "outputs": [],
   "source": [
    "from sklearn.metrics.pairwise import manhattan_distances"
   ]
  },
  {
   "cell_type": "code",
   "execution_count": 42,
   "metadata": {},
   "outputs": [
    {
     "data": {
      "text/plain": [
       "array([[4.]])"
      ]
     },
     "execution_count": 42,
     "metadata": {},
     "output_type": "execute_result"
    }
   ],
   "source": [
    "X = np.array([[1,1]])\n",
    "Y = np.array([[-2,2]])\n",
    "manhattan_distances(X, Y)"
   ]
  },
  {
   "cell_type": "markdown",
   "metadata": {},
   "source": [
    "## Cosine Distance\n",
    "\n",
    "<img src=\"https://cf-courses-data.s3.us.cloud-object-storage.appdomain.cloud/IBM-ML0187EN-SkillsNetwork/labs/module%202/images/cosine.png\" width=\"30%\" height=\"auto/\">\n"
   ]
  },
  {
   "cell_type": "markdown",
   "metadata": {},
   "source": [
    "In this task, you will learn and practice applying Cosine distance.\n",
    "\n",
    "The cosine distance between two points can be thought of as one minus the cosine of the angle between them with respect to the origin.\n",
    "\n",
    "As such, it has a value in the range $[0, 2]$ where:\n",
    " * $0$ means \"in the same direction\"\n",
    " * $1$ means \"perpendicular\"\n",
    " * $2$ means \"in the opposite direction.\"\n",
    " \n",
    "So, **the lower the cosine distance, the more-similar two points are (in direction)**.\n",
    "\n",
    "_Cosine distance is useful when \"direction\" matters more than euclidean distance_\n",
    "\n",
    "The cosine distance between two points __on a plane (2D)__ $(x_1, y_1), (x_2, y_2)$ is:\n",
    "\n",
    "$$1 - \\frac{x_1 \\cdot x_2 + y_1 \\cdot y_2}{\\sqrt{x_1^2 + y_1^2} + \\sqrt{x_2^2 + y_2^2}}$$\n",
    "\n",
    "### <a id='cosine_GE'></a> General Equation\n",
    "\n",
    "The __general equation for the cosine distance__ between two points in N-dimentions $\\boldsymbol{a} = [a_1, a_2, \\dots, a_n], \\boldsymbol{b} = [b_1, b_2, \\dots, b_n]$ is:\n",
    "\n",
    "$$1 - \\frac{\\sum_{i=1}^{n} a_i \\cdot b_i}{\\sqrt{\\sum_{i=1}^{n} a_i^2} + \\sqrt{\\sum_{i=1}^{n} b_i^2}}$$\n",
    "\n",
    "Or for those inclined to linear algebra:\n",
    "\n",
    "$$1 - \\frac{\\boldsymbol{a} \\cdot \\boldsymbol{b}}{||\\boldsymbol{a}|| \\cdot ||\\boldsymbol{b}||}$$\n"
   ]
  },
  {
   "cell_type": "markdown",
   "metadata": {},
   "source": [
    "We can use the function `cosine` from `scipy.spatial.distance` to compute the cosine distance between two points.\n"
   ]
  },
  {
   "cell_type": "code",
   "execution_count": 43,
   "metadata": {},
   "outputs": [
    {
     "data": {
      "text/plain": [
       "2.0"
      ]
     },
     "execution_count": 43,
     "metadata": {},
     "output_type": "execute_result"
    }
   ],
   "source": [
    "cosine([1, 1], [-1, -1]) # same point"
   ]
  },
  {
   "cell_type": "markdown",
   "metadata": {},
   "source": [
    "For this exercise, we will use a different dataset.\n",
    "\n",
    "Download the dataset `\"auto-mpg.data\"`, which contains information about cars from 1970 to 1982:\n"
   ]
  },
  {
   "cell_type": "code",
   "execution_count": 44,
   "metadata": {},
   "outputs": [],
   "source": [
    "url = 'https://cf-courses-data.s3.us.cloud-object-storage.appdomain.cloud/IBM-ML0187EN-SkillsNetwork/labs/module%202/auto-mpg.data'"
   ]
  },
  {
   "cell_type": "code",
   "execution_count": 45,
   "metadata": {},
   "outputs": [],
   "source": [
    "names = ['mpg','cylinders','displacement','horsepower','weight','acceleration',\n",
    "         'model_year','origin','car_name']"
   ]
  },
  {
   "cell_type": "code",
   "execution_count": 46,
   "metadata": {},
   "outputs": [
    {
     "data": {
      "text/html": [
       "<div>\n",
       "<style scoped>\n",
       "    .dataframe tbody tr th:only-of-type {\n",
       "        vertical-align: middle;\n",
       "    }\n",
       "\n",
       "    .dataframe tbody tr th {\n",
       "        vertical-align: top;\n",
       "    }\n",
       "\n",
       "    .dataframe thead th {\n",
       "        text-align: right;\n",
       "    }\n",
       "</style>\n",
       "<table border=\"1\" class=\"dataframe\">\n",
       "  <thead>\n",
       "    <tr style=\"text-align: right;\">\n",
       "      <th></th>\n",
       "      <th>18.0   8   307.0      130.0      3504.      12.0   70  1\\t\"chevrolet chevelle malibu\"</th>\n",
       "    </tr>\n",
       "  </thead>\n",
       "  <tbody>\n",
       "    <tr>\n",
       "      <th>0</th>\n",
       "      <td>15.0   8   350.0      165.0      3693.      11...</td>\n",
       "    </tr>\n",
       "    <tr>\n",
       "      <th>1</th>\n",
       "      <td>18.0   8   318.0      150.0      3436.      11...</td>\n",
       "    </tr>\n",
       "    <tr>\n",
       "      <th>2</th>\n",
       "      <td>16.0   8   304.0      150.0      3433.      12...</td>\n",
       "    </tr>\n",
       "    <tr>\n",
       "      <th>3</th>\n",
       "      <td>17.0   8   302.0      140.0      3449.      10...</td>\n",
       "    </tr>\n",
       "    <tr>\n",
       "      <th>4</th>\n",
       "      <td>15.0   8   429.0      198.0      4341.      10...</td>\n",
       "    </tr>\n",
       "  </tbody>\n",
       "</table>\n",
       "</div>"
      ],
      "text/plain": [
       "  18.0   8   307.0      130.0      3504.      12.0   70  1\\t\"chevrolet chevelle malibu\"\n",
       "0  15.0   8   350.0      165.0      3693.      11...                                   \n",
       "1  18.0   8   318.0      150.0      3436.      11...                                   \n",
       "2  16.0   8   304.0      150.0      3433.      12...                                   \n",
       "3  17.0   8   302.0      140.0      3449.      10...                                   \n",
       "4  15.0   8   429.0      198.0      4341.      10...                                   "
      ]
     },
     "execution_count": 46,
     "metadata": {},
     "output_type": "execute_result"
    }
   ],
   "source": [
    "df = pd.read_csv(url)\n",
    "df.head()"
   ]
  },
  {
   "cell_type": "code",
   "execution_count": 47,
   "metadata": {},
   "outputs": [
    {
     "data": {
      "text/html": [
       "<div>\n",
       "<style scoped>\n",
       "    .dataframe tbody tr th:only-of-type {\n",
       "        vertical-align: middle;\n",
       "    }\n",
       "\n",
       "    .dataframe tbody tr th {\n",
       "        vertical-align: top;\n",
       "    }\n",
       "\n",
       "    .dataframe thead th {\n",
       "        text-align: right;\n",
       "    }\n",
       "</style>\n",
       "<table border=\"1\" class=\"dataframe\">\n",
       "  <thead>\n",
       "    <tr style=\"text-align: right;\">\n",
       "      <th></th>\n",
       "      <th>mpg</th>\n",
       "      <th>cylinders</th>\n",
       "      <th>displacement</th>\n",
       "      <th>horsepower</th>\n",
       "      <th>weight</th>\n",
       "      <th>acceleration</th>\n",
       "      <th>model_year</th>\n",
       "      <th>origin</th>\n",
       "      <th>car_name</th>\n",
       "    </tr>\n",
       "  </thead>\n",
       "  <tbody>\n",
       "    <tr>\n",
       "      <th>0</th>\n",
       "      <td>18.0</td>\n",
       "      <td>8</td>\n",
       "      <td>307.0</td>\n",
       "      <td>130.0</td>\n",
       "      <td>3504.0</td>\n",
       "      <td>12.0</td>\n",
       "      <td>70</td>\n",
       "      <td>1</td>\n",
       "      <td>chevrolet chevelle malibu</td>\n",
       "    </tr>\n",
       "    <tr>\n",
       "      <th>1</th>\n",
       "      <td>15.0</td>\n",
       "      <td>8</td>\n",
       "      <td>350.0</td>\n",
       "      <td>165.0</td>\n",
       "      <td>3693.0</td>\n",
       "      <td>11.5</td>\n",
       "      <td>70</td>\n",
       "      <td>1</td>\n",
       "      <td>buick skylark 320</td>\n",
       "    </tr>\n",
       "    <tr>\n",
       "      <th>2</th>\n",
       "      <td>18.0</td>\n",
       "      <td>8</td>\n",
       "      <td>318.0</td>\n",
       "      <td>150.0</td>\n",
       "      <td>3436.0</td>\n",
       "      <td>11.0</td>\n",
       "      <td>70</td>\n",
       "      <td>1</td>\n",
       "      <td>plymouth satellite</td>\n",
       "    </tr>\n",
       "    <tr>\n",
       "      <th>3</th>\n",
       "      <td>16.0</td>\n",
       "      <td>8</td>\n",
       "      <td>304.0</td>\n",
       "      <td>150.0</td>\n",
       "      <td>3433.0</td>\n",
       "      <td>12.0</td>\n",
       "      <td>70</td>\n",
       "      <td>1</td>\n",
       "      <td>amc rebel sst</td>\n",
       "    </tr>\n",
       "    <tr>\n",
       "      <th>4</th>\n",
       "      <td>17.0</td>\n",
       "      <td>8</td>\n",
       "      <td>302.0</td>\n",
       "      <td>140.0</td>\n",
       "      <td>3449.0</td>\n",
       "      <td>10.5</td>\n",
       "      <td>70</td>\n",
       "      <td>1</td>\n",
       "      <td>ford torino</td>\n",
       "    </tr>\n",
       "  </tbody>\n",
       "</table>\n",
       "</div>"
      ],
      "text/plain": [
       "    mpg  cylinders  displacement horsepower  weight  acceleration  model_year  \\\n",
       "0  18.0          8         307.0      130.0  3504.0          12.0          70   \n",
       "1  15.0          8         350.0      165.0  3693.0          11.5          70   \n",
       "2  18.0          8         318.0      150.0  3436.0          11.0          70   \n",
       "3  16.0          8         304.0      150.0  3433.0          12.0          70   \n",
       "4  17.0          8         302.0      140.0  3449.0          10.5          70   \n",
       "\n",
       "   origin                   car_name  \n",
       "0       1  chevrolet chevelle malibu  \n",
       "1       1          buick skylark 320  \n",
       "2       1         plymouth satellite  \n",
       "3       1              amc rebel sst  \n",
       "4       1                ford torino  "
      ]
     },
     "execution_count": 47,
     "metadata": {},
     "output_type": "execute_result"
    }
   ],
   "source": [
    "df = pd.read_csv(url,                    # source of data\n",
    "                 header=None,            # no header row\n",
    "                 delim_whitespace=True,  # ' ' or '\\t' will be considered as separator\n",
    "                 names=names)            # column labels\n",
    "df.head()"
   ]
  },
  {
   "cell_type": "markdown",
   "metadata": {},
   "source": [
    "For this example we are only using the `\"mpg\"` and `\"weight\"` features:\n"
   ]
  },
  {
   "cell_type": "code",
   "execution_count": 48,
   "metadata": {},
   "outputs": [
    {
     "data": {
      "text/plain": [
       "0    [chevrolet, chevelle malibu]\n",
       "1            [buick, skylark 320]\n",
       "2           [plymouth, satellite]\n",
       "3                [amc, rebel sst]\n",
       "4                  [ford, torino]\n",
       "Name: car_name, dtype: object"
      ]
     },
     "execution_count": 48,
     "metadata": {},
     "output_type": "execute_result"
    }
   ],
   "source": [
    "temp = df['car_name'].str.split(n=1)     # split the string by 1st delimiter\n",
    "temp[:5]"
   ]
  },
  {
   "cell_type": "code",
   "execution_count": 49,
   "metadata": {},
   "outputs": [
    {
     "data": {
      "text/plain": [
       "0       chevy\n",
       "1       buick\n",
       "2    plymouth\n",
       "3         amc\n",
       "4        ford\n",
       "Name: car_name, dtype: object"
      ]
     },
     "execution_count": 49,
     "metadata": {},
     "output_type": "execute_result"
    }
   ],
   "source": [
    "df['car_name'] = temp.apply(lambda lst: lst[0]).replace('chevrolet', 'chevy')\n",
    "df['car_name'][:5]"
   ]
  },
  {
   "cell_type": "code",
   "execution_count": 50,
   "metadata": {},
   "outputs": [
    {
     "data": {
      "text/html": [
       "<div>\n",
       "<style scoped>\n",
       "    .dataframe tbody tr th:only-of-type {\n",
       "        vertical-align: middle;\n",
       "    }\n",
       "\n",
       "    .dataframe tbody tr th {\n",
       "        vertical-align: top;\n",
       "    }\n",
       "\n",
       "    .dataframe thead th {\n",
       "        text-align: right;\n",
       "    }\n",
       "</style>\n",
       "<table border=\"1\" class=\"dataframe\">\n",
       "  <thead>\n",
       "    <tr style=\"text-align: right;\">\n",
       "      <th></th>\n",
       "      <th>mpg</th>\n",
       "      <th>weight</th>\n",
       "      <th>make</th>\n",
       "    </tr>\n",
       "  </thead>\n",
       "  <tbody>\n",
       "    <tr>\n",
       "      <th>0</th>\n",
       "      <td>18.0</td>\n",
       "      <td>3504.0</td>\n",
       "      <td>chevy</td>\n",
       "    </tr>\n",
       "    <tr>\n",
       "      <th>1</th>\n",
       "      <td>15.0</td>\n",
       "      <td>3693.0</td>\n",
       "      <td>buick</td>\n",
       "    </tr>\n",
       "    <tr>\n",
       "      <th>2</th>\n",
       "      <td>18.0</td>\n",
       "      <td>3436.0</td>\n",
       "      <td>plymouth</td>\n",
       "    </tr>\n",
       "    <tr>\n",
       "      <th>3</th>\n",
       "      <td>16.0</td>\n",
       "      <td>3433.0</td>\n",
       "      <td>amc</td>\n",
       "    </tr>\n",
       "    <tr>\n",
       "      <th>4</th>\n",
       "      <td>17.0</td>\n",
       "      <td>3449.0</td>\n",
       "      <td>ford</td>\n",
       "    </tr>\n",
       "  </tbody>\n",
       "</table>\n",
       "</div>"
      ],
      "text/plain": [
       "    mpg  weight      make\n",
       "0  18.0  3504.0     chevy\n",
       "1  15.0  3693.0     buick\n",
       "2  18.0  3436.0  plymouth\n",
       "3  16.0  3433.0       amc\n",
       "4  17.0  3449.0      ford"
      ]
     },
     "execution_count": 50,
     "metadata": {},
     "output_type": "execute_result"
    }
   ],
   "source": [
    "df.rename(columns={'car_name': 'make'}, inplace=True)\n",
    "df = df[['mpg','weight','make']]\n",
    "df.head()"
   ]
  },
  {
   "cell_type": "markdown",
   "metadata": {},
   "source": [
    "**Normalize** the numerical data (important for cosine distance if you want features to have \"equal weight\")\n"
   ]
  },
  {
   "cell_type": "code",
   "execution_count": 51,
   "metadata": {},
   "outputs": [],
   "source": [
    "dfn = df[['mpg','weight']]"
   ]
  },
  {
   "cell_type": "code",
   "execution_count": 52,
   "metadata": {},
   "outputs": [],
   "source": [
    "from sklearn.preprocessing import MinMaxScaler as MMS"
   ]
  },
  {
   "cell_type": "code",
   "execution_count": 53,
   "metadata": {},
   "outputs": [
    {
     "data": {
      "text/plain": [
       "array([[0.2393617 , 0.5361497 ],\n",
       "       [0.15957447, 0.58973632],\n",
       "       [0.2393617 , 0.51686986],\n",
       "       [0.18617021, 0.51601928],\n",
       "       [0.21276596, 0.52055571]])"
      ]
     },
     "execution_count": 53,
     "metadata": {},
     "output_type": "execute_result"
    }
   ],
   "source": [
    "MMS().fit_transform(dfn)[:5]"
   ]
  },
  {
   "cell_type": "code",
   "execution_count": 54,
   "metadata": {},
   "outputs": [
    {
     "data": {
      "text/html": [
       "<div>\n",
       "<style scoped>\n",
       "    .dataframe tbody tr th:only-of-type {\n",
       "        vertical-align: middle;\n",
       "    }\n",
       "\n",
       "    .dataframe tbody tr th {\n",
       "        vertical-align: top;\n",
       "    }\n",
       "\n",
       "    .dataframe thead th {\n",
       "        text-align: right;\n",
       "    }\n",
       "</style>\n",
       "<table border=\"1\" class=\"dataframe\">\n",
       "  <thead>\n",
       "    <tr style=\"text-align: right;\">\n",
       "      <th></th>\n",
       "      <th>mpg</th>\n",
       "      <th>weight</th>\n",
       "      <th>make</th>\n",
       "    </tr>\n",
       "  </thead>\n",
       "  <tbody>\n",
       "    <tr>\n",
       "      <th>0</th>\n",
       "      <td>0.239362</td>\n",
       "      <td>0.536150</td>\n",
       "      <td>chevy</td>\n",
       "    </tr>\n",
       "    <tr>\n",
       "      <th>1</th>\n",
       "      <td>0.159574</td>\n",
       "      <td>0.589736</td>\n",
       "      <td>buick</td>\n",
       "    </tr>\n",
       "    <tr>\n",
       "      <th>2</th>\n",
       "      <td>0.239362</td>\n",
       "      <td>0.516870</td>\n",
       "      <td>plymouth</td>\n",
       "    </tr>\n",
       "    <tr>\n",
       "      <th>3</th>\n",
       "      <td>0.186170</td>\n",
       "      <td>0.516019</td>\n",
       "      <td>amc</td>\n",
       "    </tr>\n",
       "    <tr>\n",
       "      <th>4</th>\n",
       "      <td>0.212766</td>\n",
       "      <td>0.520556</td>\n",
       "      <td>ford</td>\n",
       "    </tr>\n",
       "  </tbody>\n",
       "</table>\n",
       "</div>"
      ],
      "text/plain": [
       "        mpg    weight      make\n",
       "0  0.239362  0.536150     chevy\n",
       "1  0.159574  0.589736     buick\n",
       "2  0.239362  0.516870  plymouth\n",
       "3  0.186170  0.516019       amc\n",
       "4  0.212766  0.520556      ford"
      ]
     },
     "execution_count": 54,
     "metadata": {},
     "output_type": "execute_result"
    }
   ],
   "source": [
    "df[['mpg', 'weight']] = MMS().fit_transform(dfn)\n",
    "df.head()"
   ]
  },
  {
   "cell_type": "code",
   "execution_count": 55,
   "metadata": {},
   "outputs": [
    {
     "data": {
      "text/html": [
       "<div>\n",
       "<style scoped>\n",
       "    .dataframe tbody tr th:only-of-type {\n",
       "        vertical-align: middle;\n",
       "    }\n",
       "\n",
       "    .dataframe tbody tr th {\n",
       "        vertical-align: top;\n",
       "    }\n",
       "\n",
       "    .dataframe thead th {\n",
       "        text-align: right;\n",
       "    }\n",
       "</style>\n",
       "<table border=\"1\" class=\"dataframe\">\n",
       "  <thead>\n",
       "    <tr style=\"text-align: right;\">\n",
       "      <th></th>\n",
       "      <th>mpg</th>\n",
       "      <th>weight</th>\n",
       "    </tr>\n",
       "  </thead>\n",
       "  <tbody>\n",
       "    <tr>\n",
       "      <th>0</th>\n",
       "      <td>0.239362</td>\n",
       "      <td>0.536150</td>\n",
       "    </tr>\n",
       "    <tr>\n",
       "      <th>1</th>\n",
       "      <td>0.159574</td>\n",
       "      <td>0.589736</td>\n",
       "    </tr>\n",
       "    <tr>\n",
       "      <th>2</th>\n",
       "      <td>0.239362</td>\n",
       "      <td>0.516870</td>\n",
       "    </tr>\n",
       "    <tr>\n",
       "      <th>3</th>\n",
       "      <td>0.186170</td>\n",
       "      <td>0.516019</td>\n",
       "    </tr>\n",
       "    <tr>\n",
       "      <th>4</th>\n",
       "      <td>0.212766</td>\n",
       "      <td>0.520556</td>\n",
       "    </tr>\n",
       "  </tbody>\n",
       "</table>\n",
       "</div>"
      ],
      "text/plain": [
       "        mpg    weight\n",
       "0  0.239362  0.536150\n",
       "1  0.159574  0.589736\n",
       "2  0.239362  0.516870\n",
       "3  0.186170  0.516019\n",
       "4  0.212766  0.520556"
      ]
     },
     "execution_count": 55,
     "metadata": {},
     "output_type": "execute_result"
    }
   ],
   "source": [
    "# Same with MinMaxScaler()\n",
    "((dfn - dfn.min()) / (dfn.max() - dfn.min())).head()"
   ]
  },
  {
   "cell_type": "markdown",
   "metadata": {},
   "source": [
    "Let's use _cosine_ distance to compare chevy and honda makes from 1970 to 1982:\n"
   ]
  },
  {
   "cell_type": "code",
   "execution_count": 56,
   "metadata": {},
   "outputs": [],
   "source": [
    "chevy = df.loc[df['make'] == 'chevy']\n",
    "honda = df.loc[df['make'] == 'honda']"
   ]
  },
  {
   "cell_type": "code",
   "execution_count": 57,
   "metadata": {},
   "outputs": [
    {
     "data": {
      "image/png": "[encoded data removed]",
      "text/plain": [
       "<Figure size 640x480 with 1 Axes>"
      ]
     },
     "metadata": {},
     "output_type": "display_data"
    }
   ],
   "source": [
    "plt.scatter(chevy['mpg'], chevy['weight'], marker='o', label='chevy')\n",
    "plt.scatter(honda['mpg'], honda['weight'], marker='^', label='honda')\n",
    "plt.xlabel('mpg')\n",
    "plt.ylabel('weight')\n",
    "plt.legend()\n",
    "plt.show()"
   ]
  },
  {
   "cell_type": "markdown",
   "metadata": {},
   "source": [
    "Now let's analyze the data using _cosine_ distance.\n"
   ]
  },
  {
   "cell_type": "code",
   "execution_count": 58,
   "metadata": {},
   "outputs": [],
   "source": [
    "chevy_data = chevy[['mpg','weight']].to_numpy()\n",
    "honda_data = honda[['mpg','weight']].to_numpy()"
   ]
  },
  {
   "cell_type": "markdown",
   "metadata": {},
   "source": [
    "The average _cosine_ distance between __chevy__ and __chevy__ makes:\n"
   ]
  },
  {
   "cell_type": "code",
   "execution_count": 59,
   "metadata": {},
   "outputs": [
    {
     "data": {
      "text/plain": [
       "4.566614625251354e-05"
      ]
     },
     "execution_count": 59,
     "metadata": {},
     "output_type": "execute_result"
    }
   ],
   "source": [
    "avg_distance(chevy_data, chevy_data, cosine)"
   ]
  },
  {
   "cell_type": "markdown",
   "metadata": {},
   "source": [
    "The average _cosine_ distance between __honda__ and __honda__ makes:\n"
   ]
  },
  {
   "cell_type": "code",
   "execution_count": 60,
   "metadata": {},
   "outputs": [
    {
     "data": {
      "text/plain": [
       "0.002633183269711542"
      ]
     },
     "execution_count": 60,
     "metadata": {},
     "output_type": "execute_result"
    }
   ],
   "source": [
    "avg_distance(honda_data, honda_data, cosine)"
   ]
  },
  {
   "cell_type": "markdown",
   "metadata": {},
   "source": [
    "The average _cosine_ distance between __honda__ and __chevy__ makes:\n"
   ]
  },
  {
   "cell_type": "code",
   "execution_count": 61,
   "metadata": {},
   "outputs": [
    {
     "data": {
      "text/plain": [
       "0.0078004473385998845"
      ]
     },
     "execution_count": 61,
     "metadata": {},
     "output_type": "execute_result"
    }
   ],
   "source": [
    "avg_distance(honda_data, chevy_data, cosine)"
   ]
  },
  {
   "cell_type": "markdown",
   "metadata": {},
   "source": [
    "We can also determine the  pairwise cosine distance  between two points using <code>cosine_distances</code> from <code>sklearn.metrics.pairwise</code>:\n"
   ]
  },
  {
   "cell_type": "code",
   "execution_count": 62,
   "metadata": {},
   "outputs": [],
   "source": [
    "from sklearn.metrics.pairwise import cosine_distances"
   ]
  },
  {
   "cell_type": "code",
   "execution_count": 63,
   "metadata": {},
   "outputs": [
    {
     "data": {
      "text/plain": [
       "array([[2.]])"
      ]
     },
     "execution_count": 63,
     "metadata": {},
     "output_type": "execute_result"
    }
   ],
   "source": [
    "X = np.array([[1,1]])\n",
    "Y = np.array([[-1,-1]])\n",
    "cosine_distances(X,Y)"
   ]
  },
  {
   "cell_type": "markdown",
   "metadata": {},
   "source": [
    "You can derive the cosine distance from the cosine similarity as follows \n",
    "\n",
    "**cosine_distance = 1 - cosine_similarity**\n"
   ]
  },
  {
   "cell_type": "code",
   "execution_count": 64,
   "metadata": {},
   "outputs": [
    {
     "data": {
      "text/plain": [
       "array([[2.]])"
      ]
     },
     "execution_count": 64,
     "metadata": {},
     "output_type": "execute_result"
    }
   ],
   "source": [
    "from sklearn.metrics.pairwise import cosine_similarity\n",
    "1 - cosine_similarity(X, Y)"
   ]
  },
  {
   "cell_type": "markdown",
   "metadata": {},
   "source": [
    "The average pairwise _cosine_ distance between __chevy__ and __chevy__ makes:\n"
   ]
  },
  {
   "cell_type": "code",
   "execution_count": 65,
   "metadata": {},
   "outputs": [
    {
     "data": {
      "text/plain": [
       "0.1686029684688178"
      ]
     },
     "execution_count": 65,
     "metadata": {},
     "output_type": "execute_result"
    }
   ],
   "source": [
    "cosine_distances(chevy_data, chevy_data).mean()"
   ]
  },
  {
   "cell_type": "markdown",
   "metadata": {},
   "source": [
    " between __honda__ and __chevy__ makes:"
   ]
  },
  {
   "cell_type": "code",
   "execution_count": 66,
   "metadata": {},
   "outputs": [
    {
     "data": {
      "text/plain": [
       "0.35119005409505294"
      ]
     },
     "execution_count": 66,
     "metadata": {},
     "output_type": "execute_result"
    }
   ],
   "source": [
    "cosine_distances(honda_data, chevy_data).mean()"
   ]
  },
  {
   "cell_type": "markdown",
   "metadata": {},
   "source": [
    "## Analyzing Distance Metrics with DBSCAN\n",
    "\n",
    "Now that we've learned various ___numerical___ distance metrics, let's see how they affect a clustering algorithm.\n",
    "\n",
    "We begin by importing the `DBSCAN` object from `sklearn.neighbors` and downloading a synthetic dataset for clustering:\n"
   ]
  },
  {
   "cell_type": "code",
   "execution_count": 67,
   "metadata": {},
   "outputs": [],
   "source": [
    "from sklearn.cluster import DBSCAN"
   ]
  },
  {
   "cell_type": "code",
   "execution_count": 68,
   "metadata": {},
   "outputs": [],
   "source": [
    "url = 'https://cf-courses-data.s3.us.cloud-object-storage.appdomain.cloud/IBM-ML0187EN-SkillsNetwork/labs/module%202/data/synthetic_clustering.csv'"
   ]
  },
  {
   "cell_type": "code",
   "execution_count": 69,
   "metadata": {},
   "outputs": [
    {
     "data": {
      "text/html": [
       "<div>\n",
       "<style scoped>\n",
       "    .dataframe tbody tr th:only-of-type {\n",
       "        vertical-align: middle;\n",
       "    }\n",
       "\n",
       "    .dataframe tbody tr th {\n",
       "        vertical-align: top;\n",
       "    }\n",
       "\n",
       "    .dataframe thead th {\n",
       "        text-align: right;\n",
       "    }\n",
       "</style>\n",
       "<table border=\"1\" class=\"dataframe\">\n",
       "  <thead>\n",
       "    <tr style=\"text-align: right;\">\n",
       "      <th></th>\n",
       "      <th>x</th>\n",
       "      <th>y</th>\n",
       "    </tr>\n",
       "  </thead>\n",
       "  <tbody>\n",
       "    <tr>\n",
       "      <th>0</th>\n",
       "      <td>-0.285980</td>\n",
       "      <td>1.149042</td>\n",
       "    </tr>\n",
       "    <tr>\n",
       "      <th>1</th>\n",
       "      <td>-0.296288</td>\n",
       "      <td>1.204223</td>\n",
       "    </tr>\n",
       "    <tr>\n",
       "      <th>2</th>\n",
       "      <td>-1.157672</td>\n",
       "      <td>-1.406545</td>\n",
       "    </tr>\n",
       "    <tr>\n",
       "      <th>3</th>\n",
       "      <td>-0.653802</td>\n",
       "      <td>-0.993525</td>\n",
       "    </tr>\n",
       "    <tr>\n",
       "      <th>4</th>\n",
       "      <td>1.347072</td>\n",
       "      <td>1.329942</td>\n",
       "    </tr>\n",
       "  </tbody>\n",
       "</table>\n",
       "</div>"
      ],
      "text/plain": [
       "          x         y\n",
       "0 -0.285980  1.149042\n",
       "1 -0.296288  1.204223\n",
       "2 -1.157672 -1.406545\n",
       "3 -0.653802 -0.993525\n",
       "4  1.347072  1.329942"
      ]
     },
     "execution_count": 69,
     "metadata": {},
     "output_type": "execute_result"
    }
   ],
   "source": [
    "df = pd.read_csv(url)\n",
    "df.head()"
   ]
  },
  {
   "cell_type": "code",
   "execution_count": 70,
   "metadata": {},
   "outputs": [
    {
     "data": {
      "image/png": "[encoded data removed]",
      "text/plain": [
       "<Figure size 640x480 with 1 Axes>"
      ]
     },
     "metadata": {},
     "output_type": "display_data"
    }
   ],
   "source": [
    "plt.scatter(df['x'], df['y'])\n",
    "plt.xlabel('x')\n",
    "plt.ylabel('y')\n",
    "plt.show()"
   ]
  },
  {
   "cell_type": "markdown",
   "metadata": {},
   "source": [
    "#### DBSCAN using Euclidean:\n"
   ]
  },
  {
   "cell_type": "code",
   "execution_count": 71,
   "metadata": {},
   "outputs": [
    {
     "data": {
      "text/html": [
       "<style>#sk-container-id-1 {\n",
       "  /* Definition of color scheme common for light and dark mode */\n",
       "  --sklearn-color-text: #000;\n",
       "  --sklearn-color-text-muted: #666;\n",
       "  --sklearn-color-line: gray;\n",
       "  /* Definition of color scheme for unfitted estimators */\n",
       "  --sklearn-color-unfitted-level-0: #fff5e6;\n",
       "  --sklearn-color-unfitted-level-1: #f6e4d2;\n",
       "  --sklearn-color-unfitted-level-2: #ffe0b3;\n",
       "  --sklearn-color-unfitted-level-3: chocolate;\n",
       "  /* Definition of color scheme for fitted estimators */\n",
       "  --sklearn-color-fitted-level-0: #f0f8ff;\n",
       "  --sklearn-color-fitted-level-1: #d4ebff;\n",
       "  --sklearn-color-fitted-level-2: #b3dbfd;\n",
       "  --sklearn-color-fitted-level-3: cornflowerblue;\n",
       "\n",
       "  /* Specific color for light theme */\n",
       "  --sklearn-color-text-on-default-background: var(--sg-text-color, var(--theme-code-foreground, var(--jp-content-font-color1, black)));\n",
       "  --sklearn-color-background: var(--sg-background-color, var(--theme-background, var(--jp-layout-color0, white)));\n",
       "  --sklearn-color-border-box: var(--sg-text-color, var(--theme-code-foreground, var(--jp-content-font-color1, black)));\n",
       "  --sklearn-color-icon: #696969;\n",
       "\n",
       "  @media (prefers-color-scheme: dark) {\n",
       "    /* Redefinition of color scheme for dark theme */\n",
       "    --sklearn-color-text-on-default-background: var(--sg-text-color, var(--theme-code-foreground, var(--jp-content-font-color1, white)));\n",
       "    --sklearn-color-background: var(--sg-background-color, var(--theme-background, var(--jp-layout-color0, #111)));\n",
       "    --sklearn-color-border-box: var(--sg-text-color, var(--theme-code-foreground, var(--jp-content-font-color1, white)));\n",
       "    --sklearn-color-icon: #878787;\n",
       "  }\n",
       "}\n",
       "\n",
       "#sk-container-id-1 {\n",
       "  color: var(--sklearn-color-text);\n",
       "}\n",
       "\n",
       "#sk-container-id-1 pre {\n",
       "  padding: 0;\n",
       "}\n",
       "\n",
       "#sk-container-id-1 input.sk-hidden--visually {\n",
       "  border: 0;\n",
       "  clip: rect(1px 1px 1px 1px);\n",
       "  clip: rect(1px, 1px, 1px, 1px);\n",
       "  height: 1px;\n",
       "  margin: -1px;\n",
       "  overflow: hidden;\n",
       "  padding: 0;\n",
       "  position: absolute;\n",
       "  width: 1px;\n",
       "}\n",
       "\n",
       "#sk-container-id-1 div.sk-dashed-wrapped {\n",
       "  border: 1px dashed var(--sklearn-color-line);\n",
       "  margin: 0 0.4em 0.5em 0.4em;\n",
       "  box-sizing: border-box;\n",
       "  padding-bottom: 0.4em;\n",
       "  background-color: var(--sklearn-color-background);\n",
       "}\n",
       "\n",
       "#sk-container-id-1 div.sk-container {\n",
       "  /* jupyter's `normalize.less` sets `[hidden] { display: none; }`\n",
       "     but bootstrap.min.css set `[hidden] { display: none !important; }`\n",
       "     so we also need the `!important` here to be able to override the\n",
       "     default hidden behavior on the sphinx rendered scikit-learn.org.\n",
       "     See: https://github.com/scikit-learn/scikit-learn/issues/21755 */\n",
       "  display: inline-block !important;\n",
       "  position: relative;\n",
       "}\n",
       "\n",
       "#sk-container-id-1 div.sk-text-repr-fallback {\n",
       "  display: none;\n",
       "}\n",
       "\n",
       "div.sk-parallel-item,\n",
       "div.sk-serial,\n",
       "div.sk-item {\n",
       "  /* draw centered vertical line to link estimators */\n",
       "  background-image: linear-gradient(var(--sklearn-color-text-on-default-background), var(--sklearn-color-text-on-default-background));\n",
       "  background-size: 2px 100%;\n",
       "  background-repeat: no-repeat;\n",
       "  background-position: center center;\n",
       "}\n",
       "\n",
       "/* Parallel-specific style estimator block */\n",
       "\n",
       "#sk-container-id-1 div.sk-parallel-item::after {\n",
       "  content: \"\";\n",
       "  width: 100%;\n",
       "  border-bottom: 2px solid var(--sklearn-color-text-on-default-background);\n",
       "  flex-grow: 1;\n",
       "}\n",
       "\n",
       "#sk-container-id-1 div.sk-parallel {\n",
       "  display: flex;\n",
       "  align-items: stretch;\n",
       "  justify-content: center;\n",
       "  background-color: var(--sklearn-color-background);\n",
       "  position: relative;\n",
       "}\n",
       "\n",
       "#sk-container-id-1 div.sk-parallel-item {\n",
       "  display: flex;\n",
       "  flex-direction: column;\n",
       "}\n",
       "\n",
       "#sk-container-id-1 div.sk-parallel-item:first-child::after {\n",
       "  align-self: flex-end;\n",
       "  width: 50%;\n",
       "}\n",
       "\n",
       "#sk-container-id-1 div.sk-parallel-item:last-child::after {\n",
       "  align-self: flex-start;\n",
       "  width: 50%;\n",
       "}\n",
       "\n",
       "#sk-container-id-1 div.sk-parallel-item:only-child::after {\n",
       "  width: 0;\n",
       "}\n",
       "\n",
       "/* Serial-specific style estimator block */\n",
       "\n",
       "#sk-container-id-1 div.sk-serial {\n",
       "  display: flex;\n",
       "  flex-direction: column;\n",
       "  align-items: center;\n",
       "  background-color: var(--sklearn-color-background);\n",
       "  padding-right: 1em;\n",
       "  padding-left: 1em;\n",
       "}\n",
       "\n",
       "\n",
       "/* Toggleable style: style used for estimator/Pipeline/ColumnTransformer box that is\n",
       "clickable and can be expanded/collapsed.\n",
       "- Pipeline and ColumnTransformer use this feature and define the default style\n",
       "- Estimators will overwrite some part of the style using the `sk-estimator` class\n",
       "*/\n",
       "\n",
       "/* Pipeline and ColumnTransformer style (default) */\n",
       "\n",
       "#sk-container-id-1 div.sk-toggleable {\n",
       "  /* Default theme specific background. It is overwritten whether we have a\n",
       "  specific estimator or a Pipeline/ColumnTransformer */\n",
       "  background-color: var(--sklearn-color-background);\n",
       "}\n",
       "\n",
       "/* Toggleable label */\n",
       "#sk-container-id-1 label.sk-toggleable__label {\n",
       "  cursor: pointer;\n",
       "  display: flex;\n",
       "  width: 100%;\n",
       "  margin-bottom: 0;\n",
       "  padding: 0.5em;\n",
       "  box-sizing: border-box;\n",
       "  text-align: center;\n",
       "  align-items: start;\n",
       "  justify-content: space-between;\n",
       "  gap: 0.5em;\n",
       "}\n",
       "\n",
       "#sk-container-id-1 label.sk-toggleable__label .caption {\n",
       "  font-size: 0.6rem;\n",
       "  font-weight: lighter;\n",
       "  color: var(--sklearn-color-text-muted);\n",
       "}\n",
       "\n",
       "#sk-container-id-1 label.sk-toggleable__label-arrow:before {\n",
       "  /* Arrow on the left of the label */\n",
       "  content: \"▸\";\n",
       "  float: left;\n",
       "  margin-right: 0.25em;\n",
       "  color: var(--sklearn-color-icon);\n",
       "}\n",
       "\n",
       "#sk-container-id-1 label.sk-toggleable__label-arrow:hover:before {\n",
       "  color: var(--sklearn-color-text);\n",
       "}\n",
       "\n",
       "/* Toggleable content - dropdown */\n",
       "\n",
       "#sk-container-id-1 div.sk-toggleable__content {\n",
       "  max-height: 0;\n",
       "  max-width: 0;\n",
       "  overflow: hidden;\n",
       "  text-align: left;\n",
       "  /* unfitted */\n",
       "  background-color: var(--sklearn-color-unfitted-level-0);\n",
       "}\n",
       "\n",
       "#sk-container-id-1 div.sk-toggleable__content.fitted {\n",
       "  /* fitted */\n",
       "  background-color: var(--sklearn-color-fitted-level-0);\n",
       "}\n",
       "\n",
       "#sk-container-id-1 div.sk-toggleable__content pre {\n",
       "  margin: 0.2em;\n",
       "  border-radius: 0.25em;\n",
       "  color: var(--sklearn-color-text);\n",
       "  /* unfitted */\n",
       "  background-color: var(--sklearn-color-unfitted-level-0);\n",
       "}\n",
       "\n",
       "#sk-container-id-1 div.sk-toggleable__content.fitted pre {\n",
       "  /* unfitted */\n",
       "  background-color: var(--sklearn-color-fitted-level-0);\n",
       "}\n",
       "\n",
       "#sk-container-id-1 input.sk-toggleable__control:checked~div.sk-toggleable__content {\n",
       "  /* Expand drop-down */\n",
       "  max-height: 200px;\n",
       "  max-width: 100%;\n",
       "  overflow: auto;\n",
       "}\n",
       "\n",
       "#sk-container-id-1 input.sk-toggleable__control:checked~label.sk-toggleable__label-arrow:before {\n",
       "  content: \"▾\";\n",
       "}\n",
       "\n",
       "/* Pipeline/ColumnTransformer-specific style */\n",
       "\n",
       "#sk-container-id-1 div.sk-label input.sk-toggleable__control:checked~label.sk-toggleable__label {\n",
       "  color: var(--sklearn-color-text);\n",
       "  background-color: var(--sklearn-color-unfitted-level-2);\n",
       "}\n",
       "\n",
       "#sk-container-id-1 div.sk-label.fitted input.sk-toggleable__control:checked~label.sk-toggleable__label {\n",
       "  background-color: var(--sklearn-color-fitted-level-2);\n",
       "}\n",
       "\n",
       "/* Estimator-specific style */\n",
       "\n",
       "/* Colorize estimator box */\n",
       "#sk-container-id-1 div.sk-estimator input.sk-toggleable__control:checked~label.sk-toggleable__label {\n",
       "  /* unfitted */\n",
       "  background-color: var(--sklearn-color-unfitted-level-2);\n",
       "}\n",
       "\n",
       "#sk-container-id-1 div.sk-estimator.fitted input.sk-toggleable__control:checked~label.sk-toggleable__label {\n",
       "  /* fitted */\n",
       "  background-color: var(--sklearn-color-fitted-level-2);\n",
       "}\n",
       "\n",
       "#sk-container-id-1 div.sk-label label.sk-toggleable__label,\n",
       "#sk-container-id-1 div.sk-label label {\n",
       "  /* The background is the default theme color */\n",
       "  color: var(--sklearn-color-text-on-default-background);\n",
       "}\n",
       "\n",
       "/* On hover, darken the color of the background */\n",
       "#sk-container-id-1 div.sk-label:hover label.sk-toggleable__label {\n",
       "  color: var(--sklearn-color-text);\n",
       "  background-color: var(--sklearn-color-unfitted-level-2);\n",
       "}\n",
       "\n",
       "/* Label box, darken color on hover, fitted */\n",
       "#sk-container-id-1 div.sk-label.fitted:hover label.sk-toggleable__label.fitted {\n",
       "  color: var(--sklearn-color-text);\n",
       "  background-color: var(--sklearn-color-fitted-level-2);\n",
       "}\n",
       "\n",
       "/* Estimator label */\n",
       "\n",
       "#sk-container-id-1 div.sk-label label {\n",
       "  font-family: monospace;\n",
       "  font-weight: bold;\n",
       "  display: inline-block;\n",
       "  line-height: 1.2em;\n",
       "}\n",
       "\n",
       "#sk-container-id-1 div.sk-label-container {\n",
       "  text-align: center;\n",
       "}\n",
       "\n",
       "/* Estimator-specific */\n",
       "#sk-container-id-1 div.sk-estimator {\n",
       "  font-family: monospace;\n",
       "  border: 1px dotted var(--sklearn-color-border-box);\n",
       "  border-radius: 0.25em;\n",
       "  box-sizing: border-box;\n",
       "  margin-bottom: 0.5em;\n",
       "  /* unfitted */\n",
       "  background-color: var(--sklearn-color-unfitted-level-0);\n",
       "}\n",
       "\n",
       "#sk-container-id-1 div.sk-estimator.fitted {\n",
       "  /* fitted */\n",
       "  background-color: var(--sklearn-color-fitted-level-0);\n",
       "}\n",
       "\n",
       "/* on hover */\n",
       "#sk-container-id-1 div.sk-estimator:hover {\n",
       "  /* unfitted */\n",
       "  background-color: var(--sklearn-color-unfitted-level-2);\n",
       "}\n",
       "\n",
       "#sk-container-id-1 div.sk-estimator.fitted:hover {\n",
       "  /* fitted */\n",
       "  background-color: var(--sklearn-color-fitted-level-2);\n",
       "}\n",
       "\n",
       "/* Specification for estimator info (e.g. \"i\" and \"?\") */\n",
       "\n",
       "/* Common style for \"i\" and \"?\" */\n",
       "\n",
       ".sk-estimator-doc-link,\n",
       "a:link.sk-estimator-doc-link,\n",
       "a:visited.sk-estimator-doc-link {\n",
       "  float: right;\n",
       "  font-size: smaller;\n",
       "  line-height: 1em;\n",
       "  font-family: monospace;\n",
       "  background-color: var(--sklearn-color-background);\n",
       "  border-radius: 1em;\n",
       "  height: 1em;\n",
       "  width: 1em;\n",
       "  text-decoration: none !important;\n",
       "  margin-left: 0.5em;\n",
       "  text-align: center;\n",
       "  /* unfitted */\n",
       "  border: var(--sklearn-color-unfitted-level-1) 1pt solid;\n",
       "  color: var(--sklearn-color-unfitted-level-1);\n",
       "}\n",
       "\n",
       ".sk-estimator-doc-link.fitted,\n",
       "a:link.sk-estimator-doc-link.fitted,\n",
       "a:visited.sk-estimator-doc-link.fitted {\n",
       "  /* fitted */\n",
       "  border: var(--sklearn-color-fitted-level-1) 1pt solid;\n",
       "  color: var(--sklearn-color-fitted-level-1);\n",
       "}\n",
       "\n",
       "/* On hover */\n",
       "div.sk-estimator:hover .sk-estimator-doc-link:hover,\n",
       ".sk-estimator-doc-link:hover,\n",
       "div.sk-label-container:hover .sk-estimator-doc-link:hover,\n",
       ".sk-estimator-doc-link:hover {\n",
       "  /* unfitted */\n",
       "  background-color: var(--sklearn-color-unfitted-level-3);\n",
       "  color: var(--sklearn-color-background);\n",
       "  text-decoration: none;\n",
       "}\n",
       "\n",
       "div.sk-estimator.fitted:hover .sk-estimator-doc-link.fitted:hover,\n",
       ".sk-estimator-doc-link.fitted:hover,\n",
       "div.sk-label-container:hover .sk-estimator-doc-link.fitted:hover,\n",
       ".sk-estimator-doc-link.fitted:hover {\n",
       "  /* fitted */\n",
       "  background-color: var(--sklearn-color-fitted-level-3);\n",
       "  color: var(--sklearn-color-background);\n",
       "  text-decoration: none;\n",
       "}\n",
       "\n",
       "/* Span, style for the box shown on hovering the info icon */\n",
       ".sk-estimator-doc-link span {\n",
       "  display: none;\n",
       "  z-index: 9999;\n",
       "  position: relative;\n",
       "  font-weight: normal;\n",
       "  right: .2ex;\n",
       "  padding: .5ex;\n",
       "  margin: .5ex;\n",
       "  width: min-content;\n",
       "  min-width: 20ex;\n",
       "  max-width: 50ex;\n",
       "  color: var(--sklearn-color-text);\n",
       "  box-shadow: 2pt 2pt 4pt #999;\n",
       "  /* unfitted */\n",
       "  background: var(--sklearn-color-unfitted-level-0);\n",
       "  border: .5pt solid var(--sklearn-color-unfitted-level-3);\n",
       "}\n",
       "\n",
       ".sk-estimator-doc-link.fitted span {\n",
       "  /* fitted */\n",
       "  background: var(--sklearn-color-fitted-level-0);\n",
       "  border: var(--sklearn-color-fitted-level-3);\n",
       "}\n",
       "\n",
       ".sk-estimator-doc-link:hover span {\n",
       "  display: block;\n",
       "}\n",
       "\n",
       "/* \"?\"-specific style due to the `<a>` HTML tag */\n",
       "\n",
       "#sk-container-id-1 a.estimator_doc_link {\n",
       "  float: right;\n",
       "  font-size: 1rem;\n",
       "  line-height: 1em;\n",
       "  font-family: monospace;\n",
       "  background-color: var(--sklearn-color-background);\n",
       "  border-radius: 1rem;\n",
       "  height: 1rem;\n",
       "  width: 1rem;\n",
       "  text-decoration: none;\n",
       "  /* unfitted */\n",
       "  color: var(--sklearn-color-unfitted-level-1);\n",
       "  border: var(--sklearn-color-unfitted-level-1) 1pt solid;\n",
       "}\n",
       "\n",
       "#sk-container-id-1 a.estimator_doc_link.fitted {\n",
       "  /* fitted */\n",
       "  border: var(--sklearn-color-fitted-level-1) 1pt solid;\n",
       "  color: var(--sklearn-color-fitted-level-1);\n",
       "}\n",
       "\n",
       "/* On hover */\n",
       "#sk-container-id-1 a.estimator_doc_link:hover {\n",
       "  /* unfitted */\n",
       "  background-color: var(--sklearn-color-unfitted-level-3);\n",
       "  color: var(--sklearn-color-background);\n",
       "  text-decoration: none;\n",
       "}\n",
       "\n",
       "#sk-container-id-1 a.estimator_doc_link.fitted:hover {\n",
       "  /* fitted */\n",
       "  background-color: var(--sklearn-color-fitted-level-3);\n",
       "}\n",
       "</style><div id=\"sk-container-id-1\" class=\"sk-top-container\"><div class=\"sk-text-repr-fallback\"><pre>DBSCAN(eps=0.1, metric=&lt;function euclidean at 0x7f78865a0180&gt;)</pre><b>In a Jupyter environment, please rerun this cell to show the HTML representation or trust the notebook. <br />On GitHub, the HTML representation is unable to render, please try loading this page with nbviewer.org.</b></div><div class=\"sk-container\" hidden><div class=\"sk-item\"><div class=\"sk-estimator fitted sk-toggleable\"><input class=\"sk-toggleable__control sk-hidden--visually\" id=\"sk-estimator-id-1\" type=\"checkbox\" checked><label for=\"sk-estimator-id-1\" class=\"sk-toggleable__label fitted sk-toggleable__label-arrow\"><div><div>DBSCAN</div></div><div><a class=\"sk-estimator-doc-link fitted\" rel=\"noreferrer\" target=\"_blank\" href=\"https://scikit-learn.org/1.6/modules/generated/sklearn.cluster.DBSCAN.html\">?<span>Documentation for DBSCAN</span></a><span class=\"sk-estimator-doc-link fitted\">i<span>Fitted</span></span></div></label><div class=\"sk-toggleable__content fitted\"><pre>DBSCAN(eps=0.1, metric=&lt;function euclidean at 0x7f78865a0180&gt;)</pre></div> </div></div></div></div>"
      ],
      "text/plain": [
       "DBSCAN(eps=0.1, metric=<function euclidean at 0x7f78865a0180>)"
      ]
     },
     "execution_count": 71,
     "metadata": {},
     "output_type": "execute_result"
    }
   ],
   "source": [
    "dbscan = DBSCAN(eps=0.1, \n",
    "                metric=euclidean)  # default\n",
    "dbscan.fit(df)"
   ]
  },
  {
   "cell_type": "code",
   "execution_count": 72,
   "metadata": {},
   "outputs": [
    {
     "data": {
      "text/plain": [
       "array([-1,  0,  1,  2,  3,  4,  5,  6,  7,  8,  9, 10, 11, 12, 13, 14])"
      ]
     },
     "execution_count": 72,
     "metadata": {},
     "output_type": "execute_result"
    }
   ],
   "source": [
    "np.unique(dbscan.labels_)"
   ]
  },
  {
   "cell_type": "code",
   "execution_count": 73,
   "metadata": {},
   "outputs": [
    {
     "data": {
      "text/plain": [
       "15"
      ]
     },
     "execution_count": 73,
     "metadata": {},
     "output_type": "execute_result"
    }
   ],
   "source": [
    "dbscan.labels_.max()+1"
   ]
  },
  {
   "cell_type": "code",
   "execution_count": 74,
   "metadata": {},
   "outputs": [
    {
     "data": {
      "text/plain": [
       "array([0.76954936, 0.93155145, 0.10171376, 0.29058039, 0.6888396 ,\n",
       "       0.55003131, 0.54174968, 0.97480828, 0.68968759, 0.60391966,\n",
       "       0.61458404, 0.7379703 , 0.68931235, 0.50401359, 0.51038641,\n",
       "       0.65162583, 0.16272814, 0.26342026, 0.24098269, 0.23724373,\n",
       "       0.40124179, 0.29559869, 0.816842  , 0.2434017 , 0.12511408,\n",
       "       0.63501124, 0.84650277, 0.1062124 , 0.11497348, 0.56727151,\n",
       "       0.04717061, 0.314522  , 0.49340881, 0.1464304 , 0.94765527,\n",
       "       0.5140776 , 0.19765459, 0.14815357, 0.60760525, 0.00273606,\n",
       "       0.95718363, 0.55608328, 0.02644469, 0.35849185, 0.19456362])"
      ]
     },
     "execution_count": 74,
     "metadata": {},
     "output_type": "execute_result"
    }
   ],
   "source": [
    "np.random.random(size=3*(dbscan.labels_.max()+1)) # generate 3 * 15 numbers"
   ]
  },
  {
   "cell_type": "code",
   "execution_count": 75,
   "metadata": {},
   "outputs": [
    {
     "data": {
      "text/plain": [
       "array([[0.6702893 , 0.90486648, 0.63603154],\n",
       "       [0.41698657, 0.05259779, 0.18895583],\n",
       "       [0.21203158, 0.28086788, 0.06438956],\n",
       "       [0.59776133, 0.02100163, 0.66620462],\n",
       "       [0.40828138, 0.07724184, 0.40260964],\n",
       "       [0.55534012, 0.13244349, 0.04429473],\n",
       "       [0.26683368, 0.00830556, 0.08293456],\n",
       "       [0.09358939, 0.16595954, 0.79402228],\n",
       "       [0.95028835, 0.32770319, 0.70389731],\n",
       "       [0.51302483, 0.62682177, 0.44233046],\n",
       "       [0.79251804, 0.40345573, 0.7436284 ],\n",
       "       [0.6141979 , 0.66902461, 0.37009856],\n",
       "       [0.38541682, 0.36508259, 0.01118768],\n",
       "       [0.57391113, 0.65171296, 0.2132116 ],\n",
       "       [0.44335044, 0.66532486, 0.17820067]])"
      ]
     },
     "execution_count": 75,
     "metadata": {},
     "output_type": "execute_result"
    }
   ],
   "source": [
    "# Since 'dbscan.labels' are zero based, added 1.\n",
    "# Multiply with 3 for RGB values\n",
    "colors = np.random.random(size=3 * (dbscan.labels_.max()+1)).reshape(-1,3)\n",
    "colors"
   ]
  },
  {
   "cell_type": "code",
   "execution_count": 76,
   "metadata": {},
   "outputs": [
    {
     "data": {
      "text/plain": [
       "(15, (15, 3))"
      ]
     },
     "execution_count": 76,
     "metadata": {},
     "output_type": "execute_result"
    }
   ],
   "source": [
    "len(colors), colors.shape"
   ]
  },
  {
   "cell_type": "code",
   "execution_count": 77,
   "metadata": {
    "scrolled": true
   },
   "outputs": [
    {
     "data": {
      "text/plain": [
       "['0 | [0.6702893  0.90486648 0.63603154]',\n",
       " '0 | [0.6702893  0.90486648 0.63603154]',\n",
       " '1 | [0.41698657 0.05259779 0.18895583]',\n",
       " '2 | [0.21203158 0.28086788 0.06438956]',\n",
       " '3 | [0.59776133 0.02100163 0.66620462]',\n",
       " '4 | [0.40828138 0.07724184 0.40260964]',\n",
       " '5 | [0.55534012 0.13244349 0.04429473]',\n",
       " '6 | [0.26683368 0.00830556 0.08293456]',\n",
       " '0 | [0.6702893  0.90486648 0.63603154]',\n",
       " '4 | [0.40828138 0.07724184 0.40260964]',\n",
       " '7 | [0.09358939 0.16595954 0.79402228]',\n",
       " '8 | [0.95028835 0.32770319 0.70389731]',\n",
       " '9 | [0.51302483 0.62682177 0.44233046]',\n",
       " '2 | [0.21203158 0.28086788 0.06438956]',\n",
       " '10 | [0.79251804 0.40345573 0.7436284 ]',\n",
       " '6 | [0.26683368 0.00830556 0.08293456]',\n",
       " '1 | [0.41698657 0.05259779 0.18895583]',\n",
       " '10 | [0.79251804 0.40345573 0.7436284 ]',\n",
       " '11 | [0.6141979  0.66902461 0.37009856]',\n",
       " '12 | [0.38541682 0.36508259 0.01118768]',\n",
       " '13 | [0.57391113 0.65171296 0.2132116 ]',\n",
       " '12 | [0.38541682 0.36508259 0.01118768]',\n",
       " '8 | [0.95028835 0.32770319 0.70389731]',\n",
       " '1 | [0.41698657 0.05259779 0.18895583]',\n",
       " '1 | [0.41698657 0.05259779 0.18895583]',\n",
       " '12 | [0.38541682 0.36508259 0.01118768]',\n",
       " '10 | [0.79251804 0.40345573 0.7436284 ]',\n",
       " '0 | [0.6702893  0.90486648 0.63603154]',\n",
       " '4 | [0.40828138 0.07724184 0.40260964]',\n",
       " '14 | [0.44335044 0.66532486 0.17820067]',\n",
       " '5 | [0.55534012 0.13244349 0.04429473]',\n",
       " '12 | [0.38541682 0.36508259 0.01118768]',\n",
       " '7 | [0.09358939 0.16595954 0.79402228]',\n",
       " '1 | [0.41698657 0.05259779 0.18895583]',\n",
       " '5 | [0.55534012 0.13244349 0.04429473]',\n",
       " '2 | [0.21203158 0.28086788 0.06438956]',\n",
       " '11 | [0.6141979  0.66902461 0.37009856]',\n",
       " '2 | [0.21203158 0.28086788 0.06438956]',\n",
       " '4 | [0.40828138 0.07724184 0.40260964]',\n",
       " '0 | [0.6702893  0.90486648 0.63603154]',\n",
       " '13 | [0.57391113 0.65171296 0.2132116 ]',\n",
       " '12 | [0.38541682 0.36508259 0.01118768]',\n",
       " '13 | [0.57391113 0.65171296 0.2132116 ]',\n",
       " '9 | [0.51302483 0.62682177 0.44233046]',\n",
       " '7 | [0.09358939 0.16595954 0.79402228]',\n",
       " '0 | [0.6702893  0.90486648 0.63603154]',\n",
       " '14 | [0.44335044 0.66532486 0.17820067]',\n",
       " '14 | [0.44335044 0.66532486 0.17820067]',\n",
       " '4 | [0.40828138 0.07724184 0.40260964]',\n",
       " '4 | [0.40828138 0.07724184 0.40260964]',\n",
       " '12 | [0.38541682 0.36508259 0.01118768]',\n",
       " '4 | [0.40828138 0.07724184 0.40260964]',\n",
       " '8 | [0.95028835 0.32770319 0.70389731]',\n",
       " '11 | [0.6141979  0.66902461 0.37009856]',\n",
       " '1 | [0.41698657 0.05259779 0.18895583]',\n",
       " '11 | [0.6141979  0.66902461 0.37009856]',\n",
       " '7 | [0.09358939 0.16595954 0.79402228]',\n",
       " '0 | [0.6702893  0.90486648 0.63603154]',\n",
       " '2 | [0.21203158 0.28086788 0.06438956]',\n",
       " '5 | [0.55534012 0.13244349 0.04429473]',\n",
       " '12 | [0.38541682 0.36508259 0.01118768]',\n",
       " '10 | [0.79251804 0.40345573 0.7436284 ]',\n",
       " '13 | [0.57391113 0.65171296 0.2132116 ]',\n",
       " '7 | [0.09358939 0.16595954 0.79402228]',\n",
       " '8 | [0.95028835 0.32770319 0.70389731]',\n",
       " '2 | [0.21203158 0.28086788 0.06438956]',\n",
       " '-1 | [0.44335044 0.66532486 0.17820067]',\n",
       " '5 | [0.55534012 0.13244349 0.04429473]',\n",
       " '11 | [0.6141979  0.66902461 0.37009856]',\n",
       " '1 | [0.41698657 0.05259779 0.18895583]',\n",
       " '14 | [0.44335044 0.66532486 0.17820067]',\n",
       " '7 | [0.09358939 0.16595954 0.79402228]',\n",
       " '0 | [0.6702893  0.90486648 0.63603154]',\n",
       " '8 | [0.95028835 0.32770319 0.70389731]',\n",
       " '6 | [0.26683368 0.00830556 0.08293456]',\n",
       " '14 | [0.44335044 0.66532486 0.17820067]',\n",
       " '12 | [0.38541682 0.36508259 0.01118768]',\n",
       " '8 | [0.95028835 0.32770319 0.70389731]',\n",
       " '12 | [0.38541682 0.36508259 0.01118768]',\n",
       " '14 | [0.44335044 0.66532486 0.17820067]',\n",
       " '11 | [0.6141979  0.66902461 0.37009856]',\n",
       " '5 | [0.55534012 0.13244349 0.04429473]',\n",
       " '7 | [0.09358939 0.16595954 0.79402228]',\n",
       " '13 | [0.57391113 0.65171296 0.2132116 ]',\n",
       " '9 | [0.51302483 0.62682177 0.44233046]',\n",
       " '11 | [0.6141979  0.66902461 0.37009856]',\n",
       " '5 | [0.55534012 0.13244349 0.04429473]',\n",
       " '10 | [0.79251804 0.40345573 0.7436284 ]',\n",
       " '5 | [0.55534012 0.13244349 0.04429473]',\n",
       " '11 | [0.6141979  0.66902461 0.37009856]',\n",
       " '9 | [0.51302483 0.62682177 0.44233046]',\n",
       " '10 | [0.79251804 0.40345573 0.7436284 ]',\n",
       " '7 | [0.09358939 0.16595954 0.79402228]',\n",
       " '5 | [0.55534012 0.13244349 0.04429473]',\n",
       " '12 | [0.38541682 0.36508259 0.01118768]',\n",
       " '14 | [0.44335044 0.66532486 0.17820067]',\n",
       " '10 | [0.79251804 0.40345573 0.7436284 ]',\n",
       " '2 | [0.21203158 0.28086788 0.06438956]',\n",
       " '3 | [0.59776133 0.02100163 0.66620462]',\n",
       " '12 | [0.38541682 0.36508259 0.01118768]',\n",
       " '0 | [0.6702893  0.90486648 0.63603154]',\n",
       " '3 | [0.59776133 0.02100163 0.66620462]',\n",
       " '10 | [0.79251804 0.40345573 0.7436284 ]',\n",
       " '0 | [0.6702893  0.90486648 0.63603154]',\n",
       " '9 | [0.51302483 0.62682177 0.44233046]',\n",
       " '1 | [0.41698657 0.05259779 0.18895583]',\n",
       " '12 | [0.38541682 0.36508259 0.01118768]',\n",
       " '4 | [0.40828138 0.07724184 0.40260964]',\n",
       " '10 | [0.79251804 0.40345573 0.7436284 ]',\n",
       " '8 | [0.95028835 0.32770319 0.70389731]',\n",
       " '4 | [0.40828138 0.07724184 0.40260964]',\n",
       " '13 | [0.57391113 0.65171296 0.2132116 ]',\n",
       " '1 | [0.41698657 0.05259779 0.18895583]',\n",
       " '5 | [0.55534012 0.13244349 0.04429473]',\n",
       " '8 | [0.95028835 0.32770319 0.70389731]',\n",
       " '10 | [0.79251804 0.40345573 0.7436284 ]',\n",
       " '2 | [0.21203158 0.28086788 0.06438956]',\n",
       " '9 | [0.51302483 0.62682177 0.44233046]',\n",
       " '3 | [0.59776133 0.02100163 0.66620462]',\n",
       " '9 | [0.51302483 0.62682177 0.44233046]',\n",
       " '6 | [0.26683368 0.00830556 0.08293456]',\n",
       " '4 | [0.40828138 0.07724184 0.40260964]',\n",
       " '10 | [0.79251804 0.40345573 0.7436284 ]',\n",
       " '4 | [0.40828138 0.07724184 0.40260964]',\n",
       " '4 | [0.40828138 0.07724184 0.40260964]',\n",
       " '5 | [0.55534012 0.13244349 0.04429473]',\n",
       " '10 | [0.79251804 0.40345573 0.7436284 ]',\n",
       " '14 | [0.44335044 0.66532486 0.17820067]',\n",
       " '13 | [0.57391113 0.65171296 0.2132116 ]',\n",
       " '6 | [0.26683368 0.00830556 0.08293456]',\n",
       " '12 | [0.38541682 0.36508259 0.01118768]',\n",
       " '6 | [0.26683368 0.00830556 0.08293456]',\n",
       " '9 | [0.51302483 0.62682177 0.44233046]',\n",
       " '8 | [0.95028835 0.32770319 0.70389731]',\n",
       " '6 | [0.26683368 0.00830556 0.08293456]',\n",
       " '9 | [0.51302483 0.62682177 0.44233046]',\n",
       " '3 | [0.59776133 0.02100163 0.66620462]',\n",
       " '6 | [0.26683368 0.00830556 0.08293456]',\n",
       " '5 | [0.55534012 0.13244349 0.04429473]',\n",
       " '3 | [0.59776133 0.02100163 0.66620462]',\n",
       " '9 | [0.51302483 0.62682177 0.44233046]',\n",
       " '8 | [0.95028835 0.32770319 0.70389731]',\n",
       " '8 | [0.95028835 0.32770319 0.70389731]',\n",
       " '8 | [0.95028835 0.32770319 0.70389731]',\n",
       " '11 | [0.6141979  0.66902461 0.37009856]',\n",
       " '5 | [0.55534012 0.13244349 0.04429473]',\n",
       " '9 | [0.51302483 0.62682177 0.44233046]',\n",
       " '10 | [0.79251804 0.40345573 0.7436284 ]',\n",
       " '9 | [0.51302483 0.62682177 0.44233046]',\n",
       " '10 | [0.79251804 0.40345573 0.7436284 ]',\n",
       " '8 | [0.95028835 0.32770319 0.70389731]',\n",
       " '8 | [0.95028835 0.32770319 0.70389731]',\n",
       " '5 | [0.55534012 0.13244349 0.04429473]',\n",
       " '1 | [0.41698657 0.05259779 0.18895583]',\n",
       " '10 | [0.79251804 0.40345573 0.7436284 ]',\n",
       " '1 | [0.41698657 0.05259779 0.18895583]',\n",
       " '12 | [0.38541682 0.36508259 0.01118768]',\n",
       " '4 | [0.40828138 0.07724184 0.40260964]',\n",
       " '3 | [0.59776133 0.02100163 0.66620462]',\n",
       " '3 | [0.59776133 0.02100163 0.66620462]',\n",
       " '13 | [0.57391113 0.65171296 0.2132116 ]',\n",
       " '8 | [0.95028835 0.32770319 0.70389731]',\n",
       " '10 | [0.79251804 0.40345573 0.7436284 ]',\n",
       " '0 | [0.6702893  0.90486648 0.63603154]',\n",
       " '2 | [0.21203158 0.28086788 0.06438956]',\n",
       " '2 | [0.21203158 0.28086788 0.06438956]',\n",
       " '12 | [0.38541682 0.36508259 0.01118768]',\n",
       " '9 | [0.51302483 0.62682177 0.44233046]',\n",
       " '7 | [0.09358939 0.16595954 0.79402228]',\n",
       " '13 | [0.57391113 0.65171296 0.2132116 ]',\n",
       " '1 | [0.41698657 0.05259779 0.18895583]',\n",
       " '12 | [0.38541682 0.36508259 0.01118768]',\n",
       " '6 | [0.26683368 0.00830556 0.08293456]',\n",
       " '10 | [0.79251804 0.40345573 0.7436284 ]',\n",
       " '10 | [0.79251804 0.40345573 0.7436284 ]',\n",
       " '13 | [0.57391113 0.65171296 0.2132116 ]',\n",
       " '11 | [0.6141979  0.66902461 0.37009856]',\n",
       " '6 | [0.26683368 0.00830556 0.08293456]',\n",
       " '11 | [0.6141979  0.66902461 0.37009856]',\n",
       " '7 | [0.09358939 0.16595954 0.79402228]',\n",
       " '8 | [0.95028835 0.32770319 0.70389731]',\n",
       " '12 | [0.38541682 0.36508259 0.01118768]',\n",
       " '10 | [0.79251804 0.40345573 0.7436284 ]',\n",
       " '10 | [0.79251804 0.40345573 0.7436284 ]',\n",
       " '12 | [0.38541682 0.36508259 0.01118768]',\n",
       " '10 | [0.79251804 0.40345573 0.7436284 ]',\n",
       " '11 | [0.6141979  0.66902461 0.37009856]',\n",
       " '13 | [0.57391113 0.65171296 0.2132116 ]',\n",
       " '9 | [0.51302483 0.62682177 0.44233046]',\n",
       " '9 | [0.51302483 0.62682177 0.44233046]',\n",
       " '10 | [0.79251804 0.40345573 0.7436284 ]',\n",
       " '11 | [0.6141979  0.66902461 0.37009856]',\n",
       " '9 | [0.51302483 0.62682177 0.44233046]',\n",
       " '0 | [0.6702893  0.90486648 0.63603154]',\n",
       " '8 | [0.95028835 0.32770319 0.70389731]',\n",
       " '3 | [0.59776133 0.02100163 0.66620462]',\n",
       " '6 | [0.26683368 0.00830556 0.08293456]',\n",
       " '6 | [0.26683368 0.00830556 0.08293456]',\n",
       " '0 | [0.6702893  0.90486648 0.63603154]',\n",
       " '4 | [0.40828138 0.07724184 0.40260964]',\n",
       " '4 | [0.40828138 0.07724184 0.40260964]',\n",
       " '2 | [0.21203158 0.28086788 0.06438956]',\n",
       " '4 | [0.40828138 0.07724184 0.40260964]',\n",
       " '13 | [0.57391113 0.65171296 0.2132116 ]',\n",
       " '11 | [0.6141979  0.66902461 0.37009856]',\n",
       " '11 | [0.6141979  0.66902461 0.37009856]',\n",
       " '10 | [0.79251804 0.40345573 0.7436284 ]',\n",
       " '1 | [0.41698657 0.05259779 0.18895583]',\n",
       " '7 | [0.09358939 0.16595954 0.79402228]',\n",
       " '5 | [0.55534012 0.13244349 0.04429473]',\n",
       " '11 | [0.6141979  0.66902461 0.37009856]',\n",
       " '14 | [0.44335044 0.66532486 0.17820067]',\n",
       " '7 | [0.09358939 0.16595954 0.79402228]',\n",
       " '11 | [0.6141979  0.66902461 0.37009856]',\n",
       " '11 | [0.6141979  0.66902461 0.37009856]',\n",
       " '5 | [0.55534012 0.13244349 0.04429473]',\n",
       " '5 | [0.55534012 0.13244349 0.04429473]',\n",
       " '14 | [0.44335044 0.66532486 0.17820067]',\n",
       " '0 | [0.6702893  0.90486648 0.63603154]',\n",
       " '10 | [0.79251804 0.40345573 0.7436284 ]',\n",
       " '13 | [0.57391113 0.65171296 0.2132116 ]',\n",
       " '1 | [0.41698657 0.05259779 0.18895583]',\n",
       " '0 | [0.6702893  0.90486648 0.63603154]',\n",
       " '2 | [0.21203158 0.28086788 0.06438956]',\n",
       " '11 | [0.6141979  0.66902461 0.37009856]',\n",
       " '12 | [0.38541682 0.36508259 0.01118768]',\n",
       " '4 | [0.40828138 0.07724184 0.40260964]',\n",
       " '4 | [0.40828138 0.07724184 0.40260964]',\n",
       " '5 | [0.55534012 0.13244349 0.04429473]',\n",
       " '6 | [0.26683368 0.00830556 0.08293456]',\n",
       " '1 | [0.41698657 0.05259779 0.18895583]',\n",
       " '10 | [0.79251804 0.40345573 0.7436284 ]',\n",
       " '10 | [0.79251804 0.40345573 0.7436284 ]',\n",
       " '10 | [0.79251804 0.40345573 0.7436284 ]',\n",
       " '10 | [0.79251804 0.40345573 0.7436284 ]',\n",
       " '11 | [0.6141979  0.66902461 0.37009856]',\n",
       " '4 | [0.40828138 0.07724184 0.40260964]',\n",
       " '14 | [0.44335044 0.66532486 0.17820067]',\n",
       " '6 | [0.26683368 0.00830556 0.08293456]',\n",
       " '1 | [0.41698657 0.05259779 0.18895583]',\n",
       " '11 | [0.6141979  0.66902461 0.37009856]',\n",
       " '7 | [0.09358939 0.16595954 0.79402228]',\n",
       " '11 | [0.6141979  0.66902461 0.37009856]',\n",
       " '10 | [0.79251804 0.40345573 0.7436284 ]',\n",
       " '9 | [0.51302483 0.62682177 0.44233046]',\n",
       " '1 | [0.41698657 0.05259779 0.18895583]',\n",
       " '12 | [0.38541682 0.36508259 0.01118768]',\n",
       " '10 | [0.79251804 0.40345573 0.7436284 ]',\n",
       " '10 | [0.79251804 0.40345573 0.7436284 ]',\n",
       " '14 | [0.44335044 0.66532486 0.17820067]',\n",
       " '3 | [0.59776133 0.02100163 0.66620462]',\n",
       " '14 | [0.44335044 0.66532486 0.17820067]',\n",
       " '3 | [0.59776133 0.02100163 0.66620462]',\n",
       " '5 | [0.55534012 0.13244349 0.04429473]',\n",
       " '10 | [0.79251804 0.40345573 0.7436284 ]',\n",
       " '3 | [0.59776133 0.02100163 0.66620462]',\n",
       " '4 | [0.40828138 0.07724184 0.40260964]',\n",
       " '10 | [0.79251804 0.40345573 0.7436284 ]',\n",
       " '1 | [0.41698657 0.05259779 0.18895583]',\n",
       " '4 | [0.40828138 0.07724184 0.40260964]',\n",
       " '4 | [0.40828138 0.07724184 0.40260964]',\n",
       " '6 | [0.26683368 0.00830556 0.08293456]',\n",
       " '8 | [0.95028835 0.32770319 0.70389731]',\n",
       " '9 | [0.51302483 0.62682177 0.44233046]',\n",
       " '12 | [0.38541682 0.36508259 0.01118768]',\n",
       " '5 | [0.55534012 0.13244349 0.04429473]',\n",
       " '6 | [0.26683368 0.00830556 0.08293456]',\n",
       " '11 | [0.6141979  0.66902461 0.37009856]',\n",
       " '13 | [0.57391113 0.65171296 0.2132116 ]',\n",
       " '13 | [0.57391113 0.65171296 0.2132116 ]',\n",
       " '14 | [0.44335044 0.66532486 0.17820067]',\n",
       " '0 | [0.6702893  0.90486648 0.63603154]',\n",
       " '12 | [0.38541682 0.36508259 0.01118768]',\n",
       " '9 | [0.51302483 0.62682177 0.44233046]',\n",
       " '7 | [0.09358939 0.16595954 0.79402228]',\n",
       " '11 | [0.6141979  0.66902461 0.37009856]',\n",
       " '9 | [0.51302483 0.62682177 0.44233046]',\n",
       " '3 | [0.59776133 0.02100163 0.66620462]',\n",
       " '11 | [0.6141979  0.66902461 0.37009856]',\n",
       " '2 | [0.21203158 0.28086788 0.06438956]',\n",
       " '8 | [0.95028835 0.32770319 0.70389731]',\n",
       " '1 | [0.41698657 0.05259779 0.18895583]',\n",
       " '3 | [0.59776133 0.02100163 0.66620462]',\n",
       " '4 | [0.40828138 0.07724184 0.40260964]',\n",
       " '10 | [0.79251804 0.40345573 0.7436284 ]',\n",
       " '10 | [0.79251804 0.40345573 0.7436284 ]',\n",
       " '12 | [0.38541682 0.36508259 0.01118768]',\n",
       " '11 | [0.6141979  0.66902461 0.37009856]',\n",
       " '1 | [0.41698657 0.05259779 0.18895583]',\n",
       " '2 | [0.21203158 0.28086788 0.06438956]',\n",
       " '9 | [0.51302483 0.62682177 0.44233046]',\n",
       " '11 | [0.6141979  0.66902461 0.37009856]',\n",
       " '13 | [0.57391113 0.65171296 0.2132116 ]',\n",
       " '4 | [0.40828138 0.07724184 0.40260964]',\n",
       " '10 | [0.79251804 0.40345573 0.7436284 ]',\n",
       " '3 | [0.59776133 0.02100163 0.66620462]',\n",
       " '11 | [0.6141979  0.66902461 0.37009856]',\n",
       " '13 | [0.57391113 0.65171296 0.2132116 ]',\n",
       " '13 | [0.57391113 0.65171296 0.2132116 ]',\n",
       " '5 | [0.55534012 0.13244349 0.04429473]',\n",
       " '11 | [0.6141979  0.66902461 0.37009856]',\n",
       " '7 | [0.09358939 0.16595954 0.79402228]',\n",
       " '4 | [0.40828138 0.07724184 0.40260964]',\n",
       " '11 | [0.6141979  0.66902461 0.37009856]',\n",
       " '8 | [0.95028835 0.32770319 0.70389731]',\n",
       " '10 | [0.79251804 0.40345573 0.7436284 ]',\n",
       " '1 | [0.41698657 0.05259779 0.18895583]',\n",
       " '12 | [0.38541682 0.36508259 0.01118768]',\n",
       " '5 | [0.55534012 0.13244349 0.04429473]',\n",
       " '12 | [0.38541682 0.36508259 0.01118768]',\n",
       " '12 | [0.38541682 0.36508259 0.01118768]',\n",
       " '9 | [0.51302483 0.62682177 0.44233046]',\n",
       " '4 | [0.40828138 0.07724184 0.40260964]',\n",
       " '4 | [0.40828138 0.07724184 0.40260964]',\n",
       " '10 | [0.79251804 0.40345573 0.7436284 ]',\n",
       " '3 | [0.59776133 0.02100163 0.66620462]',\n",
       " '12 | [0.38541682 0.36508259 0.01118768]',\n",
       " '6 | [0.26683368 0.00830556 0.08293456]',\n",
       " '6 | [0.26683368 0.00830556 0.08293456]',\n",
       " '8 | [0.95028835 0.32770319 0.70389731]',\n",
       " '11 | [0.6141979  0.66902461 0.37009856]',\n",
       " '4 | [0.40828138 0.07724184 0.40260964]',\n",
       " '9 | [0.51302483 0.62682177 0.44233046]',\n",
       " '10 | [0.79251804 0.40345573 0.7436284 ]',\n",
       " '8 | [0.95028835 0.32770319 0.70389731]',\n",
       " '14 | [0.44335044 0.66532486 0.17820067]',\n",
       " '9 | [0.51302483 0.62682177 0.44233046]',\n",
       " '3 | [0.59776133 0.02100163 0.66620462]',\n",
       " '12 | [0.38541682 0.36508259 0.01118768]',\n",
       " '6 | [0.26683368 0.00830556 0.08293456]',\n",
       " '7 | [0.09358939 0.16595954 0.79402228]',\n",
       " '5 | [0.55534012 0.13244349 0.04429473]',\n",
       " '2 | [0.21203158 0.28086788 0.06438956]',\n",
       " '10 | [0.79251804 0.40345573 0.7436284 ]',\n",
       " '1 | [0.41698657 0.05259779 0.18895583]',\n",
       " '9 | [0.51302483 0.62682177 0.44233046]',\n",
       " '3 | [0.59776133 0.02100163 0.66620462]',\n",
       " '14 | [0.44335044 0.66532486 0.17820067]',\n",
       " '11 | [0.6141979  0.66902461 0.37009856]',\n",
       " '9 | [0.51302483 0.62682177 0.44233046]',\n",
       " '2 | [0.21203158 0.28086788 0.06438956]',\n",
       " '13 | [0.57391113 0.65171296 0.2132116 ]',\n",
       " '4 | [0.40828138 0.07724184 0.40260964]',\n",
       " '7 | [0.09358939 0.16595954 0.79402228]',\n",
       " '11 | [0.6141979  0.66902461 0.37009856]',\n",
       " '9 | [0.51302483 0.62682177 0.44233046]',\n",
       " '5 | [0.55534012 0.13244349 0.04429473]',\n",
       " '8 | [0.95028835 0.32770319 0.70389731]',\n",
       " '5 | [0.55534012 0.13244349 0.04429473]',\n",
       " '11 | [0.6141979  0.66902461 0.37009856]',\n",
       " '10 | [0.79251804 0.40345573 0.7436284 ]',\n",
       " '0 | [0.6702893  0.90486648 0.63603154]',\n",
       " '2 | [0.21203158 0.28086788 0.06438956]',\n",
       " '9 | [0.51302483 0.62682177 0.44233046]',\n",
       " '0 | [0.6702893  0.90486648 0.63603154]',\n",
       " '9 | [0.51302483 0.62682177 0.44233046]',\n",
       " '2 | [0.21203158 0.28086788 0.06438956]',\n",
       " '9 | [0.51302483 0.62682177 0.44233046]',\n",
       " '14 | [0.44335044 0.66532486 0.17820067]',\n",
       " '13 | [0.57391113 0.65171296 0.2132116 ]',\n",
       " '13 | [0.57391113 0.65171296 0.2132116 ]',\n",
       " '2 | [0.21203158 0.28086788 0.06438956]',\n",
       " '5 | [0.55534012 0.13244349 0.04429473]',\n",
       " '2 | [0.21203158 0.28086788 0.06438956]',\n",
       " '10 | [0.79251804 0.40345573 0.7436284 ]',\n",
       " '14 | [0.44335044 0.66532486 0.17820067]',\n",
       " '2 | [0.21203158 0.28086788 0.06438956]',\n",
       " '9 | [0.51302483 0.62682177 0.44233046]',\n",
       " '12 | [0.38541682 0.36508259 0.01118768]',\n",
       " '8 | [0.95028835 0.32770319 0.70389731]',\n",
       " '12 | [0.38541682 0.36508259 0.01118768]',\n",
       " '10 | [0.79251804 0.40345573 0.7436284 ]',\n",
       " '12 | [0.38541682 0.36508259 0.01118768]',\n",
       " '9 | [0.51302483 0.62682177 0.44233046]',\n",
       " '0 | [0.6702893  0.90486648 0.63603154]',\n",
       " '11 | [0.6141979  0.66902461 0.37009856]',\n",
       " '11 | [0.6141979  0.66902461 0.37009856]',\n",
       " '6 | [0.26683368 0.00830556 0.08293456]',\n",
       " '3 | [0.59776133 0.02100163 0.66620462]',\n",
       " '2 | [0.21203158 0.28086788 0.06438956]',\n",
       " '4 | [0.40828138 0.07724184 0.40260964]',\n",
       " '2 | [0.21203158 0.28086788 0.06438956]',\n",
       " '12 | [0.38541682 0.36508259 0.01118768]',\n",
       " '12 | [0.38541682 0.36508259 0.01118768]',\n",
       " '4 | [0.40828138 0.07724184 0.40260964]',\n",
       " '2 | [0.21203158 0.28086788 0.06438956]',\n",
       " '10 | [0.79251804 0.40345573 0.7436284 ]',\n",
       " '3 | [0.59776133 0.02100163 0.66620462]',\n",
       " '11 | [0.6141979  0.66902461 0.37009856]',\n",
       " '4 | [0.40828138 0.07724184 0.40260964]',\n",
       " '5 | [0.55534012 0.13244349 0.04429473]',\n",
       " '6 | [0.26683368 0.00830556 0.08293456]',\n",
       " '3 | [0.59776133 0.02100163 0.66620462]',\n",
       " '1 | [0.41698657 0.05259779 0.18895583]',\n",
       " '12 | [0.38541682 0.36508259 0.01118768]',\n",
       " '3 | [0.59776133 0.02100163 0.66620462]',\n",
       " '7 | [0.09358939 0.16595954 0.79402228]',\n",
       " '6 | [0.26683368 0.00830556 0.08293456]',\n",
       " '12 | [0.38541682 0.36508259 0.01118768]',\n",
       " '10 | [0.79251804 0.40345573 0.7436284 ]',\n",
       " '0 | [0.6702893  0.90486648 0.63603154]',\n",
       " '11 | [0.6141979  0.66902461 0.37009856]',\n",
       " '2 | [0.21203158 0.28086788 0.06438956]',\n",
       " '9 | [0.51302483 0.62682177 0.44233046]',\n",
       " '5 | [0.55534012 0.13244349 0.04429473]',\n",
       " '2 | [0.21203158 0.28086788 0.06438956]',\n",
       " '5 | [0.55534012 0.13244349 0.04429473]',\n",
       " '3 | [0.59776133 0.02100163 0.66620462]',\n",
       " '6 | [0.26683368 0.00830556 0.08293456]',\n",
       " '11 | [0.6141979  0.66902461 0.37009856]',\n",
       " '14 | [0.44335044 0.66532486 0.17820067]',\n",
       " '11 | [0.6141979  0.66902461 0.37009856]',\n",
       " '6 | [0.26683368 0.00830556 0.08293456]',\n",
       " '7 | [0.09358939 0.16595954 0.79402228]',\n",
       " '5 | [0.55534012 0.13244349 0.04429473]',\n",
       " '3 | [0.59776133 0.02100163 0.66620462]',\n",
       " '3 | [0.59776133 0.02100163 0.66620462]',\n",
       " '11 | [0.6141979  0.66902461 0.37009856]',\n",
       " '4 | [0.40828138 0.07724184 0.40260964]',\n",
       " '2 | [0.21203158 0.28086788 0.06438956]',\n",
       " '14 | [0.44335044 0.66532486 0.17820067]',\n",
       " '7 | [0.09358939 0.16595954 0.79402228]',\n",
       " '7 | [0.09358939 0.16595954 0.79402228]',\n",
       " '12 | [0.38541682 0.36508259 0.01118768]',\n",
       " '6 | [0.26683368 0.00830556 0.08293456]',\n",
       " '1 | [0.41698657 0.05259779 0.18895583]',\n",
       " '9 | [0.51302483 0.62682177 0.44233046]',\n",
       " '1 | [0.41698657 0.05259779 0.18895583]',\n",
       " '13 | [0.57391113 0.65171296 0.2132116 ]',\n",
       " '13 | [0.57391113 0.65171296 0.2132116 ]',\n",
       " '12 | [0.38541682 0.36508259 0.01118768]',\n",
       " '8 | [0.95028835 0.32770319 0.70389731]',\n",
       " '2 | [0.21203158 0.28086788 0.06438956]',\n",
       " '10 | [0.79251804 0.40345573 0.7436284 ]',\n",
       " '2 | [0.21203158 0.28086788 0.06438956]',\n",
       " '3 | [0.59776133 0.02100163 0.66620462]',\n",
       " '5 | [0.55534012 0.13244349 0.04429473]',\n",
       " '3 | [0.59776133 0.02100163 0.66620462]',\n",
       " '3 | [0.59776133 0.02100163 0.66620462]',\n",
       " '7 | [0.09358939 0.16595954 0.79402228]',\n",
       " '0 | [0.6702893  0.90486648 0.63603154]',\n",
       " '10 | [0.79251804 0.40345573 0.7436284 ]',\n",
       " '8 | [0.95028835 0.32770319 0.70389731]',\n",
       " '5 | [0.55534012 0.13244349 0.04429473]',\n",
       " '6 | [0.26683368 0.00830556 0.08293456]',\n",
       " '5 | [0.55534012 0.13244349 0.04429473]',\n",
       " '9 | [0.51302483 0.62682177 0.44233046]',\n",
       " '8 | [0.95028835 0.32770319 0.70389731]',\n",
       " '6 | [0.26683368 0.00830556 0.08293456]',\n",
       " '12 | [0.38541682 0.36508259 0.01118768]',\n",
       " '3 | [0.59776133 0.02100163 0.66620462]',\n",
       " '12 | [0.38541682 0.36508259 0.01118768]',\n",
       " '6 | [0.26683368 0.00830556 0.08293456]',\n",
       " '14 | [0.44335044 0.66532486 0.17820067]',\n",
       " '7 | [0.09358939 0.16595954 0.79402228]',\n",
       " '10 | [0.79251804 0.40345573 0.7436284 ]',\n",
       " '6 | [0.26683368 0.00830556 0.08293456]',\n",
       " '13 | [0.57391113 0.65171296 0.2132116 ]',\n",
       " '9 | [0.51302483 0.62682177 0.44233046]',\n",
       " '1 | [0.41698657 0.05259779 0.18895583]',\n",
       " '6 | [0.26683368 0.00830556 0.08293456]',\n",
       " '2 | [0.21203158 0.28086788 0.06438956]',\n",
       " '5 | [0.55534012 0.13244349 0.04429473]',\n",
       " '3 | [0.59776133 0.02100163 0.66620462]',\n",
       " '7 | [0.09358939 0.16595954 0.79402228]',\n",
       " '2 | [0.21203158 0.28086788 0.06438956]',\n",
       " '10 | [0.79251804 0.40345573 0.7436284 ]',\n",
       " '1 | [0.41698657 0.05259779 0.18895583]',\n",
       " '10 | [0.79251804 0.40345573 0.7436284 ]',\n",
       " '8 | [0.95028835 0.32770319 0.70389731]',\n",
       " '10 | [0.79251804 0.40345573 0.7436284 ]',\n",
       " '3 | [0.59776133 0.02100163 0.66620462]',\n",
       " '8 | [0.95028835 0.32770319 0.70389731]',\n",
       " '6 | [0.26683368 0.00830556 0.08293456]',\n",
       " '5 | [0.55534012 0.13244349 0.04429473]',\n",
       " '8 | [0.95028835 0.32770319 0.70389731]',\n",
       " '6 | [0.26683368 0.00830556 0.08293456]',\n",
       " '9 | [0.51302483 0.62682177 0.44233046]',\n",
       " '13 | [0.57391113 0.65171296 0.2132116 ]',\n",
       " '12 | [0.38541682 0.36508259 0.01118768]',\n",
       " '3 | [0.59776133 0.02100163 0.66620462]',\n",
       " '14 | [0.44335044 0.66532486 0.17820067]',\n",
       " '9 | [0.51302483 0.62682177 0.44233046]',\n",
       " '4 | [0.40828138 0.07724184 0.40260964]',\n",
       " '1 | [0.41698657 0.05259779 0.18895583]',\n",
       " '12 | [0.38541682 0.36508259 0.01118768]',\n",
       " '0 | [0.6702893  0.90486648 0.63603154]',\n",
       " '3 | [0.59776133 0.02100163 0.66620462]',\n",
       " '13 | [0.57391113 0.65171296 0.2132116 ]',\n",
       " '10 | [0.79251804 0.40345573 0.7436284 ]',\n",
       " '5 | [0.55534012 0.13244349 0.04429473]',\n",
       " '5 | [0.55534012 0.13244349 0.04429473]',\n",
       " '4 | [0.40828138 0.07724184 0.40260964]',\n",
       " '12 | [0.38541682 0.36508259 0.01118768]',\n",
       " '10 | [0.79251804 0.40345573 0.7436284 ]',\n",
       " '6 | [0.26683368 0.00830556 0.08293456]',\n",
       " '6 | [0.26683368 0.00830556 0.08293456]',\n",
       " '10 | [0.79251804 0.40345573 0.7436284 ]',\n",
       " '0 | [0.6702893  0.90486648 0.63603154]',\n",
       " '8 | [0.95028835 0.32770319 0.70389731]',\n",
       " '7 | [0.09358939 0.16595954 0.79402228]',\n",
       " '6 | [0.26683368 0.00830556 0.08293456]',\n",
       " '7 | [0.09358939 0.16595954 0.79402228]',\n",
       " '0 | [0.6702893  0.90486648 0.63603154]',\n",
       " '9 | [0.51302483 0.62682177 0.44233046]',\n",
       " '12 | [0.38541682 0.36508259 0.01118768]',\n",
       " '4 | [0.40828138 0.07724184 0.40260964]',\n",
       " '6 | [0.26683368 0.00830556 0.08293456]',\n",
       " '14 | [0.44335044 0.66532486 0.17820067]',\n",
       " '10 | [0.79251804 0.40345573 0.7436284 ]',\n",
       " '7 | [0.09358939 0.16595954 0.79402228]',\n",
       " '0 | [0.6702893  0.90486648 0.63603154]',\n",
       " '13 | [0.57391113 0.65171296 0.2132116 ]',\n",
       " '3 | [0.59776133 0.02100163 0.66620462]',\n",
       " '5 | [0.55534012 0.13244349 0.04429473]',\n",
       " '5 | [0.55534012 0.13244349 0.04429473]',\n",
       " '7 | [0.09358939 0.16595954 0.79402228]',\n",
       " '1 | [0.41698657 0.05259779 0.18895583]',\n",
       " '3 | [0.59776133 0.02100163 0.66620462]',\n",
       " '5 | [0.55534012 0.13244349 0.04429473]',\n",
       " '4 | [0.40828138 0.07724184 0.40260964]',\n",
       " '9 | [0.51302483 0.62682177 0.44233046]',\n",
       " '5 | [0.55534012 0.13244349 0.04429473]',\n",
       " '8 | [0.95028835 0.32770319 0.70389731]',\n",
       " '4 | [0.40828138 0.07724184 0.40260964]',\n",
       " '10 | [0.79251804 0.40345573 0.7436284 ]',\n",
       " '5 | [0.55534012 0.13244349 0.04429473]',\n",
       " '8 | [0.95028835 0.32770319 0.70389731]',\n",
       " '8 | [0.95028835 0.32770319 0.70389731]',\n",
       " '8 | [0.95028835 0.32770319 0.70389731]',\n",
       " '13 | [0.57391113 0.65171296 0.2132116 ]',\n",
       " '0 | [0.6702893  0.90486648 0.63603154]',\n",
       " '10 | [0.79251804 0.40345573 0.7436284 ]',\n",
       " '5 | [0.55534012 0.13244349 0.04429473]',\n",
       " '10 | [0.79251804 0.40345573 0.7436284 ]',\n",
       " '11 | [0.6141979  0.66902461 0.37009856]',\n",
       " '0 | [0.6702893  0.90486648 0.63603154]',\n",
       " '12 | [0.38541682 0.36508259 0.01118768]',\n",
       " '12 | [0.38541682 0.36508259 0.01118768]',\n",
       " '14 | [0.44335044 0.66532486 0.17820067]',\n",
       " '6 | [0.26683368 0.00830556 0.08293456]',\n",
       " '1 | [0.41698657 0.05259779 0.18895583]',\n",
       " '3 | [0.59776133 0.02100163 0.66620462]',\n",
       " '11 | [0.6141979  0.66902461 0.37009856]',\n",
       " '6 | [0.26683368 0.00830556 0.08293456]',\n",
       " '12 | [0.38541682 0.36508259 0.01118768]',\n",
       " '11 | [0.6141979  0.66902461 0.37009856]',\n",
       " '6 | [0.26683368 0.00830556 0.08293456]',\n",
       " '5 | [0.55534012 0.13244349 0.04429473]',\n",
       " '1 | [0.41698657 0.05259779 0.18895583]',\n",
       " '2 | [0.21203158 0.28086788 0.06438956]',\n",
       " '3 | [0.59776133 0.02100163 0.66620462]',\n",
       " '11 | [0.6141979  0.66902461 0.37009856]',\n",
       " '11 | [0.6141979  0.66902461 0.37009856]',\n",
       " '13 | [0.57391113 0.65171296 0.2132116 ]',\n",
       " '5 | [0.55534012 0.13244349 0.04429473]',\n",
       " '1 | [0.41698657 0.05259779 0.18895583]',\n",
       " '3 | [0.59776133 0.02100163 0.66620462]',\n",
       " '6 | [0.26683368 0.00830556 0.08293456]',\n",
       " '6 | [0.26683368 0.00830556 0.08293456]',\n",
       " '9 | [0.51302483 0.62682177 0.44233046]',\n",
       " '14 | [0.44335044 0.66532486 0.17820067]',\n",
       " '14 | [0.44335044 0.66532486 0.17820067]',\n",
       " '10 | [0.79251804 0.40345573 0.7436284 ]',\n",
       " '5 | [0.55534012 0.13244349 0.04429473]',\n",
       " '10 | [0.79251804 0.40345573 0.7436284 ]',\n",
       " '14 | [0.44335044 0.66532486 0.17820067]',\n",
       " '14 | [0.44335044 0.66532486 0.17820067]',\n",
       " '13 | [0.57391113 0.65171296 0.2132116 ]',\n",
       " '4 | [0.40828138 0.07724184 0.40260964]',\n",
       " '7 | [0.09358939 0.16595954 0.79402228]',\n",
       " '10 | [0.79251804 0.40345573 0.7436284 ]',\n",
       " '13 | [0.57391113 0.65171296 0.2132116 ]',\n",
       " '10 | [0.79251804 0.40345573 0.7436284 ]',\n",
       " '11 | [0.6141979  0.66902461 0.37009856]',\n",
       " '2 | [0.21203158 0.28086788 0.06438956]',\n",
       " '12 | [0.38541682 0.36508259 0.01118768]',\n",
       " '14 | [0.44335044 0.66532486 0.17820067]',\n",
       " '5 | [0.55534012 0.13244349 0.04429473]',\n",
       " '10 | [0.79251804 0.40345573 0.7436284 ]',\n",
       " '14 | [0.44335044 0.66532486 0.17820067]',\n",
       " '3 | [0.59776133 0.02100163 0.66620462]',\n",
       " '7 | [0.09358939 0.16595954 0.79402228]',\n",
       " '8 | [0.95028835 0.32770319 0.70389731]',\n",
       " '1 | [0.41698657 0.05259779 0.18895583]',\n",
       " '11 | [0.6141979  0.66902461 0.37009856]',\n",
       " '10 | [0.79251804 0.40345573 0.7436284 ]',\n",
       " '14 | [0.44335044 0.66532486 0.17820067]',\n",
       " '7 | [0.09358939 0.16595954 0.79402228]',\n",
       " '2 | [0.21203158 0.28086788 0.06438956]',\n",
       " '12 | [0.38541682 0.36508259 0.01118768]',\n",
       " '13 | [0.57391113 0.65171296 0.2132116 ]',\n",
       " '10 | [0.79251804 0.40345573 0.7436284 ]',\n",
       " '4 | [0.40828138 0.07724184 0.40260964]',\n",
       " '0 | [0.6702893  0.90486648 0.63603154]',\n",
       " '9 | [0.51302483 0.62682177 0.44233046]',\n",
       " '14 | [0.44335044 0.66532486 0.17820067]',\n",
       " '3 | [0.59776133 0.02100163 0.66620462]',\n",
       " '0 | [0.6702893  0.90486648 0.63603154]',\n",
       " '7 | [0.09358939 0.16595954 0.79402228]',\n",
       " '7 | [0.09358939 0.16595954 0.79402228]',\n",
       " '4 | [0.40828138 0.07724184 0.40260964]',\n",
       " '8 | [0.95028835 0.32770319 0.70389731]',\n",
       " '7 | [0.09358939 0.16595954 0.79402228]',\n",
       " '7 | [0.09358939 0.16595954 0.79402228]',\n",
       " '13 | [0.57391113 0.65171296 0.2132116 ]',\n",
       " '1 | [0.41698657 0.05259779 0.18895583]',\n",
       " '8 | [0.95028835 0.32770319 0.70389731]',\n",
       " '3 | [0.59776133 0.02100163 0.66620462]',\n",
       " '4 | [0.40828138 0.07724184 0.40260964]',\n",
       " '10 | [0.79251804 0.40345573 0.7436284 ]',\n",
       " '3 | [0.59776133 0.02100163 0.66620462]',\n",
       " '12 | [0.38541682 0.36508259 0.01118768]',\n",
       " '5 | [0.55534012 0.13244349 0.04429473]',\n",
       " '14 | [0.44335044 0.66532486 0.17820067]',\n",
       " '5 | [0.55534012 0.13244349 0.04429473]',\n",
       " '4 | [0.40828138 0.07724184 0.40260964]',\n",
       " '3 | [0.59776133 0.02100163 0.66620462]',\n",
       " '2 | [0.21203158 0.28086788 0.06438956]',\n",
       " '0 | [0.6702893  0.90486648 0.63603154]',\n",
       " '14 | [0.44335044 0.66532486 0.17820067]',\n",
       " '8 | [0.95028835 0.32770319 0.70389731]',\n",
       " '10 | [0.79251804 0.40345573 0.7436284 ]',\n",
       " '7 | [0.09358939 0.16595954 0.79402228]',\n",
       " '11 | [0.6141979  0.66902461 0.37009856]',\n",
       " '10 | [0.79251804 0.40345573 0.7436284 ]',\n",
       " '10 | [0.79251804 0.40345573 0.7436284 ]',\n",
       " '13 | [0.57391113 0.65171296 0.2132116 ]',\n",
       " '10 | [0.79251804 0.40345573 0.7436284 ]',\n",
       " '9 | [0.51302483 0.62682177 0.44233046]',\n",
       " '10 | [0.79251804 0.40345573 0.7436284 ]',\n",
       " '12 | [0.38541682 0.36508259 0.01118768]',\n",
       " '2 | [0.21203158 0.28086788 0.06438956]',\n",
       " '5 | [0.55534012 0.13244349 0.04429473]',\n",
       " '6 | [0.26683368 0.00830556 0.08293456]',\n",
       " '11 | [0.6141979  0.66902461 0.37009856]',\n",
       " '12 | [0.38541682 0.36508259 0.01118768]',\n",
       " '3 | [0.59776133 0.02100163 0.66620462]',\n",
       " '8 | [0.95028835 0.32770319 0.70389731]',\n",
       " '10 | [0.79251804 0.40345573 0.7436284 ]',\n",
       " '13 | [0.57391113 0.65171296 0.2132116 ]',\n",
       " '10 | [0.79251804 0.40345573 0.7436284 ]',\n",
       " '3 | [0.59776133 0.02100163 0.66620462]',\n",
       " '14 | [0.44335044 0.66532486 0.17820067]',\n",
       " '7 | [0.09358939 0.16595954 0.79402228]',\n",
       " '10 | [0.79251804 0.40345573 0.7436284 ]',\n",
       " '1 | [0.41698657 0.05259779 0.18895583]',\n",
       " '5 | [0.55534012 0.13244349 0.04429473]',\n",
       " '1 | [0.41698657 0.05259779 0.18895583]',\n",
       " '4 | [0.40828138 0.07724184 0.40260964]',\n",
       " '11 | [0.6141979  0.66902461 0.37009856]',\n",
       " '5 | [0.55534012 0.13244349 0.04429473]',\n",
       " '0 | [0.6702893  0.90486648 0.63603154]',\n",
       " '7 | [0.09358939 0.16595954 0.79402228]',\n",
       " '10 | [0.79251804 0.40345573 0.7436284 ]',\n",
       " '10 | [0.79251804 0.40345573 0.7436284 ]',\n",
       " '14 | [0.44335044 0.66532486 0.17820067]',\n",
       " '7 | [0.09358939 0.16595954 0.79402228]',\n",
       " '12 | [0.38541682 0.36508259 0.01118768]',\n",
       " '10 | [0.79251804 0.40345573 0.7436284 ]',\n",
       " '2 | [0.21203158 0.28086788 0.06438956]',\n",
       " '12 | [0.38541682 0.36508259 0.01118768]',\n",
       " '6 | [0.26683368 0.00830556 0.08293456]',\n",
       " '9 | [0.51302483 0.62682177 0.44233046]',\n",
       " '12 | [0.38541682 0.36508259 0.01118768]',\n",
       " '4 | [0.40828138 0.07724184 0.40260964]',\n",
       " '6 | [0.26683368 0.00830556 0.08293456]',\n",
       " '12 | [0.38541682 0.36508259 0.01118768]',\n",
       " '13 | [0.57391113 0.65171296 0.2132116 ]',\n",
       " '11 | [0.6141979  0.66902461 0.37009856]',\n",
       " '9 | [0.51302483 0.62682177 0.44233046]',\n",
       " '2 | [0.21203158 0.28086788 0.06438956]',\n",
       " '8 | [0.95028835 0.32770319 0.70389731]',\n",
       " '11 | [0.6141979  0.66902461 0.37009856]',\n",
       " '6 | [0.26683368 0.00830556 0.08293456]',\n",
       " '0 | [0.6702893  0.90486648 0.63603154]',\n",
       " '14 | [0.44335044 0.66532486 0.17820067]',\n",
       " '2 | [0.21203158 0.28086788 0.06438956]',\n",
       " '8 | [0.95028835 0.32770319 0.70389731]',\n",
       " '0 | [0.6702893  0.90486648 0.63603154]',\n",
       " '6 | [0.26683368 0.00830556 0.08293456]',\n",
       " '9 | [0.51302483 0.62682177 0.44233046]',\n",
       " '3 | [0.59776133 0.02100163 0.66620462]',\n",
       " '9 | [0.51302483 0.62682177 0.44233046]',\n",
       " '12 | [0.38541682 0.36508259 0.01118768]',\n",
       " '13 | [0.57391113 0.65171296 0.2132116 ]',\n",
       " '8 | [0.95028835 0.32770319 0.70389731]',\n",
       " '10 | [0.79251804 0.40345573 0.7436284 ]',\n",
       " '8 | [0.95028835 0.32770319 0.70389731]',\n",
       " '10 | [0.79251804 0.40345573 0.7436284 ]',\n",
       " '0 | [0.6702893  0.90486648 0.63603154]',\n",
       " '0 | [0.6702893  0.90486648 0.63603154]',\n",
       " '0 | [0.6702893  0.90486648 0.63603154]',\n",
       " '13 | [0.57391113 0.65171296 0.2132116 ]',\n",
       " '7 | [0.09358939 0.16595954 0.79402228]',\n",
       " '11 | [0.6141979  0.66902461 0.37009856]',\n",
       " '10 | [0.79251804 0.40345573 0.7436284 ]',\n",
       " '11 | [0.6141979  0.66902461 0.37009856]',\n",
       " '5 | [0.55534012 0.13244349 0.04429473]',\n",
       " '12 | [0.38541682 0.36508259 0.01118768]',\n",
       " '9 | [0.51302483 0.62682177 0.44233046]',\n",
       " '13 | [0.57391113 0.65171296 0.2132116 ]',\n",
       " '2 | [0.21203158 0.28086788 0.06438956]',\n",
       " '7 | [0.09358939 0.16595954 0.79402228]',\n",
       " '1 | [0.41698657 0.05259779 0.18895583]',\n",
       " '13 | [0.57391113 0.65171296 0.2132116 ]',\n",
       " '6 | [0.26683368 0.00830556 0.08293456]',\n",
       " '12 | [0.38541682 0.36508259 0.01118768]',\n",
       " '4 | [0.40828138 0.07724184 0.40260964]',\n",
       " '3 | [0.59776133 0.02100163 0.66620462]',\n",
       " '4 | [0.40828138 0.07724184 0.40260964]',\n",
       " '0 | [0.6702893  0.90486648 0.63603154]',\n",
       " '6 | [0.26683368 0.00830556 0.08293456]',\n",
       " '4 | [0.40828138 0.07724184 0.40260964]',\n",
       " '2 | [0.21203158 0.28086788 0.06438956]',\n",
       " '0 | [0.6702893  0.90486648 0.63603154]',\n",
       " '7 | [0.09358939 0.16595954 0.79402228]',\n",
       " '7 | [0.09358939 0.16595954 0.79402228]',\n",
       " '6 | [0.26683368 0.00830556 0.08293456]',\n",
       " '9 | [0.51302483 0.62682177 0.44233046]',\n",
       " '3 | [0.59776133 0.02100163 0.66620462]',\n",
       " '10 | [0.79251804 0.40345573 0.7436284 ]',\n",
       " '3 | [0.59776133 0.02100163 0.66620462]',\n",
       " '4 | [0.40828138 0.07724184 0.40260964]',\n",
       " '1 | [0.41698657 0.05259779 0.18895583]',\n",
       " '13 | [0.57391113 0.65171296 0.2132116 ]',\n",
       " '0 | [0.6702893  0.90486648 0.63603154]',\n",
       " '6 | [0.26683368 0.00830556 0.08293456]',\n",
       " '2 | [0.21203158 0.28086788 0.06438956]',\n",
       " '11 | [0.6141979  0.66902461 0.37009856]',\n",
       " '12 | [0.38541682 0.36508259 0.01118768]',\n",
       " '0 | [0.6702893  0.90486648 0.63603154]',\n",
       " '12 | [0.38541682 0.36508259 0.01118768]',\n",
       " '8 | [0.95028835 0.32770319 0.70389731]',\n",
       " '14 | [0.44335044 0.66532486 0.17820067]',\n",
       " '14 | [0.44335044 0.66532486 0.17820067]',\n",
       " '5 | [0.55534012 0.13244349 0.04429473]',\n",
       " '3 | [0.59776133 0.02100163 0.66620462]',\n",
       " '10 | [0.79251804 0.40345573 0.7436284 ]',\n",
       " '5 | [0.55534012 0.13244349 0.04429473]',\n",
       " '8 | [0.95028835 0.32770319 0.70389731]',\n",
       " '11 | [0.6141979  0.66902461 0.37009856]',\n",
       " '7 | [0.09358939 0.16595954 0.79402228]',\n",
       " '10 | [0.79251804 0.40345573 0.7436284 ]',\n",
       " '4 | [0.40828138 0.07724184 0.40260964]',\n",
       " '1 | [0.41698657 0.05259779 0.18895583]',\n",
       " '10 | [0.79251804 0.40345573 0.7436284 ]',\n",
       " '2 | [0.21203158 0.28086788 0.06438956]',\n",
       " '3 | [0.59776133 0.02100163 0.66620462]',\n",
       " '6 | [0.26683368 0.00830556 0.08293456]',\n",
       " '3 | [0.59776133 0.02100163 0.66620462]',\n",
       " '11 | [0.6141979  0.66902461 0.37009856]',\n",
       " '12 | [0.38541682 0.36508259 0.01118768]',\n",
       " '11 | [0.6141979  0.66902461 0.37009856]',\n",
       " '12 | [0.38541682 0.36508259 0.01118768]',\n",
       " '14 | [0.44335044 0.66532486 0.17820067]',\n",
       " '7 | [0.09358939 0.16595954 0.79402228]',\n",
       " '10 | [0.79251804 0.40345573 0.7436284 ]',\n",
       " '7 | [0.09358939 0.16595954 0.79402228]',\n",
       " '13 | [0.57391113 0.65171296 0.2132116 ]',\n",
       " '10 | [0.79251804 0.40345573 0.7436284 ]',\n",
       " '10 | [0.79251804 0.40345573 0.7436284 ]',\n",
       " '4 | [0.40828138 0.07724184 0.40260964]',\n",
       " '13 | [0.57391113 0.65171296 0.2132116 ]',\n",
       " '2 | [0.21203158 0.28086788 0.06438956]',\n",
       " '7 | [0.09358939 0.16595954 0.79402228]',\n",
       " '2 | [0.21203158 0.28086788 0.06438956]',\n",
       " '1 | [0.41698657 0.05259779 0.18895583]',\n",
       " '3 | [0.59776133 0.02100163 0.66620462]',\n",
       " '2 | [0.21203158 0.28086788 0.06438956]',\n",
       " '6 | [0.26683368 0.00830556 0.08293456]',\n",
       " '8 | [0.95028835 0.32770319 0.70389731]',\n",
       " '4 | [0.40828138 0.07724184 0.40260964]',\n",
       " '12 | [0.38541682 0.36508259 0.01118768]',\n",
       " '7 | [0.09358939 0.16595954 0.79402228]',\n",
       " '8 | [0.95028835 0.32770319 0.70389731]',\n",
       " '14 | [0.44335044 0.66532486 0.17820067]',\n",
       " '7 | [0.09358939 0.16595954 0.79402228]',\n",
       " '5 | [0.55534012 0.13244349 0.04429473]',\n",
       " '8 | [0.95028835 0.32770319 0.70389731]',\n",
       " '11 | [0.6141979  0.66902461 0.37009856]',\n",
       " '14 | [0.44335044 0.66532486 0.17820067]',\n",
       " '2 | [0.21203158 0.28086788 0.06438956]',\n",
       " '5 | [0.55534012 0.13244349 0.04429473]',\n",
       " '5 | [0.55534012 0.13244349 0.04429473]',\n",
       " '12 | [0.38541682 0.36508259 0.01118768]',\n",
       " '14 | [0.44335044 0.66532486 0.17820067]',\n",
       " '1 | [0.41698657 0.05259779 0.18895583]',\n",
       " '13 | [0.57391113 0.65171296 0.2132116 ]',\n",
       " '9 | [0.51302483 0.62682177 0.44233046]',\n",
       " '13 | [0.57391113 0.65171296 0.2132116 ]',\n",
       " '8 | [0.95028835 0.32770319 0.70389731]',\n",
       " '0 | [0.6702893  0.90486648 0.63603154]',\n",
       " '4 | [0.40828138 0.07724184 0.40260964]',\n",
       " '13 | [0.57391113 0.65171296 0.2132116 ]',\n",
       " '2 | [0.21203158 0.28086788 0.06438956]',\n",
       " '2 | [0.21203158 0.28086788 0.06438956]',\n",
       " '6 | [0.26683368 0.00830556 0.08293456]',\n",
       " '5 | [0.55534012 0.13244349 0.04429473]',\n",
       " '1 | [0.41698657 0.05259779 0.18895583]',\n",
       " '14 | [0.44335044 0.66532486 0.17820067]',\n",
       " '4 | [0.40828138 0.07724184 0.40260964]',\n",
       " '0 | [0.6702893  0.90486648 0.63603154]',\n",
       " '11 | [0.6141979  0.66902461 0.37009856]',\n",
       " '8 | [0.95028835 0.32770319 0.70389731]',\n",
       " '10 | [0.79251804 0.40345573 0.7436284 ]',\n",
       " '0 | [0.6702893  0.90486648 0.63603154]',\n",
       " '10 | [0.79251804 0.40345573 0.7436284 ]',\n",
       " '0 | [0.6702893  0.90486648 0.63603154]',\n",
       " '2 | [0.21203158 0.28086788 0.06438956]',\n",
       " '14 | [0.44335044 0.66532486 0.17820067]',\n",
       " '6 | [0.26683368 0.00830556 0.08293456]',\n",
       " '2 | [0.21203158 0.28086788 0.06438956]',\n",
       " '3 | [0.59776133 0.02100163 0.66620462]',\n",
       " '14 | [0.44335044 0.66532486 0.17820067]',\n",
       " '10 | [0.79251804 0.40345573 0.7436284 ]',\n",
       " '14 | [0.44335044 0.66532486 0.17820067]',\n",
       " '1 | [0.41698657 0.05259779 0.18895583]',\n",
       " '6 | [0.26683368 0.00830556 0.08293456]',\n",
       " '7 | [0.09358939 0.16595954 0.79402228]',\n",
       " '12 | [0.38541682 0.36508259 0.01118768]',\n",
       " '7 | [0.09358939 0.16595954 0.79402228]',\n",
       " '12 | [0.38541682 0.36508259 0.01118768]',\n",
       " '10 | [0.79251804 0.40345573 0.7436284 ]',\n",
       " '10 | [0.79251804 0.40345573 0.7436284 ]',\n",
       " '2 | [0.21203158 0.28086788 0.06438956]',\n",
       " '1 | [0.41698657 0.05259779 0.18895583]',\n",
       " '4 | [0.40828138 0.07724184 0.40260964]',\n",
       " '1 | [0.41698657 0.05259779 0.18895583]',\n",
       " '4 | [0.40828138 0.07724184 0.40260964]',\n",
       " '6 | [0.26683368 0.00830556 0.08293456]',\n",
       " '14 | [0.44335044 0.66532486 0.17820067]',\n",
       " '5 | [0.55534012 0.13244349 0.04429473]',\n",
       " '11 | [0.6141979  0.66902461 0.37009856]',\n",
       " '7 | [0.09358939 0.16595954 0.79402228]',\n",
       " '0 | [0.6702893  0.90486648 0.63603154]',\n",
       " '9 | [0.51302483 0.62682177 0.44233046]',\n",
       " '13 | [0.57391113 0.65171296 0.2132116 ]',\n",
       " '1 | [0.41698657 0.05259779 0.18895583]',\n",
       " '7 | [0.09358939 0.16595954 0.79402228]',\n",
       " '8 | [0.95028835 0.32770319 0.70389731]',\n",
       " '2 | [0.21203158 0.28086788 0.06438956]',\n",
       " '2 | [0.21203158 0.28086788 0.06438956]',\n",
       " '14 | [0.44335044 0.66532486 0.17820067]',\n",
       " '8 | [0.95028835 0.32770319 0.70389731]',\n",
       " '1 | [0.41698657 0.05259779 0.18895583]',\n",
       " '8 | [0.95028835 0.32770319 0.70389731]',\n",
       " '14 | [0.44335044 0.66532486 0.17820067]',\n",
       " '5 | [0.55534012 0.13244349 0.04429473]',\n",
       " '13 | [0.57391113 0.65171296 0.2132116 ]',\n",
       " '2 | [0.21203158 0.28086788 0.06438956]',\n",
       " '6 | [0.26683368 0.00830556 0.08293456]',\n",
       " '2 | [0.21203158 0.28086788 0.06438956]',\n",
       " '10 | [0.79251804 0.40345573 0.7436284 ]',\n",
       " '13 | [0.57391113 0.65171296 0.2132116 ]',\n",
       " '13 | [0.57391113 0.65171296 0.2132116 ]',\n",
       " '3 | [0.59776133 0.02100163 0.66620462]',\n",
       " '11 | [0.6141979  0.66902461 0.37009856]',\n",
       " '10 | [0.79251804 0.40345573 0.7436284 ]',\n",
       " '12 | [0.38541682 0.36508259 0.01118768]',\n",
       " '8 | [0.95028835 0.32770319 0.70389731]',\n",
       " '2 | [0.21203158 0.28086788 0.06438956]',\n",
       " '4 | [0.40828138 0.07724184 0.40260964]',\n",
       " '13 | [0.57391113 0.65171296 0.2132116 ]',\n",
       " '2 | [0.21203158 0.28086788 0.06438956]',\n",
       " '0 | [0.6702893  0.90486648 0.63603154]',\n",
       " '0 | [0.6702893  0.90486648 0.63603154]',\n",
       " '13 | [0.57391113 0.65171296 0.2132116 ]',\n",
       " '2 | [0.21203158 0.28086788 0.06438956]',\n",
       " '10 | [0.79251804 0.40345573 0.7436284 ]',\n",
       " '6 | [0.26683368 0.00830556 0.08293456]',\n",
       " '11 | [0.6141979  0.66902461 0.37009856]',\n",
       " '13 | [0.57391113 0.65171296 0.2132116 ]',\n",
       " '12 | [0.38541682 0.36508259 0.01118768]',\n",
       " '1 | [0.41698657 0.05259779 0.18895583]',\n",
       " '2 | [0.21203158 0.28086788 0.06438956]',\n",
       " '7 | [0.09358939 0.16595954 0.79402228]',\n",
       " '3 | [0.59776133 0.02100163 0.66620462]',\n",
       " '12 | [0.38541682 0.36508259 0.01118768]',\n",
       " '6 | [0.26683368 0.00830556 0.08293456]',\n",
       " '3 | [0.59776133 0.02100163 0.66620462]',\n",
       " '1 | [0.41698657 0.05259779 0.18895583]',\n",
       " '9 | [0.51302483 0.62682177 0.44233046]',\n",
       " '0 | [0.6702893  0.90486648 0.63603154]',\n",
       " '10 | [0.79251804 0.40345573 0.7436284 ]',\n",
       " '8 | [0.95028835 0.32770319 0.70389731]',\n",
       " '11 | [0.6141979  0.66902461 0.37009856]',\n",
       " '8 | [0.95028835 0.32770319 0.70389731]',\n",
       " '10 | [0.79251804 0.40345573 0.7436284 ]',\n",
       " '11 | [0.6141979  0.66902461 0.37009856]',\n",
       " '8 | [0.95028835 0.32770319 0.70389731]',\n",
       " '10 | [0.79251804 0.40345573 0.7436284 ]',\n",
       " '14 | [0.44335044 0.66532486 0.17820067]',\n",
       " '2 | [0.21203158 0.28086788 0.06438956]',\n",
       " '14 | [0.44335044 0.66532486 0.17820067]',\n",
       " '10 | [0.79251804 0.40345573 0.7436284 ]',\n",
       " '0 | [0.6702893  0.90486648 0.63603154]',\n",
       " '12 | [0.38541682 0.36508259 0.01118768]',\n",
       " '3 | [0.59776133 0.02100163 0.66620462]',\n",
       " '12 | [0.38541682 0.36508259 0.01118768]',\n",
       " '6 | [0.26683368 0.00830556 0.08293456]',\n",
       " '10 | [0.79251804 0.40345573 0.7436284 ]',\n",
       " '13 | [0.57391113 0.65171296 0.2132116 ]',\n",
       " '12 | [0.38541682 0.36508259 0.01118768]',\n",
       " '1 | [0.41698657 0.05259779 0.18895583]',\n",
       " '4 | [0.40828138 0.07724184 0.40260964]',\n",
       " '9 | [0.51302483 0.62682177 0.44233046]',\n",
       " '4 | [0.40828138 0.07724184 0.40260964]',\n",
       " '7 | [0.09358939 0.16595954 0.79402228]',\n",
       " '13 | [0.57391113 0.65171296 0.2132116 ]',\n",
       " '14 | [0.44335044 0.66532486 0.17820067]',\n",
       " '5 | [0.55534012 0.13244349 0.04429473]',\n",
       " '1 | [0.41698657 0.05259779 0.18895583]',\n",
       " '10 | [0.79251804 0.40345573 0.7436284 ]',\n",
       " '8 | [0.95028835 0.32770319 0.70389731]',\n",
       " '13 | [0.57391113 0.65171296 0.2132116 ]',\n",
       " '6 | [0.26683368 0.00830556 0.08293456]',\n",
       " '8 | [0.95028835 0.32770319 0.70389731]',\n",
       " '14 | [0.44335044 0.66532486 0.17820067]',\n",
       " '4 | [0.40828138 0.07724184 0.40260964]',\n",
       " '7 | [0.09358939 0.16595954 0.79402228]',\n",
       " '4 | [0.40828138 0.07724184 0.40260964]',\n",
       " '11 | [0.6141979  0.66902461 0.37009856]',\n",
       " '1 | [0.41698657 0.05259779 0.18895583]',\n",
       " '0 | [0.6702893  0.90486648 0.63603154]',\n",
       " '2 | [0.21203158 0.28086788 0.06438956]',\n",
       " '5 | [0.55534012 0.13244349 0.04429473]',\n",
       " '1 | [0.41698657 0.05259779 0.18895583]',\n",
       " '1 | [0.41698657 0.05259779 0.18895583]',\n",
       " '14 | [0.44335044 0.66532486 0.17820067]',\n",
       " '8 | [0.95028835 0.32770319 0.70389731]',\n",
       " '3 | [0.59776133 0.02100163 0.66620462]',\n",
       " '10 | [0.79251804 0.40345573 0.7436284 ]',\n",
       " '5 | [0.55534012 0.13244349 0.04429473]',\n",
       " '9 | [0.51302483 0.62682177 0.44233046]',\n",
       " '10 | [0.79251804 0.40345573 0.7436284 ]',\n",
       " '11 | [0.6141979  0.66902461 0.37009856]',\n",
       " '0 | [0.6702893  0.90486648 0.63603154]',\n",
       " '8 | [0.95028835 0.32770319 0.70389731]',\n",
       " '1 | [0.41698657 0.05259779 0.18895583]',\n",
       " '7 | [0.09358939 0.16595954 0.79402228]',\n",
       " '1 | [0.41698657 0.05259779 0.18895583]',\n",
       " '10 | [0.79251804 0.40345573 0.7436284 ]',\n",
       " '2 | [0.21203158 0.28086788 0.06438956]',\n",
       " '12 | [0.38541682 0.36508259 0.01118768]',\n",
       " '8 | [0.95028835 0.32770319 0.70389731]',\n",
       " '8 | [0.95028835 0.32770319 0.70389731]',\n",
       " '10 | [0.79251804 0.40345573 0.7436284 ]',\n",
       " '6 | [0.26683368 0.00830556 0.08293456]',\n",
       " '14 | [0.44335044 0.66532486 0.17820067]',\n",
       " '11 | [0.6141979  0.66902461 0.37009856]',\n",
       " '11 | [0.6141979  0.66902461 0.37009856]',\n",
       " '12 | [0.38541682 0.36508259 0.01118768]',\n",
       " '11 | [0.6141979  0.66902461 0.37009856]',\n",
       " '3 | [0.59776133 0.02100163 0.66620462]',\n",
       " '9 | [0.51302483 0.62682177 0.44233046]',\n",
       " '8 | [0.95028835 0.32770319 0.70389731]',\n",
       " '14 | [0.44335044 0.66532486 0.17820067]',\n",
       " '10 | [0.79251804 0.40345573 0.7436284 ]',\n",
       " '13 | [0.57391113 0.65171296 0.2132116 ]',\n",
       " '8 | [0.95028835 0.32770319 0.70389731]',\n",
       " '3 | [0.59776133 0.02100163 0.66620462]',\n",
       " '5 | [0.55534012 0.13244349 0.04429473]',\n",
       " '2 | [0.21203158 0.28086788 0.06438956]',\n",
       " '5 | [0.55534012 0.13244349 0.04429473]',\n",
       " '13 | [0.57391113 0.65171296 0.2132116 ]',\n",
       " '10 | [0.79251804 0.40345573 0.7436284 ]',\n",
       " '2 | [0.21203158 0.28086788 0.06438956]',\n",
       " '10 | [0.79251804 0.40345573 0.7436284 ]',\n",
       " '11 | [0.6141979  0.66902461 0.37009856]',\n",
       " '7 | [0.09358939 0.16595954 0.79402228]',\n",
       " '14 | [0.44335044 0.66532486 0.17820067]',\n",
       " '1 | [0.41698657 0.05259779 0.18895583]',\n",
       " '9 | [0.51302483 0.62682177 0.44233046]',\n",
       " '0 | [0.6702893  0.90486648 0.63603154]',\n",
       " '10 | [0.79251804 0.40345573 0.7436284 ]',\n",
       " '2 | [0.21203158 0.28086788 0.06438956]',\n",
       " '6 | [0.26683368 0.00830556 0.08293456]',\n",
       " '10 | [0.79251804 0.40345573 0.7436284 ]',\n",
       " '14 | [0.44335044 0.66532486 0.17820067]',\n",
       " '9 | [0.51302483 0.62682177 0.44233046]',\n",
       " '7 | [0.09358939 0.16595954 0.79402228]',\n",
       " '10 | [0.79251804 0.40345573 0.7436284 ]',\n",
       " '8 | [0.95028835 0.32770319 0.70389731]',\n",
       " '7 | [0.09358939 0.16595954 0.79402228]',\n",
       " '4 | [0.40828138 0.07724184 0.40260964]',\n",
       " '9 | [0.51302483 0.62682177 0.44233046]',\n",
       " '5 | [0.55534012 0.13244349 0.04429473]',\n",
       " '9 | [0.51302483 0.62682177 0.44233046]',\n",
       " '5 | [0.55534012 0.13244349 0.04429473]',\n",
       " '5 | [0.55534012 0.13244349 0.04429473]',\n",
       " '13 | [0.57391113 0.65171296 0.2132116 ]',\n",
       " '6 | [0.26683368 0.00830556 0.08293456]',\n",
       " '7 | [0.09358939 0.16595954 0.79402228]',\n",
       " '14 | [0.44335044 0.66532486 0.17820067]',\n",
       " '10 | [0.79251804 0.40345573 0.7436284 ]',\n",
       " '1 | [0.41698657 0.05259779 0.18895583]',\n",
       " '5 | [0.55534012 0.13244349 0.04429473]',\n",
       " '1 | [0.41698657 0.05259779 0.18895583]',\n",
       " '13 | [0.57391113 0.65171296 0.2132116 ]',\n",
       " ...]"
      ]
     },
     "execution_count": 77,
     "metadata": {},
     "output_type": "execute_result"
    }
   ],
   "source": [
    "[f\"{l} | {colors[l]}\" for l in dbscan.labels_]"
   ]
  },
  {
   "cell_type": "code",
   "execution_count": 78,
   "metadata": {},
   "outputs": [
    {
     "data": {
      "image/png": "[encoded data removed]",
      "text/plain": [
       "<Figure size 640x480 with 1 Axes>"
      ]
     },
     "metadata": {},
     "output_type": "display_data"
    }
   ],
   "source": [
    "plt.scatter(df['x'], df['y'], c=[colors[l] for l in dbscan.labels_])\n",
    "plt.show()"
   ]
  },
  {
   "cell_type": "markdown",
   "metadata": {},
   "source": [
    "#### DBSCAN using Manhattan:\n"
   ]
  },
  {
   "cell_type": "code",
   "execution_count": 79,
   "metadata": {},
   "outputs": [
    {
     "data": {
      "image/png": "[encoded data removed]",
      "text/plain": [
       "<Figure size 640x480 with 1 Axes>"
      ]
     },
     "metadata": {},
     "output_type": "display_data"
    }
   ],
   "source": [
    "dbscan = DBSCAN(eps=0.1, metric=cityblock)\n",
    "dbscan.fit(df)\n",
    "colors = np.random.random(size=3 * (dbscan.labels_.max()+1)).reshape(-1,3)\n",
    "plt.scatter(df['x'], df['y'], c=[colors[l] for l in dbscan.labels_])\n",
    "plt.show()"
   ]
  },
  {
   "cell_type": "markdown",
   "metadata": {},
   "source": [
    "#### DBSCAN using Cosine:\n"
   ]
  },
  {
   "cell_type": "code",
   "execution_count": 80,
   "metadata": {},
   "outputs": [
    {
     "data": {
      "image/png": "[encoded data removed]",
      "text/plain": [
       "<Figure size 640x480 with 1 Axes>"
      ]
     },
     "metadata": {},
     "output_type": "display_data"
    }
   ],
   "source": [
    "dbscan = DBSCAN(eps=0.1, metric=cosine)\n",
    "dbscan.fit(df)\n",
    "colors = np.random.random(size=3*(dbscan.labels_.max()+1)).reshape(-1,3)\n",
    "plt.scatter(df['x'], df['y'], c=[colors[l] for l in dbscan.labels_])\n",
    "plt.show()"
   ]
  },
  {
   "cell_type": "markdown",
   "metadata": {},
   "source": [
    "Clearly, euclidean and manhattan distances have very similar results.\n",
    "\n",
    "However, using cosine distance, DBSCAN groups points based on their angle, leading to unique results which is some cases may be very useful.\n"
   ]
  },
  {
   "cell_type": "markdown",
   "metadata": {},
   "source": [
    "## Jaccard Distance\n"
   ]
  },
  {
   "cell_type": "markdown",
   "metadata": {
    "tags": []
   },
   "source": [
    "In this task, you will learn and practice applying Jaccard distance.\n",
    "\n",
    "The Jaccard distance is used to compute the dissimilarity/distance of two sets of objects.\n",
    "\n",
    "The Jaccard distance between two sets is a value in the range $[0, 1]$ where:\n",
    " * $1$ means the two sets have nothing in common.\n",
    " * $0$ means the two sets are identical.\n",
    " \n",
    "So **the greater the jaccard distance, the less similar the sets**.\n",
    "\n",
    "_Jaccard distance is useful when comparing two sets of (usually) non-numerical objects_\n",
    "\n",
    "### <a id='jaccard_GE'></a> General Equation\n",
    "\n",
    "The __general equation for the jaccard distance__ between two sets $A$ and $B$ is:\n",
    "\n",
    "$$1 - \\frac{|A \\cap B|}{|A \\cup B|}$$\n",
    "\n",
    " * $\\cap$ means \"set intersection\"\n",
    " * $\\cup$ means \"union\"\n",
    " * $| S |$ means the \"length of set $S$\"\n"
   ]
  },
  {
   "cell_type": "markdown",
   "metadata": {},
   "source": [
    "We can use `sklearn.metrics.jaccard_score` to compute the jaccard distance between categorical data. \n",
    "\n",
    "**NOTE**: `sklearn.metrics.jaccard_score` calculates the **jaccard similarity score**, which is **1 - jaccard distance**.\n"
   ]
  },
  {
   "cell_type": "code",
   "execution_count": 81,
   "metadata": {},
   "outputs": [],
   "source": [
    "from sklearn.metrics import jaccard_score as JS"
   ]
  },
  {
   "cell_type": "markdown",
   "metadata": {},
   "source": [
    "For this exercise, we will use a different dataset.\n",
    "\n",
    "Download the dataset `\"breast-cancer.data\"` which contains information about people diagnosed with breast cancer:\n"
   ]
  },
  {
   "cell_type": "code",
   "execution_count": 82,
   "metadata": {},
   "outputs": [],
   "source": [
    "url = 'https://cf-courses-data.s3.us.cloud-object-storage.appdomain.cloud/IBM-ML0187EN-SkillsNetwork/labs/module%202/breast-cancer.data'"
   ]
  },
  {
   "cell_type": "code",
   "execution_count": 83,
   "metadata": {},
   "outputs": [
    {
     "data": {
      "text/html": [
       "<div>\n",
       "<style scoped>\n",
       "    .dataframe tbody tr th:only-of-type {\n",
       "        vertical-align: middle;\n",
       "    }\n",
       "\n",
       "    .dataframe tbody tr th {\n",
       "        vertical-align: top;\n",
       "    }\n",
       "\n",
       "    .dataframe thead th {\n",
       "        text-align: right;\n",
       "    }\n",
       "</style>\n",
       "<table border=\"1\" class=\"dataframe\">\n",
       "  <thead>\n",
       "    <tr style=\"text-align: right;\">\n",
       "      <th></th>\n",
       "      <th>Class</th>\n",
       "      <th>age</th>\n",
       "      <th>menopause</th>\n",
       "      <th>tumor-size</th>\n",
       "      <th>inv-nodes</th>\n",
       "      <th>node-caps</th>\n",
       "      <th>deg-malig</th>\n",
       "      <th>breast</th>\n",
       "      <th>breast-quad</th>\n",
       "      <th>irradiat</th>\n",
       "    </tr>\n",
       "  </thead>\n",
       "  <tbody>\n",
       "    <tr>\n",
       "      <th>0</th>\n",
       "      <td>no-recurrence-events</td>\n",
       "      <td>30-39</td>\n",
       "      <td>premeno</td>\n",
       "      <td>30-34</td>\n",
       "      <td>0-2</td>\n",
       "      <td>no</td>\n",
       "      <td>3</td>\n",
       "      <td>left</td>\n",
       "      <td>left_low</td>\n",
       "      <td>no</td>\n",
       "    </tr>\n",
       "    <tr>\n",
       "      <th>1</th>\n",
       "      <td>no-recurrence-events</td>\n",
       "      <td>40-49</td>\n",
       "      <td>premeno</td>\n",
       "      <td>20-24</td>\n",
       "      <td>0-2</td>\n",
       "      <td>no</td>\n",
       "      <td>2</td>\n",
       "      <td>right</td>\n",
       "      <td>right_up</td>\n",
       "      <td>no</td>\n",
       "    </tr>\n",
       "    <tr>\n",
       "      <th>2</th>\n",
       "      <td>no-recurrence-events</td>\n",
       "      <td>40-49</td>\n",
       "      <td>premeno</td>\n",
       "      <td>20-24</td>\n",
       "      <td>0-2</td>\n",
       "      <td>no</td>\n",
       "      <td>2</td>\n",
       "      <td>left</td>\n",
       "      <td>left_low</td>\n",
       "      <td>no</td>\n",
       "    </tr>\n",
       "    <tr>\n",
       "      <th>3</th>\n",
       "      <td>no-recurrence-events</td>\n",
       "      <td>60-69</td>\n",
       "      <td>ge40</td>\n",
       "      <td>15-19</td>\n",
       "      <td>0-2</td>\n",
       "      <td>no</td>\n",
       "      <td>2</td>\n",
       "      <td>right</td>\n",
       "      <td>left_up</td>\n",
       "      <td>no</td>\n",
       "    </tr>\n",
       "    <tr>\n",
       "      <th>4</th>\n",
       "      <td>no-recurrence-events</td>\n",
       "      <td>40-49</td>\n",
       "      <td>premeno</td>\n",
       "      <td>0-4</td>\n",
       "      <td>0-2</td>\n",
       "      <td>no</td>\n",
       "      <td>2</td>\n",
       "      <td>right</td>\n",
       "      <td>right_low</td>\n",
       "      <td>no</td>\n",
       "    </tr>\n",
       "  </tbody>\n",
       "</table>\n",
       "</div>"
      ],
      "text/plain": [
       "                  Class    age menopause tumor-size inv-nodes node-caps  \\\n",
       "0  no-recurrence-events  30-39   premeno      30-34       0-2        no   \n",
       "1  no-recurrence-events  40-49   premeno      20-24       0-2        no   \n",
       "2  no-recurrence-events  40-49   premeno      20-24       0-2        no   \n",
       "3  no-recurrence-events  60-69      ge40      15-19       0-2        no   \n",
       "4  no-recurrence-events  40-49   premeno        0-4       0-2        no   \n",
       "\n",
       "   deg-malig breast breast-quad irradiat  \n",
       "0          3   left    left_low       no  \n",
       "1          2  right    right_up       no  \n",
       "2          2   left    left_low       no  \n",
       "3          2  right     left_up       no  \n",
       "4          2  right   right_low       no  "
      ]
     },
     "execution_count": 83,
     "metadata": {},
     "output_type": "execute_result"
    }
   ],
   "source": [
    "names = ['Class','age','menopause','tumor-size','inv-nodes','node-caps',\n",
    "         'deg-malig','breast','breast-quad','irradiat']\n",
    "df = pd.read_csv(url, header=None, names=names)\n",
    "df.head()"
   ]
  },
  {
   "cell_type": "code",
   "execution_count": 84,
   "metadata": {},
   "outputs": [
    {
     "data": {
      "text/plain": [
       "(286, 10)"
      ]
     },
     "execution_count": 84,
     "metadata": {},
     "output_type": "execute_result"
    }
   ],
   "source": [
    "df.shape"
   ]
  },
  {
   "cell_type": "markdown",
   "metadata": {},
   "source": [
    "Lets look at the unique age groups in this dataset:\n"
   ]
  },
  {
   "cell_type": "code",
   "execution_count": 85,
   "metadata": {},
   "outputs": [
    {
     "data": {
      "text/plain": [
       "['20-29', '30-39', '40-49', '50-59', '60-69', '70-79']"
      ]
     },
     "execution_count": 85,
     "metadata": {},
     "output_type": "execute_result"
    }
   ],
   "source": [
    "sorted(df['age'].unique())"
   ]
  },
  {
   "cell_type": "code",
   "execution_count": 86,
   "metadata": {},
   "outputs": [
    {
     "data": {
      "text/plain": [
       "age\n",
       "20-29     1\n",
       "30-39    36\n",
       "40-49    90\n",
       "50-59    96\n",
       "60-69    57\n",
       "70-79     6\n",
       "Name: count, dtype: int64"
      ]
     },
     "execution_count": 86,
     "metadata": {},
     "output_type": "execute_result"
    }
   ],
   "source": [
    "df.age.value_counts().sort_index()"
   ]
  },
  {
   "cell_type": "markdown",
   "metadata": {},
   "source": [
    "As you can see, the data values are __categorical__ rather than real numerical values.\n",
    "\n",
    "To obtain the **average jaccard distance** between two dataframes (**df1, df2**), we first need to convert the categorical variables into one-hot encoded (binary) variables. This allows us to easily compute the individual jaccard distance between each row in **df1** and other row in **df2**, since we could just view the rows as sets that contain 0's and 1's.\n",
    "\n",
    "We can achieve this using the `OneHotEncoder` from `sklearn.preprocessing`:\n"
   ]
  },
  {
   "cell_type": "code",
   "execution_count": 87,
   "metadata": {},
   "outputs": [],
   "source": [
    "from sklearn.preprocessing import OneHotEncoder as OHE\n",
    "ohe = OHE()"
   ]
  },
  {
   "cell_type": "code",
   "execution_count": 88,
   "metadata": {},
   "outputs": [
    {
     "data": {
      "text/html": [
       "<div>\n",
       "<style scoped>\n",
       "    .dataframe tbody tr th:only-of-type {\n",
       "        vertical-align: middle;\n",
       "    }\n",
       "\n",
       "    .dataframe tbody tr th {\n",
       "        vertical-align: top;\n",
       "    }\n",
       "\n",
       "    .dataframe thead th {\n",
       "        text-align: right;\n",
       "    }\n",
       "</style>\n",
       "<table border=\"1\" class=\"dataframe\">\n",
       "  <thead>\n",
       "    <tr style=\"text-align: right;\">\n",
       "      <th></th>\n",
       "      <th>Class</th>\n",
       "      <th>menopause</th>\n",
       "      <th>tumor-size</th>\n",
       "      <th>inv-nodes</th>\n",
       "      <th>node-caps</th>\n",
       "      <th>deg-malig</th>\n",
       "      <th>breast</th>\n",
       "      <th>breast-quad</th>\n",
       "      <th>irradiat</th>\n",
       "    </tr>\n",
       "  </thead>\n",
       "  <tbody>\n",
       "    <tr>\n",
       "      <th>0</th>\n",
       "      <td>no-recurrence-events</td>\n",
       "      <td>premeno</td>\n",
       "      <td>30-34</td>\n",
       "      <td>0-2</td>\n",
       "      <td>no</td>\n",
       "      <td>3</td>\n",
       "      <td>left</td>\n",
       "      <td>left_low</td>\n",
       "      <td>no</td>\n",
       "    </tr>\n",
       "    <tr>\n",
       "      <th>1</th>\n",
       "      <td>no-recurrence-events</td>\n",
       "      <td>premeno</td>\n",
       "      <td>20-24</td>\n",
       "      <td>0-2</td>\n",
       "      <td>no</td>\n",
       "      <td>2</td>\n",
       "      <td>right</td>\n",
       "      <td>right_up</td>\n",
       "      <td>no</td>\n",
       "    </tr>\n",
       "    <tr>\n",
       "      <th>2</th>\n",
       "      <td>no-recurrence-events</td>\n",
       "      <td>premeno</td>\n",
       "      <td>20-24</td>\n",
       "      <td>0-2</td>\n",
       "      <td>no</td>\n",
       "      <td>2</td>\n",
       "      <td>left</td>\n",
       "      <td>left_low</td>\n",
       "      <td>no</td>\n",
       "    </tr>\n",
       "    <tr>\n",
       "      <th>3</th>\n",
       "      <td>no-recurrence-events</td>\n",
       "      <td>ge40</td>\n",
       "      <td>15-19</td>\n",
       "      <td>0-2</td>\n",
       "      <td>no</td>\n",
       "      <td>2</td>\n",
       "      <td>right</td>\n",
       "      <td>left_up</td>\n",
       "      <td>no</td>\n",
       "    </tr>\n",
       "    <tr>\n",
       "      <th>4</th>\n",
       "      <td>no-recurrence-events</td>\n",
       "      <td>premeno</td>\n",
       "      <td>0-4</td>\n",
       "      <td>0-2</td>\n",
       "      <td>no</td>\n",
       "      <td>2</td>\n",
       "      <td>right</td>\n",
       "      <td>right_low</td>\n",
       "      <td>no</td>\n",
       "    </tr>\n",
       "  </tbody>\n",
       "</table>\n",
       "</div>"
      ],
      "text/plain": [
       "                  Class menopause tumor-size inv-nodes node-caps  deg-malig  \\\n",
       "0  no-recurrence-events   premeno      30-34       0-2        no          3   \n",
       "1  no-recurrence-events   premeno      20-24       0-2        no          2   \n",
       "2  no-recurrence-events   premeno      20-24       0-2        no          2   \n",
       "3  no-recurrence-events      ge40      15-19       0-2        no          2   \n",
       "4  no-recurrence-events   premeno        0-4       0-2        no          2   \n",
       "\n",
       "  breast breast-quad irradiat  \n",
       "0   left    left_low       no  \n",
       "1  right    right_up       no  \n",
       "2   left    left_low       no  \n",
       "3  right     left_up       no  \n",
       "4  right   right_low       no  "
      ]
     },
     "execution_count": 88,
     "metadata": {},
     "output_type": "execute_result"
    }
   ],
   "source": [
    "df.loc[:, df.columns != 'age'].head()"
   ]
  },
  {
   "cell_type": "code",
   "execution_count": 89,
   "metadata": {},
   "outputs": [],
   "source": [
    "X = ohe.fit_transform(df.loc[:, df.columns != 'age']).toarray()"
   ]
  },
  {
   "cell_type": "code",
   "execution_count": 90,
   "metadata": {},
   "outputs": [
    {
     "name": "stdout",
     "output_type": "stream",
     "text": [
      "By using onehot encoding, we obtained a 2d array with shape (286, 39) that only has value 0 and 1 \n"
     ]
    }
   ],
   "source": [
    "print(f\"By using onehot encoding, we obtained a 2d array with shape {X.shape} that only has value 0 and 1 \")"
   ]
  },
  {
   "cell_type": "markdown",
   "metadata": {},
   "source": [
    "We will be analyzing the _Jaccard_ distance of the set of people aged 30-39 and aged 60-69.\n"
   ]
  },
  {
   "cell_type": "code",
   "execution_count": 91,
   "metadata": {},
   "outputs": [
    {
     "data": {
      "text/plain": [
       "Index([  0,  22,  35,  51,  74,  77,  90,  99, 107, 116, 118, 126, 127, 135,\n",
       "       136, 138, 148, 154, 170, 171, 193, 205, 219, 221, 224, 232, 238, 245,\n",
       "       246, 249, 252, 265, 268, 276, 281, 282],\n",
       "      dtype='int64')"
      ]
     },
     "execution_count": 91,
     "metadata": {},
     "output_type": "execute_result"
    }
   ],
   "source": [
    "df[df.age == '30-39'].index"
   ]
  },
  {
   "cell_type": "code",
   "execution_count": 92,
   "metadata": {},
   "outputs": [],
   "source": [
    "X30to39 = X[df[df.age == '30-39'].index]\n",
    "X60to69 = X[df[df.age == '60-69'].index]"
   ]
  },
  {
   "cell_type": "code",
   "execution_count": 93,
   "metadata": {},
   "outputs": [
    {
     "data": {
      "text/plain": [
       "((36, 39), (57, 39))"
      ]
     },
     "execution_count": 93,
     "metadata": {},
     "output_type": "execute_result"
    }
   ],
   "source": [
    "X30to39.shape, X60to69.shape"
   ]
  },
  {
   "cell_type": "markdown",
   "metadata": {},
   "source": [
    "Average Jaccard distance between people aged __30-39__ and __30-39__:\n"
   ]
  },
  {
   "cell_type": "code",
   "execution_count": 94,
   "metadata": {},
   "outputs": [
    {
     "data": {
      "text/plain": [
       "0.0021043771043771048"
      ]
     },
     "execution_count": 94,
     "metadata": {},
     "output_type": "execute_result"
    }
   ],
   "source": [
    "avg_distance(X30to39, X30to39, jaccard_score)"
   ]
  },
  {
   "cell_type": "markdown",
   "metadata": {},
   "source": [
    "Average Jaccard distance between people aged __60-69__ and __60-69__:\n"
   ]
  },
  {
   "cell_type": "code",
   "execution_count": 95,
   "metadata": {},
   "outputs": [
    {
     "data": {
      "text/plain": [
       "0.0008265049816296354"
      ]
     },
     "execution_count": 95,
     "metadata": {},
     "output_type": "execute_result"
    }
   ],
   "source": [
    "avg_distance(X60to69, X60to69, jaccard_score)"
   ]
  },
  {
   "cell_type": "markdown",
   "metadata": {},
   "source": [
    "Average Jaccard distance between people aged __30-39__ and __60-69__:\n"
   ]
  },
  {
   "cell_type": "code",
   "execution_count": 96,
   "metadata": {},
   "outputs": [
    {
     "data": {
      "text/plain": [
       "0.0024098708309234626"
      ]
     },
     "execution_count": 96,
     "metadata": {},
     "output_type": "execute_result"
    }
   ],
   "source": [
    "avg_distance(X30to39, X60to69, jaccard_score)"
   ]
  },
  {
   "cell_type": "markdown",
   "metadata": {},
   "source": [
    "Therefore, it seems there are some disparate trends between the 30-39 and 60-69 age groups.\n"
   ]
  },
  {
   "cell_type": "markdown",
   "metadata": {},
   "source": [
    "# Exercises\n"
   ]
  },
  {
   "cell_type": "markdown",
   "metadata": {
    "tags": []
   },
   "source": [
    "## Exercise 1 - Jaccard distance\n"
   ]
  },
  {
   "cell_type": "code",
   "execution_count": 97,
   "metadata": {},
   "outputs": [],
   "source": [
    "# Find the jaccard distance between the words in the following two sentences:\n",
    "sentence1 = 'Hello everyone and welcome to distance metrics'\n",
    "sentence2 = 'Hello world and welcome to distance metrics'"
   ]
  },
  {
   "cell_type": "code",
   "execution_count": 98,
   "metadata": {},
   "outputs": [],
   "source": [
    "s1set = set(sentence1.split())\n",
    "s2set = set(sentence2.split())"
   ]
  },
  {
   "cell_type": "markdown",
   "metadata": {},
   "source": [
    "$\\text {s1set} \\cap \\text{s2set}$"
   ]
  },
  {
   "cell_type": "code",
   "execution_count": 99,
   "metadata": {},
   "outputs": [
    {
     "data": {
      "text/plain": [
       "{'Hello', 'and', 'distance', 'metrics', 'to', 'welcome'}"
      ]
     },
     "execution_count": 99,
     "metadata": {},
     "output_type": "execute_result"
    }
   ],
   "source": [
    "interset = s1set.intersection(s2set)\n",
    "interset"
   ]
  },
  {
   "cell_type": "markdown",
   "metadata": {},
   "source": [
    "$\\text {s1set} \\cup \\text{s2set}$"
   ]
  },
  {
   "cell_type": "code",
   "execution_count": 100,
   "metadata": {},
   "outputs": [
    {
     "data": {
      "text/plain": [
       "{'Hello', 'and', 'distance', 'everyone', 'metrics', 'to', 'welcome', 'world'}"
      ]
     },
     "execution_count": 100,
     "metadata": {},
     "output_type": "execute_result"
    }
   ],
   "source": [
    "union = s1set.union(s2set)\n",
    "union"
   ]
  },
  {
   "cell_type": "code",
   "execution_count": 101,
   "metadata": {},
   "outputs": [
    {
     "data": {
      "text/plain": [
       "0.75"
      ]
     },
     "execution_count": 101,
     "metadata": {},
     "output_type": "execute_result"
    }
   ],
   "source": [
    "len(interset) / len(union)"
   ]
  },
  {
   "cell_type": "markdown",
   "metadata": {},
   "source": [
    "<details>\n",
    "    <summary>Click here for Solution</summary>\n",
    "    \n",
    "```python\n",
    "s1set = set(sentence1.split())\n",
    "s2set = set(sentence2.split())\n",
    "ans = len(s1set.intersection(s2set)) / len(s1set.union(s2set))\n",
    "```\n",
    "\n",
    "</details>\n"
   ]
  },
  {
   "cell_type": "markdown",
   "metadata": {},
   "source": [
    "## Exercise 2 - Euclidean distance and manhattan distance\n"
   ]
  },
  {
   "cell_type": "code",
   "execution_count": 102,
   "metadata": {},
   "outputs": [],
   "source": [
    "# Find the absolute value of the difference between the euclidean and manhattan distances of the two 3D points:\n",
    "p1 = np.array([4, -3, 1])\n",
    "p2 = np.array([-5, 1, -7])"
   ]
  },
  {
   "cell_type": "code",
   "execution_count": 103,
   "metadata": {},
   "outputs": [
    {
     "data": {
      "text/plain": [
       "8.31142245955048"
      ]
     },
     "execution_count": 103,
     "metadata": {},
     "output_type": "execute_result"
    }
   ],
   "source": [
    "from scipy.spatial.distance import euclidean, cityblock\n",
    "euclidean = euclidean(p1, p2)\n",
    "manhattan = cityblock(p1, p2)\n",
    "ans = abs(euclidean - manhattan)\n",
    "ans"
   ]
  },
  {
   "cell_type": "markdown",
   "metadata": {},
   "source": [
    "<details>\n",
    "    <summary>Click here for Solution</summary>\n",
    "    \n",
    "```python\n",
    "import scipy.special\n",
    "euclidean = scipy.spatial.distance.euclidean(p1, p2)\n",
    "manhattan = scipy.spatial.distance.cityblock(p1, p2)\n",
    "ans = abs(manhattan - euclidean)\n",
    "```\n",
    "\n",
    "</details>\n"
   ]
  },
  {
   "cell_type": "markdown",
   "metadata": {},
   "source": [
    "## Exercise 3 - Cosine distance\n"
   ]
  },
  {
   "cell_type": "code",
   "execution_count": 104,
   "metadata": {},
   "outputs": [],
   "source": [
    "# Find the cosine distance between the following two points:\n",
    "p1 = np.array([1, 2, 3]).reshape(1, -1)\n",
    "p2 = np.array([-2, -4, -6]).reshape(1, -1)"
   ]
  },
  {
   "cell_type": "code",
   "execution_count": 105,
   "metadata": {},
   "outputs": [],
   "source": [
    "from sklearn.metrics.pairwise import cosine_distances"
   ]
  },
  {
   "cell_type": "code",
   "execution_count": 106,
   "metadata": {},
   "outputs": [
    {
     "data": {
      "text/plain": [
       "array([[2.]])"
      ]
     },
     "execution_count": 106,
     "metadata": {},
     "output_type": "execute_result"
    }
   ],
   "source": [
    "from sklearn.metrics.pairwise import cosine_distances\n",
    "ans = cosine_distances(p1, p2)\n",
    "ans"
   ]
  },
  {
   "cell_type": "markdown",
   "metadata": {},
   "source": [
    "<details>\n",
    "    <summary>Click here for Solution</summary>\n",
    "    \n",
    "```python\n",
    "ans = cosine_distances(p1, p2)\n",
    "```\n",
    "\n",
    "</details>\n"
   ]
  },
  {
   "cell_type": "markdown",
   "metadata": {},
   "source": [
    "## Exercise 4 - Using `sklearn.metrics.pairwise`\n"
   ]
  },
  {
   "cell_type": "markdown",
   "metadata": {},
   "source": [
    "Use:\n",
    "\n",
    " - [`sklearn.metrics.pairwise.paired_euclidean_distances`](https://scikit-learn.org/stable/modules/generated/sklearn.metrics.pairwise.paired_euclidean_distances.html?utm_medium=Exinfluencer&utm_source=Exinfluencer&utm_content=000026UJ&utm_term=10006555&utm_id=NA-SkillsNetwork-Channel-SkillsNetworkCoursesIBMML0187ENSkillsNetwork821-2023-01-01#sklearn.metrics.pairwise.paired_euclidean_distances)\n",
    " - [`sklearn.metrics.pairwise.paired_manhattan_distances`](https://scikit-learn.org/stable/modules/generated/sklearn.metrics.pairwise.paired_manhattan_distances.html?utm_medium=Exinfluencer&utm_source=Exinfluencer&utm_content=000026UJ&utm_term=10006555&utm_id=NA-SkillsNetwork-Channel-SkillsNetworkCoursesIBMML0187ENSkillsNetwork821-2023-01-01#sklearn.metrics.pairwise.paired_manhattan_distances)\n",
    "\n",
    "\n",
    "to find the __pairwise__ distance between the following two datasets:\n"
   ]
  },
  {
   "cell_type": "code",
   "execution_count": 107,
   "metadata": {},
   "outputs": [],
   "source": [
    "from sklearn.metrics.pairwise import paired_euclidean_distances, paired_manhattan_distances"
   ]
  },
  {
   "cell_type": "code",
   "execution_count": 108,
   "metadata": {},
   "outputs": [
    {
     "data": {
      "text/plain": [
       "array([0, 1, 2, 3, 4, 5, 6, 7])"
      ]
     },
     "execution_count": 108,
     "metadata": {},
     "output_type": "execute_result"
    }
   ],
   "source": [
    "np.arange(8)"
   ]
  },
  {
   "cell_type": "code",
   "execution_count": 109,
   "metadata": {},
   "outputs": [
    {
     "data": {
      "text/plain": [
       "array([[0, 1],\n",
       "       [2, 3],\n",
       "       [4, 5],\n",
       "       [6, 7]])"
      ]
     },
     "execution_count": 109,
     "metadata": {},
     "output_type": "execute_result"
    }
   ],
   "source": [
    "X1 = np.arange(8).reshape(4,2)\n",
    "X1"
   ]
  },
  {
   "cell_type": "code",
   "execution_count": 110,
   "metadata": {},
   "outputs": [
    {
     "data": {
      "text/plain": [
       "array([7, 6, 5, 4, 3, 2, 1, 0])"
      ]
     },
     "execution_count": 110,
     "metadata": {},
     "output_type": "execute_result"
    }
   ],
   "source": [
    "np.arange(7,-1,-1)"
   ]
  },
  {
   "cell_type": "code",
   "execution_count": 111,
   "metadata": {},
   "outputs": [
    {
     "data": {
      "text/plain": [
       "array([7, 6, 5, 4, 3, 2, 1, 0])"
      ]
     },
     "execution_count": 111,
     "metadata": {},
     "output_type": "execute_result"
    }
   ],
   "source": [
    "np.arange(8)[::-1]"
   ]
  },
  {
   "cell_type": "code",
   "execution_count": 112,
   "metadata": {},
   "outputs": [],
   "source": [
    "X2 = np.arange(8)[::-1]"
   ]
  },
  {
   "cell_type": "code",
   "execution_count": 113,
   "metadata": {},
   "outputs": [],
   "source": [
    "X1 = np.arange(8).reshape(4, 2)\n",
    "X2 = np.arange(8)[::-1].reshape(4, 2)"
   ]
  },
  {
   "cell_type": "code",
   "execution_count": 114,
   "metadata": {},
   "outputs": [
    {
     "data": {
      "text/plain": [
       "array([8.60232527, 3.16227766, 3.16227766, 8.60232527])"
      ]
     },
     "execution_count": 114,
     "metadata": {},
     "output_type": "execute_result"
    }
   ],
   "source": [
    "paired_euclidean = paired_euclidean_distances(X1, X2)\n",
    "paired_euclidean"
   ]
  },
  {
   "cell_type": "code",
   "execution_count": 115,
   "metadata": {},
   "outputs": [
    {
     "data": {
      "text/plain": [
       "array([12.,  4.,  4., 12.])"
      ]
     },
     "execution_count": 115,
     "metadata": {},
     "output_type": "execute_result"
    }
   ],
   "source": [
    "paired_manhattan = paired_manhattan_distances(X1, X2)\n",
    "paired_manhattan"
   ]
  },
  {
   "cell_type": "markdown",
   "metadata": {},
   "source": [
    "<details>\n",
    "    <summary>Click here for Solution</summary>\n",
    "    \n",
    "```python\n",
    "paired_euclidean = sklearn.metrics.pairwise.paired_euclidean_distances(X1, X2)\n",
    "paired_manhattan = sklearn.metrics.pairwise.paired_manhattan_distances(X1, X2)\n",
    "```\n",
    "\n",
    "</details>\n"
   ]
  },
  {
   "cell_type": "markdown",
   "metadata": {},
   "source": [
    "## Authors\n"
   ]
  },
  {
   "cell_type": "markdown",
   "metadata": {},
   "source": [
    "[Sam Prokopchuk](https://www.linkedin.com/in/sam-prokopchuk-1908b21a0/?utm_medium=Exinfluencer&utm_source=Exinfluencer&utm_content=000026UJ&utm_term=10006555&utm_id=NA-SkillsNetwork-Channel-SkillsNetworkCoursesIBMML0187ENSkillsNetwork821-2023-01-01)\n"
   ]
  },
  {
   "cell_type": "markdown",
   "metadata": {},
   "source": [
    "### Other Contributors\n"
   ]
  },
  {
   "cell_type": "markdown",
   "metadata": {},
   "source": [
    "[Roxanne Li](https://www.linkedin.com/in/roxanne-li/?utm_medium=Exinfluencer&utm_source=Exinfluencer&utm_content=000026UJ&utm_term=10006555&utm_id=NA-SkillsNetwork-Channel-SkillsNetworkCoursesIBMML0187ENSkillsNetwork821-2023-01-01) is a Data Science intern at IBM Skills Network, entering level-5 study in the Mathematics & Statistics undergraduate Coop program at McMaster University.\n"
   ]
  },
  {
   "cell_type": "markdown",
   "metadata": {},
   "source": [
    "## Change Log\n"
   ]
  },
  {
   "cell_type": "markdown",
   "metadata": {},
   "source": [
    "|Date (YYYY-MM-DD)|Version|Changed By|Change Description|\n",
    "|-|-|-|-|\n",
    "|2021-12-20|0.1|Sam Prokopchuk|Complete Exercises' content|\n",
    "|2022-05-24|0.1|Roxanne Li|Review and edit|\n",
    "|2022-07-18|0.1|Svitlana K |Review and edit|\n"
   ]
  },
  {
   "cell_type": "markdown",
   "metadata": {},
   "source": [
    "Copyright © 2021 IBM Corporation. All rights reserved."
   ]
  }
 ],
 "metadata": {
  "kernelspec": {
   "display_name": "Python 3 (ipykernel)",
   "language": "python",
   "name": "python3"
  },
  "language_info": {
   "codemirror_mode": {
    "name": "ipython",
    "version": 3
   },
   "file_extension": ".py",
   "mimetype": "text/x-python",
   "name": "python",
   "nbconvert_exporter": "python",
   "pygments_lexer": "ipython3",
   "version": "3.11.4"
  }
 },
 "nbformat": 4,
 "nbformat_minor": 4
}
