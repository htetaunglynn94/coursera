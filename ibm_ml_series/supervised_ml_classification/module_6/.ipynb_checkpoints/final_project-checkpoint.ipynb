{
 "cells": [
  {
   "cell_type": "markdown",
   "id": "4a781210-0241-4436-a15b-eeab0ae440bb",
   "metadata": {},
   "source": [
    "# Customer Churn Data Set Analysis"
   ]
  },
  {
   "cell_type": "code",
   "execution_count": 1,
   "id": "5390f3f9-92c2-43c9-845a-3935f9eaebfa",
   "metadata": {
    "tags": []
   },
   "outputs": [],
   "source": [
    "import pandas as pd\n",
    "import numpy as np\n",
    "import matplotlib.pyplot as plt\n",
    "\n",
    "from sklearn.model_selection import train_test_split\n",
    "from sklearn.linear_model import LogisticRegression\n",
    "from sklearn.tree import DecisionTreeClassifier\n",
    "from sklearn.ensemble import RandomForestClassifier\n",
    "\n",
    "from sklearn.metrics import accuracy_score, precision_recall_fscore_support\n",
    "\n",
    "from imblearn.over_sampling import SMOTE\n",
    "from imblearn.under_sampling import RandomUnderSampler"
   ]
  },
  {
   "cell_type": "code",
   "execution_count": 17,
   "id": "1738d38b-cbd5-44fb-b3a0-a4c00da6a0ce",
   "metadata": {},
   "outputs": [],
   "source": [
    "def evaluation_metrics(test, pred):\n",
    "    accuracy = accuracy_score(test, pred)\n",
    "    precision, recall, fbeta, _ = precision_recall_fscore_support(test, \n",
    "                                                                  pred, \n",
    "                                                                  beta = 5, \n",
    "                                                                  pos_label = 1,      # default\n",
    "                                                                  average = 'binary') # default\n",
    "    \n",
    "    return [precision, recall, fbeta, accuracy]\n",
    "    "
   ]
  },
  {
   "cell_type": "code",
   "execution_count": 3,
   "id": "40829f78-c812-49fd-86a6-2ff6968e5b3f",
   "metadata": {},
   "outputs": [],
   "source": [
    "def resample(X_train, y_train):\n",
    "\n",
    "    # SMOTE sampler (Oversampling)\n",
    "    smote_sampler = SMOTE(random_state = 123)\n",
    "    # Undersampling\n",
    "    under_sampler = RandomUnderSampler(random_state = 123)\n",
    "    # Resampled datasets\n",
    "    X_smo, y_smo = smote_sampler.fit_resample(X_train, y_train)\n",
    "    X_under, y_under = under_sampler.fit_resample(X_train, y_train)\n",
    "\n",
    "    print(\"Original \\t:\", np.unique(y_train, return_counts=True))\n",
    "    print(\"SMOTE \\t\\t:\", np.unique(y_smo, return_counts=True))\n",
    "    print(\"UnderSampler \\t:\", np.unique(y_under, return_counts=True))\n",
    "\n",
    "    return X_smo, y_smo, X_under, y_under"
   ]
  },
  {
   "cell_type": "code",
   "execution_count": 9,
   "id": "8de0f801-af15-4b16-bf46-19ba03c294d2",
   "metadata": {},
   "outputs": [],
   "source": [
    "def plot_data_balancing(data):\n",
    "    ax = data.value_counts().plot.bar(color=['green','blue'])\n",
    "    for p in ax.patches:\n",
    "        width = p.get_width()\n",
    "        height = p.get_height()\n",
    "        \n",
    "        xy = (p.get_x() + width/2, height)\n",
    "        ax.annotate(f\"{height} times\",xy, va='bottom', ha='center', color='blue')\n",
    "        ax.set_title(\"Check data balancing\")\n",
    "        ax.set_xticklabels(['No','Yes'])\n",
    "        ax.set_ylabel(\"Counts\")      "
   ]
  },
  {
   "cell_type": "code",
   "execution_count": 4,
   "id": "5f10a32f-3be0-4fd3-b2bc-2dcea399a11d",
   "metadata": {},
   "outputs": [],
   "source": [
    "df = pd.read_csv('https://cf-courses-data.s3.us.cloud-object-storage.appdomain.cloud/IBM-ML201EN-SkillsNetwork/labs/module_4/datasets/im_churn.csv', index_col=False)"
   ]
  },
  {
   "cell_type": "code",
   "execution_count": 5,
   "id": "5464fb8b-0b5c-4fba-ba9f-fb2b8003856c",
   "metadata": {},
   "outputs": [
    {
     "data": {
      "text/html": [
       "<div>\n",
       "<style scoped>\n",
       "    .dataframe tbody tr th:only-of-type {\n",
       "        vertical-align: middle;\n",
       "    }\n",
       "\n",
       "    .dataframe tbody tr th {\n",
       "        vertical-align: top;\n",
       "    }\n",
       "\n",
       "    .dataframe thead th {\n",
       "        text-align: right;\n",
       "    }\n",
       "</style>\n",
       "<table border=\"1\" class=\"dataframe\">\n",
       "  <thead>\n",
       "    <tr style=\"text-align: right;\">\n",
       "      <th></th>\n",
       "      <th>tenure</th>\n",
       "      <th>MonthlyCharges</th>\n",
       "      <th>TotalCharges</th>\n",
       "      <th>Partner_0</th>\n",
       "      <th>Partner_1</th>\n",
       "      <th>Dependents_0</th>\n",
       "      <th>Dependents_1</th>\n",
       "      <th>PhoneService_0</th>\n",
       "      <th>PhoneService_1</th>\n",
       "      <th>MultipleLines_0</th>\n",
       "      <th>...</th>\n",
       "      <th>Contract_0</th>\n",
       "      <th>Contract_1</th>\n",
       "      <th>Contract_2</th>\n",
       "      <th>PaperlessBilling_0</th>\n",
       "      <th>PaperlessBilling_1</th>\n",
       "      <th>PaymentMethod_0</th>\n",
       "      <th>PaymentMethod_1</th>\n",
       "      <th>PaymentMethod_2</th>\n",
       "      <th>PaymentMethod_3</th>\n",
       "      <th>Class</th>\n",
       "    </tr>\n",
       "  </thead>\n",
       "  <tbody>\n",
       "    <tr>\n",
       "      <th>0</th>\n",
       "      <td>27</td>\n",
       "      <td>70.55</td>\n",
       "      <td>1943.90</td>\n",
       "      <td>1.0</td>\n",
       "      <td>0.0</td>\n",
       "      <td>1.0</td>\n",
       "      <td>0.0</td>\n",
       "      <td>0.0</td>\n",
       "      <td>1.0</td>\n",
       "      <td>0.0</td>\n",
       "      <td>...</td>\n",
       "      <td>1.0</td>\n",
       "      <td>0.0</td>\n",
       "      <td>0.0</td>\n",
       "      <td>1.0</td>\n",
       "      <td>0.0</td>\n",
       "      <td>1.0</td>\n",
       "      <td>0.0</td>\n",
       "      <td>0.0</td>\n",
       "      <td>0.0</td>\n",
       "      <td>0</td>\n",
       "    </tr>\n",
       "    <tr>\n",
       "      <th>1</th>\n",
       "      <td>69</td>\n",
       "      <td>93.30</td>\n",
       "      <td>6398.05</td>\n",
       "      <td>1.0</td>\n",
       "      <td>0.0</td>\n",
       "      <td>0.0</td>\n",
       "      <td>1.0</td>\n",
       "      <td>0.0</td>\n",
       "      <td>1.0</td>\n",
       "      <td>0.0</td>\n",
       "      <td>...</td>\n",
       "      <td>0.0</td>\n",
       "      <td>0.0</td>\n",
       "      <td>1.0</td>\n",
       "      <td>1.0</td>\n",
       "      <td>0.0</td>\n",
       "      <td>0.0</td>\n",
       "      <td>0.0</td>\n",
       "      <td>1.0</td>\n",
       "      <td>0.0</td>\n",
       "      <td>0</td>\n",
       "    </tr>\n",
       "    <tr>\n",
       "      <th>2</th>\n",
       "      <td>55</td>\n",
       "      <td>59.20</td>\n",
       "      <td>3175.85</td>\n",
       "      <td>0.0</td>\n",
       "      <td>1.0</td>\n",
       "      <td>1.0</td>\n",
       "      <td>0.0</td>\n",
       "      <td>0.0</td>\n",
       "      <td>1.0</td>\n",
       "      <td>0.0</td>\n",
       "      <td>...</td>\n",
       "      <td>0.0</td>\n",
       "      <td>0.0</td>\n",
       "      <td>1.0</td>\n",
       "      <td>1.0</td>\n",
       "      <td>0.0</td>\n",
       "      <td>1.0</td>\n",
       "      <td>0.0</td>\n",
       "      <td>0.0</td>\n",
       "      <td>0.0</td>\n",
       "      <td>0</td>\n",
       "    </tr>\n",
       "    <tr>\n",
       "      <th>3</th>\n",
       "      <td>49</td>\n",
       "      <td>59.60</td>\n",
       "      <td>2970.30</td>\n",
       "      <td>1.0</td>\n",
       "      <td>0.0</td>\n",
       "      <td>0.0</td>\n",
       "      <td>1.0</td>\n",
       "      <td>0.0</td>\n",
       "      <td>1.0</td>\n",
       "      <td>0.0</td>\n",
       "      <td>...</td>\n",
       "      <td>1.0</td>\n",
       "      <td>0.0</td>\n",
       "      <td>0.0</td>\n",
       "      <td>0.0</td>\n",
       "      <td>1.0</td>\n",
       "      <td>0.0</td>\n",
       "      <td>0.0</td>\n",
       "      <td>0.0</td>\n",
       "      <td>1.0</td>\n",
       "      <td>0</td>\n",
       "    </tr>\n",
       "    <tr>\n",
       "      <th>4</th>\n",
       "      <td>72</td>\n",
       "      <td>109.55</td>\n",
       "      <td>7887.25</td>\n",
       "      <td>1.0</td>\n",
       "      <td>0.0</td>\n",
       "      <td>0.0</td>\n",
       "      <td>1.0</td>\n",
       "      <td>0.0</td>\n",
       "      <td>1.0</td>\n",
       "      <td>0.0</td>\n",
       "      <td>...</td>\n",
       "      <td>0.0</td>\n",
       "      <td>0.0</td>\n",
       "      <td>1.0</td>\n",
       "      <td>0.0</td>\n",
       "      <td>1.0</td>\n",
       "      <td>0.0</td>\n",
       "      <td>0.0</td>\n",
       "      <td>0.0</td>\n",
       "      <td>1.0</td>\n",
       "      <td>0</td>\n",
       "    </tr>\n",
       "  </tbody>\n",
       "</table>\n",
       "<p>5 rows × 43 columns</p>\n",
       "</div>"
      ],
      "text/plain": [
       "   tenure  MonthlyCharges  TotalCharges  Partner_0  Partner_1  Dependents_0  \\\n",
       "0      27           70.55       1943.90        1.0        0.0           1.0   \n",
       "1      69           93.30       6398.05        1.0        0.0           0.0   \n",
       "2      55           59.20       3175.85        0.0        1.0           1.0   \n",
       "3      49           59.60       2970.30        1.0        0.0           0.0   \n",
       "4      72          109.55       7887.25        1.0        0.0           0.0   \n",
       "\n",
       "   Dependents_1  PhoneService_0  PhoneService_1  MultipleLines_0  ...  \\\n",
       "0           0.0             0.0             1.0              0.0  ...   \n",
       "1           1.0             0.0             1.0              0.0  ...   \n",
       "2           0.0             0.0             1.0              0.0  ...   \n",
       "3           1.0             0.0             1.0              0.0  ...   \n",
       "4           1.0             0.0             1.0              0.0  ...   \n",
       "\n",
       "   Contract_0  Contract_1  Contract_2  PaperlessBilling_0  PaperlessBilling_1  \\\n",
       "0         1.0         0.0         0.0                 1.0                 0.0   \n",
       "1         0.0         0.0         1.0                 1.0                 0.0   \n",
       "2         0.0         0.0         1.0                 1.0                 0.0   \n",
       "3         1.0         0.0         0.0                 0.0                 1.0   \n",
       "4         0.0         0.0         1.0                 0.0                 1.0   \n",
       "\n",
       "   PaymentMethod_0  PaymentMethod_1  PaymentMethod_2  PaymentMethod_3  Class  \n",
       "0              1.0              0.0              0.0              0.0      0  \n",
       "1              0.0              0.0              1.0              0.0      0  \n",
       "2              1.0              0.0              0.0              0.0      0  \n",
       "3              0.0              0.0              0.0              1.0      0  \n",
       "4              0.0              0.0              0.0              1.0      0  \n",
       "\n",
       "[5 rows x 43 columns]"
      ]
     },
     "execution_count": 5,
     "metadata": {},
     "output_type": "execute_result"
    }
   ],
   "source": [
    "df.head()"
   ]
  },
  {
   "cell_type": "code",
   "execution_count": 6,
   "id": "a707a0bd-2062-4073-b683-07fd1eee84ef",
   "metadata": {},
   "outputs": [
    {
     "name": "stdout",
     "output_type": "stream",
     "text": [
      "<class 'pandas.core.frame.DataFrame'>\n",
      "RangeIndex: 6174 entries, 0 to 6173\n",
      "Data columns (total 43 columns):\n",
      " #   Column              Non-Null Count  Dtype  \n",
      "---  ------              --------------  -----  \n",
      " 0   tenure              6174 non-null   int64  \n",
      " 1   MonthlyCharges      6174 non-null   float64\n",
      " 2   TotalCharges        6174 non-null   float64\n",
      " 3   Partner_0           6174 non-null   float64\n",
      " 4   Partner_1           6174 non-null   float64\n",
      " 5   Dependents_0        6174 non-null   float64\n",
      " 6   Dependents_1        6174 non-null   float64\n",
      " 7   PhoneService_0      6174 non-null   float64\n",
      " 8   PhoneService_1      6174 non-null   float64\n",
      " 9   MultipleLines_0     6174 non-null   float64\n",
      " 10  MultipleLines_1     6174 non-null   float64\n",
      " 11  MultipleLines_2     6174 non-null   float64\n",
      " 12  InternetService_0   6174 non-null   float64\n",
      " 13  InternetService_1   6174 non-null   float64\n",
      " 14  InternetService_2   6174 non-null   float64\n",
      " 15  OnlineSecurity_0    6174 non-null   float64\n",
      " 16  OnlineSecurity_1    6174 non-null   float64\n",
      " 17  OnlineSecurity_2    6174 non-null   float64\n",
      " 18  OnlineBackup_0      6174 non-null   float64\n",
      " 19  OnlineBackup_1      6174 non-null   float64\n",
      " 20  OnlineBackup_2      6174 non-null   float64\n",
      " 21  DeviceProtection_0  6174 non-null   float64\n",
      " 22  DeviceProtection_1  6174 non-null   float64\n",
      " 23  DeviceProtection_2  6174 non-null   float64\n",
      " 24  TechSupport_0       6174 non-null   float64\n",
      " 25  TechSupport_1       6174 non-null   float64\n",
      " 26  TechSupport_2       6174 non-null   float64\n",
      " 27  StreamingTV_0       6174 non-null   float64\n",
      " 28  StreamingTV_1       6174 non-null   float64\n",
      " 29  StreamingTV_2       6174 non-null   float64\n",
      " 30  StreamingMovies_0   6174 non-null   float64\n",
      " 31  StreamingMovies_1   6174 non-null   float64\n",
      " 32  StreamingMovies_2   6174 non-null   float64\n",
      " 33  Contract_0          6174 non-null   float64\n",
      " 34  Contract_1          6174 non-null   float64\n",
      " 35  Contract_2          6174 non-null   float64\n",
      " 36  PaperlessBilling_0  6174 non-null   float64\n",
      " 37  PaperlessBilling_1  6174 non-null   float64\n",
      " 38  PaymentMethod_0     6174 non-null   float64\n",
      " 39  PaymentMethod_1     6174 non-null   float64\n",
      " 40  PaymentMethod_2     6174 non-null   float64\n",
      " 41  PaymentMethod_3     6174 non-null   float64\n",
      " 42  Class               6174 non-null   int64  \n",
      "dtypes: float64(41), int64(2)\n",
      "memory usage: 2.0 MB\n"
     ]
    }
   ],
   "source": [
    "df.info()"
   ]
  },
  {
   "cell_type": "code",
   "execution_count": 7,
   "id": "f7b0a72f-c9b5-4302-8acb-b17139fa20a1",
   "metadata": {
    "tags": []
   },
   "outputs": [
    {
     "data": {
      "text/plain": [
       "(6174, 43)"
      ]
     },
     "execution_count": 7,
     "metadata": {},
     "output_type": "execute_result"
    }
   ],
   "source": [
    "df.shape"
   ]
  },
  {
   "cell_type": "code",
   "execution_count": 8,
   "id": "da2ce081-f564-48b5-8728-0206d60d5839",
   "metadata": {
    "tags": []
   },
   "outputs": [
    {
     "data": {
      "text/plain": [
       "265482"
      ]
     },
     "execution_count": 8,
     "metadata": {},
     "output_type": "execute_result"
    }
   ],
   "source": [
    "df.shape[0] * df.shape[1]"
   ]
  },
  {
   "cell_type": "code",
   "execution_count": 10,
   "id": "f86489fc-d768-4290-a9a7-3b6645c3aff1",
   "metadata": {},
   "outputs": [
    {
     "data": {
      "image/png": "[encoded data removed]",
      "text/plain": [
       "<Figure size 640x480 with 1 Axes>"
      ]
     },
     "metadata": {},
     "output_type": "display_data"
    }
   ],
   "source": [
    "plot_data_balancing(df['Class'])"
   ]
  },
  {
   "cell_type": "code",
   "execution_count": 12,
   "id": "971ac275-fdc9-49ba-8e12-569a6f17625a",
   "metadata": {},
   "outputs": [],
   "source": [
    "X = df.loc[:, df.columns != 'Class']\n",
    "y = df[['Class']]"
   ]
  },
  {
   "cell_type": "code",
   "execution_count": 13,
   "id": "f7a6dd72-7415-4241-9c51-c6b838305d78",
   "metadata": {},
   "outputs": [],
   "source": [
    "X_train, X_test, y_train, y_test = train_test_split(X, y, test_size=0.2, stratify=y, random_state=123)"
   ]
  },
  {
   "cell_type": "code",
   "execution_count": 14,
   "id": "31fa01a0-fc3b-4e8f-9e98-8026516a3bba",
   "metadata": {
    "scrolled": true
   },
   "outputs": [
    {
     "data": {
      "text/plain": [
       "(array([0, 1]), array([4139,  800]))"
      ]
     },
     "execution_count": 14,
     "metadata": {},
     "output_type": "execute_result"
    }
   ],
   "source": [
    "np.unique(y_train, return_counts=True)"
   ]
  },
  {
   "cell_type": "code",
   "execution_count": 24,
   "id": "eaf35495-edea-42b7-8eac-7cbdbd24dbb9",
   "metadata": {},
   "outputs": [],
   "source": [
    "def train_models(X_train, X_test, y_train, y_test):\n",
    "    LR = LogisticRegression(max_iter=1000).fit(X_train, y_train.values.ravel())\n",
    "    DTC = DecisionTreeClassifier(max_depth=5).fit(X_train, y_train.values.ravel())\n",
    "    RFC = RandomForestClassifier(max_depth=5).fit(X_train, y_train.values.ravel())\n",
    "    \n",
    "    pred_lr = LR.predict(X_test)\n",
    "    pred_dtc = DTC.predict(X_test)\n",
    "    pred_rfc = RFC.predict(X_test)\n",
    "\n",
    "    lr = {\"Logistic Regression\": evaluation_metrics(y_test, pred_lr)}\n",
    "    dtc = {\"Decision Tree\": evaluation_metrics(y_test, pred_dtc)}\n",
    "    rfc = {\"Random Forest\": evaluation_metrics(y_test, pred_rfc)}\n",
    "    \n",
    "    return lr\n",
    "\n",
    "    # [precision, recall, fbeta, accuracy]\n",
    "    # print()\n",
    "    # print(f\"Accuracy is: {accuracy:.2f}\")\n",
    "    # print(f\"Precision is: {precision:.2f}\")\n",
    "    # print(f\"Recall is: {recall:.2f}\")\n",
    "    # print(f\"F1-score: {fbeta:.2f}\")\n",
    "\n",
    "    "
   ]
  },
  {
   "cell_type": "code",
   "execution_count": 39,
   "id": "c51119e0-5419-4273-a504-8f7f093c6432",
   "metadata": {},
   "outputs": [
    {
     "data": {
      "text/plain": [
       "{'Logistic Regression': [0.6222222222222222,\n",
       "  0.28,\n",
       "  0.28605108055009826,\n",
       "  0.8558704453441296]}"
      ]
     },
     "execution_count": 39,
     "metadata": {},
     "output_type": "execute_result"
    }
   ],
   "source": [
    "lr = train_models(X_train, X_test, y_train, y_test)\n",
    "lr\n"
   ]
  },
  {
   "cell_type": "code",
   "execution_count": 38,
   "id": "ffd76364-3079-4166-a720-280bb3a1d96c",
   "metadata": {
    "scrolled": true
   },
   "outputs": [
    {
     "data": {
      "text/plain": [
       "0.6222222222222222"
      ]
     },
     "execution_count": 38,
     "metadata": {},
     "output_type": "execute_result"
    }
   ],
   "source": []
  },
  {
   "cell_type": "code",
   "execution_count": null,
   "id": "894f6321-bcde-4f7a-b14f-db43cc51837b",
   "metadata": {},
   "outputs": [],
   "source": []
  }
 ],
 "metadata": {
  "kernelspec": {
   "display_name": "Python 3 (ipykernel)",
   "language": "python",
   "name": "python3"
  },
  "language_info": {
   "codemirror_mode": {
    "name": "ipython",
    "version": 3
   },
   "file_extension": ".py",
   "mimetype": "text/x-python",
   "name": "python",
   "nbconvert_exporter": "python",
   "pygments_lexer": "ipython3",
   "version": "3.12.9"
  }
 },
 "nbformat": 4,
 "nbformat_minor": 5
}
