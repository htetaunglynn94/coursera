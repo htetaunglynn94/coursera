{
 "cells": [
  {
   "cell_type": "markdown",
   "id": "4a781210-0241-4436-a15b-eeab0ae440bb",
   "metadata": {},
   "source": [
    "# Customer Churn Data Set Analysis"
   ]
  },
  {
   "cell_type": "code",
   "execution_count": 1,
   "id": "5390f3f9-92c2-43c9-845a-3935f9eaebfa",
   "metadata": {
    "tags": []
   },
   "outputs": [],
   "source": [
    "# Import basic libraries\n",
    "import pandas as pd\n",
    "import numpy as np\n",
    "import matplotlib.pyplot as plt\n",
    "\n",
    "# Import sklearn libraries\n",
    "from sklearn.model_selection import train_test_split, GridSearchCV\n",
    "from sklearn.linear_model import LogisticRegression\n",
    "from sklearn.tree import DecisionTreeClassifier\n",
    "from sklearn.ensemble import RandomForestClassifier\n",
    "from sklearn.preprocessing import StandardScaler\n",
    "from sklearn.metrics import accuracy_score, precision_recall_fscore_support\n",
    "\n",
    "# Import imblearn libraries\n",
    "from imblearn.over_sampling import SMOTE\n",
    "from imblearn.under_sampling import RandomUnderSampler"
   ]
  },
  {
   "cell_type": "code",
   "execution_count": 2,
   "id": "1738d38b-cbd5-44fb-b3a0-a4c00da6a0ce",
   "metadata": {},
   "outputs": [],
   "source": [
    "def evaluation_metrics(test, pred):\n",
    "    accuracy = accuracy_score(test, pred)\n",
    "    precision, recall, fbeta, _ = precision_recall_fscore_support(test, \n",
    "                                                                  pred, \n",
    "                                                                  beta = 5, \n",
    "                                                                  pos_label = 1,      # default\n",
    "                                                                  average = 'binary') # default\n",
    "    \n",
    "    return [precision, recall, fbeta, accuracy]  "
   ]
  },
  {
   "cell_type": "code",
   "execution_count": 3,
   "id": "177deff7-f88c-4939-909c-65585af42ce1",
   "metadata": {},
   "outputs": [],
   "source": [
    "def evaluation_plot(test, pred):    \n",
    "    test_count = y_test.values.ravel() == pred_lr\n",
    "    test_count = np.unique(test_count, return_counts=True)\n",
    "    plt.pie(test_count[1], autopct='%1.1f%%', labels=['False','True'], colors=['red','green'])\n",
    "    plt.title(\"Tested and Predicted Data Comparison\")\n",
    "    plt.show()"
   ]
  },
  {
   "cell_type": "code",
   "execution_count": 4,
   "id": "40829f78-c812-49fd-86a6-2ff6968e5b3f",
   "metadata": {},
   "outputs": [],
   "source": [
    "def resample(X_train, y_train):\n",
    "\n",
    "    # SMOTE sampler (Oversampling)\n",
    "    smote_sampler = SMOTE(random_state = 123)\n",
    "    # Undersampling\n",
    "    under_sampler = RandomUnderSampler(random_state = 123)\n",
    "    # Resampled datasets\n",
    "    X_smo, y_smo = smote_sampler.fit_resample(X_train, y_train)\n",
    "    X_under, y_under = under_sampler.fit_resample(X_train, y_train)\n",
    "\n",
    "    print(\"Original \\t:\", np.unique(y_train, return_counts=True))\n",
    "    print(\"SMOTE \\t\\t:\", np.unique(y_smo, return_counts=True))\n",
    "    print(\"UnderSampler \\t:\", np.unique(y_under, return_counts=True))\n",
    "\n",
    "    return X_smo, y_smo, X_under, y_under"
   ]
  },
  {
   "cell_type": "code",
   "execution_count": 5,
   "id": "8de0f801-af15-4b16-bf46-19ba03c294d2",
   "metadata": {},
   "outputs": [],
   "source": [
    "def plot_data_balancing(data, title=\"Data balance (Original)\"):\n",
    "    ax = data.value_counts().plot.bar(color=['green','blue'])\n",
    "    for p in ax.patches:\n",
    "        width = p.get_width()\n",
    "        height = p.get_height()\n",
    "        \n",
    "        xy = (p.get_x() + width/2, height)\n",
    "        ax.annotate(f\"{height} times\",xy, va='bottom', ha='center', color='blue')\n",
    "        ax.set_title(\n",
    "            title)\n",
    "        ax.set_xticklabels(['No','Yes'])\n",
    "        ax.set_ylabel(\"Counts\")      "
   ]
  },
  {
   "cell_type": "code",
   "execution_count": 6,
   "id": "9d5674c6-929b-4ced-9b03-37d56168cab3",
   "metadata": {},
   "outputs": [],
   "source": [
    "df = pd.read_csv('im_churn.csv', index_col=False)"
   ]
  },
  {
   "cell_type": "markdown",
   "id": "e21912b1-d490-4948-8159-856c3735b047",
   "metadata": {},
   "source": [
    "```python\n",
    "df = pd.read_csv('https://cf-courses-data.s3.us.cloud-object-storage.appdomain.cloud/IBM-ML201EN-SkillsNetwork/labs/module_4/datasets/im_churn.csv', index_col=False)\n",
    "```\n"
   ]
  },
  {
   "cell_type": "code",
   "execution_count": 7,
   "id": "5464fb8b-0b5c-4fba-ba9f-fb2b8003856c",
   "metadata": {},
   "outputs": [
    {
     "data": {
      "text/html": [
       "<div>\n",
       "<style scoped>\n",
       "    .dataframe tbody tr th:only-of-type {\n",
       "        vertical-align: middle;\n",
       "    }\n",
       "\n",
       "    .dataframe tbody tr th {\n",
       "        vertical-align: top;\n",
       "    }\n",
       "\n",
       "    .dataframe thead th {\n",
       "        text-align: right;\n",
       "    }\n",
       "</style>\n",
       "<table border=\"1\" class=\"dataframe\">\n",
       "  <thead>\n",
       "    <tr style=\"text-align: right;\">\n",
       "      <th></th>\n",
       "      <th>tenure</th>\n",
       "      <th>MonthlyCharges</th>\n",
       "      <th>TotalCharges</th>\n",
       "      <th>Partner_0</th>\n",
       "      <th>Partner_1</th>\n",
       "      <th>Dependents_0</th>\n",
       "      <th>Dependents_1</th>\n",
       "      <th>PhoneService_0</th>\n",
       "      <th>PhoneService_1</th>\n",
       "      <th>MultipleLines_0</th>\n",
       "      <th>...</th>\n",
       "      <th>Contract_0</th>\n",
       "      <th>Contract_1</th>\n",
       "      <th>Contract_2</th>\n",
       "      <th>PaperlessBilling_0</th>\n",
       "      <th>PaperlessBilling_1</th>\n",
       "      <th>PaymentMethod_0</th>\n",
       "      <th>PaymentMethod_1</th>\n",
       "      <th>PaymentMethod_2</th>\n",
       "      <th>PaymentMethod_3</th>\n",
       "      <th>Class</th>\n",
       "    </tr>\n",
       "  </thead>\n",
       "  <tbody>\n",
       "    <tr>\n",
       "      <th>0</th>\n",
       "      <td>27</td>\n",
       "      <td>70.55</td>\n",
       "      <td>1943.90</td>\n",
       "      <td>1.0</td>\n",
       "      <td>0.0</td>\n",
       "      <td>1.0</td>\n",
       "      <td>0.0</td>\n",
       "      <td>0.0</td>\n",
       "      <td>1.0</td>\n",
       "      <td>0.0</td>\n",
       "      <td>...</td>\n",
       "      <td>1.0</td>\n",
       "      <td>0.0</td>\n",
       "      <td>0.0</td>\n",
       "      <td>1.0</td>\n",
       "      <td>0.0</td>\n",
       "      <td>1.0</td>\n",
       "      <td>0.0</td>\n",
       "      <td>0.0</td>\n",
       "      <td>0.0</td>\n",
       "      <td>0</td>\n",
       "    </tr>\n",
       "    <tr>\n",
       "      <th>1</th>\n",
       "      <td>69</td>\n",
       "      <td>93.30</td>\n",
       "      <td>6398.05</td>\n",
       "      <td>1.0</td>\n",
       "      <td>0.0</td>\n",
       "      <td>0.0</td>\n",
       "      <td>1.0</td>\n",
       "      <td>0.0</td>\n",
       "      <td>1.0</td>\n",
       "      <td>0.0</td>\n",
       "      <td>...</td>\n",
       "      <td>0.0</td>\n",
       "      <td>0.0</td>\n",
       "      <td>1.0</td>\n",
       "      <td>1.0</td>\n",
       "      <td>0.0</td>\n",
       "      <td>0.0</td>\n",
       "      <td>0.0</td>\n",
       "      <td>1.0</td>\n",
       "      <td>0.0</td>\n",
       "      <td>0</td>\n",
       "    </tr>\n",
       "    <tr>\n",
       "      <th>2</th>\n",
       "      <td>55</td>\n",
       "      <td>59.20</td>\n",
       "      <td>3175.85</td>\n",
       "      <td>0.0</td>\n",
       "      <td>1.0</td>\n",
       "      <td>1.0</td>\n",
       "      <td>0.0</td>\n",
       "      <td>0.0</td>\n",
       "      <td>1.0</td>\n",
       "      <td>0.0</td>\n",
       "      <td>...</td>\n",
       "      <td>0.0</td>\n",
       "      <td>0.0</td>\n",
       "      <td>1.0</td>\n",
       "      <td>1.0</td>\n",
       "      <td>0.0</td>\n",
       "      <td>1.0</td>\n",
       "      <td>0.0</td>\n",
       "      <td>0.0</td>\n",
       "      <td>0.0</td>\n",
       "      <td>0</td>\n",
       "    </tr>\n",
       "    <tr>\n",
       "      <th>3</th>\n",
       "      <td>49</td>\n",
       "      <td>59.60</td>\n",
       "      <td>2970.30</td>\n",
       "      <td>1.0</td>\n",
       "      <td>0.0</td>\n",
       "      <td>0.0</td>\n",
       "      <td>1.0</td>\n",
       "      <td>0.0</td>\n",
       "      <td>1.0</td>\n",
       "      <td>0.0</td>\n",
       "      <td>...</td>\n",
       "      <td>1.0</td>\n",
       "      <td>0.0</td>\n",
       "      <td>0.0</td>\n",
       "      <td>0.0</td>\n",
       "      <td>1.0</td>\n",
       "      <td>0.0</td>\n",
       "      <td>0.0</td>\n",
       "      <td>0.0</td>\n",
       "      <td>1.0</td>\n",
       "      <td>0</td>\n",
       "    </tr>\n",
       "    <tr>\n",
       "      <th>4</th>\n",
       "      <td>72</td>\n",
       "      <td>109.55</td>\n",
       "      <td>7887.25</td>\n",
       "      <td>1.0</td>\n",
       "      <td>0.0</td>\n",
       "      <td>0.0</td>\n",
       "      <td>1.0</td>\n",
       "      <td>0.0</td>\n",
       "      <td>1.0</td>\n",
       "      <td>0.0</td>\n",
       "      <td>...</td>\n",
       "      <td>0.0</td>\n",
       "      <td>0.0</td>\n",
       "      <td>1.0</td>\n",
       "      <td>0.0</td>\n",
       "      <td>1.0</td>\n",
       "      <td>0.0</td>\n",
       "      <td>0.0</td>\n",
       "      <td>0.0</td>\n",
       "      <td>1.0</td>\n",
       "      <td>0</td>\n",
       "    </tr>\n",
       "  </tbody>\n",
       "</table>\n",
       "<p>5 rows × 43 columns</p>\n",
       "</div>"
      ],
      "text/plain": [
       "   tenure  MonthlyCharges  TotalCharges  Partner_0  Partner_1  Dependents_0  \\\n",
       "0      27           70.55       1943.90        1.0        0.0           1.0   \n",
       "1      69           93.30       6398.05        1.0        0.0           0.0   \n",
       "2      55           59.20       3175.85        0.0        1.0           1.0   \n",
       "3      49           59.60       2970.30        1.0        0.0           0.0   \n",
       "4      72          109.55       7887.25        1.0        0.0           0.0   \n",
       "\n",
       "   Dependents_1  PhoneService_0  PhoneService_1  MultipleLines_0  ...  \\\n",
       "0           0.0             0.0             1.0              0.0  ...   \n",
       "1           1.0             0.0             1.0              0.0  ...   \n",
       "2           0.0             0.0             1.0              0.0  ...   \n",
       "3           1.0             0.0             1.0              0.0  ...   \n",
       "4           1.0             0.0             1.0              0.0  ...   \n",
       "\n",
       "   Contract_0  Contract_1  Contract_2  PaperlessBilling_0  PaperlessBilling_1  \\\n",
       "0         1.0         0.0         0.0                 1.0                 0.0   \n",
       "1         0.0         0.0         1.0                 1.0                 0.0   \n",
       "2         0.0         0.0         1.0                 1.0                 0.0   \n",
       "3         1.0         0.0         0.0                 0.0                 1.0   \n",
       "4         0.0         0.0         1.0                 0.0                 1.0   \n",
       "\n",
       "   PaymentMethod_0  PaymentMethod_1  PaymentMethod_2  PaymentMethod_3  Class  \n",
       "0              1.0              0.0              0.0              0.0      0  \n",
       "1              0.0              0.0              1.0              0.0      0  \n",
       "2              1.0              0.0              0.0              0.0      0  \n",
       "3              0.0              0.0              0.0              1.0      0  \n",
       "4              0.0              0.0              0.0              1.0      0  \n",
       "\n",
       "[5 rows x 43 columns]"
      ]
     },
     "execution_count": 7,
     "metadata": {},
     "output_type": "execute_result"
    }
   ],
   "source": [
    "df.head()"
   ]
  },
  {
   "cell_type": "code",
   "execution_count": 8,
   "id": "a707a0bd-2062-4073-b683-07fd1eee84ef",
   "metadata": {},
   "outputs": [
    {
     "name": "stdout",
     "output_type": "stream",
     "text": [
      "<class 'pandas.core.frame.DataFrame'>\n",
      "RangeIndex: 6174 entries, 0 to 6173\n",
      "Data columns (total 43 columns):\n",
      " #   Column              Non-Null Count  Dtype  \n",
      "---  ------              --------------  -----  \n",
      " 0   tenure              6174 non-null   int64  \n",
      " 1   MonthlyCharges      6174 non-null   float64\n",
      " 2   TotalCharges        6174 non-null   float64\n",
      " 3   Partner_0           6174 non-null   float64\n",
      " 4   Partner_1           6174 non-null   float64\n",
      " 5   Dependents_0        6174 non-null   float64\n",
      " 6   Dependents_1        6174 non-null   float64\n",
      " 7   PhoneService_0      6174 non-null   float64\n",
      " 8   PhoneService_1      6174 non-null   float64\n",
      " 9   MultipleLines_0     6174 non-null   float64\n",
      " 10  MultipleLines_1     6174 non-null   float64\n",
      " 11  MultipleLines_2     6174 non-null   float64\n",
      " 12  InternetService_0   6174 non-null   float64\n",
      " 13  InternetService_1   6174 non-null   float64\n",
      " 14  InternetService_2   6174 non-null   float64\n",
      " 15  OnlineSecurity_0    6174 non-null   float64\n",
      " 16  OnlineSecurity_1    6174 non-null   float64\n",
      " 17  OnlineSecurity_2    6174 non-null   float64\n",
      " 18  OnlineBackup_0      6174 non-null   float64\n",
      " 19  OnlineBackup_1      6174 non-null   float64\n",
      " 20  OnlineBackup_2      6174 non-null   float64\n",
      " 21  DeviceProtection_0  6174 non-null   float64\n",
      " 22  DeviceProtection_1  6174 non-null   float64\n",
      " 23  DeviceProtection_2  6174 non-null   float64\n",
      " 24  TechSupport_0       6174 non-null   float64\n",
      " 25  TechSupport_1       6174 non-null   float64\n",
      " 26  TechSupport_2       6174 non-null   float64\n",
      " 27  StreamingTV_0       6174 non-null   float64\n",
      " 28  StreamingTV_1       6174 non-null   float64\n",
      " 29  StreamingTV_2       6174 non-null   float64\n",
      " 30  StreamingMovies_0   6174 non-null   float64\n",
      " 31  StreamingMovies_1   6174 non-null   float64\n",
      " 32  StreamingMovies_2   6174 non-null   float64\n",
      " 33  Contract_0          6174 non-null   float64\n",
      " 34  Contract_1          6174 non-null   float64\n",
      " 35  Contract_2          6174 non-null   float64\n",
      " 36  PaperlessBilling_0  6174 non-null   float64\n",
      " 37  PaperlessBilling_1  6174 non-null   float64\n",
      " 38  PaymentMethod_0     6174 non-null   float64\n",
      " 39  PaymentMethod_1     6174 non-null   float64\n",
      " 40  PaymentMethod_2     6174 non-null   float64\n",
      " 41  PaymentMethod_3     6174 non-null   float64\n",
      " 42  Class               6174 non-null   int64  \n",
      "dtypes: float64(41), int64(2)\n",
      "memory usage: 2.0 MB\n"
     ]
    }
   ],
   "source": [
    "df.info()"
   ]
  },
  {
   "cell_type": "code",
   "execution_count": 9,
   "id": "f7b0a72f-c9b5-4302-8acb-b17139fa20a1",
   "metadata": {
    "tags": []
   },
   "outputs": [
    {
     "data": {
      "text/plain": [
       "(6174, 43)"
      ]
     },
     "execution_count": 9,
     "metadata": {},
     "output_type": "execute_result"
    }
   ],
   "source": [
    "df.shape"
   ]
  },
  {
   "cell_type": "code",
   "execution_count": 10,
   "id": "da2ce081-f564-48b5-8728-0206d60d5839",
   "metadata": {
    "tags": []
   },
   "outputs": [
    {
     "data": {
      "text/plain": [
       "265482"
      ]
     },
     "execution_count": 10,
     "metadata": {},
     "output_type": "execute_result"
    }
   ],
   "source": [
    "df.shape[0] * df.shape[1]"
   ]
  },
  {
   "cell_type": "code",
   "execution_count": 11,
   "id": "f86489fc-d768-4290-a9a7-3b6645c3aff1",
   "metadata": {},
   "outputs": [
    {
     "data": {
      "image/png": "[encoded data removed]",
      "text/plain": [
       "<Figure size 640x480 with 1 Axes>"
      ]
     },
     "metadata": {},
     "output_type": "display_data"
    }
   ],
   "source": [
    "plot_data_balancing(df['Class'])"
   ]
  },
  {
   "cell_type": "code",
   "execution_count": 12,
   "id": "971ac275-fdc9-49ba-8e12-569a6f17625a",
   "metadata": {},
   "outputs": [],
   "source": [
    "X = df.loc[:, df.columns != 'Class']\n",
    "y = df[['Class']]"
   ]
  },
  {
   "cell_type": "code",
   "execution_count": 13,
   "id": "f7a6dd72-7415-4241-9c51-c6b838305d78",
   "metadata": {},
   "outputs": [],
   "source": [
    "X_train, X_test, y_train, y_test = train_test_split(X, y, test_size=0.2, stratify=y, random_state=123)"
   ]
  },
  {
   "cell_type": "code",
   "execution_count": 14,
   "id": "f4902483-a34a-492f-8371-4bd7e4ff0c95",
   "metadata": {},
   "outputs": [],
   "source": [
    "ss = StandardScaler()\n",
    "X_train_s = ss.fit_transform(X_train)\n",
    "X_test_s  = ss.transform(X_test)"
   ]
  },
  {
   "cell_type": "code",
   "execution_count": 15,
   "id": "31fa01a0-fc3b-4e8f-9e98-8026516a3bba",
   "metadata": {
    "scrolled": true
   },
   "outputs": [
    {
     "data": {
      "text/plain": [
       "(array([0, 1]), array([4139,  800]))"
      ]
     },
     "execution_count": 15,
     "metadata": {},
     "output_type": "execute_result"
    }
   ],
   "source": [
    "np.unique(y_train, return_counts=True)"
   ]
  },
  {
   "cell_type": "code",
   "execution_count": 16,
   "id": "09a5a04a-fce7-469e-8e6f-59a26aabb4e1",
   "metadata": {},
   "outputs": [],
   "source": [
    "rs = 123\n",
    "\n",
    "# LINEAR REGRESSION\n",
    "def find_best_params_LR(X_train, y_train):\n",
    "    parameters = {'class_weight': [{0:0.05, 1:0.95}, {0:0.1, 1:0.9}, {0:0.2, 1:0.8}]}\n",
    "    lr = LogisticRegression(random_state=rs, max_iter=1000)\n",
    "    gs = GridSearchCV(estimator = lr, \n",
    "                      param_grid = parameters, \n",
    "                      scoring = 'f1', \n",
    "                      cv = 5, \n",
    "                      verbose = 1)\n",
    "    gs.fit(X_train, y_train.values.ravel())\n",
    "    best_params = gs.best_params_\n",
    "    return gs, best_params\n",
    "\n",
    "# DECISION TREE\n",
    "def find_best_params_DT(X_train, y_train):\n",
    "    parameters = {'max_depth': [5,10,15,20], \n",
    "                  'class_weight': [{0:0.1, 1:0.9}, {0:0.2, 1:0.8}, {0:0.3, 1:0.7}],\n",
    "                  'min_samples_split': [2,5]}\n",
    "    dtc = DecisionTreeClassifier(random_state=rs)\n",
    "    gs  = GridSearchCV(estimator = dtc, \n",
    "                       param_grid = parameters, \n",
    "                       scoring='f1', \n",
    "                       cv = 5, \n",
    "                       verbose = 1)\n",
    "    gs.fit(X_train, y_train.values.ravel())\n",
    "    best_params = gs.best_params_\n",
    "    return gs, best_params\n",
    "\n",
    "# RANDOMFOREST \n",
    "def find_best_params_RF(X_train, y_train):\n",
    "    parameters = {'max_depth': [5, 10, 15, 20],\n",
    "                  'n_estimators': [25, 50, 100],\n",
    "                  'min_samples_split': [2, 5],\n",
    "                  'class_weight': [{0:0.1, 1:0.9}, {0:0.2, 1:0.8}, {0:0.3, 1:0.7}]}\n",
    "    rf = RandomForestClassifier(random_state=rs)\n",
    "    gs = GridSearchCV(estimator = rf, \n",
    "                      param_grid = parameters, \n",
    "                      scoring = 'f1', \n",
    "                      cv = 5, \n",
    "                      verbose = 1)\n",
    "    gs.fit(X_train, y_train.values.ravel())\n",
    "    best_params = gs.best_params_\n",
    "    return gs, best_params"
   ]
  },
  {
   "cell_type": "code",
   "execution_count": 17,
   "id": "eaf35495-edea-42b7-8eac-7cbdbd24dbb9",
   "metadata": {},
   "outputs": [],
   "source": [
    "def train_models(X_train, X_test, y_train, y_test):\n",
    "    LR, lr_params = find_best_params_LR(X_train, y_train)\n",
    "    DTC, dtc_params = find_best_params_DT(X_train, y_train)\n",
    "    RFC, rf_params = find_best_params_RF(X_train, y_train)\n",
    "    \n",
    "    pred_lr = LR.predict(X_test)\n",
    "    pred_dtc = DTC.predict(X_test)\n",
    "    pred_rfc = RFC.predict(X_test)\n",
    "\n",
    "    lr = evaluation_metrics(y_test, pred_lr)\n",
    "    dtc = evaluation_metrics(y_test, pred_dtc)\n",
    "    rfc = evaluation_metrics(y_test, pred_rfc)\n",
    "\n",
    "    # Linear Regression evaluation scores\n",
    "    # FORMAT --> [precision, recall, fbeta, accuracy]\n",
    "    print('Linear Regression')\n",
    "    print('-' * 25)\n",
    "    print(f'Best parameters\\t: {lr_params}')\n",
    "    print(f\"Precision\\t: {lr[0]:.2f}\")\n",
    "    print(f\"Recall\\t\\t: {lr[1]:.2f}\")\n",
    "    print(f\"F-score\\t\\t: {lr[2]:.2f}\")\n",
    "    print(f\"Accuracy\\t: {lr[3]:.2f}\")\n",
    "    print('-' * 25)\n",
    "\n",
    "    # Decision Tree evaluation scores\n",
    "    print('Decision Tree')\n",
    "    print('-' * 25)\n",
    "    print(f'Best parameters\\t: {dtc_params}')\n",
    "    print(f\"Precision\\t: {dtc[0]:.2f}\")\n",
    "    print(f\"Recall\\t\\t: {dtc[1]:.2f}\")\n",
    "    print(f\"F-score\\t\\t: {dtc[2]:.2f}\")\n",
    "    print(f\"Accuracy\\t: {dtc[3]:.2f}\")\n",
    "    print('-' * 25)\n",
    "    \n",
    "    # Random Forest evaluation scores\n",
    "    print('Random Forest')\n",
    "    print('-' * 25)\n",
    "    print(f'Best parameters\\t: {rf_params}')\n",
    "    print(f\"Precision\\t: {rfc[0]:.2f}\")\n",
    "    print(f\"Recall\\t\\t: {rfc[1]:.2f}\")\n",
    "    print(f\"F-score\\t\\t: {rfc[2]:.2f}\")\n",
    "    print(f\"Accuracy\\t: {rfc[3]:.2f}\")\n",
    "\n",
    "    return pred_lr, pred_dtc, pred_rfc\n",
    "    "
   ]
  },
  {
   "cell_type": "markdown",
   "id": "c2a46eec-d264-4979-b625-f530461c4097",
   "metadata": {},
   "source": [
    "## BEFORE RESAMPLING"
   ]
  },
  {
   "cell_type": "code",
   "execution_count": 18,
   "id": "c51119e0-5419-4273-a504-8f7f093c6432",
   "metadata": {
    "scrolled": true
   },
   "outputs": [
    {
     "name": "stdout",
     "output_type": "stream",
     "text": [
      "Fitting 5 folds for each of 3 candidates, totalling 15 fits\n",
      "Fitting 5 folds for each of 24 candidates, totalling 120 fits\n",
      "Fitting 5 folds for each of 72 candidates, totalling 360 fits\n",
      "Linear Regression\n",
      "-------------------------\n",
      "Best parameters\t: {'class_weight': {0: 0.2, 1: 0.8}}\n",
      "Precision\t: 0.39\n",
      "Recall\t\t: 0.75\n",
      "F-score\t\t: 0.72\n",
      "Accuracy\t: 0.77\n",
      "-------------------------\n",
      "Decision Tree\n",
      "-------------------------\n",
      "Best parameters\t: {'class_weight': {0: 0.3, 1: 0.7}, 'max_depth': 5, 'min_samples_split': 2}\n",
      "Precision\t: 0.44\n",
      "Recall\t\t: 0.58\n",
      "F-score\t\t: 0.58\n",
      "Accuracy\t: 0.81\n",
      "-------------------------\n",
      "Random Forest\n",
      "-------------------------\n",
      "Best parameters\t: {'class_weight': {0: 0.1, 1: 0.9}, 'max_depth': 10, 'min_samples_split': 2, 'n_estimators': 50}\n",
      "Precision\t: 0.38\n",
      "Recall\t\t: 0.72\n",
      "F-score\t\t: 0.70\n",
      "Accuracy\t: 0.77\n"
     ]
    }
   ],
   "source": [
    "pred_lr, pred_dtc, pred_rfc = train_models(X_train_s, X_test_s, y_train, y_test)"
   ]
  },
  {
   "cell_type": "markdown",
   "id": "ccf878c1-c189-4fbb-adb1-565d2b13d652",
   "metadata": {
    "scrolled": true
   },
   "source": [
    "## AFTER RESAMPLING"
   ]
  },
  {
   "cell_type": "code",
   "execution_count": 19,
   "id": "894f6321-bcde-4f7a-b14f-db43cc51837b",
   "metadata": {},
   "outputs": [],
   "source": [
    "def resample(train1, train2):\n",
    "    train1_smt, train2_smt = SMOTE(random_state = 123).fit_resample(train1, train2)\n",
    "    train1_rus, train2_rus = RandomUnderSampler(random_state = 123).fit_resample(train1, train2)\n",
    "    print(f'Original\\t : {np.unique(train2, return_counts=True)}')\n",
    "    print(f'Up-sample \\t : {np.unique(train2_smt, return_counts=True)}')\n",
    "    print(f'Down-sample\\t : {np.unique(train2_rus, return_counts=True)}')\n",
    "\n",
    "    return train1_smt, train2_smt, train1_rus, train2_rus"
   ]
  },
  {
   "cell_type": "code",
   "execution_count": 20,
   "id": "13f556c7-77ed-45a2-b852-488ad974f941",
   "metadata": {
    "scrolled": true
   },
   "outputs": [
    {
     "name": "stdout",
     "output_type": "stream",
     "text": [
      "Original\t : (array([0, 1]), array([4139,  800]))\n",
      "Up-sample \t : (array([0, 1]), array([4139, 4139]))\n",
      "Down-sample\t : (array([0, 1]), array([800, 800]))\n"
     ]
    }
   ],
   "source": [
    "X_train_sm, y_train_sm, X_train_under, y_train_under = resample(X_train_s, y_train)"
   ]
  },
  {
   "cell_type": "code",
   "execution_count": 21,
   "id": "00fc9e70-3819-4e95-9880-a66c908be807",
   "metadata": {},
   "outputs": [
    {
     "data": {
      "image/png": "[encoded data removed]",
      "text/plain": [
       "<Figure size 640x480 with 1 Axes>"
      ]
     },
     "metadata": {},
     "output_type": "display_data"
    }
   ],
   "source": [
    "plot_data_balancing(y_train_sm, \"Data balance (after upsampling)\")"
   ]
  },
  {
   "cell_type": "code",
   "execution_count": 22,
   "id": "f1d7e59f-b2fb-4b68-8b41-33e050075943",
   "metadata": {},
   "outputs": [
    {
     "data": {
      "image/png": "[encoded data removed]",
      "text/plain": [
       "<Figure size 640x480 with 1 Axes>"
      ]
     },
     "metadata": {},
     "output_type": "display_data"
    }
   ],
   "source": [
    "plot_data_balancing(y_train_under, \"Data balance (after downsampling)\")"
   ]
  },
  {
   "cell_type": "markdown",
   "id": "3b3538af-b83d-4ead-b024-f5329ab67aa7",
   "metadata": {},
   "source": [
    "### Upsampling model"
   ]
  },
  {
   "cell_type": "code",
   "execution_count": 23,
   "id": "8955243b-601f-4e3a-885e-291d82822711",
   "metadata": {},
   "outputs": [
    {
     "name": "stdout",
     "output_type": "stream",
     "text": [
      "Fitting 5 folds for each of 3 candidates, totalling 15 fits\n",
      "Fitting 5 folds for each of 24 candidates, totalling 120 fits\n",
      "Fitting 5 folds for each of 72 candidates, totalling 360 fits\n",
      "Linear Regression\n",
      "-------------------------\n",
      "Best parameters\t: {'class_weight': {0: 0.2, 1: 0.8}}\n",
      "Precision\t: 0.27\n",
      "Recall\t\t: 0.94\n",
      "F-score\t\t: 0.86\n",
      "Accuracy\t: 0.58\n",
      "-------------------------\n",
      "Decision Tree\n",
      "-------------------------\n",
      "Best parameters\t: {'class_weight': {0: 0.2, 1: 0.8}, 'max_depth': 15, 'min_samples_split': 2}\n",
      "Precision\t: 0.38\n",
      "Recall\t\t: 0.59\n",
      "F-score\t\t: 0.58\n",
      "Accuracy\t: 0.78\n",
      "-------------------------\n",
      "Random Forest\n",
      "-------------------------\n",
      "Best parameters\t: {'class_weight': {0: 0.2, 1: 0.8}, 'max_depth': 20, 'min_samples_split': 2, 'n_estimators': 50}\n",
      "Precision\t: 0.47\n",
      "Recall\t\t: 0.52\n",
      "F-score\t\t: 0.52\n",
      "Accuracy\t: 0.83\n"
     ]
    },
    {
     "data": {
      "text/plain": [
       "(array([1, 1, 0, ..., 1, 0, 1], shape=(1235,)),\n",
       " array([0, 0, 0, ..., 0, 0, 0], shape=(1235,)),\n",
       " array([0, 0, 0, ..., 0, 0, 0], shape=(1235,)))"
      ]
     },
     "execution_count": 23,
     "metadata": {},
     "output_type": "execute_result"
    }
   ],
   "source": [
    "train_models(X_train_sm, X_test_s, y_train_sm, y_test)"
   ]
  },
  {
   "cell_type": "markdown",
   "id": "a84cc784-2a04-4b39-becb-d1dc96a43448",
   "metadata": {},
   "source": [
    "### Downsampling model"
   ]
  },
  {
   "cell_type": "code",
   "execution_count": 24,
   "id": "fdf2df39-826e-4e26-b55d-e9ceffb7ba0d",
   "metadata": {},
   "outputs": [
    {
     "name": "stdout",
     "output_type": "stream",
     "text": [
      "Fitting 5 folds for each of 3 candidates, totalling 15 fits\n",
      "Fitting 5 folds for each of 24 candidates, totalling 120 fits\n",
      "Fitting 5 folds for each of 72 candidates, totalling 360 fits\n",
      "Linear Regression\n",
      "-------------------------\n",
      "Best parameters\t: {'class_weight': {0: 0.2, 1: 0.8}}\n",
      "Precision\t: 0.26\n",
      "Recall\t\t: 0.96\n",
      "F-score\t\t: 0.87\n",
      "Accuracy\t: 0.54\n",
      "-------------------------\n",
      "Decision Tree\n",
      "-------------------------\n",
      "Best parameters\t: {'class_weight': {0: 0.3, 1: 0.7}, 'max_depth': 5, 'min_samples_split': 2}\n",
      "Precision\t: 0.26\n",
      "Recall\t\t: 0.90\n",
      "F-score\t\t: 0.82\n",
      "Accuracy\t: 0.57\n",
      "-------------------------\n",
      "Random Forest\n",
      "-------------------------\n",
      "Best parameters\t: {'class_weight': {0: 0.2, 1: 0.8}, 'max_depth': 10, 'min_samples_split': 5, 'n_estimators': 50}\n",
      "Precision\t: 0.32\n",
      "Recall\t\t: 0.91\n",
      "F-score\t\t: 0.85\n",
      "Accuracy\t: 0.67\n"
     ]
    },
    {
     "data": {
      "text/plain": [
       "(array([1, 1, 0, ..., 1, 0, 1], shape=(1235,)),\n",
       " array([1, 1, 0, ..., 1, 1, 1], shape=(1235,)),\n",
       " array([1, 1, 0, ..., 1, 0, 0], shape=(1235,)))"
      ]
     },
     "execution_count": 24,
     "metadata": {},
     "output_type": "execute_result"
    }
   ],
   "source": [
    "train_models(X_train_under, X_test_s, y_train_under, y_test)"
   ]
  },
  {
   "cell_type": "code",
   "execution_count": 25,
   "id": "66da2e96-648d-4caf-a060-ed037a1d3073",
   "metadata": {},
   "outputs": [
    {
     "ename": "TypeError",
     "evalue": "evaluation_plot() missing 2 required positional arguments: 'test' and 'pred'",
     "output_type": "error",
     "traceback": [
      "\u001b[31m---------------------------------------------------------------------------\u001b[39m",
      "\u001b[31mTypeError\u001b[39m                                 Traceback (most recent call last)",
      "\u001b[36mCell\u001b[39m\u001b[36m \u001b[39m\u001b[32mIn[25]\u001b[39m\u001b[32m, line 1\u001b[39m\n\u001b[32m----> \u001b[39m\u001b[32m1\u001b[39m \u001b[43mevaluation_plot\u001b[49m\u001b[43m(\u001b[49m\u001b[43m)\u001b[49m\n",
      "\u001b[31mTypeError\u001b[39m: evaluation_plot() missing 2 required positional arguments: 'test' and 'pred'"
     ]
    }
   ],
   "source": [
    "evaluation_plot(test, pred)"
   ]
  },
  {
   "cell_type": "code",
   "execution_count": null,
   "id": "86fb4e7b-d449-40a2-83c5-ceabc72c1c9d",
   "metadata": {},
   "outputs": [],
   "source": []
  }
 ],
 "metadata": {
  "kernelspec": {
   "display_name": "Python 3 (ipykernel)",
   "language": "python",
   "name": "python3"
  },
  "language_info": {
   "codemirror_mode": {
    "name": "ipython",
    "version": 3
   },
   "file_extension": ".py",
   "mimetype": "text/x-python",
   "name": "python",
   "nbconvert_exporter": "python",
   "pygments_lexer": "ipython3",
   "version": "3.12.9"
  }
 },
 "nbformat": 4,
 "nbformat_minor": 5
}
