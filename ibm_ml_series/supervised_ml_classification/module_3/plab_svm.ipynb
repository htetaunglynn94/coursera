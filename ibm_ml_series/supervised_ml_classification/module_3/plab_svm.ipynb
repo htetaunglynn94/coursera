{
  "metadata": {
    "kernelspec": {
      "name": "python",
      "display_name": "Python (Pyodide)",
      "language": "python"
    },
    "language_info": {
      "codemirror_mode": {
        "name": "python",
        "version": 3
      },
      "file_extension": ".py",
      "mimetype": "text/x-python",
      "name": "python",
      "nbconvert_exporter": "python",
      "pygments_lexer": "ipython3",
      "version": "3.8"
    },
    "prev_pub_hash": "df2b53469011535377ca995157a339b1cc22f860a94c1d2d8b614c6b40f41da0"
  },
  "nbformat_minor": 4,
  "nbformat": 4,
  "cells": [
    {
      "cell_type": "markdown",
      "source": "<p style=\"text-align:center\">\n    <a href=\"https://skills.network\" target=\"_blank\">\n    <img src=\"https://cf-courses-data.s3.us.cloud-object-storage.appdomain.cloud/assets/logos/SN_web_lightmode.png\" width=\"200\" alt=\"Skills Network Logo\">\n    </a>\n</p>\n",
      "metadata": {}
    },
    {
      "cell_type": "markdown",
      "source": "# **Support Vector Machine**\n",
      "metadata": {}
    },
    {
      "cell_type": "markdown",
      "source": "Estimated time needed: **30** minutes\n",
      "metadata": {}
    },
    {
      "cell_type": "markdown",
      "source": "In this lab, you will learn and obtain hands-on practices on Support Vector Machine model.\n",
      "metadata": {}
    },
    {
      "cell_type": "markdown",
      "source": "We will be using a real-world diabetes food items suggestion dataset, which contains detailed nutrition information about a food item. The objective is to classify what food a diabetic patient should choose More Often or Less Often for a specific food item given its nutrients.\n",
      "metadata": {}
    },
    {
      "cell_type": "markdown",
      "source": "## Objectives\n",
      "metadata": {}
    },
    {
      "cell_type": "markdown",
      "source": "After completing this lab you will be able to:\n",
      "metadata": {}
    },
    {
      "cell_type": "markdown",
      "source": "*   Train and evaluate SVM classifiers\n*   Tune important SVM hyperparameters such as regularization and kernel types\n*   Plot hyperplanes and margins from trained SVM models\n",
      "metadata": {}
    },
    {
      "cell_type": "markdown",
      "source": "## SVM Overview\n",
      "metadata": {}
    },
    {
      "cell_type": "markdown",
      "source": "SVM tries to find hyperplanes that have the maximum margin. The hyperplanes are determined by support vectors (data points have the smallest distance to the hyperplanes). Meanwhile, in order to reduce model variance, the SVM model aims to find the maximum possible margins so that unseen data will be more likely to be classified correctly.\n",
      "metadata": {}
    },
    {
      "cell_type": "markdown",
      "source": "<center>\n    <img src=\"https://cf-courses-data.s3.us.cloud-object-storage.appdomain.cloud/IBM-ML241EN-SkillsNetwork/labs/module3_svm/images/svm.png\" width=\"720\" alt=\"evaluation metrics\">\n</center>\n",
      "metadata": {}
    },
    {
      "cell_type": "markdown",
      "source": "SVM addresses non-linear separable via kernel trick. Kernels are a special type of function that takes two vectors and returns a real number, like a dot-product operation. As such, kernels are not any real mapping functions from low dimensional spaces to high dimensional spaces.\n",
      "metadata": {}
    },
    {
      "cell_type": "markdown",
      "source": "For example, suppose we have two vectors $x = (x_{1}, x_{2})$ and $y = (y_{1}, y_{2})$\n",
      "metadata": {}
    },
    {
      "cell_type": "markdown",
      "source": "Now we have a simple polynomial kernel like the following:\n",
      "metadata": {}
    },
    {
      "cell_type": "markdown",
      "source": "<div style=\"font-size:25px\">\n$$k(x, y) = (x^Ty)^2$$\n</div>",
      "metadata": {}
    },
    {
      "cell_type": "markdown",
      "source": "If we apply the kernel on vector `x` and `y`, we will get:\n",
      "metadata": {}
    },
    {
      "cell_type": "markdown",
      "source": "<div style= \"font-size: 25px\">\n$$\\displaystyle k(x, y) = (x^Ty)^2 = (x_{1}y_{1} + x_{2}y_{2})^2 = x_{1}^2y_{1}^2 + x_{2}^2y_{2}^2 + 2x_{1}x_{2}y_{1}y_{2}$$\n</div>",
      "metadata": {}
    },
    {
      "cell_type": "markdown",
      "source": "$\\displaystyle k(x,y) = (x^Ty)^2 = (x_1y_1+x_2y_2)^2 = $",
      "metadata": {}
    },
    {
      "cell_type": "markdown",
      "source": "It can be seen as a dot-product between two higher-dimensional vectors (`3-dimensional`):\n",
      "metadata": {}
    },
    {
      "cell_type": "markdown",
      "source": "<div style=\"font-size: 25px\">\n$$\\hat{x} = (x_{1}^2, x_{2}^2, \\sqrt{2}x_{1}x_{2}) $$\n</div>",
      "metadata": {}
    },
    {
      "cell_type": "markdown",
      "source": "<div style=\"font-size: 25px\">\n$$\\hat{y} = (y_{1}^2, x_{2}^2, \\sqrt{2}y_{1}y_{2})$$\n</div>",
      "metadata": {}
    },
    {
      "cell_type": "markdown",
      "source": "As such, computing the `k(x, y)` is equivalent to computing a dot-product of the higher dimensional vectors, without doing the actual feature space transforms. Consequently, SVM with non-linear kernels can transform existing features into high dimensional features that can be linearly separated in higher dimensional spaces.\n",
      "metadata": {}
    },
    {
      "cell_type": "markdown",
      "source": "***\n",
      "metadata": {}
    },
    {
      "cell_type": "markdown",
      "source": "## Setup lab environment\n",
      "metadata": {}
    },
    {
      "cell_type": "code",
      "source": "import piplite as pl\nawait pl.install(['numpy','pandas','seaborn','scikit-learn'])",
      "metadata": {
        "trusted": true
      },
      "outputs": [],
      "execution_count": 1
    },
    {
      "cell_type": "code",
      "source": "import pandas as pd\nimport numpy as np\nimport pyodide_http as ph\nfrom sklearn.svm import SVC\nfrom sklearn.model_selection import train_test_split\nfrom sklearn.preprocessing import MinMaxScaler\n# from sklearn.metrics import classification_report, accuracy_score, f1_score, confusion_matrix\n# from sklearn.metrics import precision_recall_fscore_support, precision_score, recall_score\nimport matplotlib.pyplot as plt\nimport seaborn as sns\n# from imblearn.under_sampling import RandomUnderSampler\n\nph.patch_all()\n%matplotlib inline",
      "metadata": {
        "trusted": true
      },
      "outputs": [],
      "execution_count": 5
    },
    {
      "cell_type": "code",
      "source": "# Setup a random seed to be 123\nrs = 123",
      "metadata": {
        "trusted": true
      },
      "outputs": [],
      "execution_count": 3
    },
    {
      "cell_type": "markdown",
      "source": "## Load and explore dataset\n",
      "metadata": {}
    },
    {
      "cell_type": "markdown",
      "source": "Let's first load the dataset as a `Pandas` dataframe and conduct some basic explorations\n",
      "metadata": {}
    },
    {
      "cell_type": "code",
      "source": "# Load the dataset\ndataset_url = \"https://cf-courses-data.s3.us.cloud-object-storage.appdomain.cloud/IBM-ML241EN-SkillsNetwork/labs/datasets/food_items_binary.csv\"\nfood_df = pd.read_csv(dataset_url)",
      "metadata": {
        "trusted": true
      },
      "outputs": [],
      "execution_count": 6
    },
    {
      "cell_type": "markdown",
      "source": "and let's quickly looks at its first 5 rows\n",
      "metadata": {}
    },
    {
      "cell_type": "code",
      "source": "food_df.head(10)",
      "metadata": {
        "trusted": true
      },
      "outputs": [
        {
          "execution_count": 7,
          "output_type": "execute_result",
          "data": {
            "text/plain": "   Calories  Total Fat  Saturated Fat  Monounsaturated Fat  \\\n0     149.0          0            0.0                  0.0   \n1     123.0          0            0.0                  0.0   \n2     150.0          0            0.0                  0.0   \n3     110.0          0            0.0                  0.0   \n4     143.0          0            0.0                  0.0   \n5     110.0          0            0.0                  0.0   \n6     142.0          0            0.0                  0.0   \n7     102.0          0            0.0                  0.0   \n8     145.0          0            0.0                  0.0   \n9     171.0          0            0.0                  0.0   \n\n   Polyunsaturated Fat  Trans Fat  Cholesterol  Sodium  Total Carbohydrate  \\\n0                  0.0        0.0            0     9.0                 9.8   \n1                  0.0        0.0            0     5.0                 6.6   \n2                  0.0        0.0            0     4.0                11.4   \n3                  0.0        0.0            0     6.0                 7.0   \n4                  0.0        0.0            0     7.0                13.1   \n5                  0.0        0.0            0     6.0                 7.0   \n6                  0.0        0.0            0    12.0                10.6   \n7                  0.0        0.0            0    13.0                 5.0   \n8                  0.0        0.0            0    17.0                11.0   \n9                  0.0        0.0            0     8.0                13.7   \n\n   Dietary Fiber  Sugars  Sugar Alcohol  Protein  Vitamin A  Vitamin C  \\\n0            0.0     0.0              0      1.3          0          0   \n1            0.0     0.0              0      0.8          0          0   \n2            0.0     0.0              0      1.3          0          0   \n3            0.0     0.0              0      0.8          0          0   \n4            0.0     0.0              0      1.0          0          0   \n5            0.0     0.0              0      0.8          0          0   \n6            0.0     0.0              0      1.2          0          0   \n7            0.0     0.0              0      0.7          0          0   \n8            0.0     0.0              0      1.2          0          0   \n9            0.0     0.0              0      2.5          0          0   \n\n   Calcium  Iron  class  \n0        0     0      0  \n1        0     0      0  \n2        0     0      0  \n3        0     0      0  \n4        0     0      0  \n5        0     0      0  \n6        0     0      0  \n7        0     0      0  \n8        0     0      0  \n9        0     0      0  ",
            "text/html": "<div>\n<style scoped>\n    .dataframe tbody tr th:only-of-type {\n        vertical-align: middle;\n    }\n\n    .dataframe tbody tr th {\n        vertical-align: top;\n    }\n\n    .dataframe thead th {\n        text-align: right;\n    }\n</style>\n<table border=\"1\" class=\"dataframe\">\n  <thead>\n    <tr style=\"text-align: right;\">\n      <th></th>\n      <th>Calories</th>\n      <th>Total Fat</th>\n      <th>Saturated Fat</th>\n      <th>Monounsaturated Fat</th>\n      <th>Polyunsaturated Fat</th>\n      <th>Trans Fat</th>\n      <th>Cholesterol</th>\n      <th>Sodium</th>\n      <th>Total Carbohydrate</th>\n      <th>Dietary Fiber</th>\n      <th>Sugars</th>\n      <th>Sugar Alcohol</th>\n      <th>Protein</th>\n      <th>Vitamin A</th>\n      <th>Vitamin C</th>\n      <th>Calcium</th>\n      <th>Iron</th>\n      <th>class</th>\n    </tr>\n  </thead>\n  <tbody>\n    <tr>\n      <th>0</th>\n      <td>149.0</td>\n      <td>0</td>\n      <td>0.0</td>\n      <td>0.0</td>\n      <td>0.0</td>\n      <td>0.0</td>\n      <td>0</td>\n      <td>9.0</td>\n      <td>9.8</td>\n      <td>0.0</td>\n      <td>0.0</td>\n      <td>0</td>\n      <td>1.3</td>\n      <td>0</td>\n      <td>0</td>\n      <td>0</td>\n      <td>0</td>\n      <td>0</td>\n    </tr>\n    <tr>\n      <th>1</th>\n      <td>123.0</td>\n      <td>0</td>\n      <td>0.0</td>\n      <td>0.0</td>\n      <td>0.0</td>\n      <td>0.0</td>\n      <td>0</td>\n      <td>5.0</td>\n      <td>6.6</td>\n      <td>0.0</td>\n      <td>0.0</td>\n      <td>0</td>\n      <td>0.8</td>\n      <td>0</td>\n      <td>0</td>\n      <td>0</td>\n      <td>0</td>\n      <td>0</td>\n    </tr>\n    <tr>\n      <th>2</th>\n      <td>150.0</td>\n      <td>0</td>\n      <td>0.0</td>\n      <td>0.0</td>\n      <td>0.0</td>\n      <td>0.0</td>\n      <td>0</td>\n      <td>4.0</td>\n      <td>11.4</td>\n      <td>0.0</td>\n      <td>0.0</td>\n      <td>0</td>\n      <td>1.3</td>\n      <td>0</td>\n      <td>0</td>\n      <td>0</td>\n      <td>0</td>\n      <td>0</td>\n    </tr>\n    <tr>\n      <th>3</th>\n      <td>110.0</td>\n      <td>0</td>\n      <td>0.0</td>\n      <td>0.0</td>\n      <td>0.0</td>\n      <td>0.0</td>\n      <td>0</td>\n      <td>6.0</td>\n      <td>7.0</td>\n      <td>0.0</td>\n      <td>0.0</td>\n      <td>0</td>\n      <td>0.8</td>\n      <td>0</td>\n      <td>0</td>\n      <td>0</td>\n      <td>0</td>\n      <td>0</td>\n    </tr>\n    <tr>\n      <th>4</th>\n      <td>143.0</td>\n      <td>0</td>\n      <td>0.0</td>\n      <td>0.0</td>\n      <td>0.0</td>\n      <td>0.0</td>\n      <td>0</td>\n      <td>7.0</td>\n      <td>13.1</td>\n      <td>0.0</td>\n      <td>0.0</td>\n      <td>0</td>\n      <td>1.0</td>\n      <td>0</td>\n      <td>0</td>\n      <td>0</td>\n      <td>0</td>\n      <td>0</td>\n    </tr>\n    <tr>\n      <th>5</th>\n      <td>110.0</td>\n      <td>0</td>\n      <td>0.0</td>\n      <td>0.0</td>\n      <td>0.0</td>\n      <td>0.0</td>\n      <td>0</td>\n      <td>6.0</td>\n      <td>7.0</td>\n      <td>0.0</td>\n      <td>0.0</td>\n      <td>0</td>\n      <td>0.8</td>\n      <td>0</td>\n      <td>0</td>\n      <td>0</td>\n      <td>0</td>\n      <td>0</td>\n    </tr>\n    <tr>\n      <th>6</th>\n      <td>142.0</td>\n      <td>0</td>\n      <td>0.0</td>\n      <td>0.0</td>\n      <td>0.0</td>\n      <td>0.0</td>\n      <td>0</td>\n      <td>12.0</td>\n      <td>10.6</td>\n      <td>0.0</td>\n      <td>0.0</td>\n      <td>0</td>\n      <td>1.2</td>\n      <td>0</td>\n      <td>0</td>\n      <td>0</td>\n      <td>0</td>\n      <td>0</td>\n    </tr>\n    <tr>\n      <th>7</th>\n      <td>102.0</td>\n      <td>0</td>\n      <td>0.0</td>\n      <td>0.0</td>\n      <td>0.0</td>\n      <td>0.0</td>\n      <td>0</td>\n      <td>13.0</td>\n      <td>5.0</td>\n      <td>0.0</td>\n      <td>0.0</td>\n      <td>0</td>\n      <td>0.7</td>\n      <td>0</td>\n      <td>0</td>\n      <td>0</td>\n      <td>0</td>\n      <td>0</td>\n    </tr>\n    <tr>\n      <th>8</th>\n      <td>145.0</td>\n      <td>0</td>\n      <td>0.0</td>\n      <td>0.0</td>\n      <td>0.0</td>\n      <td>0.0</td>\n      <td>0</td>\n      <td>17.0</td>\n      <td>11.0</td>\n      <td>0.0</td>\n      <td>0.0</td>\n      <td>0</td>\n      <td>1.2</td>\n      <td>0</td>\n      <td>0</td>\n      <td>0</td>\n      <td>0</td>\n      <td>0</td>\n    </tr>\n    <tr>\n      <th>9</th>\n      <td>171.0</td>\n      <td>0</td>\n      <td>0.0</td>\n      <td>0.0</td>\n      <td>0.0</td>\n      <td>0.0</td>\n      <td>0</td>\n      <td>8.0</td>\n      <td>13.7</td>\n      <td>0.0</td>\n      <td>0.0</td>\n      <td>0</td>\n      <td>2.5</td>\n      <td>0</td>\n      <td>0</td>\n      <td>0</td>\n      <td>0</td>\n      <td>0</td>\n    </tr>\n  </tbody>\n</table>\n</div>"
          },
          "metadata": {}
        }
      ],
      "execution_count": 7
    },
    {
      "cell_type": "code",
      "source": "# Get the row entries with col 0 to -1 (16)\nfeature_cols = list(food_df.iloc[:, :-1].columns)\nfeature_cols",
      "metadata": {
        "trusted": true
      },
      "outputs": [
        {
          "execution_count": 8,
          "output_type": "execute_result",
          "data": {
            "text/plain": "['Calories',\n 'Total Fat',\n 'Saturated Fat',\n 'Monounsaturated Fat',\n 'Polyunsaturated Fat',\n 'Trans Fat',\n 'Cholesterol',\n 'Sodium',\n 'Total Carbohydrate',\n 'Dietary Fiber',\n 'Sugars',\n 'Sugar Alcohol',\n 'Protein',\n 'Vitamin A',\n 'Vitamin C',\n 'Calcium',\n 'Iron']"
          },
          "metadata": {}
        }
      ],
      "execution_count": 8
    },
    {
      "cell_type": "code",
      "source": "X = food_df.iloc[:, :-1]\ny = food_df.iloc[:, -1] # target column = 'class'",
      "metadata": {
        "trusted": true
      },
      "outputs": [],
      "execution_count": 9
    },
    {
      "cell_type": "code",
      "source": "X.describe()",
      "metadata": {
        "trusted": true
      },
      "outputs": [
        {
          "execution_count": 10,
          "output_type": "execute_result",
          "data": {
            "text/plain": "          Calories    Total Fat  Saturated Fat  Monounsaturated Fat  \\\ncount  7639.000000  7639.000000    7639.000000          7639.000000   \nmean    105.098835     2.318235       0.368920             0.309216   \nstd      77.224368     3.438941       0.737164             1.310260   \nmin       0.000000     0.000000       0.000000             0.000000   \n25%      50.000000     0.000000       0.000000             0.000000   \n50%     100.000000     1.000000       0.000000             0.000000   \n75%     140.000000     3.000000       0.500000             0.000000   \nmax    2210.000000    24.000000       8.000000            16.800000   \n\n       Polyunsaturated Fat    Trans Fat  Cholesterol       Sodium  \\\ncount          7639.000000  7639.000000  7639.000000  7639.000000   \nmean              0.264116     0.007069     4.308679   235.053659   \nstd               2.848250     0.094783    14.788162   252.438163   \nmin               0.000000     0.000000     0.000000     0.000000   \n25%               0.000000     0.000000     0.000000    20.000000   \n50%               0.000000     0.000000     0.000000   150.000000   \n75%               0.000000     0.000000     0.000000   375.500000   \nmax             235.000000     2.500000   450.000000  2220.000000   \n\n       Total Carbohydrate  Dietary Fiber       Sugars  Sugar Alcohol  \\\ncount         7639.000000    7639.000000  7639.000000    7639.000000   \nmean            15.510719       1.806074     3.734756       0.059039   \nstd             14.028570       4.099947     5.013685       0.771173   \nmin              0.000000       0.000000     0.000000       0.000000   \n25%              3.700000       0.000000     0.000000       0.000000   \n50%             13.000000       1.000000     2.000000       0.000000   \n75%             24.000000       3.000000     5.000000       0.000000   \nmax            270.000000     305.000000    39.000000      19.000000   \n\n           Protein    Vitamin A    Vitamin C      Calcium         Iron  \ncount  7639.000000  7639.000000  7639.000000  7639.000000  7639.000000  \nmean      4.298975     6.636733     6.487237     3.937688     5.510014  \nstd       5.349881    19.658111    19.566500     7.892694     9.855960  \nmin       0.000000     0.000000     0.000000     0.000000     0.000000  \n25%       0.100000     0.000000     0.000000     0.000000     0.000000  \n50%       3.000000     0.000000     0.000000     0.000000     2.000000  \n75%       6.000000     6.000000     4.000000     4.000000     8.000000  \nmax      70.000000   370.000000   280.000000   110.000000   100.000000  ",
            "text/html": "<div>\n<style scoped>\n    .dataframe tbody tr th:only-of-type {\n        vertical-align: middle;\n    }\n\n    .dataframe tbody tr th {\n        vertical-align: top;\n    }\n\n    .dataframe thead th {\n        text-align: right;\n    }\n</style>\n<table border=\"1\" class=\"dataframe\">\n  <thead>\n    <tr style=\"text-align: right;\">\n      <th></th>\n      <th>Calories</th>\n      <th>Total Fat</th>\n      <th>Saturated Fat</th>\n      <th>Monounsaturated Fat</th>\n      <th>Polyunsaturated Fat</th>\n      <th>Trans Fat</th>\n      <th>Cholesterol</th>\n      <th>Sodium</th>\n      <th>Total Carbohydrate</th>\n      <th>Dietary Fiber</th>\n      <th>Sugars</th>\n      <th>Sugar Alcohol</th>\n      <th>Protein</th>\n      <th>Vitamin A</th>\n      <th>Vitamin C</th>\n      <th>Calcium</th>\n      <th>Iron</th>\n    </tr>\n  </thead>\n  <tbody>\n    <tr>\n      <th>count</th>\n      <td>7639.000000</td>\n      <td>7639.000000</td>\n      <td>7639.000000</td>\n      <td>7639.000000</td>\n      <td>7639.000000</td>\n      <td>7639.000000</td>\n      <td>7639.000000</td>\n      <td>7639.000000</td>\n      <td>7639.000000</td>\n      <td>7639.000000</td>\n      <td>7639.000000</td>\n      <td>7639.000000</td>\n      <td>7639.000000</td>\n      <td>7639.000000</td>\n      <td>7639.000000</td>\n      <td>7639.000000</td>\n      <td>7639.000000</td>\n    </tr>\n    <tr>\n      <th>mean</th>\n      <td>105.098835</td>\n      <td>2.318235</td>\n      <td>0.368920</td>\n      <td>0.309216</td>\n      <td>0.264116</td>\n      <td>0.007069</td>\n      <td>4.308679</td>\n      <td>235.053659</td>\n      <td>15.510719</td>\n      <td>1.806074</td>\n      <td>3.734756</td>\n      <td>0.059039</td>\n      <td>4.298975</td>\n      <td>6.636733</td>\n      <td>6.487237</td>\n      <td>3.937688</td>\n      <td>5.510014</td>\n    </tr>\n    <tr>\n      <th>std</th>\n      <td>77.224368</td>\n      <td>3.438941</td>\n      <td>0.737164</td>\n      <td>1.310260</td>\n      <td>2.848250</td>\n      <td>0.094783</td>\n      <td>14.788162</td>\n      <td>252.438163</td>\n      <td>14.028570</td>\n      <td>4.099947</td>\n      <td>5.013685</td>\n      <td>0.771173</td>\n      <td>5.349881</td>\n      <td>19.658111</td>\n      <td>19.566500</td>\n      <td>7.892694</td>\n      <td>9.855960</td>\n    </tr>\n    <tr>\n      <th>min</th>\n      <td>0.000000</td>\n      <td>0.000000</td>\n      <td>0.000000</td>\n      <td>0.000000</td>\n      <td>0.000000</td>\n      <td>0.000000</td>\n      <td>0.000000</td>\n      <td>0.000000</td>\n      <td>0.000000</td>\n      <td>0.000000</td>\n      <td>0.000000</td>\n      <td>0.000000</td>\n      <td>0.000000</td>\n      <td>0.000000</td>\n      <td>0.000000</td>\n      <td>0.000000</td>\n      <td>0.000000</td>\n    </tr>\n    <tr>\n      <th>25%</th>\n      <td>50.000000</td>\n      <td>0.000000</td>\n      <td>0.000000</td>\n      <td>0.000000</td>\n      <td>0.000000</td>\n      <td>0.000000</td>\n      <td>0.000000</td>\n      <td>20.000000</td>\n      <td>3.700000</td>\n      <td>0.000000</td>\n      <td>0.000000</td>\n      <td>0.000000</td>\n      <td>0.100000</td>\n      <td>0.000000</td>\n      <td>0.000000</td>\n      <td>0.000000</td>\n      <td>0.000000</td>\n    </tr>\n    <tr>\n      <th>50%</th>\n      <td>100.000000</td>\n      <td>1.000000</td>\n      <td>0.000000</td>\n      <td>0.000000</td>\n      <td>0.000000</td>\n      <td>0.000000</td>\n      <td>0.000000</td>\n      <td>150.000000</td>\n      <td>13.000000</td>\n      <td>1.000000</td>\n      <td>2.000000</td>\n      <td>0.000000</td>\n      <td>3.000000</td>\n      <td>0.000000</td>\n      <td>0.000000</td>\n      <td>0.000000</td>\n      <td>2.000000</td>\n    </tr>\n    <tr>\n      <th>75%</th>\n      <td>140.000000</td>\n      <td>3.000000</td>\n      <td>0.500000</td>\n      <td>0.000000</td>\n      <td>0.000000</td>\n      <td>0.000000</td>\n      <td>0.000000</td>\n      <td>375.500000</td>\n      <td>24.000000</td>\n      <td>3.000000</td>\n      <td>5.000000</td>\n      <td>0.000000</td>\n      <td>6.000000</td>\n      <td>6.000000</td>\n      <td>4.000000</td>\n      <td>4.000000</td>\n      <td>8.000000</td>\n    </tr>\n    <tr>\n      <th>max</th>\n      <td>2210.000000</td>\n      <td>24.000000</td>\n      <td>8.000000</td>\n      <td>16.800000</td>\n      <td>235.000000</td>\n      <td>2.500000</td>\n      <td>450.000000</td>\n      <td>2220.000000</td>\n      <td>270.000000</td>\n      <td>305.000000</td>\n      <td>39.000000</td>\n      <td>19.000000</td>\n      <td>70.000000</td>\n      <td>370.000000</td>\n      <td>280.000000</td>\n      <td>110.000000</td>\n      <td>100.000000</td>\n    </tr>\n  </tbody>\n</table>\n</div>"
          },
          "metadata": {}
        }
      ],
      "execution_count": 10
    },
    {
      "cell_type": "markdown",
      "source": "as we can see from the outputs above, this food item dataset contains 17 types of nutrients about a food item such as Calories, Total Fat, Protein, Sugar, and so on, as numeric variables.\n",
      "metadata": {}
    },
    {
      "cell_type": "markdown",
      "source": "Next, let's check the target variable, such as the `class` column to see what are label values and their distribution.\n",
      "metadata": {}
    },
    {
      "cell_type": "code",
      "source": "# # Get the row entries with the last col 'class'\ny.value_counts(normalize=True)",
      "metadata": {},
      "outputs": [],
      "execution_count": null
    },
    {
      "cell_type": "code",
      "source": "y.value_counts().plot.bar(color=['red', 'green'])",
      "metadata": {},
      "outputs": [],
      "execution_count": null
    },
    {
      "cell_type": "markdown",
      "source": "As we can see from the bar chart above, this dataset has two classes `Less Often` and `More Often`. The two labels are imbalanced with most food items should be chosen less often for diabetic patients.\n",
      "metadata": {}
    },
    {
      "cell_type": "markdown",
      "source": "## Build a SVM model with default parameters\n",
      "metadata": {}
    },
    {
      "cell_type": "markdown",
      "source": "First, let's split the training and testing dataset. Training dataset will be used to train and tune models, and testing dataset will be used to evaluate the models. Note that you may also split a validation dataset from the training dataset for model tuning only.\n",
      "metadata": {}
    },
    {
      "cell_type": "code",
      "source": "# First, let's split the training and testing dataset\nX_train, X_test, y_train, y_test = train_test_split(X, y, test_size=0.2, stratify=y, random_state = rs)",
      "metadata": {},
      "outputs": [],
      "execution_count": null
    },
    {
      "cell_type": "markdown",
      "source": "Okay, now we have the training and testing datasets ready, let's start the model training task.\n",
      "metadata": {}
    },
    {
      "cell_type": "markdown",
      "source": "We first define a `sklearn.svm import SVC` model with all default arguments.\n",
      "metadata": {}
    },
    {
      "cell_type": "code",
      "source": "model = SVC()",
      "metadata": {},
      "outputs": [],
      "execution_count": null
    },
    {
      "cell_type": "markdown",
      "source": "Then train the model with training dataset:\n",
      "metadata": {}
    },
    {
      "cell_type": "code",
      "source": "model.fit(X_train, y_train.values.ravel())",
      "metadata": {},
      "outputs": [],
      "execution_count": null
    },
    {
      "cell_type": "markdown",
      "source": "and make predictions\n",
      "metadata": {}
    },
    {
      "cell_type": "code",
      "source": "preds = model.predict(X_test)",
      "metadata": {},
      "outputs": [],
      "execution_count": null
    },
    {
      "cell_type": "markdown",
      "source": "Here we defined a utility method to evaluate the model performance.\n",
      "metadata": {}
    },
    {
      "cell_type": "code",
      "source": "def evaluate_metrics(yt, yp):\n    results_pos = {}\n    results_pos['accuracy'] = accuracy_score(yt, yp)\n    precision, recall, f_beta, _ = precision_recall_fscore_support(yt, yp, average='binary')\n    results_pos['recall'] = recall\n    results_pos['precision'] = precision\n    results_pos['f1score'] = f_beta\n    return results_pos",
      "metadata": {},
      "outputs": [],
      "execution_count": null
    },
    {
      "cell_type": "code",
      "source": "evaluate_metrics(y_test, preds)",
      "metadata": {},
      "outputs": [],
      "execution_count": null
    },
    {
      "cell_type": "markdown",
      "source": "As we can see from the evaluation results above, the default SVM model achieves relatively good performance on this binary classification task. The overall accuracy is around `0.95` and the f1score is around `0.82`.\n",
      "metadata": {}
    },
    {
      "cell_type": "markdown",
      "source": "Now, you have easily built a SVM model with relatively good performance. Can we achieve better classification performance by customizing the model?\n",
      "metadata": {}
    },
    {
      "cell_type": "markdown",
      "source": "## Train SVM with different regularization parameters and kernels\n",
      "metadata": {}
    },
    {
      "cell_type": "markdown",
      "source": "The `SVC` model provided by sklearn has two important arguments to be tuned: regularization parameter `C` and `kernel`.\n",
      "metadata": {}
    },
    {
      "cell_type": "markdown",
      "source": "The `C` argument is a regularization parameter that controls the trade-off between achieving a low training error and keeping the decision boundary as simple as possible. \n\n*   For large values of C, the optimization will choose a smaller-margin hyperplane if that hyperplane does a better job of getting all the training points classified correctly, which may cause the model to overfit.\n*   Conversely, a very small value of C will cause the optimizer to look for a larger-margin separating hyperplane, even if that hyperplane misclassifies more points, but potentially better generalization to unseen data.\n",
      "metadata": {}
    },
    {
      "cell_type": "markdown",
      "source": "The `kernel` argument specifies the kernel to be used for transforming features to higher-dimensional spaces, some commonly used non-linear kernels are:\n\n*   `rbf`: Gaussian Radial Basis Function (RBF)\n*   `poly`: Polynomial Kernel\n*   `sigmoid`: Sigmoid Kernel\n",
      "metadata": {}
    },
    {
      "cell_type": "markdown",
      "source": "Let's first try `C = 10` and ` kernel = 'rbf'  `\n",
      "metadata": {}
    },
    {
      "cell_type": "code",
      "source": "model = SVC(C=10, kernel='rbf')\nmodel.fit(X_train, y_train.values.ravel())\npreds = model.predict(X_test)\nevaluate_metrics(y_test, preds)",
      "metadata": {},
      "outputs": [],
      "execution_count": null
    },
    {
      "cell_type": "markdown",
      "source": "You should see that we have better performance than the default SVM model trained in the previous step. Now, it's your turn to try different parameters yourself.\n",
      "metadata": {}
    },
    {
      "cell_type": "markdown",
      "source": "### Coding Exercise: Try different `C` values and `kernels` to see which combination produces SVM models with better classification performance.\n",
      "metadata": {}
    },
    {
      "cell_type": "code",
      "source": "# Type your code here",
      "metadata": {},
      "outputs": [],
      "execution_count": null
    },
    {
      "cell_type": "markdown",
      "source": "## Tune regularization parameter C and Kernels via GridSearch\n",
      "metadata": {}
    },
    {
      "cell_type": "markdown",
      "source": "Exhaustively trying different hyperparameters by hands is infeasible. Thus, `sklearn` provides users with many automatic hyperparameter tuning methods. A popular one is grid search cross-validation `GridSearchCV`\n",
      "metadata": {}
    },
    {
      "cell_type": "markdown",
      "source": "Next, let's quickly try `GridSearchCV` to find the optimized `C` and `kernel` combination:\n",
      "metadata": {}
    },
    {
      "cell_type": "markdown",
      "source": "We first define some candidate parameter values we want to search in a `dict` object, like the following setting:\n",
      "metadata": {}
    },
    {
      "cell_type": "code",
      "source": "params_grid = {\n    'C': [1, 10, 100],\n    'kernel': ['poly', 'rbf', 'sigmoid']\n}",
      "metadata": {},
      "outputs": [],
      "execution_count": null
    },
    {
      "cell_type": "markdown",
      "source": "Then, we define a  SVM model\n",
      "metadata": {}
    },
    {
      "cell_type": "code",
      "source": "model = SVC()",
      "metadata": {},
      "outputs": [],
      "execution_count": null
    },
    {
      "cell_type": "markdown",
      "source": "and use create a `GridSearchCV` method to grid search `params_grid` and find the optimized combination with best `f1` score. The searching process may take several minutes to complete.\n",
      "metadata": {}
    },
    {
      "cell_type": "code",
      "source": "# Define a GridSearchCV to search the best parameters\ngrid_search = GridSearchCV(estimator = model, \n                           param_grid = params_grid, \n                           scoring='f1',\n                           cv = 5, verbose = 1)\n# Search the best parameters with training data\ngrid_search.fit(X_train, y_train.values.ravel())\nbest_params = grid_search.best_params_",
      "metadata": {},
      "outputs": [],
      "execution_count": null
    },
    {
      "cell_type": "code",
      "source": "best_params",
      "metadata": {},
      "outputs": [],
      "execution_count": null
    },
    {
      "cell_type": "markdown",
      "source": "Okay, we can see `C=100` and `kernel=`rbf\\`\\` seems to produce the highest f1score. Let's quickly try this combination to see the model performance.\n",
      "metadata": {}
    },
    {
      "cell_type": "code",
      "source": "model = SVC(C=100, kernel='rbf')\nmodel.fit(X_train, y_train.values.ravel())\npreds = model.predict(X_test)\nevaluate_metrics(y_test, preds)",
      "metadata": {},
      "outputs": [],
      "execution_count": null
    },
    {
      "cell_type": "markdown",
      "source": "The best f1score now becomes `0.88` after hyperparameter tuning.\n",
      "metadata": {}
    },
    {
      "cell_type": "markdown",
      "source": "## Plot SVM hyperplane and margin\n",
      "metadata": {}
    },
    {
      "cell_type": "markdown",
      "source": "Okay, you have learned how to define, train, evaluate, and fine-tune a SVM model with `sklearn`. However, so far we only obtained plain evaluation metrics and they are not intuitive to help us understand and interpret an SVM model. It would be great to visualize the see actual hyperplains and margins learned in an SVM model.\n",
      "metadata": {}
    },
    {
      "cell_type": "markdown",
      "source": "Since it is challenging to visualize a hyperplane higher than 3 dimensions. To illustrate the idea, we will focus on a 2-dimensional feature space.\n",
      "metadata": {}
    },
    {
      "cell_type": "markdown",
      "source": "We first simplify the dataset with only two features `Calories` and `Dietary Fiber`, and include only 1000 instances:\n",
      "metadata": {}
    },
    {
      "cell_type": "code",
      "source": "simplified_food_df = food_df[['Calories', 'Dietary Fiber', 'class']]",
      "metadata": {},
      "outputs": [],
      "execution_count": null
    },
    {
      "cell_type": "code",
      "source": "X = simplified_food_df.iloc[:1000, :-1].values\ny = simplified_food_df.iloc[:1000, -1:].values",
      "metadata": {},
      "outputs": [],
      "execution_count": null
    },
    {
      "cell_type": "markdown",
      "source": "and we undersample the majority class `Class = 0` to balance the class distribution so we will produce a clearer visualization.\n",
      "metadata": {}
    },
    {
      "cell_type": "code",
      "source": "under_sampler = RandomUnderSampler(random_state=rs)\nX_under, y_under = under_sampler.fit_resample(X, y)",
      "metadata": {},
      "outputs": [],
      "execution_count": null
    },
    {
      "cell_type": "code",
      "source": "print(f\"Dataset resampled shape, X: {X_under.shape}, y: {y_under.shape}\")",
      "metadata": {},
      "outputs": [],
      "execution_count": null
    },
    {
      "cell_type": "markdown",
      "source": "To better show the hyperplane and margins, we normalize the features with a `MinMaxScaler`.\n",
      "metadata": {}
    },
    {
      "cell_type": "code",
      "source": "scaler = MinMaxScaler()\nX_under = scaler.fit_transform(X_under)",
      "metadata": {},
      "outputs": [],
      "execution_count": null
    },
    {
      "cell_type": "markdown",
      "source": "Okay, let's first train a linear SVM model with `kernel=linear` so that we can get a linear hyperplane and margins.\n",
      "metadata": {}
    },
    {
      "cell_type": "code",
      "source": "linear_svm = SVC(C=1000, kernel='linear')\nlinear_svm.fit(X_under, y_under)",
      "metadata": {},
      "outputs": [],
      "execution_count": null
    },
    {
      "cell_type": "markdown",
      "source": "Here we also provided an utility method to plot the decision boundary (hyperplane), support vectors, and margins. You may write your own visualization method if you are interested.\n",
      "metadata": {}
    },
    {
      "cell_type": "code",
      "source": "def plot_decision_boundry(X, y, model):\n    plt.figure(figsize=(16, 12))\n    plt.scatter(X[:, 0], X[:, 1], c=y, cmap=plt.cm.Paired)\n\n    # plot the decision function\n    ax = plt.gca()\n    xlim = ax.get_xlim()\n    ylim = ax.get_ylim()\n\n    # create grid to evaluate model\n    xx = np.linspace(xlim[0], xlim[1], 30)\n    yy = np.linspace(ylim[0], ylim[1], 30)\n    YY, XX = np.meshgrid(yy, xx)\n    xy = np.vstack([XX.ravel(), YY.ravel()]).T\n    Z = model.decision_function(xy).reshape(XX.shape)\n\n    # plot decision boundary and margins\n    ax.contour(\n        XX, YY, Z, colors=\"k\", levels=[-1, 0, 1], alpha=0.5, linestyles=[\"--\", \"-\", \"--\"]\n    )\n\n    # plot support vectors\n    ax.scatter(\n        model.support_vectors_[:, 0],\n        model.support_vectors_[:, 1],\n        s=100,\n        linewidth=1,\n        facecolors=\"none\",\n        edgecolors=\"k\",\n    )\n    plt.show()",
      "metadata": {},
      "outputs": [],
      "execution_count": null
    },
    {
      "cell_type": "code",
      "source": "plot_decision_boundry(X_under, y_under, linear_svm)",
      "metadata": {},
      "outputs": [],
      "execution_count": null
    },
    {
      "cell_type": "markdown",
      "source": "Okay, we can see a clear linear hyperplane seperates the two classes (Blue dots vs Orange dots). The highlighted dots are the support vectors determining the hyperplain.\n",
      "metadata": {}
    },
    {
      "cell_type": "markdown",
      "source": "If we want to include non-linear kernels, we should get a non-linear decision boundary in the 2-d space (maybe linear in higher feature space). So here we use a `rbf` kernel:\n",
      "metadata": {}
    },
    {
      "cell_type": "code",
      "source": "svm_rbf_kernel = SVC(C=100, kernel='rbf')\nsvm_rbf_kernel.fit(X_under, y_under)",
      "metadata": {},
      "outputs": [],
      "execution_count": null
    },
    {
      "cell_type": "code",
      "source": "plot_decision_boundry(X_under, y_under, svm_rbf_kernel)",
      "metadata": {},
      "outputs": [],
      "execution_count": null
    },
    {
      "cell_type": "markdown",
      "source": "We now see a non-linear hyperplane and margins separating the two classes.\n",
      "metadata": {}
    },
    {
      "cell_type": "markdown",
      "source": "### Coding Exercise: Try different `C` values and `kernels` to see the how they affect the hyperplanes and margins.\n",
      "metadata": {}
    },
    {
      "cell_type": "code",
      "source": "## Type your code here\n",
      "metadata": {},
      "outputs": [],
      "execution_count": null
    },
    {
      "cell_type": "markdown",
      "source": "<details><summary>Click here for a sample solution</summary>\n\n```python\nsvm_rbf_kernel = SVC(C=100, kernel='poly')\nsvm_rbf_kernel.fit(X_under, y_under)\nplot_decision_boundry(X_under, y_under, svm_rbf_kernel)\n```\n\n</details>\n",
      "metadata": {}
    },
    {
      "cell_type": "markdown",
      "source": "## Next Steps\n",
      "metadata": {}
    },
    {
      "cell_type": "markdown",
      "source": "Great! Now you have learned and practiced SVM model and applied it to solve a real-world food classification problem for diabetic patients. You also learned how to visualize the hyperplanes and margins generated by the SVM models.\n",
      "metadata": {}
    },
    {
      "cell_type": "markdown",
      "source": "Next, you will be learning other popular classification models with different structures, assumptions, cost functions, and application scenarios.\n",
      "metadata": {}
    },
    {
      "cell_type": "markdown",
      "source": "## Authors\n",
      "metadata": {}
    },
    {
      "cell_type": "markdown",
      "source": "[Yan Luo](https://www.linkedin.com/in/yan-luo-96288783/?utm_medium=Exinfluencer&utm_source=Exinfluencer&utm_content=000026UJ&utm_term=10006555&utm_id=NA-SkillsNetwork-Channel-SkillsNetworkCoursesIBMML241ENSkillsNetwork31576874-2021-01-01)\n",
      "metadata": {}
    },
    {
      "cell_type": "markdown",
      "source": "### Other Contributors\n",
      "metadata": {}
    },
    {
      "cell_type": "markdown",
      "source": "<!--## Change Log--!>\n",
      "metadata": {}
    },
    {
      "cell_type": "markdown",
      "source": "<!--| Date (YYYY-MM-DD) | Version | Changed By | Change Description          |\n| ----------------- | ------- | ---------- | --------------------------- |\n| 2021-9-23         | 1.0     | Yan        | Created the initial version |\n| 2022-2-9          | 1.1     | Steve Hord | QA pass                     |\n--!>\n",
      "metadata": {}
    },
    {
      "cell_type": "markdown",
      "source": "Copyright © 2021 IBM Corporation. All rights reserved.\n",
      "metadata": {}
    }
  ]
}