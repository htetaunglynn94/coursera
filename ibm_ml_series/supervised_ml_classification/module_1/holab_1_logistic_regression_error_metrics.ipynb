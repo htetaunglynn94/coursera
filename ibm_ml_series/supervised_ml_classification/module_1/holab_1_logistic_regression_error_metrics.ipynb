{
  "metadata": {
    "kernelspec": {
      "name": "python",
      "display_name": "Python (Pyodide)",
      "language": "python"
    },
    "language_info": {
      "codemirror_mode": {
        "name": "python",
        "version": 3
      },
      "file_extension": ".py",
      "mimetype": "text/x-python",
      "name": "python",
      "nbconvert_exporter": "python",
      "pygments_lexer": "ipython3",
      "version": "3.8"
    },
    "prev_pub_hash": "6565f11bcbfbafe8f859e211d65b646e7cc642b41ee40910b2cf41f5ac47480b"
  },
  "nbformat_minor": 4,
  "nbformat": 4,
  "cells": [
    {
      "cell_type": "markdown",
      "source": "# Machine Learning Foundation\n\n## Course 3, Part a: Logistic Regression LAB\n",
      "metadata": {}
    },
    {
      "cell_type": "markdown",
      "source": "## Introduction\n\nWe will be using the [Human Activity Recognition with Smartphones](https://archive.ics.uci.edu/ml/datasets/Human+Activity+Recognition+Using+Smartphones) database, which was built from the recordings of study participants who carried a smartphone with an embedded inertial sensor while performing activities of daily living (ADL). The objective is to classify the activities the participants performed into one of the six following categories: walking, walking upstairs, walking downstairs, sitting, standing, and laying.\n\nThe following information is provided for each record in the dataset: \n\n- Triaxial acceleration from the accelerometer (total acceleration) and the estimated body acceleration \n- Triaxial Angular velocity from the gyroscope \n- A 561-feature vector with time and frequency domain variables \n- The activity label \n\nMore information about the features are available on the website linked above.\n",
      "metadata": {}
    },
    {
      "cell_type": "markdown",
      "source": "Install the below libraries\n",
      "metadata": {}
    },
    {
      "cell_type": "code",
      "source": "import piplite as pl\nawait pl.install(['seaborn','numpy','pandas','scikit-learn'])",
      "metadata": {
        "trusted": true
      },
      "outputs": [],
      "execution_count": 1
    },
    {
      "cell_type": "code",
      "source": "def warn(*args, **kwargs):\n    pass\nimport warnings\nwarnings.warn = warn",
      "metadata": {
        "trusted": true
      },
      "outputs": [],
      "execution_count": 2
    },
    {
      "cell_type": "code",
      "source": "# import seaborn as sns, pandas as pd, numpy as np\nimport seaborn as sns\nimport pandas as pd\nimport numpy as np\nimport matplotlib.pyplot as plt\nimport seaborn as sns\n\n%matplotlib inline",
      "metadata": {
        "trusted": true
      },
      "outputs": [],
      "execution_count": 55
    },
    {
      "cell_type": "markdown",
      "source": "## Question 1\n\nImport the data and do the following:\n\n* Examine the data types--there are many columns, so it might be wise to use value counts.\n* Determine if the floating point values need to be scaled.\n* Determine the breakdown of each activity.\n* Encode the activity label as an integer.\n",
      "metadata": {}
    },
    {
      "cell_type": "code",
      "source": "import pyodide_http as ph\nph.patch_all()\ndata = pd.read_csv(\"https://cf-courses-data.s3.us.cloud-object-storage.appdomain.cloud/IBM-ML241EN-SkillsNetwork/labs/datasets/Human_Activity_Recognition_Using_Smartphones_Data.csv\", sep=',')",
      "metadata": {
        "trusted": true
      },
      "outputs": [],
      "execution_count": 4
    },
    {
      "cell_type": "code",
      "source": "data.head()",
      "metadata": {
        "trusted": true,
        "scrolled": true
      },
      "outputs": [
        {
          "execution_count": 5,
          "output_type": "execute_result",
          "data": {
            "text/plain": "   tBodyAcc-mean()-X  tBodyAcc-mean()-Y  tBodyAcc-mean()-Z  tBodyAcc-std()-X  \\\n0           0.288585          -0.020294          -0.132905         -0.995279   \n1           0.278419          -0.016411          -0.123520         -0.998245   \n2           0.279653          -0.019467          -0.113462         -0.995380   \n3           0.279174          -0.026201          -0.123283         -0.996091   \n4           0.276629          -0.016570          -0.115362         -0.998139   \n\n   tBodyAcc-std()-Y  tBodyAcc-std()-Z  tBodyAcc-mad()-X  tBodyAcc-mad()-Y  \\\n0         -0.983111         -0.913526         -0.995112         -0.983185   \n1         -0.975300         -0.960322         -0.998807         -0.974914   \n2         -0.967187         -0.978944         -0.996520         -0.963668   \n3         -0.983403         -0.990675         -0.997099         -0.982750   \n4         -0.980817         -0.990482         -0.998321         -0.979672   \n\n   tBodyAcc-mad()-Z  tBodyAcc-max()-X  ...  fBodyBodyGyroJerkMag-skewness()  \\\n0         -0.923527         -0.934724  ...                        -0.298676   \n1         -0.957686         -0.943068  ...                        -0.595051   \n2         -0.977469         -0.938692  ...                        -0.390748   \n3         -0.989302         -0.938692  ...                        -0.117290   \n4         -0.990441         -0.942469  ...                        -0.351471   \n\n   fBodyBodyGyroJerkMag-kurtosis()  angle(tBodyAccMean,gravity)  \\\n0                        -0.710304                    -0.112754   \n1                        -0.861499                     0.053477   \n2                        -0.760104                    -0.118559   \n3                        -0.482845                    -0.036788   \n4                        -0.699205                     0.123320   \n\n   angle(tBodyAccJerkMean),gravityMean)  angle(tBodyGyroMean,gravityMean)  \\\n0                              0.030400                         -0.464761   \n1                             -0.007435                         -0.732626   \n2                              0.177899                          0.100699   \n3                             -0.012892                          0.640011   \n4                              0.122542                          0.693578   \n\n   angle(tBodyGyroJerkMean,gravityMean)  angle(X,gravityMean)  \\\n0                             -0.018446             -0.841247   \n1                              0.703511             -0.844788   \n2                              0.808529             -0.848933   \n3                             -0.485366             -0.848649   \n4                             -0.615971             -0.847865   \n\n   angle(Y,gravityMean)  angle(Z,gravityMean)  Activity  \n0              0.179941             -0.058627  STANDING  \n1              0.180289             -0.054317  STANDING  \n2              0.180637             -0.049118  STANDING  \n3              0.181935             -0.047663  STANDING  \n4              0.185151             -0.043892  STANDING  \n\n[5 rows x 562 columns]",
            "text/html": "<div>\n<style scoped>\n    .dataframe tbody tr th:only-of-type {\n        vertical-align: middle;\n    }\n\n    .dataframe tbody tr th {\n        vertical-align: top;\n    }\n\n    .dataframe thead th {\n        text-align: right;\n    }\n</style>\n<table border=\"1\" class=\"dataframe\">\n  <thead>\n    <tr style=\"text-align: right;\">\n      <th></th>\n      <th>tBodyAcc-mean()-X</th>\n      <th>tBodyAcc-mean()-Y</th>\n      <th>tBodyAcc-mean()-Z</th>\n      <th>tBodyAcc-std()-X</th>\n      <th>tBodyAcc-std()-Y</th>\n      <th>tBodyAcc-std()-Z</th>\n      <th>tBodyAcc-mad()-X</th>\n      <th>tBodyAcc-mad()-Y</th>\n      <th>tBodyAcc-mad()-Z</th>\n      <th>tBodyAcc-max()-X</th>\n      <th>...</th>\n      <th>fBodyBodyGyroJerkMag-skewness()</th>\n      <th>fBodyBodyGyroJerkMag-kurtosis()</th>\n      <th>angle(tBodyAccMean,gravity)</th>\n      <th>angle(tBodyAccJerkMean),gravityMean)</th>\n      <th>angle(tBodyGyroMean,gravityMean)</th>\n      <th>angle(tBodyGyroJerkMean,gravityMean)</th>\n      <th>angle(X,gravityMean)</th>\n      <th>angle(Y,gravityMean)</th>\n      <th>angle(Z,gravityMean)</th>\n      <th>Activity</th>\n    </tr>\n  </thead>\n  <tbody>\n    <tr>\n      <th>0</th>\n      <td>0.288585</td>\n      <td>-0.020294</td>\n      <td>-0.132905</td>\n      <td>-0.995279</td>\n      <td>-0.983111</td>\n      <td>-0.913526</td>\n      <td>-0.995112</td>\n      <td>-0.983185</td>\n      <td>-0.923527</td>\n      <td>-0.934724</td>\n      <td>...</td>\n      <td>-0.298676</td>\n      <td>-0.710304</td>\n      <td>-0.112754</td>\n      <td>0.030400</td>\n      <td>-0.464761</td>\n      <td>-0.018446</td>\n      <td>-0.841247</td>\n      <td>0.179941</td>\n      <td>-0.058627</td>\n      <td>STANDING</td>\n    </tr>\n    <tr>\n      <th>1</th>\n      <td>0.278419</td>\n      <td>-0.016411</td>\n      <td>-0.123520</td>\n      <td>-0.998245</td>\n      <td>-0.975300</td>\n      <td>-0.960322</td>\n      <td>-0.998807</td>\n      <td>-0.974914</td>\n      <td>-0.957686</td>\n      <td>-0.943068</td>\n      <td>...</td>\n      <td>-0.595051</td>\n      <td>-0.861499</td>\n      <td>0.053477</td>\n      <td>-0.007435</td>\n      <td>-0.732626</td>\n      <td>0.703511</td>\n      <td>-0.844788</td>\n      <td>0.180289</td>\n      <td>-0.054317</td>\n      <td>STANDING</td>\n    </tr>\n    <tr>\n      <th>2</th>\n      <td>0.279653</td>\n      <td>-0.019467</td>\n      <td>-0.113462</td>\n      <td>-0.995380</td>\n      <td>-0.967187</td>\n      <td>-0.978944</td>\n      <td>-0.996520</td>\n      <td>-0.963668</td>\n      <td>-0.977469</td>\n      <td>-0.938692</td>\n      <td>...</td>\n      <td>-0.390748</td>\n      <td>-0.760104</td>\n      <td>-0.118559</td>\n      <td>0.177899</td>\n      <td>0.100699</td>\n      <td>0.808529</td>\n      <td>-0.848933</td>\n      <td>0.180637</td>\n      <td>-0.049118</td>\n      <td>STANDING</td>\n    </tr>\n    <tr>\n      <th>3</th>\n      <td>0.279174</td>\n      <td>-0.026201</td>\n      <td>-0.123283</td>\n      <td>-0.996091</td>\n      <td>-0.983403</td>\n      <td>-0.990675</td>\n      <td>-0.997099</td>\n      <td>-0.982750</td>\n      <td>-0.989302</td>\n      <td>-0.938692</td>\n      <td>...</td>\n      <td>-0.117290</td>\n      <td>-0.482845</td>\n      <td>-0.036788</td>\n      <td>-0.012892</td>\n      <td>0.640011</td>\n      <td>-0.485366</td>\n      <td>-0.848649</td>\n      <td>0.181935</td>\n      <td>-0.047663</td>\n      <td>STANDING</td>\n    </tr>\n    <tr>\n      <th>4</th>\n      <td>0.276629</td>\n      <td>-0.016570</td>\n      <td>-0.115362</td>\n      <td>-0.998139</td>\n      <td>-0.980817</td>\n      <td>-0.990482</td>\n      <td>-0.998321</td>\n      <td>-0.979672</td>\n      <td>-0.990441</td>\n      <td>-0.942469</td>\n      <td>...</td>\n      <td>-0.351471</td>\n      <td>-0.699205</td>\n      <td>0.123320</td>\n      <td>0.122542</td>\n      <td>0.693578</td>\n      <td>-0.615971</td>\n      <td>-0.847865</td>\n      <td>0.185151</td>\n      <td>-0.043892</td>\n      <td>STANDING</td>\n    </tr>\n  </tbody>\n</table>\n<p>5 rows × 562 columns</p>\n</div>"
          },
          "metadata": {}
        }
      ],
      "execution_count": 5
    },
    {
      "cell_type": "markdown",
      "source": "The data columns are all floats except for the activity label.\n",
      "metadata": {}
    },
    {
      "cell_type": "code",
      "source": "data.dtypes.value_counts()",
      "metadata": {
        "trusted": true
      },
      "outputs": [
        {
          "execution_count": 6,
          "output_type": "execute_result",
          "data": {
            "text/plain": "float64    561\nobject       1\nName: count, dtype: int64"
          },
          "metadata": {}
        }
      ],
      "execution_count": 6
    },
    {
      "cell_type": "code",
      "source": "data.dtypes.tail()",
      "metadata": {
        "trusted": true
      },
      "outputs": [
        {
          "execution_count": 7,
          "output_type": "execute_result",
          "data": {
            "text/plain": "angle(tBodyGyroJerkMean,gravityMean)    float64\nangle(X,gravityMean)                    float64\nangle(Y,gravityMean)                    float64\nangle(Z,gravityMean)                    float64\nActivity                                 object\ndtype: object"
          },
          "metadata": {}
        }
      ],
      "execution_count": 7
    },
    {
      "cell_type": "markdown",
      "source": "The data are all scaled from -1 (minimum) to 1.0 (maximum).\n",
      "metadata": {}
    },
    {
      "cell_type": "code",
      "source": "# without last column\ndata.iloc[:, :-1].min().value_counts()",
      "metadata": {
        "trusted": true
      },
      "outputs": [
        {
          "execution_count": 8,
          "output_type": "execute_result",
          "data": {
            "text/plain": "-1.0    561\nName: count, dtype: int64"
          },
          "metadata": {}
        }
      ],
      "execution_count": 8
    },
    {
      "cell_type": "code",
      "source": "# without last column\ndata.iloc[:, :-1].max().value_counts()",
      "metadata": {
        "trusted": true
      },
      "outputs": [
        {
          "execution_count": 9,
          "output_type": "execute_result",
          "data": {
            "text/plain": "1.0    561\nName: count, dtype: int64"
          },
          "metadata": {}
        }
      ],
      "execution_count": 9
    },
    {
      "cell_type": "code",
      "source": "# including last column\ndata.min().value_counts()",
      "metadata": {
        "trusted": true
      },
      "outputs": [
        {
          "execution_count": 10,
          "output_type": "execute_result",
          "data": {
            "text/plain": "-1.0       561\n LAYING      1\nName: count, dtype: int64"
          },
          "metadata": {}
        }
      ],
      "execution_count": 10
    },
    {
      "cell_type": "code",
      "source": "# including last column\ndata.max().value_counts()",
      "metadata": {
        "trusted": true
      },
      "outputs": [
        {
          "execution_count": 11,
          "output_type": "execute_result",
          "data": {
            "text/plain": "1.0                 561\nWALKING_UPSTAIRS      1\nName: count, dtype: int64"
          },
          "metadata": {}
        }
      ],
      "execution_count": 11
    },
    {
      "cell_type": "markdown",
      "source": "Examine the breakdown of activities; they are relatively balanced.\n",
      "metadata": {}
    },
    {
      "cell_type": "code",
      "source": "data.Activity.value_counts()",
      "metadata": {
        "trusted": true
      },
      "outputs": [
        {
          "execution_count": 12,
          "output_type": "execute_result",
          "data": {
            "text/plain": "Activity\nLAYING                1944\nSTANDING              1906\nSITTING               1777\nWALKING               1722\nWALKING_UPSTAIRS      1544\nWALKING_DOWNSTAIRS    1406\nName: count, dtype: int64"
          },
          "metadata": {}
        }
      ],
      "execution_count": 12
    },
    {
      "cell_type": "markdown",
      "source": "Scikit learn classifiers won't accept a sparse matrix for the prediction column. Thus, either `LabelEncoder` needs to be used to convert the activity labels to integers, or if `DictVectorizer` is used, the resulting matrix must be converted to a non-sparse array.  \nUse `LabelEncoder` to fit_transform the \"Activity\" column, and look at 5 random values.\n",
      "metadata": {}
    },
    {
      "cell_type": "code",
      "source": "from sklearn.preprocessing import LabelEncoder\n\nle = LabelEncoder()\ndata['Activity'] = le.fit_transform(data.Activity)\ndata['Activity'].sample(5)\n### END SOLUTION",
      "metadata": {
        "trusted": true
      },
      "outputs": [
        {
          "execution_count": 13,
          "output_type": "execute_result",
          "data": {
            "text/plain": "6877    0\n5650    5\n247     0\n6452    2\n4315    3\nName: Activity, dtype: int32"
          },
          "metadata": {}
        }
      ],
      "execution_count": 13
    },
    {
      "cell_type": "markdown",
      "source": "## Question 2\n\n* Calculate the correlations between the dependent variables.\n* Create a histogram of the correlation values.\n* Identify those that are most correlated (either positively or negatively).\n",
      "metadata": {}
    },
    {
      "cell_type": "code",
      "source": "feature_cols = data.columns[:-1]\nfeature_cols",
      "metadata": {
        "trusted": true
      },
      "outputs": [
        {
          "execution_count": 14,
          "output_type": "execute_result",
          "data": {
            "text/plain": "Index(['tBodyAcc-mean()-X', 'tBodyAcc-mean()-Y', 'tBodyAcc-mean()-Z',\n       'tBodyAcc-std()-X', 'tBodyAcc-std()-Y', 'tBodyAcc-std()-Z',\n       'tBodyAcc-mad()-X', 'tBodyAcc-mad()-Y', 'tBodyAcc-mad()-Z',\n       'tBodyAcc-max()-X',\n       ...\n       'fBodyBodyGyroJerkMag-meanFreq()', 'fBodyBodyGyroJerkMag-skewness()',\n       'fBodyBodyGyroJerkMag-kurtosis()', 'angle(tBodyAccMean,gravity)',\n       'angle(tBodyAccJerkMean),gravityMean)',\n       'angle(tBodyGyroMean,gravityMean)',\n       'angle(tBodyGyroJerkMean,gravityMean)', 'angle(X,gravityMean)',\n       'angle(Y,gravityMean)', 'angle(Z,gravityMean)'],\n      dtype='object', length=561)"
          },
          "metadata": {}
        }
      ],
      "execution_count": 14
    },
    {
      "cell_type": "code",
      "source": "# calculate the correlation values\ncorr_values = data[feature_cols].corr()\ncorr_values",
      "metadata": {
        "trusted": true,
        "scrolled": true
      },
      "outputs": [
        {
          "execution_count": 15,
          "output_type": "execute_result",
          "data": {
            "text/plain": "                                      tBodyAcc-mean()-X  tBodyAcc-mean()-Y  \\\ntBodyAcc-mean()-X                              1.000000           0.128037   \ntBodyAcc-mean()-Y                              0.128037           1.000000   \ntBodyAcc-mean()-Z                             -0.230302          -0.029882   \ntBodyAcc-std()-X                               0.004590          -0.046352   \ntBodyAcc-std()-Y                              -0.016785          -0.046996   \n...                                                 ...                ...   \nangle(tBodyGyroMean,gravityMean)               0.036047           0.013241   \nangle(tBodyGyroJerkMean,gravityMean)           0.034296           0.077627   \nangle(X,gravityMean)                          -0.041021          -0.007513   \nangle(Y,gravityMean)                           0.034053          -0.005616   \nangle(Z,gravityMean)                           0.030656          -0.016233   \n\n                                      tBodyAcc-mean()-Z  tBodyAcc-std()-X  \\\ntBodyAcc-mean()-X                             -0.230302          0.004590   \ntBodyAcc-mean()-Y                             -0.029882         -0.046352   \ntBodyAcc-mean()-Z                              1.000000         -0.024185   \ntBodyAcc-std()-X                              -0.024185          1.000000   \ntBodyAcc-std()-Y                              -0.023745          0.922525   \n...                                                 ...               ...   \nangle(tBodyGyroMean,gravityMean)              -0.066233          0.027464   \nangle(tBodyGyroJerkMean,gravityMean)          -0.030748         -0.027123   \nangle(X,gravityMean)                           0.003215         -0.374104   \nangle(Y,gravityMean)                          -0.012986          0.449425   \nangle(Z,gravityMean)                          -0.028406          0.393063   \n\n                                      tBodyAcc-std()-Y  tBodyAcc-std()-Z  \\\ntBodyAcc-mean()-X                            -0.016785         -0.036071   \ntBodyAcc-mean()-Y                            -0.046996         -0.054153   \ntBodyAcc-mean()-Z                            -0.023745         -0.015632   \ntBodyAcc-std()-X                              0.922525          0.861910   \ntBodyAcc-std()-Y                              1.000000          0.888259   \n...                                                ...               ...   \nangle(tBodyGyroMean,gravityMean)              0.001902         -0.004984   \nangle(tBodyGyroJerkMean,gravityMean)         -0.015784         -0.012196   \nangle(X,gravityMean)                         -0.381391         -0.353271   \nangle(Y,gravityMean)                          0.506106          0.459092   \nangle(Z,gravityMean)                          0.425511          0.483424   \n\n                                      tBodyAcc-mad()-X  tBodyAcc-mad()-Y  \\\ntBodyAcc-mean()-X                             0.010303         -0.017488   \ntBodyAcc-mean()-Y                            -0.045247         -0.047673   \ntBodyAcc-mean()-Z                            -0.022872         -0.022966   \ntBodyAcc-std()-X                              0.998662          0.916087   \ntBodyAcc-std()-Y                              0.918561          0.997510   \n...                                                ...               ...   \nangle(tBodyGyroMean,gravityMean)              0.027729         -0.002924   \nangle(tBodyGyroJerkMean,gravityMean)         -0.027097         -0.013411   \nangle(X,gravityMean)                         -0.371168         -0.378013   \nangle(Y,gravityMean)                          0.444926          0.507947   \nangle(Z,gravityMean)                          0.389481          0.424479   \n\n                                      tBodyAcc-mad()-Z  tBodyAcc-max()-X  ...  \\\ntBodyAcc-mean()-X                            -0.038805          0.046943  ...   \ntBodyAcc-mean()-Y                            -0.055524         -0.039445  ...   \ntBodyAcc-mean()-Z                            -0.009577         -0.040218  ...   \ntBodyAcc-std()-X                              0.856497          0.981226  ...   \ntBodyAcc-std()-Y                              0.887052          0.911137  ...   \n...                                                ...               ...  ...   \nangle(tBodyGyroMean,gravityMean)             -0.009873          0.033533  ...   \nangle(tBodyGyroJerkMean,gravityMean)         -0.012800         -0.030908  ...   \nangle(X,gravityMean)                         -0.355836         -0.384244  ...   \nangle(Y,gravityMean)                          0.460345          0.458832  ...   \nangle(Z,gravityMean)                          0.480032          0.402873  ...   \n\n                                      fBodyBodyGyroJerkMag-meanFreq()  \\\ntBodyAcc-mean()-X                                            0.029901   \ntBodyAcc-mean()-Y                                           -0.014402   \ntBodyAcc-mean()-Z                                           -0.015358   \ntBodyAcc-std()-X                                            -0.068807   \ntBodyAcc-std()-Y                                            -0.109941   \n...                                                               ...   \nangle(tBodyGyroMean,gravityMean)                            -0.029273   \nangle(tBodyGyroJerkMean,gravityMean)                        -0.002618   \nangle(X,gravityMean)                                         0.087571   \nangle(Y,gravityMean)                                        -0.105752   \nangle(Z,gravityMean)                                        -0.061105   \n\n                                      fBodyBodyGyroJerkMag-skewness()  \\\ntBodyAcc-mean()-X                                           -0.006179   \ntBodyAcc-mean()-Y                                           -0.000649   \ntBodyAcc-mean()-Z                                            0.023050   \ntBodyAcc-std()-X                                             0.165552   \ntBodyAcc-std()-Y                                             0.220279   \n...                                                               ...   \nangle(tBodyGyroMean,gravityMean)                             0.042123   \nangle(tBodyGyroJerkMean,gravityMean)                        -0.013065   \nangle(X,gravityMean)                                        -0.085226   \nangle(Y,gravityMean)                                         0.087671   \nangle(Z,gravityMean)                                         0.058759   \n\n                                      fBodyBodyGyroJerkMag-kurtosis()  \\\ntBodyAcc-mean()-X                                           -0.002255   \ntBodyAcc-mean()-Y                                           -0.002842   \ntBodyAcc-mean()-Z                                            0.023122   \ntBodyAcc-std()-X                                             0.135171   \ntBodyAcc-std()-Y                                             0.191164   \n...                                                               ...   \nangle(tBodyGyroMean,gravityMean)                             0.035684   \nangle(tBodyGyroJerkMean,gravityMean)                        -0.011829   \nangle(X,gravityMean)                                        -0.081971   \nangle(Y,gravityMean)                                         0.078010   \nangle(Z,gravityMean)                                         0.054008   \n\n                                      angle(tBodyAccMean,gravity)  \\\ntBodyAcc-mean()-X                                       -0.552989   \ntBodyAcc-mean()-Y                                        0.077750   \ntBodyAcc-mean()-Z                                        0.055020   \ntBodyAcc-std()-X                                        -0.034334   \ntBodyAcc-std()-Y                                        -0.020806   \n...                                                           ...   \nangle(tBodyGyroMean,gravityMean)                        -0.013009   \nangle(tBodyGyroJerkMean,gravityMean)                    -0.027478   \nangle(X,gravityMean)                                     0.008050   \nangle(Y,gravityMean)                                     0.003082   \nangle(Z,gravityMean)                                    -0.003242   \n\n                                      angle(tBodyAccJerkMean),gravityMean)  \\\ntBodyAcc-mean()-X                                                 0.015754   \ntBodyAcc-mean()-Y                                                -0.027567   \ntBodyAcc-mean()-Z                                                -0.042083   \ntBodyAcc-std()-X                                                 -0.017096   \ntBodyAcc-std()-Y                                                 -0.006605   \n...                                                                    ...   \nangle(tBodyGyroMean,gravityMean)                                  0.010679   \nangle(tBodyGyroJerkMean,gravityMean)                              0.023605   \nangle(X,gravityMean)                                              0.017534   \nangle(Y,gravityMean)                                             -0.007256   \nangle(Z,gravityMean)                                             -0.013130   \n\n                                      angle(tBodyGyroMean,gravityMean)  \\\ntBodyAcc-mean()-X                                             0.036047   \ntBodyAcc-mean()-Y                                             0.013241   \ntBodyAcc-mean()-Z                                            -0.066233   \ntBodyAcc-std()-X                                              0.027464   \ntBodyAcc-std()-Y                                              0.001902   \n...                                                                ...   \nangle(tBodyGyroMean,gravityMean)                              1.000000   \nangle(tBodyGyroJerkMean,gravityMean)                         -0.112454   \nangle(X,gravityMean)                                         -0.007095   \nangle(Y,gravityMean)                                         -0.006444   \nangle(Z,gravityMean)                                         -0.015380   \n\n                                      angle(tBodyGyroJerkMean,gravityMean)  \\\ntBodyAcc-mean()-X                                                 0.034296   \ntBodyAcc-mean()-Y                                                 0.077627   \ntBodyAcc-mean()-Z                                                -0.030748   \ntBodyAcc-std()-X                                                 -0.027123   \ntBodyAcc-std()-Y                                                 -0.015784   \n...                                                                    ...   \nangle(tBodyGyroMean,gravityMean)                                 -0.112454   \nangle(tBodyGyroJerkMean,gravityMean)                              1.000000   \nangle(X,gravityMean)                                              0.024822   \nangle(Y,gravityMean)                                             -0.004582   \nangle(Z,gravityMean)                                             -0.012549   \n\n                                      angle(X,gravityMean)  \\\ntBodyAcc-mean()-X                                -0.041021   \ntBodyAcc-mean()-Y                                -0.007513   \ntBodyAcc-mean()-Z                                 0.003215   \ntBodyAcc-std()-X                                 -0.374104   \ntBodyAcc-std()-Y                                 -0.381391   \n...                                                    ...   \nangle(tBodyGyroMean,gravityMean)                 -0.007095   \nangle(tBodyGyroJerkMean,gravityMean)              0.024822   \nangle(X,gravityMean)                              1.000000   \nangle(Y,gravityMean)                             -0.748249   \nangle(Z,gravityMean)                             -0.635231   \n\n                                      angle(Y,gravityMean)  \\\ntBodyAcc-mean()-X                                 0.034053   \ntBodyAcc-mean()-Y                                -0.005616   \ntBodyAcc-mean()-Z                                -0.012986   \ntBodyAcc-std()-X                                  0.449425   \ntBodyAcc-std()-Y                                  0.506106   \n...                                                    ...   \nangle(tBodyGyroMean,gravityMean)                 -0.006444   \nangle(tBodyGyroJerkMean,gravityMean)             -0.004582   \nangle(X,gravityMean)                             -0.748249   \nangle(Y,gravityMean)                              1.000000   \nangle(Z,gravityMean)                              0.545614   \n\n                                      angle(Z,gravityMean)  \ntBodyAcc-mean()-X                                 0.030656  \ntBodyAcc-mean()-Y                                -0.016233  \ntBodyAcc-mean()-Z                                -0.028406  \ntBodyAcc-std()-X                                  0.393063  \ntBodyAcc-std()-Y                                  0.425511  \n...                                                    ...  \nangle(tBodyGyroMean,gravityMean)                 -0.015380  \nangle(tBodyGyroJerkMean,gravityMean)             -0.012549  \nangle(X,gravityMean)                             -0.635231  \nangle(Y,gravityMean)                              0.545614  \nangle(Z,gravityMean)                              1.000000  \n\n[561 rows x 561 columns]",
            "text/html": "<div>\n<style scoped>\n    .dataframe tbody tr th:only-of-type {\n        vertical-align: middle;\n    }\n\n    .dataframe tbody tr th {\n        vertical-align: top;\n    }\n\n    .dataframe thead th {\n        text-align: right;\n    }\n</style>\n<table border=\"1\" class=\"dataframe\">\n  <thead>\n    <tr style=\"text-align: right;\">\n      <th></th>\n      <th>tBodyAcc-mean()-X</th>\n      <th>tBodyAcc-mean()-Y</th>\n      <th>tBodyAcc-mean()-Z</th>\n      <th>tBodyAcc-std()-X</th>\n      <th>tBodyAcc-std()-Y</th>\n      <th>tBodyAcc-std()-Z</th>\n      <th>tBodyAcc-mad()-X</th>\n      <th>tBodyAcc-mad()-Y</th>\n      <th>tBodyAcc-mad()-Z</th>\n      <th>tBodyAcc-max()-X</th>\n      <th>...</th>\n      <th>fBodyBodyGyroJerkMag-meanFreq()</th>\n      <th>fBodyBodyGyroJerkMag-skewness()</th>\n      <th>fBodyBodyGyroJerkMag-kurtosis()</th>\n      <th>angle(tBodyAccMean,gravity)</th>\n      <th>angle(tBodyAccJerkMean),gravityMean)</th>\n      <th>angle(tBodyGyroMean,gravityMean)</th>\n      <th>angle(tBodyGyroJerkMean,gravityMean)</th>\n      <th>angle(X,gravityMean)</th>\n      <th>angle(Y,gravityMean)</th>\n      <th>angle(Z,gravityMean)</th>\n    </tr>\n  </thead>\n  <tbody>\n    <tr>\n      <th>tBodyAcc-mean()-X</th>\n      <td>1.000000</td>\n      <td>0.128037</td>\n      <td>-0.230302</td>\n      <td>0.004590</td>\n      <td>-0.016785</td>\n      <td>-0.036071</td>\n      <td>0.010303</td>\n      <td>-0.017488</td>\n      <td>-0.038805</td>\n      <td>0.046943</td>\n      <td>...</td>\n      <td>0.029901</td>\n      <td>-0.006179</td>\n      <td>-0.002255</td>\n      <td>-0.552989</td>\n      <td>0.015754</td>\n      <td>0.036047</td>\n      <td>0.034296</td>\n      <td>-0.041021</td>\n      <td>0.034053</td>\n      <td>0.030656</td>\n    </tr>\n    <tr>\n      <th>tBodyAcc-mean()-Y</th>\n      <td>0.128037</td>\n      <td>1.000000</td>\n      <td>-0.029882</td>\n      <td>-0.046352</td>\n      <td>-0.046996</td>\n      <td>-0.054153</td>\n      <td>-0.045247</td>\n      <td>-0.047673</td>\n      <td>-0.055524</td>\n      <td>-0.039445</td>\n      <td>...</td>\n      <td>-0.014402</td>\n      <td>-0.000649</td>\n      <td>-0.002842</td>\n      <td>0.077750</td>\n      <td>-0.027567</td>\n      <td>0.013241</td>\n      <td>0.077627</td>\n      <td>-0.007513</td>\n      <td>-0.005616</td>\n      <td>-0.016233</td>\n    </tr>\n    <tr>\n      <th>tBodyAcc-mean()-Z</th>\n      <td>-0.230302</td>\n      <td>-0.029882</td>\n      <td>1.000000</td>\n      <td>-0.024185</td>\n      <td>-0.023745</td>\n      <td>-0.015632</td>\n      <td>-0.022872</td>\n      <td>-0.022966</td>\n      <td>-0.009577</td>\n      <td>-0.040218</td>\n      <td>...</td>\n      <td>-0.015358</td>\n      <td>0.023050</td>\n      <td>0.023122</td>\n      <td>0.055020</td>\n      <td>-0.042083</td>\n      <td>-0.066233</td>\n      <td>-0.030748</td>\n      <td>0.003215</td>\n      <td>-0.012986</td>\n      <td>-0.028406</td>\n    </tr>\n    <tr>\n      <th>tBodyAcc-std()-X</th>\n      <td>0.004590</td>\n      <td>-0.046352</td>\n      <td>-0.024185</td>\n      <td>1.000000</td>\n      <td>0.922525</td>\n      <td>0.861910</td>\n      <td>0.998662</td>\n      <td>0.916087</td>\n      <td>0.856497</td>\n      <td>0.981226</td>\n      <td>...</td>\n      <td>-0.068807</td>\n      <td>0.165552</td>\n      <td>0.135171</td>\n      <td>-0.034334</td>\n      <td>-0.017096</td>\n      <td>0.027464</td>\n      <td>-0.027123</td>\n      <td>-0.374104</td>\n      <td>0.449425</td>\n      <td>0.393063</td>\n    </tr>\n    <tr>\n      <th>tBodyAcc-std()-Y</th>\n      <td>-0.016785</td>\n      <td>-0.046996</td>\n      <td>-0.023745</td>\n      <td>0.922525</td>\n      <td>1.000000</td>\n      <td>0.888259</td>\n      <td>0.918561</td>\n      <td>0.997510</td>\n      <td>0.887052</td>\n      <td>0.911137</td>\n      <td>...</td>\n      <td>-0.109941</td>\n      <td>0.220279</td>\n      <td>0.191164</td>\n      <td>-0.020806</td>\n      <td>-0.006605</td>\n      <td>0.001902</td>\n      <td>-0.015784</td>\n      <td>-0.381391</td>\n      <td>0.506106</td>\n      <td>0.425511</td>\n    </tr>\n    <tr>\n      <th>...</th>\n      <td>...</td>\n      <td>...</td>\n      <td>...</td>\n      <td>...</td>\n      <td>...</td>\n      <td>...</td>\n      <td>...</td>\n      <td>...</td>\n      <td>...</td>\n      <td>...</td>\n      <td>...</td>\n      <td>...</td>\n      <td>...</td>\n      <td>...</td>\n      <td>...</td>\n      <td>...</td>\n      <td>...</td>\n      <td>...</td>\n      <td>...</td>\n      <td>...</td>\n      <td>...</td>\n    </tr>\n    <tr>\n      <th>angle(tBodyGyroMean,gravityMean)</th>\n      <td>0.036047</td>\n      <td>0.013241</td>\n      <td>-0.066233</td>\n      <td>0.027464</td>\n      <td>0.001902</td>\n      <td>-0.004984</td>\n      <td>0.027729</td>\n      <td>-0.002924</td>\n      <td>-0.009873</td>\n      <td>0.033533</td>\n      <td>...</td>\n      <td>-0.029273</td>\n      <td>0.042123</td>\n      <td>0.035684</td>\n      <td>-0.013009</td>\n      <td>0.010679</td>\n      <td>1.000000</td>\n      <td>-0.112454</td>\n      <td>-0.007095</td>\n      <td>-0.006444</td>\n      <td>-0.015380</td>\n    </tr>\n    <tr>\n      <th>angle(tBodyGyroJerkMean,gravityMean)</th>\n      <td>0.034296</td>\n      <td>0.077627</td>\n      <td>-0.030748</td>\n      <td>-0.027123</td>\n      <td>-0.015784</td>\n      <td>-0.012196</td>\n      <td>-0.027097</td>\n      <td>-0.013411</td>\n      <td>-0.012800</td>\n      <td>-0.030908</td>\n      <td>...</td>\n      <td>-0.002618</td>\n      <td>-0.013065</td>\n      <td>-0.011829</td>\n      <td>-0.027478</td>\n      <td>0.023605</td>\n      <td>-0.112454</td>\n      <td>1.000000</td>\n      <td>0.024822</td>\n      <td>-0.004582</td>\n      <td>-0.012549</td>\n    </tr>\n    <tr>\n      <th>angle(X,gravityMean)</th>\n      <td>-0.041021</td>\n      <td>-0.007513</td>\n      <td>0.003215</td>\n      <td>-0.374104</td>\n      <td>-0.381391</td>\n      <td>-0.353271</td>\n      <td>-0.371168</td>\n      <td>-0.378013</td>\n      <td>-0.355836</td>\n      <td>-0.384244</td>\n      <td>...</td>\n      <td>0.087571</td>\n      <td>-0.085226</td>\n      <td>-0.081971</td>\n      <td>0.008050</td>\n      <td>0.017534</td>\n      <td>-0.007095</td>\n      <td>0.024822</td>\n      <td>1.000000</td>\n      <td>-0.748249</td>\n      <td>-0.635231</td>\n    </tr>\n    <tr>\n      <th>angle(Y,gravityMean)</th>\n      <td>0.034053</td>\n      <td>-0.005616</td>\n      <td>-0.012986</td>\n      <td>0.449425</td>\n      <td>0.506106</td>\n      <td>0.459092</td>\n      <td>0.444926</td>\n      <td>0.507947</td>\n      <td>0.460345</td>\n      <td>0.458832</td>\n      <td>...</td>\n      <td>-0.105752</td>\n      <td>0.087671</td>\n      <td>0.078010</td>\n      <td>0.003082</td>\n      <td>-0.007256</td>\n      <td>-0.006444</td>\n      <td>-0.004582</td>\n      <td>-0.748249</td>\n      <td>1.000000</td>\n      <td>0.545614</td>\n    </tr>\n    <tr>\n      <th>angle(Z,gravityMean)</th>\n      <td>0.030656</td>\n      <td>-0.016233</td>\n      <td>-0.028406</td>\n      <td>0.393063</td>\n      <td>0.425511</td>\n      <td>0.483424</td>\n      <td>0.389481</td>\n      <td>0.424479</td>\n      <td>0.480032</td>\n      <td>0.402873</td>\n      <td>...</td>\n      <td>-0.061105</td>\n      <td>0.058759</td>\n      <td>0.054008</td>\n      <td>-0.003242</td>\n      <td>-0.013130</td>\n      <td>-0.015380</td>\n      <td>-0.012549</td>\n      <td>-0.635231</td>\n      <td>0.545614</td>\n      <td>1.000000</td>\n    </tr>\n  </tbody>\n</table>\n<p>561 rows × 561 columns</p>\n</div>"
          },
          "metadata": {}
        }
      ],
      "execution_count": 15
    },
    {
      "cell_type": "code",
      "source": "# return lower row and column indices of the lower triangular part\ntril_index = np.tril_indices_from(corr_values)\n# return two arrays: row indices & col indices\ntril_index",
      "metadata": {
        "trusted": true
      },
      "outputs": [
        {
          "execution_count": 16,
          "output_type": "execute_result",
          "data": {
            "text/plain": "(array([  0,   1,   1, ..., 560, 560, 560]),\n array([  0,   0,   1, ..., 558, 559, 560]))"
          },
          "metadata": {}
        }
      ],
      "execution_count": 16
    },
    {
      "cell_type": "code",
      "source": "list(zip(*tril_index))[:5] # * called argument unpacking",
      "metadata": {
        "trusted": true
      },
      "outputs": [
        {
          "execution_count": 24,
          "output_type": "execute_result",
          "data": {
            "text/plain": "[(np.int32(0), np.int32(0)),\n (np.int32(1), np.int32(0)),\n (np.int32(1), np.int32(1)),\n (np.int32(2), np.int32(0)),\n (np.int32(2), np.int32(1))]"
          },
          "metadata": {}
        }
      ],
      "execution_count": 24
    },
    {
      "cell_type": "code",
      "source": "# fill NaN to all lower triangular part\nfor coord in zip(*tril_index):\n    corr_values.iloc[coord[0], coord[1]] = np.nan\ncorr_values",
      "metadata": {
        "trusted": true
      },
      "outputs": [
        {
          "execution_count": 29,
          "output_type": "execute_result",
          "data": {
            "text/plain": "                                      tBodyAcc-mean()-X  tBodyAcc-mean()-Y  \\\ntBodyAcc-mean()-X                                   NaN           0.128037   \ntBodyAcc-mean()-Y                                   NaN                NaN   \ntBodyAcc-mean()-Z                                   NaN                NaN   \ntBodyAcc-std()-X                                    NaN                NaN   \ntBodyAcc-std()-Y                                    NaN                NaN   \n...                                                 ...                ...   \nangle(tBodyGyroMean,gravityMean)                    NaN                NaN   \nangle(tBodyGyroJerkMean,gravityMean)                NaN                NaN   \nangle(X,gravityMean)                                NaN                NaN   \nangle(Y,gravityMean)                                NaN                NaN   \nangle(Z,gravityMean)                                NaN                NaN   \n\n                                      tBodyAcc-mean()-Z  tBodyAcc-std()-X  \\\ntBodyAcc-mean()-X                             -0.230302          0.004590   \ntBodyAcc-mean()-Y                             -0.029882         -0.046352   \ntBodyAcc-mean()-Z                                   NaN         -0.024185   \ntBodyAcc-std()-X                                    NaN               NaN   \ntBodyAcc-std()-Y                                    NaN               NaN   \n...                                                 ...               ...   \nangle(tBodyGyroMean,gravityMean)                    NaN               NaN   \nangle(tBodyGyroJerkMean,gravityMean)                NaN               NaN   \nangle(X,gravityMean)                                NaN               NaN   \nangle(Y,gravityMean)                                NaN               NaN   \nangle(Z,gravityMean)                                NaN               NaN   \n\n                                      tBodyAcc-std()-Y  tBodyAcc-std()-Z  \\\ntBodyAcc-mean()-X                            -0.016785         -0.036071   \ntBodyAcc-mean()-Y                            -0.046996         -0.054153   \ntBodyAcc-mean()-Z                            -0.023745         -0.015632   \ntBodyAcc-std()-X                              0.922525          0.861910   \ntBodyAcc-std()-Y                                   NaN          0.888259   \n...                                                ...               ...   \nangle(tBodyGyroMean,gravityMean)                   NaN               NaN   \nangle(tBodyGyroJerkMean,gravityMean)               NaN               NaN   \nangle(X,gravityMean)                               NaN               NaN   \nangle(Y,gravityMean)                               NaN               NaN   \nangle(Z,gravityMean)                               NaN               NaN   \n\n                                      tBodyAcc-mad()-X  tBodyAcc-mad()-Y  \\\ntBodyAcc-mean()-X                             0.010303         -0.017488   \ntBodyAcc-mean()-Y                            -0.045247         -0.047673   \ntBodyAcc-mean()-Z                            -0.022872         -0.022966   \ntBodyAcc-std()-X                              0.998662          0.916087   \ntBodyAcc-std()-Y                              0.918561          0.997510   \n...                                                ...               ...   \nangle(tBodyGyroMean,gravityMean)                   NaN               NaN   \nangle(tBodyGyroJerkMean,gravityMean)               NaN               NaN   \nangle(X,gravityMean)                               NaN               NaN   \nangle(Y,gravityMean)                               NaN               NaN   \nangle(Z,gravityMean)                               NaN               NaN   \n\n                                      tBodyAcc-mad()-Z  tBodyAcc-max()-X  ...  \\\ntBodyAcc-mean()-X                            -0.038805          0.046943  ...   \ntBodyAcc-mean()-Y                            -0.055524         -0.039445  ...   \ntBodyAcc-mean()-Z                            -0.009577         -0.040218  ...   \ntBodyAcc-std()-X                              0.856497          0.981226  ...   \ntBodyAcc-std()-Y                              0.887052          0.911137  ...   \n...                                                ...               ...  ...   \nangle(tBodyGyroMean,gravityMean)                   NaN               NaN  ...   \nangle(tBodyGyroJerkMean,gravityMean)               NaN               NaN  ...   \nangle(X,gravityMean)                               NaN               NaN  ...   \nangle(Y,gravityMean)                               NaN               NaN  ...   \nangle(Z,gravityMean)                               NaN               NaN  ...   \n\n                                      fBodyBodyGyroJerkMag-meanFreq()  \\\ntBodyAcc-mean()-X                                            0.029901   \ntBodyAcc-mean()-Y                                           -0.014402   \ntBodyAcc-mean()-Z                                           -0.015358   \ntBodyAcc-std()-X                                            -0.068807   \ntBodyAcc-std()-Y                                            -0.109941   \n...                                                               ...   \nangle(tBodyGyroMean,gravityMean)                                  NaN   \nangle(tBodyGyroJerkMean,gravityMean)                              NaN   \nangle(X,gravityMean)                                              NaN   \nangle(Y,gravityMean)                                              NaN   \nangle(Z,gravityMean)                                              NaN   \n\n                                      fBodyBodyGyroJerkMag-skewness()  \\\ntBodyAcc-mean()-X                                           -0.006179   \ntBodyAcc-mean()-Y                                           -0.000649   \ntBodyAcc-mean()-Z                                            0.023050   \ntBodyAcc-std()-X                                             0.165552   \ntBodyAcc-std()-Y                                             0.220279   \n...                                                               ...   \nangle(tBodyGyroMean,gravityMean)                                  NaN   \nangle(tBodyGyroJerkMean,gravityMean)                              NaN   \nangle(X,gravityMean)                                              NaN   \nangle(Y,gravityMean)                                              NaN   \nangle(Z,gravityMean)                                              NaN   \n\n                                      fBodyBodyGyroJerkMag-kurtosis()  \\\ntBodyAcc-mean()-X                                           -0.002255   \ntBodyAcc-mean()-Y                                           -0.002842   \ntBodyAcc-mean()-Z                                            0.023122   \ntBodyAcc-std()-X                                             0.135171   \ntBodyAcc-std()-Y                                             0.191164   \n...                                                               ...   \nangle(tBodyGyroMean,gravityMean)                                  NaN   \nangle(tBodyGyroJerkMean,gravityMean)                              NaN   \nangle(X,gravityMean)                                              NaN   \nangle(Y,gravityMean)                                              NaN   \nangle(Z,gravityMean)                                              NaN   \n\n                                      angle(tBodyAccMean,gravity)  \\\ntBodyAcc-mean()-X                                       -0.552989   \ntBodyAcc-mean()-Y                                        0.077750   \ntBodyAcc-mean()-Z                                        0.055020   \ntBodyAcc-std()-X                                        -0.034334   \ntBodyAcc-std()-Y                                        -0.020806   \n...                                                           ...   \nangle(tBodyGyroMean,gravityMean)                              NaN   \nangle(tBodyGyroJerkMean,gravityMean)                          NaN   \nangle(X,gravityMean)                                          NaN   \nangle(Y,gravityMean)                                          NaN   \nangle(Z,gravityMean)                                          NaN   \n\n                                      angle(tBodyAccJerkMean),gravityMean)  \\\ntBodyAcc-mean()-X                                                 0.015754   \ntBodyAcc-mean()-Y                                                -0.027567   \ntBodyAcc-mean()-Z                                                -0.042083   \ntBodyAcc-std()-X                                                 -0.017096   \ntBodyAcc-std()-Y                                                 -0.006605   \n...                                                                    ...   \nangle(tBodyGyroMean,gravityMean)                                       NaN   \nangle(tBodyGyroJerkMean,gravityMean)                                   NaN   \nangle(X,gravityMean)                                                   NaN   \nangle(Y,gravityMean)                                                   NaN   \nangle(Z,gravityMean)                                                   NaN   \n\n                                      angle(tBodyGyroMean,gravityMean)  \\\ntBodyAcc-mean()-X                                             0.036047   \ntBodyAcc-mean()-Y                                             0.013241   \ntBodyAcc-mean()-Z                                            -0.066233   \ntBodyAcc-std()-X                                              0.027464   \ntBodyAcc-std()-Y                                              0.001902   \n...                                                                ...   \nangle(tBodyGyroMean,gravityMean)                                   NaN   \nangle(tBodyGyroJerkMean,gravityMean)                               NaN   \nangle(X,gravityMean)                                               NaN   \nangle(Y,gravityMean)                                               NaN   \nangle(Z,gravityMean)                                               NaN   \n\n                                      angle(tBodyGyroJerkMean,gravityMean)  \\\ntBodyAcc-mean()-X                                                 0.034296   \ntBodyAcc-mean()-Y                                                 0.077627   \ntBodyAcc-mean()-Z                                                -0.030748   \ntBodyAcc-std()-X                                                 -0.027123   \ntBodyAcc-std()-Y                                                 -0.015784   \n...                                                                    ...   \nangle(tBodyGyroMean,gravityMean)                                 -0.112454   \nangle(tBodyGyroJerkMean,gravityMean)                                   NaN   \nangle(X,gravityMean)                                                   NaN   \nangle(Y,gravityMean)                                                   NaN   \nangle(Z,gravityMean)                                                   NaN   \n\n                                      angle(X,gravityMean)  \\\ntBodyAcc-mean()-X                                -0.041021   \ntBodyAcc-mean()-Y                                -0.007513   \ntBodyAcc-mean()-Z                                 0.003215   \ntBodyAcc-std()-X                                 -0.374104   \ntBodyAcc-std()-Y                                 -0.381391   \n...                                                    ...   \nangle(tBodyGyroMean,gravityMean)                 -0.007095   \nangle(tBodyGyroJerkMean,gravityMean)              0.024822   \nangle(X,gravityMean)                                   NaN   \nangle(Y,gravityMean)                                   NaN   \nangle(Z,gravityMean)                                   NaN   \n\n                                      angle(Y,gravityMean)  \\\ntBodyAcc-mean()-X                                 0.034053   \ntBodyAcc-mean()-Y                                -0.005616   \ntBodyAcc-mean()-Z                                -0.012986   \ntBodyAcc-std()-X                                  0.449425   \ntBodyAcc-std()-Y                                  0.506106   \n...                                                    ...   \nangle(tBodyGyroMean,gravityMean)                 -0.006444   \nangle(tBodyGyroJerkMean,gravityMean)             -0.004582   \nangle(X,gravityMean)                             -0.748249   \nangle(Y,gravityMean)                                   NaN   \nangle(Z,gravityMean)                                   NaN   \n\n                                      angle(Z,gravityMean)  \ntBodyAcc-mean()-X                                 0.030656  \ntBodyAcc-mean()-Y                                -0.016233  \ntBodyAcc-mean()-Z                                -0.028406  \ntBodyAcc-std()-X                                  0.393063  \ntBodyAcc-std()-Y                                  0.425511  \n...                                                    ...  \nangle(tBodyGyroMean,gravityMean)                 -0.015380  \nangle(tBodyGyroJerkMean,gravityMean)             -0.012549  \nangle(X,gravityMean)                             -0.635231  \nangle(Y,gravityMean)                              0.545614  \nangle(Z,gravityMean)                                   NaN  \n\n[561 rows x 561 columns]",
            "text/html": "<div>\n<style scoped>\n    .dataframe tbody tr th:only-of-type {\n        vertical-align: middle;\n    }\n\n    .dataframe tbody tr th {\n        vertical-align: top;\n    }\n\n    .dataframe thead th {\n        text-align: right;\n    }\n</style>\n<table border=\"1\" class=\"dataframe\">\n  <thead>\n    <tr style=\"text-align: right;\">\n      <th></th>\n      <th>tBodyAcc-mean()-X</th>\n      <th>tBodyAcc-mean()-Y</th>\n      <th>tBodyAcc-mean()-Z</th>\n      <th>tBodyAcc-std()-X</th>\n      <th>tBodyAcc-std()-Y</th>\n      <th>tBodyAcc-std()-Z</th>\n      <th>tBodyAcc-mad()-X</th>\n      <th>tBodyAcc-mad()-Y</th>\n      <th>tBodyAcc-mad()-Z</th>\n      <th>tBodyAcc-max()-X</th>\n      <th>...</th>\n      <th>fBodyBodyGyroJerkMag-meanFreq()</th>\n      <th>fBodyBodyGyroJerkMag-skewness()</th>\n      <th>fBodyBodyGyroJerkMag-kurtosis()</th>\n      <th>angle(tBodyAccMean,gravity)</th>\n      <th>angle(tBodyAccJerkMean),gravityMean)</th>\n      <th>angle(tBodyGyroMean,gravityMean)</th>\n      <th>angle(tBodyGyroJerkMean,gravityMean)</th>\n      <th>angle(X,gravityMean)</th>\n      <th>angle(Y,gravityMean)</th>\n      <th>angle(Z,gravityMean)</th>\n    </tr>\n  </thead>\n  <tbody>\n    <tr>\n      <th>tBodyAcc-mean()-X</th>\n      <td>NaN</td>\n      <td>0.128037</td>\n      <td>-0.230302</td>\n      <td>0.004590</td>\n      <td>-0.016785</td>\n      <td>-0.036071</td>\n      <td>0.010303</td>\n      <td>-0.017488</td>\n      <td>-0.038805</td>\n      <td>0.046943</td>\n      <td>...</td>\n      <td>0.029901</td>\n      <td>-0.006179</td>\n      <td>-0.002255</td>\n      <td>-0.552989</td>\n      <td>0.015754</td>\n      <td>0.036047</td>\n      <td>0.034296</td>\n      <td>-0.041021</td>\n      <td>0.034053</td>\n      <td>0.030656</td>\n    </tr>\n    <tr>\n      <th>tBodyAcc-mean()-Y</th>\n      <td>NaN</td>\n      <td>NaN</td>\n      <td>-0.029882</td>\n      <td>-0.046352</td>\n      <td>-0.046996</td>\n      <td>-0.054153</td>\n      <td>-0.045247</td>\n      <td>-0.047673</td>\n      <td>-0.055524</td>\n      <td>-0.039445</td>\n      <td>...</td>\n      <td>-0.014402</td>\n      <td>-0.000649</td>\n      <td>-0.002842</td>\n      <td>0.077750</td>\n      <td>-0.027567</td>\n      <td>0.013241</td>\n      <td>0.077627</td>\n      <td>-0.007513</td>\n      <td>-0.005616</td>\n      <td>-0.016233</td>\n    </tr>\n    <tr>\n      <th>tBodyAcc-mean()-Z</th>\n      <td>NaN</td>\n      <td>NaN</td>\n      <td>NaN</td>\n      <td>-0.024185</td>\n      <td>-0.023745</td>\n      <td>-0.015632</td>\n      <td>-0.022872</td>\n      <td>-0.022966</td>\n      <td>-0.009577</td>\n      <td>-0.040218</td>\n      <td>...</td>\n      <td>-0.015358</td>\n      <td>0.023050</td>\n      <td>0.023122</td>\n      <td>0.055020</td>\n      <td>-0.042083</td>\n      <td>-0.066233</td>\n      <td>-0.030748</td>\n      <td>0.003215</td>\n      <td>-0.012986</td>\n      <td>-0.028406</td>\n    </tr>\n    <tr>\n      <th>tBodyAcc-std()-X</th>\n      <td>NaN</td>\n      <td>NaN</td>\n      <td>NaN</td>\n      <td>NaN</td>\n      <td>0.922525</td>\n      <td>0.861910</td>\n      <td>0.998662</td>\n      <td>0.916087</td>\n      <td>0.856497</td>\n      <td>0.981226</td>\n      <td>...</td>\n      <td>-0.068807</td>\n      <td>0.165552</td>\n      <td>0.135171</td>\n      <td>-0.034334</td>\n      <td>-0.017096</td>\n      <td>0.027464</td>\n      <td>-0.027123</td>\n      <td>-0.374104</td>\n      <td>0.449425</td>\n      <td>0.393063</td>\n    </tr>\n    <tr>\n      <th>tBodyAcc-std()-Y</th>\n      <td>NaN</td>\n      <td>NaN</td>\n      <td>NaN</td>\n      <td>NaN</td>\n      <td>NaN</td>\n      <td>0.888259</td>\n      <td>0.918561</td>\n      <td>0.997510</td>\n      <td>0.887052</td>\n      <td>0.911137</td>\n      <td>...</td>\n      <td>-0.109941</td>\n      <td>0.220279</td>\n      <td>0.191164</td>\n      <td>-0.020806</td>\n      <td>-0.006605</td>\n      <td>0.001902</td>\n      <td>-0.015784</td>\n      <td>-0.381391</td>\n      <td>0.506106</td>\n      <td>0.425511</td>\n    </tr>\n    <tr>\n      <th>...</th>\n      <td>...</td>\n      <td>...</td>\n      <td>...</td>\n      <td>...</td>\n      <td>...</td>\n      <td>...</td>\n      <td>...</td>\n      <td>...</td>\n      <td>...</td>\n      <td>...</td>\n      <td>...</td>\n      <td>...</td>\n      <td>...</td>\n      <td>...</td>\n      <td>...</td>\n      <td>...</td>\n      <td>...</td>\n      <td>...</td>\n      <td>...</td>\n      <td>...</td>\n      <td>...</td>\n    </tr>\n    <tr>\n      <th>angle(tBodyGyroMean,gravityMean)</th>\n      <td>NaN</td>\n      <td>NaN</td>\n      <td>NaN</td>\n      <td>NaN</td>\n      <td>NaN</td>\n      <td>NaN</td>\n      <td>NaN</td>\n      <td>NaN</td>\n      <td>NaN</td>\n      <td>NaN</td>\n      <td>...</td>\n      <td>NaN</td>\n      <td>NaN</td>\n      <td>NaN</td>\n      <td>NaN</td>\n      <td>NaN</td>\n      <td>NaN</td>\n      <td>-0.112454</td>\n      <td>-0.007095</td>\n      <td>-0.006444</td>\n      <td>-0.015380</td>\n    </tr>\n    <tr>\n      <th>angle(tBodyGyroJerkMean,gravityMean)</th>\n      <td>NaN</td>\n      <td>NaN</td>\n      <td>NaN</td>\n      <td>NaN</td>\n      <td>NaN</td>\n      <td>NaN</td>\n      <td>NaN</td>\n      <td>NaN</td>\n      <td>NaN</td>\n      <td>NaN</td>\n      <td>...</td>\n      <td>NaN</td>\n      <td>NaN</td>\n      <td>NaN</td>\n      <td>NaN</td>\n      <td>NaN</td>\n      <td>NaN</td>\n      <td>NaN</td>\n      <td>0.024822</td>\n      <td>-0.004582</td>\n      <td>-0.012549</td>\n    </tr>\n    <tr>\n      <th>angle(X,gravityMean)</th>\n      <td>NaN</td>\n      <td>NaN</td>\n      <td>NaN</td>\n      <td>NaN</td>\n      <td>NaN</td>\n      <td>NaN</td>\n      <td>NaN</td>\n      <td>NaN</td>\n      <td>NaN</td>\n      <td>NaN</td>\n      <td>...</td>\n      <td>NaN</td>\n      <td>NaN</td>\n      <td>NaN</td>\n      <td>NaN</td>\n      <td>NaN</td>\n      <td>NaN</td>\n      <td>NaN</td>\n      <td>NaN</td>\n      <td>-0.748249</td>\n      <td>-0.635231</td>\n    </tr>\n    <tr>\n      <th>angle(Y,gravityMean)</th>\n      <td>NaN</td>\n      <td>NaN</td>\n      <td>NaN</td>\n      <td>NaN</td>\n      <td>NaN</td>\n      <td>NaN</td>\n      <td>NaN</td>\n      <td>NaN</td>\n      <td>NaN</td>\n      <td>NaN</td>\n      <td>...</td>\n      <td>NaN</td>\n      <td>NaN</td>\n      <td>NaN</td>\n      <td>NaN</td>\n      <td>NaN</td>\n      <td>NaN</td>\n      <td>NaN</td>\n      <td>NaN</td>\n      <td>NaN</td>\n      <td>0.545614</td>\n    </tr>\n    <tr>\n      <th>angle(Z,gravityMean)</th>\n      <td>NaN</td>\n      <td>NaN</td>\n      <td>NaN</td>\n      <td>NaN</td>\n      <td>NaN</td>\n      <td>NaN</td>\n      <td>NaN</td>\n      <td>NaN</td>\n      <td>NaN</td>\n      <td>NaN</td>\n      <td>...</td>\n      <td>NaN</td>\n      <td>NaN</td>\n      <td>NaN</td>\n      <td>NaN</td>\n      <td>NaN</td>\n      <td>NaN</td>\n      <td>NaN</td>\n      <td>NaN</td>\n      <td>NaN</td>\n      <td>NaN</td>\n    </tr>\n  </tbody>\n</table>\n<p>561 rows × 561 columns</p>\n</div>"
          },
          "metadata": {}
        }
      ],
      "execution_count": 29
    },
    {
      "cell_type": "code",
      "source": "# Testing stack() function\n\ndata = {'A': [1, 2], 'B': [3, 4]}\n\ndf = pd.DataFrame(data)\ndisplay(df)\n\nh = df.stack() # fewer columns but more rows\ndisplay(h)\n\nh.unstack()   # from row to columns",
      "metadata": {
        "trusted": true
      },
      "outputs": [
        {
          "output_type": "display_data",
          "data": {
            "text/plain": "   A  B\n0  1  3\n1  2  4",
            "text/html": "<div>\n<style scoped>\n    .dataframe tbody tr th:only-of-type {\n        vertical-align: middle;\n    }\n\n    .dataframe tbody tr th {\n        vertical-align: top;\n    }\n\n    .dataframe thead th {\n        text-align: right;\n    }\n</style>\n<table border=\"1\" class=\"dataframe\">\n  <thead>\n    <tr style=\"text-align: right;\">\n      <th></th>\n      <th>A</th>\n      <th>B</th>\n    </tr>\n  </thead>\n  <tbody>\n    <tr>\n      <th>0</th>\n      <td>1</td>\n      <td>3</td>\n    </tr>\n    <tr>\n      <th>1</th>\n      <td>2</td>\n      <td>4</td>\n    </tr>\n  </tbody>\n</table>\n</div>"
          },
          "metadata": {}
        },
        {
          "output_type": "display_data",
          "data": {
            "text/plain": "0  A    1\n   B    3\n1  A    2\n   B    4\ndtype: int64"
          },
          "metadata": {}
        },
        {
          "execution_count": 39,
          "output_type": "execute_result",
          "data": {
            "text/plain": "   A  B\n0  1  3\n1  2  4",
            "text/html": "<div>\n<style scoped>\n    .dataframe tbody tr th:only-of-type {\n        vertical-align: middle;\n    }\n\n    .dataframe tbody tr th {\n        vertical-align: top;\n    }\n\n    .dataframe thead th {\n        text-align: right;\n    }\n</style>\n<table border=\"1\" class=\"dataframe\">\n  <thead>\n    <tr style=\"text-align: right;\">\n      <th></th>\n      <th>A</th>\n      <th>B</th>\n    </tr>\n  </thead>\n  <tbody>\n    <tr>\n      <th>0</th>\n      <td>1</td>\n      <td>3</td>\n    </tr>\n    <tr>\n      <th>1</th>\n      <td>2</td>\n      <td>4</td>\n    </tr>\n  </tbody>\n</table>\n</div>"
          },
          "metadata": {}
        }
      ],
      "execution_count": 39
    },
    {
      "cell_type": "code",
      "source": "corr_values = corr_values.stack().to_frame().reset_index() \\\n                            .rename(columns={'level_0':'feature_1',\n                                             'level_1':'feature_2',\n                                             0:'correlation'})\ncorr_values",
      "metadata": {
        "trusted": true
      },
      "outputs": [
        {
          "execution_count": 42,
          "output_type": "execute_result",
          "data": {
            "text/plain": "                                   feature_1             feature_2  \\\n0                          tBodyAcc-mean()-X     tBodyAcc-mean()-Y   \n1                          tBodyAcc-mean()-X     tBodyAcc-mean()-Z   \n2                          tBodyAcc-mean()-X      tBodyAcc-std()-X   \n3                          tBodyAcc-mean()-X      tBodyAcc-std()-Y   \n4                          tBodyAcc-mean()-X      tBodyAcc-std()-Z   \n...                                      ...                   ...   \n157075  angle(tBodyGyroJerkMean,gravityMean)  angle(Y,gravityMean)   \n157076  angle(tBodyGyroJerkMean,gravityMean)  angle(Z,gravityMean)   \n157077                  angle(X,gravityMean)  angle(Y,gravityMean)   \n157078                  angle(X,gravityMean)  angle(Z,gravityMean)   \n157079                  angle(Y,gravityMean)  angle(Z,gravityMean)   \n\n        correlation  \n0          0.128037  \n1         -0.230302  \n2          0.004590  \n3         -0.016785  \n4         -0.036071  \n...             ...  \n157075    -0.004582  \n157076    -0.012549  \n157077    -0.748249  \n157078    -0.635231  \n157079     0.545614  \n\n[157080 rows x 3 columns]",
            "text/html": "<div>\n<style scoped>\n    .dataframe tbody tr th:only-of-type {\n        vertical-align: middle;\n    }\n\n    .dataframe tbody tr th {\n        vertical-align: top;\n    }\n\n    .dataframe thead th {\n        text-align: right;\n    }\n</style>\n<table border=\"1\" class=\"dataframe\">\n  <thead>\n    <tr style=\"text-align: right;\">\n      <th></th>\n      <th>feature_1</th>\n      <th>feature_2</th>\n      <th>correlation</th>\n    </tr>\n  </thead>\n  <tbody>\n    <tr>\n      <th>0</th>\n      <td>tBodyAcc-mean()-X</td>\n      <td>tBodyAcc-mean()-Y</td>\n      <td>0.128037</td>\n    </tr>\n    <tr>\n      <th>1</th>\n      <td>tBodyAcc-mean()-X</td>\n      <td>tBodyAcc-mean()-Z</td>\n      <td>-0.230302</td>\n    </tr>\n    <tr>\n      <th>2</th>\n      <td>tBodyAcc-mean()-X</td>\n      <td>tBodyAcc-std()-X</td>\n      <td>0.004590</td>\n    </tr>\n    <tr>\n      <th>3</th>\n      <td>tBodyAcc-mean()-X</td>\n      <td>tBodyAcc-std()-Y</td>\n      <td>-0.016785</td>\n    </tr>\n    <tr>\n      <th>4</th>\n      <td>tBodyAcc-mean()-X</td>\n      <td>tBodyAcc-std()-Z</td>\n      <td>-0.036071</td>\n    </tr>\n    <tr>\n      <th>...</th>\n      <td>...</td>\n      <td>...</td>\n      <td>...</td>\n    </tr>\n    <tr>\n      <th>157075</th>\n      <td>angle(tBodyGyroJerkMean,gravityMean)</td>\n      <td>angle(Y,gravityMean)</td>\n      <td>-0.004582</td>\n    </tr>\n    <tr>\n      <th>157076</th>\n      <td>angle(tBodyGyroJerkMean,gravityMean)</td>\n      <td>angle(Z,gravityMean)</td>\n      <td>-0.012549</td>\n    </tr>\n    <tr>\n      <th>157077</th>\n      <td>angle(X,gravityMean)</td>\n      <td>angle(Y,gravityMean)</td>\n      <td>-0.748249</td>\n    </tr>\n    <tr>\n      <th>157078</th>\n      <td>angle(X,gravityMean)</td>\n      <td>angle(Z,gravityMean)</td>\n      <td>-0.635231</td>\n    </tr>\n    <tr>\n      <th>157079</th>\n      <td>angle(Y,gravityMean)</td>\n      <td>angle(Z,gravityMean)</td>\n      <td>0.545614</td>\n    </tr>\n  </tbody>\n</table>\n<p>157080 rows × 3 columns</p>\n</div>"
          },
          "metadata": {}
        }
      ],
      "execution_count": 42
    },
    {
      "cell_type": "code",
      "source": "corr_values[corr_values.isna()].sample(5)",
      "metadata": {
        "trusted": true
      },
      "outputs": [
        {
          "execution_count": 48,
          "output_type": "execute_result",
          "data": {
            "text/plain": "       feature_1 feature_2  correlation\n123159       NaN       NaN          NaN\n99211        NaN       NaN          NaN\n112385       NaN       NaN          NaN\n126352       NaN       NaN          NaN\n74095        NaN       NaN          NaN",
            "text/html": "<div>\n<style scoped>\n    .dataframe tbody tr th:only-of-type {\n        vertical-align: middle;\n    }\n\n    .dataframe tbody tr th {\n        vertical-align: top;\n    }\n\n    .dataframe thead th {\n        text-align: right;\n    }\n</style>\n<table border=\"1\" class=\"dataframe\">\n  <thead>\n    <tr style=\"text-align: right;\">\n      <th></th>\n      <th>feature_1</th>\n      <th>feature_2</th>\n      <th>correlation</th>\n    </tr>\n  </thead>\n  <tbody>\n    <tr>\n      <th>123159</th>\n      <td>NaN</td>\n      <td>NaN</td>\n      <td>NaN</td>\n    </tr>\n    <tr>\n      <th>99211</th>\n      <td>NaN</td>\n      <td>NaN</td>\n      <td>NaN</td>\n    </tr>\n    <tr>\n      <th>112385</th>\n      <td>NaN</td>\n      <td>NaN</td>\n      <td>NaN</td>\n    </tr>\n    <tr>\n      <th>126352</th>\n      <td>NaN</td>\n      <td>NaN</td>\n      <td>NaN</td>\n    </tr>\n    <tr>\n      <th>74095</th>\n      <td>NaN</td>\n      <td>NaN</td>\n      <td>NaN</td>\n    </tr>\n  </tbody>\n</table>\n</div>"
          },
          "metadata": {}
        }
      ],
      "execution_count": 48
    },
    {
      "cell_type": "code",
      "source": "corr_values['abs_correlation'] = corr_values.correlation.abs()\ncorr_values",
      "metadata": {
        "trusted": true
      },
      "outputs": [
        {
          "execution_count": 49,
          "output_type": "execute_result",
          "data": {
            "text/plain": "                                   feature_1             feature_2  \\\n0                          tBodyAcc-mean()-X     tBodyAcc-mean()-Y   \n1                          tBodyAcc-mean()-X     tBodyAcc-mean()-Z   \n2                          tBodyAcc-mean()-X      tBodyAcc-std()-X   \n3                          tBodyAcc-mean()-X      tBodyAcc-std()-Y   \n4                          tBodyAcc-mean()-X      tBodyAcc-std()-Z   \n...                                      ...                   ...   \n157075  angle(tBodyGyroJerkMean,gravityMean)  angle(Y,gravityMean)   \n157076  angle(tBodyGyroJerkMean,gravityMean)  angle(Z,gravityMean)   \n157077                  angle(X,gravityMean)  angle(Y,gravityMean)   \n157078                  angle(X,gravityMean)  angle(Z,gravityMean)   \n157079                  angle(Y,gravityMean)  angle(Z,gravityMean)   \n\n        correlation  abs_correlation  \n0          0.128037         0.128037  \n1         -0.230302         0.230302  \n2          0.004590         0.004590  \n3         -0.016785         0.016785  \n4         -0.036071         0.036071  \n...             ...              ...  \n157075    -0.004582         0.004582  \n157076    -0.012549         0.012549  \n157077    -0.748249         0.748249  \n157078    -0.635231         0.635231  \n157079     0.545614         0.545614  \n\n[157080 rows x 4 columns]",
            "text/html": "<div>\n<style scoped>\n    .dataframe tbody tr th:only-of-type {\n        vertical-align: middle;\n    }\n\n    .dataframe tbody tr th {\n        vertical-align: top;\n    }\n\n    .dataframe thead th {\n        text-align: right;\n    }\n</style>\n<table border=\"1\" class=\"dataframe\">\n  <thead>\n    <tr style=\"text-align: right;\">\n      <th></th>\n      <th>feature_1</th>\n      <th>feature_2</th>\n      <th>correlation</th>\n      <th>abs_correlation</th>\n    </tr>\n  </thead>\n  <tbody>\n    <tr>\n      <th>0</th>\n      <td>tBodyAcc-mean()-X</td>\n      <td>tBodyAcc-mean()-Y</td>\n      <td>0.128037</td>\n      <td>0.128037</td>\n    </tr>\n    <tr>\n      <th>1</th>\n      <td>tBodyAcc-mean()-X</td>\n      <td>tBodyAcc-mean()-Z</td>\n      <td>-0.230302</td>\n      <td>0.230302</td>\n    </tr>\n    <tr>\n      <th>2</th>\n      <td>tBodyAcc-mean()-X</td>\n      <td>tBodyAcc-std()-X</td>\n      <td>0.004590</td>\n      <td>0.004590</td>\n    </tr>\n    <tr>\n      <th>3</th>\n      <td>tBodyAcc-mean()-X</td>\n      <td>tBodyAcc-std()-Y</td>\n      <td>-0.016785</td>\n      <td>0.016785</td>\n    </tr>\n    <tr>\n      <th>4</th>\n      <td>tBodyAcc-mean()-X</td>\n      <td>tBodyAcc-std()-Z</td>\n      <td>-0.036071</td>\n      <td>0.036071</td>\n    </tr>\n    <tr>\n      <th>...</th>\n      <td>...</td>\n      <td>...</td>\n      <td>...</td>\n      <td>...</td>\n    </tr>\n    <tr>\n      <th>157075</th>\n      <td>angle(tBodyGyroJerkMean,gravityMean)</td>\n      <td>angle(Y,gravityMean)</td>\n      <td>-0.004582</td>\n      <td>0.004582</td>\n    </tr>\n    <tr>\n      <th>157076</th>\n      <td>angle(tBodyGyroJerkMean,gravityMean)</td>\n      <td>angle(Z,gravityMean)</td>\n      <td>-0.012549</td>\n      <td>0.012549</td>\n    </tr>\n    <tr>\n      <th>157077</th>\n      <td>angle(X,gravityMean)</td>\n      <td>angle(Y,gravityMean)</td>\n      <td>-0.748249</td>\n      <td>0.748249</td>\n    </tr>\n    <tr>\n      <th>157078</th>\n      <td>angle(X,gravityMean)</td>\n      <td>angle(Z,gravityMean)</td>\n      <td>-0.635231</td>\n      <td>0.635231</td>\n    </tr>\n    <tr>\n      <th>157079</th>\n      <td>angle(Y,gravityMean)</td>\n      <td>angle(Z,gravityMean)</td>\n      <td>0.545614</td>\n      <td>0.545614</td>\n    </tr>\n  </tbody>\n</table>\n<p>157080 rows × 4 columns</p>\n</div>"
          },
          "metadata": {}
        }
      ],
      "execution_count": 49
    },
    {
      "cell_type": "markdown",
      "source": "A histogram of the absolute value correlations.\n",
      "metadata": {}
    },
    {
      "cell_type": "code",
      "source": "sns.set_context('talk')\nsns.set_style('white')\n\nax = corr_values.abs_correlation.hist(bins=50, figsize=(12, 8))\nax.set(xlabel='Absolute Correlation', ylabel='Frequency');",
      "metadata": {
        "trusted": true
      },
      "outputs": [
        {
          "output_type": "display_data",
          "data": {
            "text/plain": "<Figure size 1200x800 with 1 Axes>",
            "image/png": "[encoded data removed]"
          },
          "metadata": {}
        }
      ],
      "execution_count": 56
    },
    {
      "cell_type": "code",
      "source": "corr_values.sort_values('correlation', ascending=False)",
      "metadata": {
        "trusted": true
      },
      "outputs": [
        {
          "execution_count": 57,
          "output_type": "execute_result",
          "data": {
            "text/plain": "                          feature_1                   feature_2  correlation  \\\n156894  fBodyBodyGyroJerkMag-mean()  fBodyBodyGyroJerkMag-sma()     1.000000   \n93902             tBodyAccMag-sma()        tGravityAccMag-sma()     1.000000   \n101139       tBodyAccJerkMag-mean()       tBodyAccJerkMag-sma()     1.000000   \n96706         tGravityAccMag-mean()        tGravityAccMag-sma()     1.000000   \n94257          tBodyAccMag-energy()     tGravityAccMag-energy()     1.000000   \n...                             ...                         ...          ...   \n22657          tGravityAcc-mean()-Y        angle(Y,gravityMean)    -0.993425   \n39225     tGravityAcc-arCoeff()-Z,3   tGravityAcc-arCoeff()-Z,4    -0.994267   \n38739     tGravityAcc-arCoeff()-Z,2   tGravityAcc-arCoeff()-Z,3    -0.994628   \n23176          tGravityAcc-mean()-Z        angle(Z,gravityMean)    -0.994764   \n38252     tGravityAcc-arCoeff()-Z,1   tGravityAcc-arCoeff()-Z,2    -0.995195   \n\n        abs_correlation  \n156894         1.000000  \n93902          1.000000  \n101139         1.000000  \n96706          1.000000  \n94257          1.000000  \n...                 ...  \n22657          0.993425  \n39225          0.994267  \n38739          0.994628  \n23176          0.994764  \n38252          0.995195  \n\n[157080 rows x 4 columns]",
            "text/html": "<div>\n<style scoped>\n    .dataframe tbody tr th:only-of-type {\n        vertical-align: middle;\n    }\n\n    .dataframe tbody tr th {\n        vertical-align: top;\n    }\n\n    .dataframe thead th {\n        text-align: right;\n    }\n</style>\n<table border=\"1\" class=\"dataframe\">\n  <thead>\n    <tr style=\"text-align: right;\">\n      <th></th>\n      <th>feature_1</th>\n      <th>feature_2</th>\n      <th>correlation</th>\n      <th>abs_correlation</th>\n    </tr>\n  </thead>\n  <tbody>\n    <tr>\n      <th>156894</th>\n      <td>fBodyBodyGyroJerkMag-mean()</td>\n      <td>fBodyBodyGyroJerkMag-sma()</td>\n      <td>1.000000</td>\n      <td>1.000000</td>\n    </tr>\n    <tr>\n      <th>93902</th>\n      <td>tBodyAccMag-sma()</td>\n      <td>tGravityAccMag-sma()</td>\n      <td>1.000000</td>\n      <td>1.000000</td>\n    </tr>\n    <tr>\n      <th>101139</th>\n      <td>tBodyAccJerkMag-mean()</td>\n      <td>tBodyAccJerkMag-sma()</td>\n      <td>1.000000</td>\n      <td>1.000000</td>\n    </tr>\n    <tr>\n      <th>96706</th>\n      <td>tGravityAccMag-mean()</td>\n      <td>tGravityAccMag-sma()</td>\n      <td>1.000000</td>\n      <td>1.000000</td>\n    </tr>\n    <tr>\n      <th>94257</th>\n      <td>tBodyAccMag-energy()</td>\n      <td>tGravityAccMag-energy()</td>\n      <td>1.000000</td>\n      <td>1.000000</td>\n    </tr>\n    <tr>\n      <th>...</th>\n      <td>...</td>\n      <td>...</td>\n      <td>...</td>\n      <td>...</td>\n    </tr>\n    <tr>\n      <th>22657</th>\n      <td>tGravityAcc-mean()-Y</td>\n      <td>angle(Y,gravityMean)</td>\n      <td>-0.993425</td>\n      <td>0.993425</td>\n    </tr>\n    <tr>\n      <th>39225</th>\n      <td>tGravityAcc-arCoeff()-Z,3</td>\n      <td>tGravityAcc-arCoeff()-Z,4</td>\n      <td>-0.994267</td>\n      <td>0.994267</td>\n    </tr>\n    <tr>\n      <th>38739</th>\n      <td>tGravityAcc-arCoeff()-Z,2</td>\n      <td>tGravityAcc-arCoeff()-Z,3</td>\n      <td>-0.994628</td>\n      <td>0.994628</td>\n    </tr>\n    <tr>\n      <th>23176</th>\n      <td>tGravityAcc-mean()-Z</td>\n      <td>angle(Z,gravityMean)</td>\n      <td>-0.994764</td>\n      <td>0.994764</td>\n    </tr>\n    <tr>\n      <th>38252</th>\n      <td>tGravityAcc-arCoeff()-Z,1</td>\n      <td>tGravityAcc-arCoeff()-Z,2</td>\n      <td>-0.995195</td>\n      <td>0.995195</td>\n    </tr>\n  </tbody>\n</table>\n<p>157080 rows × 4 columns</p>\n</div>"
          },
          "metadata": {}
        }
      ],
      "execution_count": 57
    },
    {
      "cell_type": "code",
      "source": "corr_values[corr_values['abs_correlation'] > 0.8].sort_values('correlation', ascending=False)",
      "metadata": {
        "trusted": true
      },
      "outputs": [
        {
          "execution_count": 60,
          "output_type": "execute_result",
          "data": {
            "text/plain": "                        feature_1                  feature_2  correlation  \\\n95316      tBodyAccMag-arCoeff()1  tGravityAccMag-arCoeff()1     1.000000   \n92104          tBodyAccMag-mean()          tBodyAccMag-sma()     1.000000   \n96706       tGravityAccMag-mean()       tGravityAccMag-sma()     1.000000   \n96366      tBodyAccMag-arCoeff()4  tGravityAccMag-arCoeff()4     1.000000   \n109498    tBodyGyroJerkMag-mean()     tBodyGyroJerkMag-sma()     1.000000   \n...                           ...                        ...          ...   \n22657        tGravityAcc-mean()-Y       angle(Y,gravityMean)    -0.993425   \n39225   tGravityAcc-arCoeff()-Z,3  tGravityAcc-arCoeff()-Z,4    -0.994267   \n38739   tGravityAcc-arCoeff()-Z,2  tGravityAcc-arCoeff()-Z,3    -0.994628   \n23176        tGravityAcc-mean()-Z       angle(Z,gravityMean)    -0.994764   \n38252   tGravityAcc-arCoeff()-Z,1  tGravityAcc-arCoeff()-Z,2    -0.995195   \n\n        abs_correlation  \n95316          1.000000  \n92104          1.000000  \n96706          1.000000  \n96366          1.000000  \n109498         1.000000  \n...                 ...  \n22657          0.993425  \n39225          0.994267  \n38739          0.994628  \n23176          0.994764  \n38252          0.995195  \n\n[22815 rows x 4 columns]",
            "text/html": "<div>\n<style scoped>\n    .dataframe tbody tr th:only-of-type {\n        vertical-align: middle;\n    }\n\n    .dataframe tbody tr th {\n        vertical-align: top;\n    }\n\n    .dataframe thead th {\n        text-align: right;\n    }\n</style>\n<table border=\"1\" class=\"dataframe\">\n  <thead>\n    <tr style=\"text-align: right;\">\n      <th></th>\n      <th>feature_1</th>\n      <th>feature_2</th>\n      <th>correlation</th>\n      <th>abs_correlation</th>\n    </tr>\n  </thead>\n  <tbody>\n    <tr>\n      <th>95316</th>\n      <td>tBodyAccMag-arCoeff()1</td>\n      <td>tGravityAccMag-arCoeff()1</td>\n      <td>1.000000</td>\n      <td>1.000000</td>\n    </tr>\n    <tr>\n      <th>92104</th>\n      <td>tBodyAccMag-mean()</td>\n      <td>tBodyAccMag-sma()</td>\n      <td>1.000000</td>\n      <td>1.000000</td>\n    </tr>\n    <tr>\n      <th>96706</th>\n      <td>tGravityAccMag-mean()</td>\n      <td>tGravityAccMag-sma()</td>\n      <td>1.000000</td>\n      <td>1.000000</td>\n    </tr>\n    <tr>\n      <th>96366</th>\n      <td>tBodyAccMag-arCoeff()4</td>\n      <td>tGravityAccMag-arCoeff()4</td>\n      <td>1.000000</td>\n      <td>1.000000</td>\n    </tr>\n    <tr>\n      <th>109498</th>\n      <td>tBodyGyroJerkMag-mean()</td>\n      <td>tBodyGyroJerkMag-sma()</td>\n      <td>1.000000</td>\n      <td>1.000000</td>\n    </tr>\n    <tr>\n      <th>...</th>\n      <td>...</td>\n      <td>...</td>\n      <td>...</td>\n      <td>...</td>\n    </tr>\n    <tr>\n      <th>22657</th>\n      <td>tGravityAcc-mean()-Y</td>\n      <td>angle(Y,gravityMean)</td>\n      <td>-0.993425</td>\n      <td>0.993425</td>\n    </tr>\n    <tr>\n      <th>39225</th>\n      <td>tGravityAcc-arCoeff()-Z,3</td>\n      <td>tGravityAcc-arCoeff()-Z,4</td>\n      <td>-0.994267</td>\n      <td>0.994267</td>\n    </tr>\n    <tr>\n      <th>38739</th>\n      <td>tGravityAcc-arCoeff()-Z,2</td>\n      <td>tGravityAcc-arCoeff()-Z,3</td>\n      <td>-0.994628</td>\n      <td>0.994628</td>\n    </tr>\n    <tr>\n      <th>23176</th>\n      <td>tGravityAcc-mean()-Z</td>\n      <td>angle(Z,gravityMean)</td>\n      <td>-0.994764</td>\n      <td>0.994764</td>\n    </tr>\n    <tr>\n      <th>38252</th>\n      <td>tGravityAcc-arCoeff()-Z,1</td>\n      <td>tGravityAcc-arCoeff()-Z,2</td>\n      <td>-0.995195</td>\n      <td>0.995195</td>\n    </tr>\n  </tbody>\n</table>\n<p>22815 rows × 4 columns</p>\n</div>"
          },
          "metadata": {}
        }
      ],
      "execution_count": 60
    },
    {
      "cell_type": "code",
      "source": "# same with the above code\ncorr_values.sort_values('correlation', ascending=False).query('abs_correlation > 0.8')",
      "metadata": {
        "trusted": true
      },
      "outputs": [
        {
          "execution_count": 58,
          "output_type": "execute_result",
          "data": {
            "text/plain": "                          feature_1                   feature_2  correlation  \\\n156894  fBodyBodyGyroJerkMag-mean()  fBodyBodyGyroJerkMag-sma()     1.000000   \n93902             tBodyAccMag-sma()        tGravityAccMag-sma()     1.000000   \n101139       tBodyAccJerkMag-mean()       tBodyAccJerkMag-sma()     1.000000   \n96706         tGravityAccMag-mean()        tGravityAccMag-sma()     1.000000   \n94257          tBodyAccMag-energy()     tGravityAccMag-energy()     1.000000   \n...                             ...                         ...          ...   \n22657          tGravityAcc-mean()-Y        angle(Y,gravityMean)    -0.993425   \n39225     tGravityAcc-arCoeff()-Z,3   tGravityAcc-arCoeff()-Z,4    -0.994267   \n38739     tGravityAcc-arCoeff()-Z,2   tGravityAcc-arCoeff()-Z,3    -0.994628   \n23176          tGravityAcc-mean()-Z        angle(Z,gravityMean)    -0.994764   \n38252     tGravityAcc-arCoeff()-Z,1   tGravityAcc-arCoeff()-Z,2    -0.995195   \n\n        abs_correlation  \n156894         1.000000  \n93902          1.000000  \n101139         1.000000  \n96706          1.000000  \n94257          1.000000  \n...                 ...  \n22657          0.993425  \n39225          0.994267  \n38739          0.994628  \n23176          0.994764  \n38252          0.995195  \n\n[22815 rows x 4 columns]",
            "text/html": "<div>\n<style scoped>\n    .dataframe tbody tr th:only-of-type {\n        vertical-align: middle;\n    }\n\n    .dataframe tbody tr th {\n        vertical-align: top;\n    }\n\n    .dataframe thead th {\n        text-align: right;\n    }\n</style>\n<table border=\"1\" class=\"dataframe\">\n  <thead>\n    <tr style=\"text-align: right;\">\n      <th></th>\n      <th>feature_1</th>\n      <th>feature_2</th>\n      <th>correlation</th>\n      <th>abs_correlation</th>\n    </tr>\n  </thead>\n  <tbody>\n    <tr>\n      <th>156894</th>\n      <td>fBodyBodyGyroJerkMag-mean()</td>\n      <td>fBodyBodyGyroJerkMag-sma()</td>\n      <td>1.000000</td>\n      <td>1.000000</td>\n    </tr>\n    <tr>\n      <th>93902</th>\n      <td>tBodyAccMag-sma()</td>\n      <td>tGravityAccMag-sma()</td>\n      <td>1.000000</td>\n      <td>1.000000</td>\n    </tr>\n    <tr>\n      <th>101139</th>\n      <td>tBodyAccJerkMag-mean()</td>\n      <td>tBodyAccJerkMag-sma()</td>\n      <td>1.000000</td>\n      <td>1.000000</td>\n    </tr>\n    <tr>\n      <th>96706</th>\n      <td>tGravityAccMag-mean()</td>\n      <td>tGravityAccMag-sma()</td>\n      <td>1.000000</td>\n      <td>1.000000</td>\n    </tr>\n    <tr>\n      <th>94257</th>\n      <td>tBodyAccMag-energy()</td>\n      <td>tGravityAccMag-energy()</td>\n      <td>1.000000</td>\n      <td>1.000000</td>\n    </tr>\n    <tr>\n      <th>...</th>\n      <td>...</td>\n      <td>...</td>\n      <td>...</td>\n      <td>...</td>\n    </tr>\n    <tr>\n      <th>22657</th>\n      <td>tGravityAcc-mean()-Y</td>\n      <td>angle(Y,gravityMean)</td>\n      <td>-0.993425</td>\n      <td>0.993425</td>\n    </tr>\n    <tr>\n      <th>39225</th>\n      <td>tGravityAcc-arCoeff()-Z,3</td>\n      <td>tGravityAcc-arCoeff()-Z,4</td>\n      <td>-0.994267</td>\n      <td>0.994267</td>\n    </tr>\n    <tr>\n      <th>38739</th>\n      <td>tGravityAcc-arCoeff()-Z,2</td>\n      <td>tGravityAcc-arCoeff()-Z,3</td>\n      <td>-0.994628</td>\n      <td>0.994628</td>\n    </tr>\n    <tr>\n      <th>23176</th>\n      <td>tGravityAcc-mean()-Z</td>\n      <td>angle(Z,gravityMean)</td>\n      <td>-0.994764</td>\n      <td>0.994764</td>\n    </tr>\n    <tr>\n      <th>38252</th>\n      <td>tGravityAcc-arCoeff()-Z,1</td>\n      <td>tGravityAcc-arCoeff()-Z,2</td>\n      <td>-0.995195</td>\n      <td>0.995195</td>\n    </tr>\n  </tbody>\n</table>\n<p>22815 rows × 4 columns</p>\n</div>"
          },
          "metadata": {}
        }
      ],
      "execution_count": 58
    },
    {
      "cell_type": "markdown",
      "source": "## Question 3\n\n* Split the data into train and test data sets. This can be done using any method, but consider using Scikit-learn's `StratifiedShuffleSplit` to maintain the same ratio of predictor classes.\n* Regardless of the method used to split the data, compare the ratio of classes in both the train and test splits.\n",
      "metadata": {}
    },
    {
      "cell_type": "code",
      "source": "### BEGIN SOLUTION\nfrom sklearn.model_selection import StratifiedShuffleSplit\n\n# Get the split indexes\nstrat_shuf_split = StratifiedShuffleSplit(n_splits=1, \n                                          test_size=0.3, \n                                          random_state=42)\n\ntrain_idx, test_idx = next(strat_shuf_split.split(data[feature_cols], data.Activity))\n\n# Create the dataframes\nX_train = data.loc[train_idx, feature_cols]\ny_train = data.loc[train_idx, 'Activity']\n\nX_test  = data.loc[test_idx, feature_cols]\ny_test  = data.loc[test_idx, 'Activity']",
      "metadata": {},
      "outputs": [],
      "execution_count": null
    },
    {
      "cell_type": "code",
      "source": "y_train.value_counts(normalize=True)",
      "metadata": {},
      "outputs": [],
      "execution_count": null
    },
    {
      "cell_type": "code",
      "source": "y_test.value_counts(normalize=True)\n### END SOLUTION",
      "metadata": {},
      "outputs": [],
      "execution_count": null
    },
    {
      "cell_type": "markdown",
      "source": "## Question 4\n\n* Fit a logistic regression model without any regularization using all of the features. Be sure to read the documentation about fitting a multi-class model so you understand the coefficient output. Store the model.\n* Using cross validation to determine the hyperparameters and fit models using L1 and L2 regularization. Store each of these models as well. Note the limitations on multi-class models, solvers, and regularizations. The regularized models, in particular the L1 model, will probably take a while to fit.\n",
      "metadata": {}
    },
    {
      "cell_type": "code",
      "source": "### BEGIN SOLUTION\nfrom sklearn.linear_model import LogisticRegression\n\n# Standard logistic regression\nlr = LogisticRegression(solver='liblinear').fit(X_train, y_train)",
      "metadata": {},
      "outputs": [],
      "execution_count": null
    },
    {
      "cell_type": "code",
      "source": "from sklearn.linear_model import LogisticRegressionCV\n\n# L1 regularized logistic regression\nlr_l1 = LogisticRegressionCV(Cs=10, cv=4, penalty='l1', solver='liblinear').fit(X_train, y_train)",
      "metadata": {},
      "outputs": [],
      "execution_count": null
    },
    {
      "cell_type": "code",
      "source": "# L2 regularized logistic regression\nlr_l2 = LogisticRegressionCV(Cs=10, cv=4, penalty='l2', solver='liblinear').fit(X_train, y_train)\n### END SOLUTION",
      "metadata": {},
      "outputs": [],
      "execution_count": null
    },
    {
      "cell_type": "markdown",
      "source": "## Question 5\n\n* Compare the magnitudes of the coefficients for each of the models. If one-vs-rest fitting was used, each set of coefficients can be plotted separately. \n",
      "metadata": {}
    },
    {
      "cell_type": "code",
      "source": "### BEGIN SOLUTION\n# Combine all the coefficients into a dataframe\ncoefficients = list()\n\ncoeff_labels = ['lr', 'l1', 'l2']\ncoeff_models = [lr, lr_l1, lr_l2]\n\nfor lab,mod in zip(coeff_labels, coeff_models):\n    coeffs = mod.coef_\n    coeff_label = pd.MultiIndex(levels=[[lab], [0,1,2,3,4,5]], \n                                 codes=[[0,0,0,0,0,0], [0,1,2,3,4,5]])\n    coefficients.append(pd.DataFrame(coeffs.T, columns=coeff_label))\n\ncoefficients = pd.concat(coefficients, axis=1)\n\ncoefficients.sample(10)",
      "metadata": {},
      "outputs": [],
      "execution_count": null
    },
    {
      "cell_type": "markdown",
      "source": "Prepare six separate plots for each of the multi-class coefficients.\n",
      "metadata": {}
    },
    {
      "cell_type": "code",
      "source": "fig, axList = plt.subplots(nrows=3, ncols=2)\naxList = axList.flatten()\nfig.set_size_inches(10,10)\n\nfor ax in enumerate(axList):\n    loc = ax[0]\n    ax = ax[1]\n    \n    data = coefficients.xs(loc, level=1, axis=1)\n    data.plot(marker='o', ls='', ms=2.0, ax=ax, legend=False)\n    \n    if ax is axList[0]:\n        ax.legend(loc=4)\n        \n    ax.set(title='Coefficient Set '+str(loc))\n\nplt.tight_layout()\n### END SOLUTION",
      "metadata": {},
      "outputs": [],
      "execution_count": null
    },
    {
      "cell_type": "markdown",
      "source": "## Question 6\n\n* Predict and store the class for each model.\n* Store the probability for the predicted class for each model. \n",
      "metadata": {}
    },
    {
      "cell_type": "code",
      "source": "### BEGIN SOLUTION\n# Predict the class and the probability for each\ny_pred = list()\ny_prob = list()\n\ncoeff_labels = ['lr', 'l1', 'l2']\ncoeff_models = [lr, lr_l1, lr_l2]\n\nfor lab,mod in zip(coeff_labels, coeff_models):\n    y_pred.append(pd.Series(mod.predict(X_test), name=lab))\n    y_prob.append(pd.Series(mod.predict_proba(X_test).max(axis=1), name=lab))\n    \ny_pred = pd.concat(y_pred, axis=1)\ny_prob = pd.concat(y_prob, axis=1)\n\ny_pred.head()",
      "metadata": {},
      "outputs": [],
      "execution_count": null
    },
    {
      "cell_type": "code",
      "source": "y_prob.head()\n### END SOLUTION",
      "metadata": {},
      "outputs": [],
      "execution_count": null
    },
    {
      "cell_type": "markdown",
      "source": "## Question 7\n\nFor each model, calculate the following error metrics: \n\n* Accuracy\n* Precision\n* Recall\n* F-score\n* Confusion Matrix\n\nDecide how to combine the multi-class metrics into a single value for each model.\n",
      "metadata": {}
    },
    {
      "cell_type": "code",
      "source": "### BEGIN SOLUTION\nfrom sklearn.metrics import precision_recall_fscore_support as score\nfrom sklearn.metrics import confusion_matrix, accuracy_score, roc_auc_score\nfrom sklearn.preprocessing import label_binarize\n\nmetrics = list()\ncm = dict()\n\nfor lab in coeff_labels:\n\n    # Preciision, recall, f-score from the multi-class support function\n    precision, recall, fscore, _ = score(y_test, y_pred[lab], average='weighted')\n    \n    # The usual way to calculate accuracy\n    accuracy = accuracy_score(y_test, y_pred[lab])\n    \n    # ROC-AUC scores can be calculated by binarizing the data\n    auc = roc_auc_score(label_binarize(y_test, classes=[0,1,2,3,4,5]),\n              label_binarize(y_pred[lab], classes=[0,1,2,3,4,5]), \n              average='weighted')\n    \n    # Last, the confusion matrix\n    cm[lab] = confusion_matrix(y_test, y_pred[lab])\n    \n    metrics.append(pd.Series({'precision':precision, 'recall':recall, \n                              'fscore':fscore, 'accuracy':accuracy,\n                              'auc':auc}, \n                             name=lab))\n\nmetrics = pd.concat(metrics, axis=1)",
      "metadata": {},
      "outputs": [],
      "execution_count": null
    },
    {
      "cell_type": "code",
      "source": "metrics\n### END SOLUTION",
      "metadata": {},
      "outputs": [],
      "execution_count": null
    },
    {
      "cell_type": "markdown",
      "source": "## Question 8\n\n* Display or plot the confusion matrix for each model.\n",
      "metadata": {}
    },
    {
      "cell_type": "code",
      "source": "### BEGIN SOLUTION\nfig, axList = plt.subplots(nrows=2, ncols=2)\naxList = axList.flatten()\nfig.set_size_inches(12, 10)\n\naxList[-1].axis('off')\n\nfor ax,lab in zip(axList[:-1], coeff_labels):\n    sns.heatmap(cm[lab], ax=ax, annot=True, fmt='d');\n    ax.set(title=lab);\n    \nplt.tight_layout()\n### END SOLUTION",
      "metadata": {},
      "outputs": [],
      "execution_count": null
    },
    {
      "cell_type": "markdown",
      "source": "---\n### Machine Learning Foundation (C) 2020 IBM Corporation\n",
      "metadata": {}
    }
  ]
}