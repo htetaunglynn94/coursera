{
  "metadata": {
    "kernelspec": {
      "name": "python",
      "display_name": "Python (Pyodide)",
      "language": "python"
    },
    "language_info": {
      "codemirror_mode": {
        "name": "python",
        "version": 3
      },
      "file_extension": ".py",
      "mimetype": "text/x-python",
      "name": "python",
      "nbconvert_exporter": "python",
      "pygments_lexer": "ipython3",
      "version": "3.8"
    },
    "prev_pub_hash": "64266beef465a0eea3a15b4e3fc49c61a2639ac2af0e363f0e124d5077f0ba0e"
  },
  "nbformat_minor": 4,
  "nbformat": 4,
  "cells": [
    {
      "cell_type": "markdown",
      "source": "<p style=\"text-align:center\">\n    <a href=\"https://skills.network/?utm_medium=Exinfluencer&utm_source=Exinfluencer&utm_content=000026UJ&utm_term=10006555&utm_id=NA-SkillsNetwork-Channel-SkillsNetworkCoursesIBMML240ENSkillsNetwork34171862-2022-01-01\" target=\"_blank\">\n    <img src=\"https://cf-courses-data.s3.us.cloud-object-storage.appdomain.cloud/assets/logos/SN_web_lightmode.png\" width=\"200\" alt=\"Skills Network Logo\">\n    </a>\n</p>\n",
      "metadata": {}
    },
    {
      "cell_type": "markdown",
      "source": "# Polynomial Regression\n\nEstimated time needed: **40** minutes\n\nWhat if your data is more complex than a straight line? Surprisingly, you can use a linear model to fit nonlinear data. A simple way to do this is to add powers of each feature as new features, then train a linear model on this extended set of features. This technique is called Polynomial Regression.\n\nThere are two factors when determining model performance: overfitting and underfitting. Overfitting is when the model is too complex and does well on the training data but not on the test data. Underfitting is when the model is too simple and performs poorly on the training and testing data sets.\n\nOverfitting is simple to deal with, using methods like regularization, which we will discuss in the next lab. To deal with underfitting, we can build a more complex model using methods like polynomial regression. If making a more complex model does not work, this may involve using more data to train the model on or obtaining new features. As this process is complex, it's better to determine if the model can overfit the data first. Therefore, in this section, we will use Polynomial Regression to overfit the data to determine if we have an adequate amount of data.\n\nIn this notebook, we will explore Polynomial Regression and perform polynomial transform using individual features as well as multiple features.\n\n## Objectives\n\nAfter completing this lab you will be able to:\n\n*   Understand the concept of  overfitting versus underfitting\n*   Apply polynomial transforms to data\n*   Perform  hyperparameters grid search on a model, using validation data\n",
      "metadata": {}
    },
    {
      "cell_type": "markdown",
      "source": "***\n",
      "metadata": {}
    },
    {
      "cell_type": "markdown",
      "source": "## **Setup**\n",
      "metadata": {}
    },
    {
      "cell_type": "markdown",
      "source": "For this lab, we will be using the following libraries:\n\n*   [`pandas`](https://pandas.pydata.org/?utm_medium=Exinfluencer&utm_source=Exinfluencer&utm_content=000026UJ&utm_term=10006555&utm_id=NA-SkillsNetwork-Channel-SkillsNetworkCoursesIBMML240ENSkillsNetwork34171862-2022-01-01) for managing the data.\n*   [`numpy`](https://numpy.org/?utm_medium=Exinfluencer&utm_source=Exinfluencer&utm_content=000026UJ&utm_term=10006555&utm_id=NA-SkillsNetwork-Channel-SkillsNetworkCoursesIBMML240ENSkillsNetwork34171862-2022-01-01) for mathematical operations.\n*   [`seaborn`](https://seaborn.pydata.org/?utm_medium=Exinfluencer&utm_source=Exinfluencer&utm_content=000026UJ&utm_term=10006555&utm_id=NA-SkillsNetwork-Channel-SkillsNetworkCoursesIBMML240ENSkillsNetwork34171862-2022-01-01) for visualizing the data.\n*   [`matplotlib`](https://matplotlib.org/?utm_medium=Exinfluencer&utm_source=Exinfluencer&utm_content=000026UJ&utm_term=10006555&utm_id=NA-SkillsNetwork-Channel-SkillsNetworkCoursesIBMML240ENSkillsNetwork34171862-2022-01-01) for visualizing the data.\n*   [`sklearn`](https://scikit-learn.org/stable/?utm_medium=Exinfluencer&utm_source=Exinfluencer&utm_content=000026UJ&utm_term=10006555&utm_id=NA-SkillsNetwork-Channel-SkillsNetworkCoursesIBMML240ENSkillsNetwork34171862-2022-01-01) for machine learning and machine-learning-pipeline related functions.\n*   [`scipy`](https://docs.scipy.org/doc/scipy/tutorial/stats.html/?utm_medium=Exinfluencer&utm_source=Exinfluencer&utm_content=000026UJ&utm_term=10006555&utm_id=NA-SkillsNetwork-Channel-SkillsNetworkCoursesIBMML240ENSkillsNetwork34171862-2022-01-01) for statistical computations.\n",
      "metadata": {}
    },
    {
      "cell_type": "markdown",
      "source": "## **Import the required libraries**\n",
      "metadata": {}
    },
    {
      "cell_type": "markdown",
      "source": "The following required modules are pre-installed in the Skills Network Labs environment. However if you run this notebook commands in a different Jupyter environment (e.g. Watson Studio or Ananconda) you will need to install these libraries by removing the `#` sign before `!mamba` in the code cell below.\n",
      "metadata": {}
    },
    {
      "cell_type": "code",
      "source": "# All Libraries required for this lab are listed below. The libraries pre-installed on Skills Network Labs are commented.\n#!mamba install -qy pandas==1.3.4 numpy==1.21.4 seaborn==0.9.0 matplotlib==3.5.0 scikit-learn==0.20.1\n# Note: If your environment doesn't support \"!mamba install\", use \n# \"!pip install pandas==1.3.4 numpy==1.21.4 seaborn==0.9.0 matplotlib==3.5.0 scikit-learn==0.20.1\"",
      "metadata": {},
      "outputs": [],
      "execution_count": null
    },
    {
      "cell_type": "code",
      "source": "#!pip install -U scikit-learn\n%pip install tqdm\n%pip install pandas\n%pip install seaborn\n%pip install numpy",
      "metadata": {},
      "outputs": [],
      "execution_count": null
    },
    {
      "cell_type": "code",
      "source": "# Surpress warnings:\ndef warn(*args, **kwargs):\n    pass\nimport warnings\nwarnings.warn = warn\n",
      "metadata": {},
      "outputs": [],
      "execution_count": null
    },
    {
      "cell_type": "code",
      "source": "from tqdm import tqdm\n\nimport numpy as np\nimport pandas as pd\nfrom itertools import accumulate\nimport matplotlib.pyplot as plt\nimport seaborn as sns\n%matplotlib inline\nfrom sklearn.preprocessing import StandardScaler\nfrom sklearn.linear_model import LogisticRegression\nfrom sklearn.datasets import load_digits, load_wine\n\nfrom sklearn.model_selection import train_test_split\nfrom sklearn.linear_model import LinearRegression\nfrom sklearn.metrics import r2_score \nfrom sklearn.preprocessing import PolynomialFeatures\nfrom sklearn.metrics import mean_squared_error\nfrom sklearn.preprocessing import scale\nfrom sklearn.preprocessing import StandardScaler\nfrom sklearn.preprocessing import MinMaxScaler\nfrom sklearn.feature_selection import SelectKBest, f_regression\nfrom sklearn.pipeline import Pipeline\nfrom sklearn.model_selection import GridSearchCV\n\nimport pandas as pd\nimport numpy as np \n\nimport seaborn as sns \nimport matplotlib.pylab as plt\n%matplotlib inline\n\n# You can also use this section to suppress warnings generated by your code:\ndef warn(*args, **kwargs):\n    pass\nimport warnings\nwarnings.warn = warn\nwarnings.filterwarnings('ignore')\n\nsns.set_context('notebook')\nsns.set_style('white')",
      "metadata": {},
      "outputs": [],
      "execution_count": null
    },
    {
      "cell_type": "markdown",
      "source": "The function below will calculate the $R^{2}$ on each feature given the a input model.\n",
      "metadata": {}
    },
    {
      "cell_type": "code",
      "source": "def get_R2_features(model,test=True): \n    #X: global  \n    features=list(X)\n    features.remove(\"three\")\n    \n    R_2_train=[]\n    R_2_test=[]\n\n    for feature in features:\n        model.fit(X_train[[feature]],y_train)\n        \n        R_2_test.append(model.score(X_test[[feature]],y_test))\n        R_2_train.append(model.score(X_train[[feature]],y_train))\n        \n    plt.bar(features,R_2_train,label=\"Train\")\n    plt.bar(features,R_2_test,label=\"Test\")\n    plt.xticks(rotation=90)\n    plt.ylabel(\"$R^2$\")\n    plt.legend()\n    plt.show()\n    print(\"Training R^2 mean value {} Testing R^2 mean value {} \".format(str(np.mean(R_2_train)),str(np.mean(R_2_test))) )\n    print(\"Training R^2 max value {} Testing R^2 max value {} \".format(str(np.max(R_2_train)),str(np.max(R_2_test))) )",
      "metadata": {},
      "outputs": [],
      "execution_count": null
    },
    {
      "cell_type": "markdown",
      "source": "The function below will plot the distribution of two inputs.\n",
      "metadata": {}
    },
    {
      "cell_type": "code",
      "source": "def  plot_dis(y,yhat):\n    \n    plt.figure()\n    ax1 = sns.distplot(y, hist=False, color=\"r\", label=\"Actual Value\")\n    sns.distplot(yhat, hist=False, color=\"b\", label=\"Fitted Values\" , ax=ax1)\n    plt.legend()\n\n    plt.title('Actual vs Fitted Values')\n    plt.xlabel('Price (in dollars)')\n    plt.ylabel('Proportion of Cars')\n\n    plt.show()\n    plt.close()",
      "metadata": {},
      "outputs": [],
      "execution_count": null
    },
    {
      "cell_type": "code",
      "source": "from pyodide.http import pyfetch\n\nasync def download(url, filename):\n    response = await pyfetch(url)\n    if response.status == 200:\n        with open(filename, \"wb\") as f:\n            f.write(await response.bytes())",
      "metadata": {},
      "outputs": [],
      "execution_count": null
    },
    {
      "cell_type": "markdown",
      "source": "## **Reading and understanding our data**\n",
      "metadata": {}
    },
    {
      "cell_type": "markdown",
      "source": "For this lab, we will be using the car sales dataset, hosted on IBM Cloud object storage. The dataset contains all the information about cars, the name of the manufacturer, the year it was launched, all car technical parameters, and the sale price. This dataset has already been pre-cleaned and encoded (using one-hot and label encoders) in the Linear Regression Notebook.\n",
      "metadata": {}
    },
    {
      "cell_type": "markdown",
      "source": "Let's read the data into *pandas* data frame and look at the first 5 rows using the `head()` method.\n",
      "metadata": {}
    },
    {
      "cell_type": "code",
      "source": "URL = 'https://cf-courses-data.s3.us.cloud-object-storage.appdomain.cloud/IBM-ML240EN-SkillsNetwork/labs/encoded_car_data.csv'\n\n#await skillsnetwork.download_dataset(URL)\n#you will need to download the dataset; if you are running locally, please comment out the following \nawait download(URL, 'encoded_car_data.csv')\n\n\ndata = pd.read_csv('encoded_car_data.csv')",
      "metadata": {},
      "outputs": [],
      "execution_count": null
    },
    {
      "cell_type": "markdown",
      "source": "We can find more information about the features and types using the `info()`  method.\n",
      "metadata": {}
    },
    {
      "cell_type": "code",
      "source": "data.info()",
      "metadata": {},
      "outputs": [],
      "execution_count": null
    },
    {
      "cell_type": "markdown",
      "source": "We have 35 features in our dataset after the one hot encoding.\n\nBefore we begin our polynomial analysis, let's visualize some of the relationships between our features and the target variable, 'price'.\n",
      "metadata": {}
    },
    {
      "cell_type": "code",
      "source": "sns.lmplot(x = 'curbweight', y = 'price', data = data, order=2)",
      "metadata": {},
      "outputs": [],
      "execution_count": null
    },
    {
      "cell_type": "code",
      "source": "sns.lmplot(x = 'carlength', y = 'price', data = data, order=2)",
      "metadata": {},
      "outputs": [],
      "execution_count": null
    },
    {
      "cell_type": "markdown",
      "source": "The relationship is more curved.\n",
      "metadata": {}
    },
    {
      "cell_type": "markdown",
      "source": "## Exercise 1\n\nIn this Exercise, visualize the relationship between the 'horsepower' and the target variable, 'price'.\n",
      "metadata": {}
    },
    {
      "cell_type": "code",
      "source": "# Enter your code and run the cell\n",
      "metadata": {},
      "outputs": [],
      "execution_count": null
    },
    {
      "cell_type": "markdown",
      "source": "<details>\n<summary><strong>Solution</strong> (Click Here)</summary>\n    &emsp; &emsp; <code>\n\nsns.lmplot(x = 'horsepower', y = 'price', data = data, order=2)\n\n</code>\n</details>\n",
      "metadata": {}
    },
    {
      "cell_type": "markdown",
      "source": "## Data Preparation\n\nLet's first split our data into `X` features and `y` target.\n",
      "metadata": {}
    },
    {
      "cell_type": "code",
      "source": "X = data.drop('price', axis=1)\ny = data.price",
      "metadata": {},
      "outputs": [],
      "execution_count": null
    },
    {
      "cell_type": "markdown",
      "source": "## Train Test Split\n",
      "metadata": {}
    },
    {
      "cell_type": "markdown",
      "source": "Now that we have split our data into training and testing sets, the training data is used for your model to recognize patterns using some criteria,the test data set it used to evaluate your model, as shown in the following image:\n",
      "metadata": {}
    },
    {
      "cell_type": "markdown",
      "source": "<center>\n    <img src=\"https://cf-courses-data.s3.us.cloud-object-storage.appdomain.cloud/IBM-ML240EN-SkillsNetwork/images/trin-test.png\">\n</center>\n<center>source scikit-learn.org</center>\n",
      "metadata": {}
    },
    {
      "cell_type": "markdown",
      "source": "Now, we split our data, using <code>train_test_split</code> function, into the training and testing sets, allocating 30% of the data for testing.\n",
      "metadata": {}
    },
    {
      "cell_type": "code",
      "source": "X_train, X_test, y_train, y_test = train_test_split(X,y, test_size=0.3, random_state=42)\nprint(\"Number of test samples:\", X_test.shape[0])\nprint(\"Number of training samples:\", X_train.shape[0])\n",
      "metadata": {},
      "outputs": [],
      "execution_count": null
    },
    {
      "cell_type": "markdown",
      "source": "### Multiple Features\n",
      "metadata": {}
    },
    {
      "cell_type": "markdown",
      "source": "Let's create a <code>LinearRegression</code> object, called `lm`.\n",
      "metadata": {}
    },
    {
      "cell_type": "code",
      "source": "lm = LinearRegression()",
      "metadata": {},
      "outputs": [],
      "execution_count": null
    },
    {
      "cell_type": "markdown",
      "source": "Now, let's fit the model with multiple features on our X_train and y_train data.\n",
      "metadata": {}
    },
    {
      "cell_type": "code",
      "source": "lm.fit(X_train, y_train)",
      "metadata": {},
      "outputs": [],
      "execution_count": null
    },
    {
      "cell_type": "markdown",
      "source": "We apply `predict(`) function on the testing data set.\n",
      "metadata": {}
    },
    {
      "cell_type": "code",
      "source": "predicted = lm.predict(X_test)",
      "metadata": {},
      "outputs": [],
      "execution_count": null
    },
    {
      "cell_type": "markdown",
      "source": "Let's calculate the `r2_score()` on both, training and testing data sets.\n",
      "metadata": {}
    },
    {
      "cell_type": "code",
      "source": "print(\"R^2 on training  data \",lm.score(X_train, y_train))\nprint(\"R^2 on testing data \",lm.score(X_test,y_test))",
      "metadata": {},
      "outputs": [],
      "execution_count": null
    },
    {
      "cell_type": "markdown",
      "source": "We can plot distributions of the predicted values versus the actual values.\n",
      "metadata": {}
    },
    {
      "cell_type": "code",
      "source": "plot_dis(y_test,predicted)",
      "metadata": {},
      "outputs": [],
      "execution_count": null
    },
    {
      "cell_type": "markdown",
      "source": "Below, we will view the estimated coefficients for the linear regression problem.\n",
      "metadata": {}
    },
    {
      "cell_type": "code",
      "source": "{col:coef for col,coef in zip(X.columns, lm.coef_)}",
      "metadata": {},
      "outputs": [],
      "execution_count": null
    },
    {
      "cell_type": "markdown",
      "source": "As we see, the first two coefficients are too large to plot, so we'll drop them and plot the rest of the coefficients.\n",
      "metadata": {}
    },
    {
      "cell_type": "code",
      "source": "plt.bar(X.columns[2:],abs(lm.coef_[2:]))\nplt.xticks(rotation=90)\nplt.ylabel(\"$coefficients$\")\nplt.show()",
      "metadata": {},
      "outputs": [],
      "execution_count": null
    },
    {
      "cell_type": "markdown",
      "source": "Usually, we can interpret the lager coefficients as having more importance on the prediction, but this is not always the case, so let's look at the individual features.\n",
      "metadata": {}
    },
    {
      "cell_type": "markdown",
      "source": "### Individual Features\n",
      "metadata": {}
    },
    {
      "cell_type": "markdown",
      "source": "We can train the model and plot our $R^2$ for each of the features on the training and testing data sets, using the function <code>get_R2\\_features</code>.\n",
      "metadata": {}
    },
    {
      "cell_type": "code",
      "source": "get_R2_features(lm)",
      "metadata": {},
      "outputs": [],
      "execution_count": null
    },
    {
      "cell_type": "markdown",
      "source": "From the above plot, we see that some individual features perform similarly to  using all the features (we removed the feature `three` ), in  addition, we see that smaller coefficients seem to correspond to a larger $R^{2}$, therefore  larger coefficients correspond to overfiting.\n",
      "metadata": {}
    },
    {
      "cell_type": "markdown",
      "source": "## Exercise 2\n\nIn this Exercise, calculate the $R^2$ using the object Pipeline for  Linear Regression and apply `StandardScaler()` to all features, then use the function `plot_dis` to compare the predicted values versus the actual values.\n",
      "metadata": {}
    },
    {
      "cell_type": "code",
      "source": "# Enter your code and run the cell\n",
      "metadata": {},
      "outputs": [],
      "execution_count": null
    },
    {
      "cell_type": "markdown",
      "source": "<details>\n<summary><strong>Solution</strong> (Click Here)</summary>\n    &emsp; &emsp; <code>\n\npipe = Pipeline(\\[('ss',StandardScaler() ),('lr', LinearRegression())])\npipe.fit(X_train,y_train)\nprint(\"R^2 on training  data \", pipe.score(X_train, y_train))\nprint(\"R^2 on testing data \", pipe.score(X_test,y_test))\npredicted = pipe.predict(X_test)\nplot_dis(y_test,predicted)\n\n</code>\n</details>\n",
      "metadata": {}
    },
    {
      "cell_type": "markdown",
      "source": "## Exercise 3\n\nIn this Exercise, calculate the $R^2$ using the object Pipeline with  `StandardScaler()` for each individual features using the function `get_R2_features`.\n",
      "metadata": {}
    },
    {
      "cell_type": "code",
      "source": "# Enter your code and run the cell\n",
      "metadata": {},
      "outputs": [],
      "execution_count": null
    },
    {
      "cell_type": "markdown",
      "source": "<details>\n<summary><strong>Solution</strong> (Click Here)</summary>\n    &emsp; &emsp; <code>\n\npipe = Pipeline(\\[('ss',StandardScaler() ),('lr', LinearRegression())])\nget_R2\\_features(pipe)\n\n</code>\n</details>\n",
      "metadata": {}
    },
    {
      "cell_type": "markdown",
      "source": "## Polynomial Features\n",
      "metadata": {}
    },
    {
      "cell_type": "markdown",
      "source": "### Multiple Features\n",
      "metadata": {}
    },
    {
      "cell_type": "markdown",
      "source": "Polynomial transform is a simple way to increase the complexity of the model, but we must be mindful of overfilling.\nBelow, we will perform a second degree (degree=2) polynomial transformation.\n",
      "metadata": {}
    },
    {
      "cell_type": "code",
      "source": "poly_features = PolynomialFeatures(degree=2, include_bias=False)",
      "metadata": {},
      "outputs": [],
      "execution_count": null
    },
    {
      "cell_type": "markdown",
      "source": "Now, we transform the training and testing data sets.\n",
      "metadata": {}
    },
    {
      "cell_type": "code",
      "source": "X_train_poly = poly_features.fit_transform(X_train)\nX_test_poly = poly_features.transform(X_test)",
      "metadata": {},
      "outputs": [],
      "execution_count": null
    },
    {
      "cell_type": "markdown",
      "source": "`X_train_poly` and `X_test_poly` now contain the original features of X plus the square of these features and the cross-terms combination.\nLet's check the shape of the newly created train and test sets.\n",
      "metadata": {}
    },
    {
      "cell_type": "code",
      "source": "print(X_train_poly.shape)\n",
      "metadata": {},
      "outputs": [],
      "execution_count": null
    },
    {
      "cell_type": "code",
      "source": "print(X_test_poly.shape)",
      "metadata": {},
      "outputs": [],
      "execution_count": null
    },
    {
      "cell_type": "markdown",
      "source": "Altogether, we have 665 features. Now, we fit the model with the newly created features.\n",
      "metadata": {}
    },
    {
      "cell_type": "code",
      "source": "lm = LinearRegression()\nlm.fit(X_train_poly, y_train)",
      "metadata": {},
      "outputs": [],
      "execution_count": null
    },
    {
      "cell_type": "markdown",
      "source": "And we make predictions.\n",
      "metadata": {}
    },
    {
      "cell_type": "code",
      "source": "predicted = lm.predict(X_train_poly)",
      "metadata": {},
      "outputs": [],
      "execution_count": null
    },
    {
      "cell_type": "markdown",
      "source": "Again, we can ckeck the `r2_score()` on both, training and testing data sets.\n",
      "metadata": {}
    },
    {
      "cell_type": "code",
      "source": "print(\"R^2 on training data:\", lm.score(X_train_poly, y_train))\nprint(\"R^2 on testing data:\", lm.score(X_test_poly,y_test))",
      "metadata": {},
      "outputs": [],
      "execution_count": null
    },
    {
      "cell_type": "markdown",
      "source": "We see the model has a negative $R^{2}$ on the test data set, this is sign of overfiting.\n",
      "metadata": {}
    },
    {
      "cell_type": "markdown",
      "source": "### Individual Features\n",
      "metadata": {}
    },
    {
      "cell_type": "markdown",
      "source": "<p>Data Pipelines simplify the steps of processing the data. We use the module <code>Pipeline</code> to create a pipeline. We also use <code>PolynomialFeatures</code> as a step in our pipeline.</p>\n",
      "metadata": {}
    },
    {
      "cell_type": "code",
      "source": "Input=[ ('polynomial', PolynomialFeatures(include_bias=False,degree=2)), ('model', LinearRegression())]",
      "metadata": {},
      "outputs": [],
      "execution_count": null
    },
    {
      "cell_type": "markdown",
      "source": "We can repeat the steps above, using the <code>Pipleine</code> object.\n",
      "metadata": {}
    },
    {
      "cell_type": "code",
      "source": "pipe=Pipeline(Input)\npipe.fit(X_train, y_train)",
      "metadata": {},
      "outputs": [],
      "execution_count": null
    },
    {
      "cell_type": "markdown",
      "source": "We can see the results are identical.\n",
      "metadata": {}
    },
    {
      "cell_type": "code",
      "source": "print(\"R^2 on training  data:\", pipe.score(X_train, y_train))\nprint(\"R^2 on testing data:\", pipe.score(X_test,y_test))",
      "metadata": {},
      "outputs": [],
      "execution_count": null
    },
    {
      "cell_type": "markdown",
      "source": "We can train our model on each of the features using the Polynomial Feature transform of the second degree. Then we can plot our $R^2$.\n",
      "metadata": {}
    },
    {
      "cell_type": "code",
      "source": "get_R2_features(pipe)",
      "metadata": {},
      "outputs": [],
      "execution_count": null
    },
    {
      "cell_type": "markdown",
      "source": "Feature with the max $R^{2}$ is higher than when using all the features.\n",
      "metadata": {}
    },
    {
      "cell_type": "markdown",
      "source": "## GridSearch and  Pipeline\n",
      "metadata": {}
    },
    {
      "cell_type": "markdown",
      "source": "In this section of the notebook, we will define a pipeline object, then use GridSearch to find the best hyper-parameters of the model by using  cross-validation method of the  parameter grid, as shown in the figure below. A 5-fold cross validation is used by default. We will learn more about k-fold cross validation in the next, Cross Validation lesson of the Course.\n",
      "metadata": {}
    },
    {
      "cell_type": "markdown",
      "source": "<center>\n    <img src=\"https://cf-courses-data.s3.us.cloud-object-storage.appdomain.cloud/IBM-ML240EN-SkillsNetwork/images/k-fold.png\">\n</center>\n<center>source scikit-learn.org</center>\n",
      "metadata": {}
    },
    {
      "cell_type": "markdown",
      "source": "We create `PolynomialFeatures()` pipeline.\n",
      "metadata": {}
    },
    {
      "cell_type": "code",
      "source": "Input=[ ('polynomial', PolynomialFeatures(include_bias=False,degree=2)), ('scaler', StandardScaler()),('model',LinearRegression() )]\npipe=Pipeline(Input)",
      "metadata": {},
      "outputs": [],
      "execution_count": null
    },
    {
      "cell_type": "markdown",
      "source": "To search for the best combination of hyperparameters, we create a  <b>GridSearchCV</b> object with dictionary of parameter values. The parameters of pipelines can be set using the name of the key separated by\n'\\__', then the parameter name of the key.\n",
      "metadata": {}
    },
    {
      "cell_type": "code",
      "source": "param_grid = {\n    \"polynomial__degree\": [1, 2, 3],\n \n    \n}",
      "metadata": {},
      "outputs": [],
      "execution_count": null
    },
    {
      "cell_type": "markdown",
      "source": "<b>polynomial\\_\\_degree</b>: is the degree of the polynomial.\n\n\n",
      "metadata": {}
    },
    {
      "cell_type": "code",
      "source": "search = GridSearchCV(pipe, param_grid, n_jobs=1)\n",
      "metadata": {},
      "outputs": [],
      "execution_count": null
    },
    {
      "cell_type": "code",
      "source": "pipe.fit(X_train, y_train)",
      "metadata": {},
      "outputs": [],
      "execution_count": null
    },
    {
      "cell_type": "code",
      "source": "search.fit(X_test, y_test)",
      "metadata": {},
      "outputs": [],
      "execution_count": null
    },
    {
      "cell_type": "markdown",
      "source": "The object finds the best parameter values on the validation data. We can obtain the estimator with the best parameters and assign it to the variable `best`, as follows:\n",
      "metadata": {}
    },
    {
      "cell_type": "code",
      "source": "best=search.best_estimator_\nbest",
      "metadata": {},
      "outputs": [],
      "execution_count": null
    },
    {
      "cell_type": "markdown",
      "source": "Now, we test our model on the test data to see the best score.\n",
      "metadata": {}
    },
    {
      "cell_type": "code",
      "source": "best.score(X_test,y_test)",
      "metadata": {},
      "outputs": [],
      "execution_count": null
    },
    {
      "cell_type": "markdown",
      "source": "Finally, we can plot a distribution of the predicted values versus the actual values.\n",
      "metadata": {}
    },
    {
      "cell_type": "code",
      "source": "predicted=best.predict(X_test)\nplot_dis(y_test,predicted)",
      "metadata": {},
      "outputs": [],
      "execution_count": null
    },
    {
      "cell_type": "markdown",
      "source": "As we see, the result is almost perfect!\n",
      "metadata": {}
    },
    {
      "cell_type": "markdown",
      "source": "## Exercise 4\n\nIn this Exercise, calculate the $R^2$ using the object `Pipeline` with `GridSearch` for each individual features.\n",
      "metadata": {}
    },
    {
      "cell_type": "code",
      "source": "# Enter your code and run the cell\n   ",
      "metadata": {},
      "outputs": [],
      "execution_count": null
    },
    {
      "cell_type": "markdown",
      "source": "<details>\n<summary><strong>Solution</strong> (Click Here)</summary>\n    &emsp; &emsp; \n\n```python\nfeatures=list(X)\n\n\nR_2_train=[]\nR_2_test=[]\n\nfor feature in features:\n    param_grid = {\n    \"polynomial__degree\": [ 1, 2,3,4,5],\n    \"model__positive\":[True, False]}\n    Input=[ ('polynomial', PolynomialFeatures(include_bias=False,degree=2)), ('model',LinearRegression())]\n    pipe=Pipeline(Input)\n    print(feature)\n    search = GridSearchCV(pipe, param_grid, n_jobs=2)\n    search.fit(X_test[[feature]], y_test)\n    best=search.best_estimator_\n\n    R_2_test.append(best.score(X_test[[feature]],y_test))\n    R_2_train.append(best.score(X_train[[feature]],y_train))\n\n\nplt.bar(features,R_2_train,label=\"Train\")\nplt.bar(features,R_2_test,label=\"Test\")\nplt.xticks(rotation=90)\nplt.ylabel(\"$R^2$\")\nplt.legend()\nplt.show()\nprint(\"Training R^2 mean value {} Testing R^2 mean value {} \".format(str(np.mean(R_2_train)),str(np.mean(R_2_test))) )\nprint(\"Training R^2 max value {} Testing R^2 max value {} \".format(str(np.max(R_2_train)),str(np.max(R_2_test))) )\n```\n\n</details>\n",
      "metadata": {}
    },
    {
      "cell_type": "markdown",
      "source": "# Congratulations! - You have completed the lab\n",
      "metadata": {}
    },
    {
      "cell_type": "markdown",
      "source": "## Authors\n",
      "metadata": {}
    },
    {
      "cell_type": "markdown",
      "source": "<a href=\"https://www.linkedin.com/in/joseph-s-50398b136/?utm_medium=Exinfluencer&utm_source=Exinfluencer&utm_content=000026UJ&utm_term=10006555&utm_id=NA-SkillsNetwork-Channel-SkillsNetworkCoursesIBMDeveloperSkillsNetworkML0101ENSkillsNetwork20718538-2021-01-01\" target=\"_blank\">Joseph Santarcangelo</a>\n\n[Svitlana Kramar](https://www.linkedin.com/in/svitlana-kramar?utm_medium=Exinfluencer&utm_source=Exinfluencer&utm_content=000026UJ&utm_term=10006555&utm_id=NA-SkillsNetwork-Channel-SkillsNetworkCoursesIBMML240ENSkillsNetwork34171862-2022-01-01)\n",
      "metadata": {}
    },
    {
      "cell_type": "markdown",
      "source": "## Change Log\n",
      "metadata": {}
    },
    {
      "cell_type": "markdown",
      "source": "| Date (YYYY-MM-DD) | Version | Changed By  | Change Description             |\n| ----------------- | ------- | ----------- | ------------------------------ |\n| 2022-04-18        | 0.1     | Joseph S.   | Updated all content            |\n| 2022-04-26        | 0.1     | Svitlana K. | Corrected minor grammar errors |\n",
      "metadata": {}
    }
  ]
}