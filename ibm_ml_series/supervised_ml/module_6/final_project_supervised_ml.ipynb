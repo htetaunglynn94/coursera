{
  "metadata": {
    "kernelspec": {
      "name": "python",
      "display_name": "Python (Pyodide)",
      "language": "python"
    },
    "language_info": {
      "codemirror_mode": {
        "name": "python",
        "version": 3
      },
      "file_extension": ".py",
      "mimetype": "text/x-python",
      "name": "python",
      "nbconvert_exporter": "python",
      "pygments_lexer": "ipython3",
      "version": "3.8"
    }
  },
  "nbformat_minor": 4,
  "nbformat": 4,
  "cells": [
    {
      "cell_type": "markdown",
      "source": "<p style=\"text-align:center\">\n    <a href=\"https://skills.network/?utm_medium=Exinfluencer&utm_source=Exinfluencer&utm_content=000026UJ&utm_term=10006555&utm_id=NA-SkillsNetwork-Channel-SkillsNetworkCoursesIBMDeveloperSkillsNetworkML0101ENSkillsNetwork20718538-2022-01-01\">\n    <img src=\"https://cf-courses-data.s3.us.cloud-object-storage.appdomain.cloud/assets/logos/SN_web_lightmode.png\" width=\"200\" alt=\"Skills Network Logo\"  />\n    </a>\n</p>\n\n<h1 align=\"center\"><font size=\"5\">Supervised Machine Learning: Regression - Final Assignment</font></h1>\n",
      "metadata": {}
    },
    {
      "cell_type": "markdown",
      "source": "## Instructions:\n\nIn this Assignment, you will demonstrate the data regression skills you have learned by completing this course. You are expected to leverage a wide variety of tools, but also this report should focus on present findings, insights, and next steps. You may include some visuals from your code output, but this report is intended as a summary of your findings, not as a code review. \n\nThe grading will center around 5 main points:\n\n1. Does the report include a section describing the data?\n2. Does the report include a paragraph detailing the main objective(s) of this analysis? \n3. Does the report include a section with variations of linear regression models and specifies which one is the model that best suits the main objective(s) of this analysis.\n4. Does the report include a clear and well-presented section with key findings related to the main objective(s) of the analysis?\n5. Does the report highlight possible flaws in the model and a plan of action to revisit this analysis with additional data or different predictive modeling techniques? \n\n\n",
      "metadata": {
        "jp-MarkdownHeadingCollapsed": true
      }
    },
    {
      "cell_type": "markdown",
      "source": "## Import the required libraries\n",
      "metadata": {}
    },
    {
      "cell_type": "code",
      "source": "import piplite as pl\nawait pl.install(['seaborn', 'scikit-learn'])",
      "metadata": {
        "trusted": true
      },
      "outputs": [],
      "execution_count": 1
    },
    {
      "cell_type": "code",
      "source": "import pandas as pd\nimport numpy as np\nimport matplotlib.pyplot as plt\nimport seaborn as sns\nfrom sklearn.preprocessing import StandardScaler, PolynomialFeatures\nfrom sklearn.model_selection import train_test_split\nfrom sklearn.linear_model import LinearRegression, Ridge, Lasso\nfrom sklearn.metrics import r2_score, mean_squared_error\nfrom sklearn.pipeline import Pipeline",
      "metadata": {
        "trusted": true
      },
      "outputs": [],
      "execution_count": 20
    },
    {
      "cell_type": "markdown",
      "source": "## Importing the Dataset\n",
      "metadata": {}
    },
    {
      "cell_type": "code",
      "source": "data = pd.read_csv('car_price_dataset.csv')\ndata.head()",
      "metadata": {
        "trusted": true
      },
      "outputs": [
        {
          "execution_count": 3,
          "output_type": "execute_result",
          "data": {
            "text/plain": "        Brand   Model  Year  Engine_Size Fuel_Type    Transmission  Mileage  \\\n0         Kia     Rio  2020          4.2    Diesel          Manual   289944   \n1   Chevrolet  Malibu  2012          2.0    Hybrid       Automatic     5356   \n2    Mercedes     GLA  2020          4.2    Diesel       Automatic   231440   \n3        Audi      Q5  2023          2.0  Electric          Manual   160971   \n4  Volkswagen    Golf  2003          2.6    Hybrid  Semi-Automatic   286618   \n\n   Doors  Owner_Count  Price  \n0      3            5   8501  \n1      2            3  12092  \n2      4            2  11171  \n3      2            1  11780  \n4      3            3   2867  ",
            "text/html": "<div>\n<style scoped>\n    .dataframe tbody tr th:only-of-type {\n        vertical-align: middle;\n    }\n\n    .dataframe tbody tr th {\n        vertical-align: top;\n    }\n\n    .dataframe thead th {\n        text-align: right;\n    }\n</style>\n<table border=\"1\" class=\"dataframe\">\n  <thead>\n    <tr style=\"text-align: right;\">\n      <th></th>\n      <th>Brand</th>\n      <th>Model</th>\n      <th>Year</th>\n      <th>Engine_Size</th>\n      <th>Fuel_Type</th>\n      <th>Transmission</th>\n      <th>Mileage</th>\n      <th>Doors</th>\n      <th>Owner_Count</th>\n      <th>Price</th>\n    </tr>\n  </thead>\n  <tbody>\n    <tr>\n      <th>0</th>\n      <td>Kia</td>\n      <td>Rio</td>\n      <td>2020</td>\n      <td>4.2</td>\n      <td>Diesel</td>\n      <td>Manual</td>\n      <td>289944</td>\n      <td>3</td>\n      <td>5</td>\n      <td>8501</td>\n    </tr>\n    <tr>\n      <th>1</th>\n      <td>Chevrolet</td>\n      <td>Malibu</td>\n      <td>2012</td>\n      <td>2.0</td>\n      <td>Hybrid</td>\n      <td>Automatic</td>\n      <td>5356</td>\n      <td>2</td>\n      <td>3</td>\n      <td>12092</td>\n    </tr>\n    <tr>\n      <th>2</th>\n      <td>Mercedes</td>\n      <td>GLA</td>\n      <td>2020</td>\n      <td>4.2</td>\n      <td>Diesel</td>\n      <td>Automatic</td>\n      <td>231440</td>\n      <td>4</td>\n      <td>2</td>\n      <td>11171</td>\n    </tr>\n    <tr>\n      <th>3</th>\n      <td>Audi</td>\n      <td>Q5</td>\n      <td>2023</td>\n      <td>2.0</td>\n      <td>Electric</td>\n      <td>Manual</td>\n      <td>160971</td>\n      <td>2</td>\n      <td>1</td>\n      <td>11780</td>\n    </tr>\n    <tr>\n      <th>4</th>\n      <td>Volkswagen</td>\n      <td>Golf</td>\n      <td>2003</td>\n      <td>2.6</td>\n      <td>Hybrid</td>\n      <td>Semi-Automatic</td>\n      <td>286618</td>\n      <td>3</td>\n      <td>3</td>\n      <td>2867</td>\n    </tr>\n  </tbody>\n</table>\n</div>"
          },
          "metadata": {}
        }
      ],
      "execution_count": 3
    },
    {
      "cell_type": "markdown",
      "source": "Once you have selected a data set, you will produce the deliverables listed below and submit them to one of your peers for review. Treat this exercise as an opportunity to produce analysis that are ready to highlight your analytical skills for a senior audience, for example, the Chief Data Officer, or the Head of Analytics at your company.\nSections required in your report:\n\n*   Main objective of the analysis that specifies whether your model will be focused on prediction or interpretation.\n*   Brief description of the data set you chose and a summary of its attributes.\n*   Brief summary of data exploration and actions taken for data cleaning and feature engineering.\n*   Summary of training at least three linear regression models which should be variations that cover using a simple  linear regression as a baseline, adding polynomial effects, and using a regularization regression. Preferably, all use the same training and test splits, or the same cross-validation method.\n*  A paragraph explaining which of your regressions you recommend as a final model that best fits your needs in terms of accuracy and explainability.\n*  Summary Key Findings and Insights, which walks your reader through the main drivers of your model and insights from your data derived from your linear regression model.\n*  Suggestions for next steps in analyzing this data, which may include suggesting revisiting this model adding specific data features to achieve a better explanation or a better prediction.\n",
      "metadata": {}
    },
    {
      "cell_type": "markdown",
      "source": "# 1. About the Data\n",
      "metadata": {}
    },
    {
      "cell_type": "markdown",
      "source": "**Car Price Dataset** from Kaggle contains information about various cars, including their specifications and prices. There are 9 columns with no NULL value in this dataset.",
      "metadata": {}
    },
    {
      "cell_type": "code",
      "source": "data.info()",
      "metadata": {
        "trusted": true
      },
      "outputs": [
        {
          "name": "stdout",
          "output_type": "stream",
          "text": "<class 'pandas.core.frame.DataFrame'>\nRangeIndex: 10000 entries, 0 to 9999\nData columns (total 10 columns):\n #   Column        Non-Null Count  Dtype  \n---  ------        --------------  -----  \n 0   Brand         10000 non-null  object \n 1   Model         10000 non-null  object \n 2   Year          10000 non-null  int64  \n 3   Engine_Size   10000 non-null  float64\n 4   Fuel_Type     10000 non-null  object \n 5   Transmission  10000 non-null  object \n 6   Mileage       10000 non-null  int64  \n 7   Doors         10000 non-null  int64  \n 8   Owner_Count   10000 non-null  int64  \n 9   Price         10000 non-null  int64  \ndtypes: float64(1), int64(5), object(4)\nmemory usage: 625.1+ KB\n"
        }
      ],
      "execution_count": 4
    },
    {
      "cell_type": "code",
      "source": "data.select_dtypes(include='object').nunique()",
      "metadata": {
        "trusted": true
      },
      "outputs": [
        {
          "execution_count": 5,
          "output_type": "execute_result",
          "data": {
            "text/plain": "Brand           10\nModel           30\nFuel_Type        4\nTransmission     3\ndtype: int64"
          },
          "metadata": {}
        }
      ],
      "execution_count": 5
    },
    {
      "cell_type": "code",
      "source": "data.select_dtypes(exclude='object')",
      "metadata": {
        "trusted": true
      },
      "outputs": [
        {
          "execution_count": 6,
          "output_type": "execute_result",
          "data": {
            "text/plain": "      Year  Engine_Size  Mileage  Doors  Owner_Count  Price\n0     2020          4.2   289944      3            5   8501\n1     2012          2.0     5356      2            3  12092\n2     2020          4.2   231440      4            2  11171\n3     2023          2.0   160971      2            1  11780\n4     2003          2.6   286618      3            3   2867\n...    ...          ...      ...    ...          ...    ...\n9995  2004          3.7     5794      2            4   8884\n9996  2002          1.4   168000      2            1   6240\n9997  2010          3.0    86664      5            1   9866\n9998  2002          1.4   225772      4            1   4084\n9999  2001          2.1   157882      3            3   3342\n\n[10000 rows x 6 columns]",
            "text/html": "<div>\n<style scoped>\n    .dataframe tbody tr th:only-of-type {\n        vertical-align: middle;\n    }\n\n    .dataframe tbody tr th {\n        vertical-align: top;\n    }\n\n    .dataframe thead th {\n        text-align: right;\n    }\n</style>\n<table border=\"1\" class=\"dataframe\">\n  <thead>\n    <tr style=\"text-align: right;\">\n      <th></th>\n      <th>Year</th>\n      <th>Engine_Size</th>\n      <th>Mileage</th>\n      <th>Doors</th>\n      <th>Owner_Count</th>\n      <th>Price</th>\n    </tr>\n  </thead>\n  <tbody>\n    <tr>\n      <th>0</th>\n      <td>2020</td>\n      <td>4.2</td>\n      <td>289944</td>\n      <td>3</td>\n      <td>5</td>\n      <td>8501</td>\n    </tr>\n    <tr>\n      <th>1</th>\n      <td>2012</td>\n      <td>2.0</td>\n      <td>5356</td>\n      <td>2</td>\n      <td>3</td>\n      <td>12092</td>\n    </tr>\n    <tr>\n      <th>2</th>\n      <td>2020</td>\n      <td>4.2</td>\n      <td>231440</td>\n      <td>4</td>\n      <td>2</td>\n      <td>11171</td>\n    </tr>\n    <tr>\n      <th>3</th>\n      <td>2023</td>\n      <td>2.0</td>\n      <td>160971</td>\n      <td>2</td>\n      <td>1</td>\n      <td>11780</td>\n    </tr>\n    <tr>\n      <th>4</th>\n      <td>2003</td>\n      <td>2.6</td>\n      <td>286618</td>\n      <td>3</td>\n      <td>3</td>\n      <td>2867</td>\n    </tr>\n    <tr>\n      <th>...</th>\n      <td>...</td>\n      <td>...</td>\n      <td>...</td>\n      <td>...</td>\n      <td>...</td>\n      <td>...</td>\n    </tr>\n    <tr>\n      <th>9995</th>\n      <td>2004</td>\n      <td>3.7</td>\n      <td>5794</td>\n      <td>2</td>\n      <td>4</td>\n      <td>8884</td>\n    </tr>\n    <tr>\n      <th>9996</th>\n      <td>2002</td>\n      <td>1.4</td>\n      <td>168000</td>\n      <td>2</td>\n      <td>1</td>\n      <td>6240</td>\n    </tr>\n    <tr>\n      <th>9997</th>\n      <td>2010</td>\n      <td>3.0</td>\n      <td>86664</td>\n      <td>5</td>\n      <td>1</td>\n      <td>9866</td>\n    </tr>\n    <tr>\n      <th>9998</th>\n      <td>2002</td>\n      <td>1.4</td>\n      <td>225772</td>\n      <td>4</td>\n      <td>1</td>\n      <td>4084</td>\n    </tr>\n    <tr>\n      <th>9999</th>\n      <td>2001</td>\n      <td>2.1</td>\n      <td>157882</td>\n      <td>3</td>\n      <td>3</td>\n      <td>3342</td>\n    </tr>\n  </tbody>\n</table>\n<p>10000 rows × 6 columns</p>\n</div>"
          },
          "metadata": {}
        }
      ],
      "execution_count": 6
    },
    {
      "cell_type": "code",
      "source": "data.describe()",
      "metadata": {
        "trusted": true,
        "scrolled": true
      },
      "outputs": [
        {
          "execution_count": 7,
          "output_type": "execute_result",
          "data": {
            "text/plain": "               Year   Engine_Size        Mileage         Doors   Owner_Count  \\\ncount  10000.000000  10000.000000   10000.000000  10000.000000  10000.000000   \nmean    2011.543700      3.000560  149239.111800      3.497100      2.991100   \nstd        6.897699      1.149324   86322.348957      1.110097      1.422682   \nmin     2000.000000      1.000000      25.000000      2.000000      1.000000   \n25%     2006.000000      2.000000   74649.250000      3.000000      2.000000   \n50%     2012.000000      3.000000  149587.000000      3.000000      3.000000   \n75%     2017.000000      4.000000  223577.500000      4.000000      4.000000   \nmax     2023.000000      5.000000  299947.000000      5.000000      5.000000   \n\n             Price  \ncount  10000.00000  \nmean    8852.96440  \nstd     3112.59681  \nmin     2000.00000  \n25%     6646.00000  \n50%     8858.50000  \n75%    11086.50000  \nmax    18301.00000  ",
            "text/html": "<div>\n<style scoped>\n    .dataframe tbody tr th:only-of-type {\n        vertical-align: middle;\n    }\n\n    .dataframe tbody tr th {\n        vertical-align: top;\n    }\n\n    .dataframe thead th {\n        text-align: right;\n    }\n</style>\n<table border=\"1\" class=\"dataframe\">\n  <thead>\n    <tr style=\"text-align: right;\">\n      <th></th>\n      <th>Year</th>\n      <th>Engine_Size</th>\n      <th>Mileage</th>\n      <th>Doors</th>\n      <th>Owner_Count</th>\n      <th>Price</th>\n    </tr>\n  </thead>\n  <tbody>\n    <tr>\n      <th>count</th>\n      <td>10000.000000</td>\n      <td>10000.000000</td>\n      <td>10000.000000</td>\n      <td>10000.000000</td>\n      <td>10000.000000</td>\n      <td>10000.00000</td>\n    </tr>\n    <tr>\n      <th>mean</th>\n      <td>2011.543700</td>\n      <td>3.000560</td>\n      <td>149239.111800</td>\n      <td>3.497100</td>\n      <td>2.991100</td>\n      <td>8852.96440</td>\n    </tr>\n    <tr>\n      <th>std</th>\n      <td>6.897699</td>\n      <td>1.149324</td>\n      <td>86322.348957</td>\n      <td>1.110097</td>\n      <td>1.422682</td>\n      <td>3112.59681</td>\n    </tr>\n    <tr>\n      <th>min</th>\n      <td>2000.000000</td>\n      <td>1.000000</td>\n      <td>25.000000</td>\n      <td>2.000000</td>\n      <td>1.000000</td>\n      <td>2000.00000</td>\n    </tr>\n    <tr>\n      <th>25%</th>\n      <td>2006.000000</td>\n      <td>2.000000</td>\n      <td>74649.250000</td>\n      <td>3.000000</td>\n      <td>2.000000</td>\n      <td>6646.00000</td>\n    </tr>\n    <tr>\n      <th>50%</th>\n      <td>2012.000000</td>\n      <td>3.000000</td>\n      <td>149587.000000</td>\n      <td>3.000000</td>\n      <td>3.000000</td>\n      <td>8858.50000</td>\n    </tr>\n    <tr>\n      <th>75%</th>\n      <td>2017.000000</td>\n      <td>4.000000</td>\n      <td>223577.500000</td>\n      <td>4.000000</td>\n      <td>4.000000</td>\n      <td>11086.50000</td>\n    </tr>\n    <tr>\n      <th>max</th>\n      <td>2023.000000</td>\n      <td>5.000000</td>\n      <td>299947.000000</td>\n      <td>5.000000</td>\n      <td>5.000000</td>\n      <td>18301.00000</td>\n    </tr>\n  </tbody>\n</table>\n</div>"
          },
          "metadata": {}
        }
      ],
      "execution_count": 7
    },
    {
      "cell_type": "code",
      "source": "data.shape",
      "metadata": {
        "trusted": true,
        "scrolled": true
      },
      "outputs": [
        {
          "execution_count": 8,
          "output_type": "execute_result",
          "data": {
            "text/plain": "(10000, 10)"
          },
          "metadata": {}
        }
      ],
      "execution_count": 8
    },
    {
      "cell_type": "markdown",
      "source": "### Data distribution",
      "metadata": {}
    },
    {
      "cell_type": "code",
      "source": "dist_col = ['Engine_Size','Mileage','Doors','Owner_Count']\nnum = [(0,0),(0,1),(1,0),(1,1)]\nfig, f = plt.subplots(2,2, figsize=(12,6))\nfor col, (x, y) in zip(dist_col, num):\n    f[x,y].hist(data[col])\n    f[x,y].set(title=col)\n    \nplt.tight_layout()\nplt.show()",
      "metadata": {
        "trusted": true
      },
      "outputs": [
        {
          "output_type": "display_data",
          "data": {
            "text/plain": "<Figure size 1200x600 with 4 Axes>",
            "image/png": "[encoded data removed]"
          },
          "metadata": {}
        }
      ],
      "execution_count": 9
    },
    {
      "cell_type": "markdown",
      "source": "# 2. Objectives\n",
      "metadata": {}
    },
    {
      "cell_type": "markdown",
      "source": "It will be used for regression analysis to predict car `Prices` based on features like `Year`, `Engine_Size`, `Mileage`, `Doors`. Some procedures will be proceeded before modelling, as per following:  \n- Transform polynomial features\n- Standardize and scaling data\n- Model fitting\n- Model evaluation and\n- Decision making on which model will be used.\n\n**Remark**: Pipeline method will be used for simplicity.",
      "metadata": {}
    },
    {
      "cell_type": "code",
      "source": "X = data[['Year','Engine_Size','Mileage','Doors','Owner_Count']]\ny = data['Price']",
      "metadata": {
        "trusted": true
      },
      "outputs": [],
      "execution_count": 12
    },
    {
      "cell_type": "markdown",
      "source": "# 3. Linear Regression Models\n",
      "metadata": {}
    },
    {
      "cell_type": "code",
      "source": "X_ss = StandardScaler().fit_transform(X)",
      "metadata": {
        "trusted": true
      },
      "outputs": [],
      "execution_count": 17
    },
    {
      "cell_type": "code",
      "source": "X_train, X_test, y_train, y_test = train_test_split(X_ss, y, test_size=.2, random_state=12453)\nX_train.shape, X_test.shape, y_train.shape, y_test.shape",
      "metadata": {
        "trusted": true
      },
      "outputs": [
        {
          "execution_count": 18,
          "output_type": "execute_result",
          "data": {
            "text/plain": "((8000, 5), (2000, 5), (8000,), (2000,))"
          },
          "metadata": {}
        }
      ],
      "execution_count": 18
    },
    {
      "cell_type": "markdown",
      "source": "### Simple Linear Regression",
      "metadata": {}
    },
    {
      "cell_type": "code",
      "source": "slr = LinearRegression()\nslr.fit(X_train, y_train)\ny_pred_slr = slr.predict(X_test)\nr2_score(y_test, y_pred_slr)",
      "metadata": {
        "trusted": true
      },
      "outputs": [
        {
          "execution_count": 19,
          "output_type": "execute_result",
          "data": {
            "text/plain": "0.8784887982531328"
          },
          "metadata": {}
        }
      ],
      "execution_count": 19
    },
    {
      "cell_type": "code",
      "source": "ss = StandardScaler()\nX_train_s = ss.fit_transform(X_train)\nX_test_s = ss.transform(X_test)\nslr_s = LinearRegression()\nslr_s.fit(X_train_s, y_train)\ny_pred_slr = slr_s.predict(X_test_s)",
      "metadata": {
        "trusted": true
      },
      "outputs": [],
      "execution_count": 27
    },
    {
      "cell_type": "markdown",
      "source": "### Multiple Linear Regression",
      "metadata": {}
    },
    {
      "cell_type": "code",
      "source": "pipe = Pipeline([('polynomial', PolynomialFeatures()),\n                 ('scaling', StandardScaler()),\n                 ('l-regression', LinearRegression())])\n\npipe.fit(X_train, y_train)\ny_pred_mlr = pipe.predict(X_test)",
      "metadata": {
        "trusted": true
      },
      "outputs": [],
      "execution_count": 28
    },
    {
      "cell_type": "markdown",
      "source": "### Lasso Regression",
      "metadata": {}
    },
    {
      "cell_type": "code",
      "source": "pipe_las = Pipeline([('polynomial', PolynomialFeatures()),\n                     ('scaling', StandardScaler()),\n                     ('lasso', Lasso(alpha=0.1))])\n\npipe_las.fit(X_train, y_train)\ny_pred_las = pipe_las.predict(X_test)",
      "metadata": {
        "trusted": true
      },
      "outputs": [],
      "execution_count": 29
    },
    {
      "cell_type": "markdown",
      "source": "### Ridge Regression",
      "metadata": {}
    },
    {
      "cell_type": "code",
      "source": "pipe_ridg = Pipeline([('polynomial', PolynomialFeatures()),\n                     ('scaling', StandardScaler()),\n                     ('ridge', Ridge(alpha=0.1))])\n\npipe_ridg.fit(X_train, y_train)\ny_pred_ridg = pipe_ridg.predict(X_test)",
      "metadata": {
        "trusted": true
      },
      "outputs": [],
      "execution_count": 30
    },
    {
      "cell_type": "markdown",
      "source": "# 4. Insights and key findings\n",
      "metadata": {}
    },
    {
      "cell_type": "markdown",
      "source": "### Model Evaluation",
      "metadata": {}
    },
    {
      "cell_type": "code",
      "source": "def evaluation(name, pred, test=y_test):\n    mse = mean_squared_error(test, pred)\n    r2  = r2_score(test, pred)\n    print(f\"R^2 score: {r2:.6f} | MSE: {mse:.0f} [{name}]\")\n\nevaluation(\"Simple Linear Regression\", y_pred_slr)\nevaluation(\"Multiple Linear Regression\", y_pred_mlr)\nevaluation(\"Lasso Regression\", y_pred_las)\nevaluation(\"Ridge Linear Regression\", y_pred_ridg)",
      "metadata": {
        "trusted": true
      },
      "outputs": [
        {
          "name": "stdout",
          "output_type": "stream",
          "text": "R^2 score: 0.878489 | MSE: 1182849 [Simple Linear Regression]\nR^2 score: 0.878304 | MSE: 1184649 [Multiple Linear Regression]\nR^2 score: 0.878306 | MSE: 1184625 [Lasso Regression]\nR^2 score: 0.878304 | MSE: 1184652 [Ridge Linear Regression]\n"
        }
      ],
      "execution_count": 36
    },
    {
      "cell_type": "markdown",
      "source": "The highest value of **R-squared** and the lowest **Mean-Squared-Error** are observed in Simple Linear Regression. As per the model evaluation, `Simple Linear Regression` is the simplest and easy to interpret.",
      "metadata": {}
    },
    {
      "cell_type": "markdown",
      "source": "# 5. Next Steps\n",
      "metadata": {}
    },
    {
      "cell_type": "markdown",
      "source": "It is better to add other relevant conditional features like `safety rating`, `wheel drive types`, `length`, `height`, `weight` and so on. Those information may support for more accurate prediction.",
      "metadata": {}
    },
    {
      "cell_type": "markdown",
      "source": "## <h3 align=\"center\"> © IBM Corporation 2020. All rights reserved. <h3/>\n",
      "metadata": {}
    }
  ]
}