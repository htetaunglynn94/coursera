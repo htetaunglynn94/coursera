{
  "metadata": {
    "kernelspec": {
      "name": "python",
      "display_name": "Python (Pyodide)",
      "language": "python"
    },
    "language_info": {
      "codemirror_mode": {
        "name": "python",
        "version": 3
      },
      "file_extension": ".py",
      "mimetype": "text/x-python",
      "name": "python",
      "nbconvert_exporter": "python",
      "pygments_lexer": "ipython3",
      "version": "3.8"
    },
    "prev_pub_hash": "c04a462d0df8b96d65cb3d5a3fb3a825548b3726460be6f51dbd23591fe0c571"
  },
  "nbformat_minor": 4,
  "nbformat": 4,
  "cells": [
    {
      "cell_type": "markdown",
      "source": "# Machine Learning Foundation\n\n## Section 2, Part e: Regularization LAB\n",
      "metadata": {}
    },
    {
      "cell_type": "markdown",
      "source": "## Learning objectives\n\nBy the end of this lesson, you will be able to:\n\n*   Implement data standardization\n*   Implement variants of regularized regression\n*   Combine data standardization with the train-test split procedure\n*   Implement regularization to prevent overfitting in regression problems\n",
      "metadata": {}
    },
    {
      "cell_type": "code",
      "source": "import piplite\nawait piplite.install(['tqdm', 'seaborn', 'pandas', 'numpy'])",
      "metadata": {
        "trusted": true
      },
      "outputs": [],
      "execution_count": 1
    },
    {
      "cell_type": "code",
      "source": "import numpy as np\nimport pandas as pd\nimport matplotlib.pyplot as plt\n%matplotlib inline\n\n\n# Surpress warnings:\ndef warn(*args, **kwargs):\n    pass\nimport warnings\nwarnings.warn = warn\n\nnp.set_printoptions(precision=3, suppress=True)",
      "metadata": {
        "trusted": true
      },
      "outputs": [
        {
          "name": "stderr",
          "output_type": "stream",
          "text": "Matplotlib is building the font cache; this may take a moment.\n"
        }
      ],
      "execution_count": 2
    },
    {
      "cell_type": "markdown",
      "source": "In the following cell we load the data and define some useful plotting functions.\n",
      "metadata": {}
    },
    {
      "cell_type": "code",
      "source": "np.random.seed(72018)\n\n\n\ndef to_2d(array):\n    return array.reshape(array.shape[0], -1)\n\n\n    \ndef plot_exponential_data():\n    data = np.exp(np.random.normal(size=1000))\n    plt.hist(data)\n    plt.show()\n    return data\n    \ndef plot_square_normal_data():\n    data = np.square(np.random.normal(loc=5, size=1000))\n    plt.hist(data)\n    plt.show()\n    return data",
      "metadata": {},
      "outputs": [],
      "execution_count": null
    },
    {
      "cell_type": "markdown",
      "source": "### Loading in Boston Data\n",
      "metadata": {}
    },
    {
      "cell_type": "code",
      "source": "import pyodide_http as ph\nph.patch_all()\nurl = \"https://cf-courses-data.s3.us.cloud-object-storage.appdomain.cloud/IBM-ML240EN-SkillsNetwork/labs/data/boston_housing_clean.pickle\"\ndata = pd.read_pickle(url)\nboston_data = data['dataframe']\nboston_data.head()",
      "metadata": {
        "trusted": true
      },
      "outputs": [
        {
          "execution_count": 12,
          "output_type": "execute_result",
          "data": {
            "text/plain": "      CRIM    ZN  INDUS  CHAS    NOX     RM   AGE     DIS  RAD    TAX  \\\n0  0.00632  18.0   2.31   0.0  0.538  6.575  65.2  4.0900  1.0  296.0   \n1  0.02731   0.0   7.07   0.0  0.469  6.421  78.9  4.9671  2.0  242.0   \n2  0.02729   0.0   7.07   0.0  0.469  7.185  61.1  4.9671  2.0  242.0   \n3  0.03237   0.0   2.18   0.0  0.458  6.998  45.8  6.0622  3.0  222.0   \n4  0.06905   0.0   2.18   0.0  0.458  7.147  54.2  6.0622  3.0  222.0   \n\n   PTRATIO       B  LSTAT  MEDV  \n0     15.3  396.90   4.98  24.0  \n1     17.8  396.90   9.14  21.6  \n2     17.8  392.83   4.03  34.7  \n3     18.7  394.63   2.94  33.4  \n4     18.7  396.90   5.33  36.2  ",
            "text/html": "<div>\n<style scoped>\n    .dataframe tbody tr th:only-of-type {\n        vertical-align: middle;\n    }\n\n    .dataframe tbody tr th {\n        vertical-align: top;\n    }\n\n    .dataframe thead th {\n        text-align: right;\n    }\n</style>\n<table border=\"1\" class=\"dataframe\">\n  <thead>\n    <tr style=\"text-align: right;\">\n      <th></th>\n      <th>CRIM</th>\n      <th>ZN</th>\n      <th>INDUS</th>\n      <th>CHAS</th>\n      <th>NOX</th>\n      <th>RM</th>\n      <th>AGE</th>\n      <th>DIS</th>\n      <th>RAD</th>\n      <th>TAX</th>\n      <th>PTRATIO</th>\n      <th>B</th>\n      <th>LSTAT</th>\n      <th>MEDV</th>\n    </tr>\n  </thead>\n  <tbody>\n    <tr>\n      <th>0</th>\n      <td>0.00632</td>\n      <td>18.0</td>\n      <td>2.31</td>\n      <td>0.0</td>\n      <td>0.538</td>\n      <td>6.575</td>\n      <td>65.2</td>\n      <td>4.0900</td>\n      <td>1.0</td>\n      <td>296.0</td>\n      <td>15.3</td>\n      <td>396.90</td>\n      <td>4.98</td>\n      <td>24.0</td>\n    </tr>\n    <tr>\n      <th>1</th>\n      <td>0.02731</td>\n      <td>0.0</td>\n      <td>7.07</td>\n      <td>0.0</td>\n      <td>0.469</td>\n      <td>6.421</td>\n      <td>78.9</td>\n      <td>4.9671</td>\n      <td>2.0</td>\n      <td>242.0</td>\n      <td>17.8</td>\n      <td>396.90</td>\n      <td>9.14</td>\n      <td>21.6</td>\n    </tr>\n    <tr>\n      <th>2</th>\n      <td>0.02729</td>\n      <td>0.0</td>\n      <td>7.07</td>\n      <td>0.0</td>\n      <td>0.469</td>\n      <td>7.185</td>\n      <td>61.1</td>\n      <td>4.9671</td>\n      <td>2.0</td>\n      <td>242.0</td>\n      <td>17.8</td>\n      <td>392.83</td>\n      <td>4.03</td>\n      <td>34.7</td>\n    </tr>\n    <tr>\n      <th>3</th>\n      <td>0.03237</td>\n      <td>0.0</td>\n      <td>2.18</td>\n      <td>0.0</td>\n      <td>0.458</td>\n      <td>6.998</td>\n      <td>45.8</td>\n      <td>6.0622</td>\n      <td>3.0</td>\n      <td>222.0</td>\n      <td>18.7</td>\n      <td>394.63</td>\n      <td>2.94</td>\n      <td>33.4</td>\n    </tr>\n    <tr>\n      <th>4</th>\n      <td>0.06905</td>\n      <td>0.0</td>\n      <td>2.18</td>\n      <td>0.0</td>\n      <td>0.458</td>\n      <td>7.147</td>\n      <td>54.2</td>\n      <td>6.0622</td>\n      <td>3.0</td>\n      <td>222.0</td>\n      <td>18.7</td>\n      <td>396.90</td>\n      <td>5.33</td>\n      <td>36.2</td>\n    </tr>\n  </tbody>\n</table>\n</div>"
          },
          "metadata": {}
        }
      ],
      "execution_count": 12
    },
    {
      "cell_type": "code",
      "source": "boston_description = data['description']\nprint(boston_description)",
      "metadata": {
        "trusted": true
      },
      "outputs": [
        {
          "name": "stdout",
          "output_type": "stream",
          "text": "Boston House Prices dataset\n===========================\n\nNotes\n------\nData Set Characteristics:  \n\n    :Number of Instances: 506 \n\n    :Number of Attributes: 13 numeric/categorical predictive\n    \n    :Median Value (attribute 14) is usually the target\n\n    :Attribute Information (in order):\n        - CRIM     per capita crime rate by town\n        - ZN       proportion of residential land zoned for lots over 25,000 sq.ft.\n        - INDUS    proportion of non-retail business acres per town\n        - CHAS     Charles River dummy variable (= 1 if tract bounds river; 0 otherwise)\n        - NOX      nitric oxides concentration (parts per 10 million)\n        - RM       average number of rooms per dwelling\n        - AGE      proportion of owner-occupied units built prior to 1940\n        - DIS      weighted distances to five Boston employment centres\n        - RAD      index of accessibility to radial highways\n        - TAX      full-value property-tax rate per $10,000\n        - PTRATIO  pupil-teacher ratio by town\n        - B        1000(Bk - 0.63)^2 where Bk is the proportion of blacks by town\n        - LSTAT    % lower status of the population\n        - MEDV     Median value of owner-occupied homes in $1000's\n\n    :Missing Attribute Values: None\n\n    :Creator: Harrison, D. and Rubinfeld, D.L.\n\nThis is a copy of UCI ML housing dataset.\nhttp://archive.ics.uci.edu/ml/datasets/Housing\n\n\nThis dataset was taken from the StatLib library which is maintained at Carnegie Mellon University.\n\nThe Boston house-price data of Harrison, D. and Rubinfeld, D.L. 'Hedonic\nprices and the demand for clean air', J. Environ. Economics & Management,\nvol.5, 81-102, 1978.   Used in Belsley, Kuh & Welsch, 'Regression diagnostics\n...', Wiley, 1980.   N.B. Various transformations are used in the table on\npages 244-261 of the latter.\n\nThe Boston house-price data has been used in many machine learning papers that address regression\nproblems.   \n     \n**References**\n\n   - Belsley, Kuh & Welsch, 'Regression diagnostics: Identifying Influential Data and Sources of Collinearity', Wiley, 1980. 244-261.\n   - Quinlan,R. (1993). Combining Instance-Based and Model-Based Learning. In Proceedings on the Tenth International Conference of Machine Learning, 236-243, University of Massachusetts, Amherst. Morgan Kaufmann.\n   - many more! (see http://archive.ics.uci.edu/ml/datasets/Housing)\n\n"
        }
      ],
      "execution_count": 8
    },
    {
      "cell_type": "markdown",
      "source": "## Data standardization\n",
      "metadata": {}
    },
    {
      "cell_type": "markdown",
      "source": "**Standardizing** data refers to transforming each variable so that it more closely follows a **standard** normal distribution, with mean 0 and standard deviation 1.\n\nThe [`StandardScaler`](http://scikit-learn.org/dev/modules/generated/sklearn.preprocessing.StandardScaler.html?utm_medium=Exinfluencer&utm_source=Exinfluencer&utm_content=000026UJ&utm_term=10006555&utm_id=NA-SkillsNetwork-Channel-SkillsNetworkCoursesIBMML240ENSkillsNetwork34171862-2022-01-01#sklearn.preprocessing.StandardScaler) object in SciKit Learn can do this.\n",
      "metadata": {}
    },
    {
      "cell_type": "markdown",
      "source": "**Generate X and y**:\n",
      "metadata": {}
    },
    {
      "cell_type": "code",
      "source": "y_col = \"MEDV\"\nX = boston_data.drop(y_col, axis=1)\ny = boston_data[y_col]",
      "metadata": {
        "trusted": true
      },
      "outputs": [],
      "execution_count": 9
    },
    {
      "cell_type": "markdown",
      "source": "**Import, fit, and transform using `StandardScaler`**\n",
      "metadata": {}
    },
    {
      "cell_type": "code",
      "source": "X.shape",
      "metadata": {
        "trusted": true
      },
      "outputs": [
        {
          "execution_count": 10,
          "output_type": "execute_result",
          "data": {
            "text/plain": "(506, 13)"
          },
          "metadata": {}
        }
      ],
      "execution_count": 10
    },
    {
      "cell_type": "code",
      "source": "from sklearn.preprocessing import StandardScaler\n\ns = StandardScaler()\nX_ss = s.fit_transform(X)\nX_ss[:5]",
      "metadata": {
        "trusted": true
      },
      "outputs": [
        {
          "execution_count": 13,
          "output_type": "execute_result",
          "data": {
            "text/plain": "array([[-0.418,  0.285, -1.288, -0.273, -0.144,  0.414, -0.12 ,  0.14 ,\n        -0.983, -0.667, -1.459,  0.441, -1.076],\n       [-0.415, -0.488, -0.593, -0.273, -0.74 ,  0.194,  0.367,  0.557,\n        -0.868, -0.987, -0.303,  0.441, -0.492],\n       [-0.415, -0.488, -0.593, -0.273, -0.74 ,  1.283, -0.266,  0.557,\n        -0.868, -0.987, -0.303,  0.396, -1.209],\n       [-0.415, -0.488, -1.307, -0.273, -0.835,  1.016, -0.81 ,  1.078,\n        -0.753, -1.106,  0.113,  0.416, -1.362],\n       [-0.41 , -0.488, -1.307, -0.273, -0.835,  1.229, -0.511,  1.078,\n        -0.753, -1.106,  0.113,  0.441, -1.027]])"
          },
          "metadata": {}
        }
      ],
      "execution_count": 13
    },
    {
      "cell_type": "code",
      "source": "# Recheck\npd.DataFrame(data=X_ss, columns=X.columns).head()",
      "metadata": {
        "trusted": true
      },
      "outputs": [
        {
          "execution_count": 15,
          "output_type": "execute_result",
          "data": {
            "text/plain": "       CRIM        ZN     INDUS      CHAS       NOX        RM       AGE  \\\n0 -0.417713  0.284830 -1.287909 -0.272599 -0.144217  0.413672 -0.120013   \n1 -0.415269 -0.487722 -0.593381 -0.272599 -0.740262  0.194274  0.367166   \n2 -0.415272 -0.487722 -0.593381 -0.272599 -0.740262  1.282714 -0.265812   \n3 -0.414680 -0.487722 -1.306878 -0.272599 -0.835284  1.016303 -0.809889   \n4 -0.410409 -0.487722 -1.306878 -0.272599 -0.835284  1.228577 -0.511180   \n\n        DIS       RAD       TAX   PTRATIO         B     LSTAT  \n0  0.140214 -0.982843 -0.666608 -1.459000  0.441052 -1.075562  \n1  0.557160 -0.867883 -0.987329 -0.303094  0.441052 -0.492439  \n2  0.557160 -0.867883 -0.987329 -0.303094  0.396427 -1.208727  \n3  1.077737 -0.752922 -1.106115  0.113032  0.416163 -1.361517  \n4  1.077737 -0.752922 -1.106115  0.113032  0.441052 -1.026501  ",
            "text/html": "<div>\n<style scoped>\n    .dataframe tbody tr th:only-of-type {\n        vertical-align: middle;\n    }\n\n    .dataframe tbody tr th {\n        vertical-align: top;\n    }\n\n    .dataframe thead th {\n        text-align: right;\n    }\n</style>\n<table border=\"1\" class=\"dataframe\">\n  <thead>\n    <tr style=\"text-align: right;\">\n      <th></th>\n      <th>CRIM</th>\n      <th>ZN</th>\n      <th>INDUS</th>\n      <th>CHAS</th>\n      <th>NOX</th>\n      <th>RM</th>\n      <th>AGE</th>\n      <th>DIS</th>\n      <th>RAD</th>\n      <th>TAX</th>\n      <th>PTRATIO</th>\n      <th>B</th>\n      <th>LSTAT</th>\n    </tr>\n  </thead>\n  <tbody>\n    <tr>\n      <th>0</th>\n      <td>-0.417713</td>\n      <td>0.284830</td>\n      <td>-1.287909</td>\n      <td>-0.272599</td>\n      <td>-0.144217</td>\n      <td>0.413672</td>\n      <td>-0.120013</td>\n      <td>0.140214</td>\n      <td>-0.982843</td>\n      <td>-0.666608</td>\n      <td>-1.459000</td>\n      <td>0.441052</td>\n      <td>-1.075562</td>\n    </tr>\n    <tr>\n      <th>1</th>\n      <td>-0.415269</td>\n      <td>-0.487722</td>\n      <td>-0.593381</td>\n      <td>-0.272599</td>\n      <td>-0.740262</td>\n      <td>0.194274</td>\n      <td>0.367166</td>\n      <td>0.557160</td>\n      <td>-0.867883</td>\n      <td>-0.987329</td>\n      <td>-0.303094</td>\n      <td>0.441052</td>\n      <td>-0.492439</td>\n    </tr>\n    <tr>\n      <th>2</th>\n      <td>-0.415272</td>\n      <td>-0.487722</td>\n      <td>-0.593381</td>\n      <td>-0.272599</td>\n      <td>-0.740262</td>\n      <td>1.282714</td>\n      <td>-0.265812</td>\n      <td>0.557160</td>\n      <td>-0.867883</td>\n      <td>-0.987329</td>\n      <td>-0.303094</td>\n      <td>0.396427</td>\n      <td>-1.208727</td>\n    </tr>\n    <tr>\n      <th>3</th>\n      <td>-0.414680</td>\n      <td>-0.487722</td>\n      <td>-1.306878</td>\n      <td>-0.272599</td>\n      <td>-0.835284</td>\n      <td>1.016303</td>\n      <td>-0.809889</td>\n      <td>1.077737</td>\n      <td>-0.752922</td>\n      <td>-1.106115</td>\n      <td>0.113032</td>\n      <td>0.416163</td>\n      <td>-1.361517</td>\n    </tr>\n    <tr>\n      <th>4</th>\n      <td>-0.410409</td>\n      <td>-0.487722</td>\n      <td>-1.306878</td>\n      <td>-0.272599</td>\n      <td>-0.835284</td>\n      <td>1.228577</td>\n      <td>-0.511180</td>\n      <td>1.077737</td>\n      <td>-0.752922</td>\n      <td>-1.106115</td>\n      <td>0.113032</td>\n      <td>0.441052</td>\n      <td>-1.026501</td>\n    </tr>\n  </tbody>\n</table>\n</div>"
          },
          "metadata": {}
        }
      ],
      "execution_count": 15
    },
    {
      "cell_type": "markdown",
      "source": "### Exercise:\n\nConfirm standard scaling\n",
      "metadata": {}
    },
    {
      "cell_type": "code",
      "source": "#Hint:\n\na = np.array([[1, 2, 3], \n              [4, 5, 6]]) \nprint(a) # 2 rows, 3 columns",
      "metadata": {},
      "outputs": [],
      "execution_count": null
    },
    {
      "cell_type": "code",
      "source": "a.mean(axis=0) # mean along the *columns*",
      "metadata": {},
      "outputs": [],
      "execution_count": null
    },
    {
      "cell_type": "code",
      "source": "a.mean(axis=1) # mean along the *rows*",
      "metadata": {},
      "outputs": [],
      "execution_count": null
    },
    {
      "cell_type": "code",
      "source": "### BEGIN SOLUTION\nX2 = np.array(X)\nman_transform = (X2-X2.mean(axis=0))/X2.std(axis=0)\nnp.allclose(man_transform, X_ss)\n### END SOLUTION",
      "metadata": {},
      "outputs": [],
      "execution_count": null
    },
    {
      "cell_type": "markdown",
      "source": "### Coefficients with and without scaling\n",
      "metadata": {}
    },
    {
      "cell_type": "code",
      "source": "from sklearn.linear_model import LinearRegression",
      "metadata": {},
      "outputs": [],
      "execution_count": null
    },
    {
      "cell_type": "code",
      "source": "lr = LinearRegression()\n\ny_col = \"MEDV\"\n\nX = boston_data.drop(y_col, axis=1)\ny = boston_data[y_col]",
      "metadata": {},
      "outputs": [],
      "execution_count": null
    },
    {
      "cell_type": "code",
      "source": "lr.fit(X, y)\nprint(lr.coef_) # min = -18",
      "metadata": {},
      "outputs": [],
      "execution_count": null
    },
    {
      "cell_type": "markdown",
      "source": "#### Discussion (together):\n\nThe coefficients are on widely different scales. Is this \"bad\"?\n",
      "metadata": {}
    },
    {
      "cell_type": "code",
      "source": "from sklearn.preprocessing import StandardScaler",
      "metadata": {},
      "outputs": [],
      "execution_count": null
    },
    {
      "cell_type": "code",
      "source": "s = StandardScaler()\nX_ss = s.fit_transform(X)",
      "metadata": {},
      "outputs": [],
      "execution_count": null
    },
    {
      "cell_type": "code",
      "source": "lr2 = LinearRegression()\nlr2.fit(X_ss, y)\nprint(lr2.coef_) # coefficients now \"on the same scale\"",
      "metadata": {},
      "outputs": [],
      "execution_count": null
    },
    {
      "cell_type": "markdown",
      "source": "### Exercise:\n\nBased on these results, what is the most \"impactful\" feature (this is intended to be slightly ambiguous)? \"In what direction\" does it affect \"y\"?\n\n**Hint:** Recall from last week that we can \"zip up\" the names of the features of a DataFrame `df` with a model `model` fitted on that DataFrame using:\n\n```python\ndict(zip(df.columns.values, model.coef_))\n```\n",
      "metadata": {}
    },
    {
      "cell_type": "code",
      "source": "### BEGIN SOLUTION\npd.DataFrame(zip(X.columns, lr2.coef_)).sort_values(by=1)\n### END SOLUTION",
      "metadata": {},
      "outputs": [],
      "execution_count": null
    },
    {
      "cell_type": "markdown",
      "source": "Looking just at the strength of the standardized coefficients LSTAT, DIS, RM and RAD are all the 'most impactful'. Sklearn does not have built in statistical signifigance of each of these variables which would aid in making this claim stronger/weaker\n",
      "metadata": {}
    },
    {
      "cell_type": "markdown",
      "source": "### Lasso with and without scaling\n",
      "metadata": {}
    },
    {
      "cell_type": "markdown",
      "source": "We discussed Lasso in lecture.\n\nLet's review together:\n\n1.  What is different about Lasso vs. regular Linear Regression?\n2.  Is standardization more or less important with Lasso vs. Linear Regression? Why?\n",
      "metadata": {}
    },
    {
      "cell_type": "code",
      "source": "from sklearn.linear_model import Lasso\nfrom sklearn.preprocessing import PolynomialFeatures",
      "metadata": {},
      "outputs": [],
      "execution_count": null
    },
    {
      "cell_type": "markdown",
      "source": "#### Create polynomial features\n",
      "metadata": {}
    },
    {
      "cell_type": "markdown",
      "source": "[`PolynomialFeatures`](http://scikit-learn.org/stable/modules/generated/sklearn.preprocessing.PolynomialFeatures.html?utm_medium=Exinfluencer&utm_source=Exinfluencer&utm_content=000026UJ&utm_term=10006555&utm_id=NA-SkillsNetwork-Channel-SkillsNetworkCoursesIBMML240ENSkillsNetwork34171862-2022-01-01)\n",
      "metadata": {}
    },
    {
      "cell_type": "code",
      "source": "pf = PolynomialFeatures(degree=2, include_bias=False,)\nX_pf = pf.fit_transform(X)",
      "metadata": {},
      "outputs": [],
      "execution_count": null
    },
    {
      "cell_type": "markdown",
      "source": "**Note:** We use `include_bias=False` since `Lasso` includes a bias by default.\n",
      "metadata": {}
    },
    {
      "cell_type": "code",
      "source": "X_pf_ss = s.fit_transform(X_pf)",
      "metadata": {},
      "outputs": [],
      "execution_count": null
    },
    {
      "cell_type": "markdown",
      "source": "### Lasso\n",
      "metadata": {}
    },
    {
      "cell_type": "markdown",
      "source": "[`Lasso` documentation](http://scikit-learn.org/stable/modules/generated/sklearn.linear_model.Lasso.html?utm_medium=Exinfluencer&utm_source=Exinfluencer&utm_content=000026UJ&utm_term=10006555&utm_id=NA-SkillsNetwork-Channel-SkillsNetworkCoursesIBMML240ENSkillsNetwork34171862-2022-01-01)\n",
      "metadata": {}
    },
    {
      "cell_type": "code",
      "source": "las = Lasso()\nlas.fit(X_pf_ss, y)\nlas.coef_ ",
      "metadata": {},
      "outputs": [],
      "execution_count": null
    },
    {
      "cell_type": "markdown",
      "source": "### Exercise\n\nCompare\n\n*   Sum of magnitudes of the coefficients\n*   Number of coefficients that are zero\n\nfor Lasso with alpha 0.1 vs. 1.\n\nBefore doing the exercise, answer the following questions in one sentence each:\n\n*   Which do you expect to have greater magnitude?\n*   Which do you expect to have more zeros?\n",
      "metadata": {}
    },
    {
      "cell_type": "code",
      "source": "### BEGIN SOLUTION\nlas01 = Lasso(alpha = 0.1)\nlas01.fit(X_pf_ss, y)\nprint('sum of coefficients:', abs(las01.coef_).sum() )\nprint('number of coefficients not equal to 0:', (las01.coef_!=0).sum())",
      "metadata": {},
      "outputs": [],
      "execution_count": null
    },
    {
      "cell_type": "code",
      "source": "las1 = Lasso(alpha = 1)\nlas1.fit(X_pf_ss, y)\nprint('sum of coefficients:',abs(las1.coef_).sum() )\nprint('number of coefficients not equal to 0:',(las1.coef_!=0).sum())\n### END SOLUTION",
      "metadata": {},
      "outputs": [],
      "execution_count": null
    },
    {
      "cell_type": "markdown",
      "source": "With more regularization (higher alpha) we will expect the penalty for higher weights to be greater and thus the coefficients to be pushed down. Thus a higher alpha means lower magnitude with more coefficients pushed down to 0.\n",
      "metadata": {}
    },
    {
      "cell_type": "markdown",
      "source": "### Exercise: $R^2$\n",
      "metadata": {}
    },
    {
      "cell_type": "markdown",
      "source": "Calculate the $R^2$ of each model without train/test split.\n\nRecall that we import $R^2$ using:\n\n```python\nfrom sklearn.metrics import r2_score\n```\n",
      "metadata": {}
    },
    {
      "cell_type": "code",
      "source": "### BEGIN SOLUTION\nfrom sklearn.metrics import r2_score\nr2_score(y,las.predict(X_pf_ss))\n### END SOLUTION",
      "metadata": {},
      "outputs": [],
      "execution_count": null
    },
    {
      "cell_type": "markdown",
      "source": "#### Discuss:\n\nWill regularization ever increase model performance if we evaluate on the same dataset that we trained on?\n",
      "metadata": {}
    },
    {
      "cell_type": "markdown",
      "source": "## With train/test split\n",
      "metadata": {}
    },
    {
      "cell_type": "markdown",
      "source": "#### Discuss\n\nAre there any issues with what we've done so far?\n\n**Hint:** Think about the way we have done feature scaling.\n\nDiscuss in groups of two or three.\n",
      "metadata": {}
    },
    {
      "cell_type": "code",
      "source": "from sklearn.model_selection import train_test_split",
      "metadata": {},
      "outputs": [],
      "execution_count": null
    },
    {
      "cell_type": "code",
      "source": "X_train, X_test, y_train, y_test = train_test_split(X_pf, y, test_size=0.3, \n                                                    random_state=72018)",
      "metadata": {},
      "outputs": [],
      "execution_count": null
    },
    {
      "cell_type": "code",
      "source": "X_train_s = s.fit_transform(X_train)\nlas.fit(X_train_s, y_train)\nX_test_s = s.transform(X_test)\ny_pred = las.predict(X_test_s)\nr2_score(y_test, y_pred)",
      "metadata": {},
      "outputs": [],
      "execution_count": null
    },
    {
      "cell_type": "code",
      "source": "X_train_s = s.fit_transform(X_train)\nlas01.fit(X_train_s, y_train)\nX_test_s = s.transform(X_test)\ny_pred = las01.predict(X_test_s)\nr2_score(y_test, y_pred)",
      "metadata": {},
      "outputs": [],
      "execution_count": null
    },
    {
      "cell_type": "markdown",
      "source": "### Exercise\n\n#### Part 1:\n\nDo the same thing with Lasso of:\n\n*   `alpha` of 0.001\n*   Increase `max_iter` to 100000 to ensure convergence.\n\nCalculate the $R^2$ of the model.\n\nFeel free to copy-paste code from above, but write a one sentence comment above each line of code explaining why you're doing what you're doing.\n\n#### Part 2:\n\nDo the same procedure as before, but with Linear Regression.\n\nCalculate the $R^2$ of this model.\n\n#### Part 3:\n\nCompare the sums of the absolute values of the coefficients for both models, as well as the number of coefficients that are zero. Based on these measures, which model is a \"simpler\" description of the relationship between the features and the target?\n",
      "metadata": {}
    },
    {
      "cell_type": "code",
      "source": "### BEGIN SOLUTION\n\n# Part 1\n\n# Decreasing regularization and ensuring convergence\nlas001 = Lasso(alpha = 0.001, max_iter=100000)\n\n# Transforming training set to get standardized units\nX_train_s = s.fit_transform(X_train)\n\n# Fitting model to training set\nlas001.fit(X_train_s, y_train)\n\n# Transforming test set using the parameters defined from training set\nX_test_s = s.transform(X_test)\n\n# Finding prediction on test set\ny_pred = las001.predict(X_test_s)\n\n# Calculating r2 score\nprint(\"r2 score for alpha = 0.001:\", r2_score(y_test, y_pred))\n\n\n# Part 2\n\n# Using vanilla Linear Regression\nlr = LinearRegression()\n\n# Fitting model to training set\nlr.fit(X_train_s, y_train)\n\n# predicting on test set\ny_pred_lr = lr.predict(X_test_s)\n\n# Calculating r2 score\nprint(\"r2 score for Linear Regression:\", r2_score(y_test,y_pred_lr))\n\n\n# Part 3\nprint('Magnitude of Lasso coefficients:', abs(las001.coef_).sum())\nprint('Number of coeffients not equal to 0 for Lasso:', (las001.coef_!=0).sum())\n\nprint('Magnitude of Linear Regression coefficients:', abs(lr.coef_).sum())\nprint('Number of coeffients not equal to 0 for Linear Regression:', (lr.coef_!=0).sum())\n### END SOLUTION",
      "metadata": {},
      "outputs": [],
      "execution_count": null
    },
    {
      "cell_type": "markdown",
      "source": "## L1 vs. L2 Regularization\n",
      "metadata": {}
    },
    {
      "cell_type": "markdown",
      "source": "As mentioned in the deck: `Lasso` and `Ridge` regression have the same syntax in SciKit Learn.\n\nNow we're going to compare the results from Ridge vs. Lasso regression:\n",
      "metadata": {}
    },
    {
      "cell_type": "markdown",
      "source": "[`Ridge`](http://scikit-learn.org/stable/modules/generated/sklearn.linear_model.Ridge.html?utm_medium=Exinfluencer&utm_source=Exinfluencer&utm_content=000026UJ&utm_term=10006555&utm_id=NA-SkillsNetwork-Channel-SkillsNetworkCoursesIBMML240ENSkillsNetwork34171862-2022-01-01)\n",
      "metadata": {}
    },
    {
      "cell_type": "code",
      "source": "from sklearn.linear_model import Ridge",
      "metadata": {},
      "outputs": [],
      "execution_count": null
    },
    {
      "cell_type": "markdown",
      "source": "### Exercise\n\nFollowing the Ridge documentation from above:\n\n1.  Define a Ridge object `r` with the same `alpha` as `las001`.\n2.  Fit that object on `X` and `y` and print out the resulting coefficients.\n",
      "metadata": {}
    },
    {
      "cell_type": "code",
      "source": "### BEGIN SOLUTION\n# Decreasing regularization and ensuring convergence\nr = Ridge(alpha = 0.001)\nX_train_s = s.fit_transform(X_train)\nr.fit(X_train_s, y_train)\nX_test_s = s.transform(X_test)\ny_pred_r = r.predict(X_test_s)\n\n# Calculating r2 score\nr.coef_\n### END SOLUTION",
      "metadata": {},
      "outputs": [],
      "execution_count": null
    },
    {
      "cell_type": "code",
      "source": "las001 # same alpha as Ridge above",
      "metadata": {},
      "outputs": [],
      "execution_count": null
    },
    {
      "cell_type": "code",
      "source": "las001.coef_",
      "metadata": {},
      "outputs": [],
      "execution_count": null
    },
    {
      "cell_type": "code",
      "source": "print(np.sum(np.abs(r.coef_)))\nprint(np.sum(np.abs(las001.coef_)))\n\nprint(np.sum(r.coef_ != 0))\nprint(np.sum(las001.coef_ != 0))",
      "metadata": {},
      "outputs": [],
      "execution_count": null
    },
    {
      "cell_type": "markdown",
      "source": "**Conclusion:** Ridge does not make any coefficients 0. In addition, on this particular dataset, Lasso provides stronger overall regularization than Ridge for this value of `alpha` (not necessarily true in general).\n",
      "metadata": {}
    },
    {
      "cell_type": "code",
      "source": "y_pred = r.predict(X_pf_ss)\nprint(r2_score(y, y_pred))\n\ny_pred = las001.predict(X_pf_ss)\nprint(r2_score(y, y_pred))",
      "metadata": {},
      "outputs": [],
      "execution_count": null
    },
    {
      "cell_type": "markdown",
      "source": "**Conclusion**: Ignoring issues of overfitting, Ridge does slightly better than Lasso when `alpha` is set to 0.001 for each (not necessarily true in general).\n",
      "metadata": {}
    },
    {
      "cell_type": "markdown",
      "source": "# Example: Does it matter when you scale?\n",
      "metadata": {}
    },
    {
      "cell_type": "code",
      "source": "X_train, X_test, y_train, y_test = train_test_split(X_ss, y, test_size=0.3, \n                                                    random_state=72018)",
      "metadata": {},
      "outputs": [],
      "execution_count": null
    },
    {
      "cell_type": "code",
      "source": "lr = LinearRegression()\nlr.fit(X_train, y_train)\ny_pred = lr.predict(X_test)\nr2_score(y_test, y_pred)",
      "metadata": {},
      "outputs": [],
      "execution_count": null
    },
    {
      "cell_type": "code",
      "source": "X_train, X_test, y_train, y_test = train_test_split(X, y, test_size=0.3, \n                                                    random_state=72018)",
      "metadata": {},
      "outputs": [],
      "execution_count": null
    },
    {
      "cell_type": "code",
      "source": "s = StandardScaler()\nlr_s = LinearRegression()\nX_train_s = s.fit_transform(X_train)\nlr_s.fit(X_train_s, y_train)\nX_test_s = s.transform(X_test)\ny_pred_s = lr_s.predict(X_test_s)\nr2_score(y_test, y_pred)",
      "metadata": {},
      "outputs": [],
      "execution_count": null
    },
    {
      "cell_type": "markdown",
      "source": "**Conclusion:** It doesn't matter whether you scale before or afterwards, in terms of the raw predictions, for Linear Regression. However, it matters for other algorithms. Plus, as we'll see later, we can make scaling part of a `Pipeline`.\n",
      "metadata": {}
    },
    {
      "cell_type": "markdown",
      "source": "***\n\n### Machine Learning Foundation (C) 2020 IBM Corporation\n",
      "metadata": {}
    }
  ]
}