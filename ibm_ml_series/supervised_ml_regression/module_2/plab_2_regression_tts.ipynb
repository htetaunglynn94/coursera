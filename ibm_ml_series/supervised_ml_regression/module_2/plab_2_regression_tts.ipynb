{
  "metadata": {
    "kernelspec": {
      "name": "python",
      "display_name": "Python (Pyodide)",
      "language": "python"
    },
    "language_info": {
      "codemirror_mode": {
        "name": "python",
        "version": 3
      },
      "file_extension": ".py",
      "mimetype": "text/x-python",
      "name": "python",
      "nbconvert_exporter": "python",
      "pygments_lexer": "ipython3",
      "version": "3.8"
    },
    "prev_pub_hash": "beb25a9b7f74ba8297b9ddc8cfce0e58572157eadb51d12df4cf574f713fc8b8"
  },
  "nbformat_minor": 4,
  "nbformat": 4,
  "cells": [
    {
      "cell_type": "markdown",
      "source": "# Machine Learning Foundation\n\n## Course 2, Part b: Regression Setup, Train-test Split LAB \n",
      "metadata": {}
    },
    {
      "cell_type": "markdown",
      "source": "## Introduction\n\nWe will be working with a data set based on [housing prices in Ames, Iowa](https://www.kaggle.com/c/house-prices-advanced-regression-techniques). It was compiled for educational use to be a modernized and expanded alternative to the well-known Boston Housing dataset. This version of the data set has had some missing values filled for convenience.\n\nThere are an extensive number of features, so they've been described in the table below.\n\n### Predictor\n\n* SalePrice: The property's sale price in dollars. \n\n### Features\n\n* MoSold: Month Sold\n* YrSold: Year Sold   \n* SaleType: Type of sale\n* SaleCondition: Condition of sale\n* MSSubClass: The building class\n* MSZoning: The general zoning classification\n* ...\n",
      "metadata": {}
    },
    {
      "cell_type": "code",
      "source": "# Surpress warnings:\ndef warn(*args, **kwargs):\n    pass\nimport warnings\nwarnings.warn = warn",
      "metadata": {
        "trusted": true
      },
      "outputs": [],
      "execution_count": 1
    },
    {
      "cell_type": "code",
      "source": "import piplite\nawait piplite.install(['tqdm', 'seaborn', 'pandas', 'numpy', 'scikit-learn'])",
      "metadata": {
        "trusted": true
      },
      "outputs": [],
      "execution_count": 2
    },
    {
      "cell_type": "markdown",
      "source": "## Question 1\n\n* Import the data using Pandas and examine the shape. There are 79 feature columns plus the predictor, the sale price (`SalePrice`). \n* There are three different types: integers (`int64`), floats (`float64`), and strings (`object`, categoricals). Examine how many there are of each data type. \n",
      "metadata": {}
    },
    {
      "cell_type": "code",
      "source": "from pyodide.http import pyfetch\n \nasync def download(url, filename):\n    response = await pyfetch(url)\n    if response.status == 200:\n        with open(filename, \"wb\") as f:\n            f.write(await response.bytes())\n \npath = \"https://cf-courses-data.s3.us.cloud-object-storage.appdomain.cloud/IBM-ML240EN-SkillsNetwork/labs/data/Ames_Housing_Sales.csv\"\n \n#you will need to download the dataset; if you are running locally, please comment out the following \nawait download(path, \"Ames_Housing_Sales.csv\")",
      "metadata": {
        "trusted": true
      },
      "outputs": [],
      "execution_count": 3
    },
    {
      "cell_type": "code",
      "source": "# Import pandas library\nimport pandas as pd\nimport numpy as np\n# Read the online file by the URL provides above, and assign it to variable \"df\"\n \ndata = pd.read_csv(\"Ames_Housing_Sales.csv\")\n \n# show the first 5 rows using dataframe.head() method\nprint(\"The first 5 rows of the dataframe\") \ndata.head(5)",
      "metadata": {
        "trusted": true
      },
      "outputs": [
        {
          "name": "stdout",
          "text": "The first 5 rows of the dataframe\n",
          "output_type": "stream"
        },
        {
          "execution_count": 4,
          "output_type": "execute_result",
          "data": {
            "text/plain": "   1stFlrSF  2ndFlrSF  3SsnPorch Alley  BedroomAbvGr BldgType BsmtCond  \\\n0     856.0     854.0        0.0   NaN             3     1Fam       TA   \n1    1262.0       0.0        0.0   NaN             3     1Fam       TA   \n2     920.0     866.0        0.0   NaN             3     1Fam       TA   \n3     961.0     756.0        0.0   NaN             3     1Fam       Gd   \n4    1145.0    1053.0        0.0   NaN             4     1Fam       TA   \n\n  BsmtExposure  BsmtFinSF1  BsmtFinSF2  ... ScreenPorch Street  TotRmsAbvGrd  \\\n0           No       706.0         0.0  ...         0.0   Pave             8   \n1           Gd       978.0         0.0  ...         0.0   Pave             6   \n2           Mn       486.0         0.0  ...         0.0   Pave             6   \n3           No       216.0         0.0  ...         0.0   Pave             7   \n4           Av       655.0         0.0  ...         0.0   Pave             9   \n\n   TotalBsmtSF Utilities  WoodDeckSF YearBuilt YearRemodAdd YrSold SalePrice  \n0        856.0    AllPub         0.0      2003         2003   2008  208500.0  \n1       1262.0    AllPub       298.0      1976         1976   2007  181500.0  \n2        920.0    AllPub         0.0      2001         2002   2008  223500.0  \n3        756.0    AllPub         0.0      1915         1970   2006  140000.0  \n4       1145.0    AllPub       192.0      2000         2000   2008  250000.0  \n\n[5 rows x 80 columns]",
            "text/html": "<div>\n<style scoped>\n    .dataframe tbody tr th:only-of-type {\n        vertical-align: middle;\n    }\n\n    .dataframe tbody tr th {\n        vertical-align: top;\n    }\n\n    .dataframe thead th {\n        text-align: right;\n    }\n</style>\n<table border=\"1\" class=\"dataframe\">\n  <thead>\n    <tr style=\"text-align: right;\">\n      <th></th>\n      <th>1stFlrSF</th>\n      <th>2ndFlrSF</th>\n      <th>3SsnPorch</th>\n      <th>Alley</th>\n      <th>BedroomAbvGr</th>\n      <th>BldgType</th>\n      <th>BsmtCond</th>\n      <th>BsmtExposure</th>\n      <th>BsmtFinSF1</th>\n      <th>BsmtFinSF2</th>\n      <th>...</th>\n      <th>ScreenPorch</th>\n      <th>Street</th>\n      <th>TotRmsAbvGrd</th>\n      <th>TotalBsmtSF</th>\n      <th>Utilities</th>\n      <th>WoodDeckSF</th>\n      <th>YearBuilt</th>\n      <th>YearRemodAdd</th>\n      <th>YrSold</th>\n      <th>SalePrice</th>\n    </tr>\n  </thead>\n  <tbody>\n    <tr>\n      <th>0</th>\n      <td>856.0</td>\n      <td>854.0</td>\n      <td>0.0</td>\n      <td>NaN</td>\n      <td>3</td>\n      <td>1Fam</td>\n      <td>TA</td>\n      <td>No</td>\n      <td>706.0</td>\n      <td>0.0</td>\n      <td>...</td>\n      <td>0.0</td>\n      <td>Pave</td>\n      <td>8</td>\n      <td>856.0</td>\n      <td>AllPub</td>\n      <td>0.0</td>\n      <td>2003</td>\n      <td>2003</td>\n      <td>2008</td>\n      <td>208500.0</td>\n    </tr>\n    <tr>\n      <th>1</th>\n      <td>1262.0</td>\n      <td>0.0</td>\n      <td>0.0</td>\n      <td>NaN</td>\n      <td>3</td>\n      <td>1Fam</td>\n      <td>TA</td>\n      <td>Gd</td>\n      <td>978.0</td>\n      <td>0.0</td>\n      <td>...</td>\n      <td>0.0</td>\n      <td>Pave</td>\n      <td>6</td>\n      <td>1262.0</td>\n      <td>AllPub</td>\n      <td>298.0</td>\n      <td>1976</td>\n      <td>1976</td>\n      <td>2007</td>\n      <td>181500.0</td>\n    </tr>\n    <tr>\n      <th>2</th>\n      <td>920.0</td>\n      <td>866.0</td>\n      <td>0.0</td>\n      <td>NaN</td>\n      <td>3</td>\n      <td>1Fam</td>\n      <td>TA</td>\n      <td>Mn</td>\n      <td>486.0</td>\n      <td>0.0</td>\n      <td>...</td>\n      <td>0.0</td>\n      <td>Pave</td>\n      <td>6</td>\n      <td>920.0</td>\n      <td>AllPub</td>\n      <td>0.0</td>\n      <td>2001</td>\n      <td>2002</td>\n      <td>2008</td>\n      <td>223500.0</td>\n    </tr>\n    <tr>\n      <th>3</th>\n      <td>961.0</td>\n      <td>756.0</td>\n      <td>0.0</td>\n      <td>NaN</td>\n      <td>3</td>\n      <td>1Fam</td>\n      <td>Gd</td>\n      <td>No</td>\n      <td>216.0</td>\n      <td>0.0</td>\n      <td>...</td>\n      <td>0.0</td>\n      <td>Pave</td>\n      <td>7</td>\n      <td>756.0</td>\n      <td>AllPub</td>\n      <td>0.0</td>\n      <td>1915</td>\n      <td>1970</td>\n      <td>2006</td>\n      <td>140000.0</td>\n    </tr>\n    <tr>\n      <th>4</th>\n      <td>1145.0</td>\n      <td>1053.0</td>\n      <td>0.0</td>\n      <td>NaN</td>\n      <td>4</td>\n      <td>1Fam</td>\n      <td>TA</td>\n      <td>Av</td>\n      <td>655.0</td>\n      <td>0.0</td>\n      <td>...</td>\n      <td>0.0</td>\n      <td>Pave</td>\n      <td>9</td>\n      <td>1145.0</td>\n      <td>AllPub</td>\n      <td>192.0</td>\n      <td>2000</td>\n      <td>2000</td>\n      <td>2008</td>\n      <td>250000.0</td>\n    </tr>\n  </tbody>\n</table>\n<p>5 rows × 80 columns</p>\n</div>"
          },
          "metadata": {}
        }
      ],
      "execution_count": 4
    },
    {
      "cell_type": "code",
      "source": "data.dtypes.value_counts()",
      "metadata": {
        "trusted": true
      },
      "outputs": [
        {
          "execution_count": 5,
          "output_type": "execute_result",
          "data": {
            "text/plain": "object     43\nfloat64    21\nint64      16\nName: count, dtype: int64"
          },
          "metadata": {}
        }
      ],
      "execution_count": 5
    },
    {
      "cell_type": "markdown",
      "source": "## Question 2\n\nA significant challenge, particularly when dealing with data that have many columns, is ensuring each column gets encoded correctly. \n\nThis is particularly true with data columns that are ordered categoricals (ordinals) vs unordered categoricals. Unordered categoricals should be one-hot encoded, however this can significantly increase the number of features and creates features that are highly correlated with each other.\n\nDetermine how many total features would be present, relative to what currently exists, if all string (object) features are one-hot encoded. Recall that the total number of one-hot encoded columns is `n-1`, where `n` is the number of categories.\n",
      "metadata": {}
    },
    {
      "cell_type": "code",
      "source": "len(data.dtypes == object)",
      "metadata": {
        "trusted": true
      },
      "outputs": [
        {
          "execution_count": 6,
          "output_type": "execute_result",
          "data": {
            "text/plain": "80"
          },
          "metadata": {}
        }
      ],
      "execution_count": 6
    },
    {
      "cell_type": "code",
      "source": "# choose 'object' dtype columns\nmask = data.dtypes == object\nmask[:5]",
      "metadata": {
        "trusted": true
      },
      "outputs": [
        {
          "execution_count": 7,
          "output_type": "execute_result",
          "data": {
            "text/plain": "1stFlrSF        False\n2ndFlrSF        False\n3SsnPorch       False\nAlley            True\nBedroomAbvGr    False\ndtype: bool"
          },
          "metadata": {}
        }
      ],
      "execution_count": 7
    },
    {
      "cell_type": "code",
      "source": "categorical_cols = data.columns[mask]\ncategorical_cols",
      "metadata": {
        "trusted": true
      },
      "outputs": [
        {
          "execution_count": 8,
          "output_type": "execute_result",
          "data": {
            "text/plain": "Index(['Alley', 'BldgType', 'BsmtCond', 'BsmtExposure', 'BsmtFinType1',\n       'BsmtFinType2', 'BsmtQual', 'CentralAir', 'Condition1', 'Condition2',\n       'Electrical', 'ExterCond', 'ExterQual', 'Exterior1st', 'Exterior2nd',\n       'Fence', 'FireplaceQu', 'Foundation', 'Functional', 'GarageCond',\n       'GarageFinish', 'GarageQual', 'GarageType', 'Heating', 'HeatingQC',\n       'HouseStyle', 'KitchenQual', 'LandContour', 'LandSlope', 'LotConfig',\n       'LotShape', 'MSZoning', 'MasVnrType', 'MiscFeature', 'Neighborhood',\n       'PavedDrive', 'PoolQC', 'RoofMatl', 'RoofStyle', 'SaleCondition',\n       'SaleType', 'Street', 'Utilities'],\n      dtype='object')"
          },
          "metadata": {}
        }
      ],
      "execution_count": 8
    },
    {
      "cell_type": "code",
      "source": "len(data[categorical_cols].apply(lambda x: x.nunique(dropna=False)))\n# result not change for (dropna=True)",
      "metadata": {
        "trusted": true
      },
      "outputs": [
        {
          "execution_count": 9,
          "output_type": "execute_result",
          "data": {
            "text/plain": "43"
          },
          "metadata": {}
        }
      ],
      "execution_count": 9
    },
    {
      "cell_type": "code",
      "source": "data[categorical_cols].apply(lambda x: x.nunique(dropna=True)).sum()\n# if (dropna = False), result will be 258",
      "metadata": {
        "trusted": true
      },
      "outputs": [
        {
          "execution_count": 10,
          "output_type": "execute_result",
          "data": {
            "text/plain": "247"
          },
          "metadata": {}
        }
      ],
      "execution_count": 10
    },
    {
      "cell_type": "code",
      "source": "# drop_na=False means no count for np.nan values\nnum_ohc_cols = data[categorical_cols].apply(lambda x: x.nunique(dropna=False)) \\\n                                        .sort_values(ascending=False)\nnum_ohc_cols",
      "metadata": {
        "trusted": true
      },
      "outputs": [
        {
          "execution_count": 11,
          "output_type": "execute_result",
          "data": {
            "text/plain": "Neighborhood     25\nExterior2nd      16\nExterior1st      14\nCondition1        9\nSaleType          9\nRoofMatl          8\nHouseStyle        8\nCondition2        8\nFunctional        7\nBsmtFinType2      7\nGarageType        6\nHeating           6\nBsmtFinType1      6\nFireplaceQu       6\nFoundation        6\nRoofStyle         6\nSaleCondition     6\nMiscFeature       5\nMSZoning          5\nLotConfig         5\nBsmtExposure      5\nHeatingQC         5\nBsmtQual          5\nElectrical        5\nBldgType          5\nGarageCond        5\nFence             5\nGarageQual        5\nKitchenQual       4\nLandContour       4\nPoolQC            4\nLotShape          4\nExterQual         4\nMasVnrType        4\nExterCond         4\nBsmtCond          4\nAlley             3\nPavedDrive        3\nLandSlope         3\nGarageFinish      3\nCentralAir        2\nStreet            2\nUtilities         2\ndtype: int64"
          },
          "metadata": {}
        }
      ],
      "execution_count": 11
    },
    {
      "cell_type": "code",
      "source": "data['BsmtExposure'].unique(),jnggg",
      "metadata": {
        "trusted": true
      },
      "outputs": [
        {
          "ename": "<class 'NameError'>",
          "evalue": "name 'jnggg' is not defined",
          "traceback": [
            "\u001b[0;31m---------------------------------------------------------------------------\u001b[0m",
            "\u001b[0;31mNameError\u001b[0m                                 Traceback (most recent call last)",
            "Cell \u001b[0;32mIn[12], line 1\u001b[0m\n\u001b[0;32m----> 1\u001b[0m data[\u001b[38;5;124m'\u001b[39m\u001b[38;5;124mBsmtExposure\u001b[39m\u001b[38;5;124m'\u001b[39m]\u001b[38;5;241m.\u001b[39munique(),\u001b[43mjnggg\u001b[49m\n",
            "\u001b[0;31mNameError\u001b[0m: name 'jnggg' is not defined"
          ],
          "output_type": "error"
        }
      ],
      "execution_count": 12
    },
    {
      "cell_type": "code",
      "source": "# No need to encode for columns having single unique value\nsmall_num_ohc_cols = num_ohc_cols.loc[num_ohc_cols > 1]\nprint(\"Total unique values of each columns:\", small_num_ohc_cols.sum())\nsmall_num_ohc_cols",
      "metadata": {
        "trusted": true
      },
      "outputs": [
        {
          "name": "stdout",
          "text": "Total unique values of each columns: 258\n",
          "output_type": "stream"
        },
        {
          "execution_count": 13,
          "output_type": "execute_result",
          "data": {
            "text/plain": "Neighborhood     25\nExterior2nd      16\nExterior1st      14\nCondition1        9\nSaleType          9\nRoofMatl          8\nHouseStyle        8\nCondition2        8\nFunctional        7\nBsmtFinType2      7\nGarageType        6\nHeating           6\nBsmtFinType1      6\nFireplaceQu       6\nFoundation        6\nRoofStyle         6\nSaleCondition     6\nMiscFeature       5\nMSZoning          5\nLotConfig         5\nBsmtExposure      5\nHeatingQC         5\nBsmtQual          5\nElectrical        5\nBldgType          5\nGarageCond        5\nFence             5\nGarageQual        5\nKitchenQual       4\nLandContour       4\nPoolQC            4\nLotShape          4\nExterQual         4\nMasVnrType        4\nExterCond         4\nBsmtCond          4\nAlley             3\nPavedDrive        3\nLandSlope         3\nGarageFinish      3\nCentralAir        2\nStreet            2\nUtilities         2\ndtype: int64"
          },
          "metadata": {}
        }
      ],
      "execution_count": 13
    },
    {
      "cell_type": "code",
      "source": "# Number of one-hot columns is one less than the number of categories\nsmall_num_ohc_cols -= 1\nsmall_num_ohc_cols",
      "metadata": {
        "trusted": true
      },
      "outputs": [
        {
          "execution_count": 14,
          "output_type": "execute_result",
          "data": {
            "text/plain": "Neighborhood     24\nExterior2nd      15\nExterior1st      13\nCondition1        8\nSaleType          8\nRoofMatl          7\nHouseStyle        7\nCondition2        7\nFunctional        6\nBsmtFinType2      6\nGarageType        5\nHeating           5\nBsmtFinType1      5\nFireplaceQu       5\nFoundation        5\nRoofStyle         5\nSaleCondition     5\nMiscFeature       4\nMSZoning          4\nLotConfig         4\nBsmtExposure      4\nHeatingQC         4\nBsmtQual          4\nElectrical        4\nBldgType          4\nGarageCond        4\nFence             4\nGarageQual        4\nKitchenQual       3\nLandContour       3\nPoolQC            3\nLotShape          3\nExterQual         3\nMasVnrType        3\nExterCond         3\nBsmtCond          3\nAlley             2\nPavedDrive        2\nLandSlope         2\nGarageFinish      2\nCentralAir        1\nStreet            1\nUtilities         1\ndtype: int64"
          },
          "metadata": {}
        }
      ],
      "execution_count": 14
    },
    {
      "cell_type": "code",
      "source": "print(\"Total unique values of each column after removing:\", small_num_ohc_cols.sum())",
      "metadata": {
        "trusted": true
      },
      "outputs": [
        {
          "name": "stdout",
          "text": "Total unique values of each column after removing: 215\n",
          "output_type": "stream"
        }
      ],
      "execution_count": 15
    },
    {
      "cell_type": "markdown",
      "source": "## Question 3\n\nLet's create a new data set where all of the above categorical features will be one-hot encoded. We can fit this data and see how it affects the results.\n\n* Used the dataframe `.copy()` method to create a completely separate copy of the dataframe for one-hot encoding\n* On this new dataframe, one-hot encode each of the appropriate columns and add it back to the dataframe. Be sure to drop the original column.\n* For the data that are not one-hot encoded, drop the columns that are string categoricals.\n\nFor the first step, numerically encoding the string categoricals, either Scikit-learn;s `LabelEncoder` or `DictVectorizer` can be used. However, the former is probably easier since it doesn't require specifying a numerical value for each category, and we are going to one-hot encode all of the numerical values anyway. (Can you think of a time when `DictVectorizer` might be preferred?)\n",
      "metadata": {}
    },
    {
      "cell_type": "code",
      "source": "from sklearn.preprocessing import OneHotEncoder, LabelEncoder",
      "metadata": {
        "trusted": true
      },
      "outputs": [],
      "execution_count": 16
    },
    {
      "cell_type": "code",
      "source": "d = data.copy()",
      "metadata": {
        "trusted": true
      },
      "outputs": [],
      "execution_count": 17
    },
    {
      "cell_type": "code",
      "source": "# create encoder models\nle = LabelEncoder()\nohc = OneHotEncoder()",
      "metadata": {
        "trusted": true
      },
      "outputs": [],
      "execution_count": 18
    },
    {
      "cell_type": "code",
      "source": "for col in num_ohc_cols.index:\n# for col in h:\n    # print(\"Column name:\", col)\n    # print(\"*\" * 25)\n    # display(d[col].head())\n    dat = le.fit_transform(d[col]).astype(int)           # 1-D\n    # print(dat.shape)\n    d.drop(col, axis=1, inplace=True)\n    # display(dat[:5])\n    new_dat = ohc.fit_transform(dat.reshape(-1,1))       # 2-D\n    # print(new_dat)\n    # print(new_dat.shape)\n\n    # Create unique column name\n    n_cols = new_dat.shape[1]\n    col_names = ['_'.join([col, str(x)]) for x in range(n_cols)]\n    # print(col_names)\n\n    new_df = pd.DataFrame(new_dat.toarray(), \n                          index = d.index,\n                          columns = col_names)\n    d = pd.concat([d, new_df], axis=1)\nd",
      "metadata": {
        "trusted": true
      },
      "outputs": [
        {
          "execution_count": 19,
          "output_type": "execute_result",
          "data": {
            "text/plain": "      1stFlrSF  2ndFlrSF  3SsnPorch  BedroomAbvGr  BsmtFinSF1  BsmtFinSF2  \\\n0        856.0     854.0        0.0             3       706.0         0.0   \n1       1262.0       0.0        0.0             3       978.0         0.0   \n2        920.0     866.0        0.0             3       486.0         0.0   \n3        961.0     756.0        0.0             3       216.0         0.0   \n4       1145.0    1053.0        0.0             4       655.0         0.0   \n...        ...       ...        ...           ...         ...         ...   \n1374     953.0     694.0        0.0             3         0.0         0.0   \n1375    2073.0       0.0        0.0             3       790.0       163.0   \n1376    1188.0    1152.0        0.0             4       275.0         0.0   \n1377    1078.0       0.0        0.0             2        49.0      1029.0   \n1378    1256.0       0.0        0.0             3       830.0       290.0   \n\n      BsmtFullBath  BsmtHalfBath  BsmtUnfSF  EnclosedPorch  ...  LandSlope_2  \\\n0                1             0      150.0            0.0  ...          0.0   \n1                0             1      284.0            0.0  ...          0.0   \n2                1             0      434.0            0.0  ...          0.0   \n3                1             0      540.0          272.0  ...          0.0   \n4                1             0      490.0            0.0  ...          0.0   \n...            ...           ...        ...            ...  ...          ...   \n1374             0             0      953.0            0.0  ...          0.0   \n1375             1             0      589.0            0.0  ...          0.0   \n1376             0             0      877.0            0.0  ...          0.0   \n1377             1             0        0.0          112.0  ...          0.0   \n1378             1             0      136.0            0.0  ...          0.0   \n\n      GarageFinish_0  GarageFinish_1  GarageFinish_2  CentralAir_0  \\\n0                0.0             1.0             0.0           0.0   \n1                0.0             1.0             0.0           0.0   \n2                0.0             1.0             0.0           0.0   \n3                0.0             0.0             1.0           0.0   \n4                0.0             1.0             0.0           0.0   \n...              ...             ...             ...           ...   \n1374             0.0             1.0             0.0           0.0   \n1375             0.0             0.0             1.0           0.0   \n1376             0.0             1.0             0.0           0.0   \n1377             0.0             0.0             1.0           0.0   \n1378             1.0             0.0             0.0           0.0   \n\n      CentralAir_1  Street_0  Street_1  Utilities_0  Utilities_1  \n0              1.0       0.0       1.0          1.0          0.0  \n1              1.0       0.0       1.0          1.0          0.0  \n2              1.0       0.0       1.0          1.0          0.0  \n3              1.0       0.0       1.0          1.0          0.0  \n4              1.0       0.0       1.0          1.0          0.0  \n...            ...       ...       ...          ...          ...  \n1374           1.0       0.0       1.0          1.0          0.0  \n1375           1.0       0.0       1.0          1.0          0.0  \n1376           1.0       0.0       1.0          1.0          0.0  \n1377           1.0       0.0       1.0          1.0          0.0  \n1378           1.0       0.0       1.0          1.0          0.0  \n\n[1379 rows x 295 columns]",
            "text/html": "<div>\n<style scoped>\n    .dataframe tbody tr th:only-of-type {\n        vertical-align: middle;\n    }\n\n    .dataframe tbody tr th {\n        vertical-align: top;\n    }\n\n    .dataframe thead th {\n        text-align: right;\n    }\n</style>\n<table border=\"1\" class=\"dataframe\">\n  <thead>\n    <tr style=\"text-align: right;\">\n      <th></th>\n      <th>1stFlrSF</th>\n      <th>2ndFlrSF</th>\n      <th>3SsnPorch</th>\n      <th>BedroomAbvGr</th>\n      <th>BsmtFinSF1</th>\n      <th>BsmtFinSF2</th>\n      <th>BsmtFullBath</th>\n      <th>BsmtHalfBath</th>\n      <th>BsmtUnfSF</th>\n      <th>EnclosedPorch</th>\n      <th>...</th>\n      <th>LandSlope_2</th>\n      <th>GarageFinish_0</th>\n      <th>GarageFinish_1</th>\n      <th>GarageFinish_2</th>\n      <th>CentralAir_0</th>\n      <th>CentralAir_1</th>\n      <th>Street_0</th>\n      <th>Street_1</th>\n      <th>Utilities_0</th>\n      <th>Utilities_1</th>\n    </tr>\n  </thead>\n  <tbody>\n    <tr>\n      <th>0</th>\n      <td>856.0</td>\n      <td>854.0</td>\n      <td>0.0</td>\n      <td>3</td>\n      <td>706.0</td>\n      <td>0.0</td>\n      <td>1</td>\n      <td>0</td>\n      <td>150.0</td>\n      <td>0.0</td>\n      <td>...</td>\n      <td>0.0</td>\n      <td>0.0</td>\n      <td>1.0</td>\n      <td>0.0</td>\n      <td>0.0</td>\n      <td>1.0</td>\n      <td>0.0</td>\n      <td>1.0</td>\n      <td>1.0</td>\n      <td>0.0</td>\n    </tr>\n    <tr>\n      <th>1</th>\n      <td>1262.0</td>\n      <td>0.0</td>\n      <td>0.0</td>\n      <td>3</td>\n      <td>978.0</td>\n      <td>0.0</td>\n      <td>0</td>\n      <td>1</td>\n      <td>284.0</td>\n      <td>0.0</td>\n      <td>...</td>\n      <td>0.0</td>\n      <td>0.0</td>\n      <td>1.0</td>\n      <td>0.0</td>\n      <td>0.0</td>\n      <td>1.0</td>\n      <td>0.0</td>\n      <td>1.0</td>\n      <td>1.0</td>\n      <td>0.0</td>\n    </tr>\n    <tr>\n      <th>2</th>\n      <td>920.0</td>\n      <td>866.0</td>\n      <td>0.0</td>\n      <td>3</td>\n      <td>486.0</td>\n      <td>0.0</td>\n      <td>1</td>\n      <td>0</td>\n      <td>434.0</td>\n      <td>0.0</td>\n      <td>...</td>\n      <td>0.0</td>\n      <td>0.0</td>\n      <td>1.0</td>\n      <td>0.0</td>\n      <td>0.0</td>\n      <td>1.0</td>\n      <td>0.0</td>\n      <td>1.0</td>\n      <td>1.0</td>\n      <td>0.0</td>\n    </tr>\n    <tr>\n      <th>3</th>\n      <td>961.0</td>\n      <td>756.0</td>\n      <td>0.0</td>\n      <td>3</td>\n      <td>216.0</td>\n      <td>0.0</td>\n      <td>1</td>\n      <td>0</td>\n      <td>540.0</td>\n      <td>272.0</td>\n      <td>...</td>\n      <td>0.0</td>\n      <td>0.0</td>\n      <td>0.0</td>\n      <td>1.0</td>\n      <td>0.0</td>\n      <td>1.0</td>\n      <td>0.0</td>\n      <td>1.0</td>\n      <td>1.0</td>\n      <td>0.0</td>\n    </tr>\n    <tr>\n      <th>4</th>\n      <td>1145.0</td>\n      <td>1053.0</td>\n      <td>0.0</td>\n      <td>4</td>\n      <td>655.0</td>\n      <td>0.0</td>\n      <td>1</td>\n      <td>0</td>\n      <td>490.0</td>\n      <td>0.0</td>\n      <td>...</td>\n      <td>0.0</td>\n      <td>0.0</td>\n      <td>1.0</td>\n      <td>0.0</td>\n      <td>0.0</td>\n      <td>1.0</td>\n      <td>0.0</td>\n      <td>1.0</td>\n      <td>1.0</td>\n      <td>0.0</td>\n    </tr>\n    <tr>\n      <th>...</th>\n      <td>...</td>\n      <td>...</td>\n      <td>...</td>\n      <td>...</td>\n      <td>...</td>\n      <td>...</td>\n      <td>...</td>\n      <td>...</td>\n      <td>...</td>\n      <td>...</td>\n      <td>...</td>\n      <td>...</td>\n      <td>...</td>\n      <td>...</td>\n      <td>...</td>\n      <td>...</td>\n      <td>...</td>\n      <td>...</td>\n      <td>...</td>\n      <td>...</td>\n      <td>...</td>\n    </tr>\n    <tr>\n      <th>1374</th>\n      <td>953.0</td>\n      <td>694.0</td>\n      <td>0.0</td>\n      <td>3</td>\n      <td>0.0</td>\n      <td>0.0</td>\n      <td>0</td>\n      <td>0</td>\n      <td>953.0</td>\n      <td>0.0</td>\n      <td>...</td>\n      <td>0.0</td>\n      <td>0.0</td>\n      <td>1.0</td>\n      <td>0.0</td>\n      <td>0.0</td>\n      <td>1.0</td>\n      <td>0.0</td>\n      <td>1.0</td>\n      <td>1.0</td>\n      <td>0.0</td>\n    </tr>\n    <tr>\n      <th>1375</th>\n      <td>2073.0</td>\n      <td>0.0</td>\n      <td>0.0</td>\n      <td>3</td>\n      <td>790.0</td>\n      <td>163.0</td>\n      <td>1</td>\n      <td>0</td>\n      <td>589.0</td>\n      <td>0.0</td>\n      <td>...</td>\n      <td>0.0</td>\n      <td>0.0</td>\n      <td>0.0</td>\n      <td>1.0</td>\n      <td>0.0</td>\n      <td>1.0</td>\n      <td>0.0</td>\n      <td>1.0</td>\n      <td>1.0</td>\n      <td>0.0</td>\n    </tr>\n    <tr>\n      <th>1376</th>\n      <td>1188.0</td>\n      <td>1152.0</td>\n      <td>0.0</td>\n      <td>4</td>\n      <td>275.0</td>\n      <td>0.0</td>\n      <td>0</td>\n      <td>0</td>\n      <td>877.0</td>\n      <td>0.0</td>\n      <td>...</td>\n      <td>0.0</td>\n      <td>0.0</td>\n      <td>1.0</td>\n      <td>0.0</td>\n      <td>0.0</td>\n      <td>1.0</td>\n      <td>0.0</td>\n      <td>1.0</td>\n      <td>1.0</td>\n      <td>0.0</td>\n    </tr>\n    <tr>\n      <th>1377</th>\n      <td>1078.0</td>\n      <td>0.0</td>\n      <td>0.0</td>\n      <td>2</td>\n      <td>49.0</td>\n      <td>1029.0</td>\n      <td>1</td>\n      <td>0</td>\n      <td>0.0</td>\n      <td>112.0</td>\n      <td>...</td>\n      <td>0.0</td>\n      <td>0.0</td>\n      <td>0.0</td>\n      <td>1.0</td>\n      <td>0.0</td>\n      <td>1.0</td>\n      <td>0.0</td>\n      <td>1.0</td>\n      <td>1.0</td>\n      <td>0.0</td>\n    </tr>\n    <tr>\n      <th>1378</th>\n      <td>1256.0</td>\n      <td>0.0</td>\n      <td>0.0</td>\n      <td>3</td>\n      <td>830.0</td>\n      <td>290.0</td>\n      <td>1</td>\n      <td>0</td>\n      <td>136.0</td>\n      <td>0.0</td>\n      <td>...</td>\n      <td>0.0</td>\n      <td>1.0</td>\n      <td>0.0</td>\n      <td>0.0</td>\n      <td>0.0</td>\n      <td>1.0</td>\n      <td>0.0</td>\n      <td>1.0</td>\n      <td>1.0</td>\n      <td>0.0</td>\n    </tr>\n  </tbody>\n</table>\n<p>1379 rows × 295 columns</p>\n</div>"
          },
          "metadata": {}
        }
      ],
      "execution_count": 19
    },
    {
      "cell_type": "code",
      "source": "d.shape, data.shape",
      "metadata": {
        "trusted": true
      },
      "outputs": [
        {
          "execution_count": 20,
          "output_type": "execute_result",
          "data": {
            "text/plain": "((1379, 295), (1379, 80))"
          },
          "metadata": {}
        }
      ],
      "execution_count": 20
    },
    {
      "cell_type": "code",
      "source": "# Column difference is as calculated above\nd.shape[1] - data.shape[1]",
      "metadata": {
        "trusted": true
      },
      "outputs": [
        {
          "execution_count": 21,
          "output_type": "execute_result",
          "data": {
            "text/plain": "215"
          },
          "metadata": {}
        }
      ],
      "execution_count": 21
    },
    {
      "cell_type": "code",
      "source": "num_ohc_cols.index",
      "metadata": {
        "trusted": true
      },
      "outputs": [
        {
          "execution_count": 22,
          "output_type": "execute_result",
          "data": {
            "text/plain": "Index(['Neighborhood', 'Exterior2nd', 'Exterior1st', 'Condition1', 'SaleType',\n       'RoofMatl', 'HouseStyle', 'Condition2', 'Functional', 'BsmtFinType2',\n       'GarageType', 'Heating', 'BsmtFinType1', 'FireplaceQu', 'Foundation',\n       'RoofStyle', 'SaleCondition', 'MiscFeature', 'MSZoning', 'LotConfig',\n       'BsmtExposure', 'HeatingQC', 'BsmtQual', 'Electrical', 'BldgType',\n       'GarageCond', 'Fence', 'GarageQual', 'KitchenQual', 'LandContour',\n       'PoolQC', 'LotShape', 'ExterQual', 'MasVnrType', 'ExterCond',\n       'BsmtCond', 'Alley', 'PavedDrive', 'LandSlope', 'GarageFinish',\n       'CentralAir', 'Street', 'Utilities'],\n      dtype='object')"
          },
          "metadata": {}
        }
      ],
      "execution_count": 22
    },
    {
      "cell_type": "code",
      "source": "print(data.shape[1])\n\n# Remove the string columns from the dataframe\ndata = data.drop(num_ohc_cols.index, axis=1)\n\nprint(data.shape[1])",
      "metadata": {
        "trusted": true
      },
      "outputs": [
        {
          "name": "stdout",
          "text": "80\n37\n",
          "output_type": "stream"
        }
      ],
      "execution_count": 23
    },
    {
      "cell_type": "markdown",
      "source": "## Question 4\n\n* Create train and test splits of both data sets. To ensure the data gets split the same way, use the same `random_state` in each of the two splits.\n* For each data set, fit a basic linear regression model on the training data. \n* Calculate the mean squared error on both the train and test sets for the respective models. Which model produces smaller error on the test data and why?\n",
      "metadata": {}
    },
    {
      "cell_type": "code",
      "source": "from sklearn.model_selection import train_test_split\n\ny_col = 'SalePrice'\n\n# Split the data that is not one-hot encoded\nfeature_cols = [x for x in data.columns if x != y_col]\nX_data = data[feature_cols]\ny_data = data[y_col]",
      "metadata": {
        "trusted": true
      },
      "outputs": [],
      "execution_count": 24
    },
    {
      "cell_type": "code",
      "source": "X_data.head()",
      "metadata": {
        "trusted": true
      },
      "outputs": [
        {
          "execution_count": 25,
          "output_type": "execute_result",
          "data": {
            "text/plain": "   1stFlrSF  2ndFlrSF  3SsnPorch  BedroomAbvGr  BsmtFinSF1  BsmtFinSF2  \\\n0     856.0     854.0        0.0             3       706.0         0.0   \n1    1262.0       0.0        0.0             3       978.0         0.0   \n2     920.0     866.0        0.0             3       486.0         0.0   \n3     961.0     756.0        0.0             3       216.0         0.0   \n4    1145.0    1053.0        0.0             4       655.0         0.0   \n\n   BsmtFullBath  BsmtHalfBath  BsmtUnfSF  EnclosedPorch  ...  OverallCond  \\\n0             1             0      150.0            0.0  ...            5   \n1             0             1      284.0            0.0  ...            8   \n2             1             0      434.0            0.0  ...            5   \n3             1             0      540.0          272.0  ...            5   \n4             1             0      490.0            0.0  ...            5   \n\n   OverallQual  PoolArea  ScreenPorch  TotRmsAbvGrd  TotalBsmtSF  WoodDeckSF  \\\n0            7       0.0          0.0             8        856.0         0.0   \n1            6       0.0          0.0             6       1262.0       298.0   \n2            7       0.0          0.0             6        920.0         0.0   \n3            7       0.0          0.0             7        756.0         0.0   \n4            8       0.0          0.0             9       1145.0       192.0   \n\n   YearBuilt  YearRemodAdd  YrSold  \n0       2003          2003    2008  \n1       1976          1976    2007  \n2       2001          2002    2008  \n3       1915          1970    2006  \n4       2000          2000    2008  \n\n[5 rows x 36 columns]",
            "text/html": "<div>\n<style scoped>\n    .dataframe tbody tr th:only-of-type {\n        vertical-align: middle;\n    }\n\n    .dataframe tbody tr th {\n        vertical-align: top;\n    }\n\n    .dataframe thead th {\n        text-align: right;\n    }\n</style>\n<table border=\"1\" class=\"dataframe\">\n  <thead>\n    <tr style=\"text-align: right;\">\n      <th></th>\n      <th>1stFlrSF</th>\n      <th>2ndFlrSF</th>\n      <th>3SsnPorch</th>\n      <th>BedroomAbvGr</th>\n      <th>BsmtFinSF1</th>\n      <th>BsmtFinSF2</th>\n      <th>BsmtFullBath</th>\n      <th>BsmtHalfBath</th>\n      <th>BsmtUnfSF</th>\n      <th>EnclosedPorch</th>\n      <th>...</th>\n      <th>OverallCond</th>\n      <th>OverallQual</th>\n      <th>PoolArea</th>\n      <th>ScreenPorch</th>\n      <th>TotRmsAbvGrd</th>\n      <th>TotalBsmtSF</th>\n      <th>WoodDeckSF</th>\n      <th>YearBuilt</th>\n      <th>YearRemodAdd</th>\n      <th>YrSold</th>\n    </tr>\n  </thead>\n  <tbody>\n    <tr>\n      <th>0</th>\n      <td>856.0</td>\n      <td>854.0</td>\n      <td>0.0</td>\n      <td>3</td>\n      <td>706.0</td>\n      <td>0.0</td>\n      <td>1</td>\n      <td>0</td>\n      <td>150.0</td>\n      <td>0.0</td>\n      <td>...</td>\n      <td>5</td>\n      <td>7</td>\n      <td>0.0</td>\n      <td>0.0</td>\n      <td>8</td>\n      <td>856.0</td>\n      <td>0.0</td>\n      <td>2003</td>\n      <td>2003</td>\n      <td>2008</td>\n    </tr>\n    <tr>\n      <th>1</th>\n      <td>1262.0</td>\n      <td>0.0</td>\n      <td>0.0</td>\n      <td>3</td>\n      <td>978.0</td>\n      <td>0.0</td>\n      <td>0</td>\n      <td>1</td>\n      <td>284.0</td>\n      <td>0.0</td>\n      <td>...</td>\n      <td>8</td>\n      <td>6</td>\n      <td>0.0</td>\n      <td>0.0</td>\n      <td>6</td>\n      <td>1262.0</td>\n      <td>298.0</td>\n      <td>1976</td>\n      <td>1976</td>\n      <td>2007</td>\n    </tr>\n    <tr>\n      <th>2</th>\n      <td>920.0</td>\n      <td>866.0</td>\n      <td>0.0</td>\n      <td>3</td>\n      <td>486.0</td>\n      <td>0.0</td>\n      <td>1</td>\n      <td>0</td>\n      <td>434.0</td>\n      <td>0.0</td>\n      <td>...</td>\n      <td>5</td>\n      <td>7</td>\n      <td>0.0</td>\n      <td>0.0</td>\n      <td>6</td>\n      <td>920.0</td>\n      <td>0.0</td>\n      <td>2001</td>\n      <td>2002</td>\n      <td>2008</td>\n    </tr>\n    <tr>\n      <th>3</th>\n      <td>961.0</td>\n      <td>756.0</td>\n      <td>0.0</td>\n      <td>3</td>\n      <td>216.0</td>\n      <td>0.0</td>\n      <td>1</td>\n      <td>0</td>\n      <td>540.0</td>\n      <td>272.0</td>\n      <td>...</td>\n      <td>5</td>\n      <td>7</td>\n      <td>0.0</td>\n      <td>0.0</td>\n      <td>7</td>\n      <td>756.0</td>\n      <td>0.0</td>\n      <td>1915</td>\n      <td>1970</td>\n      <td>2006</td>\n    </tr>\n    <tr>\n      <th>4</th>\n      <td>1145.0</td>\n      <td>1053.0</td>\n      <td>0.0</td>\n      <td>4</td>\n      <td>655.0</td>\n      <td>0.0</td>\n      <td>1</td>\n      <td>0</td>\n      <td>490.0</td>\n      <td>0.0</td>\n      <td>...</td>\n      <td>5</td>\n      <td>8</td>\n      <td>0.0</td>\n      <td>0.0</td>\n      <td>9</td>\n      <td>1145.0</td>\n      <td>192.0</td>\n      <td>2000</td>\n      <td>2000</td>\n      <td>2008</td>\n    </tr>\n  </tbody>\n</table>\n<p>5 rows × 36 columns</p>\n</div>"
          },
          "metadata": {}
        }
      ],
      "execution_count": 25
    },
    {
      "cell_type": "code",
      "source": "X_train, X_test, y_train, y_test = train_test_split(X_data, y_data,\n                                                    test_size=.3, random_state=42)",
      "metadata": {
        "trusted": true
      },
      "outputs": [],
      "execution_count": 26
    },
    {
      "cell_type": "code",
      "source": "# Split the data that is one-hot encoded\nfeature_cols = [x for x in d.columns if x != y_col]\nX_data_ohc = d[feature_cols]\ny_data_ohc = d[y_col]\n\nX_train_ohc, X_test_ohc, y_train_ohc, y_test_ohc = train_test_split(X_data_ohc, y_data_ohc,\n                                                                    test_size=.3, random_state=42)",
      "metadata": {
        "trusted": true
      },
      "outputs": [],
      "execution_count": 27
    },
    {
      "cell_type": "code",
      "source": "X_data_ohc.head()",
      "metadata": {
        "trusted": true
      },
      "outputs": [
        {
          "execution_count": 28,
          "output_type": "execute_result",
          "data": {
            "text/plain": "   1stFlrSF  2ndFlrSF  3SsnPorch  BedroomAbvGr  BsmtFinSF1  BsmtFinSF2  \\\n0     856.0     854.0        0.0             3       706.0         0.0   \n1    1262.0       0.0        0.0             3       978.0         0.0   \n2     920.0     866.0        0.0             3       486.0         0.0   \n3     961.0     756.0        0.0             3       216.0         0.0   \n4    1145.0    1053.0        0.0             4       655.0         0.0   \n\n   BsmtFullBath  BsmtHalfBath  BsmtUnfSF  EnclosedPorch  ...  LandSlope_2  \\\n0             1             0      150.0            0.0  ...          0.0   \n1             0             1      284.0            0.0  ...          0.0   \n2             1             0      434.0            0.0  ...          0.0   \n3             1             0      540.0          272.0  ...          0.0   \n4             1             0      490.0            0.0  ...          0.0   \n\n   GarageFinish_0  GarageFinish_1  GarageFinish_2  CentralAir_0  CentralAir_1  \\\n0             0.0             1.0             0.0           0.0           1.0   \n1             0.0             1.0             0.0           0.0           1.0   \n2             0.0             1.0             0.0           0.0           1.0   \n3             0.0             0.0             1.0           0.0           1.0   \n4             0.0             1.0             0.0           0.0           1.0   \n\n   Street_0  Street_1  Utilities_0  Utilities_1  \n0       0.0       1.0          1.0          0.0  \n1       0.0       1.0          1.0          0.0  \n2       0.0       1.0          1.0          0.0  \n3       0.0       1.0          1.0          0.0  \n4       0.0       1.0          1.0          0.0  \n\n[5 rows x 294 columns]",
            "text/html": "<div>\n<style scoped>\n    .dataframe tbody tr th:only-of-type {\n        vertical-align: middle;\n    }\n\n    .dataframe tbody tr th {\n        vertical-align: top;\n    }\n\n    .dataframe thead th {\n        text-align: right;\n    }\n</style>\n<table border=\"1\" class=\"dataframe\">\n  <thead>\n    <tr style=\"text-align: right;\">\n      <th></th>\n      <th>1stFlrSF</th>\n      <th>2ndFlrSF</th>\n      <th>3SsnPorch</th>\n      <th>BedroomAbvGr</th>\n      <th>BsmtFinSF1</th>\n      <th>BsmtFinSF2</th>\n      <th>BsmtFullBath</th>\n      <th>BsmtHalfBath</th>\n      <th>BsmtUnfSF</th>\n      <th>EnclosedPorch</th>\n      <th>...</th>\n      <th>LandSlope_2</th>\n      <th>GarageFinish_0</th>\n      <th>GarageFinish_1</th>\n      <th>GarageFinish_2</th>\n      <th>CentralAir_0</th>\n      <th>CentralAir_1</th>\n      <th>Street_0</th>\n      <th>Street_1</th>\n      <th>Utilities_0</th>\n      <th>Utilities_1</th>\n    </tr>\n  </thead>\n  <tbody>\n    <tr>\n      <th>0</th>\n      <td>856.0</td>\n      <td>854.0</td>\n      <td>0.0</td>\n      <td>3</td>\n      <td>706.0</td>\n      <td>0.0</td>\n      <td>1</td>\n      <td>0</td>\n      <td>150.0</td>\n      <td>0.0</td>\n      <td>...</td>\n      <td>0.0</td>\n      <td>0.0</td>\n      <td>1.0</td>\n      <td>0.0</td>\n      <td>0.0</td>\n      <td>1.0</td>\n      <td>0.0</td>\n      <td>1.0</td>\n      <td>1.0</td>\n      <td>0.0</td>\n    </tr>\n    <tr>\n      <th>1</th>\n      <td>1262.0</td>\n      <td>0.0</td>\n      <td>0.0</td>\n      <td>3</td>\n      <td>978.0</td>\n      <td>0.0</td>\n      <td>0</td>\n      <td>1</td>\n      <td>284.0</td>\n      <td>0.0</td>\n      <td>...</td>\n      <td>0.0</td>\n      <td>0.0</td>\n      <td>1.0</td>\n      <td>0.0</td>\n      <td>0.0</td>\n      <td>1.0</td>\n      <td>0.0</td>\n      <td>1.0</td>\n      <td>1.0</td>\n      <td>0.0</td>\n    </tr>\n    <tr>\n      <th>2</th>\n      <td>920.0</td>\n      <td>866.0</td>\n      <td>0.0</td>\n      <td>3</td>\n      <td>486.0</td>\n      <td>0.0</td>\n      <td>1</td>\n      <td>0</td>\n      <td>434.0</td>\n      <td>0.0</td>\n      <td>...</td>\n      <td>0.0</td>\n      <td>0.0</td>\n      <td>1.0</td>\n      <td>0.0</td>\n      <td>0.0</td>\n      <td>1.0</td>\n      <td>0.0</td>\n      <td>1.0</td>\n      <td>1.0</td>\n      <td>0.0</td>\n    </tr>\n    <tr>\n      <th>3</th>\n      <td>961.0</td>\n      <td>756.0</td>\n      <td>0.0</td>\n      <td>3</td>\n      <td>216.0</td>\n      <td>0.0</td>\n      <td>1</td>\n      <td>0</td>\n      <td>540.0</td>\n      <td>272.0</td>\n      <td>...</td>\n      <td>0.0</td>\n      <td>0.0</td>\n      <td>0.0</td>\n      <td>1.0</td>\n      <td>0.0</td>\n      <td>1.0</td>\n      <td>0.0</td>\n      <td>1.0</td>\n      <td>1.0</td>\n      <td>0.0</td>\n    </tr>\n    <tr>\n      <th>4</th>\n      <td>1145.0</td>\n      <td>1053.0</td>\n      <td>0.0</td>\n      <td>4</td>\n      <td>655.0</td>\n      <td>0.0</td>\n      <td>1</td>\n      <td>0</td>\n      <td>490.0</td>\n      <td>0.0</td>\n      <td>...</td>\n      <td>0.0</td>\n      <td>0.0</td>\n      <td>1.0</td>\n      <td>0.0</td>\n      <td>0.0</td>\n      <td>1.0</td>\n      <td>0.0</td>\n      <td>1.0</td>\n      <td>1.0</td>\n      <td>0.0</td>\n    </tr>\n  </tbody>\n</table>\n<p>5 rows × 294 columns</p>\n</div>"
          },
          "metadata": {}
        }
      ],
      "execution_count": 28
    },
    {
      "cell_type": "code",
      "source": "# Compare the indices to ensure they are identical\n(X_train_ohc.index == X_train.index).all()",
      "metadata": {
        "trusted": true
      },
      "outputs": [
        {
          "execution_count": 29,
          "output_type": "execute_result",
          "data": {
            "text/plain": "True"
          },
          "metadata": {}
        }
      ],
      "execution_count": 29
    },
    {
      "cell_type": "code",
      "source": "from sklearn.linear_model import LinearRegression\nfrom sklearn.metrics import mean_squared_error",
      "metadata": {
        "trusted": true
      },
      "outputs": [],
      "execution_count": 30
    },
    {
      "cell_type": "code",
      "source": "LR = LinearRegression()\n\n# Storage for error values\nerror_df = list()",
      "metadata": {
        "trusted": true
      },
      "outputs": [],
      "execution_count": 31
    },
    {
      "cell_type": "code",
      "source": "# Data that have not been one-hot encoded\nLR = LR.fit(X_train, y_train)\ny_train_pred = LR.predict(X_train)\ny_test_pred = LR.predict(X_test)\n\nerror_df.append(pd.Series({'train': mean_squared_error(y_train, y_train_pred),\n                           'test' : mean_squared_error(y_test,  y_test_pred)},\n                            name='no enc'))\nerror_df",
      "metadata": {
        "trusted": true
      },
      "outputs": [
        {
          "execution_count": 32,
          "output_type": "execute_result",
          "data": {
            "text/plain": "[train    1.131507e+09\n test     1.372182e+09\n Name: no enc, dtype: float64]"
          },
          "metadata": {}
        }
      ],
      "execution_count": 32
    },
    {
      "cell_type": "code",
      "source": "# Data that have been one-hot encoded\nLR = LR.fit(X_train_ohc, y_train_ohc)\ny_train_ohc_pred = LR.predict(X_train_ohc)\ny_test_ohc_pred = LR.predict(X_test_ohc)\n\nerror_df.append(pd.Series({'train': mean_squared_error(y_train_ohc, y_train_ohc_pred),\n                           'test':  mean_squared_error(y_test_ohc,  y_test_ohc_pred)},\n                           name='one-hot enc'))\nerror_df",
      "metadata": {
        "trusted": true
      },
      "outputs": [
        {
          "execution_count": 33,
          "output_type": "execute_result",
          "data": {
            "text/plain": "[train    1.131507e+09\n test     1.372182e+09\n Name: no enc, dtype: float64,\n train    3.177268e+08\n test     2.718939e+13\n Name: one-hot enc, dtype: float64]"
          },
          "metadata": {}
        }
      ],
      "execution_count": 33
    },
    {
      "cell_type": "code",
      "source": "# Assemble the results\nerror_df = pd.concat(error_df, axis=1)\nerror_df",
      "metadata": {
        "trusted": true
      },
      "outputs": [
        {
          "execution_count": 34,
          "output_type": "execute_result",
          "data": {
            "text/plain": "             no enc   one-hot enc\ntrain  1.131507e+09  3.177268e+08\ntest   1.372182e+09  2.718939e+13",
            "text/html": "<div>\n<style scoped>\n    .dataframe tbody tr th:only-of-type {\n        vertical-align: middle;\n    }\n\n    .dataframe tbody tr th {\n        vertical-align: top;\n    }\n\n    .dataframe thead th {\n        text-align: right;\n    }\n</style>\n<table border=\"1\" class=\"dataframe\">\n  <thead>\n    <tr style=\"text-align: right;\">\n      <th></th>\n      <th>no enc</th>\n      <th>one-hot enc</th>\n    </tr>\n  </thead>\n  <tbody>\n    <tr>\n      <th>train</th>\n      <td>1.131507e+09</td>\n      <td>3.177268e+08</td>\n    </tr>\n    <tr>\n      <th>test</th>\n      <td>1.372182e+09</td>\n      <td>2.718939e+13</td>\n    </tr>\n  </tbody>\n</table>\n</div>"
          },
          "metadata": {}
        }
      ],
      "execution_count": 34
    },
    {
      "cell_type": "markdown",
      "source": "Note that the error values on the one-hot encoded data are very different for the train and test data. In particular, the errors on the test data are much higher. Based on the lecture, this is because the one-hot encoded model is overfitting the data. We will learn how to deal with issues like this in the next lesson.\n",
      "metadata": {}
    },
    {
      "cell_type": "markdown",
      "source": "## Question 5\n\nFor each of the data sets (one-hot encoded and not encoded):\n\n* Scale the all the non-hot encoded values using one of the following: `StandardScaler`, `MinMaxScaler`, `MaxAbsScaler`.\n* Compare the error calculated on the test sets\n\nBe sure to calculate the skew (to decide if a transformation should be done) and fit the scaler on *ONLY* the training data, but then apply it to both the train and test data identically.\n",
      "metadata": {}
    },
    {
      "cell_type": "code",
      "source": "# Mute the setting wtih a copy warnings\npd.options.mode.chained_assignment = None",
      "metadata": {
        "trusted": true
      },
      "outputs": [],
      "execution_count": 35
    },
    {
      "cell_type": "code",
      "source": "from sklearn.preprocessing import StandardScaler, MinMaxScaler, MaxAbsScaler\n\nscalers = {'standard': StandardScaler(),\n           'minmax'  : MinMaxScaler(),\n           'maxabs'  : MaxAbsScaler()}\n\ntraining_test_sets = {'not_encoded'     : (X_train, y_train, X_test, y_test),\n                      'one_hot_encoded' : (X_train_ohc, y_train_ohc, X_test_ohc, y_test_ohc)}\n\n# Get the list of float columns, and the float data\n# so that we don't sale something we already scaled.\n# We're supposed to scale the original data each time.\n\nmask = X_train.dtypes == float\nfloat_columns = X_train.columns[mask]\n\n# initialize model\nLR = LinearRegression()\n\n# iterate over all possible combinations and get the errors\nerrors = {}",
      "metadata": {
        "trusted": true
      },
      "outputs": [],
      "execution_count": 36
    },
    {
      "cell_type": "code",
      "source": "training_test_sets.keys()",
      "metadata": {
        "trusted": true
      },
      "outputs": [
        {
          "execution_count": 37,
          "output_type": "execute_result",
          "data": {
            "text/plain": "dict_keys(['not_encoded', 'one_hot_encoded'])"
          },
          "metadata": {}
        }
      ],
      "execution_count": 37
    },
    {
      "cell_type": "code",
      "source": "scalers",
      "metadata": {
        "trusted": true
      },
      "outputs": [
        {
          "execution_count": 38,
          "output_type": "execute_result",
          "data": {
            "text/plain": "{'standard': StandardScaler(),\n 'minmax': MinMaxScaler(),\n 'maxabs': MaxAbsScaler()}"
          },
          "metadata": {}
        }
      ],
      "execution_count": 38
    },
    {
      "cell_type": "code",
      "source": "for encoding_label, (xtr, ytr, xte, yte) in training_test_sets.items():\n    print(encoding_label)\n    print('*' * 25)\n    for scaler_label, scaler in scalers.items():\n        print(scaler_label)\n        trainingset = xtr.copy() # copy because we don't want to scale this more than once\n        testset = xte.copy()\n        trainingset[float_columns] = scaler.fit_transform(trainingset[float_columns])\n        testset[float_columns] = scaler.transform(testset[float_columns])\n        LR.fit(trainingset, ytr)\n        predictions = LR.predict(testset)\n        key = encoding_label + ' - ' + scaler_label + 'scaling'\n        errors[key] = mean_squared_error(yte, predictions)\n",
      "metadata": {
        "trusted": true
      },
      "outputs": [
        {
          "name": "stdout",
          "text": "not_encoded\n*************************\nstandard\nminmax\nmaxabs\none_hot_encoded\n*************************\nstandard\nminmax\nmaxabs\n",
          "output_type": "stream"
        }
      ],
      "execution_count": 39
    },
    {
      "cell_type": "code",
      "source": "errors",
      "metadata": {
        "trusted": true
      },
      "outputs": [
        {
          "execution_count": 40,
          "output_type": "execute_result",
          "data": {
            "text/plain": "{'not_encoded - standardscaling': 1372182358.9345057,\n 'not_encoded - minmaxscaling': 1371742004.1910474,\n 'not_encoded - maxabsscaling': 1372020014.691451,\n 'one_hot_encoded - standardscaling': 8.028974682498415e+24,\n 'one_hot_encoded - minmaxscaling': 8065327607.247579,\n 'one_hot_encoded - maxabsscaling': 8065327607.245804}"
          },
          "metadata": {}
        }
      ],
      "execution_count": 40
    },
    {
      "cell_type": "code",
      "source": "pd.Series(errors)",
      "metadata": {
        "trusted": true
      },
      "outputs": [
        {
          "execution_count": 41,
          "output_type": "execute_result",
          "data": {
            "text/plain": "not_encoded - standardscaling        1.372182e+09\nnot_encoded - minmaxscaling          1.371742e+09\nnot_encoded - maxabsscaling          1.372020e+09\none_hot_encoded - standardscaling    8.028975e+24\none_hot_encoded - minmaxscaling      8.065328e+09\none_hot_encoded - maxabsscaling      8.065328e+09\ndtype: float64"
          },
          "metadata": {}
        }
      ],
      "execution_count": 41
    },
    {
      "cell_type": "code",
      "source": "errors = pd.Series(errors)\nprint(errors.to_string())\nprint('-' * 80)",
      "metadata": {
        "trusted": true
      },
      "outputs": [
        {
          "name": "stdout",
          "text": "not_encoded - standardscaling        1.372182e+09\nnot_encoded - minmaxscaling          1.371742e+09\nnot_encoded - maxabsscaling          1.372020e+09\none_hot_encoded - standardscaling    8.028975e+24\none_hot_encoded - minmaxscaling      8.065328e+09\none_hot_encoded - maxabsscaling      8.065328e+09\n--------------------------------------------------------------------------------\n",
          "output_type": "stream"
        }
      ],
      "execution_count": 42
    },
    {
      "cell_type": "code",
      "source": "for key, error_val in errors.items():\n    print(key, error_val)",
      "metadata": {
        "trusted": true
      },
      "outputs": [
        {
          "name": "stdout",
          "text": "not_encoded - standardscaling 1372182358.9345057\nnot_encoded - minmaxscaling 1371742004.1910474\nnot_encoded - maxabsscaling 1372020014.691451\none_hot_encoded - standardscaling 8.028974682498415e+24\none_hot_encoded - minmaxscaling 8065327607.247579\none_hot_encoded - maxabsscaling 8065327607.245804\n",
          "output_type": "stream"
        }
      ],
      "execution_count": 43
    },
    {
      "cell_type": "code",
      "source": "from sklearn.preprocessing import StandardScaler, MinMaxScaler, MaxAbsScaler\n\n\nscalers = {'standard': StandardScaler(),\n           'minmax': MinMaxScaler(),\n           'maxabs': MaxAbsScaler()}\n\ntraining_test_sets = {\n    'not_encoded': (X_train, y_train, X_test, y_test),\n    'one_hot_encoded': (X_train_ohc, y_train_ohc, X_test_ohc, y_test_ohc)}\n\n\n# Get the list of float columns, and the float data\n# so that we don't scale something we already scaled. \n# We're supposed to scale the original data each time\nmask = X_train.dtypes == float\nfloat_columns = X_train.columns[mask]\n\n# initialize model\nLR = LinearRegression()\n\n# iterate over all possible combinations and get the errors\nerrors = {}\nfor encoding_label, (_X_train, _y_train, _X_test, _y_test) in training_test_sets.items():\n    for scaler_label, scaler in scalers.items():\n        trainingset = _X_train.copy()  # copy because we dont want to scale this more than once.\n        testset = _X_test.copy()\n        trainingset[float_columns] = scaler.fit_transform(trainingset[float_columns])\n        testset[float_columns] = scaler.transform(testset[float_columns])\n        LR.fit(trainingset, _y_train)\n        predictions = LR.predict(testset)\n        key = encoding_label + ' - ' + scaler_label + 'scaling'\n        errors[key] = mean_squared_error(_y_test, predictions)\n\nerrors = pd.Series(errors)\nprint(errors.to_string())\nprint('-' * 80)\nfor key, error_val in errors.items():\n    print(key, error_val)",
      "metadata": {
        "trusted": true
      },
      "outputs": [
        {
          "name": "stdout",
          "text": "not_encoded - standardscaling        1.372182e+09\nnot_encoded - minmaxscaling          1.371742e+09\nnot_encoded - maxabsscaling          1.372020e+09\none_hot_encoded - standardscaling    8.028975e+24\none_hot_encoded - minmaxscaling      8.065328e+09\none_hot_encoded - maxabsscaling      8.065328e+09\n--------------------------------------------------------------------------------\nnot_encoded - standardscaling 1372182358.9345057\nnot_encoded - minmaxscaling 1371742004.1910474\nnot_encoded - maxabsscaling 1372020014.691451\none_hot_encoded - standardscaling 8.028974682498415e+24\none_hot_encoded - minmaxscaling 8065327607.247579\none_hot_encoded - maxabsscaling 8065327607.245804\n",
          "output_type": "stream"
        }
      ],
      "execution_count": 44
    },
    {
      "cell_type": "markdown",
      "source": "## Question 6\n\nPlot predictions vs actual for one of the models.\n",
      "metadata": {}
    },
    {
      "cell_type": "code",
      "source": "import matplotlib.pyplot as plt\nimport seaborn as sns",
      "metadata": {
        "trusted": true
      },
      "outputs": [],
      "execution_count": 45
    },
    {
      "cell_type": "code",
      "source": "sns.set_context('talk')\nsns.set_style('ticks')\nsns.set_palette('dark')",
      "metadata": {
        "trusted": true
      },
      "outputs": [],
      "execution_count": 46
    },
    {
      "cell_type": "code",
      "source": "ax = plt.axes()\n\n# use y_test, y_test_pred\nax.scatter(y_test, y_test_pred, alpha=.5)\n\nax.set(xlabel='Ground truth', \n       ylabel='Predictions',\n       title='Ames, Iowa House Price Predictions vs Truth, using Linear Regression');\n\nplt.tight_layout()\nplt.show()",
      "metadata": {
        "trusted": true
      },
      "outputs": [
        {
          "output_type": "display_data",
          "data": {
            "text/plain": "<Figure size 640x480 with 1 Axes>",
            "image/png": "[encoded data removed]"
          },
          "metadata": {}
        }
      ],
      "execution_count": 47
    },
    {
      "cell_type": "markdown",
      "source": "---\n### Machine Learning Foundation (C) 2020 IBM Corporation\n",
      "metadata": {}
    }
  ]
}