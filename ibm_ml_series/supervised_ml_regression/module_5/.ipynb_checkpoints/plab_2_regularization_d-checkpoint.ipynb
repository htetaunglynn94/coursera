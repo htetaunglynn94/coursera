{
  "metadata": {
    "kernelspec": {
      "name": "python",
      "display_name": "Python (Pyodide)",
      "language": "python"
    },
    "language_info": {
      "codemirror_mode": {
        "name": "python",
        "version": 3
      },
      "file_extension": ".py",
      "mimetype": "text/x-python",
      "name": "python",
      "nbconvert_exporter": "python",
      "pygments_lexer": "ipython3",
      "version": "3.8"
    },
    "prev_pub_hash": "c04a462d0df8b96d65cb3d5a3fb3a825548b3726460be6f51dbd23591fe0c571"
  },
  "nbformat_minor": 4,
  "nbformat": 4,
  "cells": [
    {
      "cell_type": "markdown",
      "source": "# Machine Learning Foundation\n\n## Section 2, Part e: Regularization LAB\n",
      "metadata": {}
    },
    {
      "cell_type": "markdown",
      "source": "## Learning objectives\n\nBy the end of this lesson, you will be able to:\n\n*   Implement data standardization\n*   Implement variants of regularized regression\n*   Combine data standardization with the train-test split procedure\n*   Implement regularization to prevent overfitting in regression problems\n",
      "metadata": {}
    },
    {
      "cell_type": "code",
      "source": "import piplite\nawait piplite.install(['tqdm', 'seaborn', 'pandas', 'numpy'])",
      "metadata": {
        "trusted": true
      },
      "outputs": [],
      "execution_count": 1
    },
    {
      "cell_type": "code",
      "source": "import numpy as np\nimport pandas as pd\nimport matplotlib.pyplot as plt\n%matplotlib inline\n\n\n# Surpress warnings:\ndef warn(*args, **kwargs):\n    pass\nimport warnings\nwarnings.warn = warn\n\nnp.set_printoptions(precision=3, suppress=True)",
      "metadata": {
        "trusted": true
      },
      "outputs": [
        {
          "name": "stderr",
          "output_type": "stream",
          "text": "Matplotlib is building the font cache; this may take a moment.\n"
        }
      ],
      "execution_count": 2
    },
    {
      "cell_type": "markdown",
      "source": "In the following cell we load the data and define some useful plotting functions.\n",
      "metadata": {}
    },
    {
      "cell_type": "code",
      "source": "np.random.seed(72018)\n\n\n\ndef to_2d(array):\n    return array.reshape(array.shape[0], -1)\n\n\n    \ndef plot_exponential_data():\n    data = np.exp(np.random.normal(size=1000))\n    plt.hist(data)\n    plt.show()\n    return data\n    \ndef plot_square_normal_data():\n    data = np.square(np.random.normal(loc=5, size=1000))\n    plt.hist(data)\n    plt.show()\n    return data",
      "metadata": {},
      "outputs": [],
      "execution_count": null
    },
    {
      "cell_type": "markdown",
      "source": "### Loading in Boston Data\n",
      "metadata": {}
    },
    {
      "cell_type": "code",
      "source": "import pyodide_http as ph\nph.patch_all()\nurl = \"https://cf-courses-data.s3.us.cloud-object-storage.appdomain.cloud/IBM-ML240EN-SkillsNetwork/labs/data/boston_housing_clean.pickle\"\ndata = pd.read_pickle(url)\nboston_data = data['dataframe']\nboston_data.head()",
      "metadata": {
        "trusted": true,
        "scrolled": true
      },
      "outputs": [
        {
          "execution_count": 3,
          "output_type": "execute_result",
          "data": {
            "text/plain": "      CRIM    ZN  INDUS  CHAS    NOX     RM   AGE     DIS  RAD    TAX  \\\n0  0.00632  18.0   2.31   0.0  0.538  6.575  65.2  4.0900  1.0  296.0   \n1  0.02731   0.0   7.07   0.0  0.469  6.421  78.9  4.9671  2.0  242.0   \n2  0.02729   0.0   7.07   0.0  0.469  7.185  61.1  4.9671  2.0  242.0   \n3  0.03237   0.0   2.18   0.0  0.458  6.998  45.8  6.0622  3.0  222.0   \n4  0.06905   0.0   2.18   0.0  0.458  7.147  54.2  6.0622  3.0  222.0   \n\n   PTRATIO       B  LSTAT  MEDV  \n0     15.3  396.90   4.98  24.0  \n1     17.8  396.90   9.14  21.6  \n2     17.8  392.83   4.03  34.7  \n3     18.7  394.63   2.94  33.4  \n4     18.7  396.90   5.33  36.2  ",
            "text/html": "<div>\n<style scoped>\n    .dataframe tbody tr th:only-of-type {\n        vertical-align: middle;\n    }\n\n    .dataframe tbody tr th {\n        vertical-align: top;\n    }\n\n    .dataframe thead th {\n        text-align: right;\n    }\n</style>\n<table border=\"1\" class=\"dataframe\">\n  <thead>\n    <tr style=\"text-align: right;\">\n      <th></th>\n      <th>CRIM</th>\n      <th>ZN</th>\n      <th>INDUS</th>\n      <th>CHAS</th>\n      <th>NOX</th>\n      <th>RM</th>\n      <th>AGE</th>\n      <th>DIS</th>\n      <th>RAD</th>\n      <th>TAX</th>\n      <th>PTRATIO</th>\n      <th>B</th>\n      <th>LSTAT</th>\n      <th>MEDV</th>\n    </tr>\n  </thead>\n  <tbody>\n    <tr>\n      <th>0</th>\n      <td>0.00632</td>\n      <td>18.0</td>\n      <td>2.31</td>\n      <td>0.0</td>\n      <td>0.538</td>\n      <td>6.575</td>\n      <td>65.2</td>\n      <td>4.0900</td>\n      <td>1.0</td>\n      <td>296.0</td>\n      <td>15.3</td>\n      <td>396.90</td>\n      <td>4.98</td>\n      <td>24.0</td>\n    </tr>\n    <tr>\n      <th>1</th>\n      <td>0.02731</td>\n      <td>0.0</td>\n      <td>7.07</td>\n      <td>0.0</td>\n      <td>0.469</td>\n      <td>6.421</td>\n      <td>78.9</td>\n      <td>4.9671</td>\n      <td>2.0</td>\n      <td>242.0</td>\n      <td>17.8</td>\n      <td>396.90</td>\n      <td>9.14</td>\n      <td>21.6</td>\n    </tr>\n    <tr>\n      <th>2</th>\n      <td>0.02729</td>\n      <td>0.0</td>\n      <td>7.07</td>\n      <td>0.0</td>\n      <td>0.469</td>\n      <td>7.185</td>\n      <td>61.1</td>\n      <td>4.9671</td>\n      <td>2.0</td>\n      <td>242.0</td>\n      <td>17.8</td>\n      <td>392.83</td>\n      <td>4.03</td>\n      <td>34.7</td>\n    </tr>\n    <tr>\n      <th>3</th>\n      <td>0.03237</td>\n      <td>0.0</td>\n      <td>2.18</td>\n      <td>0.0</td>\n      <td>0.458</td>\n      <td>6.998</td>\n      <td>45.8</td>\n      <td>6.0622</td>\n      <td>3.0</td>\n      <td>222.0</td>\n      <td>18.7</td>\n      <td>394.63</td>\n      <td>2.94</td>\n      <td>33.4</td>\n    </tr>\n    <tr>\n      <th>4</th>\n      <td>0.06905</td>\n      <td>0.0</td>\n      <td>2.18</td>\n      <td>0.0</td>\n      <td>0.458</td>\n      <td>7.147</td>\n      <td>54.2</td>\n      <td>6.0622</td>\n      <td>3.0</td>\n      <td>222.0</td>\n      <td>18.7</td>\n      <td>396.90</td>\n      <td>5.33</td>\n      <td>36.2</td>\n    </tr>\n  </tbody>\n</table>\n</div>"
          },
          "metadata": {}
        }
      ],
      "execution_count": 3
    },
    {
      "cell_type": "code",
      "source": "boston_description = data['description']\nprint(boston_description)",
      "metadata": {
        "trusted": true
      },
      "outputs": [
        {
          "name": "stdout",
          "output_type": "stream",
          "text": "Boston House Prices dataset\n===========================\n\nNotes\n------\nData Set Characteristics:  \n\n    :Number of Instances: 506 \n\n    :Number of Attributes: 13 numeric/categorical predictive\n    \n    :Median Value (attribute 14) is usually the target\n\n    :Attribute Information (in order):\n        - CRIM     per capita crime rate by town\n        - ZN       proportion of residential land zoned for lots over 25,000 sq.ft.\n        - INDUS    proportion of non-retail business acres per town\n        - CHAS     Charles River dummy variable (= 1 if tract bounds river; 0 otherwise)\n        - NOX      nitric oxides concentration (parts per 10 million)\n        - RM       average number of rooms per dwelling\n        - AGE      proportion of owner-occupied units built prior to 1940\n        - DIS      weighted distances to five Boston employment centres\n        - RAD      index of accessibility to radial highways\n        - TAX      full-value property-tax rate per $10,000\n        - PTRATIO  pupil-teacher ratio by town\n        - B        1000(Bk - 0.63)^2 where Bk is the proportion of blacks by town\n        - LSTAT    % lower status of the population\n        - MEDV     Median value of owner-occupied homes in $1000's\n\n    :Missing Attribute Values: None\n\n    :Creator: Harrison, D. and Rubinfeld, D.L.\n\nThis is a copy of UCI ML housing dataset.\nhttp://archive.ics.uci.edu/ml/datasets/Housing\n\n\nThis dataset was taken from the StatLib library which is maintained at Carnegie Mellon University.\n\nThe Boston house-price data of Harrison, D. and Rubinfeld, D.L. 'Hedonic\nprices and the demand for clean air', J. Environ. Economics & Management,\nvol.5, 81-102, 1978.   Used in Belsley, Kuh & Welsch, 'Regression diagnostics\n...', Wiley, 1980.   N.B. Various transformations are used in the table on\npages 244-261 of the latter.\n\nThe Boston house-price data has been used in many machine learning papers that address regression\nproblems.   \n     \n**References**\n\n   - Belsley, Kuh & Welsch, 'Regression diagnostics: Identifying Influential Data and Sources of Collinearity', Wiley, 1980. 244-261.\n   - Quinlan,R. (1993). Combining Instance-Based and Model-Based Learning. In Proceedings on the Tenth International Conference of Machine Learning, 236-243, University of Massachusetts, Amherst. Morgan Kaufmann.\n   - many more! (see http://archive.ics.uci.edu/ml/datasets/Housing)\n\n"
        }
      ],
      "execution_count": 4
    },
    {
      "cell_type": "markdown",
      "source": "## Data standardization\n",
      "metadata": {}
    },
    {
      "cell_type": "markdown",
      "source": "**Standardizing** data refers to transforming each variable so that it more closely follows a **standard** normal distribution, with mean 0 and standard deviation 1.\n\nThe [`StandardScaler`](http://scikit-learn.org/dev/modules/generated/sklearn.preprocessing.StandardScaler.html?utm_medium=Exinfluencer&utm_source=Exinfluencer&utm_content=000026UJ&utm_term=10006555&utm_id=NA-SkillsNetwork-Channel-SkillsNetworkCoursesIBMML240ENSkillsNetwork34171862-2022-01-01#sklearn.preprocessing.StandardScaler) object in SciKit Learn can do this.\n",
      "metadata": {}
    },
    {
      "cell_type": "markdown",
      "source": "**Generate X and y**:\n",
      "metadata": {}
    },
    {
      "cell_type": "code",
      "source": "y_col = \"MEDV\"\nX = boston_data.drop(y_col, axis=1)\ny = boston_data[y_col]",
      "metadata": {
        "trusted": true
      },
      "outputs": [],
      "execution_count": 4
    },
    {
      "cell_type": "markdown",
      "source": "**Import, fit, and transform using `StandardScaler`**\n",
      "metadata": {}
    },
    {
      "cell_type": "code",
      "source": "X.shape",
      "metadata": {
        "trusted": true,
        "scrolled": true
      },
      "outputs": [
        {
          "execution_count": 5,
          "output_type": "execute_result",
          "data": {
            "text/plain": "(506, 13)"
          },
          "metadata": {}
        }
      ],
      "execution_count": 5
    },
    {
      "cell_type": "code",
      "source": "from sklearn.preprocessing import StandardScaler\n\ns = StandardScaler()\nX_ss = s.fit_transform(X)\nX_ss[:5]",
      "metadata": {
        "trusted": true
      },
      "outputs": [
        {
          "execution_count": 6,
          "output_type": "execute_result",
          "data": {
            "text/plain": "array([[-0.418,  0.285, -1.288, -0.273, -0.144,  0.414, -0.12 ,  0.14 ,\n        -0.983, -0.667, -1.459,  0.441, -1.076],\n       [-0.415, -0.488, -0.593, -0.273, -0.74 ,  0.194,  0.367,  0.557,\n        -0.868, -0.987, -0.303,  0.441, -0.492],\n       [-0.415, -0.488, -0.593, -0.273, -0.74 ,  1.283, -0.266,  0.557,\n        -0.868, -0.987, -0.303,  0.396, -1.209],\n       [-0.415, -0.488, -1.307, -0.273, -0.835,  1.016, -0.81 ,  1.078,\n        -0.753, -1.106,  0.113,  0.416, -1.362],\n       [-0.41 , -0.488, -1.307, -0.273, -0.835,  1.229, -0.511,  1.078,\n        -0.753, -1.106,  0.113,  0.441, -1.027]])"
          },
          "metadata": {}
        }
      ],
      "execution_count": 6
    },
    {
      "cell_type": "code",
      "source": "# Recheck\npd.DataFrame(data=X_ss, columns=X.columns).head()",
      "metadata": {
        "trusted": true
      },
      "outputs": [
        {
          "execution_count": 7,
          "output_type": "execute_result",
          "data": {
            "text/plain": "       CRIM        ZN     INDUS      CHAS       NOX        RM       AGE  \\\n0 -0.417713  0.284830 -1.287909 -0.272599 -0.144217  0.413672 -0.120013   \n1 -0.415269 -0.487722 -0.593381 -0.272599 -0.740262  0.194274  0.367166   \n2 -0.415272 -0.487722 -0.593381 -0.272599 -0.740262  1.282714 -0.265812   \n3 -0.414680 -0.487722 -1.306878 -0.272599 -0.835284  1.016303 -0.809889   \n4 -0.410409 -0.487722 -1.306878 -0.272599 -0.835284  1.228577 -0.511180   \n\n        DIS       RAD       TAX   PTRATIO         B     LSTAT  \n0  0.140214 -0.982843 -0.666608 -1.459000  0.441052 -1.075562  \n1  0.557160 -0.867883 -0.987329 -0.303094  0.441052 -0.492439  \n2  0.557160 -0.867883 -0.987329 -0.303094  0.396427 -1.208727  \n3  1.077737 -0.752922 -1.106115  0.113032  0.416163 -1.361517  \n4  1.077737 -0.752922 -1.106115  0.113032  0.441052 -1.026501  ",
            "text/html": "<div>\n<style scoped>\n    .dataframe tbody tr th:only-of-type {\n        vertical-align: middle;\n    }\n\n    .dataframe tbody tr th {\n        vertical-align: top;\n    }\n\n    .dataframe thead th {\n        text-align: right;\n    }\n</style>\n<table border=\"1\" class=\"dataframe\">\n  <thead>\n    <tr style=\"text-align: right;\">\n      <th></th>\n      <th>CRIM</th>\n      <th>ZN</th>\n      <th>INDUS</th>\n      <th>CHAS</th>\n      <th>NOX</th>\n      <th>RM</th>\n      <th>AGE</th>\n      <th>DIS</th>\n      <th>RAD</th>\n      <th>TAX</th>\n      <th>PTRATIO</th>\n      <th>B</th>\n      <th>LSTAT</th>\n    </tr>\n  </thead>\n  <tbody>\n    <tr>\n      <th>0</th>\n      <td>-0.417713</td>\n      <td>0.284830</td>\n      <td>-1.287909</td>\n      <td>-0.272599</td>\n      <td>-0.144217</td>\n      <td>0.413672</td>\n      <td>-0.120013</td>\n      <td>0.140214</td>\n      <td>-0.982843</td>\n      <td>-0.666608</td>\n      <td>-1.459000</td>\n      <td>0.441052</td>\n      <td>-1.075562</td>\n    </tr>\n    <tr>\n      <th>1</th>\n      <td>-0.415269</td>\n      <td>-0.487722</td>\n      <td>-0.593381</td>\n      <td>-0.272599</td>\n      <td>-0.740262</td>\n      <td>0.194274</td>\n      <td>0.367166</td>\n      <td>0.557160</td>\n      <td>-0.867883</td>\n      <td>-0.987329</td>\n      <td>-0.303094</td>\n      <td>0.441052</td>\n      <td>-0.492439</td>\n    </tr>\n    <tr>\n      <th>2</th>\n      <td>-0.415272</td>\n      <td>-0.487722</td>\n      <td>-0.593381</td>\n      <td>-0.272599</td>\n      <td>-0.740262</td>\n      <td>1.282714</td>\n      <td>-0.265812</td>\n      <td>0.557160</td>\n      <td>-0.867883</td>\n      <td>-0.987329</td>\n      <td>-0.303094</td>\n      <td>0.396427</td>\n      <td>-1.208727</td>\n    </tr>\n    <tr>\n      <th>3</th>\n      <td>-0.414680</td>\n      <td>-0.487722</td>\n      <td>-1.306878</td>\n      <td>-0.272599</td>\n      <td>-0.835284</td>\n      <td>1.016303</td>\n      <td>-0.809889</td>\n      <td>1.077737</td>\n      <td>-0.752922</td>\n      <td>-1.106115</td>\n      <td>0.113032</td>\n      <td>0.416163</td>\n      <td>-1.361517</td>\n    </tr>\n    <tr>\n      <th>4</th>\n      <td>-0.410409</td>\n      <td>-0.487722</td>\n      <td>-1.306878</td>\n      <td>-0.272599</td>\n      <td>-0.835284</td>\n      <td>1.228577</td>\n      <td>-0.511180</td>\n      <td>1.077737</td>\n      <td>-0.752922</td>\n      <td>-1.106115</td>\n      <td>0.113032</td>\n      <td>0.441052</td>\n      <td>-1.026501</td>\n    </tr>\n  </tbody>\n</table>\n</div>"
          },
          "metadata": {}
        }
      ],
      "execution_count": 7
    },
    {
      "cell_type": "markdown",
      "source": "### Exercise:\n\nConfirm standard scaling\n",
      "metadata": {}
    },
    {
      "cell_type": "code",
      "source": "#Hint:\n\na = np.array([[1, 2, 3], \n              [4, 5, 6]]) \nprint(a) # 2 rows, 3 columns",
      "metadata": {
        "trusted": true
      },
      "outputs": [
        {
          "name": "stdout",
          "output_type": "stream",
          "text": "[[1 2 3]\n [4 5 6]]\n"
        }
      ],
      "execution_count": 8
    },
    {
      "cell_type": "code",
      "source": "a.mean(axis=0) # mean along the *columns*",
      "metadata": {
        "trusted": true
      },
      "outputs": [
        {
          "execution_count": 9,
          "output_type": "execute_result",
          "data": {
            "text/plain": "array([2.5, 3.5, 4.5])"
          },
          "metadata": {}
        }
      ],
      "execution_count": 9
    },
    {
      "cell_type": "code",
      "source": "a.mean(axis=1) # mean along the *rows*",
      "metadata": {
        "trusted": true
      },
      "outputs": [
        {
          "execution_count": 10,
          "output_type": "execute_result",
          "data": {
            "text/plain": "array([2., 5.])"
          },
          "metadata": {}
        }
      ],
      "execution_count": 10
    },
    {
      "cell_type": "code",
      "source": "### BEGIN SOLUTION\nX2 = np.array(X)\nman_transform = (X2-X2.mean(axis=0))/X2.std(axis=0)\nnp.allclose(man_transform, X_ss)\n### END SOLUTION",
      "metadata": {
        "trusted": true
      },
      "outputs": [
        {
          "execution_count": 11,
          "output_type": "execute_result",
          "data": {
            "text/plain": "True"
          },
          "metadata": {}
        }
      ],
      "execution_count": 11
    },
    {
      "cell_type": "markdown",
      "source": "### Coefficients with and without scaling\n",
      "metadata": {}
    },
    {
      "cell_type": "code",
      "source": "from sklearn.linear_model import LinearRegression",
      "metadata": {
        "trusted": true
      },
      "outputs": [],
      "execution_count": 12
    },
    {
      "cell_type": "code",
      "source": "lr = LinearRegression()\n\ny_col = \"MEDV\"\n\nX = boston_data.drop(y_col, axis=1)\ny = boston_data[y_col]",
      "metadata": {
        "trusted": true
      },
      "outputs": [],
      "execution_count": 13
    },
    {
      "cell_type": "code",
      "source": "lr.fit(X, y)\nprint(lr.coef_) # min = -18",
      "metadata": {
        "trusted": true,
        "scrolled": true
      },
      "outputs": [
        {
          "name": "stdout",
          "output_type": "stream",
          "text": "[ -0.107   0.046   0.021   2.689 -17.796   3.805   0.001  -1.476   0.306\n  -0.012  -0.953   0.009  -0.525]\n"
        }
      ],
      "execution_count": 14
    },
    {
      "cell_type": "code",
      "source": "np.sum(lr.coef_)",
      "metadata": {
        "trusted": true
      },
      "outputs": [
        {
          "execution_count": 15,
          "output_type": "execute_result",
          "data": {
            "text/plain": "np.float64(-13.993579615882936)"
          },
          "metadata": {}
        }
      ],
      "execution_count": 15
    },
    {
      "cell_type": "markdown",
      "source": "#### Discussion (together):\n\nThe coefficients are on widely different scales. Is this \"bad\"?\n",
      "metadata": {}
    },
    {
      "cell_type": "code",
      "source": "from sklearn.preprocessing import StandardScaler",
      "metadata": {
        "trusted": true
      },
      "outputs": [],
      "execution_count": 16
    },
    {
      "cell_type": "code",
      "source": "s = StandardScaler()\nX_ss = s.fit_transform(X)",
      "metadata": {
        "trusted": true
      },
      "outputs": [],
      "execution_count": 17
    },
    {
      "cell_type": "code",
      "source": "lr2 = LinearRegression()\nlr2.fit(X_ss, y)\nprint(lr2.coef_) # coefficients now \"on the same scale\"",
      "metadata": {
        "trusted": true
      },
      "outputs": [
        {
          "name": "stdout",
          "output_type": "stream",
          "text": "[-0.92   1.081  0.143  0.682 -2.06   2.671  0.021 -3.104  2.659 -2.076\n -2.062  0.857 -3.749]\n"
        }
      ],
      "execution_count": 18
    },
    {
      "cell_type": "code",
      "source": "np.sum(lr.coef_)",
      "metadata": {
        "trusted": true
      },
      "outputs": [
        {
          "execution_count": 19,
          "output_type": "execute_result",
          "data": {
            "text/plain": "np.float64(-13.993579615882936)"
          },
          "metadata": {}
        }
      ],
      "execution_count": 19
    },
    {
      "cell_type": "markdown",
      "source": "### Exercise:\n\nBased on these results, what is the most \"impactful\" feature (this is intended to be slightly ambiguous)? \"In what direction\" does it affect \"y\"?\n\n**Hint:** Recall from last week that we can \"zip up\" the names of the features of a DataFrame `df` with a model `model` fitted on that DataFrame using:\n\n```python\ndict(zip(df.columns.values, model.coef_))\n```\n",
      "metadata": {}
    },
    {
      "cell_type": "code",
      "source": "pd.DataFrame(zip(X.columns, lr2.coef_)).sort_values(by=1, ascending=False, key=abs)",
      "metadata": {
        "trusted": true
      },
      "outputs": [
        {
          "execution_count": 20,
          "output_type": "execute_result",
          "data": {
            "text/plain": "          0         1\n12    LSTAT -3.748680\n7       DIS -3.104448\n5        RM  2.670641\n8       RAD  2.658787\n9       TAX -2.075898\n10  PTRATIO -2.062156\n4       NOX -2.060092\n1        ZN  1.080981\n0      CRIM -0.920411\n11        B  0.856640\n3      CHAS  0.682203\n2     INDUS  0.142967\n6       AGE  0.021121",
            "text/html": "<div>\n<style scoped>\n    .dataframe tbody tr th:only-of-type {\n        vertical-align: middle;\n    }\n\n    .dataframe tbody tr th {\n        vertical-align: top;\n    }\n\n    .dataframe thead th {\n        text-align: right;\n    }\n</style>\n<table border=\"1\" class=\"dataframe\">\n  <thead>\n    <tr style=\"text-align: right;\">\n      <th></th>\n      <th>0</th>\n      <th>1</th>\n    </tr>\n  </thead>\n  <tbody>\n    <tr>\n      <th>12</th>\n      <td>LSTAT</td>\n      <td>-3.748680</td>\n    </tr>\n    <tr>\n      <th>7</th>\n      <td>DIS</td>\n      <td>-3.104448</td>\n    </tr>\n    <tr>\n      <th>5</th>\n      <td>RM</td>\n      <td>2.670641</td>\n    </tr>\n    <tr>\n      <th>8</th>\n      <td>RAD</td>\n      <td>2.658787</td>\n    </tr>\n    <tr>\n      <th>9</th>\n      <td>TAX</td>\n      <td>-2.075898</td>\n    </tr>\n    <tr>\n      <th>10</th>\n      <td>PTRATIO</td>\n      <td>-2.062156</td>\n    </tr>\n    <tr>\n      <th>4</th>\n      <td>NOX</td>\n      <td>-2.060092</td>\n    </tr>\n    <tr>\n      <th>1</th>\n      <td>ZN</td>\n      <td>1.080981</td>\n    </tr>\n    <tr>\n      <th>0</th>\n      <td>CRIM</td>\n      <td>-0.920411</td>\n    </tr>\n    <tr>\n      <th>11</th>\n      <td>B</td>\n      <td>0.856640</td>\n    </tr>\n    <tr>\n      <th>3</th>\n      <td>CHAS</td>\n      <td>0.682203</td>\n    </tr>\n    <tr>\n      <th>2</th>\n      <td>INDUS</td>\n      <td>0.142967</td>\n    </tr>\n    <tr>\n      <th>6</th>\n      <td>AGE</td>\n      <td>0.021121</td>\n    </tr>\n  </tbody>\n</table>\n</div>"
          },
          "metadata": {}
        }
      ],
      "execution_count": 20
    },
    {
      "cell_type": "markdown",
      "source": "Looking just at the strength of the standardized coefficients LSTAT, DIS, RM and RAD are all the 'most impactful'. Sklearn does not have built in statistical signifigance of each of these variables which would aid in making this claim stronger/weaker\n",
      "metadata": {}
    },
    {
      "cell_type": "markdown",
      "source": "### Lasso with and without scaling\n",
      "metadata": {}
    },
    {
      "cell_type": "markdown",
      "source": "We discussed Lasso in lecture.\n\nLet's review together:\n\n1.  What is different about Lasso vs. regular Linear Regression?\n2.  Is standardization more or less important with Lasso vs. Linear Regression? Why?\n",
      "metadata": {}
    },
    {
      "cell_type": "code",
      "source": "from sklearn.linear_model import Lasso\nfrom sklearn.preprocessing import PolynomialFeatures",
      "metadata": {
        "trusted": true
      },
      "outputs": [],
      "execution_count": 21
    },
    {
      "cell_type": "markdown",
      "source": "#### Create polynomial features\n",
      "metadata": {}
    },
    {
      "cell_type": "markdown",
      "source": "[`PolynomialFeatures`](http://scikit-learn.org/stable/modules/generated/sklearn.preprocessing.PolynomialFeatures.html?utm_medium=Exinfluencer&utm_source=Exinfluencer&utm_content=000026UJ&utm_term=10006555&utm_id=NA-SkillsNetwork-Channel-SkillsNetworkCoursesIBMML240ENSkillsNetwork34171862-2022-01-01)\n",
      "metadata": {}
    },
    {
      "cell_type": "code",
      "source": "# Polynomial Features >>> Standard Scaler\npf = PolynomialFeatures(degree=2, include_bias=False,)\nX_pf = pf.fit_transform(X)",
      "metadata": {
        "trusted": true
      },
      "outputs": [],
      "execution_count": 22
    },
    {
      "cell_type": "markdown",
      "source": "**Note:** We use `include_bias=False` since `Lasso` includes a bias by default.\n",
      "metadata": {}
    },
    {
      "cell_type": "code",
      "source": "X_pf_ss = s.fit_transform(X_pf)",
      "metadata": {
        "trusted": true
      },
      "outputs": [],
      "execution_count": 23
    },
    {
      "cell_type": "markdown",
      "source": "### Lasso\n",
      "metadata": {}
    },
    {
      "cell_type": "markdown",
      "source": "[`Lasso` documentation](http://scikit-learn.org/stable/modules/generated/sklearn.linear_model.Lasso.html?utm_medium=Exinfluencer&utm_source=Exinfluencer&utm_content=000026UJ&utm_term=10006555&utm_id=NA-SkillsNetwork-Channel-SkillsNetworkCoursesIBMML240ENSkillsNetwork34171862-2022-01-01)\n",
      "metadata": {}
    },
    {
      "cell_type": "code",
      "source": "las = Lasso()\nlas.fit(X_pf_ss, y)\nnp.sum(las.coef_) ",
      "metadata": {
        "trusted": true
      },
      "outputs": [
        {
          "execution_count": 24,
          "output_type": "execute_result",
          "data": {
            "text/plain": "np.float64(-0.8967378020435977)"
          },
          "metadata": {}
        }
      ],
      "execution_count": 24
    },
    {
      "cell_type": "code",
      "source": "# Test: Standard Scaler >>> Polynomial Features\nh = s.fit_transform(X)\na = pf.fit_transform(h)\nlas.fit(a, y)\nnp.sum(las.coef_)",
      "metadata": {
        "trusted": true
      },
      "outputs": [
        {
          "execution_count": 25,
          "output_type": "execute_result",
          "data": {
            "text/plain": "np.float64(-2.321113934287175)"
          },
          "metadata": {}
        }
      ],
      "execution_count": 25
    },
    {
      "cell_type": "markdown",
      "source": "**Note:**  \n(`Polynomial Features` --> `StandardScaler` --> `Lasso`) is better because Lasso regression works best when all features are on the same scale. If polynomial expansion happens first, scaling ensures that all polynomial terms contribute equally to the regularization process.",
      "metadata": {}
    },
    {
      "cell_type": "markdown",
      "source": "### Exercise\n\nCompare\n\n*   Sum of magnitudes of the coefficients\n*   Number of coefficients that are zero\n\nfor Lasso with alpha 0.1 vs. 1.\n\nBefore doing the exercise, answer the following questions in one sentence each:\n\n*   Which do you expect to have greater magnitude?\n*   Which do you expect to have more zeros?\n",
      "metadata": {}
    },
    {
      "cell_type": "code",
      "source": "### BEGIN SOLUTION\nlas01 = Lasso(alpha = 0.1)\nlas01.fit(X_pf_ss, y)\nprint('sum of coefficients:', abs(las01.coef_).sum() )\nprint('number of coefficients not equal to 0:', (las01.coef_!=0).sum())",
      "metadata": {
        "trusted": true
      },
      "outputs": [
        {
          "name": "stdout",
          "output_type": "stream",
          "text": "sum of coefficients: 26.172415115426773\nnumber of coefficients not equal to 0: 23\n"
        }
      ],
      "execution_count": 26
    },
    {
      "cell_type": "code",
      "source": "las1 = Lasso(alpha = 1)\nlas1.fit(X_pf_ss, y)\nprint('sum of coefficients:',abs(las1.coef_).sum() )\nprint('number of coefficients not equal to 0:',(las1.coef_!=0).sum())\n### END SOLUTION",
      "metadata": {
        "trusted": true,
        "scrolled": true
      },
      "outputs": [
        {
          "name": "stdout",
          "output_type": "stream",
          "text": "sum of coefficients: 8.472405227760156\nnumber of coefficients not equal to 0: 7\n"
        }
      ],
      "execution_count": 27
    },
    {
      "cell_type": "markdown",
      "source": "- Smaller α (0.1) → Less regularization, more nonzero coefficients.\n- Larger α (1) → Stronger regularization, fewer nonzero coefficients (more feature selection).",
      "metadata": {}
    },
    {
      "cell_type": "markdown",
      "source": "With more regularization (higher alpha) we will expect the penalty for higher weights to be greater and thus the coefficients to be pushed down. Thus a higher alpha means lower magnitude with more coefficients pushed down to 0.\n",
      "metadata": {}
    },
    {
      "cell_type": "markdown",
      "source": "### Exercise: $R^2$\n",
      "metadata": {}
    },
    {
      "cell_type": "markdown",
      "source": "Calculate the $R^2$ of each model without train/test split.\n\nRecall that we import $R^2$ using:\n\n```python\nfrom sklearn.metrics import r2_score\n```\n",
      "metadata": {}
    },
    {
      "cell_type": "code",
      "source": "from sklearn.metrics import r2_score\nr2_score(y,las.predict(X_pf_ss))",
      "metadata": {
        "trusted": true
      },
      "outputs": [
        {
          "execution_count": 28,
          "output_type": "execute_result",
          "data": {
            "text/plain": "0.6513089260815352"
          },
          "metadata": {}
        }
      ],
      "execution_count": 28
    },
    {
      "cell_type": "markdown",
      "source": "#### Discuss:\n\nWill regularization ever increase model performance if we evaluate on the same dataset that we trained on?\n",
      "metadata": {}
    },
    {
      "cell_type": "markdown",
      "source": "## With train/test split\n",
      "metadata": {}
    },
    {
      "cell_type": "markdown",
      "source": "#### Discuss\n\nAre there any issues with what we've done so far?\n\n**Hint:** Think about the way we have done feature scaling.\n\nDiscuss in groups of two or three.\n",
      "metadata": {}
    },
    {
      "cell_type": "code",
      "source": "from sklearn.model_selection import train_test_split",
      "metadata": {
        "trusted": true
      },
      "outputs": [],
      "execution_count": 29
    },
    {
      "cell_type": "code",
      "source": "X_train, X_test, y_train, y_test = train_test_split(X_pf, y, test_size=0.3, \n                                                    random_state=72018)",
      "metadata": {
        "trusted": true
      },
      "outputs": [],
      "execution_count": 30
    },
    {
      "cell_type": "code",
      "source": "X_train_s = s.fit_transform(X_train)\nlas.fit(X_train_s, y_train)      # alpha = 1\nX_test_s = s.transform(X_test)\ny_pred = las.predict(X_test_s)\nr2_score(y_test, y_pred)",
      "metadata": {
        "trusted": true
      },
      "outputs": [
        {
          "execution_count": 31,
          "output_type": "execute_result",
          "data": {
            "text/plain": "0.6780325981174933"
          },
          "metadata": {}
        }
      ],
      "execution_count": 31
    },
    {
      "cell_type": "code",
      "source": "X_train_s = s.fit_transform(X_train)\nlas01.fit(X_train_s, y_train)   # alpha = 0.1\nX_test_s = s.transform(X_test)\ny_pred = las01.predict(X_test_s)\nr2_score(y_test, y_pred)",
      "metadata": {
        "trusted": true
      },
      "outputs": [
        {
          "execution_count": 32,
          "output_type": "execute_result",
          "data": {
            "text/plain": "0.7999261342846065"
          },
          "metadata": {}
        }
      ],
      "execution_count": 32
    },
    {
      "cell_type": "markdown",
      "source": "### Exercise\n\n#### Part 1:\n\nDo the same thing with Lasso of:\n\n*   `alpha` of 0.001\n*   Increase `max_iter` to 100000 to ensure convergence.\n\nCalculate the $R^2$ of the model.\n\nFeel free to copy-paste code from above, but write a one sentence comment above each line of code explaining why you're doing what you're doing.\n\n#### Part 2:\n\nDo the same procedure as before, but with Linear Regression.\n\nCalculate the $R^2$ of this model.\n\n#### Part 3:\n\nCompare the sums of the absolute values of the coefficients for both models, as well as the number of coefficients that are zero. Based on these measures, which model is a \"simpler\" description of the relationship between the features and the target?\n",
      "metadata": {}
    },
    {
      "cell_type": "code",
      "source": "(s.fit_transform(X_test_s) == s.fit_transform(X_test_s)).any()",
      "metadata": {
        "trusted": true
      },
      "outputs": [
        {
          "execution_count": 40,
          "output_type": "execute_result",
          "data": {
            "text/plain": "np.True_"
          },
          "metadata": {}
        }
      ],
      "execution_count": 40
    },
    {
      "cell_type": "code",
      "source": "# fit and transform for scaling purpose\nX_train_s = s.fit_transform(X_train)\n\n# should use only \".transform\" for same scaling with the above one\nX_test_s = s.transform(X_test)     \n\n# Part 1\n# create Lasso model hyperparameters\nlasr = Lasso(alpha=0.001, max_iter=100000)  # Lasso Regression\n\n# fit the model\nlasr.fit(X_train_s, y_train)\n\n# prediction\ny_pred_lasr = lasr.predict(X_test_s)\nprint(\"R^2 score (Lasso):\", r2_score(y_test, y_pred_lasr))\n\n\n# Part 2\n# create Linear Regression model\nlr = LinearRegression()\n\n# fit the model\nlr.fit(X_train_s, y_train)\n\n# prediction\ny_pred_lr = lr.predict(X_test_s)\nprint(\"R^2 score (Linear):\",r2_score(y_test, y_pred_lr))\n\n# Part 3\nprint(\"Sum of coefficient (Lasso):\", abs(lasr.coef_).sum())\nprint(\"Sum of coefficient (Linear):\", abs(lr.coef_).sum())\nprint(\"No. of coefficients equal to zero (Lasso):\", (lasr.coef_ == 0).sum())\nprint(\"No. of coefficients equal to zero (Linear):\", (lr.coef_ == 0).sum())",
      "metadata": {
        "trusted": true,
        "scrolled": true
      },
      "outputs": [
        {
          "name": "stdout",
          "output_type": "stream",
          "text": "R^2 score (Lasso): 0.8847893236874534\nR^2 score (Linear): 0.8689110469231067\nSum of coefficient (Lasso): 435.5723229043781\nSum of coefficient (Linear): 1183.8918138675313\nNo. of coefficients equal to zero (Lasso): 14\nNo. of coefficients equal to zero (Linear): 0\n"
        }
      ],
      "execution_count": 43
    },
    {
      "cell_type": "code",
      "source": "### BEGIN SOLUTION\n\n# Part 1\n\n# Decreasing regularization and ensuring convergence\nlas001 = Lasso(alpha = 0.001, max_iter=100000)\n\n# Transforming training set to get standardized units\nX_train_s = s.fit_transform(X_train)\n\n# Fitting model to training set\nlas001.fit(X_train_s, y_train)\n\n# Transforming test set using the parameters defined from training set\nX_test_s = s.transform(X_test)\n\n# Finding prediction on test set\ny_pred = las001.predict(X_test_s)\n\n# Calculating r2 score\nprint(\"r2 score for alpha = 0.001:\", r2_score(y_test, y_pred))\n\n\n# Part 2\n\n# Using vanilla Linear Regression\nlr = LinearRegression()\n\n# Fitting model to training set\nlr.fit(X_train_s, y_train)\n\n# predicting on test set\ny_pred_lr = lr.predict(X_test_s)\n\n# Calculating r2 score\nprint(\"r2 score for Linear Regression:\", r2_score(y_test,y_pred_lr))\n\n\n# Part 3\nprint('Magnitude of Lasso coefficients:', abs(las001.coef_).sum())\nprint('Number of coeffients not equal to 0 for Lasso:', (las001.coef_!=0).sum())\n\nprint('Magnitude of Linear Regression coefficients:', abs(lr.coef_).sum())\nprint('Number of coeffients not equal to 0 for Linear Regression:', (lr.coef_!=0).sum())\n### END SOLUTION",
      "metadata": {
        "trusted": true
      },
      "outputs": [
        {
          "name": "stdout",
          "output_type": "stream",
          "text": "r2 score for alpha = 0.001: 0.8847893236874534\nr2 score for Linear Regression: 0.8689110469231067\nMagnitude of Lasso coefficients: 435.5723229043781\nNumber of coeffients not equal to 0 for Lasso: 90\nMagnitude of Linear Regression coefficients: 1183.8918138675313\nNumber of coeffients not equal to 0 for Linear Regression: 104\n"
        }
      ],
      "execution_count": 34
    },
    {
      "cell_type": "markdown",
      "source": "## L1 vs. L2 Regularization\n",
      "metadata": {}
    },
    {
      "cell_type": "markdown",
      "source": "As mentioned in the deck: `Lasso` and `Ridge` regression have the same syntax in SciKit Learn.\n\nNow we're going to compare the results from Ridge vs. Lasso regression:\n",
      "metadata": {}
    },
    {
      "cell_type": "markdown",
      "source": "[`Ridge`](http://scikit-learn.org/stable/modules/generated/sklearn.linear_model.Ridge.html?utm_medium=Exinfluencer&utm_source=Exinfluencer&utm_content=000026UJ&utm_term=10006555&utm_id=NA-SkillsNetwork-Channel-SkillsNetworkCoursesIBMML240ENSkillsNetwork34171862-2022-01-01)\n",
      "metadata": {}
    },
    {
      "cell_type": "code",
      "source": "from sklearn.linear_model import Ridge",
      "metadata": {
        "trusted": true
      },
      "outputs": [],
      "execution_count": 44
    },
    {
      "cell_type": "markdown",
      "source": "### Exercise\n\nFollowing the Ridge documentation from above:\n\n1.  Define a Ridge object `r` with the same `alpha` as `las001`.\n2.  Fit that object on `X` and `y` and print out the resulting coefficients.\n",
      "metadata": {}
    },
    {
      "cell_type": "code",
      "source": "# Decreasing regularization and ensuring convergence\nr = Ridge(alpha = 0.001)\nX_train_s = s.fit_transform(X_train)\nr.fit(X_train_s, y_train)\nX_test_s = s.transform(X_test)\ny_pred_r = r.predict(X_test_s)\n\n# Calculating r2 score\nr2_score(y_test, y_pred_r)\n### END SOLUTION",
      "metadata": {
        "trusted": true
      },
      "outputs": [
        {
          "execution_count": 45,
          "output_type": "execute_result",
          "data": {
            "text/plain": "0.8702996266542663"
          },
          "metadata": {}
        }
      ],
      "execution_count": 45
    },
    {
      "cell_type": "code",
      "source": "las001 # same alpha as Ridge above",
      "metadata": {
        "trusted": true
      },
      "outputs": [
        {
          "execution_count": 46,
          "output_type": "execute_result",
          "data": {
            "text/plain": "Lasso(alpha=0.001, max_iter=100000)",
            "text/html": "<style>#sk-container-id-1 {\n  /* Definition of color scheme common for light and dark mode */\n  --sklearn-color-text: black;\n  --sklearn-color-line: gray;\n  /* Definition of color scheme for unfitted estimators */\n  --sklearn-color-unfitted-level-0: #fff5e6;\n  --sklearn-color-unfitted-level-1: #f6e4d2;\n  --sklearn-color-unfitted-level-2: #ffe0b3;\n  --sklearn-color-unfitted-level-3: chocolate;\n  /* Definition of color scheme for fitted estimators */\n  --sklearn-color-fitted-level-0: #f0f8ff;\n  --sklearn-color-fitted-level-1: #d4ebff;\n  --sklearn-color-fitted-level-2: #b3dbfd;\n  --sklearn-color-fitted-level-3: cornflowerblue;\n\n  /* Specific color for light theme */\n  --sklearn-color-text-on-default-background: var(--sg-text-color, var(--theme-code-foreground, var(--jp-content-font-color1, black)));\n  --sklearn-color-background: var(--sg-background-color, var(--theme-background, var(--jp-layout-color0, white)));\n  --sklearn-color-border-box: var(--sg-text-color, var(--theme-code-foreground, var(--jp-content-font-color1, black)));\n  --sklearn-color-icon: #696969;\n\n  @media (prefers-color-scheme: dark) {\n    /* Redefinition of color scheme for dark theme */\n    --sklearn-color-text-on-default-background: var(--sg-text-color, var(--theme-code-foreground, var(--jp-content-font-color1, white)));\n    --sklearn-color-background: var(--sg-background-color, var(--theme-background, var(--jp-layout-color0, #111)));\n    --sklearn-color-border-box: var(--sg-text-color, var(--theme-code-foreground, var(--jp-content-font-color1, white)));\n    --sklearn-color-icon: #878787;\n  }\n}\n\n#sk-container-id-1 {\n  color: var(--sklearn-color-text);\n}\n\n#sk-container-id-1 pre {\n  padding: 0;\n}\n\n#sk-container-id-1 input.sk-hidden--visually {\n  border: 0;\n  clip: rect(1px 1px 1px 1px);\n  clip: rect(1px, 1px, 1px, 1px);\n  height: 1px;\n  margin: -1px;\n  overflow: hidden;\n  padding: 0;\n  position: absolute;\n  width: 1px;\n}\n\n#sk-container-id-1 div.sk-dashed-wrapped {\n  border: 1px dashed var(--sklearn-color-line);\n  margin: 0 0.4em 0.5em 0.4em;\n  box-sizing: border-box;\n  padding-bottom: 0.4em;\n  background-color: var(--sklearn-color-background);\n}\n\n#sk-container-id-1 div.sk-container {\n  /* jupyter's `normalize.less` sets `[hidden] { display: none; }`\n     but bootstrap.min.css set `[hidden] { display: none !important; }`\n     so we also need the `!important` here to be able to override the\n     default hidden behavior on the sphinx rendered scikit-learn.org.\n     See: https://github.com/scikit-learn/scikit-learn/issues/21755 */\n  display: inline-block !important;\n  position: relative;\n}\n\n#sk-container-id-1 div.sk-text-repr-fallback {\n  display: none;\n}\n\ndiv.sk-parallel-item,\ndiv.sk-serial,\ndiv.sk-item {\n  /* draw centered vertical line to link estimators */\n  background-image: linear-gradient(var(--sklearn-color-text-on-default-background), var(--sklearn-color-text-on-default-background));\n  background-size: 2px 100%;\n  background-repeat: no-repeat;\n  background-position: center center;\n}\n\n/* Parallel-specific style estimator block */\n\n#sk-container-id-1 div.sk-parallel-item::after {\n  content: \"\";\n  width: 100%;\n  border-bottom: 2px solid var(--sklearn-color-text-on-default-background);\n  flex-grow: 1;\n}\n\n#sk-container-id-1 div.sk-parallel {\n  display: flex;\n  align-items: stretch;\n  justify-content: center;\n  background-color: var(--sklearn-color-background);\n  position: relative;\n}\n\n#sk-container-id-1 div.sk-parallel-item {\n  display: flex;\n  flex-direction: column;\n}\n\n#sk-container-id-1 div.sk-parallel-item:first-child::after {\n  align-self: flex-end;\n  width: 50%;\n}\n\n#sk-container-id-1 div.sk-parallel-item:last-child::after {\n  align-self: flex-start;\n  width: 50%;\n}\n\n#sk-container-id-1 div.sk-parallel-item:only-child::after {\n  width: 0;\n}\n\n/* Serial-specific style estimator block */\n\n#sk-container-id-1 div.sk-serial {\n  display: flex;\n  flex-direction: column;\n  align-items: center;\n  background-color: var(--sklearn-color-background);\n  padding-right: 1em;\n  padding-left: 1em;\n}\n\n\n/* Toggleable style: style used for estimator/Pipeline/ColumnTransformer box that is\nclickable and can be expanded/collapsed.\n- Pipeline and ColumnTransformer use this feature and define the default style\n- Estimators will overwrite some part of the style using the `sk-estimator` class\n*/\n\n/* Pipeline and ColumnTransformer style (default) */\n\n#sk-container-id-1 div.sk-toggleable {\n  /* Default theme specific background. It is overwritten whether we have a\n  specific estimator or a Pipeline/ColumnTransformer */\n  background-color: var(--sklearn-color-background);\n}\n\n/* Toggleable label */\n#sk-container-id-1 label.sk-toggleable__label {\n  cursor: pointer;\n  display: block;\n  width: 100%;\n  margin-bottom: 0;\n  padding: 0.5em;\n  box-sizing: border-box;\n  text-align: center;\n}\n\n#sk-container-id-1 label.sk-toggleable__label-arrow:before {\n  /* Arrow on the left of the label */\n  content: \"▸\";\n  float: left;\n  margin-right: 0.25em;\n  color: var(--sklearn-color-icon);\n}\n\n#sk-container-id-1 label.sk-toggleable__label-arrow:hover:before {\n  color: var(--sklearn-color-text);\n}\n\n/* Toggleable content - dropdown */\n\n#sk-container-id-1 div.sk-toggleable__content {\n  max-height: 0;\n  max-width: 0;\n  overflow: hidden;\n  text-align: left;\n  /* unfitted */\n  background-color: var(--sklearn-color-unfitted-level-0);\n}\n\n#sk-container-id-1 div.sk-toggleable__content.fitted {\n  /* fitted */\n  background-color: var(--sklearn-color-fitted-level-0);\n}\n\n#sk-container-id-1 div.sk-toggleable__content pre {\n  margin: 0.2em;\n  border-radius: 0.25em;\n  color: var(--sklearn-color-text);\n  /* unfitted */\n  background-color: var(--sklearn-color-unfitted-level-0);\n}\n\n#sk-container-id-1 div.sk-toggleable__content.fitted pre {\n  /* unfitted */\n  background-color: var(--sklearn-color-fitted-level-0);\n}\n\n#sk-container-id-1 input.sk-toggleable__control:checked~div.sk-toggleable__content {\n  /* Expand drop-down */\n  max-height: 200px;\n  max-width: 100%;\n  overflow: auto;\n}\n\n#sk-container-id-1 input.sk-toggleable__control:checked~label.sk-toggleable__label-arrow:before {\n  content: \"▾\";\n}\n\n/* Pipeline/ColumnTransformer-specific style */\n\n#sk-container-id-1 div.sk-label input.sk-toggleable__control:checked~label.sk-toggleable__label {\n  color: var(--sklearn-color-text);\n  background-color: var(--sklearn-color-unfitted-level-2);\n}\n\n#sk-container-id-1 div.sk-label.fitted input.sk-toggleable__control:checked~label.sk-toggleable__label {\n  background-color: var(--sklearn-color-fitted-level-2);\n}\n\n/* Estimator-specific style */\n\n/* Colorize estimator box */\n#sk-container-id-1 div.sk-estimator input.sk-toggleable__control:checked~label.sk-toggleable__label {\n  /* unfitted */\n  background-color: var(--sklearn-color-unfitted-level-2);\n}\n\n#sk-container-id-1 div.sk-estimator.fitted input.sk-toggleable__control:checked~label.sk-toggleable__label {\n  /* fitted */\n  background-color: var(--sklearn-color-fitted-level-2);\n}\n\n#sk-container-id-1 div.sk-label label.sk-toggleable__label,\n#sk-container-id-1 div.sk-label label {\n  /* The background is the default theme color */\n  color: var(--sklearn-color-text-on-default-background);\n}\n\n/* On hover, darken the color of the background */\n#sk-container-id-1 div.sk-label:hover label.sk-toggleable__label {\n  color: var(--sklearn-color-text);\n  background-color: var(--sklearn-color-unfitted-level-2);\n}\n\n/* Label box, darken color on hover, fitted */\n#sk-container-id-1 div.sk-label.fitted:hover label.sk-toggleable__label.fitted {\n  color: var(--sklearn-color-text);\n  background-color: var(--sklearn-color-fitted-level-2);\n}\n\n/* Estimator label */\n\n#sk-container-id-1 div.sk-label label {\n  font-family: monospace;\n  font-weight: bold;\n  display: inline-block;\n  line-height: 1.2em;\n}\n\n#sk-container-id-1 div.sk-label-container {\n  text-align: center;\n}\n\n/* Estimator-specific */\n#sk-container-id-1 div.sk-estimator {\n  font-family: monospace;\n  border: 1px dotted var(--sklearn-color-border-box);\n  border-radius: 0.25em;\n  box-sizing: border-box;\n  margin-bottom: 0.5em;\n  /* unfitted */\n  background-color: var(--sklearn-color-unfitted-level-0);\n}\n\n#sk-container-id-1 div.sk-estimator.fitted {\n  /* fitted */\n  background-color: var(--sklearn-color-fitted-level-0);\n}\n\n/* on hover */\n#sk-container-id-1 div.sk-estimator:hover {\n  /* unfitted */\n  background-color: var(--sklearn-color-unfitted-level-2);\n}\n\n#sk-container-id-1 div.sk-estimator.fitted:hover {\n  /* fitted */\n  background-color: var(--sklearn-color-fitted-level-2);\n}\n\n/* Specification for estimator info (e.g. \"i\" and \"?\") */\n\n/* Common style for \"i\" and \"?\" */\n\n.sk-estimator-doc-link,\na:link.sk-estimator-doc-link,\na:visited.sk-estimator-doc-link {\n  float: right;\n  font-size: smaller;\n  line-height: 1em;\n  font-family: monospace;\n  background-color: var(--sklearn-color-background);\n  border-radius: 1em;\n  height: 1em;\n  width: 1em;\n  text-decoration: none !important;\n  margin-left: 1ex;\n  /* unfitted */\n  border: var(--sklearn-color-unfitted-level-1) 1pt solid;\n  color: var(--sklearn-color-unfitted-level-1);\n}\n\n.sk-estimator-doc-link.fitted,\na:link.sk-estimator-doc-link.fitted,\na:visited.sk-estimator-doc-link.fitted {\n  /* fitted */\n  border: var(--sklearn-color-fitted-level-1) 1pt solid;\n  color: var(--sklearn-color-fitted-level-1);\n}\n\n/* On hover */\ndiv.sk-estimator:hover .sk-estimator-doc-link:hover,\n.sk-estimator-doc-link:hover,\ndiv.sk-label-container:hover .sk-estimator-doc-link:hover,\n.sk-estimator-doc-link:hover {\n  /* unfitted */\n  background-color: var(--sklearn-color-unfitted-level-3);\n  color: var(--sklearn-color-background);\n  text-decoration: none;\n}\n\ndiv.sk-estimator.fitted:hover .sk-estimator-doc-link.fitted:hover,\n.sk-estimator-doc-link.fitted:hover,\ndiv.sk-label-container:hover .sk-estimator-doc-link.fitted:hover,\n.sk-estimator-doc-link.fitted:hover {\n  /* fitted */\n  background-color: var(--sklearn-color-fitted-level-3);\n  color: var(--sklearn-color-background);\n  text-decoration: none;\n}\n\n/* Span, style for the box shown on hovering the info icon */\n.sk-estimator-doc-link span {\n  display: none;\n  z-index: 9999;\n  position: relative;\n  font-weight: normal;\n  right: .2ex;\n  padding: .5ex;\n  margin: .5ex;\n  width: min-content;\n  min-width: 20ex;\n  max-width: 50ex;\n  color: var(--sklearn-color-text);\n  box-shadow: 2pt 2pt 4pt #999;\n  /* unfitted */\n  background: var(--sklearn-color-unfitted-level-0);\n  border: .5pt solid var(--sklearn-color-unfitted-level-3);\n}\n\n.sk-estimator-doc-link.fitted span {\n  /* fitted */\n  background: var(--sklearn-color-fitted-level-0);\n  border: var(--sklearn-color-fitted-level-3);\n}\n\n.sk-estimator-doc-link:hover span {\n  display: block;\n}\n\n/* \"?\"-specific style due to the `<a>` HTML tag */\n\n#sk-container-id-1 a.estimator_doc_link {\n  float: right;\n  font-size: 1rem;\n  line-height: 1em;\n  font-family: monospace;\n  background-color: var(--sklearn-color-background);\n  border-radius: 1rem;\n  height: 1rem;\n  width: 1rem;\n  text-decoration: none;\n  /* unfitted */\n  color: var(--sklearn-color-unfitted-level-1);\n  border: var(--sklearn-color-unfitted-level-1) 1pt solid;\n}\n\n#sk-container-id-1 a.estimator_doc_link.fitted {\n  /* fitted */\n  border: var(--sklearn-color-fitted-level-1) 1pt solid;\n  color: var(--sklearn-color-fitted-level-1);\n}\n\n/* On hover */\n#sk-container-id-1 a.estimator_doc_link:hover {\n  /* unfitted */\n  background-color: var(--sklearn-color-unfitted-level-3);\n  color: var(--sklearn-color-background);\n  text-decoration: none;\n}\n\n#sk-container-id-1 a.estimator_doc_link.fitted:hover {\n  /* fitted */\n  background-color: var(--sklearn-color-fitted-level-3);\n}\n</style><div id=\"sk-container-id-1\" class=\"sk-top-container\"><div class=\"sk-text-repr-fallback\"><pre>Lasso(alpha=0.001, max_iter=100000)</pre><b>In a Jupyter environment, please rerun this cell to show the HTML representation or trust the notebook. <br />On GitHub, the HTML representation is unable to render, please try loading this page with nbviewer.org.</b></div><div class=\"sk-container\" hidden><div class=\"sk-item\"><div class=\"sk-estimator fitted sk-toggleable\"><input class=\"sk-toggleable__control sk-hidden--visually\" id=\"sk-estimator-id-1\" type=\"checkbox\" checked><label for=\"sk-estimator-id-1\" class=\"sk-toggleable__label fitted sk-toggleable__label-arrow fitted\">&nbsp;&nbsp;Lasso<a class=\"sk-estimator-doc-link fitted\" rel=\"noreferrer\" target=\"_blank\" href=\"https://scikit-learn.org/1.5/modules/generated/sklearn.linear_model.Lasso.html\">?<span>Documentation for Lasso</span></a><span class=\"sk-estimator-doc-link fitted\">i<span>Fitted</span></span></label><div class=\"sk-toggleable__content fitted\"><pre>Lasso(alpha=0.001, max_iter=100000)</pre></div> </div></div></div></div>"
          },
          "metadata": {}
        }
      ],
      "execution_count": 46
    },
    {
      "cell_type": "code",
      "source": "las001.coef_",
      "metadata": {
        "trusted": true
      },
      "outputs": [
        {
          "execution_count": 47,
          "output_type": "execute_result",
          "data": {
            "text/plain": "array([  0.   ,   0.   , -17.008,   2.592,   0.   ,  13.431,  10.062,\n       -19.542,   9.237,   0.   ,   6.159,  17.087,  11.486,   1.208,\n         0.219,  10.827,   2.185,  -7.106,   4.312,  -1.526,  -2.092,\n        -9.669,   0.   ,   0.   ,  -1.177,   3.865,   0.378,   0.194,\n        -0.296,  -3.478,   0.291,   0.72 ,  -0.795,  -0.74 ,   2.407,\n        -0.892,   2.835,  -0.984,   3.864,  -0.963,   6.914,   6.2  ,\n         4.197,   0.892,   2.028,   2.608,  -3.975,   2.574,  -4.568,\n         2.086,  -2.   ,  -7.412,   1.604,   1.676,  -1.248,  -0.   ,\n        -0.   ,   2.576,  -0.851,   3.206,  -0.   ,  -2.429,   9.276,\n        -7.056,   0.   ,  -5.955,  -5.326,   0.531,   3.344,  -7.575,\n        -0.   ,  -6.762, -10.2  ,  -6.428,  -2.835,  -9.561,   0.288,\n         0.549,  11.094,  -6.731,  -1.161,  -2.301,  -3.555,   9.12 ,\n        -0.014,  -2.384,  -2.042,  -1.691,   0.798, -20.822,  27.09 ,\n         0.   ,  -1.527,  -6.793,  -5.084,  15.577,   0.   ,  -0.   ,\n         0.569,  -3.456,   2.458,  -2.501,  -2.223,   2.226])"
          },
          "metadata": {}
        }
      ],
      "execution_count": 47
    },
    {
      "cell_type": "code",
      "source": "print(np.sum(np.abs(r.coef_)))\nprint(np.sum(np.abs(las001.coef_)))\n\nprint(np.sum(r.coef_ != 0))\nprint(np.sum(las001.coef_ != 0))",
      "metadata": {
        "trusted": true
      },
      "outputs": [
        {
          "name": "stdout",
          "output_type": "stream",
          "text": "792.8673754993279\n435.5723229043781\n104\n90\n"
        }
      ],
      "execution_count": 48
    },
    {
      "cell_type": "markdown",
      "source": "**Conclusion:** Ridge does not make any coefficients 0. In addition, on this particular dataset, Lasso provides stronger overall regularization than Ridge for this value of `alpha` (not necessarily true in general).\n",
      "metadata": {}
    },
    {
      "cell_type": "code",
      "source": "y_pred = r.predict(X_pf_ss)\nprint(r2_score(y, y_pred))\n\ny_pred = las001.predict(X_pf_ss)\nprint(r2_score(y, y_pred))",
      "metadata": {
        "trusted": true
      },
      "outputs": [
        {
          "name": "stdout",
          "output_type": "stream",
          "text": "0.9076091395031429\n0.9103503442034472\n"
        }
      ],
      "execution_count": 49
    },
    {
      "cell_type": "markdown",
      "source": "**Conclusion**: Ignoring issues of overfitting, Ridge does slightly better than Lasso when `alpha` is set to 0.001 for each (not necessarily true in general).\n",
      "metadata": {}
    },
    {
      "cell_type": "markdown",
      "source": "# Example: Does it matter when you scale?\n",
      "metadata": {}
    },
    {
      "cell_type": "code",
      "source": "X_train, X_test, y_train, y_test = train_test_split(X_ss, y, test_size=0.3, \n                                                    random_state=72018)",
      "metadata": {
        "trusted": true
      },
      "outputs": [],
      "execution_count": 50
    },
    {
      "cell_type": "code",
      "source": "lr = LinearRegression()\nlr.fit(X_train, y_train)\ny_pred = lr.predict(X_test)\nr2_score(y_test, y_pred)",
      "metadata": {
        "trusted": true
      },
      "outputs": [
        {
          "execution_count": 51,
          "output_type": "execute_result",
          "data": {
            "text/plain": "0.6982083583132745"
          },
          "metadata": {}
        }
      ],
      "execution_count": 51
    },
    {
      "cell_type": "code",
      "source": "X_train, X_test, y_train, y_test = train_test_split(X, y, test_size=0.3, \n                                                    random_state=72018)",
      "metadata": {
        "trusted": true
      },
      "outputs": [],
      "execution_count": 52
    },
    {
      "cell_type": "code",
      "source": "s = StandardScaler()\nlr_s = LinearRegression()\nX_train_s = s.fit_transform(X_train)\nlr_s.fit(X_train_s, y_train)\nX_test_s = s.transform(X_test)\ny_pred_s = lr_s.predict(X_test_s)\nr2_score(y_test, y_pred)",
      "metadata": {
        "trusted": true
      },
      "outputs": [
        {
          "execution_count": 53,
          "output_type": "execute_result",
          "data": {
            "text/plain": "0.6982083583132745"
          },
          "metadata": {}
        }
      ],
      "execution_count": 53
    },
    {
      "cell_type": "markdown",
      "source": "**Conclusion:** It doesn't matter whether you scale before or afterwards, in terms of the raw predictions, for Linear Regression. However, it matters for other algorithms. Plus, as we'll see later, we can make scaling part of a `Pipeline`.\n",
      "metadata": {}
    },
    {
      "cell_type": "markdown",
      "source": "***\n\n### Machine Learning Foundation (C) 2020 IBM Corporation\n",
      "metadata": {}
    }
  ]
}